{
  "nbformat": 4,
  "nbformat_minor": 0,
  "metadata": {
    "kernelspec": {
      "name": "python3",
      "display_name": "Python 3"
    },
    "language_info": {
      "codemirror_mode": {
        "name": "ipython",
        "version": 3
      },
      "file_extension": ".py",
      "mimetype": "text/x-python",
      "name": "python",
      "nbconvert_exporter": "python",
      "pygments_lexer": "ipython3",
      "version": "3.7.3"
    },
    "pycharm": {
      "stem_cell": {
        "cell_type": "raw",
        "source": [],
        "metadata": {
          "collapsed": false
        }
      }
    },
    "colab": {
      "name": "Copia de Copia de Project1-mauro-knn.ipynb",
      "version": "0.3.2",
      "provenance": [],
      "collapsed_sections": [
        "gLH72SWmloNl"
      ],
      "toc_visible": true,
      "include_colab_link": true
    },
    "accelerator": "TPU"
  },
  "cells": [
    {
      "cell_type": "markdown",
      "metadata": {
        "id": "view-in-github",
        "colab_type": "text"
      },
      "source": [
        "<a href=\"https://colab.research.google.com/github/ngocbaosp/ML-Projects/blob/master/MLProject1_knn.ipynb\" target=\"_parent\"><img src=\"https://colab.research.google.com/assets/colab-badge.svg\" alt=\"Open In Colab\"/></a>"
      ]
    },
    {
      "cell_type": "markdown",
      "metadata": {
        "id": "j6Op6hGPloMR",
        "colab_type": "text"
      },
      "source": [
        "# Course: Machine Learning1 - kNN\n",
        "<div class=\"alert alert-block alert-info\">\n",
        "Project: 01 </br> </br>\n",
        "Team members\n",
        "<ul>\n",
        "<li>Mauro Travieso Pena</li>\n",
        "<li>Quoc Huy Luong</li>\n",
        "<li>Ngoc Bao Tran</li>\n",
        "<ul>\n",
        "</div>"
      ]
    },
    {
      "cell_type": "markdown",
      "metadata": {
        "id": "ljzw-Q_zloMW",
        "colab_type": "text"
      },
      "source": [
        "## Exploratory Data Analysis\n"
      ]
    },
    {
      "cell_type": "markdown",
      "metadata": {
        "id": "aFmA7EF4loMb",
        "colab_type": "text"
      },
      "source": [
        "\n",
        "### Context\n",
        "This data set contains information on user preference data from 73,516 users on 12,294 anime. Each user is able to add anime to their completed list and give it a rating and this data set is a compilation of those ratings.\n"
      ]
    },
    {
      "cell_type": "markdown",
      "metadata": {
        "id": "kcTUL-i0loMg",
        "colab_type": "text"
      },
      "source": [
        "### Content\n",
        "\n",
        "#### Anime.csv\n",
        "\n",
        "**anime_id** - myanimelist.net's unique id identifying an anime.\n",
        "\n",
        "**name** - full name of anime.\n",
        "\n",
        "**genre** - comma separated list of genres for this anime.\n",
        "\n",
        "**type** - movie, TV, OVA, etc.\n",
        "\n",
        "**episodes** - how many episodes in this show. (1 if movie).\n",
        "\n",
        "**rating** - average rating out of 10 for this anime.\n",
        "\n",
        "**members** - number of community members that are in this anime's \"group\"."
      ]
    },
    {
      "cell_type": "markdown",
      "metadata": {
        "id": "bJpTu4p_loMY",
        "colab_type": "text"
      },
      "source": [
        "\n",
        "##### Dataset reference: https://www.kaggle.com/CooperUnion/anime-recommendations-database?fbclid=IwAR3sXr48_xQHp8NgF9AyXuVf0RGwTkFw8bfkRoXda6zix9rQsevpya8JDOM#rating.csv\n"
      ]
    },
    {
      "cell_type": "markdown",
      "metadata": {
        "id": "Vzxkle-KloMi",
        "colab_type": "text"
      },
      "source": [
        "## Step 1 - Importing the DataFrame (CSV to DataFrame)"
      ]
    },
    {
      "cell_type": "markdown",
      "metadata": {
        "id": "Lh5qOmnuloMl",
        "colab_type": "text"
      },
      "source": [
        "### Libraries"
      ]
    },
    {
      "cell_type": "code",
      "metadata": {
        "id": "bQK-35Nm5-6C",
        "colab_type": "code",
        "colab": {}
      },
      "source": [
        "import pandas as pd\n",
        "import numpy as np\n",
        "import random as rnd\n",
        "import seaborn as sns\n",
        "import matplotlib.pyplot as plt\n",
        "%matplotlib inline\n",
        "from sklearn.decomposition import PCA\n",
        "from sklearn import preprocessing\n",
        "\n",
        "#%% md\n",
        "#### MyPCA\n",
        "#%%\n",
        "def myPCA(data,n):\n",
        "    pca = PCA(n_components=n)\n",
        "    pca.fit(data)\n",
        "    df = pca.transform(data)\n",
        "    PCA_Data = pd.DataFrame(df)\n",
        "    return PCA_Data\n",
        "\n",
        "#%% md\n",
        "#### myNormalize\n",
        "#%%\n",
        "def myNormalize(data):\n",
        "    min_max_scaler = preprocessing.MinMaxScaler()\n",
        "    Normalized_Data = min_max_scaler.fit_transform(data)\n",
        "    Normalized_Data = pd.DataFrame(Normalized_Data)\n",
        "    return Normalized_Data\n",
        "\n",
        "#%% md\n",
        "#### myEncode\n",
        "#%%\n",
        "def myEncode(data,col): \n",
        "    NewData_Encode = data.copy()\n",
        "    NewData_Encode = pd.get_dummies(NewData_Encode, columns=col, prefix = col)\n",
        "    return NewData_Encode\n",
        "\n",
        "\n",
        "#%% md\n",
        "#### myCleanAndTransformData\n",
        "#%%\n",
        "def myCleanAndTransformData(data):\n",
        "    \n",
        "    #Drop null rows\n",
        "    NewData = data.dropna()\n",
        "    #Remove unknown ata\n",
        "    NewData = NewData[NewData['episodes']!='Unknown']\n",
        "    #Add a new column rating class \n",
        "    NewData['Class']=1\n",
        "    # 1: High\n",
        "    # or 0: Low based on rating\n",
        "    NewData.loc[NewData['rating'] >= NewData['rating'].mean(), 'Class'] = 1\n",
        "    NewData.loc[NewData['rating'] < NewData['rating'].mean(), 'Class'] = 0\n",
        "    \n",
        "    #Split genre values into rows\n",
        "    NewData = pd.DataFrame(NewData.genre.str.split(',').tolist(), index=[NewData.anime_id,NewData.type,NewData.episodes,NewData.rating,NewData.members,NewData.Class]).stack()\n",
        "    NewData = NewData.reset_index([0,'anime_id','type','episodes','rating','members','Class'])\n",
        "    NewData.columns=['anime_id','type','episodes','rating','members','Class','genre']\n",
        "    \n",
        "    #Encode type feature: 6 unique values\n",
        "    NewData = myEncode(NewData,['type'])\n",
        " \n",
        "    #Encode genre feature: 82 unique values\n",
        "    NewData = myEncode(NewData,['genre'])\n",
        " \n",
        "     #Drop anmie_id,rating,Class\n",
        "    NewData = NewData.drop(['rating'],axis=1)\n",
        "    NewData = NewData.drop(columns=['anime_id'])\n",
        "    #NewData = NewData.drop(columns=['episodes'])  \n",
        "    \n",
        "    return NewData\n",
        "\n",
        "\n",
        "#%% md\n",
        "#### mySplitData\n",
        "#%%\n",
        "def mySplitData(X_Data,Y_Data,test_size,random_state):\n",
        "    from sklearn.model_selection import train_test_split\n",
        "    X_train, X_test, y_train, y_test = train_test_split(X_Data, Y_Data, test_size=test_size, random_state=random_state)\n",
        "    return X_train, X_test, y_train, y_test\n",
        "\n",
        "def mySplitDataByTrainSize(X_Data,Y_Data,train_size,random_state):\n",
        "    from sklearn.model_selection import train_test_split\n",
        "    X_train, X_test, y_train, y_test = train_test_split(X_Data, Y_Data, train_size=train_size, random_state=random_state)\n",
        "    X_train, X_test, y_train, y_test = mySplitData(X_train,y_train,0.33,random_state)\n",
        "    return X_train, X_test, y_train, y_test"
      ],
      "execution_count": 0,
      "outputs": []
    },
    {
      "cell_type": "markdown",
      "metadata": {
        "id": "vxnQcHGGloMv",
        "colab_type": "text"
      },
      "source": [
        "### Datasets\n"
      ]
    },
    {
      "cell_type": "code",
      "metadata": {
        "pycharm": {
          "is_executing": false,
          "name": "#%%\n"
        },
        "id": "4o-G_nF_loMy",
        "colab_type": "code",
        "colab": {}
      },
      "source": [
        "df = pd.read_csv('anime.csv')\n",
        "df.head()\n",
        "RawData = df.copy()"
      ],
      "execution_count": 0,
      "outputs": []
    },
    {
      "cell_type": "markdown",
      "metadata": {
        "id": "q2EwDh0FloM5",
        "colab_type": "text"
      },
      "source": [
        "## Checking the structure of the columns\n"
      ]
    },
    {
      "cell_type": "markdown",
      "metadata": {
        "id": "lctZ41Tz-qq-",
        "colab_type": "text"
      },
      "source": [
        "### Visualizing the number of colums and features' names associated to the dataset"
      ]
    },
    {
      "cell_type": "code",
      "metadata": {
        "pycharm": {
          "is_executing": false,
          "name": "#%%\n"
        },
        "id": "5F9r_p8mloM8",
        "colab_type": "code",
        "outputId": "ca3755be-0c4c-4e3a-aaaa-3d5419abc5ba",
        "colab": {
          "base_uri": "https://localhost:8080/",
          "height": 54
        }
      },
      "source": [
        "RawData.columns"
      ],
      "execution_count": 44,
      "outputs": [
        {
          "output_type": "execute_result",
          "data": {
            "text/plain": [
              "Index(['anime_id', 'name', 'genre', 'type', 'episodes', 'rating', 'members'], dtype='object')"
            ]
          },
          "metadata": {
            "tags": []
          },
          "execution_count": 44
        }
      ]
    },
    {
      "cell_type": "code",
      "metadata": {
        "pycharm": {
          "is_executing": false,
          "name": "#%%\n"
        },
        "id": "phUmAqTUloNE",
        "colab_type": "code",
        "outputId": "4d02bb29-04a2-4792-fab9-b039d7ed7a43",
        "colab": {
          "base_uri": "https://localhost:8080/",
          "height": 34
        }
      },
      "source": [
        "print(\"Dimensions of DataFrame: {}\".format(RawData.shape))"
      ],
      "execution_count": 45,
      "outputs": [
        {
          "output_type": "stream",
          "text": [
            "Dimensions of DataFrame: (12294, 7)\n"
          ],
          "name": "stdout"
        }
      ]
    },
    {
      "cell_type": "markdown",
      "metadata": {
        "id": "Zocnu03q-7p6",
        "colab_type": "text"
      },
      "source": [
        "### The Dataset counts on 12'294 rows, grouped in 7 columns."
      ]
    },
    {
      "cell_type": "markdown",
      "metadata": {
        "id": "fge-ba-DloNZ",
        "colab_type": "text"
      },
      "source": [
        "### Obtaining a sample of the associated data "
      ]
    },
    {
      "cell_type": "code",
      "metadata": {
        "pycharm": {
          "is_executing": false,
          "name": "#%%\n"
        },
        "id": "BoVlIVeSloNb",
        "colab_type": "code",
        "outputId": "605c12f2-6e8a-45b5-df70-97c2d3333a29",
        "colab": {
          "base_uri": "https://localhost:8080/",
          "height": 452
        }
      },
      "source": [
        "RawData.sample(5)"
      ],
      "execution_count": 46,
      "outputs": [
        {
          "output_type": "execute_result",
          "data": {
            "text/html": [
              "<div>\n",
              "<style scoped>\n",
              "    .dataframe tbody tr th:only-of-type {\n",
              "        vertical-align: middle;\n",
              "    }\n",
              "\n",
              "    .dataframe tbody tr th {\n",
              "        vertical-align: top;\n",
              "    }\n",
              "\n",
              "    .dataframe thead th {\n",
              "        text-align: right;\n",
              "    }\n",
              "</style>\n",
              "<table border=\"1\" class=\"dataframe\">\n",
              "  <thead>\n",
              "    <tr style=\"text-align: right;\">\n",
              "      <th></th>\n",
              "      <th>anime_id</th>\n",
              "      <th>name</th>\n",
              "      <th>genre</th>\n",
              "      <th>type</th>\n",
              "      <th>episodes</th>\n",
              "      <th>rating</th>\n",
              "      <th>members</th>\n",
              "    </tr>\n",
              "  </thead>\n",
              "  <tbody>\n",
              "    <tr>\n",
              "      <th>8201</th>\n",
              "      <td>33708</td>\n",
              "      <td>Baku Tech! Bakugan Gachi: Tokubetsu-hen</td>\n",
              "      <td>Action, Game, Shounen</td>\n",
              "      <td>ONA</td>\n",
              "      <td>1</td>\n",
              "      <td>5.93</td>\n",
              "      <td>111</td>\n",
              "    </tr>\n",
              "    <tr>\n",
              "      <th>10069</th>\n",
              "      <td>32851</td>\n",
              "      <td>Riding the Storm</td>\n",
              "      <td>Music</td>\n",
              "      <td>Music</td>\n",
              "      <td>1</td>\n",
              "      <td>3.49</td>\n",
              "      <td>67</td>\n",
              "    </tr>\n",
              "    <tr>\n",
              "      <th>2655</th>\n",
              "      <td>2490</td>\n",
              "      <td>One Piece: Mezase! Kaizoku Yakyuu Ou</td>\n",
              "      <td>Comedy, Fantasy, Shounen, Sports</td>\n",
              "      <td>Movie</td>\n",
              "      <td>1</td>\n",
              "      <td>7.20</td>\n",
              "      <td>20054</td>\n",
              "    </tr>\n",
              "    <tr>\n",
              "      <th>8967</th>\n",
              "      <td>26299</td>\n",
              "      <td>Inamuranohi</td>\n",
              "      <td>Drama, Historical, Kids</td>\n",
              "      <td>OVA</td>\n",
              "      <td>1</td>\n",
              "      <td>8.00</td>\n",
              "      <td>47</td>\n",
              "    </tr>\n",
              "    <tr>\n",
              "      <th>8026</th>\n",
              "      <td>30860</td>\n",
              "      <td>Koumon-teki Juuku Ketsujiru Juke</td>\n",
              "      <td>Comedy, Dementia, Music</td>\n",
              "      <td>Music</td>\n",
              "      <td>1</td>\n",
              "      <td>3.78</td>\n",
              "      <td>310</td>\n",
              "    </tr>\n",
              "  </tbody>\n",
              "</table>\n",
              "</div>"
            ],
            "text/plain": [
              "       anime_id                                     name  ... rating members\n",
              "8201      33708  Baku Tech! Bakugan Gachi: Tokubetsu-hen  ...   5.93     111\n",
              "10069     32851                         Riding the Storm  ...   3.49      67\n",
              "2655       2490     One Piece: Mezase! Kaizoku Yakyuu Ou  ...   7.20   20054\n",
              "8967      26299                              Inamuranohi  ...   8.00      47\n",
              "8026      30860         Koumon-teki Juuku Ketsujiru Juke  ...   3.78     310\n",
              "\n",
              "[5 rows x 7 columns]"
            ]
          },
          "metadata": {
            "tags": []
          },
          "execution_count": 46
        }
      ]
    },
    {
      "cell_type": "markdown",
      "metadata": {
        "id": "gLH72SWmloNl",
        "colab_type": "text"
      },
      "source": [
        "### It is appreciated the nature of the columns (Categorical and Numerical)."
      ]
    },
    {
      "cell_type": "markdown",
      "metadata": {
        "id": "DFK6_MPJloNn",
        "colab_type": "text"
      },
      "source": [
        "##Descriptive statistics summary of the variable of the dataset features "
      ]
    },
    {
      "cell_type": "code",
      "metadata": {
        "pycharm": {
          "is_executing": false,
          "name": "#%%\n"
        },
        "id": "2NyqHvKfloNp",
        "colab_type": "code",
        "outputId": "3eae7d1a-823f-421b-8852-42b37175ac85",
        "colab": {
          "base_uri": "https://localhost:8080/",
          "height": 156
        }
      },
      "source": [
        "print(RawData.dtypes)"
      ],
      "execution_count": 24,
      "outputs": [
        {
          "output_type": "stream",
          "text": [
            "anime_id      int64\n",
            "name         object\n",
            "genre        object\n",
            "type         object\n",
            "episodes     object\n",
            "rating      float64\n",
            "members       int64\n",
            "dtype: object\n"
          ],
          "name": "stdout"
        }
      ]
    },
    {
      "cell_type": "markdown",
      "metadata": {
        "id": "y6xTg8y0loN8",
        "colab_type": "text"
      },
      "source": [
        "### Number of unique values per feature"
      ]
    },
    {
      "cell_type": "code",
      "metadata": {
        "pycharm": {
          "is_executing": false,
          "name": "#%%\n"
        },
        "id": "Bo1Z6CphloN-",
        "colab_type": "code",
        "outputId": "7c689247-3798-41cd-e881-5296b659a127",
        "colab": {
          "base_uri": "https://localhost:8080/",
          "height": 156
        }
      },
      "source": [
        "RawData.nunique()"
      ],
      "execution_count": 25,
      "outputs": [
        {
          "output_type": "execute_result",
          "data": {
            "text/plain": [
              "anime_id    12294\n",
              "name        12292\n",
              "genre        3264\n",
              "type            6\n",
              "episodes      187\n",
              "rating        598\n",
              "members      6706\n",
              "dtype: int64"
            ]
          },
          "metadata": {
            "tags": []
          },
          "execution_count": 25
        }
      ]
    },
    {
      "cell_type": "markdown",
      "metadata": {
        "id": "27qnnE-TloNy",
        "colab_type": "text"
      },
      "source": [
        "### Number of total values per feature "
      ]
    },
    {
      "cell_type": "code",
      "metadata": {
        "pycharm": {
          "is_executing": false,
          "name": "#%%\n"
        },
        "id": "zAqayAemloN0",
        "colab_type": "code",
        "outputId": "a300538a-6c90-4453-e6e3-aa759a972bb1",
        "colab": {
          "base_uri": "https://localhost:8080/",
          "height": 225
        }
      },
      "source": [
        "RawData.info()"
      ],
      "execution_count": 26,
      "outputs": [
        {
          "output_type": "stream",
          "text": [
            "<class 'pandas.core.frame.DataFrame'>\n",
            "RangeIndex: 12294 entries, 0 to 12293\n",
            "Data columns (total 7 columns):\n",
            "anime_id    12294 non-null int64\n",
            "name        12294 non-null object\n",
            "genre       12232 non-null object\n",
            "type        12269 non-null object\n",
            "episodes    12294 non-null object\n",
            "rating      12064 non-null float64\n",
            "members     12294 non-null int64\n",
            "dtypes: float64(1), int64(2), object(4)\n",
            "memory usage: 672.4+ KB\n"
          ],
          "name": "stdout"
        }
      ]
    },
    {
      "cell_type": "markdown",
      "metadata": {
        "id": "amJtCUMl_z0o",
        "colab_type": "text"
      },
      "source": [
        "####When complete, every feature should contain a maximum of 12'294 of data. However, it can be seeing that some features doesn't reach that value. It indicates the pressence of missing values."
      ]
    },
    {
      "cell_type": "markdown",
      "metadata": {
        "id": "4YGdCn71loOF",
        "colab_type": "text"
      },
      "source": [
        "## Exploring the missing values"
      ]
    },
    {
      "cell_type": "code",
      "metadata": {
        "pycharm": {
          "is_executing": false,
          "name": "#%%\n"
        },
        "id": "HF2UydLCloOI",
        "colab_type": "code",
        "outputId": "9e88345d-f7f9-4701-a090-91346cbc95b9",
        "colab": {
          "base_uri": "https://localhost:8080/",
          "height": 384
        }
      },
      "source": [
        "missing = RawData.isnull().sum()\n",
        "missing = missing[missing > 0]\n",
        "missing.sort_values(inplace=True)\n",
        "missing.plot.bar().set_title(\"Missing Values by Feature\")\n",
        "missing.plot.bar().set_xlabel('Dataset Features')\n",
        "missing.plot.bar().set_ylabel('Missing Values')\n",
        "missing.head()"
      ],
      "execution_count": 27,
      "outputs": [
        {
          "output_type": "execute_result",
          "data": {
            "text/plain": [
              "type       25\n",
              "genre      62\n",
              "rating    230\n",
              "dtype: int64"
            ]
          },
          "metadata": {
            "tags": []
          },
          "execution_count": 27
        },
        {
          "output_type": "display_data",
          "data": {
            "image/png": "[encoded data removed]",
            "text/plain": [
              "<Figure size 432x288 with 1 Axes>"
            ]
          },
          "metadata": {
            "tags": []
          }
        }
      ]
    },
    {
      "cell_type": "markdown",
      "metadata": {
        "id": "RwCn0Be7Abeb",
        "colab_type": "text"
      },
      "source": [
        "\n",
        "####The category with most missing values is found in 'rating' followed by 'gender' and 'type' respectively."
      ]
    },
    {
      "cell_type": "markdown",
      "metadata": {
        "id": "wxM8ZtEKBMdf",
        "colab_type": "text"
      },
      "source": [
        "##Exploring the whole dataset statistically."
      ]
    },
    {
      "cell_type": "code",
      "metadata": {
        "pycharm": {
          "name": "#%%\n",
          "is_executing": false
        },
        "id": "7clKXTyBloOR",
        "colab_type": "code",
        "outputId": "8384ebd8-edcf-4b2e-958b-b8bb99675fea",
        "colab": {
          "base_uri": "https://localhost:8080/",
          "height": 300
        }
      },
      "source": [
        "RawData.describe()"
      ],
      "execution_count": 28,
      "outputs": [
        {
          "output_type": "execute_result",
          "data": {
            "text/html": [
              "<div>\n",
              "<style scoped>\n",
              "    .dataframe tbody tr th:only-of-type {\n",
              "        vertical-align: middle;\n",
              "    }\n",
              "\n",
              "    .dataframe tbody tr th {\n",
              "        vertical-align: top;\n",
              "    }\n",
              "\n",
              "    .dataframe thead th {\n",
              "        text-align: right;\n",
              "    }\n",
              "</style>\n",
              "<table border=\"1\" class=\"dataframe\">\n",
              "  <thead>\n",
              "    <tr style=\"text-align: right;\">\n",
              "      <th></th>\n",
              "      <th>anime_id</th>\n",
              "      <th>rating</th>\n",
              "      <th>members</th>\n",
              "    </tr>\n",
              "  </thead>\n",
              "  <tbody>\n",
              "    <tr>\n",
              "      <th>count</th>\n",
              "      <td>12294.000000</td>\n",
              "      <td>12064.000000</td>\n",
              "      <td>1.229400e+04</td>\n",
              "    </tr>\n",
              "    <tr>\n",
              "      <th>mean</th>\n",
              "      <td>14058.221653</td>\n",
              "      <td>6.473902</td>\n",
              "      <td>1.807134e+04</td>\n",
              "    </tr>\n",
              "    <tr>\n",
              "      <th>std</th>\n",
              "      <td>11455.294701</td>\n",
              "      <td>1.026746</td>\n",
              "      <td>5.482068e+04</td>\n",
              "    </tr>\n",
              "    <tr>\n",
              "      <th>min</th>\n",
              "      <td>1.000000</td>\n",
              "      <td>1.670000</td>\n",
              "      <td>5.000000e+00</td>\n",
              "    </tr>\n",
              "    <tr>\n",
              "      <th>25%</th>\n",
              "      <td>3484.250000</td>\n",
              "      <td>5.880000</td>\n",
              "      <td>2.250000e+02</td>\n",
              "    </tr>\n",
              "    <tr>\n",
              "      <th>50%</th>\n",
              "      <td>10260.500000</td>\n",
              "      <td>6.570000</td>\n",
              "      <td>1.550000e+03</td>\n",
              "    </tr>\n",
              "    <tr>\n",
              "      <th>75%</th>\n",
              "      <td>24794.500000</td>\n",
              "      <td>7.180000</td>\n",
              "      <td>9.437000e+03</td>\n",
              "    </tr>\n",
              "    <tr>\n",
              "      <th>max</th>\n",
              "      <td>34527.000000</td>\n",
              "      <td>10.000000</td>\n",
              "      <td>1.013917e+06</td>\n",
              "    </tr>\n",
              "  </tbody>\n",
              "</table>\n",
              "</div>"
            ],
            "text/plain": [
              "           anime_id        rating       members\n",
              "count  12294.000000  12064.000000  1.229400e+04\n",
              "mean   14058.221653      6.473902  1.807134e+04\n",
              "std    11455.294701      1.026746  5.482068e+04\n",
              "min        1.000000      1.670000  5.000000e+00\n",
              "25%     3484.250000      5.880000  2.250000e+02\n",
              "50%    10260.500000      6.570000  1.550000e+03\n",
              "75%    24794.500000      7.180000  9.437000e+03\n",
              "max    34527.000000     10.000000  1.013917e+06"
            ]
          },
          "metadata": {
            "tags": []
          },
          "execution_count": 28
        }
      ]
    },
    {
      "cell_type": "code",
      "metadata": {
        "pycharm": {
          "is_executing": false,
          "name": "#%%\n"
        },
        "id": "2cBJxfxHloOY",
        "colab_type": "code",
        "outputId": "83902f3f-50c3-4f9c-92c5-720f208b5b3f",
        "colab": {
          "base_uri": "https://localhost:8080/",
          "height": 173
        }
      },
      "source": [
        "RawData['anime_id'].describe()"
      ],
      "execution_count": 29,
      "outputs": [
        {
          "output_type": "execute_result",
          "data": {
            "text/plain": [
              "count    12294.000000\n",
              "mean     14058.221653\n",
              "std      11455.294701\n",
              "min          1.000000\n",
              "25%       3484.250000\n",
              "50%      10260.500000\n",
              "75%      24794.500000\n",
              "max      34527.000000\n",
              "Name: anime_id, dtype: float64"
            ]
          },
          "metadata": {
            "tags": []
          },
          "execution_count": 29
        }
      ]
    },
    {
      "cell_type": "code",
      "metadata": {
        "id": "CAIa9ZQJzAiz",
        "colab_type": "code",
        "colab": {
          "base_uri": "https://localhost:8080/",
          "height": 34
        },
        "outputId": "e9741522-7e56-4460-9cb6-88270d7b112b"
      },
      "source": [
        "RawData['anime_id'].unique()"
      ],
      "execution_count": 30,
      "outputs": [
        {
          "output_type": "execute_result",
          "data": {
            "text/plain": [
              "array([32281,  5114, 28977, ...,  5621,  6133, 26081])"
            ]
          },
          "metadata": {
            "tags": []
          },
          "execution_count": 30
        }
      ]
    },
    {
      "cell_type": "code",
      "metadata": {
        "pycharm": {
          "is_executing": false,
          "name": "#%%\n"
        },
        "id": "UExM2aFsloOh",
        "colab_type": "code",
        "outputId": "c5dc3df7-de71-4178-d2d7-105d7b902872",
        "colab": {
          "base_uri": "https://localhost:8080/",
          "height": 104
        }
      },
      "source": [
        "RawData['name'].describe()"
      ],
      "execution_count": 32,
      "outputs": [
        {
          "output_type": "execute_result",
          "data": {
            "text/plain": [
              "count                       12294\n",
              "unique                      12292\n",
              "top       Shi Wan Ge Leng Xiaohua\n",
              "freq                            2\n",
              "Name: name, dtype: object"
            ]
          },
          "metadata": {
            "tags": []
          },
          "execution_count": 32
        }
      ]
    },
    {
      "cell_type": "code",
      "metadata": {
        "id": "daCYkdeyzKHn",
        "colab_type": "code",
        "colab": {
          "base_uri": "https://localhost:8080/",
          "height": 86
        },
        "outputId": "e61afd08-a1e3-4fc4-80db-26f2284fcb18"
      },
      "source": [
        "RawData['name'].unique()"
      ],
      "execution_count": 33,
      "outputs": [
        {
          "output_type": "execute_result",
          "data": {
            "text/plain": [
              "array(['Kimi no Na wa.', 'Fullmetal Alchemist: Brotherhood', 'Gintama°',\n",
              "       ..., 'Violence Gekiga David no Hoshi',\n",
              "       'Violence Gekiga Shin David no Hoshi: Inma Densetsu',\n",
              "       'Yasuji no Pornorama: Yacchimae!!'], dtype=object)"
            ]
          },
          "metadata": {
            "tags": []
          },
          "execution_count": 33
        }
      ]
    },
    {
      "cell_type": "code",
      "metadata": {
        "pycharm": {
          "is_executing": false,
          "name": "#%%\n"
        },
        "id": "rfehZzyNloOp",
        "colab_type": "code",
        "outputId": "7dd224f5-78b2-4342-ebd7-93fd746e99cd",
        "colab": {
          "base_uri": "https://localhost:8080/",
          "height": 104
        }
      },
      "source": [
        "RawData['genre'].describe()"
      ],
      "execution_count": 34,
      "outputs": [
        {
          "output_type": "execute_result",
          "data": {
            "text/plain": [
              "count      12232\n",
              "unique      3264\n",
              "top       Hentai\n",
              "freq         823\n",
              "Name: genre, dtype: object"
            ]
          },
          "metadata": {
            "tags": []
          },
          "execution_count": 34
        }
      ]
    },
    {
      "cell_type": "code",
      "metadata": {
        "id": "HhxMm1x_zRgt",
        "colab_type": "code",
        "colab": {
          "base_uri": "https://localhost:8080/",
          "height": 104
        },
        "outputId": "c5e56bf6-a0af-460d-ff91-ab8c14e493f2"
      },
      "source": [
        "RawData['genre'].unique()"
      ],
      "execution_count": 35,
      "outputs": [
        {
          "output_type": "execute_result",
          "data": {
            "text/plain": [
              "array(['Drama, Romance, School, Supernatural',\n",
              "       'Action, Adventure, Drama, Fantasy, Magic, Military, Shounen',\n",
              "       'Action, Comedy, Historical, Parody, Samurai, Sci-Fi, Shounen',\n",
              "       ..., 'Hentai, Sports', 'Drama, Romance, School, Yuri',\n",
              "       'Hentai, Slice of Life'], dtype=object)"
            ]
          },
          "metadata": {
            "tags": []
          },
          "execution_count": 35
        }
      ]
    },
    {
      "cell_type": "code",
      "metadata": {
        "pycharm": {
          "is_executing": false,
          "name": "#%%\n"
        },
        "id": "Ux5UQrgOloOw",
        "colab_type": "code",
        "outputId": "451e4b15-275a-4f4f-d035-d09e49d3dbfc",
        "colab": {
          "base_uri": "https://localhost:8080/",
          "height": 104
        }
      },
      "source": [
        "RawData['type'].describe()"
      ],
      "execution_count": 36,
      "outputs": [
        {
          "output_type": "execute_result",
          "data": {
            "text/plain": [
              "count     12269\n",
              "unique        6\n",
              "top          TV\n",
              "freq       3787\n",
              "Name: type, dtype: object"
            ]
          },
          "metadata": {
            "tags": []
          },
          "execution_count": 36
        }
      ]
    },
    {
      "cell_type": "code",
      "metadata": {
        "id": "p-GPTYb6zXlE",
        "colab_type": "code",
        "colab": {
          "base_uri": "https://localhost:8080/",
          "height": 54
        },
        "outputId": "e5656e91-d893-4314-c217-6f65c95bc391"
      },
      "source": [
        "RawData['type'].unique()"
      ],
      "execution_count": 37,
      "outputs": [
        {
          "output_type": "execute_result",
          "data": {
            "text/plain": [
              "array(['Movie', 'TV', 'OVA', 'Special', 'Music', 'ONA', nan], dtype=object)"
            ]
          },
          "metadata": {
            "tags": []
          },
          "execution_count": 37
        }
      ]
    },
    {
      "cell_type": "code",
      "metadata": {
        "pycharm": {
          "is_executing": false,
          "name": "#%%\n"
        },
        "id": "xBnnVysjloO6",
        "colab_type": "code",
        "outputId": "b5653cc6-9444-49cb-958f-3ef7f34ce9d1",
        "colab": {
          "base_uri": "https://localhost:8080/",
          "height": 104
        }
      },
      "source": [
        "RawData['episodes'].describe()"
      ],
      "execution_count": 38,
      "outputs": [
        {
          "output_type": "execute_result",
          "data": {
            "text/plain": [
              "count     12294\n",
              "unique      187\n",
              "top           1\n",
              "freq       5677\n",
              "Name: episodes, dtype: object"
            ]
          },
          "metadata": {
            "tags": []
          },
          "execution_count": 38
        }
      ]
    },
    {
      "cell_type": "code",
      "metadata": {
        "id": "EVIYOgy_zb3u",
        "colab_type": "code",
        "colab": {
          "base_uri": "https://localhost:8080/",
          "height": 367
        },
        "outputId": "7308482e-dcaf-4bea-8cc1-d2bd3bb72342"
      },
      "source": [
        "RawData['episodes'].unique()"
      ],
      "execution_count": 39,
      "outputs": [
        {
          "output_type": "execute_result",
          "data": {
            "text/plain": [
              "array(['1', '64', '51', '24', '10', '148', '110', '13', '201', '25', '22',\n",
              "       '75', '4', '26', '12', '27', '43', '74', '37', '2', '11', '99',\n",
              "       'Unknown', '39', '101', '47', '50', '62', '33', '112', '23', '3',\n",
              "       '94', '6', '8', '14', '7', '40', '15', '203', '77', '291', '120',\n",
              "       '102', '96', '38', '79', '175', '103', '70', '153', '45', '5',\n",
              "       '21', '63', '52', '28', '145', '36', '69', '60', '178', '114',\n",
              "       '35', '61', '34', '109', '20', '9', '49', '366', '97', '48', '78',\n",
              "       '358', '155', '104', '113', '54', '167', '161', '42', '142', '31',\n",
              "       '373', '220', '46', '195', '17', '1787', '73', '147', '127', '16',\n",
              "       '19', '98', '150', '76', '53', '124', '29', '115', '224', '44',\n",
              "       '58', '93', '154', '92', '67', '172', '86', '30', '276', '59',\n",
              "       '72', '330', '41', '105', '128', '137', '56', '55', '65', '243',\n",
              "       '193', '18', '191', '180', '91', '192', '66', '182', '32', '164',\n",
              "       '100', '296', '694', '95', '68', '117', '151', '130', '87', '170',\n",
              "       '119', '84', '108', '156', '140', '331', '305', '300', '510',\n",
              "       '200', '88', '1471', '526', '143', '726', '136', '1818', '237',\n",
              "       '1428', '365', '163', '283', '71', '260', '199', '225', '312',\n",
              "       '240', '1306', '1565', '773', '1274', '90', '475', '263', '83',\n",
              "       '85', '1006', '80', '162', '132', '141', '125'], dtype=object)"
            ]
          },
          "metadata": {
            "tags": []
          },
          "execution_count": 39
        }
      ]
    },
    {
      "cell_type": "code",
      "metadata": {
        "pycharm": {
          "is_executing": false,
          "name": "#%%\n"
        },
        "id": "gUm34AKBloPA",
        "colab_type": "code",
        "outputId": "bd5c5a53-810f-4e04-f376-cc88bb16fc51",
        "colab": {
          "base_uri": "https://localhost:8080/",
          "height": 173
        }
      },
      "source": [
        "RawData['rating'].describe()"
      ],
      "execution_count": 40,
      "outputs": [
        {
          "output_type": "execute_result",
          "data": {
            "text/plain": [
              "count    12064.000000\n",
              "mean         6.473902\n",
              "std          1.026746\n",
              "min          1.670000\n",
              "25%          5.880000\n",
              "50%          6.570000\n",
              "75%          7.180000\n",
              "max         10.000000\n",
              "Name: rating, dtype: float64"
            ]
          },
          "metadata": {
            "tags": []
          },
          "execution_count": 40
        }
      ]
    },
    {
      "cell_type": "code",
      "metadata": {
        "id": "fMtnVdRuzgx9",
        "colab_type": "code",
        "colab": {
          "base_uri": "https://localhost:8080/",
          "height": 1000
        },
        "outputId": "624e4c27-1f4c-4b35-8bfa-a19f01c4d953"
      },
      "source": [
        "RawData['rating'].unique()"
      ],
      "execution_count": 41,
      "outputs": [
        {
          "output_type": "execute_result",
          "data": {
            "text/plain": [
              "array([ 9.37,  9.26,  9.25,  9.17,  9.16,  9.15,  9.13,  9.11,  9.1 ,\n",
              "        9.06,  9.05,  9.04,  8.98,  8.93,  8.92,  8.88,  8.84,  8.83,\n",
              "        8.82,  8.81,  8.8 ,  8.78,  8.77,  8.76,  8.75,  8.74,  8.73,\n",
              "        8.72,  8.71,  8.69,  8.68,  8.67,  8.66,  8.65,  8.64,  8.62,\n",
              "        8.61,  8.6 ,  8.59,  8.58,  8.57,  8.56,  8.55,  8.54,  8.53,\n",
              "        8.52,  8.51,  8.5 ,  8.49,  8.48,  8.47,  8.46,  8.45,  8.44,\n",
              "        8.43,  8.42,  8.41,  8.4 ,  8.39,  8.38,  8.37,  8.36,  8.35,\n",
              "        8.34,  8.33,  8.32,  8.31,  8.3 ,  8.29,  8.28,  8.27,  8.26,\n",
              "        8.25,  8.24,  8.23,  8.22,  8.21,  8.2 ,  8.19,  8.18,  8.17,\n",
              "        8.16,  8.15,  8.14,  8.13,  8.12,  8.11,  8.1 ,  8.09,  8.08,\n",
              "        8.07,  8.06,  8.05,  8.04,  8.03,  8.02,  8.01,  8.  ,  7.99,\n",
              "        7.98,  7.97,  7.96,  7.95,  7.94,  7.93,  7.92,  7.91,  7.9 ,\n",
              "        7.89,  7.88,  7.87,  7.86,  7.85,  7.84,  7.83,  7.82,  7.81,\n",
              "        7.8 ,  7.79,  7.78,  7.77,  7.76,  7.75,  7.74,  7.73,  7.72,\n",
              "        7.71,  7.7 ,  7.69,  7.68,  7.67,  7.66,  7.65,  7.64,  7.63,\n",
              "        7.62,  7.61,  7.6 ,  7.59,  7.58,  7.57,  7.56,  7.55,  7.54,\n",
              "        7.53,  7.52,  7.51,  7.5 ,  7.49,  7.48,  7.47,  7.46,  7.45,\n",
              "        7.44,  7.43,  7.42,  7.41,  7.4 ,  7.39,  7.38,  7.37,  7.36,\n",
              "        7.35,  7.34,  7.33,  7.32,  7.31,  7.3 ,  7.29,  7.28,  7.27,\n",
              "        7.25,  7.26,  7.24,  7.23,  7.22,  7.21,  7.2 ,  7.19,  7.18,\n",
              "        7.17,  7.16,  7.14,  7.15,  7.13,  7.12,  7.11,  7.1 ,  7.09,\n",
              "        7.08,  7.07,  7.06,  7.05,  7.04,  7.03,  7.02,  7.01,  7.  ,\n",
              "        6.99,  6.98,  6.97,  6.96,  6.95,  6.94,  6.93,  6.92,  6.91,\n",
              "        6.9 ,  6.89,  6.88,  6.87,  6.86,  6.85,  6.84,  6.83,  6.82,\n",
              "        6.81,  6.8 ,  6.79,  6.78,  6.75,  6.77,  6.76,  6.74,  6.73,\n",
              "        6.72,  6.71,  6.7 ,  6.69,  6.68,  6.67,  6.66,  6.65,  6.64,\n",
              "        6.63,  6.62,  6.61,  6.6 ,  6.59,  6.58,  6.57,  6.56,  6.55,\n",
              "        6.54,  6.53,  6.52,  6.51,  6.47,  6.5 ,  6.49,  6.48,  6.46,\n",
              "        6.45,  6.42,  6.44,  6.43,  6.39,  6.41,  6.4 ,  6.38,  6.37,\n",
              "        6.35,  6.36,  6.34,  6.33,  6.32,  6.31,  6.3 ,  6.29,  6.28,\n",
              "        6.27,  6.26,  6.25,  6.22,  6.24,  6.23,  6.21,  6.2 ,  6.19,\n",
              "        6.18,  6.17,  6.16,  6.15,  6.14,  6.13,  6.12,  6.1 ,  6.11,\n",
              "        6.09,  6.08,  6.06,  6.07,  6.05,  6.04,  6.03,  6.01,  6.02,\n",
              "        6.  ,  5.99,  5.98,  5.97,  5.96,  5.95,  5.94,  5.93,  5.92,\n",
              "        5.91,  5.89,  5.9 ,  5.88,  5.87,  5.86,  5.85,  5.84,  5.83,\n",
              "        5.82,  5.81,  5.8 ,  5.79,  5.78,  5.77,  5.76,  5.75,  5.74,\n",
              "        5.73,  5.72,  5.7 ,  5.71,  5.69,  5.68,  5.67,  5.66,  5.65,\n",
              "        5.64,  5.63,  5.62,  5.61,  5.6 ,  5.59,  5.58,  5.57,  5.56,\n",
              "        5.55,  5.53,  5.54,  5.52,  5.51,  5.5 ,  5.49,  5.48,  5.46,\n",
              "        5.47,  5.45,  5.44,  5.43,  5.42,  5.41,  5.4 ,  5.39,  5.38,\n",
              "        5.37,  5.36,  5.35,  5.34,  5.33,  5.32,  5.31,  5.3 ,  5.29,\n",
              "        5.28,  5.27,  5.26,  5.24,  5.25,  5.23,  5.22,  5.21,  5.2 ,\n",
              "        5.19,  5.14,  5.18,  5.17,  5.16,  5.15,  5.13,  5.11,  5.12,\n",
              "        5.1 ,  5.09,  5.07,  5.08,  5.06,  5.05,  5.04,  5.03,  5.02,\n",
              "        5.01,  5.  ,  4.99,  4.98,  4.97,  4.96,  4.95,  4.94,  4.93,\n",
              "        4.92,  4.91,  4.9 ,  4.89,  4.88,  4.84,  4.87,  4.86,  4.85,\n",
              "        4.83,  4.82,  4.81,  4.8 ,  4.79,  4.78,  4.77,  4.76,  4.75,\n",
              "        4.74,  4.73,  4.72,  4.71,  4.7 ,  4.69,  4.68,  4.66,  4.67,\n",
              "        4.65,  4.64,  4.63,  4.62,  4.6 ,  4.59,  4.58,  4.57,  4.56,\n",
              "        4.55,  4.54,  4.53,  4.52,  4.49,  4.5 ,  4.48,  4.46,  4.45,\n",
              "        4.44,  4.43,  4.42,  4.4 ,  4.39,  4.38,  4.36,  4.35,  4.34,\n",
              "        4.32,  4.31,  4.3 ,  4.28,  4.27,  4.26,  4.25,  4.24,  4.23,\n",
              "        4.22,  4.21,  4.19,  4.17,  4.16,  4.15,  4.11,  4.08,  4.04,\n",
              "        4.03,  4.02,  4.  ,  3.99,  3.98,  3.96,  3.91,  3.9 ,  3.88,\n",
              "        3.87,  3.86,  3.84,  3.83,  3.82,  3.8 ,  3.78,  3.76,  3.75,\n",
              "        3.74,  3.73,  3.71,  3.7 ,  3.68,  3.65,  3.63,  3.62,  3.6 ,\n",
              "        3.58,  3.59,  3.56,  3.47,  3.46,  3.41,  3.36,  3.33,  3.32,\n",
              "        3.27,  2.95,  2.93,  2.78,  2.67,  2.37,  2.14,  2.  ,  4.06,\n",
              "        4.18,  4.09,  3.67,  3.  ,  4.33,  3.89,  4.2 ,  3.61,  4.13,\n",
              "        3.11,  2.58,  4.29,  3.43,  3.57,  4.05,  4.51,  3.4 ,  3.79,\n",
              "        3.81,  3.92,  3.48,  3.38,  3.95,  4.61,  3.34,  3.02,  2.69,\n",
              "        3.5 ,  3.97,  3.85,   nan,  3.77,  3.53,  9.33,  4.14,  4.12,\n",
              "        3.2 ,  3.93,  3.52,  2.55,  9.  ,  2.97,  4.1 ,  3.39,  3.17,\n",
              "        9.5 ,  3.25,  2.8 ,  2.91,  2.75,  4.41,  3.72,  3.94,  1.67,\n",
              "        4.37,  3.69,  3.26,  3.49,  2.49,  2.84,  4.07,  3.35,  3.54,\n",
              "        3.21,  3.42,  9.6 ,  3.28, 10.  ,  3.51,  3.29,  2.72,  3.64,\n",
              "        2.98,  3.44,  1.92,  2.86,  3.14])"
            ]
          },
          "metadata": {
            "tags": []
          },
          "execution_count": 41
        }
      ]
    },
    {
      "cell_type": "code",
      "metadata": {
        "pycharm": {
          "is_executing": false,
          "name": "#%%\n"
        },
        "id": "beLSokmNloPI",
        "colab_type": "code",
        "outputId": "4af19f52-d65f-455e-880a-9b3a9013f154",
        "colab": {
          "base_uri": "https://localhost:8080/",
          "height": 173
        }
      },
      "source": [
        "RawData['members'].describe()"
      ],
      "execution_count": 42,
      "outputs": [
        {
          "output_type": "execute_result",
          "data": {
            "text/plain": [
              "count    1.229400e+04\n",
              "mean     1.807134e+04\n",
              "std      5.482068e+04\n",
              "min      5.000000e+00\n",
              "25%      2.250000e+02\n",
              "50%      1.550000e+03\n",
              "75%      9.437000e+03\n",
              "max      1.013917e+06\n",
              "Name: members, dtype: float64"
            ]
          },
          "metadata": {
            "tags": []
          },
          "execution_count": 42
        }
      ]
    },
    {
      "cell_type": "code",
      "metadata": {
        "id": "ZPmqISvkzlzg",
        "colab_type": "code",
        "colab": {
          "base_uri": "https://localhost:8080/",
          "height": 34
        },
        "outputId": "86c91815-6c96-4023-b911-24beda4044f1"
      },
      "source": [
        "RawData['members'].unique()"
      ],
      "execution_count": 43,
      "outputs": [
        {
          "output_type": "execute_result",
          "data": {
            "text/plain": [
              "array([200630, 793665, 114262, ...,  27411,  57355,    652])"
            ]
          },
          "metadata": {
            "tags": []
          },
          "execution_count": 43
        }
      ]
    },
    {
      "cell_type": "markdown",
      "metadata": {
        "colab_type": "text",
        "id": "AA4KDGep3Bao"
      },
      "source": [
        "## Dropping the rows with missing data ('Na')"
      ]
    },
    {
      "cell_type": "code",
      "metadata": {
        "pycharm": {
          "is_executing": false,
          "name": "#%%\n"
        },
        "colab_type": "code",
        "id": "Li6vHyde3BHQ",
        "colab": {}
      },
      "source": [
        "df = df.dropna()"
      ],
      "execution_count": 0,
      "outputs": []
    },
    {
      "cell_type": "code",
      "metadata": {
        "pycharm": {
          "is_executing": false,
          "name": "#%%\n"
        },
        "colab_type": "code",
        "id": "bV4FM01o3AND",
        "colab": {
          "base_uri": "https://localhost:8080/",
          "height": 173
        },
        "outputId": "22ff3769-a89e-4231-ad25-510c1fdbd6f6"
      },
      "source": [
        "\n",
        "df['rating'].describe()"
      ],
      "execution_count": 51,
      "outputs": [
        {
          "output_type": "execute_result",
          "data": {
            "text/plain": [
              "count    12017.000000\n",
              "mean         6.478264\n",
              "std          1.023857\n",
              "min          1.670000\n",
              "25%          5.890000\n",
              "50%          6.570000\n",
              "75%          7.180000\n",
              "max         10.000000\n",
              "Name: rating, dtype: float64"
            ]
          },
          "metadata": {
            "tags": []
          },
          "execution_count": 51
        }
      ]
    },
    {
      "cell_type": "markdown",
      "metadata": {
        "id": "k-fy-O1oloPn",
        "colab_type": "text"
      },
      "source": [
        "## Exploring the Numerical Features"
      ]
    },
    {
      "cell_type": "markdown",
      "metadata": {
        "id": "kpFVeuSuKN2d",
        "colab_type": "text"
      },
      "source": [
        "###Feature: **rating**"
      ]
    },
    {
      "cell_type": "code",
      "metadata": {
        "pycharm": {
          "is_executing": false,
          "name": "#%%\n"
        },
        "id": "8HYUc7y7loPn",
        "colab_type": "code",
        "outputId": "220399bf-b5f3-47da-e8c1-1517281ae9ab",
        "colab": {
          "base_uri": "https://localhost:8080/",
          "height": 173
        }
      },
      "source": [
        "RawData['rating'].describe()"
      ],
      "execution_count": 52,
      "outputs": [
        {
          "output_type": "execute_result",
          "data": {
            "text/plain": [
              "count    12064.000000\n",
              "mean         6.473902\n",
              "std          1.026746\n",
              "min          1.670000\n",
              "25%          5.880000\n",
              "50%          6.570000\n",
              "75%          7.180000\n",
              "max         10.000000\n",
              "Name: rating, dtype: float64"
            ]
          },
          "metadata": {
            "tags": []
          },
          "execution_count": 52
        }
      ]
    },
    {
      "cell_type": "code",
      "metadata": {
        "pycharm": {
          "is_executing": false,
          "name": "#%%\n"
        },
        "id": "gK2zMdtmloP3",
        "colab_type": "code",
        "outputId": "43bb1ca2-7f70-4cc7-eb9b-e8c93ed2a876",
        "colab": {
          "base_uri": "https://localhost:8080/",
          "height": 283
        }
      },
      "source": [
        "sns.distplot(df['rating']);"
      ],
      "execution_count": 54,
      "outputs": [
        {
          "output_type": "display_data",
          "data": {
            "image/png": "[encoded data removed]",
            "text/plain": [
              "<Figure size 432x288 with 1 Axes>"
            ]
          },
          "metadata": {
            "tags": []
          }
        }
      ]
    },
    {
      "cell_type": "code",
      "metadata": {
        "pycharm": {
          "is_executing": false,
          "name": "#%%\n"
        },
        "id": "UQeCx96ploP-",
        "colab_type": "code",
        "outputId": "14a6e81a-3660-4d3b-f7a1-a81d33216479",
        "colab": {
          "base_uri": "https://localhost:8080/",
          "height": 283
        }
      },
      "source": [
        "bplot = sns.boxplot(x='rating', \n",
        "                 data=df, \n",
        "                 width=0.5,\n",
        "                 palette=\"colorblind\")"
      ],
      "execution_count": 55,
      "outputs": [
        {
          "output_type": "display_data",
          "data": {
            "image/png": "[encoded data removed]",
            "text/plain": [
              "<Figure size 432x288 with 1 Axes>"
            ]
          },
          "metadata": {
            "tags": []
          }
        }
      ]
    },
    {
      "cell_type": "markdown",
      "metadata": {
        "id": "xndtO90VKaBV",
        "colab_type": "text"
      },
      "source": [
        "###Feature: **members**"
      ]
    },
    {
      "cell_type": "code",
      "metadata": {
        "pycharm": {
          "is_executing": false,
          "name": "#%%\n"
        },
        "id": "guzTqNymloQH",
        "colab_type": "code",
        "outputId": "9618fe70-c763-408b-b44a-841d96e94265",
        "colab": {
          "base_uri": "https://localhost:8080/",
          "height": 173
        }
      },
      "source": [
        "df['members'].describe()"
      ],
      "execution_count": 56,
      "outputs": [
        {
          "output_type": "execute_result",
          "data": {
            "text/plain": [
              "count    1.201700e+04\n",
              "mean     1.834888e+04\n",
              "std      5.537250e+04\n",
              "min      1.200000e+01\n",
              "25%      2.250000e+02\n",
              "50%      1.552000e+03\n",
              "75%      9.588000e+03\n",
              "max      1.013917e+06\n",
              "Name: members, dtype: float64"
            ]
          },
          "metadata": {
            "tags": []
          },
          "execution_count": 56
        }
      ]
    },
    {
      "cell_type": "code",
      "metadata": {
        "pycharm": {
          "is_executing": false,
          "name": "#%%\n"
        },
        "id": "YDmxgShEloQW",
        "colab_type": "code",
        "outputId": "ede36d66-2248-4154-c1d8-51314da658a8",
        "colab": {
          "base_uri": "https://localhost:8080/",
          "height": 283
        }
      },
      "source": [
        "sns.distplot(df['members']);"
      ],
      "execution_count": 57,
      "outputs": [
        {
          "output_type": "display_data",
          "data": {
            "image/png": "[encoded data removed]",
            "text/plain": [
              "<Figure size 432x288 with 1 Axes>"
            ]
          },
          "metadata": {
            "tags": []
          }
        }
      ]
    },
    {
      "cell_type": "code",
      "metadata": {
        "pycharm": {
          "is_executing": false,
          "name": "#%%\n"
        },
        "id": "vRh8pcPYloQb",
        "colab_type": "code",
        "outputId": "7129a922-25f1-46c4-edcc-d6d84a6e3971",
        "colab": {
          "base_uri": "https://localhost:8080/",
          "height": 283
        }
      },
      "source": [
        "bplot = sns.boxplot(x='members', \n",
        "                 data=df, \n",
        "                 width=0.5,\n",
        "                 palette=\"colorblind\")"
      ],
      "execution_count": 58,
      "outputs": [
        {
          "output_type": "display_data",
          "data": {
            "image/png": "[encoded data removed]",
            "text/plain": [
              "<Figure size 432x288 with 1 Axes>"
            ]
          },
          "metadata": {
            "tags": []
          }
        }
      ]
    },
    {
      "cell_type": "markdown",
      "metadata": {
        "id": "SNtdzfHxLBA4",
        "colab_type": "text"
      },
      "source": [
        "###Feature: **episodes**"
      ]
    },
    {
      "cell_type": "code",
      "metadata": {
        "pycharm": {
          "is_executing": false,
          "name": "#%%\n"
        },
        "id": "khUezx6LloQf",
        "colab_type": "code",
        "outputId": "1913570a-3f3d-471a-d927-c391871a5933",
        "colab": {
          "base_uri": "https://localhost:8080/",
          "height": 104
        }
      },
      "source": [
        "df['episodes'].describe()"
      ],
      "execution_count": 59,
      "outputs": [
        {
          "output_type": "execute_result",
          "data": {
            "text/plain": [
              "count     12017\n",
              "unique      187\n",
              "top           1\n",
              "freq       5571\n",
              "Name: episodes, dtype: object"
            ]
          },
          "metadata": {
            "tags": []
          },
          "execution_count": 59
        }
      ]
    },
    {
      "cell_type": "markdown",
      "metadata": {
        "id": "qPAW03DTCwsc",
        "colab_type": "text"
      },
      "source": [
        "### The Numerical feature 'episodes' is declared as an object and also, contains Categorical data which is required to  be removed from the rows in the dataset."
      ]
    },
    {
      "cell_type": "code",
      "metadata": {
        "pycharm": {
          "is_executing": false,
          "name": "#%%\n"
        },
        "id": "KpX9aoL3loQp",
        "colab_type": "code",
        "colab": {}
      },
      "source": [
        "df = df[df['episodes']!='Unknown']"
      ],
      "execution_count": 0,
      "outputs": []
    },
    {
      "cell_type": "code",
      "metadata": {
        "pycharm": {
          "is_executing": false,
          "name": "#%%\n"
        },
        "id": "6QL-GFhOloQu",
        "colab_type": "code",
        "outputId": "2ccd02e1-f93d-4107-de34-b23fcf496476",
        "colab": {
          "base_uri": "https://localhost:8080/",
          "height": 367
        }
      },
      "source": [
        "df['episodes'].unique()"
      ],
      "execution_count": 61,
      "outputs": [
        {
          "output_type": "execute_result",
          "data": {
            "text/plain": [
              "array(['1', '25', '52', '16', '12', '27', '26', '49', '47', '3', '6', '5',\n",
              "       '4', '46', '10', '2', '23', '13', '7', '24', '30', '110', '20',\n",
              "       '50', '22', '43', '51', '127', '72', '68', '39', '21', '9', '32',\n",
              "       '44', '260', '164', '11', '14', '77', '8', '37', '148', '15',\n",
              "       '178', '19', '151', '74', '56', '36', '40', '38', '35', '45', '63',\n",
              "       '62', '94', '61', '143', '170', '84', '71', '225', '29', '130',\n",
              "       '48', '80', '42', '17', '1565', '53', '140', '60', '263', '100',\n",
              "       '101', '41', '1306', '180', '312', '365', '1274', '64', '75',\n",
              "       '109', '18', '1471', '182', '79', '104', '115', '33', '28', '108',\n",
              "       '119', '103', '141', '1818', '283', '142', '330', '199', '773',\n",
              "       '99', '69', '54', '136', '59', '78', '243', '358', '66', '70',\n",
              "       '96', '120', '117', '95', '373', '86', '475', '240', '237', '694',\n",
              "       '88', '34', '85', '90', '526', '510', '132', '31', '305', '65',\n",
              "       '296', '161', '200', '331', '153', '102', '76', '112', '300',\n",
              "       '1428', '1006', '114', '83', '156', '125', '55', '73', '98', '97',\n",
              "       '224', '113', '137', '150', '162', '195', '105', '1787', '726',\n",
              "       '91', '87', '172', '128', '163', '58', '154', '92', '366', '203',\n",
              "       '145', '220', '201', '124', '193', '155', '67', '147', '291',\n",
              "       '175', '192', '276', '191', '93', '167'], dtype=object)"
            ]
          },
          "metadata": {
            "tags": []
          },
          "execution_count": 61
        }
      ]
    },
    {
      "cell_type": "markdown",
      "metadata": {
        "pycharm": {
          "name": "#%% md\n"
        },
        "id": "KqCW-PK2loQz",
        "colab_type": "text"
      },
      "source": [
        "### Now, the feature can be converted from object (Categorical) to int (Numerical), and explored.\n",
        "\n",
        "https://stackoverflow.com/questions/48094854/python-convert-object-to-float"
      ]
    },
    {
      "cell_type": "code",
      "metadata": {
        "pycharm": {
          "is_executing": false,
          "name": "#%%\n"
        },
        "id": "i-b8HLMgloQ0",
        "colab_type": "code",
        "colab": {}
      },
      "source": [
        "df['episodes'] = df.episodes.astype(int)"
      ],
      "execution_count": 0,
      "outputs": []
    },
    {
      "cell_type": "code",
      "metadata": {
        "pycharm": {
          "is_executing": false,
          "name": "#%%\n"
        },
        "id": "Ty6p-AP8loQ3",
        "colab_type": "code",
        "outputId": "cfe628ca-b908-45cf-dc8e-92ea619b6237",
        "colab": {
          "base_uri": "https://localhost:8080/",
          "height": 283
        }
      },
      "source": [
        "sns.distplot(df['episodes']);"
      ],
      "execution_count": 63,
      "outputs": [
        {
          "output_type": "display_data",
          "data": {
            "image/png": "[encoded data removed]",
            "text/plain": [
              "<Figure size 432x288 with 1 Axes>"
            ]
          },
          "metadata": {
            "tags": []
          }
        }
      ]
    },
    {
      "cell_type": "code",
      "metadata": {
        "pycharm": {
          "is_executing": false,
          "name": "#%%\n"
        },
        "id": "87V97XhqloQ9",
        "colab_type": "code",
        "outputId": "a68e05b1-f927-4954-83c8-a70c3717325f",
        "colab": {
          "base_uri": "https://localhost:8080/",
          "height": 283
        }
      },
      "source": [
        "bplot = sns.boxplot(x='episodes', \n",
        "                 data=df, \n",
        "                 width=0.5,\n",
        "                 palette=\"colorblind\")"
      ],
      "execution_count": 64,
      "outputs": [
        {
          "output_type": "display_data",
          "data": {
            "image/png": "[encoded data removed]",
            "text/plain": [
              "<Figure size 432x288 with 1 Axes>"
            ]
          },
          "metadata": {
            "tags": []
          }
        }
      ]
    },
    {
      "cell_type": "markdown",
      "metadata": {
        "id": "nnkKgCIUEAUU",
        "colab_type": "text"
      },
      "source": [
        "### Besides, the Numerical Features statistical behavior is observed."
      ]
    },
    {
      "cell_type": "code",
      "metadata": {
        "pycharm": {
          "is_executing": false,
          "name": "#%%\n"
        },
        "id": "JCv6SZghloRB",
        "colab_type": "code",
        "outputId": "6b0c8bd6-47b7-4802-ec50-8bfa73ee0e82",
        "colab": {
          "base_uri": "https://localhost:8080/",
          "height": 34
        }
      },
      "source": [
        "print(\"Skewness Episodes: %f\" % df['episodes'].skew())"
      ],
      "execution_count": 65,
      "outputs": [
        {
          "output_type": "stream",
          "text": [
            "Skewness Episodes: 23.277143\n"
          ],
          "name": "stdout"
        }
      ]
    },
    {
      "cell_type": "code",
      "metadata": {
        "pycharm": {
          "is_executing": false,
          "name": "#%%\n"
        },
        "id": "CjAJZ-5wloRF",
        "colab_type": "code",
        "outputId": "e7b29452-e079-41b9-e4d2-73b08b44ae23",
        "colab": {
          "base_uri": "https://localhost:8080/",
          "height": 34
        }
      },
      "source": [
        "print(\"Skewness Rating: %f\" % df['rating'].skew())"
      ],
      "execution_count": 66,
      "outputs": [
        {
          "output_type": "stream",
          "text": [
            "Skewness Rating: -0.538142\n"
          ],
          "name": "stdout"
        }
      ]
    },
    {
      "cell_type": "code",
      "metadata": {
        "pycharm": {
          "is_executing": false,
          "name": "#%%\n"
        },
        "id": "Fu5fC-mfloRK",
        "colab_type": "code",
        "outputId": "c3fe533e-c7be-4cc5-cfc2-fa0ccb89b0a8",
        "colab": {
          "base_uri": "https://localhost:8080/",
          "height": 34
        }
      },
      "source": [
        "print(\"Skewness Members: %f\" % df['members'].skew())"
      ],
      "execution_count": 67,
      "outputs": [
        {
          "output_type": "stream",
          "text": [
            "Skewness Members: 6.588423\n"
          ],
          "name": "stdout"
        }
      ]
    },
    {
      "cell_type": "markdown",
      "metadata": {
        "pycharm": {
          "name": "#%% md\n"
        },
        "id": "Mnxp6AS1loRP",
        "colab_type": "text"
      },
      "source": [
        "### Negative values for the skewness indicate data that are skewed left. Possitive values mean the opposite. By skewed left, we mean that the left tail is long relative to the right tail. \n",
        "\n",
        "### When exploring rating, the value is relatively close to zero, the distribution is almost symetrical ( < |0.5|).\n",
        "\n",
        "### Features: episodes and members show an important amount of positive skewness."
      ]
    },
    {
      "cell_type": "code",
      "metadata": {
        "pycharm": {
          "is_executing": false,
          "name": "#%%\n"
        },
        "id": "4f33qT0sloRQ",
        "colab_type": "code",
        "outputId": "008c26c0-ed9f-4d0c-8115-04149bfded7b",
        "colab": {
          "base_uri": "https://localhost:8080/",
          "height": 34
        }
      },
      "source": [
        "print(\"Kurtosis Episodes: %f\" % df['episodes'].kurt())"
      ],
      "execution_count": 68,
      "outputs": [
        {
          "output_type": "stream",
          "text": [
            "Kurtosis Episodes: 726.254496\n"
          ],
          "name": "stdout"
        }
      ]
    },
    {
      "cell_type": "code",
      "metadata": {
        "pycharm": {
          "is_executing": false,
          "name": "#%%\n"
        },
        "id": "Wa88Y4LfloRV",
        "colab_type": "code",
        "outputId": "c4eecb29-9473-40d9-974d-48949d9cbe99",
        "colab": {
          "base_uri": "https://localhost:8080/",
          "height": 34
        }
      },
      "source": [
        "print(\"Kurtosis Rating: %f\" % df['rating'].kurt())"
      ],
      "execution_count": 69,
      "outputs": [
        {
          "output_type": "stream",
          "text": [
            "Kurtosis Rating: 0.505835\n"
          ],
          "name": "stdout"
        }
      ]
    },
    {
      "cell_type": "code",
      "metadata": {
        "pycharm": {
          "is_executing": false,
          "name": "#%%\n"
        },
        "id": "0J15XehRloRZ",
        "colab_type": "code",
        "outputId": "4537bad0-742f-4b65-f28f-07aeff91fbcc",
        "colab": {
          "base_uri": "https://localhost:8080/",
          "height": 34
        }
      },
      "source": [
        "print(\"Kurtosis Members: %f\" % df['members'].kurt())"
      ],
      "execution_count": 70,
      "outputs": [
        {
          "output_type": "stream",
          "text": [
            "Kurtosis Members: 61.400628\n"
          ],
          "name": "stdout"
        }
      ]
    },
    {
      "cell_type": "markdown",
      "metadata": {
        "pycharm": {
          "name": "#%% md\n"
        },
        "id": "q6NKnqmKloRd",
        "colab_type": "text"
      },
      "source": [
        "### Kurtosis is a measure of whether the distribution is too peaked (a very narrow distribution with most of the responses in the center.\n",
        "\n",
        "### It means the effect of the tails on the whole distribution contribution.\n",
        "\n",
        "### Again, rating shows a value relatively close to zero, which means that the statistical behavior of this feture seems a balanced Gauss bell.\n",
        "\n",
        "### Features: episodes and members show a significative amount of kurtosis. "
      ]
    },
    {
      "cell_type": "code",
      "metadata": {
        "pycharm": {
          "name": "#%%\n",
          "is_executing": false
        },
        "id": "PqW7fY2floRe",
        "colab_type": "code",
        "outputId": "cd0812a9-b667-48f4-8f0f-c3b1677b9861",
        "colab": {
          "base_uri": "https://localhost:8080/",
          "height": 34
        }
      },
      "source": [
        "print(\"Dimensions of DataFrame: {}\".format(df.shape))"
      ],
      "execution_count": 71,
      "outputs": [
        {
          "output_type": "stream",
          "text": [
            "Dimensions of DataFrame: (11830, 8)\n"
          ],
          "name": "stdout"
        }
      ]
    },
    {
      "cell_type": "code",
      "metadata": {
        "pycharm": {
          "name": "#%% \n",
          "is_executing": false
        },
        "id": "U2mxaqRQloRo",
        "colab_type": "code",
        "colab": {}
      },
      "source": [
        "#ndf = df.drop(columns=['anime_id','name','genre','type'])\n",
        "#ndf = ndf.pivot(\"episodes\",\"rating\",\"members\")\n",
        "#ax = sns.heatmap(ndf)\n",
        "\n",
        "#flights = sns.load_dataset(\"flights\")\n",
        "#flights = flights.pivot(\"month\", \"year\", \"passengers\")\n",
        "#ax = sns.heatmap(flights)"
      ],
      "execution_count": 0,
      "outputs": []
    },
    {
      "cell_type": "markdown",
      "metadata": {
        "id": "eJjADEtZF8h8",
        "colab_type": "text"
      },
      "source": [
        "## Removing the Outliers."
      ]
    },
    {
      "cell_type": "markdown",
      "metadata": {
        "id": "QI3yWiiUGIji",
        "colab_type": "text"
      },
      "source": [
        "\n",
        "### Due to the previous observation of the respective boxplots, it can be seen the pressence of outliers on every Numerical feature. In the following lines of codes, they can be count to decide its effects in the distribution."
      ]
    },
    {
      "cell_type": "markdown",
      "metadata": {
        "id": "a4CmZtBEGy_f",
        "colab_type": "text"
      },
      "source": [
        "### We will use Z-score function defined in scipy library to detect the outliers.The Z-score states that the dataset is transformed in a matrix which values more than three standard deviations represent outliers. \n",
        "\n",
        "https://towardsdatascience.com/ways-to-detect-and-remove-the-outliers-404d16608dba"
      ]
    },
    {
      "cell_type": "code",
      "metadata": {
        "pycharm": {
          "name": "#%%\n",
          "is_executing": false
        },
        "id": "S6Pghd9MloRu",
        "colab_type": "code",
        "outputId": "cf20820a-1e14-48f0-a32c-defe1e849e78",
        "colab": {
          "base_uri": "https://localhost:8080/",
          "height": 139
        }
      },
      "source": [
        "from scipy import stats\n",
        "import numpy as np\n",
        "df = df.drop(columns=['anime_id','name','genre','type'])\n",
        "z = np.abs(stats.zscore(df))\n",
        "print(z)"
      ],
      "execution_count": 73,
      "outputs": [
        {
          "output_type": "stream",
          "text": [
            "[[0.24390475 0.39702371 0.24253606 1.09344405]\n",
            " [0.24390475 1.25071444 0.23406563 1.09344405]\n",
            " [0.24390475 2.20253055 0.31499524 1.09344405]\n",
            " ...\n",
            " [0.24390475 0.24002312 0.32929925 1.09344405]\n",
            " [0.24390475 0.09360314 0.30043839 0.91454153]\n",
            " [0.24390475 0.17133536 0.32288773 1.09344405]]\n"
          ],
          "name": "stdout"
        }
      ]
    },
    {
      "cell_type": "markdown",
      "metadata": {
        "id": "nhliZgmvHOrn",
        "colab_type": "text"
      },
      "source": [
        "### Using this line of code, the outliers of the whole dataset are removed as a whole (taking into account every Numerical feature in respect to the others)."
      ]
    },
    {
      "cell_type": "code",
      "metadata": {
        "pycharm": {
          "name": "#%%\n",
          "is_executing": false
        },
        "id": "LWB8wHqeloRy",
        "colab_type": "code",
        "outputId": "b9cc5aaf-d858-406f-96a0-c28b0b7115c0",
        "colab": {
          "base_uri": "https://localhost:8080/",
          "height": 206
        }
      },
      "source": [
        "df = df[(z < 3).all(axis=1)]\n",
        "df.head()"
      ],
      "execution_count": 74,
      "outputs": [
        {
          "output_type": "execute_result",
          "data": {
            "text/html": [
              "<div>\n",
              "<style scoped>\n",
              "    .dataframe tbody tr th:only-of-type {\n",
              "        vertical-align: middle;\n",
              "    }\n",
              "\n",
              "    .dataframe tbody tr th {\n",
              "        vertical-align: top;\n",
              "    }\n",
              "\n",
              "    .dataframe thead th {\n",
              "        text-align: right;\n",
              "    }\n",
              "</style>\n",
              "<table border=\"1\" class=\"dataframe\">\n",
              "  <thead>\n",
              "    <tr style=\"text-align: right;\">\n",
              "      <th></th>\n",
              "      <th>episodes</th>\n",
              "      <th>rating</th>\n",
              "      <th>members</th>\n",
              "      <th>Class</th>\n",
              "    </tr>\n",
              "  </thead>\n",
              "  <tbody>\n",
              "    <tr>\n",
              "      <th>11797</th>\n",
              "      <td>1</td>\n",
              "      <td>6.08</td>\n",
              "      <td>5082</td>\n",
              "      <td>0</td>\n",
              "    </tr>\n",
              "    <tr>\n",
              "      <th>12207</th>\n",
              "      <td>1</td>\n",
              "      <td>5.21</td>\n",
              "      <td>5551</td>\n",
              "      <td>0</td>\n",
              "    </tr>\n",
              "    <tr>\n",
              "      <th>7991</th>\n",
              "      <td>1</td>\n",
              "      <td>4.24</td>\n",
              "      <td>1070</td>\n",
              "      <td>0</td>\n",
              "    </tr>\n",
              "    <tr>\n",
              "      <th>5249</th>\n",
              "      <td>1</td>\n",
              "      <td>6.51</td>\n",
              "      <td>5705</td>\n",
              "      <td>1</td>\n",
              "    </tr>\n",
              "    <tr>\n",
              "      <th>9761</th>\n",
              "      <td>1</td>\n",
              "      <td>5.50</td>\n",
              "      <td>105</td>\n",
              "      <td>0</td>\n",
              "    </tr>\n",
              "  </tbody>\n",
              "</table>\n",
              "</div>"
            ],
            "text/plain": [
              "       episodes  rating  members  Class\n",
              "11797         1    6.08     5082      0\n",
              "12207         1    5.21     5551      0\n",
              "7991          1    4.24     1070      0\n",
              "5249          1    6.51     5705      1\n",
              "9761          1    5.50      105      0"
            ]
          },
          "metadata": {
            "tags": []
          },
          "execution_count": 74
        }
      ]
    },
    {
      "cell_type": "markdown",
      "metadata": {
        "id": "oYYPKnTjHnw3",
        "colab_type": "text"
      },
      "source": [
        "### As a result, the new Dataset only loses few rows since the previous operation performed (-3.25%)"
      ]
    },
    {
      "cell_type": "code",
      "metadata": {
        "pycharm": {
          "name": "#%%\n",
          "is_executing": false
        },
        "id": "WhNcYAR3loR2",
        "colab_type": "code",
        "outputId": "c88bc629-7343-4cd5-e236-387dba8a1de3",
        "colab": {
          "base_uri": "https://localhost:8080/",
          "height": 34
        }
      },
      "source": [
        "print(\"Dimensions of DataFrame: {}\".format(df.shape))\n"
      ],
      "execution_count": 75,
      "outputs": [
        {
          "output_type": "stream",
          "text": [
            "Dimensions of DataFrame: (11446, 4)\n"
          ],
          "name": "stdout"
        }
      ]
    },
    {
      "cell_type": "markdown",
      "metadata": {
        "collapsed": false,
        "pycharm": {
          "name": "#%% md\n"
        },
        "id": "5WB-B3TAloR8",
        "colab_type": "text"
      },
      "source": [
        "###Scatter plots - Relationships between the numerical varibles."
      ]
    },
    {
      "cell_type": "code",
      "metadata": {
        "pycharm": {
          "name": "#%%\n",
          "is_executing": false
        },
        "id": "QfyVqwGAloR-",
        "colab_type": "code",
        "outputId": "e73fe00f-9e88-474a-b3fb-75d7402334fc",
        "colab": {
          "base_uri": "https://localhost:8080/",
          "height": 312
        }
      },
      "source": [
        "plt.scatter( df['episodes'], df['rating'], marker='o')\n",
        "plt.title('Rating Vs. Number of Episodes')\n",
        "plt.xlabel('Number of Episodes')\n",
        "plt.ylabel('Rating')"
      ],
      "execution_count": 76,
      "outputs": [
        {
          "output_type": "execute_result",
          "data": {
            "text/plain": [
              "Text(0, 0.5, 'Rating')"
            ]
          },
          "metadata": {
            "tags": []
          },
          "execution_count": 76
        },
        {
          "output_type": "display_data",
          "data": {
            "image/png": "[encoded data removed]",
            "text/plain": [
              "<Figure size 432x288 with 1 Axes>"
            ]
          },
          "metadata": {
            "tags": []
          }
        }
      ]
    },
    {
      "cell_type": "code",
      "metadata": {
        "pycharm": {
          "name": "#%%\n",
          "is_executing": false
        },
        "id": "gKfcIucjloSC",
        "colab_type": "code",
        "outputId": "ce0bfbaa-3be0-4374-ba72-3c8d0aa9e7a4",
        "colab": {
          "base_uri": "https://localhost:8080/",
          "height": 312
        }
      },
      "source": [
        "plt.scatter(df['members'], df['rating'],marker='o')\n",
        "plt.title('Rating Vs. Number of Members')\n",
        "plt.xlabel('Number of Members')\n",
        "plt.ylabel('Rating')"
      ],
      "execution_count": 77,
      "outputs": [
        {
          "output_type": "execute_result",
          "data": {
            "text/plain": [
              "Text(0, 0.5, 'Rating')"
            ]
          },
          "metadata": {
            "tags": []
          },
          "execution_count": 77
        },
        {
          "output_type": "display_data",
          "data": {
            "image/png": "[encoded data removed]",
            "text/plain": [
              "<Figure size 432x288 with 1 Axes>"
            ]
          },
          "metadata": {
            "tags": []
          }
        }
      ]
    },
    {
      "cell_type": "markdown",
      "metadata": {
        "id": "r9Ao-uoefJlT",
        "colab_type": "text"
      },
      "source": [
        "## kNN algorithm application to modeling the Dataset."
      ]
    },
    {
      "cell_type": "code",
      "metadata": {
        "id": "FV23gYZt6Zwp",
        "colab_type": "code",
        "outputId": "4b75471a-04dc-43aa-a55b-7dd7a31a1c64",
        "colab": {
          "base_uri": "https://localhost:8080/",
          "height": 226
        }
      },
      "source": [
        "#%% md\n",
        "#### Clean and Transform Data\n",
        "#%%\n",
        "Cleaned_Data = myCleanAndTransformData(RawData)\n",
        "Y_Data = Cleaned_Data['Class']\n",
        "X_Data = Cleaned_Data.drop(columns=['Class'])\n",
        "\n",
        "#%% md\n",
        "#### Normalize  Data\n",
        "#%%\n",
        "Normalized_Data = myNormalize(X_Data)\n",
        "#%% md\n",
        "#### PCA\n",
        "#%%\n",
        "n_components=40\n",
        "PCA_Data = myPCA(Normalized_Data,n_components)\n",
        "PCA_Data.head()"
      ],
      "execution_count": 78,
      "outputs": [
        {
          "output_type": "execute_result",
          "data": {
            "text/html": [
              "<div>\n",
              "<style scoped>\n",
              "    .dataframe tbody tr th:only-of-type {\n",
              "        vertical-align: middle;\n",
              "    }\n",
              "\n",
              "    .dataframe tbody tr th {\n",
              "        vertical-align: top;\n",
              "    }\n",
              "\n",
              "    .dataframe thead th {\n",
              "        text-align: right;\n",
              "    }\n",
              "</style>\n",
              "<table border=\"1\" class=\"dataframe\">\n",
              "  <thead>\n",
              "    <tr style=\"text-align: right;\">\n",
              "      <th></th>\n",
              "      <th>0</th>\n",
              "      <th>1</th>\n",
              "      <th>2</th>\n",
              "      <th>3</th>\n",
              "      <th>4</th>\n",
              "      <th>5</th>\n",
              "      <th>6</th>\n",
              "      <th>7</th>\n",
              "      <th>8</th>\n",
              "      <th>9</th>\n",
              "      <th>10</th>\n",
              "      <th>11</th>\n",
              "      <th>12</th>\n",
              "      <th>13</th>\n",
              "      <th>14</th>\n",
              "      <th>15</th>\n",
              "      <th>16</th>\n",
              "      <th>17</th>\n",
              "      <th>18</th>\n",
              "      <th>19</th>\n",
              "      <th>20</th>\n",
              "      <th>21</th>\n",
              "      <th>22</th>\n",
              "      <th>23</th>\n",
              "      <th>24</th>\n",
              "      <th>25</th>\n",
              "      <th>26</th>\n",
              "      <th>27</th>\n",
              "      <th>28</th>\n",
              "      <th>29</th>\n",
              "      <th>30</th>\n",
              "      <th>31</th>\n",
              "      <th>32</th>\n",
              "      <th>33</th>\n",
              "      <th>34</th>\n",
              "      <th>35</th>\n",
              "      <th>36</th>\n",
              "      <th>37</th>\n",
              "      <th>38</th>\n",
              "      <th>39</th>\n",
              "    </tr>\n",
              "  </thead>\n",
              "  <tbody>\n",
              "    <tr>\n",
              "      <th>0</th>\n",
              "      <td>-0.311566</td>\n",
              "      <td>0.786508</td>\n",
              "      <td>-0.420821</td>\n",
              "      <td>0.005236</td>\n",
              "      <td>-0.078664</td>\n",
              "      <td>-0.049645</td>\n",
              "      <td>-0.062636</td>\n",
              "      <td>0.007171</td>\n",
              "      <td>-0.075349</td>\n",
              "      <td>-0.030938</td>\n",
              "      <td>0.086265</td>\n",
              "      <td>-0.139423</td>\n",
              "      <td>-0.157022</td>\n",
              "      <td>0.028296</td>\n",
              "      <td>-0.081143</td>\n",
              "      <td>-0.232690</td>\n",
              "      <td>-0.299072</td>\n",
              "      <td>0.804718</td>\n",
              "      <td>-0.258788</td>\n",
              "      <td>-0.007699</td>\n",
              "      <td>-0.094833</td>\n",
              "      <td>-0.108056</td>\n",
              "      <td>-0.062477</td>\n",
              "      <td>0.025734</td>\n",
              "      <td>0.003374</td>\n",
              "      <td>-0.024968</td>\n",
              "      <td>-0.033488</td>\n",
              "      <td>-0.004951</td>\n",
              "      <td>-0.011692</td>\n",
              "      <td>-0.006783</td>\n",
              "      <td>-0.011766</td>\n",
              "      <td>-0.014492</td>\n",
              "      <td>0.009381</td>\n",
              "      <td>-0.010300</td>\n",
              "      <td>-0.008293</td>\n",
              "      <td>-0.004511</td>\n",
              "      <td>0.005071</td>\n",
              "      <td>-0.013885</td>\n",
              "      <td>-0.007432</td>\n",
              "      <td>-0.010047</td>\n",
              "    </tr>\n",
              "    <tr>\n",
              "      <th>1</th>\n",
              "      <td>-0.284842</td>\n",
              "      <td>0.763991</td>\n",
              "      <td>-0.412009</td>\n",
              "      <td>-0.010872</td>\n",
              "      <td>-0.110067</td>\n",
              "      <td>-0.087028</td>\n",
              "      <td>-0.096769</td>\n",
              "      <td>0.054629</td>\n",
              "      <td>-0.179466</td>\n",
              "      <td>-0.045545</td>\n",
              "      <td>0.764386</td>\n",
              "      <td>0.581467</td>\n",
              "      <td>0.033981</td>\n",
              "      <td>-0.066736</td>\n",
              "      <td>0.030944</td>\n",
              "      <td>0.068188</td>\n",
              "      <td>0.010380</td>\n",
              "      <td>-0.031950</td>\n",
              "      <td>-0.043616</td>\n",
              "      <td>0.008151</td>\n",
              "      <td>-0.027473</td>\n",
              "      <td>-0.040194</td>\n",
              "      <td>-0.033364</td>\n",
              "      <td>0.004763</td>\n",
              "      <td>0.006603</td>\n",
              "      <td>-0.016124</td>\n",
              "      <td>-0.028668</td>\n",
              "      <td>-0.009448</td>\n",
              "      <td>-0.005282</td>\n",
              "      <td>-0.004085</td>\n",
              "      <td>-0.007242</td>\n",
              "      <td>-0.012989</td>\n",
              "      <td>0.006269</td>\n",
              "      <td>-0.011180</td>\n",
              "      <td>-0.008367</td>\n",
              "      <td>-0.001718</td>\n",
              "      <td>0.008207</td>\n",
              "      <td>-0.013368</td>\n",
              "      <td>-0.009019</td>\n",
              "      <td>-0.010344</td>\n",
              "    </tr>\n",
              "    <tr>\n",
              "      <th>2</th>\n",
              "      <td>-0.284838</td>\n",
              "      <td>0.767910</td>\n",
              "      <td>-0.395570</td>\n",
              "      <td>-0.007614</td>\n",
              "      <td>-0.091869</td>\n",
              "      <td>-0.059765</td>\n",
              "      <td>-0.062085</td>\n",
              "      <td>0.036505</td>\n",
              "      <td>-0.086830</td>\n",
              "      <td>-0.024721</td>\n",
              "      <td>0.092182</td>\n",
              "      <td>-0.282590</td>\n",
              "      <td>-0.451933</td>\n",
              "      <td>-0.569129</td>\n",
              "      <td>0.527432</td>\n",
              "      <td>0.287047</td>\n",
              "      <td>0.035417</td>\n",
              "      <td>-0.060918</td>\n",
              "      <td>-0.105735</td>\n",
              "      <td>-0.014496</td>\n",
              "      <td>-0.031116</td>\n",
              "      <td>-0.062846</td>\n",
              "      <td>-0.045540</td>\n",
              "      <td>0.012596</td>\n",
              "      <td>0.004923</td>\n",
              "      <td>-0.021727</td>\n",
              "      <td>-0.033692</td>\n",
              "      <td>-0.011380</td>\n",
              "      <td>-0.009046</td>\n",
              "      <td>-0.006167</td>\n",
              "      <td>-0.009484</td>\n",
              "      <td>-0.014696</td>\n",
              "      <td>0.006481</td>\n",
              "      <td>-0.012559</td>\n",
              "      <td>-0.009995</td>\n",
              "      <td>-0.005671</td>\n",
              "      <td>0.006346</td>\n",
              "      <td>-0.015336</td>\n",
              "      <td>-0.013618</td>\n",
              "      <td>-0.010259</td>\n",
              "    </tr>\n",
              "    <tr>\n",
              "      <th>3</th>\n",
              "      <td>-0.291600</td>\n",
              "      <td>0.777175</td>\n",
              "      <td>-0.408316</td>\n",
              "      <td>0.000301</td>\n",
              "      <td>-0.080828</td>\n",
              "      <td>-0.049799</td>\n",
              "      <td>-0.056889</td>\n",
              "      <td>0.019143</td>\n",
              "      <td>-0.070776</td>\n",
              "      <td>-0.027970</td>\n",
              "      <td>0.078032</td>\n",
              "      <td>-0.143403</td>\n",
              "      <td>-0.122692</td>\n",
              "      <td>-0.013062</td>\n",
              "      <td>-0.109524</td>\n",
              "      <td>-0.389584</td>\n",
              "      <td>-0.602805</td>\n",
              "      <td>-0.563640</td>\n",
              "      <td>-0.290750</td>\n",
              "      <td>-0.050591</td>\n",
              "      <td>-0.053022</td>\n",
              "      <td>-0.099434</td>\n",
              "      <td>-0.061856</td>\n",
              "      <td>0.024399</td>\n",
              "      <td>0.000892</td>\n",
              "      <td>-0.027256</td>\n",
              "      <td>-0.035577</td>\n",
              "      <td>-0.010763</td>\n",
              "      <td>-0.013563</td>\n",
              "      <td>-0.007696</td>\n",
              "      <td>-0.012262</td>\n",
              "      <td>-0.015397</td>\n",
              "      <td>0.007540</td>\n",
              "      <td>-0.011144</td>\n",
              "      <td>-0.009453</td>\n",
              "      <td>-0.008118</td>\n",
              "      <td>0.004110</td>\n",
              "      <td>-0.014922</td>\n",
              "      <td>-0.012520</td>\n",
              "      <td>-0.012017</td>\n",
              "    </tr>\n",
              "    <tr>\n",
              "      <th>4</th>\n",
              "      <td>0.732145</td>\n",
              "      <td>-0.153155</td>\n",
              "      <td>-0.102203</td>\n",
              "      <td>-0.458230</td>\n",
              "      <td>0.816867</td>\n",
              "      <td>0.046174</td>\n",
              "      <td>0.015773</td>\n",
              "      <td>-0.064781</td>\n",
              "      <td>0.014353</td>\n",
              "      <td>-0.005004</td>\n",
              "      <td>0.000576</td>\n",
              "      <td>0.017521</td>\n",
              "      <td>-0.007152</td>\n",
              "      <td>0.008122</td>\n",
              "      <td>0.015714</td>\n",
              "      <td>-0.003250</td>\n",
              "      <td>-0.012141</td>\n",
              "      <td>-0.006513</td>\n",
              "      <td>-0.013974</td>\n",
              "      <td>0.005156</td>\n",
              "      <td>-0.027953</td>\n",
              "      <td>-0.018710</td>\n",
              "      <td>-0.009778</td>\n",
              "      <td>-0.001008</td>\n",
              "      <td>0.018636</td>\n",
              "      <td>0.005527</td>\n",
              "      <td>-0.017977</td>\n",
              "      <td>0.010157</td>\n",
              "      <td>0.021808</td>\n",
              "      <td>0.001271</td>\n",
              "      <td>0.006786</td>\n",
              "      <td>-0.013111</td>\n",
              "      <td>0.019635</td>\n",
              "      <td>-0.013802</td>\n",
              "      <td>-0.007354</td>\n",
              "      <td>0.025703</td>\n",
              "      <td>0.024546</td>\n",
              "      <td>-0.021433</td>\n",
              "      <td>-0.003936</td>\n",
              "      <td>0.038634</td>\n",
              "    </tr>\n",
              "  </tbody>\n",
              "</table>\n",
              "</div>"
            ],
            "text/plain": [
              "         0         1         2   ...        37        38        39\n",
              "0 -0.311566  0.786508 -0.420821  ... -0.013885 -0.007432 -0.010047\n",
              "1 -0.284842  0.763991 -0.412009  ... -0.013368 -0.009019 -0.010344\n",
              "2 -0.284838  0.767910 -0.395570  ... -0.015336 -0.013618 -0.010259\n",
              "3 -0.291600  0.777175 -0.408316  ... -0.014922 -0.012520 -0.012017\n",
              "4  0.732145 -0.153155 -0.102203  ... -0.021433 -0.003936  0.038634\n",
              "\n",
              "[5 rows x 40 columns]"
            ]
          },
          "metadata": {
            "tags": []
          },
          "execution_count": 78
        }
      ]
    },
    {
      "cell_type": "code",
      "metadata": {
        "id": "5fgYWl3F7AGj",
        "colab_type": "code",
        "outputId": "2557cc34-609e-4892-d55b-1a8074c1dec0",
        "colab": {
          "base_uri": "https://localhost:8080/",
          "height": 121
        }
      },
      "source": [
        "#%% md\n",
        "####----------------------------------------------------------------\n",
        "#### Split  PCA_Data\n",
        "####----------------------------------------------------------------\n",
        "#%%\n",
        "PCA_X_train, PCA_X_test, PCA_y_train, PCA_y_test  = mySplitData(PCA_Data,Y_Data,0.33,42)\n",
        "\n",
        "PCA_X_train.head()\n",
        "#%%\n",
        "PCA_X_test.head()\n",
        "#%%\n",
        "PCA_y_train.head()\n",
        "#%%\n",
        "PCA_y_test.head()"
      ],
      "execution_count": 80,
      "outputs": [
        {
          "output_type": "execute_result",
          "data": {
            "text/plain": [
              "22373    0\n",
              "10508    1\n",
              "11570    1\n",
              "22262    0\n",
              "734      1\n",
              "Name: Class, dtype: int64"
            ]
          },
          "metadata": {
            "tags": []
          },
          "execution_count": 80
        }
      ]
    },
    {
      "cell_type": "markdown",
      "metadata": {
        "id": "mKcVxzyWfa0o",
        "colab_type": "text"
      },
      "source": [
        "#### https://towardsdatascience.com/building-a-k-nearest-neighbors-k-nn-model-with-scikit-learn-51209555453a"
      ]
    },
    {
      "cell_type": "markdown",
      "metadata": {
        "id": "5XuO9K7Lg153",
        "colab_type": "text"
      },
      "source": [
        "###To apply k-Nearest Neighborg Classification Algorithm to the dataset, it is required to refer to a class label due to its Supervised Learning nature.\n",
        "\n",
        "###\"A supervised learning model takes in a set of input objects and output values. The model then trains on that data to learn how to map the inputs to the desired output so it can learn to make predictions on unseen data.\""
      ]
    },
    {
      "cell_type": "markdown",
      "metadata": {
        "id": "lpMXJezZh7Jz",
        "colab_type": "text"
      },
      "source": [
        "###Because of its nature, the feature selected to make predictions in our dataset is the variable 'rating', so, it is going to be treated as the class label for the model."
      ]
    },
    {
      "cell_type": "code",
      "metadata": {
        "pycharm": {
          "is_executing": false,
          "name": "#%%\n"
        },
        "id": "IuTHt1oXloSV",
        "colab_type": "code",
        "outputId": "0814c5eb-c06e-464e-b7f0-ac6ad4becf9c",
        "colab": {
          "base_uri": "https://localhost:8080/",
          "height": 206
        }
      },
      "source": [
        "# Add a new column rating class \n",
        "df['Class']=1 #df['rating']\n",
        "df.sample(5)"
      ],
      "execution_count": 81,
      "outputs": [
        {
          "output_type": "execute_result",
          "data": {
            "text/html": [
              "<div>\n",
              "<style scoped>\n",
              "    .dataframe tbody tr th:only-of-type {\n",
              "        vertical-align: middle;\n",
              "    }\n",
              "\n",
              "    .dataframe tbody tr th {\n",
              "        vertical-align: top;\n",
              "    }\n",
              "\n",
              "    .dataframe thead th {\n",
              "        text-align: right;\n",
              "    }\n",
              "</style>\n",
              "<table border=\"1\" class=\"dataframe\">\n",
              "  <thead>\n",
              "    <tr style=\"text-align: right;\">\n",
              "      <th></th>\n",
              "      <th>episodes</th>\n",
              "      <th>rating</th>\n",
              "      <th>members</th>\n",
              "      <th>Class</th>\n",
              "    </tr>\n",
              "  </thead>\n",
              "  <tbody>\n",
              "    <tr>\n",
              "      <th>10073</th>\n",
              "      <td>52</td>\n",
              "      <td>6.00</td>\n",
              "      <td>94</td>\n",
              "      <td>1</td>\n",
              "    </tr>\n",
              "    <tr>\n",
              "      <th>354</th>\n",
              "      <td>1</td>\n",
              "      <td>8.16</td>\n",
              "      <td>72708</td>\n",
              "      <td>1</td>\n",
              "    </tr>\n",
              "    <tr>\n",
              "      <th>8926</th>\n",
              "      <td>26</td>\n",
              "      <td>6.63</td>\n",
              "      <td>157</td>\n",
              "      <td>1</td>\n",
              "    </tr>\n",
              "    <tr>\n",
              "      <th>3553</th>\n",
              "      <td>12</td>\n",
              "      <td>6.95</td>\n",
              "      <td>19708</td>\n",
              "      <td>1</td>\n",
              "    </tr>\n",
              "    <tr>\n",
              "      <th>3890</th>\n",
              "      <td>1</td>\n",
              "      <td>6.85</td>\n",
              "      <td>630</td>\n",
              "      <td>1</td>\n",
              "    </tr>\n",
              "  </tbody>\n",
              "</table>\n",
              "</div>"
            ],
            "text/plain": [
              "       episodes  rating  members  Class\n",
              "10073        52    6.00       94      1\n",
              "354           1    8.16    72708      1\n",
              "8926         26    6.63      157      1\n",
              "3553         12    6.95    19708      1\n",
              "3890          1    6.85      630      1"
            ]
          },
          "metadata": {
            "tags": []
          },
          "execution_count": 81
        }
      ]
    },
    {
      "cell_type": "code",
      "metadata": {
        "pycharm": {
          "is_executing": false,
          "name": "#%%\n"
        },
        "id": "x5iF0MQZloSa",
        "colab_type": "code",
        "colab": {}
      },
      "source": [
        "# 1: High\n",
        "# or 0: Low based on rating\n",
        "df.loc[df['rating'] >= df['rating'].mean(), 'Class'] = 1\n",
        "df.loc[df['rating'] < df['rating'].mean(), 'Class'] = 0"
      ],
      "execution_count": 0,
      "outputs": []
    },
    {
      "cell_type": "code",
      "metadata": {
        "pycharm": {
          "is_executing": false,
          "name": "#%%\n"
        },
        "id": "eI1vhcv9loSe",
        "colab_type": "code",
        "outputId": "71a3aa16-8265-4dcc-e8d2-48a845c97a73",
        "colab": {
          "base_uri": "https://localhost:8080/",
          "height": 206
        }
      },
      "source": [
        "df.sample(5)"
      ],
      "execution_count": 83,
      "outputs": [
        {
          "output_type": "execute_result",
          "data": {
            "text/html": [
              "<div>\n",
              "<style scoped>\n",
              "    .dataframe tbody tr th:only-of-type {\n",
              "        vertical-align: middle;\n",
              "    }\n",
              "\n",
              "    .dataframe tbody tr th {\n",
              "        vertical-align: top;\n",
              "    }\n",
              "\n",
              "    .dataframe thead th {\n",
              "        text-align: right;\n",
              "    }\n",
              "</style>\n",
              "<table border=\"1\" class=\"dataframe\">\n",
              "  <thead>\n",
              "    <tr style=\"text-align: right;\">\n",
              "      <th></th>\n",
              "      <th>episodes</th>\n",
              "      <th>rating</th>\n",
              "      <th>members</th>\n",
              "      <th>Class</th>\n",
              "    </tr>\n",
              "  </thead>\n",
              "  <tbody>\n",
              "    <tr>\n",
              "      <th>11601</th>\n",
              "      <td>4</td>\n",
              "      <td>6.38</td>\n",
              "      <td>1506</td>\n",
              "      <td>0</td>\n",
              "    </tr>\n",
              "    <tr>\n",
              "      <th>1382</th>\n",
              "      <td>1</td>\n",
              "      <td>7.56</td>\n",
              "      <td>9881</td>\n",
              "      <td>1</td>\n",
              "    </tr>\n",
              "    <tr>\n",
              "      <th>9887</th>\n",
              "      <td>1</td>\n",
              "      <td>6.40</td>\n",
              "      <td>191</td>\n",
              "      <td>0</td>\n",
              "    </tr>\n",
              "    <tr>\n",
              "      <th>2257</th>\n",
              "      <td>12</td>\n",
              "      <td>7.32</td>\n",
              "      <td>42139</td>\n",
              "      <td>1</td>\n",
              "    </tr>\n",
              "    <tr>\n",
              "      <th>2018</th>\n",
              "      <td>2</td>\n",
              "      <td>7.38</td>\n",
              "      <td>41898</td>\n",
              "      <td>1</td>\n",
              "    </tr>\n",
              "  </tbody>\n",
              "</table>\n",
              "</div>"
            ],
            "text/plain": [
              "       episodes  rating  members  Class\n",
              "11601         4    6.38     1506      0\n",
              "1382          1    7.56     9881      1\n",
              "9887          1    6.40      191      0\n",
              "2257         12    7.32    42139      1\n",
              "2018          2    7.38    41898      1"
            ]
          },
          "metadata": {
            "tags": []
          },
          "execution_count": 83
        }
      ]
    },
    {
      "cell_type": "code",
      "metadata": {
        "pycharm": {
          "is_executing": false,
          "name": "#%%\n"
        },
        "id": "4NKeG2n3loSi",
        "colab_type": "code",
        "outputId": "de86da71-4802-4975-da9f-9c07b01bef53",
        "colab": {
          "base_uri": "https://localhost:8080/",
          "height": 173
        }
      },
      "source": [
        "print(df.dtypes)"
      ],
      "execution_count": 19,
      "outputs": [
        {
          "output_type": "stream",
          "text": [
            "anime_id      int64\n",
            "name         object\n",
            "genre        object\n",
            "type         object\n",
            "episodes     object\n",
            "rating      float64\n",
            "members       int64\n",
            "Class         int64\n",
            "dtype: object\n"
          ],
          "name": "stdout"
        }
      ]
    },
    {
      "cell_type": "markdown",
      "metadata": {
        "id": "kxvoq1w_ffN3",
        "colab_type": "text"
      },
      "source": [
        "### Split up the dataset into inputs (X) and target (y)\n",
        "\n",
        "### Drop the Categorical features as well as the class label (rating)"
      ]
    },
    {
      "cell_type": "code",
      "metadata": {
        "pycharm": {
          "is_executing": false,
          "name": "#%% \n"
        },
        "id": "TkzqjsDuloSn",
        "colab_type": "code",
        "colab": {}
      },
      "source": [
        "#X = df.drop(columns=['anime_id','name','genre','type','rating','Class'])\n",
        "X = df.drop(columns=['rating','Class'])"
      ],
      "execution_count": 0,
      "outputs": []
    },
    {
      "cell_type": "code",
      "metadata": {
        "pycharm": {
          "is_executing": false,
          "name": "#%%\n"
        },
        "id": "_qX49w_JloSq",
        "colab_type": "code",
        "outputId": "ff8c3aed-7226-4a56-c121-a949262b20de",
        "colab": {
          "base_uri": "https://localhost:8080/",
          "height": 206
        }
      },
      "source": [
        "X.head()"
      ],
      "execution_count": 85,
      "outputs": [
        {
          "output_type": "execute_result",
          "data": {
            "text/html": [
              "<div>\n",
              "<style scoped>\n",
              "    .dataframe tbody tr th:only-of-type {\n",
              "        vertical-align: middle;\n",
              "    }\n",
              "\n",
              "    .dataframe tbody tr th {\n",
              "        vertical-align: top;\n",
              "    }\n",
              "\n",
              "    .dataframe thead th {\n",
              "        text-align: right;\n",
              "    }\n",
              "</style>\n",
              "<table border=\"1\" class=\"dataframe\">\n",
              "  <thead>\n",
              "    <tr style=\"text-align: right;\">\n",
              "      <th></th>\n",
              "      <th>episodes</th>\n",
              "      <th>members</th>\n",
              "    </tr>\n",
              "  </thead>\n",
              "  <tbody>\n",
              "    <tr>\n",
              "      <th>11797</th>\n",
              "      <td>1</td>\n",
              "      <td>5082</td>\n",
              "    </tr>\n",
              "    <tr>\n",
              "      <th>12207</th>\n",
              "      <td>1</td>\n",
              "      <td>5551</td>\n",
              "    </tr>\n",
              "    <tr>\n",
              "      <th>7991</th>\n",
              "      <td>1</td>\n",
              "      <td>1070</td>\n",
              "    </tr>\n",
              "    <tr>\n",
              "      <th>5249</th>\n",
              "      <td>1</td>\n",
              "      <td>5705</td>\n",
              "    </tr>\n",
              "    <tr>\n",
              "      <th>9761</th>\n",
              "      <td>1</td>\n",
              "      <td>105</td>\n",
              "    </tr>\n",
              "  </tbody>\n",
              "</table>\n",
              "</div>"
            ],
            "text/plain": [
              "       episodes  members\n",
              "11797         1     5082\n",
              "12207         1     5551\n",
              "7991          1     1070\n",
              "5249          1     5705\n",
              "9761          1      105"
            ]
          },
          "metadata": {
            "tags": []
          },
          "execution_count": 85
        }
      ]
    },
    {
      "cell_type": "markdown",
      "metadata": {
        "id": "mfXNCWdPfwvp",
        "colab_type": "text"
      },
      "source": [
        "##Normalization"
      ]
    },
    {
      "cell_type": "markdown",
      "metadata": {
        "id": "Sk3KoOx2il3P",
        "colab_type": "text"
      },
      "source": [
        "###kNN and almost any classification algorithm is very sensitive to values ranges due to the distance based, so it is required to normalize the numerical features. "
      ]
    },
    {
      "cell_type": "markdown",
      "metadata": {
        "id": "4PX4s_g0jAxJ",
        "colab_type": "text"
      },
      "source": [
        "### For the possitive nature of the values related to the features in real life, it makes sense to use mim-max normalization. "
      ]
    },
    {
      "cell_type": "code",
      "metadata": {
        "pycharm": {
          "is_executing": false,
          "name": "#%%\n"
        },
        "id": "tirnWOUkloSv",
        "colab_type": "code",
        "outputId": "38f4b227-329d-4822-9347-ca4f188f562b",
        "colab": {
          "base_uri": "https://localhost:8080/",
          "height": 206
        }
      },
      "source": [
        "#from sklearn import preprocessing\n",
        "\n",
        "#x = df.values #returns a numpy array\n",
        "#min_max_scaler = preprocessing.MinMaxScaler()\n",
        "#x_scaled = min_max_scaler.fit_transform(x)\n",
        "#df = pandas.DataFrame(x_scaled)\n",
        "\n",
        "#https://stackoverflow.com/questions/26414913/normalize-columns-of-pandas-data-frame\n",
        "#X=(X-X.mean())/X.std()\n",
        "X=(X-X.min())/(X.max()-X.min())\n",
        "X.head()"
      ],
      "execution_count": 86,
      "outputs": [
        {
          "output_type": "execute_result",
          "data": {
            "text/html": [
              "<div>\n",
              "<style scoped>\n",
              "    .dataframe tbody tr th:only-of-type {\n",
              "        vertical-align: middle;\n",
              "    }\n",
              "\n",
              "    .dataframe tbody tr th {\n",
              "        vertical-align: top;\n",
              "    }\n",
              "\n",
              "    .dataframe thead th {\n",
              "        text-align: right;\n",
              "    }\n",
              "</style>\n",
              "<table border=\"1\" class=\"dataframe\">\n",
              "  <thead>\n",
              "    <tr style=\"text-align: right;\">\n",
              "      <th></th>\n",
              "      <th>episodes</th>\n",
              "      <th>members</th>\n",
              "    </tr>\n",
              "  </thead>\n",
              "  <tbody>\n",
              "    <tr>\n",
              "      <th>11797</th>\n",
              "      <td>0.0</td>\n",
              "      <td>0.027451</td>\n",
              "    </tr>\n",
              "    <tr>\n",
              "      <th>12207</th>\n",
              "      <td>0.0</td>\n",
              "      <td>0.029993</td>\n",
              "    </tr>\n",
              "    <tr>\n",
              "      <th>7991</th>\n",
              "      <td>0.0</td>\n",
              "      <td>0.005707</td>\n",
              "    </tr>\n",
              "    <tr>\n",
              "      <th>5249</th>\n",
              "      <td>0.0</td>\n",
              "      <td>0.030828</td>\n",
              "    </tr>\n",
              "    <tr>\n",
              "      <th>9761</th>\n",
              "      <td>0.0</td>\n",
              "      <td>0.000477</td>\n",
              "    </tr>\n",
              "  </tbody>\n",
              "</table>\n",
              "</div>"
            ],
            "text/plain": [
              "       episodes   members\n",
              "11797       0.0  0.027451\n",
              "12207       0.0  0.029993\n",
              "7991        0.0  0.005707\n",
              "5249        0.0  0.030828\n",
              "9761        0.0  0.000477"
            ]
          },
          "metadata": {
            "tags": []
          },
          "execution_count": 86
        }
      ]
    },
    {
      "cell_type": "markdown",
      "metadata": {
        "id": "y0RRJHsejhTQ",
        "colab_type": "text"
      },
      "source": [
        "###Separate the target values (class associated)"
      ]
    },
    {
      "cell_type": "code",
      "metadata": {
        "pycharm": {
          "is_executing": false,
          "name": "#%%\n"
        },
        "id": "y1kYK8cJloSz",
        "colab_type": "code",
        "colab": {}
      },
      "source": [
        "y = df['Class']"
      ],
      "execution_count": 0,
      "outputs": []
    },
    {
      "cell_type": "markdown",
      "metadata": {
        "id": "5je1TlQCjxxi",
        "colab_type": "text"
      },
      "source": [
        "### Inspect the target values nature"
      ]
    },
    {
      "cell_type": "code",
      "metadata": {
        "pycharm": {
          "is_executing": false,
          "name": "#%%\n"
        },
        "id": "gVOpV5iHloS0",
        "colab_type": "code",
        "outputId": "e18622ac-ee82-4aee-a039-24911a76a919",
        "colab": {
          "base_uri": "https://localhost:8080/",
          "height": 449
        }
      },
      "source": [
        "df['Class'].hist(bins=3,figsize=(9,7),grid=False)"
      ],
      "execution_count": 88,
      "outputs": [
        {
          "output_type": "execute_result",
          "data": {
            "text/plain": [
              "<matplotlib.axes._subplots.AxesSubplot at 0x7f494cf91da0>"
            ]
          },
          "metadata": {
            "tags": []
          },
          "execution_count": 88
        },
        {
          "output_type": "display_data",
          "data": {
            "image/png": "[encoded data removed]",
            "text/plain": [
              "<Figure size 648x504 with 1 Axes>"
            ]
          },
          "metadata": {
            "tags": []
          }
        }
      ]
    },
    {
      "cell_type": "code",
      "metadata": {
        "pycharm": {
          "is_executing": false,
          "name": "#%%\n"
        },
        "id": "XoGOW0ccloS2",
        "colab_type": "code",
        "outputId": "beae24f1-5974-4580-aa11-38fd1d17e139",
        "colab": {
          "base_uri": "https://localhost:8080/",
          "height": 121
        }
      },
      "source": [
        "y.sample(5)"
      ],
      "execution_count": 89,
      "outputs": [
        {
          "output_type": "execute_result",
          "data": {
            "text/plain": [
              "10226    1\n",
              "3547     1\n",
              "5118     1\n",
              "10406    0\n",
              "9168     0\n",
              "Name: Class, dtype: int64"
            ]
          },
          "metadata": {
            "tags": []
          },
          "execution_count": 89
        }
      ]
    },
    {
      "cell_type": "code",
      "metadata": {
        "pycharm": {
          "is_executing": false,
          "name": "#%%\n"
        },
        "id": "5s8GOLkDloS6",
        "colab_type": "code",
        "outputId": "1fab2c06-adf6-4c76-e3b1-b2c884e8e43a",
        "colab": {
          "base_uri": "https://localhost:8080/",
          "height": 173
        }
      },
      "source": [
        "y.describe()"
      ],
      "execution_count": 90,
      "outputs": [
        {
          "output_type": "execute_result",
          "data": {
            "text/plain": [
              "count    11446.000000\n",
              "mean         0.540538\n",
              "std          0.498376\n",
              "min          0.000000\n",
              "25%          0.000000\n",
              "50%          1.000000\n",
              "75%          1.000000\n",
              "max          1.000000\n",
              "Name: Class, dtype: float64"
            ]
          },
          "metadata": {
            "tags": []
          },
          "execution_count": 90
        }
      ]
    },
    {
      "cell_type": "markdown",
      "metadata": {
        "pycharm": {
          "name": "#%% md\n"
        },
        "id": "djmbd_FrloS9",
        "colab_type": "text"
      },
      "source": [
        "##Split the dataset into train and test data"
      ]
    },
    {
      "cell_type": "code",
      "metadata": {
        "pycharm": {
          "is_executing": false,
          "name": "#%%\n"
        },
        "id": "qnfO6bjmloS9",
        "colab_type": "code",
        "colab": {}
      },
      "source": [
        "from sklearn.model_selection import train_test_split"
      ],
      "execution_count": 0,
      "outputs": []
    },
    {
      "cell_type": "code",
      "metadata": {
        "pycharm": {
          "is_executing": false,
          "name": "#%%\n"
        },
        "id": "Q3hkFpVFloS_",
        "colab_type": "code",
        "colab": {}
      },
      "source": [
        "#split dataset into train and test data\n",
        "X_train, X_test, y_train, y_test = train_test_split(X, y, test_size=0.2, random_state=1, stratify=y)"
      ],
      "execution_count": 0,
      "outputs": []
    },
    {
      "cell_type": "markdown",
      "metadata": {
        "id": "-qrFDxOpnhch",
        "colab_type": "text"
      },
      "source": [
        "####This means that 20% of all the data will be used for testing, which leaves 80% of the data as training data for the model to learn from. Setting ‘random_state’ to 1 ensures that we get the same split each time so we can reproduce our results.\n",
        "\n",
        "####Setting ‘stratify’ to y makes our training split represent the proportion of each value in the y variable. For example, in our dataset, if 25% of ratings are high and 75% are low, setting ‘stratify’ to y will ensure that the random split has 25% of ratings will be high and 75% will be low. But in or case, the split point (mean of y) is close to 50%."
      ]
    },
    {
      "cell_type": "markdown",
      "metadata": {
        "pycharm": {
          "name": "#%% md\n"
        },
        "id": "bLdwFdG7loTM",
        "colab_type": "text"
      },
      "source": [
        "##Building and training the model"
      ]
    },
    {
      "cell_type": "code",
      "metadata": {
        "id": "9wuxFAeY75Cj",
        "colab_type": "code",
        "outputId": "5f4fda80-d51a-48c6-a022-878fa00de30c",
        "colab": {
          "base_uri": "https://localhost:8080/",
          "height": 226
        }
      },
      "source": [
        "#%% md\n",
        "#### Clean and Transform Data\n",
        "#%%\n",
        "Cleaned_Data = myCleanAndTransformData(RawData)\n",
        "Y_Data = Cleaned_Data['Class']\n",
        "X_Data = Cleaned_Data.drop(columns=['Class'])\n",
        "\n",
        "#%% md\n",
        "#### Normalize  Data\n",
        "#%%\n",
        "Normalized_Data = myNormalize(X_Data)\n",
        "#%% md\n",
        "#### PCA\n",
        "#%%\n",
        "n_components=40\n",
        "PCA_Data = myPCA(Normalized_Data,n_components)\n",
        "PCA_Data.head()"
      ],
      "execution_count": 93,
      "outputs": [
        {
          "output_type": "execute_result",
          "data": {
            "text/html": [
              "<div>\n",
              "<style scoped>\n",
              "    .dataframe tbody tr th:only-of-type {\n",
              "        vertical-align: middle;\n",
              "    }\n",
              "\n",
              "    .dataframe tbody tr th {\n",
              "        vertical-align: top;\n",
              "    }\n",
              "\n",
              "    .dataframe thead th {\n",
              "        text-align: right;\n",
              "    }\n",
              "</style>\n",
              "<table border=\"1\" class=\"dataframe\">\n",
              "  <thead>\n",
              "    <tr style=\"text-align: right;\">\n",
              "      <th></th>\n",
              "      <th>0</th>\n",
              "      <th>1</th>\n",
              "      <th>2</th>\n",
              "      <th>3</th>\n",
              "      <th>4</th>\n",
              "      <th>5</th>\n",
              "      <th>6</th>\n",
              "      <th>7</th>\n",
              "      <th>8</th>\n",
              "      <th>9</th>\n",
              "      <th>10</th>\n",
              "      <th>11</th>\n",
              "      <th>12</th>\n",
              "      <th>13</th>\n",
              "      <th>14</th>\n",
              "      <th>15</th>\n",
              "      <th>16</th>\n",
              "      <th>17</th>\n",
              "      <th>18</th>\n",
              "      <th>19</th>\n",
              "      <th>20</th>\n",
              "      <th>21</th>\n",
              "      <th>22</th>\n",
              "      <th>23</th>\n",
              "      <th>24</th>\n",
              "      <th>25</th>\n",
              "      <th>26</th>\n",
              "      <th>27</th>\n",
              "      <th>28</th>\n",
              "      <th>29</th>\n",
              "      <th>30</th>\n",
              "      <th>31</th>\n",
              "      <th>32</th>\n",
              "      <th>33</th>\n",
              "      <th>34</th>\n",
              "      <th>35</th>\n",
              "      <th>36</th>\n",
              "      <th>37</th>\n",
              "      <th>38</th>\n",
              "      <th>39</th>\n",
              "    </tr>\n",
              "  </thead>\n",
              "  <tbody>\n",
              "    <tr>\n",
              "      <th>0</th>\n",
              "      <td>-0.311566</td>\n",
              "      <td>0.786508</td>\n",
              "      <td>-0.420821</td>\n",
              "      <td>0.005236</td>\n",
              "      <td>-0.078664</td>\n",
              "      <td>-0.049645</td>\n",
              "      <td>-0.062636</td>\n",
              "      <td>0.007171</td>\n",
              "      <td>-0.075349</td>\n",
              "      <td>-0.030938</td>\n",
              "      <td>0.086265</td>\n",
              "      <td>-0.139423</td>\n",
              "      <td>-0.157022</td>\n",
              "      <td>0.028296</td>\n",
              "      <td>-0.081142</td>\n",
              "      <td>-0.232689</td>\n",
              "      <td>-0.299072</td>\n",
              "      <td>0.804718</td>\n",
              "      <td>-0.258789</td>\n",
              "      <td>-0.007697</td>\n",
              "      <td>-0.094830</td>\n",
              "      <td>-0.108060</td>\n",
              "      <td>-0.062477</td>\n",
              "      <td>0.025716</td>\n",
              "      <td>0.003366</td>\n",
              "      <td>-0.024990</td>\n",
              "      <td>-0.033503</td>\n",
              "      <td>-0.004915</td>\n",
              "      <td>-0.011712</td>\n",
              "      <td>-0.006753</td>\n",
              "      <td>-0.011735</td>\n",
              "      <td>-0.014545</td>\n",
              "      <td>0.009435</td>\n",
              "      <td>-0.010507</td>\n",
              "      <td>-0.008281</td>\n",
              "      <td>-0.004206</td>\n",
              "      <td>0.005352</td>\n",
              "      <td>-0.013618</td>\n",
              "      <td>-0.006446</td>\n",
              "      <td>-0.007979</td>\n",
              "    </tr>\n",
              "    <tr>\n",
              "      <th>1</th>\n",
              "      <td>-0.284842</td>\n",
              "      <td>0.763991</td>\n",
              "      <td>-0.412009</td>\n",
              "      <td>-0.010872</td>\n",
              "      <td>-0.110067</td>\n",
              "      <td>-0.087028</td>\n",
              "      <td>-0.096769</td>\n",
              "      <td>0.054629</td>\n",
              "      <td>-0.179466</td>\n",
              "      <td>-0.045545</td>\n",
              "      <td>0.764386</td>\n",
              "      <td>0.581467</td>\n",
              "      <td>0.033981</td>\n",
              "      <td>-0.066736</td>\n",
              "      <td>0.030944</td>\n",
              "      <td>0.068189</td>\n",
              "      <td>0.010381</td>\n",
              "      <td>-0.031950</td>\n",
              "      <td>-0.043617</td>\n",
              "      <td>0.008153</td>\n",
              "      <td>-0.027471</td>\n",
              "      <td>-0.040197</td>\n",
              "      <td>-0.033364</td>\n",
              "      <td>0.004748</td>\n",
              "      <td>0.006595</td>\n",
              "      <td>-0.016142</td>\n",
              "      <td>-0.028681</td>\n",
              "      <td>-0.009417</td>\n",
              "      <td>-0.005301</td>\n",
              "      <td>-0.004059</td>\n",
              "      <td>-0.007210</td>\n",
              "      <td>-0.013044</td>\n",
              "      <td>0.006321</td>\n",
              "      <td>-0.011362</td>\n",
              "      <td>-0.008356</td>\n",
              "      <td>-0.001434</td>\n",
              "      <td>0.008436</td>\n",
              "      <td>-0.013130</td>\n",
              "      <td>-0.008164</td>\n",
              "      <td>-0.008526</td>\n",
              "    </tr>\n",
              "    <tr>\n",
              "      <th>2</th>\n",
              "      <td>-0.284838</td>\n",
              "      <td>0.767910</td>\n",
              "      <td>-0.395570</td>\n",
              "      <td>-0.007614</td>\n",
              "      <td>-0.091869</td>\n",
              "      <td>-0.059765</td>\n",
              "      <td>-0.062085</td>\n",
              "      <td>0.036505</td>\n",
              "      <td>-0.086830</td>\n",
              "      <td>-0.024721</td>\n",
              "      <td>0.092182</td>\n",
              "      <td>-0.282590</td>\n",
              "      <td>-0.451933</td>\n",
              "      <td>-0.569129</td>\n",
              "      <td>0.527433</td>\n",
              "      <td>0.287048</td>\n",
              "      <td>0.035418</td>\n",
              "      <td>-0.060918</td>\n",
              "      <td>-0.105735</td>\n",
              "      <td>-0.014495</td>\n",
              "      <td>-0.031113</td>\n",
              "      <td>-0.062849</td>\n",
              "      <td>-0.045541</td>\n",
              "      <td>0.012580</td>\n",
              "      <td>0.004915</td>\n",
              "      <td>-0.021745</td>\n",
              "      <td>-0.033705</td>\n",
              "      <td>-0.011350</td>\n",
              "      <td>-0.009066</td>\n",
              "      <td>-0.006142</td>\n",
              "      <td>-0.009453</td>\n",
              "      <td>-0.014750</td>\n",
              "      <td>0.006533</td>\n",
              "      <td>-0.012738</td>\n",
              "      <td>-0.009984</td>\n",
              "      <td>-0.005389</td>\n",
              "      <td>0.006576</td>\n",
              "      <td>-0.015098</td>\n",
              "      <td>-0.012767</td>\n",
              "      <td>-0.008442</td>\n",
              "    </tr>\n",
              "    <tr>\n",
              "      <th>3</th>\n",
              "      <td>-0.291600</td>\n",
              "      <td>0.777175</td>\n",
              "      <td>-0.408316</td>\n",
              "      <td>0.000301</td>\n",
              "      <td>-0.080828</td>\n",
              "      <td>-0.049799</td>\n",
              "      <td>-0.056889</td>\n",
              "      <td>0.019143</td>\n",
              "      <td>-0.070776</td>\n",
              "      <td>-0.027970</td>\n",
              "      <td>0.078032</td>\n",
              "      <td>-0.143403</td>\n",
              "      <td>-0.122692</td>\n",
              "      <td>-0.013062</td>\n",
              "      <td>-0.109524</td>\n",
              "      <td>-0.389583</td>\n",
              "      <td>-0.602805</td>\n",
              "      <td>-0.563640</td>\n",
              "      <td>-0.290750</td>\n",
              "      <td>-0.050590</td>\n",
              "      <td>-0.053020</td>\n",
              "      <td>-0.099437</td>\n",
              "      <td>-0.061856</td>\n",
              "      <td>0.024385</td>\n",
              "      <td>0.000884</td>\n",
              "      <td>-0.027273</td>\n",
              "      <td>-0.035588</td>\n",
              "      <td>-0.010735</td>\n",
              "      <td>-0.013581</td>\n",
              "      <td>-0.007671</td>\n",
              "      <td>-0.012234</td>\n",
              "      <td>-0.015445</td>\n",
              "      <td>0.007586</td>\n",
              "      <td>-0.011309</td>\n",
              "      <td>-0.009443</td>\n",
              "      <td>-0.007859</td>\n",
              "      <td>0.004323</td>\n",
              "      <td>-0.014700</td>\n",
              "      <td>-0.011738</td>\n",
              "      <td>-0.010328</td>\n",
              "    </tr>\n",
              "    <tr>\n",
              "      <th>4</th>\n",
              "      <td>0.732145</td>\n",
              "      <td>-0.153155</td>\n",
              "      <td>-0.102203</td>\n",
              "      <td>-0.458230</td>\n",
              "      <td>0.816867</td>\n",
              "      <td>0.046173</td>\n",
              "      <td>0.015773</td>\n",
              "      <td>-0.064780</td>\n",
              "      <td>0.014353</td>\n",
              "      <td>-0.005003</td>\n",
              "      <td>0.000576</td>\n",
              "      <td>0.017521</td>\n",
              "      <td>-0.007152</td>\n",
              "      <td>0.008121</td>\n",
              "      <td>0.015716</td>\n",
              "      <td>-0.003246</td>\n",
              "      <td>-0.012141</td>\n",
              "      <td>-0.006513</td>\n",
              "      <td>-0.013978</td>\n",
              "      <td>0.005164</td>\n",
              "      <td>-0.027942</td>\n",
              "      <td>-0.018726</td>\n",
              "      <td>-0.009779</td>\n",
              "      <td>-0.001077</td>\n",
              "      <td>0.018602</td>\n",
              "      <td>0.005430</td>\n",
              "      <td>-0.018040</td>\n",
              "      <td>0.010298</td>\n",
              "      <td>0.021743</td>\n",
              "      <td>0.001373</td>\n",
              "      <td>0.006886</td>\n",
              "      <td>-0.013277</td>\n",
              "      <td>0.019828</td>\n",
              "      <td>-0.014632</td>\n",
              "      <td>-0.007314</td>\n",
              "      <td>0.026790</td>\n",
              "      <td>0.025842</td>\n",
              "      <td>-0.020493</td>\n",
              "      <td>0.000149</td>\n",
              "      <td>0.046543</td>\n",
              "    </tr>\n",
              "  </tbody>\n",
              "</table>\n",
              "</div>"
            ],
            "text/plain": [
              "         0         1         2   ...        37        38        39\n",
              "0 -0.311566  0.786508 -0.420821  ... -0.013618 -0.006446 -0.007979\n",
              "1 -0.284842  0.763991 -0.412009  ... -0.013130 -0.008164 -0.008526\n",
              "2 -0.284838  0.767910 -0.395570  ... -0.015098 -0.012767 -0.008442\n",
              "3 -0.291600  0.777175 -0.408316  ... -0.014700 -0.011738 -0.010328\n",
              "4  0.732145 -0.153155 -0.102203  ... -0.020493  0.000149  0.046543\n",
              "\n",
              "[5 rows x 40 columns]"
            ]
          },
          "metadata": {
            "tags": []
          },
          "execution_count": 93
        }
      ]
    },
    {
      "cell_type": "code",
      "metadata": {
        "id": "H4HrDe_m7OYk",
        "colab_type": "code",
        "colab": {}
      },
      "source": [
        "#%% md\n",
        "####----------------------------------------------------------------\n",
        "#### Split  PCA_Data\n",
        "####----------------------------------------------------------------\n",
        "#%%\n",
        "X_train, X_test, y_train, y_test  = mySplitData(PCA_Data,Y_Data,0.33,42)\n",
        "X = X_train #PCA_Data\n",
        "y = y_train\n",
        "\n"
      ],
      "execution_count": 0,
      "outputs": []
    },
    {
      "cell_type": "code",
      "metadata": {
        "pycharm": {
          "is_executing": false,
          "name": "#%%\n"
        },
        "id": "M_p4rJ0lloTO",
        "colab_type": "code",
        "colab": {}
      },
      "source": [
        "from sklearn.neighbors import KNeighborsClassifier# Create KNN classifier"
      ],
      "execution_count": 0,
      "outputs": []
    },
    {
      "cell_type": "code",
      "metadata": {
        "pycharm": {
          "is_executing": false,
          "name": "#%%\n"
        },
        "id": "wowUz1RDloTQ",
        "colab_type": "code",
        "outputId": "d4fc6def-aac1-4fdb-a6da-e42bc7eda9b8",
        "colab": {
          "base_uri": "https://localhost:8080/",
          "height": 89
        }
      },
      "source": [
        "knn = KNeighborsClassifier(n_neighbors = 3)# Fit the classifier to the data\n",
        "knn.fit(X_train,y_train)"
      ],
      "execution_count": 96,
      "outputs": [
        {
          "output_type": "execute_result",
          "data": {
            "text/plain": [
              "KNeighborsClassifier(algorithm='auto', leaf_size=30, metric='minkowski',\n",
              "                     metric_params=None, n_jobs=None, n_neighbors=3, p=2,\n",
              "                     weights='uniform')"
            ]
          },
          "metadata": {
            "tags": []
          },
          "execution_count": 96
        }
      ]
    },
    {
      "cell_type": "markdown",
      "metadata": {
        "pycharm": {
          "name": "#%% md\n"
        },
        "id": "0Enmpq0GloTU",
        "colab_type": "text"
      },
      "source": [
        "##Testing the model"
      ]
    },
    {
      "cell_type": "code",
      "metadata": {
        "pycharm": {
          "is_executing": false,
          "name": "#%%\n"
        },
        "id": "yySrT7uhloTU",
        "colab_type": "code",
        "outputId": "8be6037c-6f1d-425e-cce0-eca4716dae56",
        "colab": {
          "base_uri": "https://localhost:8080/",
          "height": 34
        }
      },
      "source": [
        "#show first 5 model predictions on the test data\n",
        "knn.predict(X_test)[0:5]"
      ],
      "execution_count": 98,
      "outputs": [
        {
          "output_type": "execute_result",
          "data": {
            "text/plain": [
              "array([1, 1, 1, 0, 1])"
            ]
          },
          "metadata": {
            "tags": []
          },
          "execution_count": 98
        }
      ]
    },
    {
      "cell_type": "markdown",
      "metadata": {
        "id": "pffBJu3foqiQ",
        "colab_type": "text"
      },
      "source": [
        "###We can see that the model predicted ‘high rating’ for the first 3 and 5th animes in the test set and ‘low rating' for the 4th anime."
      ]
    },
    {
      "cell_type": "markdown",
      "metadata": {
        "id": "yENg6-JXkbFW",
        "colab_type": "text"
      },
      "source": [
        "##Check accuracy of our model on the test data"
      ]
    },
    {
      "cell_type": "code",
      "metadata": {
        "pycharm": {
          "is_executing": false,
          "name": "#%%\n"
        },
        "id": "os3cGfMsloTX",
        "colab_type": "code",
        "outputId": "93125ee5-7813-48f1-a191-cee090300c19",
        "colab": {
          "base_uri": "https://localhost:8080/",
          "height": 34
        }
      },
      "source": [
        "knn.score(X_test, y_test)"
      ],
      "execution_count": 99,
      "outputs": [
        {
          "output_type": "execute_result",
          "data": {
            "text/plain": [
              "0.7821296376000688"
            ]
          },
          "metadata": {
            "tags": []
          },
          "execution_count": 99
        }
      ]
    },
    {
      "cell_type": "markdown",
      "metadata": {
        "id": "qnhKq9XApTUt",
        "colab_type": "text"
      },
      "source": [
        "### Our model has an accuracy of approximately 78.21%. Which gives us a good start, but we will see how we can increase model performance following the steps below."
      ]
    },
    {
      "cell_type": "markdown",
      "metadata": {
        "pycharm": {
          "name": "#%% md\n"
        },
        "id": "Z5phSMdDloTZ",
        "colab_type": "text"
      },
      "source": [
        "##k-Fold Cross-Validation"
      ]
    },
    {
      "cell_type": "code",
      "metadata": {
        "pycharm": {
          "is_executing": false,
          "name": "#%%\n"
        },
        "id": "Mr2AORsXloTa",
        "colab_type": "code",
        "colab": {}
      },
      "source": [
        "from sklearn.model_selection import cross_val_score\n",
        "import numpy as np #create a new KNN model"
      ],
      "execution_count": 0,
      "outputs": []
    },
    {
      "cell_type": "code",
      "metadata": {
        "pycharm": {
          "is_executing": false,
          "name": "#%%\n"
        },
        "id": "LYco_i5bloTf",
        "colab_type": "code",
        "colab": {}
      },
      "source": [
        "knn_cv = KNeighborsClassifier(n_neighbors=3) #train model with cv of 5 "
      ],
      "execution_count": 0,
      "outputs": []
    },
    {
      "cell_type": "markdown",
      "metadata": {
        "id": "7xgdAwKtkwMK",
        "colab_type": "text"
      },
      "source": [
        "## CV score (accuracy) and the average of them"
      ]
    },
    {
      "cell_type": "code",
      "metadata": {
        "pycharm": {
          "is_executing": false,
          "name": "#%%\n"
        },
        "id": "X9sCz4P7loTg",
        "colab_type": "code",
        "outputId": "4d52c450-fb5e-4e20-ebf4-80456b45b60c",
        "colab": {
          "base_uri": "https://localhost:8080/",
          "height": 52
        }
      },
      "source": [
        "cv_scores = cross_val_score(knn_cv, X, y, cv=5) #print each cv score (accuracy) and average them\n",
        "print(cv_scores)\n",
        "print('cv_scores mean:{}'.format(np.mean(cv_scores)))"
      ],
      "execution_count": 102,
      "outputs": [
        {
          "output_type": "stream",
          "text": [
            "[0.77681221 0.77655289 0.78100488 0.77268872 0.77947413]\n",
            "cv_scores mean:0.7773065656409289\n"
          ],
          "name": "stdout"
        }
      ]
    },
    {
      "cell_type": "markdown",
      "metadata": {
        "id": "1Hs2ifptqBwM",
        "colab_type": "text"
      },
      "source": [
        "###Using cross-validation, our mean score is about 77.77%. This is a more accurate representation of how our model will perform on **unseen data** than our earlier testing using the holdout method."
      ]
    },
    {
      "cell_type": "markdown",
      "metadata": {
        "pycharm": {
          "name": "#%% md\n"
        },
        "id": "RiT7caxQloTj",
        "colab_type": "text"
      },
      "source": [
        "##Hypertuning model parameters using GridSearchCV"
      ]
    },
    {
      "cell_type": "markdown",
      "metadata": {
        "id": "qVwzGgmmqbvj",
        "colab_type": "text"
      },
      "source": [
        "### Hypertuning parameters is when you go through a process to find the optimal parameters for your model to improve accuracy. In our case, we will use GridSearchCV to find the optimal value for ‘n_neighbors’."
      ]
    },
    {
      "cell_type": "code",
      "metadata": {
        "pycharm": {
          "is_executing": false,
          "name": "#%%\n"
        },
        "id": "hXqUEi7mloTk",
        "colab_type": "code",
        "colab": {}
      },
      "source": [
        "from sklearn.model_selection import GridSearchCV"
      ],
      "execution_count": 0,
      "outputs": []
    },
    {
      "cell_type": "code",
      "metadata": {
        "pycharm": {
          "is_executing": false,
          "name": "#%%\n"
        },
        "id": "NaNLTa4-loTm",
        "colab_type": "code",
        "colab": {}
      },
      "source": [
        "#create new a knn model\n",
        "knn2 = KNeighborsClassifier()"
      ],
      "execution_count": 0,
      "outputs": []
    },
    {
      "cell_type": "code",
      "metadata": {
        "pycharm": {
          "is_executing": false,
          "name": "#%%\n"
        },
        "id": "ZUQmpNb6loTo",
        "colab_type": "code",
        "colab": {}
      },
      "source": [
        "#create a dictionary of all values we want to test for n_neighbors\n",
        "param_grid = {'n_neighbors': np.arange(1, 40)}"
      ],
      "execution_count": 0,
      "outputs": []
    },
    {
      "cell_type": "code",
      "metadata": {
        "pycharm": {
          "is_executing": false,
          "name": "#%%\n"
        },
        "id": "kiNp4Y4tloTp",
        "colab_type": "code",
        "colab": {}
      },
      "source": [
        "#use gridsearch to test all values for n_neighbors\n",
        "knn_gscv = GridSearchCV(knn2, param_grid, cv=5)"
      ],
      "execution_count": 0,
      "outputs": []
    },
    {
      "cell_type": "code",
      "metadata": {
        "pycharm": {
          "is_executing": false,
          "name": "#%%\n"
        },
        "id": "wQXZsxc6loTr",
        "colab_type": "code",
        "outputId": "e583df3a-1f22-4e92-abac-dfadd7611e1b",
        "colab": {
          "base_uri": "https://localhost:8080/",
          "height": 245
        }
      },
      "source": [
        "#fit model to data\n",
        "knn_gscv.fit(X, y)"
      ],
      "execution_count": 107,
      "outputs": [
        {
          "output_type": "execute_result",
          "data": {
            "text/plain": [
              "GridSearchCV(cv=5, error_score='raise-deprecating',\n",
              "             estimator=KNeighborsClassifier(algorithm='auto', leaf_size=30,\n",
              "                                            metric='minkowski',\n",
              "                                            metric_params=None, n_jobs=None,\n",
              "                                            n_neighbors=5, p=2,\n",
              "                                            weights='uniform'),\n",
              "             iid='warn', n_jobs=None,\n",
              "             param_grid={'n_neighbors': array([ 1,  2,  3,  4,  5,  6,  7,  8,  9, 10, 11, 12, 13, 14, 15, 16, 17,\n",
              "       18, 19, 20, 21, 22, 23, 24, 25, 26, 27, 28, 29, 30, 31, 32, 33, 34,\n",
              "       35, 36, 37, 38, 39])},\n",
              "             pre_dispatch='2*n_jobs', refit=True, return_train_score=False,\n",
              "             scoring=None, verbose=0)"
            ]
          },
          "metadata": {
            "tags": []
          },
          "execution_count": 107
        }
      ]
    },
    {
      "cell_type": "markdown",
      "metadata": {
        "id": "Rah2Fdy_lEkw",
        "colab_type": "text"
      },
      "source": [
        "##Check top performing n_neighbors value"
      ]
    },
    {
      "cell_type": "markdown",
      "metadata": {
        "id": "Uf8LPts9qujM",
        "colab_type": "text"
      },
      "source": [
        "###After training, we can check which of our values for ‘n_neighbors’ that we tested performed the best. To do this, we will call ‘best_params_’ on our model."
      ]
    },
    {
      "cell_type": "code",
      "metadata": {
        "pycharm": {
          "is_executing": false,
          "name": "#%%\n"
        },
        "id": "79DQ_u98loTu",
        "colab_type": "code",
        "outputId": "ef9b9c24-5778-42d5-bb25-00a164c9491a",
        "colab": {
          "base_uri": "https://localhost:8080/",
          "height": 34
        }
      },
      "source": [
        "knn_gscv.best_params_"
      ],
      "execution_count": 108,
      "outputs": [
        {
          "output_type": "execute_result",
          "data": {
            "text/plain": [
              "{'n_neighbors': 9}"
            ]
          },
          "metadata": {
            "tags": []
          },
          "execution_count": 108
        }
      ]
    },
    {
      "cell_type": "markdown",
      "metadata": {
        "id": "5w5Cs8DcrCnP",
        "colab_type": "text"
      },
      "source": [
        "### As we can see, 9 is the optimal value for ‘n_neighbors’. \n",
        "\n",
        "### We can use the ‘best_score_’ function to check the accuracy of our model when ‘n_neighbors’ is 9.\n",
        "\n",
        "### ‘best_score_’ outputs the mean accuracy of the scores obtained through cross-validation."
      ]
    },
    {
      "cell_type": "markdown",
      "metadata": {
        "id": "_SbVw-7IlMVb",
        "colab_type": "text"
      },
      "source": [
        "## Check mean score for the top performing value of n_neighbors"
      ]
    },
    {
      "cell_type": "code",
      "metadata": {
        "pycharm": {
          "is_executing": false,
          "name": "#%%\n"
        },
        "id": "UTYvz5nGloTw",
        "colab_type": "code",
        "outputId": "657d6fbd-3d98-42cc-ff78-64fcae9ab14c",
        "colab": {
          "base_uri": "https://localhost:8080/",
          "height": 34
        }
      },
      "source": [
        "knn_gscv.best_score_\n"
      ],
      "execution_count": 109,
      "outputs": [
        {
          "output_type": "execute_result",
          "data": {
            "text/plain": [
              "0.7918080054274084"
            ]
          },
          "metadata": {
            "tags": []
          },
          "execution_count": 109
        }
      ]
    },
    {
      "cell_type": "markdown",
      "metadata": {
        "id": "tIiWmpzZrvOC",
        "colab_type": "text"
      },
      "source": [
        "###Our model now, gives us an accuracy of 79.18% to be able to predict when new data is used."
      ]
    },
    {
      "cell_type": "markdown",
      "metadata": {
        "collapsed": false,
        "pycharm": {
          "name": "#%% md\n"
        },
        "id": "EGimAYknloTz",
        "colab_type": "text"
      },
      "source": [
        "## Confusion Matrix (get the predictions using the classifier which was fitted above)"
      ]
    },
    {
      "cell_type": "code",
      "metadata": {
        "pycharm": {
          "name": "#%%\n",
          "is_executing": false
        },
        "id": "V1ljBRL8loT0",
        "colab_type": "code",
        "outputId": "8a5be0a8-e218-4c3c-8088-4371b14ee598",
        "colab": {
          "base_uri": "https://localhost:8080/",
          "height": 175
        }
      },
      "source": [
        "#https://www.kaggle.com/amolbhivarkar/knn-for-classification-using-scikit-learn\n",
        "\n",
        "#import confusion_matrix\n",
        "from sklearn.metrics import confusion_matrix\n",
        "#let us get the predictions using the classifier we had fit above\n",
        "y_pred = knn.predict(X_test)\n",
        "pd.crosstab(y_test, y_pred, rownames=['True'], colnames=['Predicted'], margins=True)"
      ],
      "execution_count": 110,
      "outputs": [
        {
          "output_type": "execute_result",
          "data": {
            "text/html": [
              "<div>\n",
              "<style scoped>\n",
              "    .dataframe tbody tr th:only-of-type {\n",
              "        vertical-align: middle;\n",
              "    }\n",
              "\n",
              "    .dataframe tbody tr th {\n",
              "        vertical-align: top;\n",
              "    }\n",
              "\n",
              "    .dataframe thead th {\n",
              "        text-align: right;\n",
              "    }\n",
              "</style>\n",
              "<table border=\"1\" class=\"dataframe\">\n",
              "  <thead>\n",
              "    <tr style=\"text-align: right;\">\n",
              "      <th>Predicted</th>\n",
              "      <th>0</th>\n",
              "      <th>1</th>\n",
              "      <th>All</th>\n",
              "    </tr>\n",
              "    <tr>\n",
              "      <th>True</th>\n",
              "      <th></th>\n",
              "      <th></th>\n",
              "      <th></th>\n",
              "    </tr>\n",
              "  </thead>\n",
              "  <tbody>\n",
              "    <tr>\n",
              "      <th>0</th>\n",
              "      <td>2827</td>\n",
              "      <td>1278</td>\n",
              "      <td>4105</td>\n",
              "    </tr>\n",
              "    <tr>\n",
              "      <th>1</th>\n",
              "      <td>1253</td>\n",
              "      <td>6259</td>\n",
              "      <td>7512</td>\n",
              "    </tr>\n",
              "    <tr>\n",
              "      <th>All</th>\n",
              "      <td>4080</td>\n",
              "      <td>7537</td>\n",
              "      <td>11617</td>\n",
              "    </tr>\n",
              "  </tbody>\n",
              "</table>\n",
              "</div>"
            ],
            "text/plain": [
              "Predicted     0     1    All\n",
              "True                        \n",
              "0          2827  1278   4105\n",
              "1          1253  6259   7512\n",
              "All        4080  7537  11617"
            ]
          },
          "metadata": {
            "tags": []
          },
          "execution_count": 110
        }
      ]
    },
    {
      "cell_type": "markdown",
      "metadata": {
        "id": "_M71CPWfslos",
        "colab_type": "text"
      },
      "source": [
        "### The confusion matrix describes the performance of a classification model (or \"classifier\") on a set of test data for which the true values are known.\n",
        "\n",
        "### For, it can be appreciated that the rate of True Positives is 82.91%. It means, that the porbability of classifying a False Positive (missclassify) is about 17%"
      ]
    },
    {
      "cell_type": "markdown",
      "metadata": {
        "collapsed": false,
        "pycharm": {
          "name": "#%% md\n"
        },
        "id": "LSX4KWM5loT2",
        "colab_type": "text"
      },
      "source": [
        "## Classification report"
      ]
    },
    {
      "cell_type": "code",
      "metadata": {
        "pycharm": {
          "name": "#%%\n",
          "is_executing": false
        },
        "id": "4OwoLbLMloT3",
        "colab_type": "code",
        "outputId": "4d8bff9e-4b31-468c-8655-600fef7d07da",
        "colab": {
          "base_uri": "https://localhost:8080/",
          "height": 173
        }
      },
      "source": [
        "#import classification_report\n",
        "from sklearn.metrics import classification_report\n",
        "print(classification_report(y_test,y_pred))\n"
      ],
      "execution_count": 111,
      "outputs": [
        {
          "output_type": "stream",
          "text": [
            "              precision    recall  f1-score   support\n",
            "\n",
            "           0       0.69      0.69      0.69      4105\n",
            "           1       0.83      0.83      0.83      7512\n",
            "\n",
            "    accuracy                           0.78     11617\n",
            "   macro avg       0.76      0.76      0.76     11617\n",
            "weighted avg       0.78      0.78      0.78     11617\n",
            "\n"
          ],
          "name": "stdout"
        }
      ]
    },
    {
      "cell_type": "markdown",
      "metadata": {
        "id": "wXyMVfrKmQOH",
        "colab_type": "text"
      },
      "source": [
        "### The classification report shows a representation of the main classification metrics (precision, recall, f1-score, support) on a per-class basis. \n",
        "\n",
        "### This gives a deeper intuition of the classifier behavior over global accuracy which can mask functional weaknesses in one class of a multiclass problem. \n",
        "\n",
        "### For the model, the visual classification reports that it has stronger classification metrics which are balanced.\n",
        "\n"
      ]
    },
    {
      "cell_type": "markdown",
      "metadata": {
        "collapsed": false,
        "pycharm": {
          "name": "#%% md\n"
        },
        "id": "nlJ2kBV4loT5",
        "colab_type": "text"
      },
      "source": [
        "## ROC (Receiver Operating Characteristic) curve"
      ]
    },
    {
      "cell_type": "markdown",
      "metadata": {
        "collapsed": false,
        "pycharm": {
          "name": "#%% md\n"
        },
        "id": "1v7m7IiKloT6",
        "colab_type": "text"
      },
      "source": [
        "https://www.kaggle.com/amolbhivarkar/knn-for-classification-using-scikit-learn\n"
      ]
    },
    {
      "cell_type": "code",
      "metadata": {
        "pycharm": {
          "name": "#%%\n",
          "is_executing": false
        },
        "id": "Hrw0GhIvloT7",
        "colab_type": "code",
        "outputId": "d6d23eb5-a04c-45d3-81cd-96a1174fb9d9",
        "colab": {
          "base_uri": "https://localhost:8080/",
          "height": 295
        }
      },
      "source": [
        "y_pred_proba = knn.predict_proba(X_test)[:,1]\n",
        "from sklearn.metrics import roc_curve\n",
        "fpr, tpr, thresholds = roc_curve(y_test, y_pred_proba)\n",
        "plt.plot([0,1],[0,1],'r--')\n",
        "plt.plot(fpr,tpr, label='Knn, AUC: 0.82')\n",
        "plt.legend()\n",
        "plt.xlabel('False Positive Rate')\n",
        "plt.ylabel('True Positive Rate')\n",
        "plt.title('Knn(n_neighbors=30) ROC curve')\n",
        "plt.show()"
      ],
      "execution_count": 114,
      "outputs": [
        {
          "output_type": "display_data",
          "data": {
            "image/png": "[encoded data removed]",
            "text/plain": [
              "<Figure size 432x288 with 1 Axes>"
            ]
          },
          "metadata": {
            "tags": []
          }
        }
      ]
    },
    {
      "cell_type": "code",
      "metadata": {
        "pycharm": {
          "name": "#%%\n",
          "is_executing": false
        },
        "id": "kRlWfqfUloT9",
        "colab_type": "code",
        "outputId": "72b1da11-86a2-42b0-fe53-661fbd4eafe5",
        "colab": {
          "base_uri": "https://localhost:8080/",
          "height": 34
        }
      },
      "source": [
        "#Area under ROC curve\n",
        "from sklearn.metrics import roc_auc_score\n",
        "roc_auc_score(y_test,y_pred_proba)"
      ],
      "execution_count": 113,
      "outputs": [
        {
          "output_type": "execute_result",
          "data": {
            "text/plain": [
              "0.8241806856492057"
            ]
          },
          "metadata": {
            "tags": []
          },
          "execution_count": 113
        }
      ]
    },
    {
      "cell_type": "markdown",
      "metadata": {
        "id": "YxXto5yHt1Qb",
        "colab_type": "text"
      },
      "source": [
        "### The ROC curve demonstrates several things:\n",
        "\n",
        "### 1) It shows the tradeoff between sensitivity and specificity (any increase in sensitivity will be accompanied by a decrease in specificity).\n",
        "\n",
        "### 2) The closer the curve follows the left-hand border and then the top border of the ROC space, the more accurate the test.\n",
        "\n",
        "### 3)The closer the curve comes to the 45-degree diagonal of the ROC space, the less accurate the test.\n",
        "\n",
        "### 4) The area under the curve is a measure of test accuracy. For our model, it represents 78.47%"
      ]
    },
    {
      "cell_type": "markdown",
      "metadata": {
        "id": "rM6_zpAjum7k",
        "colab_type": "text"
      },
      "source": [
        "## Complexity Curve / Validation Curve"
      ]
    },
    {
      "cell_type": "code",
      "metadata": {
        "pycharm": {
          "name": "#%%\n",
          "is_executing": false
        },
        "id": "Vt3wshnGloUA",
        "colab_type": "code",
        "colab": {}
      },
      "source": [
        "#import KNeighborsClassifier\n",
        "from sklearn.neighbors import KNeighborsClassifier\n",
        "\n",
        "#Setup arrays to store training and test accuracies\n",
        "neighbors = np.arange(1,40)\n",
        "train_accuracy =np.empty(len(neighbors))\n",
        "test_accuracy = np.empty(len(neighbors))\n",
        "\n",
        "for i,k in enumerate(neighbors):\n",
        "    #Setup a knn classifier with k neighbors\n",
        "    knn = KNeighborsClassifier(n_neighbors=k)\n",
        "    \n",
        "    #Fit the model\n",
        "    knn.fit(X_train, y_train)\n",
        "    \n",
        "    #Compute accuracy on the training set\n",
        "    train_accuracy[i] = knn.score(X_train, y_train)\n",
        "    \n",
        "    #Compute accuracy on the test set\n",
        "    test_accuracy[i] = knn.score(X_test, y_test) "
      ],
      "execution_count": 0,
      "outputs": []
    },
    {
      "cell_type": "code",
      "metadata": {
        "pycharm": {
          "name": "#%%\n",
          "is_executing": false
        },
        "id": "1KgVZh5aloUB",
        "colab_type": "code",
        "outputId": "4bc7a2c6-79ff-48c5-9517-e2fee2ee02e4",
        "colab": {
          "base_uri": "https://localhost:8080/",
          "height": 295
        }
      },
      "source": [
        "#Generate plot\n",
        "plt.title('k-NN Varying number of neighbors/Complexity Curve/Validation Curve')\n",
        "plt.plot(neighbors, test_accuracy, label='Testing Accuracy/Cross-validation score')\n",
        "plt.plot(neighbors, train_accuracy, label='Training accuracy/Training score')\n",
        "plt.legend()\n",
        "plt.xlabel('Number of neighbors')\n",
        "plt.ylabel('Accuracy')\n",
        "plt.show()"
      ],
      "execution_count": 116,
      "outputs": [
        {
          "output_type": "display_data",
          "data": {
            "image/png": "[encoded data removed]",
            "text/plain": [
              "<Figure size 432x288 with 1 Axes>"
            ]
          },
          "metadata": {
            "tags": []
          }
        }
      ]
    },
    {
      "cell_type": "markdown",
      "metadata": {
        "id": "Is3H7FgkvPwZ",
        "colab_type": "text"
      },
      "source": [
        "\n",
        "### We can observe above that we get maximum testing accuracy for k=9. \n",
        "\n",
        "### So, the KNeighborsClassifier with number of neighbors as 9, offers the best tunning for the model to generate accuracy predictions.\n",
        "\n",
        "### We can see in the resulting visualization that a with number of neighbors less than 9 severely underfits the model on this data set because the training score and testing score climb together in this parameter range, and because of the high variability of cross validation on the test scores.\n",
        "\n",
        "###  After k=9, the training and test scores converge, this is because from this value on, the model is beginning to overfit the training data, providing no generalizability to the model. \n",
        "\n",
        "### However, because the cross validation score does not necessarily decrease, the model is not suffering from high error due to variance."
      ]
    },
    {
      "cell_type": "markdown",
      "metadata": {
        "collapsed": false,
        "pycharm": {
          "name": "#%% md\n"
        },
        "id": "F-4U0e6IloUE",
        "colab_type": "text"
      },
      "source": [
        "## Learning Curve"
      ]
    },
    {
      "cell_type": "code",
      "metadata": {
        "pycharm": {
          "name": "#%%\n",
          "is_executing": false
        },
        "id": "Z9g9f0f_loUF",
        "colab_type": "code",
        "outputId": "479c9a6f-f3a2-4f84-d305-29c0f2ff8740",
        "colab": {
          "base_uri": "https://localhost:8080/",
          "height": 297
        }
      },
      "source": [
        "#https://chrisalbon.com/machine_learning/model_evaluation/plot_the_learning_curve/\n",
        "# Create CV training and test scores for various training set sizes\n",
        "from sklearn.model_selection import learning_curve\n",
        "train_sizes, train_scores, test_scores = learning_curve(KNeighborsClassifier(), \n",
        "                                                        X, \n",
        "                                                        y,\n",
        "                                                        # Number of folds in cross-validation\n",
        "                                                        cv=10,\n",
        "                                                        # Evaluation metric\n",
        "                                                        scoring='accuracy',\n",
        "                                                        # Use all computer cores\n",
        "                                                        n_jobs=-1, \n",
        "                                                        # 50 different sizes of the training set\n",
        "                                                        train_sizes=np.linspace(0.01, 1.0, 50))\n",
        "\n",
        "# Create means and standard deviations of training set scores\n",
        "train_mean = np.mean(train_scores, axis=1)\n",
        "train_std = np.std(train_scores, axis=1)\n",
        "\n",
        "# Create means and standard deviations of test set scores\n",
        "test_mean = np.mean(test_scores, axis=1)\n",
        "test_std = np.std(test_scores, axis=1)\n",
        "\n",
        "# Draw lines\n",
        "plt.plot(train_sizes, train_mean, '--', color=\"blue\",  label=\"Training score\")\n",
        "plt.plot(train_sizes, test_mean, color=\"red\", label=\"Cross-validation score\")\n",
        "\n",
        "# Draw bands\n",
        "plt.fill_between(train_sizes, train_mean - train_std, train_mean + train_std, color=\"#7fbfbf\")\n",
        "plt.fill_between(train_sizes, test_mean - test_std, test_mean + test_std, color=\"#DDDDDD\")\n",
        "\n",
        "# Create plot\n",
        "plt.title(\"Learning Curve\")\n",
        "plt.xlabel(\"Training Set Size\"), plt.ylabel(\"Accuracy Score\"), plt.legend(loc=\"best\")\n",
        "plt.tight_layout()\n",
        "plt.show()"
      ],
      "execution_count": 118,
      "outputs": [
        {
          "output_type": "display_data",
          "data": {
            "image/png": "[encoded data removed]",
            "text/plain": [
              "<Figure size 432x288 with 1 Axes>"
            ]
          },
          "metadata": {
            "tags": []
          }
        }
      ]
    },
    {
      "cell_type": "markdown",
      "metadata": {
        "id": "vUlKb8iyxiVh",
        "colab_type": "text"
      },
      "source": [
        "### A learning curve shows the relationship of the training score vs the cross validated test score for an estimator with a varying number of training samples. This visualization is typically used two show two things:\n",
        "\n",
        "### - How much the estimator benefits from more data (e.g. do we have “enough data” or will the estimator get better if used in an online fashion).\n",
        "\n",
        "### - If the estimator is more sensitive to error due to variance vs. error due to bias.\n",
        "\n",
        "### Due to the training and cross validation scores converge together as more data is added, then ***the model will probably not benefit from more data addition***. It means that is can ***produce the same predictions only with a dataset with a minimum dimension of 6'000 rows of data***. \n",
        "\n",
        "### It is important to mention that, the curves are plotted with the mean scores, however variability during cross-validation is shown with the shaded areas that represent a standard deviation above and below the mean for all cross-validations. \n",
        "\n",
        "### Moreover, if the model suffers from error due to bias, then there will likely be more variability around the training score curve. If the model suffers from error due to variance, then there will be more variability around the cross validated score."
      ]
    },
    {
      "cell_type": "markdown",
      "metadata": {
        "id": "xmjv_ytiimDu",
        "colab_type": "text"
      },
      "source": [
        "## Exporting the model (Flask)"
      ]
    },
    {
      "cell_type": "code",
      "metadata": {
        "id": "K3YqqwZ9iwLF",
        "colab_type": "code",
        "colab": {}
      },
      "source": [
        "from sklearn.externals import joblib\n",
        "joblib.dump(clf, 'my_knn_model.pkl', compress=9)\n",
        "\n",
        "from sklearn.externals import joblib\n",
        "model_clone = joblib.load('my_knn_model.pkl')\n",
        "y_pred_dt = model_clone.predict_proba(X_test)[:, 1]\n",
        "y_pred_dt"
      ],
      "execution_count": 0,
      "outputs": []
    }
  ]
}