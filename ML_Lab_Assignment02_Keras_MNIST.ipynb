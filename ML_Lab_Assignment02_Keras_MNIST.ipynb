{
  "nbformat": 4,
  "nbformat_minor": 0,
  "metadata": {
    "colab": {
      "name": "ML-Lab-Assignment02-Keras-MNIST.ipynb",
      "version": "0.3.2",
      "provenance": [],
      "collapsed_sections": [],
      "include_colab_link": true
    },
    "kernelspec": {
      "name": "python3",
      "display_name": "Python 3"
    },
    "accelerator": "GPU"
  },
  "cells": [
    {
      "cell_type": "markdown",
      "metadata": {
        "id": "view-in-github",
        "colab_type": "text"
      },
      "source": [
        "<a href=\"https://colab.research.google.com/github/ngocbaosp/ML-Projects/blob/master/ML_Lab_Assignment02_Keras_MNIST.ipynb\" target=\"_parent\"><img src=\"https://colab.research.google.com/assets/colab-badge.svg\" alt=\"Open In Colab\"/></a>"
      ]
    },
    {
      "cell_type": "markdown",
      "metadata": {
        "id": "SI3USZa96Qqz",
        "colab_type": "text"
      },
      "source": [
        "Course: Machine Learning\n"
      ]
    },
    {
      "cell_type": "markdown",
      "metadata": {
        "id": "vpMsvO5n6b76",
        "colab_type": "text"
      },
      "source": [
        "Assignment: 02\n"
      ]
    },
    {
      "cell_type": "markdown",
      "metadata": {
        "id": "8fQcXn2g6d00",
        "colab_type": "text"
      },
      "source": [
        "Student: Ngoc Bao Tran - 987034"
      ]
    },
    {
      "cell_type": "markdown",
      "metadata": {
        "id": "dc9HrWtJ3Rni",
        "colab_type": "text"
      },
      "source": [
        "# Load Dataset"
      ]
    },
    {
      "cell_type": "code",
      "metadata": {
        "id": "xPx_iBad5Rhq",
        "colab_type": "code",
        "colab": {}
      },
      "source": [
        "import numpy as np # linear algebra\n",
        "import pandas as pd # data processing, CSV file I/O (e.g. pd.read_csv)\n",
        "import matplotlib.pyplot as plt #for plotting\n",
        "from collections import Counter\n",
        "from sklearn.metrics import confusion_matrix\n",
        "import itertools\n",
        "import seaborn as sns\n",
        "from subprocess import check_output\n",
        "%matplotlib inline"
      ],
      "execution_count": 0,
      "outputs": []
    },
    {
      "cell_type": "code",
      "metadata": {
        "id": "m9ClyRpl3v2R",
        "colab_type": "code",
        "outputId": "b31a89b6-007a-4242-f6f6-f01b8caf8587",
        "colab": {
          "base_uri": "https://localhost:8080/",
          "height": 68
        }
      },
      "source": [
        "from keras.datasets import mnist\n",
        "(x_train, y_train), (x_test, y_test) = mnist.load_data()"
      ],
      "execution_count": 2,
      "outputs": [
        {
          "output_type": "stream",
          "text": [
            "Using TensorFlow backend.\n"
          ],
          "name": "stderr"
        },
        {
          "output_type": "stream",
          "text": [
            "Downloading data from https://s3.amazonaws.com/img-datasets/mnist.npz\n",
            "11493376/11490434 [==============================] - 0s 0us/step\n"
          ],
          "name": "stdout"
        }
      ]
    },
    {
      "cell_type": "code",
      "metadata": {
        "id": "ptD0q37G4EM-",
        "colab_type": "code",
        "outputId": "ddb6556c-44f0-483f-9aab-676cc9c27385",
        "colab": {
          "base_uri": "https://localhost:8080/",
          "height": 108
        }
      },
      "source": [
        "%matplotlib inline\n",
        "# preview the images first\n",
        "plt.figure(figsize=(12,10))\n",
        "x, y = 10, 1\n",
        "for i in range(10):  \n",
        "    plt.subplot(y, x, i+1)\n",
        "    plt.imshow(x_train[i].reshape((28,28)),interpolation='nearest')\n",
        "plt.show()"
      ],
      "execution_count": 3,
      "outputs": [
        {
          "output_type": "display_data",
          "data": {
            "image/png": "[encoded data removed]",
            "text/plain": [
              "<Figure size 864x720 with 10 Axes>"
            ]
          },
          "metadata": {
            "tags": []
          }
        }
      ]
    },
    {
      "cell_type": "markdown",
      "metadata": {
        "id": "SeYV9D4p3ZIs",
        "colab_type": "text"
      },
      "source": [
        "# Data Exploration and Preparation"
      ]
    },
    {
      "cell_type": "code",
      "metadata": {
        "id": "11kbuuEg7ihO",
        "colab_type": "code",
        "outputId": "c07b20cd-3459-4c99-f114-3cf05e7ed934",
        "colab": {
          "base_uri": "https://localhost:8080/",
          "height": 286
        }
      },
      "source": [
        "#View distribution of the label\n",
        "sns.countplot(y_train)"
      ],
      "execution_count": 4,
      "outputs": [
        {
          "output_type": "execute_result",
          "data": {
            "text/plain": [
              "<matplotlib.axes._subplots.AxesSubplot at 0x7f0dbbfcf4a8>"
            ]
          },
          "metadata": {
            "tags": []
          },
          "execution_count": 4
        },
        {
          "output_type": "display_data",
          "data": {
            "image/png": "[encoded data removed]",
            "text/plain": [
              "<Figure size 432x288 with 1 Axes>"
            ]
          },
          "metadata": {
            "tags": []
          }
        }
      ]
    },
    {
      "cell_type": "code",
      "metadata": {
        "id": "SH5Whm7t_x2H",
        "colab_type": "code",
        "outputId": "003ea176-d413-41af-dc4c-f4607d16d3b7",
        "colab": {
          "base_uri": "https://localhost:8080/",
          "height": 704
        }
      },
      "source": [
        "def visualize_input(img, ax):\n",
        "    ax.imshow(img, cmap='gray')\n",
        "    width, height = img.shape\n",
        "    thresh = img.max()/2.5\n",
        "    for x in range(width):\n",
        "        for y in range(height):\n",
        "            ax.annotate(str(round(img[x][y],2)), xy=(y,x),\n",
        "                        horizontalalignment='center',\n",
        "                        verticalalignment='center',\n",
        "                        color='white' if img[x][y]<thresh else 'black')\n",
        "fig = plt.figure(figsize = (12,12)) \n",
        "ax = fig.add_subplot(111)\n",
        "visualize_input(x_train[1].reshape(28,28), ax)"
      ],
      "execution_count": 5,
      "outputs": [
        {
          "output_type": "display_data",
          "data": {
            "image/png": "[encoded data removed]",
            "text/plain": [
              "<Figure size 864x864 with 1 Axes>"
            ]
          },
          "metadata": {
            "tags": []
          }
        }
      ]
    },
    {
      "cell_type": "markdown",
      "metadata": {
        "id": "UXrUOtWi9e_k",
        "colab_type": "text"
      },
      "source": [
        "The value of each pixel between 0 and 255 (gray scale)\n",
        "So we should do nomalization "
      ]
    },
    {
      "cell_type": "markdown",
      "metadata": {
        "id": "bv5ZWgP-91st",
        "colab_type": "text"
      },
      "source": [
        "## Normalization"
      ]
    },
    {
      "cell_type": "code",
      "metadata": {
        "id": "cih5yX1x9yvF",
        "colab_type": "code",
        "outputId": "0f12fb99-0cc8-41fa-a864-a7dd7d78fec6",
        "colab": {
          "base_uri": "https://localhost:8080/",
          "height": 2873
        }
      },
      "source": [
        "maxValue = 255\n",
        "X_train = x_train/maxValue\n",
        "X_test = x_test/maxValue\n",
        "X_train[0]"
      ],
      "execution_count": 6,
      "outputs": [
        {
          "output_type": "execute_result",
          "data": {
            "text/plain": [
              "array([[0.        , 0.        , 0.        , 0.        , 0.        ,\n",
              "        0.        , 0.        , 0.        , 0.        , 0.        ,\n",
              "        0.        , 0.        , 0.        , 0.        , 0.        ,\n",
              "        0.        , 0.        , 0.        , 0.        , 0.        ,\n",
              "        0.        , 0.        , 0.        , 0.        , 0.        ,\n",
              "        0.        , 0.        , 0.        ],\n",
              "       [0.        , 0.        , 0.        , 0.        , 0.        ,\n",
              "        0.        , 0.        , 0.        , 0.        , 0.        ,\n",
              "        0.        , 0.        , 0.        , 0.        , 0.        ,\n",
              "        0.        , 0.        , 0.        , 0.        , 0.        ,\n",
              "        0.        , 0.        , 0.        , 0.        , 0.        ,\n",
              "        0.        , 0.        , 0.        ],\n",
              "       [0.        , 0.        , 0.        , 0.        , 0.        ,\n",
              "        0.        , 0.        , 0.        , 0.        , 0.        ,\n",
              "        0.        , 0.        , 0.        , 0.        , 0.        ,\n",
              "        0.        , 0.        , 0.        , 0.        , 0.        ,\n",
              "        0.        , 0.        , 0.        , 0.        , 0.        ,\n",
              "        0.        , 0.        , 0.        ],\n",
              "       [0.        , 0.        , 0.        , 0.        , 0.        ,\n",
              "        0.        , 0.        , 0.        , 0.        , 0.        ,\n",
              "        0.        , 0.        , 0.        , 0.        , 0.        ,\n",
              "        0.        , 0.        , 0.        , 0.        , 0.        ,\n",
              "        0.        , 0.        , 0.        , 0.        , 0.        ,\n",
              "        0.        , 0.        , 0.        ],\n",
              "       [0.        , 0.        , 0.        , 0.        , 0.        ,\n",
              "        0.        , 0.        , 0.        , 0.        , 0.        ,\n",
              "        0.        , 0.        , 0.        , 0.        , 0.        ,\n",
              "        0.        , 0.        , 0.        , 0.        , 0.        ,\n",
              "        0.        , 0.        , 0.        , 0.        , 0.        ,\n",
              "        0.        , 0.        , 0.        ],\n",
              "       [0.        , 0.        , 0.        , 0.        , 0.        ,\n",
              "        0.        , 0.        , 0.        , 0.        , 0.        ,\n",
              "        0.        , 0.        , 0.01176471, 0.07058824, 0.07058824,\n",
              "        0.07058824, 0.49411765, 0.53333333, 0.68627451, 0.10196078,\n",
              "        0.65098039, 1.        , 0.96862745, 0.49803922, 0.        ,\n",
              "        0.        , 0.        , 0.        ],\n",
              "       [0.        , 0.        , 0.        , 0.        , 0.        ,\n",
              "        0.        , 0.        , 0.        , 0.11764706, 0.14117647,\n",
              "        0.36862745, 0.60392157, 0.66666667, 0.99215686, 0.99215686,\n",
              "        0.99215686, 0.99215686, 0.99215686, 0.88235294, 0.6745098 ,\n",
              "        0.99215686, 0.94901961, 0.76470588, 0.25098039, 0.        ,\n",
              "        0.        , 0.        , 0.        ],\n",
              "       [0.        , 0.        , 0.        , 0.        , 0.        ,\n",
              "        0.        , 0.        , 0.19215686, 0.93333333, 0.99215686,\n",
              "        0.99215686, 0.99215686, 0.99215686, 0.99215686, 0.99215686,\n",
              "        0.99215686, 0.99215686, 0.98431373, 0.36470588, 0.32156863,\n",
              "        0.32156863, 0.21960784, 0.15294118, 0.        , 0.        ,\n",
              "        0.        , 0.        , 0.        ],\n",
              "       [0.        , 0.        , 0.        , 0.        , 0.        ,\n",
              "        0.        , 0.        , 0.07058824, 0.85882353, 0.99215686,\n",
              "        0.99215686, 0.99215686, 0.99215686, 0.99215686, 0.77647059,\n",
              "        0.71372549, 0.96862745, 0.94509804, 0.        , 0.        ,\n",
              "        0.        , 0.        , 0.        , 0.        , 0.        ,\n",
              "        0.        , 0.        , 0.        ],\n",
              "       [0.        , 0.        , 0.        , 0.        , 0.        ,\n",
              "        0.        , 0.        , 0.        , 0.31372549, 0.61176471,\n",
              "        0.41960784, 0.99215686, 0.99215686, 0.80392157, 0.04313725,\n",
              "        0.        , 0.16862745, 0.60392157, 0.        , 0.        ,\n",
              "        0.        , 0.        , 0.        , 0.        , 0.        ,\n",
              "        0.        , 0.        , 0.        ],\n",
              "       [0.        , 0.        , 0.        , 0.        , 0.        ,\n",
              "        0.        , 0.        , 0.        , 0.        , 0.05490196,\n",
              "        0.00392157, 0.60392157, 0.99215686, 0.35294118, 0.        ,\n",
              "        0.        , 0.        , 0.        , 0.        , 0.        ,\n",
              "        0.        , 0.        , 0.        , 0.        , 0.        ,\n",
              "        0.        , 0.        , 0.        ],\n",
              "       [0.        , 0.        , 0.        , 0.        , 0.        ,\n",
              "        0.        , 0.        , 0.        , 0.        , 0.        ,\n",
              "        0.        , 0.54509804, 0.99215686, 0.74509804, 0.00784314,\n",
              "        0.        , 0.        , 0.        , 0.        , 0.        ,\n",
              "        0.        , 0.        , 0.        , 0.        , 0.        ,\n",
              "        0.        , 0.        , 0.        ],\n",
              "       [0.        , 0.        , 0.        , 0.        , 0.        ,\n",
              "        0.        , 0.        , 0.        , 0.        , 0.        ,\n",
              "        0.        , 0.04313725, 0.74509804, 0.99215686, 0.2745098 ,\n",
              "        0.        , 0.        , 0.        , 0.        , 0.        ,\n",
              "        0.        , 0.        , 0.        , 0.        , 0.        ,\n",
              "        0.        , 0.        , 0.        ],\n",
              "       [0.        , 0.        , 0.        , 0.        , 0.        ,\n",
              "        0.        , 0.        , 0.        , 0.        , 0.        ,\n",
              "        0.        , 0.        , 0.1372549 , 0.94509804, 0.88235294,\n",
              "        0.62745098, 0.42352941, 0.00392157, 0.        , 0.        ,\n",
              "        0.        , 0.        , 0.        , 0.        , 0.        ,\n",
              "        0.        , 0.        , 0.        ],\n",
              "       [0.        , 0.        , 0.        , 0.        , 0.        ,\n",
              "        0.        , 0.        , 0.        , 0.        , 0.        ,\n",
              "        0.        , 0.        , 0.        , 0.31764706, 0.94117647,\n",
              "        0.99215686, 0.99215686, 0.46666667, 0.09803922, 0.        ,\n",
              "        0.        , 0.        , 0.        , 0.        , 0.        ,\n",
              "        0.        , 0.        , 0.        ],\n",
              "       [0.        , 0.        , 0.        , 0.        , 0.        ,\n",
              "        0.        , 0.        , 0.        , 0.        , 0.        ,\n",
              "        0.        , 0.        , 0.        , 0.        , 0.17647059,\n",
              "        0.72941176, 0.99215686, 0.99215686, 0.58823529, 0.10588235,\n",
              "        0.        , 0.        , 0.        , 0.        , 0.        ,\n",
              "        0.        , 0.        , 0.        ],\n",
              "       [0.        , 0.        , 0.        , 0.        , 0.        ,\n",
              "        0.        , 0.        , 0.        , 0.        , 0.        ,\n",
              "        0.        , 0.        , 0.        , 0.        , 0.        ,\n",
              "        0.0627451 , 0.36470588, 0.98823529, 0.99215686, 0.73333333,\n",
              "        0.        , 0.        , 0.        , 0.        , 0.        ,\n",
              "        0.        , 0.        , 0.        ],\n",
              "       [0.        , 0.        , 0.        , 0.        , 0.        ,\n",
              "        0.        , 0.        , 0.        , 0.        , 0.        ,\n",
              "        0.        , 0.        , 0.        , 0.        , 0.        ,\n",
              "        0.        , 0.        , 0.97647059, 0.99215686, 0.97647059,\n",
              "        0.25098039, 0.        , 0.        , 0.        , 0.        ,\n",
              "        0.        , 0.        , 0.        ],\n",
              "       [0.        , 0.        , 0.        , 0.        , 0.        ,\n",
              "        0.        , 0.        , 0.        , 0.        , 0.        ,\n",
              "        0.        , 0.        , 0.        , 0.        , 0.18039216,\n",
              "        0.50980392, 0.71764706, 0.99215686, 0.99215686, 0.81176471,\n",
              "        0.00784314, 0.        , 0.        , 0.        , 0.        ,\n",
              "        0.        , 0.        , 0.        ],\n",
              "       [0.        , 0.        , 0.        , 0.        , 0.        ,\n",
              "        0.        , 0.        , 0.        , 0.        , 0.        ,\n",
              "        0.        , 0.        , 0.15294118, 0.58039216, 0.89803922,\n",
              "        0.99215686, 0.99215686, 0.99215686, 0.98039216, 0.71372549,\n",
              "        0.        , 0.        , 0.        , 0.        , 0.        ,\n",
              "        0.        , 0.        , 0.        ],\n",
              "       [0.        , 0.        , 0.        , 0.        , 0.        ,\n",
              "        0.        , 0.        , 0.        , 0.        , 0.        ,\n",
              "        0.09411765, 0.44705882, 0.86666667, 0.99215686, 0.99215686,\n",
              "        0.99215686, 0.99215686, 0.78823529, 0.30588235, 0.        ,\n",
              "        0.        , 0.        , 0.        , 0.        , 0.        ,\n",
              "        0.        , 0.        , 0.        ],\n",
              "       [0.        , 0.        , 0.        , 0.        , 0.        ,\n",
              "        0.        , 0.        , 0.        , 0.09019608, 0.25882353,\n",
              "        0.83529412, 0.99215686, 0.99215686, 0.99215686, 0.99215686,\n",
              "        0.77647059, 0.31764706, 0.00784314, 0.        , 0.        ,\n",
              "        0.        , 0.        , 0.        , 0.        , 0.        ,\n",
              "        0.        , 0.        , 0.        ],\n",
              "       [0.        , 0.        , 0.        , 0.        , 0.        ,\n",
              "        0.        , 0.07058824, 0.67058824, 0.85882353, 0.99215686,\n",
              "        0.99215686, 0.99215686, 0.99215686, 0.76470588, 0.31372549,\n",
              "        0.03529412, 0.        , 0.        , 0.        , 0.        ,\n",
              "        0.        , 0.        , 0.        , 0.        , 0.        ,\n",
              "        0.        , 0.        , 0.        ],\n",
              "       [0.        , 0.        , 0.        , 0.        , 0.21568627,\n",
              "        0.6745098 , 0.88627451, 0.99215686, 0.99215686, 0.99215686,\n",
              "        0.99215686, 0.95686275, 0.52156863, 0.04313725, 0.        ,\n",
              "        0.        , 0.        , 0.        , 0.        , 0.        ,\n",
              "        0.        , 0.        , 0.        , 0.        , 0.        ,\n",
              "        0.        , 0.        , 0.        ],\n",
              "       [0.        , 0.        , 0.        , 0.        , 0.53333333,\n",
              "        0.99215686, 0.99215686, 0.99215686, 0.83137255, 0.52941176,\n",
              "        0.51764706, 0.0627451 , 0.        , 0.        , 0.        ,\n",
              "        0.        , 0.        , 0.        , 0.        , 0.        ,\n",
              "        0.        , 0.        , 0.        , 0.        , 0.        ,\n",
              "        0.        , 0.        , 0.        ],\n",
              "       [0.        , 0.        , 0.        , 0.        , 0.        ,\n",
              "        0.        , 0.        , 0.        , 0.        , 0.        ,\n",
              "        0.        , 0.        , 0.        , 0.        , 0.        ,\n",
              "        0.        , 0.        , 0.        , 0.        , 0.        ,\n",
              "        0.        , 0.        , 0.        , 0.        , 0.        ,\n",
              "        0.        , 0.        , 0.        ],\n",
              "       [0.        , 0.        , 0.        , 0.        , 0.        ,\n",
              "        0.        , 0.        , 0.        , 0.        , 0.        ,\n",
              "        0.        , 0.        , 0.        , 0.        , 0.        ,\n",
              "        0.        , 0.        , 0.        , 0.        , 0.        ,\n",
              "        0.        , 0.        , 0.        , 0.        , 0.        ,\n",
              "        0.        , 0.        , 0.        ],\n",
              "       [0.        , 0.        , 0.        , 0.        , 0.        ,\n",
              "        0.        , 0.        , 0.        , 0.        , 0.        ,\n",
              "        0.        , 0.        , 0.        , 0.        , 0.        ,\n",
              "        0.        , 0.        , 0.        , 0.        , 0.        ,\n",
              "        0.        , 0.        , 0.        , 0.        , 0.        ,\n",
              "        0.        , 0.        , 0.        ]])"
            ]
          },
          "metadata": {
            "tags": []
          },
          "execution_count": 6
        }
      ]
    },
    {
      "cell_type": "markdown",
      "metadata": {
        "id": "pUX3Y_4XSlR2",
        "colab_type": "text"
      },
      "source": [
        "## Reshape"
      ]
    },
    {
      "cell_type": "code",
      "metadata": {
        "id": "r7pYZx8zHQKx",
        "colab_type": "code",
        "colab": {
          "base_uri": "https://localhost:8080/",
          "height": 34
        },
        "outputId": "265b10c2-70fb-404c-e6f7-199dd462c39f"
      },
      "source": [
        "import keras\n",
        "X_train = X_train.reshape(X_train.shape[0],28,28,1)\n",
        "X_test = X_test.reshape(X_test.shape[0],28,28,1)\n",
        "X_train.shape\n"
      ],
      "execution_count": 7,
      "outputs": [
        {
          "output_type": "execute_result",
          "data": {
            "text/plain": [
              "(60000, 28, 28, 1)"
            ]
          },
          "metadata": {
            "tags": []
          },
          "execution_count": 7
        }
      ]
    },
    {
      "cell_type": "code",
      "metadata": {
        "id": "xYEyG7IXIUZM",
        "colab_type": "code",
        "colab": {
          "base_uri": "https://localhost:8080/",
          "height": 34
        },
        "outputId": "959fe673-1686-4102-fe02-4da4aaad326a"
      },
      "source": [
        "num_classes=10\n",
        "Y_train = keras.utils.to_categorical(y_train, num_classes)\n",
        "Y_test = keras.utils.to_categorical(y_test, num_classes)\n",
        "Y_train.shape"
      ],
      "execution_count": 8,
      "outputs": [
        {
          "output_type": "execute_result",
          "data": {
            "text/plain": [
              "(60000, 10)"
            ]
          },
          "metadata": {
            "tags": []
          },
          "execution_count": 8
        }
      ]
    },
    {
      "cell_type": "markdown",
      "metadata": {
        "id": "q7yrLM5p_cqb",
        "colab_type": "text"
      },
      "source": [
        "# Convolutional Neural Network"
      ]
    },
    {
      "cell_type": "markdown",
      "metadata": {
        "id": "NklPEXB9A0X9",
        "colab_type": "text"
      },
      "source": [
        "## Define model"
      ]
    },
    {
      "cell_type": "markdown",
      "metadata": {
        "id": "m45vMchPBBTa",
        "colab_type": "text"
      },
      "source": [
        "Construct CNN of few Conv and pool ,FC(dense), softmax "
      ]
    },
    {
      "cell_type": "code",
      "metadata": {
        "id": "Z3Biuyx4B_p_",
        "colab_type": "code",
        "colab": {}
      },
      "source": [
        "\n",
        "from keras.models import Sequential\n",
        "from keras.layers import Dense, Dropout, Flatten, Conv2D, MaxPool2D\n",
        "from keras.layers.normalization import BatchNormalization\n",
        "from keras.preprocessing.image import ImageDataGenerator\n",
        "from keras.callbacks import ReduceLROnPlateau\n",
        "from sklearn.model_selection import train_test_split"
      ],
      "execution_count": 0,
      "outputs": []
    },
    {
      "cell_type": "code",
      "metadata": {
        "id": "frBmGe-3BU3T",
        "colab_type": "code",
        "colab": {}
      },
      "source": [
        "batch_size = 64\n",
        "epochs = 20\n",
        "input_shape = (28, 28,1)\n"
      ],
      "execution_count": 0,
      "outputs": []
    },
    {
      "cell_type": "code",
      "metadata": {
        "id": "7lNBvl_pN_2V",
        "colab_type": "code",
        "colab": {
          "base_uri": "https://localhost:8080/",
          "height": 343
        },
        "outputId": "a1e8bc8d-443e-45a8-bf98-d6db52653e35"
      },
      "source": [
        "\n",
        "\n",
        "model = Sequential()\n",
        "\n",
        "#Input layer\n",
        "model.add(Conv2D(filters = 32, kernel_size = (5,5),padding = 'Same', \n",
        "                 activation ='relu', input_shape = (28,28,1)))\n",
        "\n",
        "model.add(Conv2D(filters = 32, kernel_size = (5,5),padding = 'Same', activation ='relu'))\n",
        "model.add(MaxPool2D(pool_size=(2,2)))\n",
        "model.add(Dropout(0.25))\n",
        "\n",
        "model.add(Conv2D(filters = 64, kernel_size = (3,3),padding = 'Same', activation ='relu'))\n",
        "model.add(Conv2D(filters = 32, kernel_size = (3,3),padding = 'Same', activation ='relu'))\n",
        "\n",
        "model.add(MaxPool2D(pool_size=(2,2), strides=(2,2)))\n",
        "model.add(Dropout(0.25))\n",
        "\n",
        "#FC layers\n",
        "model.add(Flatten())\n",
        "model.add(Dense(128, activation = \"relu\"))\n",
        "model.add(Dropout(0.5))\n",
        "model.add(Dense(10, activation = \"softmax\"))\n",
        "model.compile(loss=keras.losses.categorical_crossentropy,\n",
        "                       optimizer = keras.optimizers.Adam(),\n",
        "                         metrics = ['accuracy'])\n"
      ],
      "execution_count": 11,
      "outputs": [
        {
          "output_type": "stream",
          "text": [
            "WARNING: Logging before flag parsing goes to stderr.\n",
            "W0809 01:10:06.499002 139698374535040 deprecation_wrapper.py:119] From /usr/local/lib/python3.6/dist-packages/keras/backend/tensorflow_backend.py:74: The name tf.get_default_graph is deprecated. Please use tf.compat.v1.get_default_graph instead.\n",
            "\n",
            "W0809 01:10:06.546911 139698374535040 deprecation_wrapper.py:119] From /usr/local/lib/python3.6/dist-packages/keras/backend/tensorflow_backend.py:517: The name tf.placeholder is deprecated. Please use tf.compat.v1.placeholder instead.\n",
            "\n",
            "W0809 01:10:06.556278 139698374535040 deprecation_wrapper.py:119] From /usr/local/lib/python3.6/dist-packages/keras/backend/tensorflow_backend.py:4138: The name tf.random_uniform is deprecated. Please use tf.random.uniform instead.\n",
            "\n",
            "W0809 01:10:06.609847 139698374535040 deprecation_wrapper.py:119] From /usr/local/lib/python3.6/dist-packages/keras/backend/tensorflow_backend.py:3976: The name tf.nn.max_pool is deprecated. Please use tf.nn.max_pool2d instead.\n",
            "\n",
            "W0809 01:10:06.616001 139698374535040 deprecation_wrapper.py:119] From /usr/local/lib/python3.6/dist-packages/keras/backend/tensorflow_backend.py:133: The name tf.placeholder_with_default is deprecated. Please use tf.compat.v1.placeholder_with_default instead.\n",
            "\n",
            "W0809 01:10:06.627442 139698374535040 deprecation.py:506] From /usr/local/lib/python3.6/dist-packages/keras/backend/tensorflow_backend.py:3445: calling dropout (from tensorflow.python.ops.nn_ops) with keep_prob is deprecated and will be removed in a future version.\n",
            "Instructions for updating:\n",
            "Please use `rate` instead of `keep_prob`. Rate should be set to `rate = 1 - keep_prob`.\n",
            "W0809 01:10:06.783207 139698374535040 deprecation_wrapper.py:119] From /usr/local/lib/python3.6/dist-packages/keras/optimizers.py:790: The name tf.train.Optimizer is deprecated. Please use tf.compat.v1.train.Optimizer instead.\n",
            "\n",
            "W0809 01:10:06.797353 139698374535040 deprecation_wrapper.py:119] From /usr/local/lib/python3.6/dist-packages/keras/backend/tensorflow_backend.py:3295: The name tf.log is deprecated. Please use tf.math.log instead.\n",
            "\n"
          ],
          "name": "stderr"
        }
      ]
    },
    {
      "cell_type": "markdown",
      "metadata": {
        "id": "A0jnznspChTH",
        "colab_type": "text"
      },
      "source": [
        "## Visualize the model"
      ]
    },
    {
      "cell_type": "code",
      "metadata": {
        "id": "nfNFvS-VCoY9",
        "colab_type": "code",
        "outputId": "085248d8-efae-4aaf-a02b-7e572b238321",
        "colab": {
          "base_uri": "https://localhost:8080/",
          "height": 1249
        }
      },
      "source": [
        "from IPython.display import SVG\n",
        "from keras.utils.vis_utils import model_to_dot\n",
        "SVG(model_to_dot(model,  show_shapes=False, show_layer_names=True, rankdir='HB').create(prog='dot', format='svg'))"
      ],
      "execution_count": 12,
      "outputs": [
        {
          "output_type": "execute_result",
          "data": {
            "text/plain": [
              "<IPython.core.display.SVG object>"
            ],
            "image/svg+xml": "<svg height=\"921pt\" viewBox=\"0.00 0.00 229.00 921.00\" width=\"229pt\" xmlns=\"http://www.w3.org/2000/svg\" xmlns:xlink=\"http://www.w3.org/1999/xlink\">\n<g class=\"graph\" id=\"graph0\" transform=\"scale(1 1) rotate(0) translate(4 917)\">\n<title>G</title>\n<polygon fill=\"#ffffff\" points=\"-4,4 -4,-917 225,-917 225,4 -4,4\" stroke=\"transparent\"/>\n<!-- 139696922297568 -->\n<g class=\"node\" id=\"node1\">\n<title>139696922297568</title>\n<polygon fill=\"none\" points=\"44,-803.5 44,-839.5 177,-839.5 177,-803.5 44,-803.5\" stroke=\"#000000\"/>\n<text fill=\"#000000\" font-family=\"Times,serif\" font-size=\"14.00\" text-anchor=\"middle\" x=\"110.5\" y=\"-817.8\">conv2d_1: Conv2D</text>\n</g>\n<!-- 139696921669192 -->\n<g class=\"node\" id=\"node2\">\n<title>139696921669192</title>\n<polygon fill=\"none\" points=\"44,-730.5 44,-766.5 177,-766.5 177,-730.5 44,-730.5\" stroke=\"#000000\"/>\n<text fill=\"#000000\" font-family=\"Times,serif\" font-size=\"14.00\" text-anchor=\"middle\" x=\"110.5\" y=\"-744.8\">conv2d_2: Conv2D</text>\n</g>\n<!-- 139696922297568&#45;&gt;139696921669192 -->\n<g class=\"edge\" id=\"edge2\">\n<title>139696922297568-&gt;139696921669192</title>\n<path d=\"M110.5,-803.4551C110.5,-795.3828 110.5,-785.6764 110.5,-776.6817\" fill=\"none\" stroke=\"#000000\"/>\n<polygon fill=\"#000000\" points=\"114.0001,-776.5903 110.5,-766.5904 107.0001,-776.5904 114.0001,-776.5903\" stroke=\"#000000\"/>\n</g>\n<!-- 139696921978360 -->\n<g class=\"node\" id=\"node3\">\n<title>139696921978360</title>\n<polygon fill=\"none\" points=\"0,-657.5 0,-693.5 221,-693.5 221,-657.5 0,-657.5\" stroke=\"#000000\"/>\n<text fill=\"#000000\" font-family=\"Times,serif\" font-size=\"14.00\" text-anchor=\"middle\" x=\"110.5\" y=\"-671.8\">max_pooling2d_1: MaxPooling2D</text>\n</g>\n<!-- 139696921669192&#45;&gt;139696921978360 -->\n<g class=\"edge\" id=\"edge3\">\n<title>139696921669192-&gt;139696921978360</title>\n<path d=\"M110.5,-730.4551C110.5,-722.3828 110.5,-712.6764 110.5,-703.6817\" fill=\"none\" stroke=\"#000000\"/>\n<polygon fill=\"#000000\" points=\"114.0001,-703.5903 110.5,-693.5904 107.0001,-703.5904 114.0001,-703.5903\" stroke=\"#000000\"/>\n</g>\n<!-- 139696921668968 -->\n<g class=\"node\" id=\"node4\">\n<title>139696921668968</title>\n<polygon fill=\"none\" points=\"43.5,-584.5 43.5,-620.5 177.5,-620.5 177.5,-584.5 43.5,-584.5\" stroke=\"#000000\"/>\n<text fill=\"#000000\" font-family=\"Times,serif\" font-size=\"14.00\" text-anchor=\"middle\" x=\"110.5\" y=\"-598.8\">dropout_1: Dropout</text>\n</g>\n<!-- 139696921978360&#45;&gt;139696921668968 -->\n<g class=\"edge\" id=\"edge4\">\n<title>139696921978360-&gt;139696921668968</title>\n<path d=\"M110.5,-657.4551C110.5,-649.3828 110.5,-639.6764 110.5,-630.6817\" fill=\"none\" stroke=\"#000000\"/>\n<polygon fill=\"#000000\" points=\"114.0001,-630.5903 110.5,-620.5904 107.0001,-630.5904 114.0001,-630.5903\" stroke=\"#000000\"/>\n</g>\n<!-- 139696921258024 -->\n<g class=\"node\" id=\"node5\">\n<title>139696921258024</title>\n<polygon fill=\"none\" points=\"44,-511.5 44,-547.5 177,-547.5 177,-511.5 44,-511.5\" stroke=\"#000000\"/>\n<text fill=\"#000000\" font-family=\"Times,serif\" font-size=\"14.00\" text-anchor=\"middle\" x=\"110.5\" y=\"-525.8\">conv2d_3: Conv2D</text>\n</g>\n<!-- 139696921668968&#45;&gt;139696921258024 -->\n<g class=\"edge\" id=\"edge5\">\n<title>139696921668968-&gt;139696921258024</title>\n<path d=\"M110.5,-584.4551C110.5,-576.3828 110.5,-566.6764 110.5,-557.6817\" fill=\"none\" stroke=\"#000000\"/>\n<polygon fill=\"#000000\" points=\"114.0001,-557.5903 110.5,-547.5904 107.0001,-557.5904 114.0001,-557.5903\" stroke=\"#000000\"/>\n</g>\n<!-- 139696921979704 -->\n<g class=\"node\" id=\"node6\">\n<title>139696921979704</title>\n<polygon fill=\"none\" points=\"44,-438.5 44,-474.5 177,-474.5 177,-438.5 44,-438.5\" stroke=\"#000000\"/>\n<text fill=\"#000000\" font-family=\"Times,serif\" font-size=\"14.00\" text-anchor=\"middle\" x=\"110.5\" y=\"-452.8\">conv2d_4: Conv2D</text>\n</g>\n<!-- 139696921258024&#45;&gt;139696921979704 -->\n<g class=\"edge\" id=\"edge6\">\n<title>139696921258024-&gt;139696921979704</title>\n<path d=\"M110.5,-511.4551C110.5,-503.3828 110.5,-493.6764 110.5,-484.6817\" fill=\"none\" stroke=\"#000000\"/>\n<polygon fill=\"#000000\" points=\"114.0001,-484.5903 110.5,-474.5904 107.0001,-484.5904 114.0001,-484.5903\" stroke=\"#000000\"/>\n</g>\n<!-- 139696919452472 -->\n<g class=\"node\" id=\"node7\">\n<title>139696919452472</title>\n<polygon fill=\"none\" points=\"0,-365.5 0,-401.5 221,-401.5 221,-365.5 0,-365.5\" stroke=\"#000000\"/>\n<text fill=\"#000000\" font-family=\"Times,serif\" font-size=\"14.00\" text-anchor=\"middle\" x=\"110.5\" y=\"-379.8\">max_pooling2d_2: MaxPooling2D</text>\n</g>\n<!-- 139696921979704&#45;&gt;139696919452472 -->\n<g class=\"edge\" id=\"edge7\">\n<title>139696921979704-&gt;139696919452472</title>\n<path d=\"M110.5,-438.4551C110.5,-430.3828 110.5,-420.6764 110.5,-411.6817\" fill=\"none\" stroke=\"#000000\"/>\n<polygon fill=\"#000000\" points=\"114.0001,-411.5903 110.5,-401.5904 107.0001,-411.5904 114.0001,-411.5903\" stroke=\"#000000\"/>\n</g>\n<!-- 139696919786664 -->\n<g class=\"node\" id=\"node8\">\n<title>139696919786664</title>\n<polygon fill=\"none\" points=\"43.5,-292.5 43.5,-328.5 177.5,-328.5 177.5,-292.5 43.5,-292.5\" stroke=\"#000000\"/>\n<text fill=\"#000000\" font-family=\"Times,serif\" font-size=\"14.00\" text-anchor=\"middle\" x=\"110.5\" y=\"-306.8\">dropout_2: Dropout</text>\n</g>\n<!-- 139696919452472&#45;&gt;139696919786664 -->\n<g class=\"edge\" id=\"edge8\">\n<title>139696919452472-&gt;139696919786664</title>\n<path d=\"M110.5,-365.4551C110.5,-357.3828 110.5,-347.6764 110.5,-338.6817\" fill=\"none\" stroke=\"#000000\"/>\n<polygon fill=\"#000000\" points=\"114.0001,-338.5903 110.5,-328.5904 107.0001,-338.5904 114.0001,-338.5903\" stroke=\"#000000\"/>\n</g>\n<!-- 139696919453312 -->\n<g class=\"node\" id=\"node9\">\n<title>139696919453312</title>\n<polygon fill=\"none\" points=\"54,-219.5 54,-255.5 167,-255.5 167,-219.5 54,-219.5\" stroke=\"#000000\"/>\n<text fill=\"#000000\" font-family=\"Times,serif\" font-size=\"14.00\" text-anchor=\"middle\" x=\"110.5\" y=\"-233.8\">flatten_1: Flatten</text>\n</g>\n<!-- 139696919786664&#45;&gt;139696919453312 -->\n<g class=\"edge\" id=\"edge9\">\n<title>139696919786664-&gt;139696919453312</title>\n<path d=\"M110.5,-292.4551C110.5,-284.3828 110.5,-274.6764 110.5,-265.6817\" fill=\"none\" stroke=\"#000000\"/>\n<polygon fill=\"#000000\" points=\"114.0001,-265.5903 110.5,-255.5904 107.0001,-265.5904 114.0001,-265.5903\" stroke=\"#000000\"/>\n</g>\n<!-- 139696919453648 -->\n<g class=\"node\" id=\"node10\">\n<title>139696919453648</title>\n<polygon fill=\"none\" points=\"57,-146.5 57,-182.5 164,-182.5 164,-146.5 57,-146.5\" stroke=\"#000000\"/>\n<text fill=\"#000000\" font-family=\"Times,serif\" font-size=\"14.00\" text-anchor=\"middle\" x=\"110.5\" y=\"-160.8\">dense_1: Dense</text>\n</g>\n<!-- 139696919453312&#45;&gt;139696919453648 -->\n<g class=\"edge\" id=\"edge10\">\n<title>139696919453312-&gt;139696919453648</title>\n<path d=\"M110.5,-219.4551C110.5,-211.3828 110.5,-201.6764 110.5,-192.6817\" fill=\"none\" stroke=\"#000000\"/>\n<polygon fill=\"#000000\" points=\"114.0001,-192.5903 110.5,-182.5904 107.0001,-192.5904 114.0001,-192.5903\" stroke=\"#000000\"/>\n</g>\n<!-- 139696883108328 -->\n<g class=\"node\" id=\"node11\">\n<title>139696883108328</title>\n<polygon fill=\"none\" points=\"43.5,-73.5 43.5,-109.5 177.5,-109.5 177.5,-73.5 43.5,-73.5\" stroke=\"#000000\"/>\n<text fill=\"#000000\" font-family=\"Times,serif\" font-size=\"14.00\" text-anchor=\"middle\" x=\"110.5\" y=\"-87.8\">dropout_3: Dropout</text>\n</g>\n<!-- 139696919453648&#45;&gt;139696883108328 -->\n<g class=\"edge\" id=\"edge11\">\n<title>139696919453648-&gt;139696883108328</title>\n<path d=\"M110.5,-146.4551C110.5,-138.3828 110.5,-128.6764 110.5,-119.6817\" fill=\"none\" stroke=\"#000000\"/>\n<polygon fill=\"#000000\" points=\"114.0001,-119.5903 110.5,-109.5904 107.0001,-119.5904 114.0001,-119.5903\" stroke=\"#000000\"/>\n</g>\n<!-- 139696883284904 -->\n<g class=\"node\" id=\"node12\">\n<title>139696883284904</title>\n<polygon fill=\"none\" points=\"57,-.5 57,-36.5 164,-36.5 164,-.5 57,-.5\" stroke=\"#000000\"/>\n<text fill=\"#000000\" font-family=\"Times,serif\" font-size=\"14.00\" text-anchor=\"middle\" x=\"110.5\" y=\"-14.8\">dense_2: Dense</text>\n</g>\n<!-- 139696883108328&#45;&gt;139696883284904 -->\n<g class=\"edge\" id=\"edge12\">\n<title>139696883108328-&gt;139696883284904</title>\n<path d=\"M110.5,-73.4551C110.5,-65.3828 110.5,-55.6764 110.5,-46.6817\" fill=\"none\" stroke=\"#000000\"/>\n<polygon fill=\"#000000\" points=\"114.0001,-46.5903 110.5,-36.5904 107.0001,-46.5904 114.0001,-46.5903\" stroke=\"#000000\"/>\n</g>\n<!-- 139696921805824 -->\n<g class=\"node\" id=\"node13\">\n<title>139696921805824</title>\n<polygon fill=\"none\" points=\"46,-876.5 46,-912.5 175,-912.5 175,-876.5 46,-876.5\" stroke=\"#000000\"/>\n<text fill=\"#000000\" font-family=\"Times,serif\" font-size=\"14.00\" text-anchor=\"middle\" x=\"110.5\" y=\"-890.8\">139696921805824</text>\n</g>\n<!-- 139696921805824&#45;&gt;139696922297568 -->\n<g class=\"edge\" id=\"edge1\">\n<title>139696921805824-&gt;139696922297568</title>\n<path d=\"M110.5,-876.4551C110.5,-868.3828 110.5,-858.6764 110.5,-849.6817\" fill=\"none\" stroke=\"#000000\"/>\n<polygon fill=\"#000000\" points=\"114.0001,-849.5903 110.5,-839.5904 107.0001,-849.5904 114.0001,-849.5903\" stroke=\"#000000\"/>\n</g>\n</g>\n</svg>"
          },
          "metadata": {
            "tags": []
          },
          "execution_count": 12
        }
      ]
    },
    {
      "cell_type": "code",
      "metadata": {
        "id": "2f2Wjk1oI9im",
        "colab_type": "code",
        "outputId": "067b2c91-3935-4376-92c6-eca96d973a8a",
        "colab": {
          "base_uri": "https://localhost:8080/",
          "height": 544
        }
      },
      "source": [
        "model.summary()"
      ],
      "execution_count": 13,
      "outputs": [
        {
          "output_type": "stream",
          "text": [
            "_________________________________________________________________\n",
            "Layer (type)                 Output Shape              Param #   \n",
            "=================================================================\n",
            "conv2d_1 (Conv2D)            (None, 28, 28, 32)        832       \n",
            "_________________________________________________________________\n",
            "conv2d_2 (Conv2D)            (None, 28, 28, 32)        25632     \n",
            "_________________________________________________________________\n",
            "max_pooling2d_1 (MaxPooling2 (None, 14, 14, 32)        0         \n",
            "_________________________________________________________________\n",
            "dropout_1 (Dropout)          (None, 14, 14, 32)        0         \n",
            "_________________________________________________________________\n",
            "conv2d_3 (Conv2D)            (None, 14, 14, 64)        18496     \n",
            "_________________________________________________________________\n",
            "conv2d_4 (Conv2D)            (None, 14, 14, 32)        18464     \n",
            "_________________________________________________________________\n",
            "max_pooling2d_2 (MaxPooling2 (None, 7, 7, 32)          0         \n",
            "_________________________________________________________________\n",
            "dropout_2 (Dropout)          (None, 7, 7, 32)          0         \n",
            "_________________________________________________________________\n",
            "flatten_1 (Flatten)          (None, 1568)              0         \n",
            "_________________________________________________________________\n",
            "dense_1 (Dense)              (None, 128)               200832    \n",
            "_________________________________________________________________\n",
            "dropout_3 (Dropout)          (None, 128)               0         \n",
            "_________________________________________________________________\n",
            "dense_2 (Dense)              (None, 10)                1290      \n",
            "=================================================================\n",
            "Total params: 265,546\n",
            "Trainable params: 265,546\n",
            "Non-trainable params: 0\n",
            "_________________________________________________________________\n"
          ],
          "name": "stdout"
        }
      ]
    },
    {
      "cell_type": "markdown",
      "metadata": {
        "id": "oazjfHWaR-oi",
        "colab_type": "text"
      },
      "source": [
        "## Train the model"
      ]
    },
    {
      "cell_type": "code",
      "metadata": {
        "id": "_46ERGtUC0oV",
        "colab_type": "code",
        "colab": {
          "base_uri": "https://localhost:8080/",
          "height": 785
        },
        "outputId": "f7fe45b3-ecdc-4fc0-da0d-8f2a9c84400f"
      },
      "source": [
        "history = model.fit(X_train, Y_train, epochs=epochs, batch_size=batch_size, verbose=1, validation_split=0.2)"
      ],
      "execution_count": 14,
      "outputs": [
        {
          "output_type": "stream",
          "text": [
            "W0809 01:10:07.389575 139698374535040 deprecation.py:323] From /usr/local/lib/python3.6/dist-packages/tensorflow/python/ops/math_grad.py:1250: add_dispatch_support.<locals>.wrapper (from tensorflow.python.ops.array_ops) is deprecated and will be removed in a future version.\n",
            "Instructions for updating:\n",
            "Use tf.where in 2.0, which has the same broadcast rule as np.where\n"
          ],
          "name": "stderr"
        },
        {
          "output_type": "stream",
          "text": [
            "Train on 48000 samples, validate on 12000 samples\n",
            "Epoch 1/20\n",
            "48000/48000 [==============================] - 19s 386us/step - loss: 0.2827 - acc: 0.9113 - val_loss: 0.0556 - val_acc: 0.9825\n",
            "Epoch 2/20\n",
            "48000/48000 [==============================] - 12s 242us/step - loss: 0.0956 - acc: 0.9727 - val_loss: 0.0418 - val_acc: 0.9882\n",
            "Epoch 3/20\n",
            "48000/48000 [==============================] - 11s 238us/step - loss: 0.0746 - acc: 0.9773 - val_loss: 0.0346 - val_acc: 0.9900\n",
            "Epoch 4/20\n",
            "48000/48000 [==============================] - 11s 238us/step - loss: 0.0596 - acc: 0.9831 - val_loss: 0.0337 - val_acc: 0.9903\n",
            "Epoch 5/20\n",
            "48000/48000 [==============================] - 11s 234us/step - loss: 0.0504 - acc: 0.9849 - val_loss: 0.0328 - val_acc: 0.9903\n",
            "Epoch 6/20\n",
            "48000/48000 [==============================] - 11s 236us/step - loss: 0.0467 - acc: 0.9864 - val_loss: 0.0307 - val_acc: 0.9908\n",
            "Epoch 7/20\n",
            "48000/48000 [==============================] - 11s 233us/step - loss: 0.0417 - acc: 0.9878 - val_loss: 0.0285 - val_acc: 0.9916\n",
            "Epoch 8/20\n",
            "48000/48000 [==============================] - 11s 235us/step - loss: 0.0390 - acc: 0.9884 - val_loss: 0.0279 - val_acc: 0.9924\n",
            "Epoch 9/20\n",
            "48000/48000 [==============================] - 11s 234us/step - loss: 0.0374 - acc: 0.9881 - val_loss: 0.0245 - val_acc: 0.9933\n",
            "Epoch 10/20\n",
            "48000/48000 [==============================] - 11s 235us/step - loss: 0.0333 - acc: 0.9896 - val_loss: 0.0346 - val_acc: 0.9908\n",
            "Epoch 11/20\n",
            "48000/48000 [==============================] - 12s 240us/step - loss: 0.0275 - acc: 0.9916 - val_loss: 0.0315 - val_acc: 0.9912\n",
            "Epoch 12/20\n",
            "48000/48000 [==============================] - 11s 233us/step - loss: 0.0315 - acc: 0.9901 - val_loss: 0.0240 - val_acc: 0.9936\n",
            "Epoch 13/20\n",
            "48000/48000 [==============================] - 11s 231us/step - loss: 0.0276 - acc: 0.9912 - val_loss: 0.0359 - val_acc: 0.9911\n",
            "Epoch 14/20\n",
            "48000/48000 [==============================] - 11s 231us/step - loss: 0.0287 - acc: 0.9911 - val_loss: 0.0240 - val_acc: 0.9929\n",
            "Epoch 15/20\n",
            "48000/48000 [==============================] - 11s 230us/step - loss: 0.0251 - acc: 0.9922 - val_loss: 0.0332 - val_acc: 0.9919\n",
            "Epoch 16/20\n",
            "48000/48000 [==============================] - 11s 229us/step - loss: 0.0235 - acc: 0.9926 - val_loss: 0.0278 - val_acc: 0.9936\n",
            "Epoch 17/20\n",
            "48000/48000 [==============================] - 11s 231us/step - loss: 0.0227 - acc: 0.9933 - val_loss: 0.0235 - val_acc: 0.9941\n",
            "Epoch 18/20\n",
            "48000/48000 [==============================] - 11s 227us/step - loss: 0.0247 - acc: 0.9922 - val_loss: 0.0241 - val_acc: 0.9941\n",
            "Epoch 19/20\n",
            "48000/48000 [==============================] - 11s 228us/step - loss: 0.0200 - acc: 0.9936 - val_loss: 0.0239 - val_acc: 0.9939\n",
            "Epoch 20/20\n",
            "48000/48000 [==============================] - 11s 228us/step - loss: 0.0214 - acc: 0.9933 - val_loss: 0.0270 - val_acc: 0.9930\n"
          ],
          "name": "stdout"
        }
      ]
    },
    {
      "cell_type": "markdown",
      "metadata": {
        "id": "M3sMh2yeSFPB",
        "colab_type": "text"
      },
      "source": [
        "## Evaluation"
      ]
    },
    {
      "cell_type": "code",
      "metadata": {
        "id": "a2jRBizxQ7Db",
        "colab_type": "code",
        "colab": {
          "base_uri": "https://localhost:8080/",
          "height": 51
        },
        "outputId": "e3865ce8-a114-4c28-dcb7-ed22d45e8dfd"
      },
      "source": [
        "model.evaluate(X_test,Y_test,verbose=1)"
      ],
      "execution_count": 15,
      "outputs": [
        {
          "output_type": "stream",
          "text": [
            "10000/10000 [==============================] - 1s 107us/step\n"
          ],
          "name": "stdout"
        },
        {
          "output_type": "execute_result",
          "data": {
            "text/plain": [
              "[0.022050987297752317, 0.9937]"
            ]
          },
          "metadata": {
            "tags": []
          },
          "execution_count": 15
        }
      ]
    },
    {
      "cell_type": "markdown",
      "metadata": {
        "id": "2pOPnStaSNul",
        "colab_type": "text"
      },
      "source": [
        "## Plot learning and validation curves"
      ]
    },
    {
      "cell_type": "code",
      "metadata": {
        "id": "Z_P0Lbc-RQoK",
        "colab_type": "code",
        "colab": {
          "base_uri": "https://localhost:8080/",
          "height": 295
        },
        "outputId": "49b06701-e692-4db5-8c9a-9a729f80001e"
      },
      "source": [
        "# Plot training & validation accuracy values\n",
        "plt.plot(history.history['acc'])\n",
        "plt.plot(history.history['val_acc'])\n",
        "plt.title('Model accuracy')\n",
        "plt.ylabel('Accuracy')\n",
        "plt.xlabel('Epoch')\n",
        "plt.legend(['Train', 'Test'], loc='lower right')\n",
        "plt.show()\n",
        "\n"
      ],
      "execution_count": 16,
      "outputs": [
        {
          "output_type": "display_data",
          "data": {
            "image/png": "[encoded data removed]",
            "text/plain": [
              "<Figure size 432x288 with 1 Axes>"
            ]
          },
          "metadata": {
            "tags": []
          }
        }
      ]
    },
    {
      "cell_type": "code",
      "metadata": {
        "id": "fuUqeYvzSMDJ",
        "colab_type": "code",
        "colab": {}
      },
      "source": [
        ""
      ],
      "execution_count": 0,
      "outputs": []
    },
    {
      "cell_type": "code",
      "metadata": {
        "id": "SVWSyFrbRls5",
        "colab_type": "code",
        "colab": {
          "base_uri": "https://localhost:8080/",
          "height": 295
        },
        "outputId": "12712fc0-0d0b-41ce-84a3-02ddd0066e3c"
      },
      "source": [
        "# Plot training & validation loss values\n",
        "plt.plot(history.history['loss'])\n",
        "plt.plot(history.history['val_loss'])\n",
        "plt.title('Model loss')\n",
        "plt.ylabel('Loss')\n",
        "plt.xlabel('Epoch')\n",
        "plt.legend(['Train', 'Test'], loc='upper right')\n",
        "plt.show()"
      ],
      "execution_count": 17,
      "outputs": [
        {
          "output_type": "display_data",
          "data": {
            "image/png": "[encoded data removed]",
            "text/plain": [
              "<Figure size 432x288 with 1 Axes>"
            ]
          },
          "metadata": {
            "tags": []
          }
        }
      ]
    },
    {
      "cell_type": "markdown",
      "metadata": {
        "id": "vW-H3FCB66DF",
        "colab_type": "text"
      },
      "source": [
        "# Export and Import model"
      ]
    },
    {
      "cell_type": "code",
      "metadata": {
        "id": "5Jph9XiB7BC_",
        "colab_type": "code",
        "colab": {
          "base_uri": "https://localhost:8080/",
          "height": 88
        },
        "outputId": "d35289fa-0881-4b2b-8be4-dd597626dc35"
      },
      "source": [
        "from sklearn.externals import joblib\n",
        "joblib.dump(model, 'my_dt_model.pkl', compress=9)\n"
      ],
      "execution_count": 18,
      "outputs": [
        {
          "output_type": "stream",
          "text": [
            "/usr/local/lib/python3.6/dist-packages/sklearn/externals/joblib/__init__.py:15: DeprecationWarning: sklearn.externals.joblib is deprecated in 0.21 and will be removed in 0.23. Please import this functionality directly from joblib, which can be installed with: pip install joblib. If this warning is raised when loading pickled models, you may need to re-serialize those models with scikit-learn 0.21+.\n",
            "  warnings.warn(msg, category=DeprecationWarning)\n"
          ],
          "name": "stderr"
        },
        {
          "output_type": "execute_result",
          "data": {
            "text/plain": [
              "['my_dt_model.pkl']"
            ]
          },
          "metadata": {
            "tags": []
          },
          "execution_count": 18
        }
      ]
    },
    {
      "cell_type": "code",
      "metadata": {
        "id": "btvtx3KZ7Eyf",
        "colab_type": "code",
        "colab": {
          "base_uri": "https://localhost:8080/",
          "height": 51
        },
        "outputId": "b9d1752f-e07a-4ad5-aeb9-79c85333b49b"
      },
      "source": [
        "#%%\n",
        "from sklearn.externals import joblib\n",
        "model_clone = joblib.load('my_dt_model.pkl')\n",
        "print(model_clone.evaluate(X_test,Y_test,verbose=1))"
      ],
      "execution_count": 20,
      "outputs": [
        {
          "output_type": "stream",
          "text": [
            "10000/10000 [==============================] - 1s 136us/step\n",
            "[0.022050987297752317, 0.9937]\n"
          ],
          "name": "stdout"
        }
      ]
    },
    {
      "cell_type": "markdown",
      "metadata": {
        "id": "y4ome852_eER",
        "colab_type": "text"
      },
      "source": [
        "# References\n"
      ]
    },
    {
      "cell_type": "markdown",
      "metadata": {
        "id": "Xq1ILDuc_hLL",
        "colab_type": "text"
      },
      "source": [
        "https://www.kaggle.com/christofferr94/simple-cnn-with-keras-top-9"
      ]
    },
    {
      "cell_type": "markdown",
      "metadata": {
        "id": "jObUCPhe_tjW",
        "colab_type": "text"
      },
      "source": [
        "\n",
        "https://www.kaggle.com/yassineghouzam/introduction-to-cnn-keras-0-997-top-6"
      ]
    },
    {
      "cell_type": "markdown",
      "metadata": {
        "id": "Q_s2u3trSb0C",
        "colab_type": "text"
      },
      "source": [
        "https://keras.io/visualization/"
      ]
    }
  ]
}