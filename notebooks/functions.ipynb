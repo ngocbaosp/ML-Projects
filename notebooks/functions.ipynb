{
 "cells": [
  {
   "cell_type": "code",
   "execution_count": null,
   "metadata": {
    "collapsed": true
   },
   "outputs": [],
   "source": [
    "import pandas as pd\n",
    "from sklearn.decomposition import PCA\n",
    "from sklearn import preprocessing\n",
    "def myHello():\n",
    "    print('hello')\n",
    "    "
   ]
  },
  {
   "cell_type": "markdown",
   "source": [
    "#### MyPCA"
   ],
   "metadata": {
    "collapsed": false
   }
  },
  {
   "cell_type": "code",
   "execution_count": null,
   "outputs": [],
   "source": [
    "def myPCA(data,n):\n",
    "    pca = PCA(n_components=n)\n",
    "    pca.fit(data)\n",
    "    df = pca.transform(data)\n",
    "    PCA_Data = pd.DataFrame(df)\n",
    "    return PCA_Data\n"
   ],
   "metadata": {
    "collapsed": false,
    "pycharm": {
     "name": "#%%\n"
    }
   }
  },
  {
   "cell_type": "markdown",
   "source": [
    "#### myNormalize"
   ],
   "metadata": {
    "collapsed": false
   }
  },
  {
   "cell_type": "code",
   "execution_count": null,
   "outputs": [],
   "source": [
    "def myNormalize(data):\n",
    "    min_max_scaler = preprocessing.MinMaxScaler()\n",
    "    Normalized_Data = min_max_scaler.fit_transform(data)\n",
    "    Normalized_Data = pd.DataFrame(Normalized_Data)\n",
    "    return Normalized_Data\n"
   ],
   "metadata": {
    "collapsed": false,
    "pycharm": {
     "name": "#%%\n"
    }
   }
  },
  {
   "cell_type": "markdown",
   "source": [
    "#### myEncode"
   ],
   "metadata": {
    "collapsed": false
   }
  },
  {
   "cell_type": "code",
   "execution_count": null,
   "outputs": [],
   "source": [
    "def myEncode(data,col): \n",
    "    NewData_Encode = data.copy()\n",
    "    NewData_Encode = pd.get_dummies(NewData_Encode, columns=col, prefix = col)\n",
    "    return NewData_Encode"
   ],
   "metadata": {
    "collapsed": false,
    "pycharm": {
     "name": "#%%\n"
    }
   }
  }
 ],
 "metadata": {
  "language_info": {
   "codemirror_mode": {
    "name": "ipython",
    "version": 2
   },
   "file_extension": ".py",
   "mimetype": "text/x-python",
   "name": "python",
   "nbconvert_exporter": "python",
   "pygments_lexer": "ipython2",
   "version": "2.7.6"
  },
  "kernelspec": {
   "name": "python3",
   "language": "python",
   "display_name": "Python 3"
  },
  "pycharm": {
   "stem_cell": {
    "cell_type": "raw",
    "source": [],
    "metadata": {
     "collapsed": false
    }
   }
  }
 },
 "nbformat": 4,
 "nbformat_minor": 0
}