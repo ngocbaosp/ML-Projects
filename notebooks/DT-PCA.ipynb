{
 "cells": [
  {
   "cell_type": "markdown",
   "metadata": {
    "collapsed": true,
    "pycharm": {
     "name": "#%% md\n"
    }
   },
   "source": [
    "<div class=\"alert alert-block alert-info\">\n",
    "<ul>\n",
    "<li>Course: Machine Learning</li>\n",
    "<li>Project: 01</li>\n",
    "<li>Team members</li>\n",
    "<li>Mauro Travieso Pena</li>\n",
    "<li>Quoc Huy Luong</li>\n",
    "<li>Ngoc Bao Tran</li>\n",
    "<ul>\n",
    "</div>\n",
    "\n"
   ]
  },
  {
   "cell_type": "markdown",
   "metadata": {},
   "source": [
    "# Classification with Decision Tree"
   ]
  },
  {
   "cell_type": "markdown",
   "metadata": {},
   "source": [
    "<div class=\"alert alert-block alert-info\">\n",
    "In this experiment, we use decision tree to classify the anmie dataset.\n",
    "<ol>\n",
    "<li>Clean and Transform Data</li>\n",
    "<li>Split Training/Testing dataset</li>\n",
    "<li>Run the model with 3 kind of data: Original data, Normalized data and PCA data</li>\n",
    "<li>Turning the model based on the learning curve and validation curve\n",
    "<ol><b>Learning Curve</b>\n",
    "<li>Using scikit-learn method\n",
    "#https://scikit-learn.org/stable/modules/learning_curve.html</li>\n",
    "<li>Our method (we did it, because we want to know how learning curve method works)</li>\n",
    "</ol>\n",
    "<ol><b>Validation Curve</b>\n",
    "<li>Using scikit-learn method\n",
    "https://scikit-learn.org/stable/modules/generated/sklearn.model_selection.validation_curve.html#sklearn.model_selection.validation_curve\n",
    "<li>Our method (we did it, because we want to know how Validation curve method works)</li>\n",
    "</ol>\n",
    "</li>\n",
    "<li>Grid search CV</li>\n",
    "<li>Final Evaluation</li>\n",
    "</ol> \n",
    "</div>\n"
   ]
  },
  {
   "cell_type": "markdown",
   "metadata": {},
   "source": [
    "# Import Libraries "
   ]
  },
  {
   "cell_type": "code",
   "execution_count": 1,
   "metadata": {
    "pycharm": {
     "name": "#%%\n"
    }
   },
   "outputs": [
    {
     "name": "stdout",
     "output_type": "stream",
     "text": [
      "importing Jupyter notebook from functions.ipynb\n",
      "importing Jupyter notebook from myPlot.ipynb\n"
     ]
    }
   ],
   "source": [
    "import pandas as pd\n",
    "import numpy as np\n",
    "import random as rnd\n",
    "import seaborn as sns\n",
    "import matplotlib.pyplot as plt\n",
    "%matplotlib inline\n",
    "\n",
    "import import_ipynb \n",
    "import functions as myLib\n",
    "import myPlot as myPlotLib\n",
    "\n"
   ]
  },
  {
   "cell_type": "markdown",
   "metadata": {},
   "source": [
    "# Load data from files"
   ]
  },
  {
   "cell_type": "code",
   "execution_count": 2,
   "metadata": {
    "pycharm": {
     "name": "#%%\n"
    }
   },
   "outputs": [],
   "source": [
    "RawData = pd.read_csv('../data/anime.csv')\n"
   ]
  },
  {
   "cell_type": "markdown",
   "metadata": {},
   "source": [
    "#### Clean and Transform Data"
   ]
  },
  {
   "cell_type": "code",
   "execution_count": 3,
   "metadata": {
    "pycharm": {
     "name": "#%%\n"
    }
   },
   "outputs": [],
   "source": [
    "Cleaned_Data = myLib.myCleanAndTransformData(RawData)\n",
    "Y_Data = Cleaned_Data['Class']\n",
    "X_Data = Cleaned_Data.drop(columns=['Class'])\n"
   ]
  },
  {
   "cell_type": "markdown",
   "metadata": {},
   "source": [
    "#### Normalize  Data"
   ]
  },
  {
   "cell_type": "code",
   "execution_count": 4,
   "metadata": {
    "pycharm": {
     "name": "#%%\n"
    }
   },
   "outputs": [],
   "source": [
    "Normalized_Data = myLib.myNormalize(X_Data)"
   ]
  },
  {
   "cell_type": "markdown",
   "metadata": {},
   "source": [
    "#### PCA"
   ]
  },
  {
   "cell_type": "code",
   "execution_count": 5,
   "metadata": {
    "pycharm": {
     "name": "#%%\n"
    }
   },
   "outputs": [
    {
     "data": {
      "text/html": [
       "<div>\n",
       "<style scoped>\n",
       "    .dataframe tbody tr th:only-of-type {\n",
       "        vertical-align: middle;\n",
       "    }\n",
       "\n",
       "    .dataframe tbody tr th {\n",
       "        vertical-align: top;\n",
       "    }\n",
       "\n",
       "    .dataframe thead th {\n",
       "        text-align: right;\n",
       "    }\n",
       "</style>\n",
       "<table border=\"1\" class=\"dataframe\">\n",
       "  <thead>\n",
       "    <tr style=\"text-align: right;\">\n",
       "      <th></th>\n",
       "      <th>0</th>\n",
       "      <th>1</th>\n",
       "      <th>2</th>\n",
       "      <th>3</th>\n",
       "      <th>4</th>\n",
       "      <th>5</th>\n",
       "      <th>6</th>\n",
       "      <th>7</th>\n",
       "      <th>8</th>\n",
       "      <th>9</th>\n",
       "      <th>...</th>\n",
       "      <th>30</th>\n",
       "      <th>31</th>\n",
       "      <th>32</th>\n",
       "      <th>33</th>\n",
       "      <th>34</th>\n",
       "      <th>35</th>\n",
       "      <th>36</th>\n",
       "      <th>37</th>\n",
       "      <th>38</th>\n",
       "      <th>39</th>\n",
       "    </tr>\n",
       "  </thead>\n",
       "  <tbody>\n",
       "    <tr>\n",
       "      <th>0</th>\n",
       "      <td>-0.311391</td>\n",
       "      <td>0.786561</td>\n",
       "      <td>-0.420790</td>\n",
       "      <td>0.005234</td>\n",
       "      <td>-0.078663</td>\n",
       "      <td>-0.049646</td>\n",
       "      <td>-0.062640</td>\n",
       "      <td>0.007159</td>\n",
       "      <td>-0.075350</td>\n",
       "      <td>-0.030939</td>\n",
       "      <td>...</td>\n",
       "      <td>-0.011765</td>\n",
       "      <td>-0.014521</td>\n",
       "      <td>0.009479</td>\n",
       "      <td>-0.010493</td>\n",
       "      <td>-0.008280</td>\n",
       "      <td>-0.004228</td>\n",
       "      <td>0.005226</td>\n",
       "      <td>-0.013213</td>\n",
       "      <td>-0.006792</td>\n",
       "      <td>-0.008074</td>\n",
       "    </tr>\n",
       "    <tr>\n",
       "      <th>1</th>\n",
       "      <td>-0.284662</td>\n",
       "      <td>0.764035</td>\n",
       "      <td>-0.411982</td>\n",
       "      <td>-0.010872</td>\n",
       "      <td>-0.110067</td>\n",
       "      <td>-0.087035</td>\n",
       "      <td>-0.096786</td>\n",
       "      <td>0.054585</td>\n",
       "      <td>-0.179466</td>\n",
       "      <td>-0.045549</td>\n",
       "      <td>...</td>\n",
       "      <td>-0.007235</td>\n",
       "      <td>-0.013019</td>\n",
       "      <td>0.006362</td>\n",
       "      <td>-0.011357</td>\n",
       "      <td>-0.008352</td>\n",
       "      <td>-0.001455</td>\n",
       "      <td>0.008352</td>\n",
       "      <td>-0.012816</td>\n",
       "      <td>-0.008436</td>\n",
       "      <td>-0.008627</td>\n",
       "    </tr>\n",
       "    <tr>\n",
       "      <th>2</th>\n",
       "      <td>-0.284659</td>\n",
       "      <td>0.767955</td>\n",
       "      <td>-0.395541</td>\n",
       "      <td>-0.007615</td>\n",
       "      <td>-0.091869</td>\n",
       "      <td>-0.059768</td>\n",
       "      <td>-0.062093</td>\n",
       "      <td>0.036484</td>\n",
       "      <td>-0.086830</td>\n",
       "      <td>-0.024722</td>\n",
       "      <td>...</td>\n",
       "      <td>-0.009478</td>\n",
       "      <td>-0.014725</td>\n",
       "      <td>0.006571</td>\n",
       "      <td>-0.012732</td>\n",
       "      <td>-0.009980</td>\n",
       "      <td>-0.005412</td>\n",
       "      <td>0.006489</td>\n",
       "      <td>-0.014800</td>\n",
       "      <td>-0.013024</td>\n",
       "      <td>-0.008547</td>\n",
       "    </tr>\n",
       "    <tr>\n",
       "      <th>3</th>\n",
       "      <td>-0.291422</td>\n",
       "      <td>0.777222</td>\n",
       "      <td>-0.408286</td>\n",
       "      <td>0.000300</td>\n",
       "      <td>-0.080828</td>\n",
       "      <td>-0.049801</td>\n",
       "      <td>-0.056895</td>\n",
       "      <td>0.019128</td>\n",
       "      <td>-0.070776</td>\n",
       "      <td>-0.027971</td>\n",
       "      <td>...</td>\n",
       "      <td>-0.012257</td>\n",
       "      <td>-0.015423</td>\n",
       "      <td>0.007624</td>\n",
       "      <td>-0.011305</td>\n",
       "      <td>-0.009440</td>\n",
       "      <td>-0.007883</td>\n",
       "      <td>0.004237</td>\n",
       "      <td>-0.014414</td>\n",
       "      <td>-0.011988</td>\n",
       "      <td>-0.010424</td>\n",
       "    </tr>\n",
       "    <tr>\n",
       "      <th>4</th>\n",
       "      <td>0.731807</td>\n",
       "      <td>-0.153182</td>\n",
       "      <td>-0.102195</td>\n",
       "      <td>-0.458238</td>\n",
       "      <td>0.816873</td>\n",
       "      <td>0.046188</td>\n",
       "      <td>0.015792</td>\n",
       "      <td>-0.064744</td>\n",
       "      <td>0.014353</td>\n",
       "      <td>-0.005003</td>\n",
       "      <td>...</td>\n",
       "      <td>0.006816</td>\n",
       "      <td>-0.013240</td>\n",
       "      <td>0.020038</td>\n",
       "      <td>-0.014597</td>\n",
       "      <td>-0.007294</td>\n",
       "      <td>0.026876</td>\n",
       "      <td>0.025312</td>\n",
       "      <td>-0.018810</td>\n",
       "      <td>-0.001452</td>\n",
       "      <td>0.046504</td>\n",
       "    </tr>\n",
       "  </tbody>\n",
       "</table>\n",
       "<p>5 rows × 40 columns</p>\n",
       "</div>"
      ],
      "text/plain": [
       "         0         1         2         3         4         5         6   \\\n",
       "0 -0.311391  0.786561 -0.420790  0.005234 -0.078663 -0.049646 -0.062640   \n",
       "1 -0.284662  0.764035 -0.411982 -0.010872 -0.110067 -0.087035 -0.096786   \n",
       "2 -0.284659  0.767955 -0.395541 -0.007615 -0.091869 -0.059768 -0.062093   \n",
       "3 -0.291422  0.777222 -0.408286  0.000300 -0.080828 -0.049801 -0.056895   \n",
       "4  0.731807 -0.153182 -0.102195 -0.458238  0.816873  0.046188  0.015792   \n",
       "\n",
       "         7         8         9   ...        30        31        32        33  \\\n",
       "0  0.007159 -0.075350 -0.030939  ... -0.011765 -0.014521  0.009479 -0.010493   \n",
       "1  0.054585 -0.179466 -0.045549  ... -0.007235 -0.013019  0.006362 -0.011357   \n",
       "2  0.036484 -0.086830 -0.024722  ... -0.009478 -0.014725  0.006571 -0.012732   \n",
       "3  0.019128 -0.070776 -0.027971  ... -0.012257 -0.015423  0.007624 -0.011305   \n",
       "4 -0.064744  0.014353 -0.005003  ...  0.006816 -0.013240  0.020038 -0.014597   \n",
       "\n",
       "         34        35        36        37        38        39  \n",
       "0 -0.008280 -0.004228  0.005226 -0.013213 -0.006792 -0.008074  \n",
       "1 -0.008352 -0.001455  0.008352 -0.012816 -0.008436 -0.008627  \n",
       "2 -0.009980 -0.005412  0.006489 -0.014800 -0.013024 -0.008547  \n",
       "3 -0.009440 -0.007883  0.004237 -0.014414 -0.011988 -0.010424  \n",
       "4 -0.007294  0.026876  0.025312 -0.018810 -0.001452  0.046504  \n",
       "\n",
       "[5 rows x 40 columns]"
      ]
     },
     "execution_count": 5,
     "metadata": {},
     "output_type": "execute_result"
    }
   ],
   "source": [
    "n_components=40\n",
    "PCA_Data = myLib.myPCA(Normalized_Data,n_components)\n",
    "PCA_Data.head()\n"
   ]
  },
  {
   "cell_type": "markdown",
   "metadata": {
    "pycharm": {
     "name": "#%% md\n"
    }
   },
   "source": [
    "####----------------------------------------------------------------\n",
    "# Decision Tree Classification \n",
    "####----------------------------------------------------------------"
   ]
  },
  {
   "cell_type": "code",
   "execution_count": 6,
   "metadata": {
    "pycharm": {
     "name": "#%%\n"
    }
   },
   "outputs": [
    {
     "data": {
      "text/plain": [
       "0    1\n",
       "1    1\n",
       "2    1\n",
       "3    1\n",
       "4    1\n",
       "Name: Class, dtype: int64"
      ]
     },
     "execution_count": 6,
     "metadata": {},
     "output_type": "execute_result"
    }
   ],
   "source": [
    "Y_Data.head()"
   ]
  },
  {
   "cell_type": "code",
   "execution_count": 7,
   "metadata": {
    "pycharm": {
     "name": "#%%\n"
    }
   },
   "outputs": [
    {
     "data": {
      "text/html": [
       "<div>\n",
       "<style scoped>\n",
       "    .dataframe tbody tr th:only-of-type {\n",
       "        vertical-align: middle;\n",
       "    }\n",
       "\n",
       "    .dataframe tbody tr th {\n",
       "        vertical-align: top;\n",
       "    }\n",
       "\n",
       "    .dataframe thead th {\n",
       "        text-align: right;\n",
       "    }\n",
       "</style>\n",
       "<table border=\"1\" class=\"dataframe\">\n",
       "  <thead>\n",
       "    <tr style=\"text-align: right;\">\n",
       "      <th></th>\n",
       "      <th>members</th>\n",
       "      <th>type_Movie</th>\n",
       "      <th>type_Music</th>\n",
       "      <th>type_ONA</th>\n",
       "      <th>type_OVA</th>\n",
       "      <th>type_Special</th>\n",
       "      <th>type_TV</th>\n",
       "      <th>genre_ Adventure</th>\n",
       "      <th>genre_ Cars</th>\n",
       "      <th>genre_ Comedy</th>\n",
       "      <th>...</th>\n",
       "      <th>genre_Shoujo</th>\n",
       "      <th>genre_Shounen</th>\n",
       "      <th>genre_Slice of Life</th>\n",
       "      <th>genre_Space</th>\n",
       "      <th>genre_Sports</th>\n",
       "      <th>genre_Super Power</th>\n",
       "      <th>genre_Supernatural</th>\n",
       "      <th>genre_Thriller</th>\n",
       "      <th>genre_Vampire</th>\n",
       "      <th>genre_Yaoi</th>\n",
       "    </tr>\n",
       "  </thead>\n",
       "  <tbody>\n",
       "    <tr>\n",
       "      <th>0</th>\n",
       "      <td>200630</td>\n",
       "      <td>1</td>\n",
       "      <td>0</td>\n",
       "      <td>0</td>\n",
       "      <td>0</td>\n",
       "      <td>0</td>\n",
       "      <td>0</td>\n",
       "      <td>0</td>\n",
       "      <td>0</td>\n",
       "      <td>0</td>\n",
       "      <td>...</td>\n",
       "      <td>0</td>\n",
       "      <td>0</td>\n",
       "      <td>0</td>\n",
       "      <td>0</td>\n",
       "      <td>0</td>\n",
       "      <td>0</td>\n",
       "      <td>0</td>\n",
       "      <td>0</td>\n",
       "      <td>0</td>\n",
       "      <td>0</td>\n",
       "    </tr>\n",
       "    <tr>\n",
       "      <th>1</th>\n",
       "      <td>200630</td>\n",
       "      <td>1</td>\n",
       "      <td>0</td>\n",
       "      <td>0</td>\n",
       "      <td>0</td>\n",
       "      <td>0</td>\n",
       "      <td>0</td>\n",
       "      <td>0</td>\n",
       "      <td>0</td>\n",
       "      <td>0</td>\n",
       "      <td>...</td>\n",
       "      <td>0</td>\n",
       "      <td>0</td>\n",
       "      <td>0</td>\n",
       "      <td>0</td>\n",
       "      <td>0</td>\n",
       "      <td>0</td>\n",
       "      <td>0</td>\n",
       "      <td>0</td>\n",
       "      <td>0</td>\n",
       "      <td>0</td>\n",
       "    </tr>\n",
       "    <tr>\n",
       "      <th>2</th>\n",
       "      <td>200630</td>\n",
       "      <td>1</td>\n",
       "      <td>0</td>\n",
       "      <td>0</td>\n",
       "      <td>0</td>\n",
       "      <td>0</td>\n",
       "      <td>0</td>\n",
       "      <td>0</td>\n",
       "      <td>0</td>\n",
       "      <td>0</td>\n",
       "      <td>...</td>\n",
       "      <td>0</td>\n",
       "      <td>0</td>\n",
       "      <td>0</td>\n",
       "      <td>0</td>\n",
       "      <td>0</td>\n",
       "      <td>0</td>\n",
       "      <td>0</td>\n",
       "      <td>0</td>\n",
       "      <td>0</td>\n",
       "      <td>0</td>\n",
       "    </tr>\n",
       "    <tr>\n",
       "      <th>3</th>\n",
       "      <td>200630</td>\n",
       "      <td>1</td>\n",
       "      <td>0</td>\n",
       "      <td>0</td>\n",
       "      <td>0</td>\n",
       "      <td>0</td>\n",
       "      <td>0</td>\n",
       "      <td>0</td>\n",
       "      <td>0</td>\n",
       "      <td>0</td>\n",
       "      <td>...</td>\n",
       "      <td>0</td>\n",
       "      <td>0</td>\n",
       "      <td>0</td>\n",
       "      <td>0</td>\n",
       "      <td>0</td>\n",
       "      <td>0</td>\n",
       "      <td>0</td>\n",
       "      <td>0</td>\n",
       "      <td>0</td>\n",
       "      <td>0</td>\n",
       "    </tr>\n",
       "    <tr>\n",
       "      <th>4</th>\n",
       "      <td>793665</td>\n",
       "      <td>0</td>\n",
       "      <td>0</td>\n",
       "      <td>0</td>\n",
       "      <td>0</td>\n",
       "      <td>0</td>\n",
       "      <td>1</td>\n",
       "      <td>0</td>\n",
       "      <td>0</td>\n",
       "      <td>0</td>\n",
       "      <td>...</td>\n",
       "      <td>0</td>\n",
       "      <td>0</td>\n",
       "      <td>0</td>\n",
       "      <td>0</td>\n",
       "      <td>0</td>\n",
       "      <td>0</td>\n",
       "      <td>0</td>\n",
       "      <td>0</td>\n",
       "      <td>0</td>\n",
       "      <td>0</td>\n",
       "    </tr>\n",
       "  </tbody>\n",
       "</table>\n",
       "<p>5 rows × 89 columns</p>\n",
       "</div>"
      ],
      "text/plain": [
       "   members  type_Movie  type_Music  type_ONA  type_OVA  type_Special  type_TV  \\\n",
       "0   200630           1           0         0         0             0        0   \n",
       "1   200630           1           0         0         0             0        0   \n",
       "2   200630           1           0         0         0             0        0   \n",
       "3   200630           1           0         0         0             0        0   \n",
       "4   793665           0           0         0         0             0        1   \n",
       "\n",
       "   genre_ Adventure  genre_ Cars  genre_ Comedy  ...  genre_Shoujo  \\\n",
       "0                 0            0              0  ...             0   \n",
       "1                 0            0              0  ...             0   \n",
       "2                 0            0              0  ...             0   \n",
       "3                 0            0              0  ...             0   \n",
       "4                 0            0              0  ...             0   \n",
       "\n",
       "   genre_Shounen  genre_Slice of Life  genre_Space  genre_Sports  \\\n",
       "0              0                    0            0             0   \n",
       "1              0                    0            0             0   \n",
       "2              0                    0            0             0   \n",
       "3              0                    0            0             0   \n",
       "4              0                    0            0             0   \n",
       "\n",
       "   genre_Super Power  genre_Supernatural  genre_Thriller  genre_Vampire  \\\n",
       "0                  0                   0               0              0   \n",
       "1                  0                   0               0              0   \n",
       "2                  0                   0               0              0   \n",
       "3                  0                   0               0              0   \n",
       "4                  0                   0               0              0   \n",
       "\n",
       "   genre_Yaoi  \n",
       "0           0  \n",
       "1           0  \n",
       "2           0  \n",
       "3           0  \n",
       "4           0  \n",
       "\n",
       "[5 rows x 89 columns]"
      ]
     },
     "execution_count": 7,
     "metadata": {},
     "output_type": "execute_result"
    }
   ],
   "source": [
    "X_Data.head()"
   ]
  },
  {
   "cell_type": "code",
   "execution_count": 8,
   "metadata": {
    "pycharm": {
     "name": "#%%\n"
    }
   },
   "outputs": [
    {
     "data": {
      "text/html": [
       "<div>\n",
       "<style scoped>\n",
       "    .dataframe tbody tr th:only-of-type {\n",
       "        vertical-align: middle;\n",
       "    }\n",
       "\n",
       "    .dataframe tbody tr th {\n",
       "        vertical-align: top;\n",
       "    }\n",
       "\n",
       "    .dataframe thead th {\n",
       "        text-align: right;\n",
       "    }\n",
       "</style>\n",
       "<table border=\"1\" class=\"dataframe\">\n",
       "  <thead>\n",
       "    <tr style=\"text-align: right;\">\n",
       "      <th></th>\n",
       "      <th>0</th>\n",
       "      <th>1</th>\n",
       "      <th>2</th>\n",
       "      <th>3</th>\n",
       "      <th>4</th>\n",
       "      <th>5</th>\n",
       "      <th>6</th>\n",
       "      <th>7</th>\n",
       "      <th>8</th>\n",
       "      <th>9</th>\n",
       "      <th>...</th>\n",
       "      <th>79</th>\n",
       "      <th>80</th>\n",
       "      <th>81</th>\n",
       "      <th>82</th>\n",
       "      <th>83</th>\n",
       "      <th>84</th>\n",
       "      <th>85</th>\n",
       "      <th>86</th>\n",
       "      <th>87</th>\n",
       "      <th>88</th>\n",
       "    </tr>\n",
       "  </thead>\n",
       "  <tbody>\n",
       "    <tr>\n",
       "      <th>0</th>\n",
       "      <td>0.197867</td>\n",
       "      <td>1.0</td>\n",
       "      <td>0.0</td>\n",
       "      <td>0.0</td>\n",
       "      <td>0.0</td>\n",
       "      <td>0.0</td>\n",
       "      <td>0.0</td>\n",
       "      <td>0.0</td>\n",
       "      <td>0.0</td>\n",
       "      <td>0.0</td>\n",
       "      <td>...</td>\n",
       "      <td>0.0</td>\n",
       "      <td>0.0</td>\n",
       "      <td>0.0</td>\n",
       "      <td>0.0</td>\n",
       "      <td>0.0</td>\n",
       "      <td>0.0</td>\n",
       "      <td>0.0</td>\n",
       "      <td>0.0</td>\n",
       "      <td>0.0</td>\n",
       "      <td>0.0</td>\n",
       "    </tr>\n",
       "    <tr>\n",
       "      <th>1</th>\n",
       "      <td>0.197867</td>\n",
       "      <td>1.0</td>\n",
       "      <td>0.0</td>\n",
       "      <td>0.0</td>\n",
       "      <td>0.0</td>\n",
       "      <td>0.0</td>\n",
       "      <td>0.0</td>\n",
       "      <td>0.0</td>\n",
       "      <td>0.0</td>\n",
       "      <td>0.0</td>\n",
       "      <td>...</td>\n",
       "      <td>0.0</td>\n",
       "      <td>0.0</td>\n",
       "      <td>0.0</td>\n",
       "      <td>0.0</td>\n",
       "      <td>0.0</td>\n",
       "      <td>0.0</td>\n",
       "      <td>0.0</td>\n",
       "      <td>0.0</td>\n",
       "      <td>0.0</td>\n",
       "      <td>0.0</td>\n",
       "    </tr>\n",
       "    <tr>\n",
       "      <th>2</th>\n",
       "      <td>0.197867</td>\n",
       "      <td>1.0</td>\n",
       "      <td>0.0</td>\n",
       "      <td>0.0</td>\n",
       "      <td>0.0</td>\n",
       "      <td>0.0</td>\n",
       "      <td>0.0</td>\n",
       "      <td>0.0</td>\n",
       "      <td>0.0</td>\n",
       "      <td>0.0</td>\n",
       "      <td>...</td>\n",
       "      <td>0.0</td>\n",
       "      <td>0.0</td>\n",
       "      <td>0.0</td>\n",
       "      <td>0.0</td>\n",
       "      <td>0.0</td>\n",
       "      <td>0.0</td>\n",
       "      <td>0.0</td>\n",
       "      <td>0.0</td>\n",
       "      <td>0.0</td>\n",
       "      <td>0.0</td>\n",
       "    </tr>\n",
       "    <tr>\n",
       "      <th>3</th>\n",
       "      <td>0.197867</td>\n",
       "      <td>1.0</td>\n",
       "      <td>0.0</td>\n",
       "      <td>0.0</td>\n",
       "      <td>0.0</td>\n",
       "      <td>0.0</td>\n",
       "      <td>0.0</td>\n",
       "      <td>0.0</td>\n",
       "      <td>0.0</td>\n",
       "      <td>0.0</td>\n",
       "      <td>...</td>\n",
       "      <td>0.0</td>\n",
       "      <td>0.0</td>\n",
       "      <td>0.0</td>\n",
       "      <td>0.0</td>\n",
       "      <td>0.0</td>\n",
       "      <td>0.0</td>\n",
       "      <td>0.0</td>\n",
       "      <td>0.0</td>\n",
       "      <td>0.0</td>\n",
       "      <td>0.0</td>\n",
       "    </tr>\n",
       "    <tr>\n",
       "      <th>4</th>\n",
       "      <td>0.782769</td>\n",
       "      <td>0.0</td>\n",
       "      <td>0.0</td>\n",
       "      <td>0.0</td>\n",
       "      <td>0.0</td>\n",
       "      <td>0.0</td>\n",
       "      <td>1.0</td>\n",
       "      <td>0.0</td>\n",
       "      <td>0.0</td>\n",
       "      <td>0.0</td>\n",
       "      <td>...</td>\n",
       "      <td>0.0</td>\n",
       "      <td>0.0</td>\n",
       "      <td>0.0</td>\n",
       "      <td>0.0</td>\n",
       "      <td>0.0</td>\n",
       "      <td>0.0</td>\n",
       "      <td>0.0</td>\n",
       "      <td>0.0</td>\n",
       "      <td>0.0</td>\n",
       "      <td>0.0</td>\n",
       "    </tr>\n",
       "  </tbody>\n",
       "</table>\n",
       "<p>5 rows × 89 columns</p>\n",
       "</div>"
      ],
      "text/plain": [
       "         0    1    2    3    4    5    6    7    8    9   ...   79   80   81  \\\n",
       "0  0.197867  1.0  0.0  0.0  0.0  0.0  0.0  0.0  0.0  0.0  ...  0.0  0.0  0.0   \n",
       "1  0.197867  1.0  0.0  0.0  0.0  0.0  0.0  0.0  0.0  0.0  ...  0.0  0.0  0.0   \n",
       "2  0.197867  1.0  0.0  0.0  0.0  0.0  0.0  0.0  0.0  0.0  ...  0.0  0.0  0.0   \n",
       "3  0.197867  1.0  0.0  0.0  0.0  0.0  0.0  0.0  0.0  0.0  ...  0.0  0.0  0.0   \n",
       "4  0.782769  0.0  0.0  0.0  0.0  0.0  1.0  0.0  0.0  0.0  ...  0.0  0.0  0.0   \n",
       "\n",
       "    82   83   84   85   86   87   88  \n",
       "0  0.0  0.0  0.0  0.0  0.0  0.0  0.0  \n",
       "1  0.0  0.0  0.0  0.0  0.0  0.0  0.0  \n",
       "2  0.0  0.0  0.0  0.0  0.0  0.0  0.0  \n",
       "3  0.0  0.0  0.0  0.0  0.0  0.0  0.0  \n",
       "4  0.0  0.0  0.0  0.0  0.0  0.0  0.0  \n",
       "\n",
       "[5 rows x 89 columns]"
      ]
     },
     "execution_count": 8,
     "metadata": {},
     "output_type": "execute_result"
    }
   ],
   "source": [
    "Normalized_Data.head()"
   ]
  },
  {
   "cell_type": "code",
   "execution_count": 9,
   "metadata": {
    "pycharm": {
     "name": "#%%\n"
    }
   },
   "outputs": [
    {
     "data": {
      "text/html": [
       "<div>\n",
       "<style scoped>\n",
       "    .dataframe tbody tr th:only-of-type {\n",
       "        vertical-align: middle;\n",
       "    }\n",
       "\n",
       "    .dataframe tbody tr th {\n",
       "        vertical-align: top;\n",
       "    }\n",
       "\n",
       "    .dataframe thead th {\n",
       "        text-align: right;\n",
       "    }\n",
       "</style>\n",
       "<table border=\"1\" class=\"dataframe\">\n",
       "  <thead>\n",
       "    <tr style=\"text-align: right;\">\n",
       "      <th></th>\n",
       "      <th>0</th>\n",
       "      <th>1</th>\n",
       "      <th>2</th>\n",
       "      <th>3</th>\n",
       "      <th>4</th>\n",
       "      <th>5</th>\n",
       "      <th>6</th>\n",
       "      <th>7</th>\n",
       "      <th>8</th>\n",
       "      <th>9</th>\n",
       "      <th>...</th>\n",
       "      <th>30</th>\n",
       "      <th>31</th>\n",
       "      <th>32</th>\n",
       "      <th>33</th>\n",
       "      <th>34</th>\n",
       "      <th>35</th>\n",
       "      <th>36</th>\n",
       "      <th>37</th>\n",
       "      <th>38</th>\n",
       "      <th>39</th>\n",
       "    </tr>\n",
       "  </thead>\n",
       "  <tbody>\n",
       "    <tr>\n",
       "      <th>0</th>\n",
       "      <td>-0.311391</td>\n",
       "      <td>0.786561</td>\n",
       "      <td>-0.420790</td>\n",
       "      <td>0.005234</td>\n",
       "      <td>-0.078663</td>\n",
       "      <td>-0.049646</td>\n",
       "      <td>-0.062640</td>\n",
       "      <td>0.007159</td>\n",
       "      <td>-0.075350</td>\n",
       "      <td>-0.030939</td>\n",
       "      <td>...</td>\n",
       "      <td>-0.011765</td>\n",
       "      <td>-0.014521</td>\n",
       "      <td>0.009479</td>\n",
       "      <td>-0.010493</td>\n",
       "      <td>-0.008280</td>\n",
       "      <td>-0.004228</td>\n",
       "      <td>0.005226</td>\n",
       "      <td>-0.013213</td>\n",
       "      <td>-0.006792</td>\n",
       "      <td>-0.008074</td>\n",
       "    </tr>\n",
       "    <tr>\n",
       "      <th>1</th>\n",
       "      <td>-0.284662</td>\n",
       "      <td>0.764035</td>\n",
       "      <td>-0.411982</td>\n",
       "      <td>-0.010872</td>\n",
       "      <td>-0.110067</td>\n",
       "      <td>-0.087035</td>\n",
       "      <td>-0.096786</td>\n",
       "      <td>0.054585</td>\n",
       "      <td>-0.179466</td>\n",
       "      <td>-0.045549</td>\n",
       "      <td>...</td>\n",
       "      <td>-0.007235</td>\n",
       "      <td>-0.013019</td>\n",
       "      <td>0.006362</td>\n",
       "      <td>-0.011357</td>\n",
       "      <td>-0.008352</td>\n",
       "      <td>-0.001455</td>\n",
       "      <td>0.008352</td>\n",
       "      <td>-0.012816</td>\n",
       "      <td>-0.008436</td>\n",
       "      <td>-0.008627</td>\n",
       "    </tr>\n",
       "    <tr>\n",
       "      <th>2</th>\n",
       "      <td>-0.284659</td>\n",
       "      <td>0.767955</td>\n",
       "      <td>-0.395541</td>\n",
       "      <td>-0.007615</td>\n",
       "      <td>-0.091869</td>\n",
       "      <td>-0.059768</td>\n",
       "      <td>-0.062093</td>\n",
       "      <td>0.036484</td>\n",
       "      <td>-0.086830</td>\n",
       "      <td>-0.024722</td>\n",
       "      <td>...</td>\n",
       "      <td>-0.009478</td>\n",
       "      <td>-0.014725</td>\n",
       "      <td>0.006571</td>\n",
       "      <td>-0.012732</td>\n",
       "      <td>-0.009980</td>\n",
       "      <td>-0.005412</td>\n",
       "      <td>0.006489</td>\n",
       "      <td>-0.014800</td>\n",
       "      <td>-0.013024</td>\n",
       "      <td>-0.008547</td>\n",
       "    </tr>\n",
       "    <tr>\n",
       "      <th>3</th>\n",
       "      <td>-0.291422</td>\n",
       "      <td>0.777222</td>\n",
       "      <td>-0.408286</td>\n",
       "      <td>0.000300</td>\n",
       "      <td>-0.080828</td>\n",
       "      <td>-0.049801</td>\n",
       "      <td>-0.056895</td>\n",
       "      <td>0.019128</td>\n",
       "      <td>-0.070776</td>\n",
       "      <td>-0.027971</td>\n",
       "      <td>...</td>\n",
       "      <td>-0.012257</td>\n",
       "      <td>-0.015423</td>\n",
       "      <td>0.007624</td>\n",
       "      <td>-0.011305</td>\n",
       "      <td>-0.009440</td>\n",
       "      <td>-0.007883</td>\n",
       "      <td>0.004237</td>\n",
       "      <td>-0.014414</td>\n",
       "      <td>-0.011988</td>\n",
       "      <td>-0.010424</td>\n",
       "    </tr>\n",
       "    <tr>\n",
       "      <th>4</th>\n",
       "      <td>0.731807</td>\n",
       "      <td>-0.153182</td>\n",
       "      <td>-0.102195</td>\n",
       "      <td>-0.458238</td>\n",
       "      <td>0.816873</td>\n",
       "      <td>0.046188</td>\n",
       "      <td>0.015792</td>\n",
       "      <td>-0.064744</td>\n",
       "      <td>0.014353</td>\n",
       "      <td>-0.005003</td>\n",
       "      <td>...</td>\n",
       "      <td>0.006816</td>\n",
       "      <td>-0.013240</td>\n",
       "      <td>0.020038</td>\n",
       "      <td>-0.014597</td>\n",
       "      <td>-0.007294</td>\n",
       "      <td>0.026876</td>\n",
       "      <td>0.025312</td>\n",
       "      <td>-0.018810</td>\n",
       "      <td>-0.001452</td>\n",
       "      <td>0.046504</td>\n",
       "    </tr>\n",
       "  </tbody>\n",
       "</table>\n",
       "<p>5 rows × 40 columns</p>\n",
       "</div>"
      ],
      "text/plain": [
       "         0         1         2         3         4         5         6   \\\n",
       "0 -0.311391  0.786561 -0.420790  0.005234 -0.078663 -0.049646 -0.062640   \n",
       "1 -0.284662  0.764035 -0.411982 -0.010872 -0.110067 -0.087035 -0.096786   \n",
       "2 -0.284659  0.767955 -0.395541 -0.007615 -0.091869 -0.059768 -0.062093   \n",
       "3 -0.291422  0.777222 -0.408286  0.000300 -0.080828 -0.049801 -0.056895   \n",
       "4  0.731807 -0.153182 -0.102195 -0.458238  0.816873  0.046188  0.015792   \n",
       "\n",
       "         7         8         9   ...        30        31        32        33  \\\n",
       "0  0.007159 -0.075350 -0.030939  ... -0.011765 -0.014521  0.009479 -0.010493   \n",
       "1  0.054585 -0.179466 -0.045549  ... -0.007235 -0.013019  0.006362 -0.011357   \n",
       "2  0.036484 -0.086830 -0.024722  ... -0.009478 -0.014725  0.006571 -0.012732   \n",
       "3  0.019128 -0.070776 -0.027971  ... -0.012257 -0.015423  0.007624 -0.011305   \n",
       "4 -0.064744  0.014353 -0.005003  ...  0.006816 -0.013240  0.020038 -0.014597   \n",
       "\n",
       "         34        35        36        37        38        39  \n",
       "0 -0.008280 -0.004228  0.005226 -0.013213 -0.006792 -0.008074  \n",
       "1 -0.008352 -0.001455  0.008352 -0.012816 -0.008436 -0.008627  \n",
       "2 -0.009980 -0.005412  0.006489 -0.014800 -0.013024 -0.008547  \n",
       "3 -0.009440 -0.007883  0.004237 -0.014414 -0.011988 -0.010424  \n",
       "4 -0.007294  0.026876  0.025312 -0.018810 -0.001452  0.046504  \n",
       "\n",
       "[5 rows x 40 columns]"
      ]
     },
     "execution_count": 9,
     "metadata": {},
     "output_type": "execute_result"
    }
   ],
   "source": [
    "PCA_Data.head()\n"
   ]
  },
  {
   "cell_type": "markdown",
   "metadata": {},
   "source": [
    "####----------------------------------------------------------------\n",
    "#### Split Original Data\n",
    "####----------------------------------------------------------------"
   ]
  },
  {
   "cell_type": "code",
   "execution_count": 10,
   "metadata": {
    "pycharm": {
     "name": "#%%\n"
    }
   },
   "outputs": [
    {
     "data": {
      "text/html": [
       "<div>\n",
       "<style scoped>\n",
       "    .dataframe tbody tr th:only-of-type {\n",
       "        vertical-align: middle;\n",
       "    }\n",
       "\n",
       "    .dataframe tbody tr th {\n",
       "        vertical-align: top;\n",
       "    }\n",
       "\n",
       "    .dataframe thead th {\n",
       "        text-align: right;\n",
       "    }\n",
       "</style>\n",
       "<table border=\"1\" class=\"dataframe\">\n",
       "  <thead>\n",
       "    <tr style=\"text-align: right;\">\n",
       "      <th></th>\n",
       "      <th>members</th>\n",
       "      <th>type_Movie</th>\n",
       "      <th>type_Music</th>\n",
       "      <th>type_ONA</th>\n",
       "      <th>type_OVA</th>\n",
       "      <th>type_Special</th>\n",
       "      <th>type_TV</th>\n",
       "      <th>genre_ Adventure</th>\n",
       "      <th>genre_ Cars</th>\n",
       "      <th>genre_ Comedy</th>\n",
       "      <th>...</th>\n",
       "      <th>genre_Shoujo</th>\n",
       "      <th>genre_Shounen</th>\n",
       "      <th>genre_Slice of Life</th>\n",
       "      <th>genre_Space</th>\n",
       "      <th>genre_Sports</th>\n",
       "      <th>genre_Super Power</th>\n",
       "      <th>genre_Supernatural</th>\n",
       "      <th>genre_Thriller</th>\n",
       "      <th>genre_Vampire</th>\n",
       "      <th>genre_Yaoi</th>\n",
       "    </tr>\n",
       "  </thead>\n",
       "  <tbody>\n",
       "    <tr>\n",
       "      <th>32729</th>\n",
       "      <td>132</td>\n",
       "      <td>0</td>\n",
       "      <td>0</td>\n",
       "      <td>0</td>\n",
       "      <td>0</td>\n",
       "      <td>1</td>\n",
       "      <td>0</td>\n",
       "      <td>0</td>\n",
       "      <td>0</td>\n",
       "      <td>0</td>\n",
       "      <td>...</td>\n",
       "      <td>0</td>\n",
       "      <td>0</td>\n",
       "      <td>0</td>\n",
       "      <td>0</td>\n",
       "      <td>0</td>\n",
       "      <td>0</td>\n",
       "      <td>0</td>\n",
       "      <td>0</td>\n",
       "      <td>0</td>\n",
       "      <td>0</td>\n",
       "    </tr>\n",
       "    <tr>\n",
       "      <th>24946</th>\n",
       "      <td>7051</td>\n",
       "      <td>0</td>\n",
       "      <td>0</td>\n",
       "      <td>0</td>\n",
       "      <td>1</td>\n",
       "      <td>0</td>\n",
       "      <td>0</td>\n",
       "      <td>0</td>\n",
       "      <td>0</td>\n",
       "      <td>0</td>\n",
       "      <td>...</td>\n",
       "      <td>0</td>\n",
       "      <td>0</td>\n",
       "      <td>0</td>\n",
       "      <td>0</td>\n",
       "      <td>0</td>\n",
       "      <td>0</td>\n",
       "      <td>0</td>\n",
       "      <td>0</td>\n",
       "      <td>0</td>\n",
       "      <td>0</td>\n",
       "    </tr>\n",
       "    <tr>\n",
       "      <th>8676</th>\n",
       "      <td>65896</td>\n",
       "      <td>0</td>\n",
       "      <td>0</td>\n",
       "      <td>0</td>\n",
       "      <td>0</td>\n",
       "      <td>0</td>\n",
       "      <td>1</td>\n",
       "      <td>0</td>\n",
       "      <td>0</td>\n",
       "      <td>0</td>\n",
       "      <td>...</td>\n",
       "      <td>0</td>\n",
       "      <td>0</td>\n",
       "      <td>0</td>\n",
       "      <td>0</td>\n",
       "      <td>0</td>\n",
       "      <td>0</td>\n",
       "      <td>0</td>\n",
       "      <td>0</td>\n",
       "      <td>0</td>\n",
       "      <td>0</td>\n",
       "    </tr>\n",
       "    <tr>\n",
       "      <th>13244</th>\n",
       "      <td>67936</td>\n",
       "      <td>0</td>\n",
       "      <td>0</td>\n",
       "      <td>0</td>\n",
       "      <td>0</td>\n",
       "      <td>0</td>\n",
       "      <td>1</td>\n",
       "      <td>0</td>\n",
       "      <td>0</td>\n",
       "      <td>0</td>\n",
       "      <td>...</td>\n",
       "      <td>0</td>\n",
       "      <td>0</td>\n",
       "      <td>0</td>\n",
       "      <td>0</td>\n",
       "      <td>0</td>\n",
       "      <td>0</td>\n",
       "      <td>0</td>\n",
       "      <td>0</td>\n",
       "      <td>0</td>\n",
       "      <td>0</td>\n",
       "    </tr>\n",
       "    <tr>\n",
       "      <th>29384</th>\n",
       "      <td>49</td>\n",
       "      <td>0</td>\n",
       "      <td>0</td>\n",
       "      <td>0</td>\n",
       "      <td>0</td>\n",
       "      <td>0</td>\n",
       "      <td>1</td>\n",
       "      <td>0</td>\n",
       "      <td>0</td>\n",
       "      <td>0</td>\n",
       "      <td>...</td>\n",
       "      <td>0</td>\n",
       "      <td>0</td>\n",
       "      <td>0</td>\n",
       "      <td>0</td>\n",
       "      <td>0</td>\n",
       "      <td>0</td>\n",
       "      <td>0</td>\n",
       "      <td>0</td>\n",
       "      <td>0</td>\n",
       "      <td>0</td>\n",
       "    </tr>\n",
       "  </tbody>\n",
       "</table>\n",
       "<p>5 rows × 89 columns</p>\n",
       "</div>"
      ],
      "text/plain": [
       "       members  type_Movie  type_Music  type_ONA  type_OVA  type_Special  \\\n",
       "32729      132           0           0         0         0             1   \n",
       "24946     7051           0           0         0         1             0   \n",
       "8676     65896           0           0         0         0             0   \n",
       "13244    67936           0           0         0         0             0   \n",
       "29384       49           0           0         0         0             0   \n",
       "\n",
       "       type_TV  genre_ Adventure  genre_ Cars  genre_ Comedy  ...  \\\n",
       "32729        0                 0            0              0  ...   \n",
       "24946        0                 0            0              0  ...   \n",
       "8676         1                 0            0              0  ...   \n",
       "13244        1                 0            0              0  ...   \n",
       "29384        1                 0            0              0  ...   \n",
       "\n",
       "       genre_Shoujo  genre_Shounen  genre_Slice of Life  genre_Space  \\\n",
       "32729             0              0                    0            0   \n",
       "24946             0              0                    0            0   \n",
       "8676              0              0                    0            0   \n",
       "13244             0              0                    0            0   \n",
       "29384             0              0                    0            0   \n",
       "\n",
       "       genre_Sports  genre_Super Power  genre_Supernatural  genre_Thriller  \\\n",
       "32729             0                  0                   0               0   \n",
       "24946             0                  0                   0               0   \n",
       "8676              0                  0                   0               0   \n",
       "13244             0                  0                   0               0   \n",
       "29384             0                  0                   0               0   \n",
       "\n",
       "       genre_Vampire  genre_Yaoi  \n",
       "32729              0           0  \n",
       "24946              0           0  \n",
       "8676               0           0  \n",
       "13244              0           0  \n",
       "29384              0           0  \n",
       "\n",
       "[5 rows x 89 columns]"
      ]
     },
     "execution_count": 10,
     "metadata": {},
     "output_type": "execute_result"
    }
   ],
   "source": [
    "X_train, X_test, y_train, y_test  = myLib.mySplitData(X_Data,Y_Data,0.33,42)\n",
    "\n",
    "X_train.head()"
   ]
  },
  {
   "cell_type": "code",
   "execution_count": 11,
   "metadata": {
    "pycharm": {
     "name": "#%%\n"
    }
   },
   "outputs": [
    {
     "data": {
      "text/html": [
       "<div>\n",
       "<style scoped>\n",
       "    .dataframe tbody tr th:only-of-type {\n",
       "        vertical-align: middle;\n",
       "    }\n",
       "\n",
       "    .dataframe tbody tr th {\n",
       "        vertical-align: top;\n",
       "    }\n",
       "\n",
       "    .dataframe thead th {\n",
       "        text-align: right;\n",
       "    }\n",
       "</style>\n",
       "<table border=\"1\" class=\"dataframe\">\n",
       "  <thead>\n",
       "    <tr style=\"text-align: right;\">\n",
       "      <th></th>\n",
       "      <th>members</th>\n",
       "      <th>type_Movie</th>\n",
       "      <th>type_Music</th>\n",
       "      <th>type_ONA</th>\n",
       "      <th>type_OVA</th>\n",
       "      <th>type_Special</th>\n",
       "      <th>type_TV</th>\n",
       "      <th>genre_ Adventure</th>\n",
       "      <th>genre_ Cars</th>\n",
       "      <th>genre_ Comedy</th>\n",
       "      <th>...</th>\n",
       "      <th>genre_Shoujo</th>\n",
       "      <th>genre_Shounen</th>\n",
       "      <th>genre_Slice of Life</th>\n",
       "      <th>genre_Space</th>\n",
       "      <th>genre_Sports</th>\n",
       "      <th>genre_Super Power</th>\n",
       "      <th>genre_Supernatural</th>\n",
       "      <th>genre_Thriller</th>\n",
       "      <th>genre_Vampire</th>\n",
       "      <th>genre_Yaoi</th>\n",
       "    </tr>\n",
       "  </thead>\n",
       "  <tbody>\n",
       "    <tr>\n",
       "      <th>22373</th>\n",
       "      <td>3331</td>\n",
       "      <td>0</td>\n",
       "      <td>0</td>\n",
       "      <td>1</td>\n",
       "      <td>0</td>\n",
       "      <td>0</td>\n",
       "      <td>0</td>\n",
       "      <td>0</td>\n",
       "      <td>0</td>\n",
       "      <td>0</td>\n",
       "      <td>...</td>\n",
       "      <td>0</td>\n",
       "      <td>0</td>\n",
       "      <td>0</td>\n",
       "      <td>0</td>\n",
       "      <td>0</td>\n",
       "      <td>0</td>\n",
       "      <td>0</td>\n",
       "      <td>0</td>\n",
       "      <td>0</td>\n",
       "      <td>0</td>\n",
       "    </tr>\n",
       "    <tr>\n",
       "      <th>10508</th>\n",
       "      <td>28423</td>\n",
       "      <td>0</td>\n",
       "      <td>0</td>\n",
       "      <td>0</td>\n",
       "      <td>0</td>\n",
       "      <td>0</td>\n",
       "      <td>1</td>\n",
       "      <td>0</td>\n",
       "      <td>0</td>\n",
       "      <td>0</td>\n",
       "      <td>...</td>\n",
       "      <td>0</td>\n",
       "      <td>0</td>\n",
       "      <td>0</td>\n",
       "      <td>0</td>\n",
       "      <td>0</td>\n",
       "      <td>0</td>\n",
       "      <td>0</td>\n",
       "      <td>0</td>\n",
       "      <td>0</td>\n",
       "      <td>0</td>\n",
       "    </tr>\n",
       "    <tr>\n",
       "      <th>11570</th>\n",
       "      <td>5078</td>\n",
       "      <td>1</td>\n",
       "      <td>0</td>\n",
       "      <td>0</td>\n",
       "      <td>0</td>\n",
       "      <td>0</td>\n",
       "      <td>0</td>\n",
       "      <td>0</td>\n",
       "      <td>0</td>\n",
       "      <td>0</td>\n",
       "      <td>...</td>\n",
       "      <td>0</td>\n",
       "      <td>0</td>\n",
       "      <td>0</td>\n",
       "      <td>0</td>\n",
       "      <td>0</td>\n",
       "      <td>0</td>\n",
       "      <td>0</td>\n",
       "      <td>0</td>\n",
       "      <td>0</td>\n",
       "      <td>0</td>\n",
       "    </tr>\n",
       "    <tr>\n",
       "      <th>22262</th>\n",
       "      <td>390</td>\n",
       "      <td>1</td>\n",
       "      <td>0</td>\n",
       "      <td>0</td>\n",
       "      <td>0</td>\n",
       "      <td>0</td>\n",
       "      <td>0</td>\n",
       "      <td>0</td>\n",
       "      <td>0</td>\n",
       "      <td>0</td>\n",
       "      <td>...</td>\n",
       "      <td>0</td>\n",
       "      <td>0</td>\n",
       "      <td>0</td>\n",
       "      <td>0</td>\n",
       "      <td>0</td>\n",
       "      <td>0</td>\n",
       "      <td>0</td>\n",
       "      <td>0</td>\n",
       "      <td>0</td>\n",
       "      <td>0</td>\n",
       "    </tr>\n",
       "    <tr>\n",
       "      <th>734</th>\n",
       "      <td>482268</td>\n",
       "      <td>0</td>\n",
       "      <td>0</td>\n",
       "      <td>0</td>\n",
       "      <td>0</td>\n",
       "      <td>0</td>\n",
       "      <td>1</td>\n",
       "      <td>0</td>\n",
       "      <td>0</td>\n",
       "      <td>0</td>\n",
       "      <td>...</td>\n",
       "      <td>0</td>\n",
       "      <td>0</td>\n",
       "      <td>0</td>\n",
       "      <td>0</td>\n",
       "      <td>0</td>\n",
       "      <td>0</td>\n",
       "      <td>0</td>\n",
       "      <td>0</td>\n",
       "      <td>0</td>\n",
       "      <td>0</td>\n",
       "    </tr>\n",
       "  </tbody>\n",
       "</table>\n",
       "<p>5 rows × 89 columns</p>\n",
       "</div>"
      ],
      "text/plain": [
       "       members  type_Movie  type_Music  type_ONA  type_OVA  type_Special  \\\n",
       "22373     3331           0           0         1         0             0   \n",
       "10508    28423           0           0         0         0             0   \n",
       "11570     5078           1           0         0         0             0   \n",
       "22262      390           1           0         0         0             0   \n",
       "734     482268           0           0         0         0             0   \n",
       "\n",
       "       type_TV  genre_ Adventure  genre_ Cars  genre_ Comedy  ...  \\\n",
       "22373        0                 0            0              0  ...   \n",
       "10508        1                 0            0              0  ...   \n",
       "11570        0                 0            0              0  ...   \n",
       "22262        0                 0            0              0  ...   \n",
       "734          1                 0            0              0  ...   \n",
       "\n",
       "       genre_Shoujo  genre_Shounen  genre_Slice of Life  genre_Space  \\\n",
       "22373             0              0                    0            0   \n",
       "10508             0              0                    0            0   \n",
       "11570             0              0                    0            0   \n",
       "22262             0              0                    0            0   \n",
       "734               0              0                    0            0   \n",
       "\n",
       "       genre_Sports  genre_Super Power  genre_Supernatural  genre_Thriller  \\\n",
       "22373             0                  0                   0               0   \n",
       "10508             0                  0                   0               0   \n",
       "11570             0                  0                   0               0   \n",
       "22262             0                  0                   0               0   \n",
       "734               0                  0                   0               0   \n",
       "\n",
       "       genre_Vampire  genre_Yaoi  \n",
       "22373              0           0  \n",
       "10508              0           0  \n",
       "11570              0           0  \n",
       "22262              0           0  \n",
       "734                0           0  \n",
       "\n",
       "[5 rows x 89 columns]"
      ]
     },
     "execution_count": 11,
     "metadata": {},
     "output_type": "execute_result"
    }
   ],
   "source": [
    "X_test.head()"
   ]
  },
  {
   "cell_type": "code",
   "execution_count": 12,
   "metadata": {
    "pycharm": {
     "name": "#%%\n"
    }
   },
   "outputs": [
    {
     "data": {
      "text/plain": [
       "32729    1\n",
       "24946    0\n",
       "8676     1\n",
       "13244    1\n",
       "29384    1\n",
       "Name: Class, dtype: int64"
      ]
     },
     "execution_count": 12,
     "metadata": {},
     "output_type": "execute_result"
    }
   ],
   "source": [
    "y_train.head()"
   ]
  },
  {
   "cell_type": "code",
   "execution_count": 13,
   "metadata": {
    "pycharm": {
     "name": "#%%\n"
    }
   },
   "outputs": [
    {
     "data": {
      "text/plain": [
       "22373    0\n",
       "10508    1\n",
       "11570    1\n",
       "22262    0\n",
       "734      1\n",
       "Name: Class, dtype: int64"
      ]
     },
     "execution_count": 13,
     "metadata": {},
     "output_type": "execute_result"
    }
   ],
   "source": [
    "y_test.head()\n"
   ]
  },
  {
   "cell_type": "markdown",
   "metadata": {},
   "source": [
    "####----------------------------------------------------------------\n",
    "#### Split Original Normalized_Data\n",
    "####----------------------------------------------------------------"
   ]
  },
  {
   "cell_type": "code",
   "execution_count": 14,
   "metadata": {
    "pycharm": {
     "name": "#%%\n"
    }
   },
   "outputs": [
    {
     "data": {
      "text/html": [
       "<div>\n",
       "<style scoped>\n",
       "    .dataframe tbody tr th:only-of-type {\n",
       "        vertical-align: middle;\n",
       "    }\n",
       "\n",
       "    .dataframe tbody tr th {\n",
       "        vertical-align: top;\n",
       "    }\n",
       "\n",
       "    .dataframe thead th {\n",
       "        text-align: right;\n",
       "    }\n",
       "</style>\n",
       "<table border=\"1\" class=\"dataframe\">\n",
       "  <thead>\n",
       "    <tr style=\"text-align: right;\">\n",
       "      <th></th>\n",
       "      <th>0</th>\n",
       "      <th>1</th>\n",
       "      <th>2</th>\n",
       "      <th>3</th>\n",
       "      <th>4</th>\n",
       "      <th>5</th>\n",
       "      <th>6</th>\n",
       "      <th>7</th>\n",
       "      <th>8</th>\n",
       "      <th>9</th>\n",
       "      <th>...</th>\n",
       "      <th>79</th>\n",
       "      <th>80</th>\n",
       "      <th>81</th>\n",
       "      <th>82</th>\n",
       "      <th>83</th>\n",
       "      <th>84</th>\n",
       "      <th>85</th>\n",
       "      <th>86</th>\n",
       "      <th>87</th>\n",
       "      <th>88</th>\n",
       "    </tr>\n",
       "  </thead>\n",
       "  <tbody>\n",
       "    <tr>\n",
       "      <th>32729</th>\n",
       "      <td>0.000118</td>\n",
       "      <td>0.0</td>\n",
       "      <td>0.0</td>\n",
       "      <td>0.0</td>\n",
       "      <td>0.0</td>\n",
       "      <td>1.0</td>\n",
       "      <td>0.0</td>\n",
       "      <td>0.0</td>\n",
       "      <td>0.0</td>\n",
       "      <td>0.0</td>\n",
       "      <td>...</td>\n",
       "      <td>0.0</td>\n",
       "      <td>0.0</td>\n",
       "      <td>0.0</td>\n",
       "      <td>0.0</td>\n",
       "      <td>0.0</td>\n",
       "      <td>0.0</td>\n",
       "      <td>0.0</td>\n",
       "      <td>0.0</td>\n",
       "      <td>0.0</td>\n",
       "      <td>0.0</td>\n",
       "    </tr>\n",
       "    <tr>\n",
       "      <th>24946</th>\n",
       "      <td>0.006942</td>\n",
       "      <td>0.0</td>\n",
       "      <td>0.0</td>\n",
       "      <td>0.0</td>\n",
       "      <td>1.0</td>\n",
       "      <td>0.0</td>\n",
       "      <td>0.0</td>\n",
       "      <td>0.0</td>\n",
       "      <td>0.0</td>\n",
       "      <td>0.0</td>\n",
       "      <td>...</td>\n",
       "      <td>0.0</td>\n",
       "      <td>0.0</td>\n",
       "      <td>0.0</td>\n",
       "      <td>0.0</td>\n",
       "      <td>0.0</td>\n",
       "      <td>0.0</td>\n",
       "      <td>0.0</td>\n",
       "      <td>0.0</td>\n",
       "      <td>0.0</td>\n",
       "      <td>0.0</td>\n",
       "    </tr>\n",
       "    <tr>\n",
       "      <th>8676</th>\n",
       "      <td>0.064980</td>\n",
       "      <td>0.0</td>\n",
       "      <td>0.0</td>\n",
       "      <td>0.0</td>\n",
       "      <td>0.0</td>\n",
       "      <td>0.0</td>\n",
       "      <td>1.0</td>\n",
       "      <td>0.0</td>\n",
       "      <td>0.0</td>\n",
       "      <td>0.0</td>\n",
       "      <td>...</td>\n",
       "      <td>0.0</td>\n",
       "      <td>0.0</td>\n",
       "      <td>0.0</td>\n",
       "      <td>0.0</td>\n",
       "      <td>0.0</td>\n",
       "      <td>0.0</td>\n",
       "      <td>0.0</td>\n",
       "      <td>0.0</td>\n",
       "      <td>0.0</td>\n",
       "      <td>0.0</td>\n",
       "    </tr>\n",
       "    <tr>\n",
       "      <th>13244</th>\n",
       "      <td>0.066992</td>\n",
       "      <td>0.0</td>\n",
       "      <td>0.0</td>\n",
       "      <td>0.0</td>\n",
       "      <td>0.0</td>\n",
       "      <td>0.0</td>\n",
       "      <td>1.0</td>\n",
       "      <td>0.0</td>\n",
       "      <td>0.0</td>\n",
       "      <td>0.0</td>\n",
       "      <td>...</td>\n",
       "      <td>0.0</td>\n",
       "      <td>0.0</td>\n",
       "      <td>0.0</td>\n",
       "      <td>0.0</td>\n",
       "      <td>0.0</td>\n",
       "      <td>0.0</td>\n",
       "      <td>0.0</td>\n",
       "      <td>0.0</td>\n",
       "      <td>0.0</td>\n",
       "      <td>0.0</td>\n",
       "    </tr>\n",
       "    <tr>\n",
       "      <th>29384</th>\n",
       "      <td>0.000036</td>\n",
       "      <td>0.0</td>\n",
       "      <td>0.0</td>\n",
       "      <td>0.0</td>\n",
       "      <td>0.0</td>\n",
       "      <td>0.0</td>\n",
       "      <td>1.0</td>\n",
       "      <td>0.0</td>\n",
       "      <td>0.0</td>\n",
       "      <td>0.0</td>\n",
       "      <td>...</td>\n",
       "      <td>0.0</td>\n",
       "      <td>0.0</td>\n",
       "      <td>0.0</td>\n",
       "      <td>0.0</td>\n",
       "      <td>0.0</td>\n",
       "      <td>0.0</td>\n",
       "      <td>0.0</td>\n",
       "      <td>0.0</td>\n",
       "      <td>0.0</td>\n",
       "      <td>0.0</td>\n",
       "    </tr>\n",
       "  </tbody>\n",
       "</table>\n",
       "<p>5 rows × 89 columns</p>\n",
       "</div>"
      ],
      "text/plain": [
       "             0    1    2    3    4    5    6    7    8    9   ...   79   80  \\\n",
       "32729  0.000118  0.0  0.0  0.0  0.0  1.0  0.0  0.0  0.0  0.0  ...  0.0  0.0   \n",
       "24946  0.006942  0.0  0.0  0.0  1.0  0.0  0.0  0.0  0.0  0.0  ...  0.0  0.0   \n",
       "8676   0.064980  0.0  0.0  0.0  0.0  0.0  1.0  0.0  0.0  0.0  ...  0.0  0.0   \n",
       "13244  0.066992  0.0  0.0  0.0  0.0  0.0  1.0  0.0  0.0  0.0  ...  0.0  0.0   \n",
       "29384  0.000036  0.0  0.0  0.0  0.0  0.0  1.0  0.0  0.0  0.0  ...  0.0  0.0   \n",
       "\n",
       "        81   82   83   84   85   86   87   88  \n",
       "32729  0.0  0.0  0.0  0.0  0.0  0.0  0.0  0.0  \n",
       "24946  0.0  0.0  0.0  0.0  0.0  0.0  0.0  0.0  \n",
       "8676   0.0  0.0  0.0  0.0  0.0  0.0  0.0  0.0  \n",
       "13244  0.0  0.0  0.0  0.0  0.0  0.0  0.0  0.0  \n",
       "29384  0.0  0.0  0.0  0.0  0.0  0.0  0.0  0.0  \n",
       "\n",
       "[5 rows x 89 columns]"
      ]
     },
     "execution_count": 14,
     "metadata": {},
     "output_type": "execute_result"
    }
   ],
   "source": [
    "Normalized_X_train, Normalized_X_test, Normalized_y_train, Normalized_y_test  = myLib.mySplitData(Normalized_Data,Y_Data,0.33,42)\n",
    "\n",
    "Normalized_X_train.head()"
   ]
  },
  {
   "cell_type": "code",
   "execution_count": 15,
   "metadata": {
    "pycharm": {
     "name": "#%%\n"
    }
   },
   "outputs": [
    {
     "data": {
      "text/html": [
       "<div>\n",
       "<style scoped>\n",
       "    .dataframe tbody tr th:only-of-type {\n",
       "        vertical-align: middle;\n",
       "    }\n",
       "\n",
       "    .dataframe tbody tr th {\n",
       "        vertical-align: top;\n",
       "    }\n",
       "\n",
       "    .dataframe thead th {\n",
       "        text-align: right;\n",
       "    }\n",
       "</style>\n",
       "<table border=\"1\" class=\"dataframe\">\n",
       "  <thead>\n",
       "    <tr style=\"text-align: right;\">\n",
       "      <th></th>\n",
       "      <th>0</th>\n",
       "      <th>1</th>\n",
       "      <th>2</th>\n",
       "      <th>3</th>\n",
       "      <th>4</th>\n",
       "      <th>5</th>\n",
       "      <th>6</th>\n",
       "      <th>7</th>\n",
       "      <th>8</th>\n",
       "      <th>9</th>\n",
       "      <th>...</th>\n",
       "      <th>79</th>\n",
       "      <th>80</th>\n",
       "      <th>81</th>\n",
       "      <th>82</th>\n",
       "      <th>83</th>\n",
       "      <th>84</th>\n",
       "      <th>85</th>\n",
       "      <th>86</th>\n",
       "      <th>87</th>\n",
       "      <th>88</th>\n",
       "    </tr>\n",
       "  </thead>\n",
       "  <tbody>\n",
       "    <tr>\n",
       "      <th>22373</th>\n",
       "      <td>0.003273</td>\n",
       "      <td>0.0</td>\n",
       "      <td>0.0</td>\n",
       "      <td>1.0</td>\n",
       "      <td>0.0</td>\n",
       "      <td>0.0</td>\n",
       "      <td>0.0</td>\n",
       "      <td>0.0</td>\n",
       "      <td>0.0</td>\n",
       "      <td>0.0</td>\n",
       "      <td>...</td>\n",
       "      <td>0.0</td>\n",
       "      <td>0.0</td>\n",
       "      <td>0.0</td>\n",
       "      <td>0.0</td>\n",
       "      <td>0.0</td>\n",
       "      <td>0.0</td>\n",
       "      <td>0.0</td>\n",
       "      <td>0.0</td>\n",
       "      <td>0.0</td>\n",
       "      <td>0.0</td>\n",
       "    </tr>\n",
       "    <tr>\n",
       "      <th>10508</th>\n",
       "      <td>0.028021</td>\n",
       "      <td>0.0</td>\n",
       "      <td>0.0</td>\n",
       "      <td>0.0</td>\n",
       "      <td>0.0</td>\n",
       "      <td>0.0</td>\n",
       "      <td>1.0</td>\n",
       "      <td>0.0</td>\n",
       "      <td>0.0</td>\n",
       "      <td>0.0</td>\n",
       "      <td>...</td>\n",
       "      <td>0.0</td>\n",
       "      <td>0.0</td>\n",
       "      <td>0.0</td>\n",
       "      <td>0.0</td>\n",
       "      <td>0.0</td>\n",
       "      <td>0.0</td>\n",
       "      <td>0.0</td>\n",
       "      <td>0.0</td>\n",
       "      <td>0.0</td>\n",
       "      <td>0.0</td>\n",
       "    </tr>\n",
       "    <tr>\n",
       "      <th>11570</th>\n",
       "      <td>0.004997</td>\n",
       "      <td>1.0</td>\n",
       "      <td>0.0</td>\n",
       "      <td>0.0</td>\n",
       "      <td>0.0</td>\n",
       "      <td>0.0</td>\n",
       "      <td>0.0</td>\n",
       "      <td>0.0</td>\n",
       "      <td>0.0</td>\n",
       "      <td>0.0</td>\n",
       "      <td>...</td>\n",
       "      <td>0.0</td>\n",
       "      <td>0.0</td>\n",
       "      <td>0.0</td>\n",
       "      <td>0.0</td>\n",
       "      <td>0.0</td>\n",
       "      <td>0.0</td>\n",
       "      <td>0.0</td>\n",
       "      <td>0.0</td>\n",
       "      <td>0.0</td>\n",
       "      <td>0.0</td>\n",
       "    </tr>\n",
       "    <tr>\n",
       "      <th>22262</th>\n",
       "      <td>0.000373</td>\n",
       "      <td>1.0</td>\n",
       "      <td>0.0</td>\n",
       "      <td>0.0</td>\n",
       "      <td>0.0</td>\n",
       "      <td>0.0</td>\n",
       "      <td>0.0</td>\n",
       "      <td>0.0</td>\n",
       "      <td>0.0</td>\n",
       "      <td>0.0</td>\n",
       "      <td>...</td>\n",
       "      <td>0.0</td>\n",
       "      <td>0.0</td>\n",
       "      <td>0.0</td>\n",
       "      <td>0.0</td>\n",
       "      <td>0.0</td>\n",
       "      <td>0.0</td>\n",
       "      <td>0.0</td>\n",
       "      <td>0.0</td>\n",
       "      <td>0.0</td>\n",
       "      <td>0.0</td>\n",
       "    </tr>\n",
       "    <tr>\n",
       "      <th>734</th>\n",
       "      <td>0.475642</td>\n",
       "      <td>0.0</td>\n",
       "      <td>0.0</td>\n",
       "      <td>0.0</td>\n",
       "      <td>0.0</td>\n",
       "      <td>0.0</td>\n",
       "      <td>1.0</td>\n",
       "      <td>0.0</td>\n",
       "      <td>0.0</td>\n",
       "      <td>0.0</td>\n",
       "      <td>...</td>\n",
       "      <td>0.0</td>\n",
       "      <td>0.0</td>\n",
       "      <td>0.0</td>\n",
       "      <td>0.0</td>\n",
       "      <td>0.0</td>\n",
       "      <td>0.0</td>\n",
       "      <td>0.0</td>\n",
       "      <td>0.0</td>\n",
       "      <td>0.0</td>\n",
       "      <td>0.0</td>\n",
       "    </tr>\n",
       "  </tbody>\n",
       "</table>\n",
       "<p>5 rows × 89 columns</p>\n",
       "</div>"
      ],
      "text/plain": [
       "             0    1    2    3    4    5    6    7    8    9   ...   79   80  \\\n",
       "22373  0.003273  0.0  0.0  1.0  0.0  0.0  0.0  0.0  0.0  0.0  ...  0.0  0.0   \n",
       "10508  0.028021  0.0  0.0  0.0  0.0  0.0  1.0  0.0  0.0  0.0  ...  0.0  0.0   \n",
       "11570  0.004997  1.0  0.0  0.0  0.0  0.0  0.0  0.0  0.0  0.0  ...  0.0  0.0   \n",
       "22262  0.000373  1.0  0.0  0.0  0.0  0.0  0.0  0.0  0.0  0.0  ...  0.0  0.0   \n",
       "734    0.475642  0.0  0.0  0.0  0.0  0.0  1.0  0.0  0.0  0.0  ...  0.0  0.0   \n",
       "\n",
       "        81   82   83   84   85   86   87   88  \n",
       "22373  0.0  0.0  0.0  0.0  0.0  0.0  0.0  0.0  \n",
       "10508  0.0  0.0  0.0  0.0  0.0  0.0  0.0  0.0  \n",
       "11570  0.0  0.0  0.0  0.0  0.0  0.0  0.0  0.0  \n",
       "22262  0.0  0.0  0.0  0.0  0.0  0.0  0.0  0.0  \n",
       "734    0.0  0.0  0.0  0.0  0.0  0.0  0.0  0.0  \n",
       "\n",
       "[5 rows x 89 columns]"
      ]
     },
     "execution_count": 15,
     "metadata": {},
     "output_type": "execute_result"
    }
   ],
   "source": [
    "Normalized_X_test.head()"
   ]
  },
  {
   "cell_type": "code",
   "execution_count": 16,
   "metadata": {
    "pycharm": {
     "name": "#%%\n"
    }
   },
   "outputs": [
    {
     "data": {
      "text/plain": [
       "32729    1\n",
       "24946    0\n",
       "8676     1\n",
       "13244    1\n",
       "29384    1\n",
       "Name: Class, dtype: int64"
      ]
     },
     "execution_count": 16,
     "metadata": {},
     "output_type": "execute_result"
    }
   ],
   "source": [
    "Normalized_y_train.head()"
   ]
  },
  {
   "cell_type": "code",
   "execution_count": 17,
   "metadata": {
    "pycharm": {
     "name": "#%%\n"
    }
   },
   "outputs": [
    {
     "data": {
      "text/plain": [
       "22373    0\n",
       "10508    1\n",
       "11570    1\n",
       "22262    0\n",
       "734      1\n",
       "Name: Class, dtype: int64"
      ]
     },
     "execution_count": 17,
     "metadata": {},
     "output_type": "execute_result"
    }
   ],
   "source": [
    "Normalized_y_test.head()\n"
   ]
  },
  {
   "cell_type": "markdown",
   "metadata": {},
   "source": [
    "####----------------------------------------------------------------\n",
    "#### Split  PCA_Data\n",
    "####----------------------------------------------------------------"
   ]
  },
  {
   "cell_type": "code",
   "execution_count": 18,
   "metadata": {
    "pycharm": {
     "name": "#%%\n"
    }
   },
   "outputs": [
    {
     "data": {
      "text/html": [
       "<div>\n",
       "<style scoped>\n",
       "    .dataframe tbody tr th:only-of-type {\n",
       "        vertical-align: middle;\n",
       "    }\n",
       "\n",
       "    .dataframe tbody tr th {\n",
       "        vertical-align: top;\n",
       "    }\n",
       "\n",
       "    .dataframe thead th {\n",
       "        text-align: right;\n",
       "    }\n",
       "</style>\n",
       "<table border=\"1\" class=\"dataframe\">\n",
       "  <thead>\n",
       "    <tr style=\"text-align: right;\">\n",
       "      <th></th>\n",
       "      <th>0</th>\n",
       "      <th>1</th>\n",
       "      <th>2</th>\n",
       "      <th>3</th>\n",
       "      <th>4</th>\n",
       "      <th>5</th>\n",
       "      <th>6</th>\n",
       "      <th>7</th>\n",
       "      <th>8</th>\n",
       "      <th>9</th>\n",
       "      <th>...</th>\n",
       "      <th>30</th>\n",
       "      <th>31</th>\n",
       "      <th>32</th>\n",
       "      <th>33</th>\n",
       "      <th>34</th>\n",
       "      <th>35</th>\n",
       "      <th>36</th>\n",
       "      <th>37</th>\n",
       "      <th>38</th>\n",
       "      <th>39</th>\n",
       "    </tr>\n",
       "  </thead>\n",
       "  <tbody>\n",
       "    <tr>\n",
       "      <th>32729</th>\n",
       "      <td>-0.222410</td>\n",
       "      <td>0.292968</td>\n",
       "      <td>0.905577</td>\n",
       "      <td>-0.156240</td>\n",
       "      <td>-0.108038</td>\n",
       "      <td>-0.031218</td>\n",
       "      <td>-0.020906</td>\n",
       "      <td>0.049072</td>\n",
       "      <td>-0.031243</td>\n",
       "      <td>0.007778</td>\n",
       "      <td>...</td>\n",
       "      <td>-0.432565</td>\n",
       "      <td>-0.042685</td>\n",
       "      <td>0.027173</td>\n",
       "      <td>-0.022939</td>\n",
       "      <td>0.006547</td>\n",
       "      <td>0.054539</td>\n",
       "      <td>0.051587</td>\n",
       "      <td>0.071951</td>\n",
       "      <td>0.304651</td>\n",
       "      <td>-0.226392</td>\n",
       "    </tr>\n",
       "    <tr>\n",
       "      <th>24946</th>\n",
       "      <td>-0.645218</td>\n",
       "      <td>-0.558932</td>\n",
       "      <td>-0.134425</td>\n",
       "      <td>-0.006471</td>\n",
       "      <td>-0.054637</td>\n",
       "      <td>-0.037266</td>\n",
       "      <td>-0.023106</td>\n",
       "      <td>-0.012107</td>\n",
       "      <td>-0.029795</td>\n",
       "      <td>0.004538</td>\n",
       "      <td>...</td>\n",
       "      <td>0.049375</td>\n",
       "      <td>0.042381</td>\n",
       "      <td>-0.037704</td>\n",
       "      <td>-0.002914</td>\n",
       "      <td>0.011983</td>\n",
       "      <td>0.350497</td>\n",
       "      <td>0.801526</td>\n",
       "      <td>-0.404791</td>\n",
       "      <td>-0.203026</td>\n",
       "      <td>-0.088281</td>\n",
       "    </tr>\n",
       "    <tr>\n",
       "      <th>8676</th>\n",
       "      <td>0.697428</td>\n",
       "      <td>-0.148271</td>\n",
       "      <td>-0.076755</td>\n",
       "      <td>-0.039170</td>\n",
       "      <td>-0.073629</td>\n",
       "      <td>-0.033199</td>\n",
       "      <td>-0.020331</td>\n",
       "      <td>0.015740</td>\n",
       "      <td>-0.034394</td>\n",
       "      <td>-0.002522</td>\n",
       "      <td>...</td>\n",
       "      <td>0.146118</td>\n",
       "      <td>0.198321</td>\n",
       "      <td>-0.365065</td>\n",
       "      <td>-0.068019</td>\n",
       "      <td>0.856744</td>\n",
       "      <td>-0.128278</td>\n",
       "      <td>-0.056889</td>\n",
       "      <td>-0.036339</td>\n",
       "      <td>-0.035871</td>\n",
       "      <td>-0.023881</td>\n",
       "    </tr>\n",
       "    <tr>\n",
       "      <th>13244</th>\n",
       "      <td>0.703994</td>\n",
       "      <td>-0.156393</td>\n",
       "      <td>-0.072758</td>\n",
       "      <td>-0.051336</td>\n",
       "      <td>-0.099958</td>\n",
       "      <td>-0.053601</td>\n",
       "      <td>-0.030918</td>\n",
       "      <td>0.052111</td>\n",
       "      <td>-0.056604</td>\n",
       "      <td>-0.005999</td>\n",
       "      <td>...</td>\n",
       "      <td>-0.012919</td>\n",
       "      <td>-0.004194</td>\n",
       "      <td>0.003538</td>\n",
       "      <td>-0.000356</td>\n",
       "      <td>-0.002386</td>\n",
       "      <td>-0.014029</td>\n",
       "      <td>-0.011264</td>\n",
       "      <td>-0.002163</td>\n",
       "      <td>-0.002285</td>\n",
       "      <td>-0.006428</td>\n",
       "    </tr>\n",
       "    <tr>\n",
       "      <th>29384</th>\n",
       "      <td>0.702822</td>\n",
       "      <td>-0.120081</td>\n",
       "      <td>-0.090825</td>\n",
       "      <td>-0.060693</td>\n",
       "      <td>-0.137073</td>\n",
       "      <td>-0.101899</td>\n",
       "      <td>-0.122610</td>\n",
       "      <td>0.067888</td>\n",
       "      <td>-0.325710</td>\n",
       "      <td>0.726579</td>\n",
       "      <td>...</td>\n",
       "      <td>-0.006901</td>\n",
       "      <td>-0.000095</td>\n",
       "      <td>0.001849</td>\n",
       "      <td>0.001905</td>\n",
       "      <td>0.000037</td>\n",
       "      <td>-0.009589</td>\n",
       "      <td>-0.009906</td>\n",
       "      <td>0.000658</td>\n",
       "      <td>-0.000404</td>\n",
       "      <td>-0.001162</td>\n",
       "    </tr>\n",
       "  </tbody>\n",
       "</table>\n",
       "<p>5 rows × 40 columns</p>\n",
       "</div>"
      ],
      "text/plain": [
       "             0         1         2         3         4         5         6   \\\n",
       "32729 -0.222410  0.292968  0.905577 -0.156240 -0.108038 -0.031218 -0.020906   \n",
       "24946 -0.645218 -0.558932 -0.134425 -0.006471 -0.054637 -0.037266 -0.023106   \n",
       "8676   0.697428 -0.148271 -0.076755 -0.039170 -0.073629 -0.033199 -0.020331   \n",
       "13244  0.703994 -0.156393 -0.072758 -0.051336 -0.099958 -0.053601 -0.030918   \n",
       "29384  0.702822 -0.120081 -0.090825 -0.060693 -0.137073 -0.101899 -0.122610   \n",
       "\n",
       "             7         8         9   ...        30        31        32  \\\n",
       "32729  0.049072 -0.031243  0.007778  ... -0.432565 -0.042685  0.027173   \n",
       "24946 -0.012107 -0.029795  0.004538  ...  0.049375  0.042381 -0.037704   \n",
       "8676   0.015740 -0.034394 -0.002522  ...  0.146118  0.198321 -0.365065   \n",
       "13244  0.052111 -0.056604 -0.005999  ... -0.012919 -0.004194  0.003538   \n",
       "29384  0.067888 -0.325710  0.726579  ... -0.006901 -0.000095  0.001849   \n",
       "\n",
       "             33        34        35        36        37        38        39  \n",
       "32729 -0.022939  0.006547  0.054539  0.051587  0.071951  0.304651 -0.226392  \n",
       "24946 -0.002914  0.011983  0.350497  0.801526 -0.404791 -0.203026 -0.088281  \n",
       "8676  -0.068019  0.856744 -0.128278 -0.056889 -0.036339 -0.035871 -0.023881  \n",
       "13244 -0.000356 -0.002386 -0.014029 -0.011264 -0.002163 -0.002285 -0.006428  \n",
       "29384  0.001905  0.000037 -0.009589 -0.009906  0.000658 -0.000404 -0.001162  \n",
       "\n",
       "[5 rows x 40 columns]"
      ]
     },
     "execution_count": 18,
     "metadata": {},
     "output_type": "execute_result"
    }
   ],
   "source": [
    "PCA_X_train, PCA_X_test, PCA_y_train, PCA_y_test  = myLib.mySplitData(PCA_Data,Y_Data,0.33,42)\n",
    "\n",
    "PCA_X_train.head()"
   ]
  },
  {
   "cell_type": "code",
   "execution_count": 19,
   "metadata": {
    "pycharm": {
     "name": "#%%\n"
    }
   },
   "outputs": [
    {
     "data": {
      "text/html": [
       "<div>\n",
       "<style scoped>\n",
       "    .dataframe tbody tr th:only-of-type {\n",
       "        vertical-align: middle;\n",
       "    }\n",
       "\n",
       "    .dataframe tbody tr th {\n",
       "        vertical-align: top;\n",
       "    }\n",
       "\n",
       "    .dataframe thead th {\n",
       "        text-align: right;\n",
       "    }\n",
       "</style>\n",
       "<table border=\"1\" class=\"dataframe\">\n",
       "  <thead>\n",
       "    <tr style=\"text-align: right;\">\n",
       "      <th></th>\n",
       "      <th>0</th>\n",
       "      <th>1</th>\n",
       "      <th>2</th>\n",
       "      <th>3</th>\n",
       "      <th>4</th>\n",
       "      <th>5</th>\n",
       "      <th>6</th>\n",
       "      <th>7</th>\n",
       "      <th>8</th>\n",
       "      <th>9</th>\n",
       "      <th>...</th>\n",
       "      <th>30</th>\n",
       "      <th>31</th>\n",
       "      <th>32</th>\n",
       "      <th>33</th>\n",
       "      <th>34</th>\n",
       "      <th>35</th>\n",
       "      <th>36</th>\n",
       "      <th>37</th>\n",
       "      <th>38</th>\n",
       "      <th>39</th>\n",
       "    </tr>\n",
       "  </thead>\n",
       "  <tbody>\n",
       "    <tr>\n",
       "      <th>22373</th>\n",
       "      <td>-0.124203</td>\n",
       "      <td>0.125895</td>\n",
       "      <td>0.130241</td>\n",
       "      <td>0.040248</td>\n",
       "      <td>-0.039136</td>\n",
       "      <td>0.017932</td>\n",
       "      <td>0.271853</td>\n",
       "      <td>0.949263</td>\n",
       "      <td>0.306449</td>\n",
       "      <td>-0.021895</td>\n",
       "      <td>...</td>\n",
       "      <td>-0.019547</td>\n",
       "      <td>-0.022848</td>\n",
       "      <td>0.030732</td>\n",
       "      <td>0.021103</td>\n",
       "      <td>0.014082</td>\n",
       "      <td>-0.014259</td>\n",
       "      <td>0.001032</td>\n",
       "      <td>-0.008622</td>\n",
       "      <td>-0.003939</td>\n",
       "      <td>-0.012285</td>\n",
       "    </tr>\n",
       "    <tr>\n",
       "      <th>10508</th>\n",
       "      <td>0.709233</td>\n",
       "      <td>-0.165356</td>\n",
       "      <td>-0.059587</td>\n",
       "      <td>-0.058864</td>\n",
       "      <td>-0.111087</td>\n",
       "      <td>-0.063255</td>\n",
       "      <td>-0.035980</td>\n",
       "      <td>0.070086</td>\n",
       "      <td>-0.072611</td>\n",
       "      <td>-0.002226</td>\n",
       "      <td>...</td>\n",
       "      <td>-0.010653</td>\n",
       "      <td>-0.002653</td>\n",
       "      <td>0.001374</td>\n",
       "      <td>-0.001019</td>\n",
       "      <td>-0.002562</td>\n",
       "      <td>-0.013152</td>\n",
       "      <td>-0.010675</td>\n",
       "      <td>-0.001440</td>\n",
       "      <td>-0.003101</td>\n",
       "      <td>-0.006993</td>\n",
       "    </tr>\n",
       "    <tr>\n",
       "      <th>11570</th>\n",
       "      <td>-0.302989</td>\n",
       "      <td>0.781850</td>\n",
       "      <td>-0.421044</td>\n",
       "      <td>-0.036603</td>\n",
       "      <td>-0.226477</td>\n",
       "      <td>0.908892</td>\n",
       "      <td>0.064898</td>\n",
       "      <td>-0.181633</td>\n",
       "      <td>0.053341</td>\n",
       "      <td>-0.011209</td>\n",
       "      <td>...</td>\n",
       "      <td>-0.006009</td>\n",
       "      <td>-0.006196</td>\n",
       "      <td>-0.000419</td>\n",
       "      <td>-0.007847</td>\n",
       "      <td>-0.006045</td>\n",
       "      <td>-0.004757</td>\n",
       "      <td>0.002184</td>\n",
       "      <td>-0.005744</td>\n",
       "      <td>-0.004486</td>\n",
       "      <td>-0.016404</td>\n",
       "    </tr>\n",
       "    <tr>\n",
       "      <th>22262</th>\n",
       "      <td>-0.292379</td>\n",
       "      <td>0.765577</td>\n",
       "      <td>-0.409821</td>\n",
       "      <td>-0.008916</td>\n",
       "      <td>-0.110511</td>\n",
       "      <td>-0.085449</td>\n",
       "      <td>-0.096096</td>\n",
       "      <td>0.057723</td>\n",
       "      <td>-0.179229</td>\n",
       "      <td>-0.042895</td>\n",
       "      <td>...</td>\n",
       "      <td>-0.009830</td>\n",
       "      <td>-0.008746</td>\n",
       "      <td>0.000728</td>\n",
       "      <td>-0.007478</td>\n",
       "      <td>-0.006503</td>\n",
       "      <td>-0.009537</td>\n",
       "      <td>-0.000071</td>\n",
       "      <td>-0.007194</td>\n",
       "      <td>-0.007324</td>\n",
       "      <td>-0.021002</td>\n",
       "    </tr>\n",
       "    <tr>\n",
       "      <th>734</th>\n",
       "      <td>0.719961</td>\n",
       "      <td>-0.159583</td>\n",
       "      <td>-0.077230</td>\n",
       "      <td>-0.055383</td>\n",
       "      <td>-0.099040</td>\n",
       "      <td>-0.056883</td>\n",
       "      <td>-0.032346</td>\n",
       "      <td>0.045618</td>\n",
       "      <td>-0.057094</td>\n",
       "      <td>-0.011492</td>\n",
       "      <td>...</td>\n",
       "      <td>-0.007550</td>\n",
       "      <td>-0.013037</td>\n",
       "      <td>0.015197</td>\n",
       "      <td>-0.008382</td>\n",
       "      <td>-0.006212</td>\n",
       "      <td>0.002695</td>\n",
       "      <td>0.006165</td>\n",
       "      <td>-0.013796</td>\n",
       "      <td>-0.004586</td>\n",
       "      <td>0.019178</td>\n",
       "    </tr>\n",
       "  </tbody>\n",
       "</table>\n",
       "<p>5 rows × 40 columns</p>\n",
       "</div>"
      ],
      "text/plain": [
       "             0         1         2         3         4         5         6   \\\n",
       "22373 -0.124203  0.125895  0.130241  0.040248 -0.039136  0.017932  0.271853   \n",
       "10508  0.709233 -0.165356 -0.059587 -0.058864 -0.111087 -0.063255 -0.035980   \n",
       "11570 -0.302989  0.781850 -0.421044 -0.036603 -0.226477  0.908892  0.064898   \n",
       "22262 -0.292379  0.765577 -0.409821 -0.008916 -0.110511 -0.085449 -0.096096   \n",
       "734    0.719961 -0.159583 -0.077230 -0.055383 -0.099040 -0.056883 -0.032346   \n",
       "\n",
       "             7         8         9   ...        30        31        32  \\\n",
       "22373  0.949263  0.306449 -0.021895  ... -0.019547 -0.022848  0.030732   \n",
       "10508  0.070086 -0.072611 -0.002226  ... -0.010653 -0.002653  0.001374   \n",
       "11570 -0.181633  0.053341 -0.011209  ... -0.006009 -0.006196 -0.000419   \n",
       "22262  0.057723 -0.179229 -0.042895  ... -0.009830 -0.008746  0.000728   \n",
       "734    0.045618 -0.057094 -0.011492  ... -0.007550 -0.013037  0.015197   \n",
       "\n",
       "             33        34        35        36        37        38        39  \n",
       "22373  0.021103  0.014082 -0.014259  0.001032 -0.008622 -0.003939 -0.012285  \n",
       "10508 -0.001019 -0.002562 -0.013152 -0.010675 -0.001440 -0.003101 -0.006993  \n",
       "11570 -0.007847 -0.006045 -0.004757  0.002184 -0.005744 -0.004486 -0.016404  \n",
       "22262 -0.007478 -0.006503 -0.009537 -0.000071 -0.007194 -0.007324 -0.021002  \n",
       "734   -0.008382 -0.006212  0.002695  0.006165 -0.013796 -0.004586  0.019178  \n",
       "\n",
       "[5 rows x 40 columns]"
      ]
     },
     "execution_count": 19,
     "metadata": {},
     "output_type": "execute_result"
    }
   ],
   "source": [
    "PCA_X_test.head()"
   ]
  },
  {
   "cell_type": "code",
   "execution_count": 20,
   "metadata": {
    "pycharm": {
     "name": "#%%\n"
    }
   },
   "outputs": [
    {
     "data": {
      "text/plain": [
       "32729    1\n",
       "24946    0\n",
       "8676     1\n",
       "13244    1\n",
       "29384    1\n",
       "Name: Class, dtype: int64"
      ]
     },
     "execution_count": 20,
     "metadata": {},
     "output_type": "execute_result"
    }
   ],
   "source": [
    "PCA_y_train.head()"
   ]
  },
  {
   "cell_type": "code",
   "execution_count": 21,
   "metadata": {
    "pycharm": {
     "name": "#%%\n"
    }
   },
   "outputs": [
    {
     "data": {
      "text/plain": [
       "22373    0\n",
       "10508    1\n",
       "11570    1\n",
       "22262    0\n",
       "734      1\n",
       "Name: Class, dtype: int64"
      ]
     },
     "execution_count": 21,
     "metadata": {},
     "output_type": "execute_result"
    }
   ],
   "source": [
    "PCA_y_test.head()\n"
   ]
  },
  {
   "cell_type": "markdown",
   "metadata": {},
   "source": [
    "####----------------------------------------------------------------\n",
    "# Model Training \n",
    "####----------------------------------------------------------------"
   ]
  },
  {
   "cell_type": "code",
   "execution_count": 22,
   "metadata": {
    "pycharm": {
     "is_executing": false,
     "name": "#%%\n"
    }
   },
   "outputs": [],
   "source": [
    "from sklearn.model_selection import cross_val_score\n",
    "from sklearn.tree import DecisionTreeClassifier\n",
    "\n",
    "def myDT(clf,X_train,y_train,X_test,y_test,cv):\n",
    "    #Fit the model\n",
    "    #The maximum depth of the tree. \n",
    "    #If None, then nodes are expanded until all leaves are pure\n",
    "    # or until all leaves contain less than min_samples_split samples.\n",
    "    #min_samples_split: by default = 1\n",
    "    clf.fit(X_train, y_train)\n",
    "    #check accuracy of model on the train and test data\n",
    "    train_score = clf.score(X_train, y_train)\n",
    "    test_score = clf.score(X_test, y_test)\n",
    "    #Using CV\n",
    "    cv_scores = cross_val_score(clf, X_train, y_train, cv=cv)\n",
    "    return pd.DataFrame({\"leaves\":[clf.get_n_leaves()],\"depth\":[clf.get_depth()],\"train_score\":[train_score],\"test_score\":[test_score],\"cv_score\":[cv_scores.mean()]})\n"
   ]
  },
  {
   "cell_type": "code",
   "execution_count": 23,
   "metadata": {
    "pycharm": {
     "is_executing": false,
     "name": "#%%\n"
    }
   },
   "outputs": [],
   "source": [
    "def myDT_ModelTurning(clf,depths,X_train,y_train,X_test,y_test,cv):\n",
    "    df = pd.DataFrame({\"depth\":[],\"train_score\":[],\"cv_score\":[]})\n",
    "    for depth in depths:\n",
    "        clf1 = DecisionTreeClassifier(max_depth=depth,random_state=0)\n",
    "        score_df = myDT(clf1,X_train,y_train,X_test,y_test,cv)\n",
    "        df = df.append(pd.DataFrame({\"depth\":depth,\"train_score\":score_df.train_score,\"test_score\":score_df.test_score,\"cv_score\":score_df.cv_score}),ignore_index=True,sort=False)\n",
    "    \n",
    "    return df"
   ]
  },
  {
   "cell_type": "code",
   "execution_count": 24,
   "metadata": {
    "pycharm": {
     "name": "#%%\n"
    }
   },
   "outputs": [],
   "source": [
    "\n",
    "cv = 10\n",
    "clf = DecisionTreeClassifier(random_state=0)"
   ]
  },
  {
   "cell_type": "code",
   "execution_count": 25,
   "metadata": {
    "pycharm": {
     "name": "#%%\n"
    }
   },
   "outputs": [
    {
     "data": {
      "text/html": [
       "<div>\n",
       "<style scoped>\n",
       "    .dataframe tbody tr th:only-of-type {\n",
       "        vertical-align: middle;\n",
       "    }\n",
       "\n",
       "    .dataframe tbody tr th {\n",
       "        vertical-align: top;\n",
       "    }\n",
       "\n",
       "    .dataframe thead th {\n",
       "        text-align: right;\n",
       "    }\n",
       "</style>\n",
       "<table border=\"1\" class=\"dataframe\">\n",
       "  <thead>\n",
       "    <tr style=\"text-align: right;\">\n",
       "      <th></th>\n",
       "      <th>leaves</th>\n",
       "      <th>depth</th>\n",
       "      <th>train_score</th>\n",
       "      <th>test_score</th>\n",
       "      <th>cv_score</th>\n",
       "    </tr>\n",
       "  </thead>\n",
       "  <tbody>\n",
       "    <tr>\n",
       "      <th>0</th>\n",
       "      <td>4456</td>\n",
       "      <td>44</td>\n",
       "      <td>0.988382</td>\n",
       "      <td>0.821124</td>\n",
       "      <td>0.815258</td>\n",
       "    </tr>\n",
       "  </tbody>\n",
       "</table>\n",
       "</div>"
      ],
      "text/plain": [
       "   leaves  depth  train_score  test_score  cv_score\n",
       "0    4456     44     0.988382    0.821124  0.815258"
      ]
     },
     "execution_count": 25,
     "metadata": {},
     "output_type": "execute_result"
    }
   ],
   "source": [
    "#Original Data\n",
    "scores = myDT(clf,X_train,y_train,X_test,y_test,cv)\n",
    "scores"
   ]
  },
  {
   "cell_type": "code",
   "execution_count": 26,
   "metadata": {
    "pycharm": {
     "name": "#%%\n"
    }
   },
   "outputs": [
    {
     "data": {
      "text/html": [
       "<div>\n",
       "<style scoped>\n",
       "    .dataframe tbody tr th:only-of-type {\n",
       "        vertical-align: middle;\n",
       "    }\n",
       "\n",
       "    .dataframe tbody tr th {\n",
       "        vertical-align: top;\n",
       "    }\n",
       "\n",
       "    .dataframe thead th {\n",
       "        text-align: right;\n",
       "    }\n",
       "</style>\n",
       "<table border=\"1\" class=\"dataframe\">\n",
       "  <thead>\n",
       "    <tr style=\"text-align: right;\">\n",
       "      <th></th>\n",
       "      <th>leaves</th>\n",
       "      <th>depth</th>\n",
       "      <th>train_score</th>\n",
       "      <th>test_score</th>\n",
       "      <th>cv_score</th>\n",
       "    </tr>\n",
       "  </thead>\n",
       "  <tbody>\n",
       "    <tr>\n",
       "      <th>0</th>\n",
       "      <td>4456</td>\n",
       "      <td>44</td>\n",
       "      <td>0.988382</td>\n",
       "      <td>0.820866</td>\n",
       "      <td>0.8153</td>\n",
       "    </tr>\n",
       "  </tbody>\n",
       "</table>\n",
       "</div>"
      ],
      "text/plain": [
       "   leaves  depth  train_score  test_score  cv_score\n",
       "0    4456     44     0.988382    0.820866    0.8153"
      ]
     },
     "execution_count": 26,
     "metadata": {},
     "output_type": "execute_result"
    }
   ],
   "source": [
    "#Normalized Data\n",
    "scores = myDT(clf,Normalized_X_train,Normalized_y_train,Normalized_X_test,Normalized_y_test,cv)\n",
    "scores"
   ]
  },
  {
   "cell_type": "code",
   "execution_count": 27,
   "metadata": {
    "pycharm": {
     "name": "#%%\n"
    }
   },
   "outputs": [
    {
     "data": {
      "text/html": [
       "<div>\n",
       "<style scoped>\n",
       "    .dataframe tbody tr th:only-of-type {\n",
       "        vertical-align: middle;\n",
       "    }\n",
       "\n",
       "    .dataframe tbody tr th {\n",
       "        vertical-align: top;\n",
       "    }\n",
       "\n",
       "    .dataframe thead th {\n",
       "        text-align: right;\n",
       "    }\n",
       "</style>\n",
       "<table border=\"1\" class=\"dataframe\">\n",
       "  <thead>\n",
       "    <tr style=\"text-align: right;\">\n",
       "      <th></th>\n",
       "      <th>leaves</th>\n",
       "      <th>depth</th>\n",
       "      <th>train_score</th>\n",
       "      <th>test_score</th>\n",
       "      <th>cv_score</th>\n",
       "    </tr>\n",
       "  </thead>\n",
       "  <tbody>\n",
       "    <tr>\n",
       "      <th>0</th>\n",
       "      <td>5657</td>\n",
       "      <td>60</td>\n",
       "      <td>0.974771</td>\n",
       "      <td>0.75226</td>\n",
       "      <td>0.746609</td>\n",
       "    </tr>\n",
       "  </tbody>\n",
       "</table>\n",
       "</div>"
      ],
      "text/plain": [
       "   leaves  depth  train_score  test_score  cv_score\n",
       "0    5657     60     0.974771     0.75226  0.746609"
      ]
     },
     "execution_count": 27,
     "metadata": {},
     "output_type": "execute_result"
    }
   ],
   "source": [
    "#PCA Data\n",
    "scores = myDT(clf,PCA_X_train,PCA_y_train,PCA_X_test,PCA_y_test,cv)\n",
    "scores\n"
   ]
  },
  {
   "cell_type": "code",
   "execution_count": 28,
   "metadata": {
    "pycharm": {
     "name": "#%%\n"
    }
   },
   "outputs": [],
   "source": [
    "X_Data = PCA_Data\n",
    "X_train = PCA_X_train\n",
    "X_test = PCA_X_test\n",
    "y_train = PCA_y_train\n",
    "y_test = PCA_y_test\n"
   ]
  },
  {
   "cell_type": "markdown",
   "metadata": {},
   "source": [
    "####----------------------------------------------------------------\n",
    "# Learning Curve\n",
    "####----------------------------------------------------------------\n",
    "#https://scikit-learn.org/stable/modules/learning_curve.html"
   ]
  },
  {
   "cell_type": "code",
   "execution_count": 29,
   "metadata": {
    "pycharm": {
     "name": "#%%\n"
    }
   },
   "outputs": [
    {
     "data": {
      "text/plain": [
       "array([0.04, 0.09, 0.14, 0.19, 0.24, 0.29, 0.34, 0.39, 0.44, 0.49, 0.54,\n",
       "       0.59, 0.64, 0.69, 0.74, 0.79, 0.84, 0.89, 0.94, 0.99])"
      ]
     },
     "execution_count": 29,
     "metadata": {},
     "output_type": "execute_result"
    }
   ],
   "source": [
    "from sklearn.model_selection import learning_curve\n",
    "splitsSize = np.linspace(0.04,0.99,20)\n",
    "splitsSize"
   ]
  },
  {
   "cell_type": "code",
   "execution_count": 30,
   "metadata": {
    "pycharm": {
     "name": "#%%\n"
    }
   },
   "outputs": [],
   "source": [
    "train_sizes, train_scores, test_scores = learning_curve(\n",
    "        clf, X_Data, Y_Data, cv=cv, n_jobs=1, train_sizes=splitsSize)"
   ]
  },
  {
   "cell_type": "code",
   "execution_count": 31,
   "metadata": {
    "pycharm": {
     "name": "#%%\n"
    }
   },
   "outputs": [
    {
     "data": {
      "text/plain": [
       "array([ 1267,  2851,  4435,  6019,  7603,  9187, 10771, 12355, 13939,\n",
       "       15523, 17107, 18691, 20275, 21859, 23443, 25027, 26611, 28195,\n",
       "       29779, 31363])"
      ]
     },
     "execution_count": 31,
     "metadata": {},
     "output_type": "execute_result"
    }
   ],
   "source": [
    "train_sizes"
   ]
  },
  {
   "cell_type": "code",
   "execution_count": 32,
   "metadata": {
    "pycharm": {
     "name": "#%%\n"
    }
   },
   "outputs": [
    {
     "data": {
      "text/plain": [
       "array([[1.        , 1.        , 1.        , 1.        , 1.        ,\n",
       "        1.        , 1.        , 1.        , 1.        , 1.        ],\n",
       "       [1.        , 1.        , 1.        , 1.        , 1.        ,\n",
       "        1.        , 1.        , 1.        , 1.        , 1.        ],\n",
       "       [1.        , 1.        , 1.        , 1.        , 1.        ,\n",
       "        1.        , 1.        , 1.        , 1.        , 1.        ],\n",
       "       [1.        , 1.        , 1.        , 1.        , 1.        ,\n",
       "        1.        , 1.        , 1.        , 1.        , 1.        ],\n",
       "       [1.        , 1.        , 1.        , 1.        , 1.        ,\n",
       "        1.        , 1.        , 1.        , 1.        , 1.        ],\n",
       "       [1.        , 1.        , 1.        , 1.        , 1.        ,\n",
       "        1.        , 1.        , 1.        , 1.        , 1.        ],\n",
       "       [1.        , 1.        , 1.        , 1.        , 1.        ,\n",
       "        1.        , 1.        , 1.        , 1.        , 1.        ],\n",
       "       [1.        , 1.        , 1.        , 1.        , 1.        ,\n",
       "        1.        , 1.        , 1.        , 1.        , 1.        ],\n",
       "       [1.        , 1.        , 1.        , 1.        , 1.        ,\n",
       "        1.        , 1.        , 1.        , 1.        , 1.        ],\n",
       "       [1.        , 1.        , 1.        , 1.        , 1.        ,\n",
       "        1.        , 1.        , 1.        , 1.        , 1.        ],\n",
       "       [1.        , 1.        , 1.        , 1.        , 1.        ,\n",
       "        1.        , 1.        , 1.        , 1.        , 1.        ],\n",
       "       [0.99860896, 0.99866246, 0.99855545, 0.99855545, 0.99855545,\n",
       "        0.99887646, 0.99871596, 0.99892997, 0.99887646, 1.        ],\n",
       "       [0.99521578, 0.99506782, 0.99477189, 0.99482121, 0.99516646,\n",
       "        0.99551171, 0.99556104, 0.995709  , 0.99664612, 1.        ],\n",
       "       [0.99368681, 0.99354957, 0.99313784, 0.99254312, 0.9929091 ,\n",
       "        0.99354957, 0.99382405, 0.99373256, 0.99519649, 0.99634018],\n",
       "       [0.99236446, 0.99227915, 0.99189524, 0.99129804, 0.99189524,\n",
       "        0.99244977, 0.99279103, 0.99266306, 0.99398541, 0.99381478],\n",
       "       [0.9900907 , 0.98985096, 0.98961122, 0.98893195, 0.98957126,\n",
       "        0.99084988, 0.99168898, 0.99188876, 0.99308747, 0.99248811],\n",
       "       [0.9825636 , 0.98233813, 0.98199992, 0.98124836, 0.98211266,\n",
       "        0.98380369, 0.98688512, 0.9888392 , 0.99004171, 0.99124422],\n",
       "       [0.97492463, 0.97481823, 0.97435716, 0.97364781, 0.97442809,\n",
       "        0.97613052, 0.97942898, 0.97996099, 0.98208902, 0.99060117],\n",
       "       [0.96735955, 0.96732597, 0.96688942, 0.9662178 , 0.966923  ,\n",
       "        0.96880352, 0.97196011, 0.97232949, 0.97300111, 0.99093321],\n",
       "       [0.96728629, 0.96731818, 0.96690368, 0.96626598, 0.96680802,\n",
       "        0.96865734, 0.9716545 , 0.97216465, 0.97238785, 0.99129548]])"
      ]
     },
     "execution_count": 32,
     "metadata": {},
     "output_type": "execute_result"
    }
   ],
   "source": [
    "train_scores"
   ]
  },
  {
   "cell_type": "code",
   "execution_count": 33,
   "metadata": {
    "pycharm": {
     "name": "#%%\n"
    }
   },
   "outputs": [
    {
     "data": {
      "text/plain": [
       "array([[0.64385118, 0.64385118, 0.64385118, 0.64375   , 0.64375   ,\n",
       "        0.64375   , 0.64375   , 0.64375   , 0.64393294, 0.64393294],\n",
       "       [0.64385118, 0.64385118, 0.64385118, 0.64375   , 0.64375   ,\n",
       "        0.64375   , 0.64375   , 0.64375   , 0.64393294, 0.64393294],\n",
       "       [0.64385118, 0.64385118, 0.64385118, 0.64375   , 0.64375   ,\n",
       "        0.64375   , 0.64375   , 0.64375   , 0.64393294, 0.64393294],\n",
       "       [0.64385118, 0.64385118, 0.64385118, 0.64375   , 0.64375   ,\n",
       "        0.64375   , 0.64375   , 0.64375   , 0.64393294, 0.64393294],\n",
       "       [0.64385118, 0.64385118, 0.64385118, 0.64375   , 0.64375   ,\n",
       "        0.64375   , 0.64375   , 0.64375   , 0.64393294, 0.64393294],\n",
       "       [0.64385118, 0.64385118, 0.64385118, 0.64375   , 0.64375   ,\n",
       "        0.64375   , 0.64375   , 0.64375   , 0.64393294, 0.64393294],\n",
       "       [0.64385118, 0.64385118, 0.64385118, 0.64375   , 0.64375   ,\n",
       "        0.64375   , 0.64375   , 0.64375   , 0.64393294, 0.64393294],\n",
       "       [0.64385118, 0.64385118, 0.64385118, 0.64375   , 0.64375   ,\n",
       "        0.64375   , 0.64375   , 0.64375   , 0.64393294, 0.64393294],\n",
       "       [0.64385118, 0.64385118, 0.64385118, 0.64375   , 0.64375   ,\n",
       "        0.64375   , 0.64375   , 0.64375   , 0.64393294, 0.64393294],\n",
       "       [0.64385118, 0.64385118, 0.64385118, 0.64375   , 0.64375   ,\n",
       "        0.64375   , 0.64375   , 0.64375   , 0.64393294, 0.64393294],\n",
       "       [0.64385118, 0.64385118, 0.64385118, 0.64375   , 0.64375   ,\n",
       "        0.64375   , 0.64375   , 0.64375   , 0.64393294, 0.64393294],\n",
       "       [0.66316387, 0.65947174, 0.66202783, 0.66988636, 0.68238636,\n",
       "        0.68238636, 0.65284091, 0.63806818, 0.66581415, 0.64393294],\n",
       "       [0.7111616 , 0.71229764, 0.71258165, 0.71647727, 0.73494318,\n",
       "        0.75625   , 0.73863636, 0.72329545, 0.75902245, 0.64393294],\n",
       "       [0.74382278, 0.73274638, 0.75177506, 0.74914773, 0.76590909,\n",
       "        0.77755682, 0.77926136, 0.75653409, 0.73856209, 0.62915601],\n",
       "       [0.75660324, 0.75205907, 0.7639875 , 0.76960227, 0.78153409,\n",
       "        0.79346591, 0.78352273, 0.75426136, 0.71611253, 0.52941176],\n",
       "       [0.75802329, 0.75319512, 0.76540755, 0.77670455, 0.78295455,\n",
       "        0.77954545, 0.78181818, 0.75511364, 0.7084399 , 0.37340153],\n",
       "       [0.75972735, 0.75149105, 0.76540755, 0.77102273, 0.78181818,\n",
       "        0.77613636, 0.71193182, 0.74772727, 0.69281046, 0.34299517],\n",
       "       [0.7639875 , 0.74893496, 0.76597558, 0.77301136, 0.78096591,\n",
       "        0.77755682, 0.72443182, 0.70767045, 0.67917022, 0.30718954],\n",
       "       [0.76001136, 0.74950298, 0.76313547, 0.77386364, 0.78153409,\n",
       "        0.77840909, 0.74147727, 0.7125    , 0.65302643, 0.38363171],\n",
       "       [0.76313547, 0.75262709, 0.76540755, 0.77727273, 0.78181818,\n",
       "        0.78039773, 0.74261364, 0.71505682, 0.65444729, 0.36288718]])"
      ]
     },
     "execution_count": 33,
     "metadata": {},
     "output_type": "execute_result"
    }
   ],
   "source": [
    "test_scores"
   ]
  },
  {
   "cell_type": "code",
   "execution_count": 34,
   "metadata": {
    "pycharm": {
     "name": "#%%\n"
    }
   },
   "outputs": [
    {
     "data": {
      "image/png": "[encoded data removed]",
      "text/plain": [
       "<Figure size 432x288 with 1 Axes>"
      ]
     },
     "metadata": {
      "needs_background": "light"
     },
     "output_type": "display_data"
    }
   ],
   "source": [
    "title = \"Learning Curves\"\n",
    "myPlotLib.plot_learning_curve(clf, title, X_Data, Y_Data, ylim=(0.1, 1.03),train_sizes=splitsSize, cv=cv, n_jobs=4)\n",
    "plt.show()\n"
   ]
  },
  {
   "cell_type": "code",
   "execution_count": 35,
   "metadata": {
    "pycharm": {
     "name": "#%%\n"
    }
   },
   "outputs": [],
   "source": [
    "def myDT_LearningCurve(clf,X_Data,Y_Data,splits,cv):\n",
    "    df = pd.DataFrame({\"percent\":[],\"train_score\":[],\"test_score\":[],\"cv_score\":[]})\n",
    "    for X in splits:\n",
    "        X_train, X_test, y_train, y_test  = myLib.mySplitDataByTrainSize(X_Data,Y_Data,X,42)\n",
    "        score_df = myDT(clf,X_train,y_train,X_test,y_test,cv)\n",
    "        df = df.append(pd.DataFrame({\"percent\":X,\"train_score\":score_df.train_score,\"test_score\":score_df.test_score,\"cv_score\":score_df.cv_score}),ignore_index=True,sort=False)\n",
    "    return df\n"
   ]
  },
  {
   "cell_type": "code",
   "execution_count": 36,
   "metadata": {
    "pycharm": {
     "name": "#%%    \n"
    }
   },
   "outputs": [
    {
     "data": {
      "text/html": [
       "<div>\n",
       "<style scoped>\n",
       "    .dataframe tbody tr th:only-of-type {\n",
       "        vertical-align: middle;\n",
       "    }\n",
       "\n",
       "    .dataframe tbody tr th {\n",
       "        vertical-align: top;\n",
       "    }\n",
       "\n",
       "    .dataframe thead th {\n",
       "        text-align: right;\n",
       "    }\n",
       "</style>\n",
       "<table border=\"1\" class=\"dataframe\">\n",
       "  <thead>\n",
       "    <tr style=\"text-align: right;\">\n",
       "      <th></th>\n",
       "      <th>percent</th>\n",
       "      <th>train_score</th>\n",
       "      <th>test_score</th>\n",
       "      <th>cv_score</th>\n",
       "    </tr>\n",
       "  </thead>\n",
       "  <tbody>\n",
       "    <tr>\n",
       "      <th>0</th>\n",
       "      <td>0.04</td>\n",
       "      <td>0.997879</td>\n",
       "      <td>0.694624</td>\n",
       "      <td>0.687178</td>\n",
       "    </tr>\n",
       "    <tr>\n",
       "      <th>1</th>\n",
       "      <td>0.09</td>\n",
       "      <td>0.995759</td>\n",
       "      <td>0.712237</td>\n",
       "      <td>0.715371</td>\n",
       "    </tr>\n",
       "    <tr>\n",
       "      <th>2</th>\n",
       "      <td>0.14</td>\n",
       "      <td>0.993638</td>\n",
       "      <td>0.720959</td>\n",
       "      <td>0.750394</td>\n",
       "    </tr>\n",
       "    <tr>\n",
       "      <th>3</th>\n",
       "      <td>0.19</td>\n",
       "      <td>0.993080</td>\n",
       "      <td>0.727808</td>\n",
       "      <td>0.741945</td>\n",
       "    </tr>\n",
       "    <tr>\n",
       "      <th>4</th>\n",
       "      <td>0.24</td>\n",
       "      <td>0.990989</td>\n",
       "      <td>0.737446</td>\n",
       "      <td>0.740983</td>\n",
       "    </tr>\n",
       "    <tr>\n",
       "      <th>5</th>\n",
       "      <td>0.29</td>\n",
       "      <td>0.990057</td>\n",
       "      <td>0.744731</td>\n",
       "      <td>0.740903</td>\n",
       "    </tr>\n",
       "    <tr>\n",
       "      <th>6</th>\n",
       "      <td>0.34</td>\n",
       "      <td>0.986904</td>\n",
       "      <td>0.744557</td>\n",
       "      <td>0.742458</td>\n",
       "    </tr>\n",
       "    <tr>\n",
       "      <th>7</th>\n",
       "      <td>0.39</td>\n",
       "      <td>0.985647</td>\n",
       "      <td>0.742000</td>\n",
       "      <td>0.739694</td>\n",
       "    </tr>\n",
       "    <tr>\n",
       "      <th>8</th>\n",
       "      <td>0.44</td>\n",
       "      <td>0.985254</td>\n",
       "      <td>0.736502</td>\n",
       "      <td>0.741905</td>\n",
       "    </tr>\n",
       "    <tr>\n",
       "      <th>9</th>\n",
       "      <td>0.49</td>\n",
       "      <td>0.983385</td>\n",
       "      <td>0.741567</td>\n",
       "      <td>0.738058</td>\n",
       "    </tr>\n",
       "    <tr>\n",
       "      <th>10</th>\n",
       "      <td>0.54</td>\n",
       "      <td>0.982332</td>\n",
       "      <td>0.743663</td>\n",
       "      <td>0.740633</td>\n",
       "    </tr>\n",
       "    <tr>\n",
       "      <th>11</th>\n",
       "      <td>0.59</td>\n",
       "      <td>0.979876</td>\n",
       "      <td>0.741465</td>\n",
       "      <td>0.739184</td>\n",
       "    </tr>\n",
       "    <tr>\n",
       "      <th>12</th>\n",
       "      <td>0.64</td>\n",
       "      <td>0.980256</td>\n",
       "      <td>0.743779</td>\n",
       "      <td>0.745841</td>\n",
       "    </tr>\n",
       "    <tr>\n",
       "      <th>13</th>\n",
       "      <td>0.69</td>\n",
       "      <td>0.979412</td>\n",
       "      <td>0.739022</td>\n",
       "      <td>0.748157</td>\n",
       "    </tr>\n",
       "    <tr>\n",
       "      <th>14</th>\n",
       "      <td>0.74</td>\n",
       "      <td>0.979143</td>\n",
       "      <td>0.747906</td>\n",
       "      <td>0.747077</td>\n",
       "    </tr>\n",
       "    <tr>\n",
       "      <th>15</th>\n",
       "      <td>0.79</td>\n",
       "      <td>0.979013</td>\n",
       "      <td>0.751444</td>\n",
       "      <td>0.742580</td>\n",
       "    </tr>\n",
       "    <tr>\n",
       "      <th>16</th>\n",
       "      <td>0.84</td>\n",
       "      <td>0.977839</td>\n",
       "      <td>0.741033</td>\n",
       "      <td>0.746591</td>\n",
       "    </tr>\n",
       "    <tr>\n",
       "      <th>17</th>\n",
       "      <td>0.89</td>\n",
       "      <td>0.978513</td>\n",
       "      <td>0.739143</td>\n",
       "      <td>0.744105</td>\n",
       "    </tr>\n",
       "    <tr>\n",
       "      <th>18</th>\n",
       "      <td>0.94</td>\n",
       "      <td>0.975866</td>\n",
       "      <td>0.752015</td>\n",
       "      <td>0.746709</td>\n",
       "    </tr>\n",
       "    <tr>\n",
       "      <th>19</th>\n",
       "      <td>0.99</td>\n",
       "      <td>0.976144</td>\n",
       "      <td>0.744522</td>\n",
       "      <td>0.747901</td>\n",
       "    </tr>\n",
       "  </tbody>\n",
       "</table>\n",
       "</div>"
      ],
      "text/plain": [
       "    percent  train_score  test_score  cv_score\n",
       "0      0.04     0.997879    0.694624  0.687178\n",
       "1      0.09     0.995759    0.712237  0.715371\n",
       "2      0.14     0.993638    0.720959  0.750394\n",
       "3      0.19     0.993080    0.727808  0.741945\n",
       "4      0.24     0.990989    0.737446  0.740983\n",
       "5      0.29     0.990057    0.744731  0.740903\n",
       "6      0.34     0.986904    0.744557  0.742458\n",
       "7      0.39     0.985647    0.742000  0.739694\n",
       "8      0.44     0.985254    0.736502  0.741905\n",
       "9      0.49     0.983385    0.741567  0.738058\n",
       "10     0.54     0.982332    0.743663  0.740633\n",
       "11     0.59     0.979876    0.741465  0.739184\n",
       "12     0.64     0.980256    0.743779  0.745841\n",
       "13     0.69     0.979412    0.739022  0.748157\n",
       "14     0.74     0.979143    0.747906  0.747077\n",
       "15     0.79     0.979013    0.751444  0.742580\n",
       "16     0.84     0.977839    0.741033  0.746591\n",
       "17     0.89     0.978513    0.739143  0.744105\n",
       "18     0.94     0.975866    0.752015  0.746709\n",
       "19     0.99     0.976144    0.744522  0.747901"
      ]
     },
     "execution_count": 36,
     "metadata": {},
     "output_type": "execute_result"
    }
   ],
   "source": [
    "learning_df= myDT_LearningCurve(clf,X_Data,Y_Data,splitsSize,cv)\n",
    "learning_df"
   ]
  },
  {
   "cell_type": "code",
   "execution_count": 37,
   "metadata": {
    "pycharm": {
     "name": "#%%\n"
    }
   },
   "outputs": [
    {
     "data": {
      "text/html": [
       "<div>\n",
       "<style scoped>\n",
       "    .dataframe tbody tr th:only-of-type {\n",
       "        vertical-align: middle;\n",
       "    }\n",
       "\n",
       "    .dataframe tbody tr th {\n",
       "        vertical-align: top;\n",
       "    }\n",
       "\n",
       "    .dataframe thead th {\n",
       "        text-align: right;\n",
       "    }\n",
       "</style>\n",
       "<table border=\"1\" class=\"dataframe\">\n",
       "  <thead>\n",
       "    <tr style=\"text-align: right;\">\n",
       "      <th></th>\n",
       "      <th>percent</th>\n",
       "      <th>train_score</th>\n",
       "      <th>test_score</th>\n",
       "      <th>cv_score</th>\n",
       "    </tr>\n",
       "  </thead>\n",
       "  <tbody>\n",
       "    <tr>\n",
       "      <th>count</th>\n",
       "      <td>20.000000</td>\n",
       "      <td>20.000000</td>\n",
       "      <td>20.000000</td>\n",
       "      <td>20.000000</td>\n",
       "    </tr>\n",
       "    <tr>\n",
       "      <th>mean</th>\n",
       "      <td>0.515000</td>\n",
       "      <td>0.984549</td>\n",
       "      <td>0.737321</td>\n",
       "      <td>0.739383</td>\n",
       "    </tr>\n",
       "    <tr>\n",
       "      <th>std</th>\n",
       "      <td>0.295804</td>\n",
       "      <td>0.006875</td>\n",
       "      <td>0.013873</td>\n",
       "      <td>0.014221</td>\n",
       "    </tr>\n",
       "    <tr>\n",
       "      <th>min</th>\n",
       "      <td>0.040000</td>\n",
       "      <td>0.975866</td>\n",
       "      <td>0.694624</td>\n",
       "      <td>0.687178</td>\n",
       "    </tr>\n",
       "    <tr>\n",
       "      <th>25%</th>\n",
       "      <td>0.277500</td>\n",
       "      <td>0.979110</td>\n",
       "      <td>0.737210</td>\n",
       "      <td>0.740398</td>\n",
       "    </tr>\n",
       "    <tr>\n",
       "      <th>50%</th>\n",
       "      <td>0.515000</td>\n",
       "      <td>0.982859</td>\n",
       "      <td>0.741516</td>\n",
       "      <td>0.742202</td>\n",
       "    </tr>\n",
       "    <tr>\n",
       "      <th>75%</th>\n",
       "      <td>0.752500</td>\n",
       "      <td>0.990290</td>\n",
       "      <td>0.744531</td>\n",
       "      <td>0.746620</td>\n",
       "    </tr>\n",
       "    <tr>\n",
       "      <th>max</th>\n",
       "      <td>0.990000</td>\n",
       "      <td>0.997879</td>\n",
       "      <td>0.752015</td>\n",
       "      <td>0.750394</td>\n",
       "    </tr>\n",
       "  </tbody>\n",
       "</table>\n",
       "</div>"
      ],
      "text/plain": [
       "         percent  train_score  test_score   cv_score\n",
       "count  20.000000    20.000000   20.000000  20.000000\n",
       "mean    0.515000     0.984549    0.737321   0.739383\n",
       "std     0.295804     0.006875    0.013873   0.014221\n",
       "min     0.040000     0.975866    0.694624   0.687178\n",
       "25%     0.277500     0.979110    0.737210   0.740398\n",
       "50%     0.515000     0.982859    0.741516   0.742202\n",
       "75%     0.752500     0.990290    0.744531   0.746620\n",
       "max     0.990000     0.997879    0.752015   0.750394"
      ]
     },
     "execution_count": 37,
     "metadata": {},
     "output_type": "execute_result"
    }
   ],
   "source": [
    "learning_df.describe()"
   ]
  },
  {
   "cell_type": "code",
   "execution_count": 38,
   "metadata": {
    "pycharm": {
     "name": "#%%\n"
    }
   },
   "outputs": [
    {
     "data": {
      "text/plain": [
       "Text(0.5, 1.0, 'Learning Curve of CV:10')"
      ]
     },
     "execution_count": 38,
     "metadata": {},
     "output_type": "execute_result"
    },
    {
     "data": {
      "image/png": "[encoded data removed]",
      "text/plain": [
       "<Figure size 432x288 with 1 Axes>"
      ]
     },
     "metadata": {
      "needs_background": "light"
     },
     "output_type": "display_data"
    }
   ],
   "source": [
    "\n",
    "fig, ax = plt.subplots()\n",
    "plt.plot(learning_df.percent, learning_df.train_score, color='blue', marker='o', markersize=5, label='training')\n",
    "\n",
    "plt.plot(learning_df.percent, learning_df.test_score, color='red', marker='o', markersize=5, label='testing')\n",
    "\n",
    "plt.plot(learning_df.percent, learning_df.cv_score, color='orange', marker='o', markersize=5, label='cross validation')\n",
    "\n",
    "ax.legend()\n",
    "ax.set_title(\"Learning Curve of CV:10\")\n"
   ]
  },
  {
   "cell_type": "markdown",
   "metadata": {},
   "source": [
    "<div class=\"alert alert-block alert-danger\">\n",
    "Based on the Learning Curve, we saw that \n",
    "<ul>\n",
    "<li>Very small samples dataset has high variance. It means the model perfomrs very well on training data (<b>min = 0.993589</b>), but has high erro rates on the test data (<b>min = 0.692473</b>)</li>\n",
    "<li>Adding more training samples (<b>>25K</b>) may not affect the accuracy of the model</li>\n",
    "</ul>\n",
    "</div>\n"
   ]
  },
  {
   "cell_type": "markdown",
   "metadata": {},
   "source": [
    "####----------------------------------------------------------------\n",
    "# Validation Curve\n",
    "####----------------------------------------------------------------"
   ]
  },
  {
   "cell_type": "code",
   "execution_count": 39,
   "metadata": {
    "pycharm": {
     "is_executing": false,
     "name": "#%%\n"
    }
   },
   "outputs": [],
   "source": [
    "depths = [1,2,4, 5, 8,10,15, 20,25,30,35,40,50,60,70,80,90,100,150,200]"
   ]
  },
  {
   "cell_type": "code",
   "execution_count": 40,
   "metadata": {
    "pycharm": {
     "name": "#%%\n"
    }
   },
   "outputs": [],
   "source": [
    "#https://scikit-learn.org/stable/modules/generated/sklearn.model_selection.validation_curve.html#sklearn.model_selection.validation_curve\n",
    "from sklearn.model_selection import validation_curve\n",
    "train_scores, valid_scores = validation_curve(DecisionTreeClassifier(),X_train, y_train, \n",
    "    param_name=\"max_depth\", param_range=depths,\n",
    "    cv=cv, n_jobs=1)\n"
   ]
  },
  {
   "cell_type": "code",
   "execution_count": 41,
   "metadata": {
    "pycharm": {
     "name": "#%%\n"
    }
   },
   "outputs": [
    {
     "data": {
      "text/plain": [
       "array([[0.64243309, 0.64244994, 0.64244994, 0.64241967, 0.64241967,\n",
       "        0.64241967, 0.64241967, 0.64241967, 0.64241967, 0.64241967],\n",
       "       [0.67711082, 0.67783274, 0.67797409, 0.6753981 , 0.67751814,\n",
       "        0.67487986, 0.67563366, 0.67780081, 0.67506831, 0.67798926],\n",
       "       [0.70646438, 0.70468787, 0.70464075, 0.6992839 , 0.70507868,\n",
       "        0.70423066, 0.7024404 , 0.70390088, 0.70145105, 0.70324131],\n",
       "       [0.72304938, 0.71891637, 0.71137809, 0.72057854, 0.71332328,\n",
       "        0.71322906, 0.71120324, 0.71214548, 0.71219259, 0.72086121],\n",
       "       [0.7622974 , 0.75467609, 0.74949352, 0.77904457, 0.7435221 ,\n",
       "        0.75308584, 0.74724395, 0.74757373, 0.74922265, 0.76316781],\n",
       "       [0.79287599, 0.79891637, 0.77912839, 0.81508527, 0.76957505,\n",
       "        0.77946858, 0.76910393, 0.76707811, 0.78865542, 0.79261283],\n",
       "       [0.86496419, 0.86709069, 0.85771496, 0.87948742, 0.85079619,\n",
       "        0.83953642, 0.85616697, 0.85776877, 0.85235089, 0.84919438],\n",
       "       [0.91792311, 0.91411072, 0.9153828 , 0.92556299, 0.90638839,\n",
       "        0.89479883, 0.90549326, 0.9107227 , 0.91246584, 0.89776689],\n",
       "       [0.9508104 , 0.94332155, 0.94883392, 0.95109771, 0.93927259,\n",
       "        0.93272402, 0.93927259, 0.9420522 , 0.94450203, 0.92853105],\n",
       "       [0.96683   , 0.96169611, 0.96734982, 0.9635824 , 0.95642137,\n",
       "        0.95679827, 0.95934232, 0.95825874, 0.96136813, 0.95269952],\n",
       "       [0.97333208, 0.96994111, 0.9735689 , 0.97027231, 0.96570244,\n",
       "        0.96881183, 0.96885895, 0.9671158 , 0.96848205, 0.96377085],\n",
       "       [0.9754052 , 0.97366313, 0.97597173, 0.97422972, 0.96998964,\n",
       "        0.9722039 , 0.97404127, 0.97239235, 0.97305192, 0.96980119],\n",
       "       [0.97592348, 0.97634865, 0.97696113, 0.97592575, 0.97324037,\n",
       "        0.9749364 , 0.97540752, 0.97639687, 0.97569019, 0.97569019],\n",
       "       [0.97592348, 0.97672556, 0.97705536, 0.9761142 , 0.9749364 ,\n",
       "        0.9764911 , 0.97540752, 0.97663243, 0.97653821, 0.9761142 ],\n",
       "       [0.97592348, 0.97672556, 0.97705536, 0.9761142 , 0.97540752,\n",
       "        0.97663243, 0.97540752, 0.97663243, 0.97653821, 0.9761142 ],\n",
       "       [0.97592348, 0.97672556, 0.97705536, 0.9761142 , 0.9757373 ,\n",
       "        0.97663243, 0.97540752, 0.97663243, 0.97653821, 0.9761142 ],\n",
       "       [0.97592348, 0.97672556, 0.97705536, 0.9761142 , 0.97578442,\n",
       "        0.97663243, 0.97540752, 0.97663243, 0.97653821, 0.9761142 ],\n",
       "       [0.97592348, 0.97672556, 0.97705536, 0.9761142 , 0.97578442,\n",
       "        0.97663243, 0.97540752, 0.97663243, 0.97653821, 0.9761142 ],\n",
       "       [0.97592348, 0.97672556, 0.97705536, 0.9761142 , 0.97578442,\n",
       "        0.97663243, 0.97540752, 0.97663243, 0.97653821, 0.9761142 ],\n",
       "       [0.97592348, 0.97672556, 0.97705536, 0.9761142 , 0.97578442,\n",
       "        0.97663243, 0.97540752, 0.97663243, 0.97653821, 0.9761142 ]])"
      ]
     },
     "execution_count": 41,
     "metadata": {},
     "output_type": "execute_result"
    }
   ],
   "source": [
    "train_scores"
   ]
  },
  {
   "cell_type": "code",
   "execution_count": 42,
   "metadata": {
    "pycharm": {
     "name": "#%%\n"
    }
   },
   "outputs": [
    {
     "data": {
      "text/plain": [
       "array([[0.64237288, 0.64222128, 0.64222128, 0.64249364, 0.64249364,\n",
       "        0.64249364, 0.64249364, 0.64249364, 0.64249364, 0.64249364],\n",
       "       [0.66016949, 0.67952522, 0.67867741, 0.67599661, 0.67387617,\n",
       "        0.6798134 , 0.67133164, 0.67938931, 0.67684478, 0.67302799],\n",
       "       [0.67627119, 0.69605765, 0.70284019, 0.68617472, 0.70949958,\n",
       "        0.70780322, 0.69126378, 0.70992366, 0.70525869, 0.68787108],\n",
       "       [0.69237288, 0.71301399, 0.71555744, 0.7158609 , 0.71289228,\n",
       "        0.71543681, 0.70737913, 0.70695505, 0.71798134, 0.69762511],\n",
       "       [0.72033898, 0.73548114, 0.73251378, 0.75021204, 0.7336726 ,\n",
       "        0.74597116, 0.72943172, 0.73112807, 0.72815946, 0.73240034],\n",
       "       [0.73855932, 0.76049173, 0.73293769, 0.77056828, 0.74427481,\n",
       "        0.74766751, 0.73112807, 0.7408821 , 0.76166243, 0.75063613],\n",
       "       [0.775     , 0.76473082, 0.77193726, 0.77820187, 0.77014419,\n",
       "        0.76717557, 0.78710772, 0.77226463, 0.7625106 , 0.75742154],\n",
       "       [0.75889831, 0.75837219, 0.75837219, 0.76802375, 0.7697201 ,\n",
       "        0.77608142, 0.77226463, 0.7591179 , 0.76717557, 0.75318066],\n",
       "       [0.74788136, 0.75031793, 0.75455702, 0.7625106 , 0.76505513,\n",
       "        0.76505513, 0.76844784, 0.75318066, 0.75233249, 0.75021204],\n",
       "       [0.74110169, 0.74692666, 0.74565494, 0.75742154, 0.75954198,\n",
       "        0.75657337, 0.76547922, 0.74766751, 0.74978796, 0.75148431],\n",
       "       [0.73898305, 0.74523103, 0.74480712, 0.75699746, 0.75954198,\n",
       "        0.75572519, 0.75954198, 0.74427481, 0.74300254, 0.74681934],\n",
       "       [0.73432203, 0.74311149, 0.74692666, 0.75233249, 0.75487701,\n",
       "        0.75445293, 0.75657337, 0.74257846, 0.74215437, 0.74681934],\n",
       "       [0.73516949, 0.74268758, 0.74480712, 0.75318066, 0.75487701,\n",
       "        0.75275657, 0.75614928, 0.74215437, 0.74003393, 0.74385072],\n",
       "       [0.73601695, 0.7439593 , 0.74607885, 0.75106022, 0.75318066,\n",
       "        0.75063613, 0.75657337, 0.73960984, 0.74045802, 0.74512299],\n",
       "       [0.73432203, 0.74480712, 0.74480712, 0.75148431, 0.75445293,\n",
       "        0.75233249, 0.7553011 , 0.74045802, 0.7408821 , 0.74554707],\n",
       "       [0.73432203, 0.74523103, 0.74735057, 0.75106022, 0.75233249,\n",
       "        0.7519084 , 0.7553011 , 0.74045802, 0.73918575, 0.7446989 ],\n",
       "       [0.73559322, 0.74523103, 0.74735057, 0.7519084 , 0.75360475,\n",
       "        0.75318066, 0.75699746, 0.74257846, 0.73918575, 0.74724343],\n",
       "       [0.73474576, 0.74311149, 0.74692666, 0.75275657, 0.75106022,\n",
       "        0.75063613, 0.75614928, 0.74130619, 0.73918575, 0.74554707],\n",
       "       [0.73516949, 0.74311149, 0.74650276, 0.7519084 , 0.7519084 ,\n",
       "        0.75275657, 0.7553011 , 0.7408821 , 0.74045802, 0.74342663],\n",
       "       [0.73728814, 0.74480712, 0.74480712, 0.75318066, 0.75233249,\n",
       "        0.75402884, 0.7553011 , 0.74257846, 0.74045802, 0.74427481]])"
      ]
     },
     "execution_count": 42,
     "metadata": {},
     "output_type": "execute_result"
    }
   ],
   "source": [
    "valid_scores\n"
   ]
  },
  {
   "cell_type": "code",
   "execution_count": 43,
   "metadata": {
    "pycharm": {
     "name": "#%%\n"
    }
   },
   "outputs": [
    {
     "data": {
      "image/png": "[encoded data removed]",
      "text/plain": [
       "<Figure size 432x288 with 1 Axes>"
      ]
     },
     "metadata": {
      "needs_background": "light"
     },
     "output_type": "display_data"
    }
   ],
   "source": [
    "train_scores_mean = np.mean(train_scores, axis=1)\n",
    "train_scores_std = np.std(train_scores, axis=1)\n",
    "valid_scores_mean = np.mean(valid_scores, axis=1)\n",
    "valid_scores_std = np.std(valid_scores, axis=1)\n",
    "\n",
    "plt.title(\"Validation Curve of CV:10\")\n",
    "plt.xlabel(\"Depth\")\n",
    "plt.ylabel(\"Score\")\n",
    "plt.ylim(0.0, 1.1)\n",
    "lw = 2\n",
    "plt.semilogx(depths, train_scores_mean, label=\"Training score\",\n",
    "             color=\"darkorange\", lw=lw)\n",
    "plt.fill_between(depths, train_scores_mean - train_scores_std,\n",
    "                 train_scores_mean + train_scores_std, alpha=0.2,\n",
    "                 color=\"darkorange\", lw=lw)\n",
    "plt.semilogx(depths, valid_scores_mean, label=\"Cross-validation score\",\n",
    "             color=\"navy\", lw=lw)\n",
    "plt.fill_between(depths, valid_scores_mean - valid_scores_std,\n",
    "                 valid_scores_mean + valid_scores_std, alpha=0.2,\n",
    "                 color=\"navy\", lw=lw)\n",
    "plt.legend(loc=\"best\")\n",
    "plt.show()\n"
   ]
  },
  {
   "cell_type": "markdown",
   "metadata": {},
   "source": [
    "####----------------------------------------------------------------\n",
    "# Model Turning\n",
    "####----------------------------------------------------------------"
   ]
  },
  {
   "cell_type": "code",
   "execution_count": 44,
   "metadata": {
    "pycharm": {
     "name": "#%%\n"
    }
   },
   "outputs": [
    {
     "data": {
      "text/html": [
       "<div>\n",
       "<style scoped>\n",
       "    .dataframe tbody tr th:only-of-type {\n",
       "        vertical-align: middle;\n",
       "    }\n",
       "\n",
       "    .dataframe tbody tr th {\n",
       "        vertical-align: top;\n",
       "    }\n",
       "\n",
       "    .dataframe thead th {\n",
       "        text-align: right;\n",
       "    }\n",
       "</style>\n",
       "<table border=\"1\" class=\"dataframe\">\n",
       "  <thead>\n",
       "    <tr style=\"text-align: right;\">\n",
       "      <th></th>\n",
       "      <th>depth</th>\n",
       "      <th>train_score</th>\n",
       "      <th>cv_score</th>\n",
       "      <th>test_score</th>\n",
       "    </tr>\n",
       "  </thead>\n",
       "  <tbody>\n",
       "    <tr>\n",
       "      <th>0</th>\n",
       "      <td>1.0</td>\n",
       "      <td>0.642427</td>\n",
       "      <td>0.642427</td>\n",
       "      <td>0.646639</td>\n",
       "    </tr>\n",
       "    <tr>\n",
       "      <th>1</th>\n",
       "      <td>2.0</td>\n",
       "      <td>0.677154</td>\n",
       "      <td>0.674865</td>\n",
       "      <td>0.677542</td>\n",
       "    </tr>\n",
       "    <tr>\n",
       "      <th>2</th>\n",
       "      <td>4.0</td>\n",
       "      <td>0.704418</td>\n",
       "      <td>0.697296</td>\n",
       "      <td>0.701386</td>\n",
       "    </tr>\n",
       "    <tr>\n",
       "      <th>3</th>\n",
       "      <td>5.0</td>\n",
       "      <td>0.713111</td>\n",
       "      <td>0.709507</td>\n",
       "      <td>0.711285</td>\n",
       "    </tr>\n",
       "    <tr>\n",
       "      <th>4</th>\n",
       "      <td>8.0</td>\n",
       "      <td>0.746014</td>\n",
       "      <td>0.733719</td>\n",
       "      <td>0.731945</td>\n",
       "    </tr>\n",
       "    <tr>\n",
       "      <th>5</th>\n",
       "      <td>10.0</td>\n",
       "      <td>0.769081</td>\n",
       "      <td>0.747796</td>\n",
       "      <td>0.746406</td>\n",
       "    </tr>\n",
       "    <tr>\n",
       "      <th>6</th>\n",
       "      <td>15.0</td>\n",
       "      <td>0.850831</td>\n",
       "      <td>0.770607</td>\n",
       "      <td>0.780666</td>\n",
       "    </tr>\n",
       "    <tr>\n",
       "      <th>7</th>\n",
       "      <td>20.0</td>\n",
       "      <td>0.905275</td>\n",
       "      <td>0.764460</td>\n",
       "      <td>0.774985</td>\n",
       "    </tr>\n",
       "    <tr>\n",
       "      <th>8</th>\n",
       "      <td>25.0</td>\n",
       "      <td>0.941528</td>\n",
       "      <td>0.756913</td>\n",
       "      <td>0.764483</td>\n",
       "    </tr>\n",
       "    <tr>\n",
       "      <th>9</th>\n",
       "      <td>30.0</td>\n",
       "      <td>0.959676</td>\n",
       "      <td>0.752291</td>\n",
       "      <td>0.758630</td>\n",
       "    </tr>\n",
       "    <tr>\n",
       "      <th>10</th>\n",
       "      <td>35.0</td>\n",
       "      <td>0.967987</td>\n",
       "      <td>0.749620</td>\n",
       "      <td>0.755445</td>\n",
       "    </tr>\n",
       "    <tr>\n",
       "      <th>11</th>\n",
       "      <td>40.0</td>\n",
       "      <td>0.971803</td>\n",
       "      <td>0.748263</td>\n",
       "      <td>0.753293</td>\n",
       "    </tr>\n",
       "    <tr>\n",
       "      <th>12</th>\n",
       "      <td>50.0</td>\n",
       "      <td>0.974050</td>\n",
       "      <td>0.746524</td>\n",
       "      <td>0.752690</td>\n",
       "    </tr>\n",
       "    <tr>\n",
       "      <th>13</th>\n",
       "      <td>60.0</td>\n",
       "      <td>0.974771</td>\n",
       "      <td>0.746609</td>\n",
       "      <td>0.752260</td>\n",
       "    </tr>\n",
       "    <tr>\n",
       "      <th>14</th>\n",
       "      <td>70.0</td>\n",
       "      <td>0.974771</td>\n",
       "      <td>0.746652</td>\n",
       "      <td>0.752260</td>\n",
       "    </tr>\n",
       "    <tr>\n",
       "      <th>15</th>\n",
       "      <td>80.0</td>\n",
       "      <td>0.974771</td>\n",
       "      <td>0.746609</td>\n",
       "      <td>0.752260</td>\n",
       "    </tr>\n",
       "    <tr>\n",
       "      <th>16</th>\n",
       "      <td>90.0</td>\n",
       "      <td>0.974771</td>\n",
       "      <td>0.746609</td>\n",
       "      <td>0.752260</td>\n",
       "    </tr>\n",
       "    <tr>\n",
       "      <th>17</th>\n",
       "      <td>100.0</td>\n",
       "      <td>0.974771</td>\n",
       "      <td>0.746609</td>\n",
       "      <td>0.752260</td>\n",
       "    </tr>\n",
       "    <tr>\n",
       "      <th>18</th>\n",
       "      <td>150.0</td>\n",
       "      <td>0.974771</td>\n",
       "      <td>0.746609</td>\n",
       "      <td>0.752260</td>\n",
       "    </tr>\n",
       "    <tr>\n",
       "      <th>19</th>\n",
       "      <td>200.0</td>\n",
       "      <td>0.974771</td>\n",
       "      <td>0.746609</td>\n",
       "      <td>0.752260</td>\n",
       "    </tr>\n",
       "  </tbody>\n",
       "</table>\n",
       "</div>"
      ],
      "text/plain": [
       "    depth  train_score  cv_score  test_score\n",
       "0     1.0     0.642427  0.642427    0.646639\n",
       "1     2.0     0.677154  0.674865    0.677542\n",
       "2     4.0     0.704418  0.697296    0.701386\n",
       "3     5.0     0.713111  0.709507    0.711285\n",
       "4     8.0     0.746014  0.733719    0.731945\n",
       "5    10.0     0.769081  0.747796    0.746406\n",
       "6    15.0     0.850831  0.770607    0.780666\n",
       "7    20.0     0.905275  0.764460    0.774985\n",
       "8    25.0     0.941528  0.756913    0.764483\n",
       "9    30.0     0.959676  0.752291    0.758630\n",
       "10   35.0     0.967987  0.749620    0.755445\n",
       "11   40.0     0.971803  0.748263    0.753293\n",
       "12   50.0     0.974050  0.746524    0.752690\n",
       "13   60.0     0.974771  0.746609    0.752260\n",
       "14   70.0     0.974771  0.746652    0.752260\n",
       "15   80.0     0.974771  0.746609    0.752260\n",
       "16   90.0     0.974771  0.746609    0.752260\n",
       "17  100.0     0.974771  0.746609    0.752260\n",
       "18  150.0     0.974771  0.746609    0.752260\n",
       "19  200.0     0.974771  0.746609    0.752260"
      ]
     },
     "execution_count": 44,
     "metadata": {},
     "output_type": "execute_result"
    }
   ],
   "source": [
    "learnig_df= myDT_ModelTurning(clf,depths,X_train,y_train,X_test,y_test,cv)\n",
    "learnig_df"
   ]
  },
  {
   "cell_type": "code",
   "execution_count": 45,
   "metadata": {
    "pycharm": {
     "name": "#%%\n"
    }
   },
   "outputs": [
    {
     "data": {
      "text/html": [
       "<div>\n",
       "<style scoped>\n",
       "    .dataframe tbody tr th:only-of-type {\n",
       "        vertical-align: middle;\n",
       "    }\n",
       "\n",
       "    .dataframe tbody tr th {\n",
       "        vertical-align: top;\n",
       "    }\n",
       "\n",
       "    .dataframe thead th {\n",
       "        text-align: right;\n",
       "    }\n",
       "</style>\n",
       "<table border=\"1\" class=\"dataframe\">\n",
       "  <thead>\n",
       "    <tr style=\"text-align: right;\">\n",
       "      <th></th>\n",
       "      <th>depth</th>\n",
       "      <th>train_score</th>\n",
       "      <th>cv_score</th>\n",
       "      <th>test_score</th>\n",
       "    </tr>\n",
       "  </thead>\n",
       "  <tbody>\n",
       "    <tr>\n",
       "      <th>count</th>\n",
       "      <td>20.000000</td>\n",
       "      <td>20.000000</td>\n",
       "      <td>20.000000</td>\n",
       "      <td>20.000000</td>\n",
       "    </tr>\n",
       "    <tr>\n",
       "      <th>mean</th>\n",
       "      <td>49.750000</td>\n",
       "      <td>0.882338</td>\n",
       "      <td>0.736030</td>\n",
       "      <td>0.741061</td>\n",
       "    </tr>\n",
       "    <tr>\n",
       "      <th>std</th>\n",
       "      <td>53.155061</td>\n",
       "      <td>0.122673</td>\n",
       "      <td>0.031442</td>\n",
       "      <td>0.032822</td>\n",
       "    </tr>\n",
       "    <tr>\n",
       "      <th>min</th>\n",
       "      <td>1.000000</td>\n",
       "      <td>0.642427</td>\n",
       "      <td>0.642427</td>\n",
       "      <td>0.646639</td>\n",
       "    </tr>\n",
       "    <tr>\n",
       "      <th>25%</th>\n",
       "      <td>9.500000</td>\n",
       "      <td>0.763314</td>\n",
       "      <td>0.743323</td>\n",
       "      <td>0.742791</td>\n",
       "    </tr>\n",
       "    <tr>\n",
       "      <th>50%</th>\n",
       "      <td>32.500000</td>\n",
       "      <td>0.963831</td>\n",
       "      <td>0.746609</td>\n",
       "      <td>0.752260</td>\n",
       "    </tr>\n",
       "    <tr>\n",
       "      <th>75%</th>\n",
       "      <td>72.500000</td>\n",
       "      <td>0.974771</td>\n",
       "      <td>0.748602</td>\n",
       "      <td>0.753831</td>\n",
       "    </tr>\n",
       "    <tr>\n",
       "      <th>max</th>\n",
       "      <td>200.000000</td>\n",
       "      <td>0.974771</td>\n",
       "      <td>0.770607</td>\n",
       "      <td>0.780666</td>\n",
       "    </tr>\n",
       "  </tbody>\n",
       "</table>\n",
       "</div>"
      ],
      "text/plain": [
       "            depth  train_score   cv_score  test_score\n",
       "count   20.000000    20.000000  20.000000   20.000000\n",
       "mean    49.750000     0.882338   0.736030    0.741061\n",
       "std     53.155061     0.122673   0.031442    0.032822\n",
       "min      1.000000     0.642427   0.642427    0.646639\n",
       "25%      9.500000     0.763314   0.743323    0.742791\n",
       "50%     32.500000     0.963831   0.746609    0.752260\n",
       "75%     72.500000     0.974771   0.748602    0.753831\n",
       "max    200.000000     0.974771   0.770607    0.780666"
      ]
     },
     "execution_count": 45,
     "metadata": {},
     "output_type": "execute_result"
    }
   ],
   "source": [
    "learnig_df.describe()"
   ]
  },
  {
   "cell_type": "code",
   "execution_count": 46,
   "metadata": {
    "pycharm": {
     "name": "#%%\n"
    }
   },
   "outputs": [
    {
     "data": {
      "text/plain": [
       "Text(0.5, 1.0, 'Training and Cross validation scores of CV:10')"
      ]
     },
     "execution_count": 46,
     "metadata": {},
     "output_type": "execute_result"
    },
    {
     "data": {
      "image/png": "[encoded data removed]",
      "text/plain": [
       "<Figure size 432x288 with 1 Axes>"
      ]
     },
     "metadata": {
      "needs_background": "light"
     },
     "output_type": "display_data"
    }
   ],
   "source": [
    "\n",
    "fig,ax = plt.subplots()\n",
    "plt.xlabel(\"Depth\")\n",
    "plt.plot(learnig_df.depth, learnig_df.train_score, color='blue', marker='o', markersize=5, label='training')\n",
    "plt.plot(learnig_df.depth, learnig_df.cv_score, color='orange', marker='o', markersize=5, label='cross validation')\n",
    "\n",
    "ax.legend()\n",
    "ax.set_title(\"Training and Cross validation scores of CV:10\")\n"
   ]
  },
  {
   "cell_type": "markdown",
   "metadata": {},
   "source": [
    "<div class=\"alert alert-block alert-danger\">\n",
    "Based on the Validation Curve, we saw that with the depth > <b>50</b>, \n",
    "<ul>\n",
    "<li>The training scores almost are the same: <b>0.985456</b> </li>\n",
    "<li>The cross validation scores almost are the same: <b>0.751909</b> </li>\n",
    "</ul>\n",
    "That means, the best value of the depth < <b>50</b>, we will do grid search CV based on this range  \n",
    "</div>\n"
   ]
  },
  {
   "cell_type": "markdown",
   "metadata": {},
   "source": [
    "####----------------------------------------------------------------\n",
    "# Grid Search CV\n",
    "####----------------------------------------------------------------"
   ]
  },
  {
   "cell_type": "code",
   "execution_count": 47,
   "metadata": {
    "pycharm": {
     "name": "#%%\n"
    }
   },
   "outputs": [],
   "source": [
    "#GridSearchCV\n",
    "def myGS(X_train,y_train,depths,num_leafs):\n",
    "    from sklearn.model_selection import GridSearchCV\n",
    "    \n",
    "    param_grid = [{'max_depth':depths,\n",
    "                  'min_samples_leaf':num_leafs}]\n",
    "    clf2 = DecisionTreeClassifier(random_state=0)\n",
    "    gs = GridSearchCV(estimator=clf2, param_grid=param_grid, cv=10)\n",
    "    \n",
    "    gs = gs.fit(X_train, y_train)\n",
    "    return gs\n",
    "    "
   ]
  },
  {
   "cell_type": "code",
   "execution_count": 48,
   "metadata": {
    "pycharm": {
     "name": "#%%\n"
    }
   },
   "outputs": [
    {
     "data": {
      "text/plain": [
       "0.7904087516960652"
      ]
     },
     "execution_count": 48,
     "metadata": {},
     "output_type": "execute_result"
    }
   ],
   "source": [
    "depths = range(10,50,20)\n",
    "num_leafs = [1,2,4, 5, 8, 10, 20]\n",
    "gs = myGS(X_train,y_train,depths,num_leafs)\n",
    "#Training Score\n",
    "gs.best_score_"
   ]
  },
  {
   "cell_type": "code",
   "execution_count": 49,
   "metadata": {
    "pycharm": {
     "name": "#%%\n"
    }
   },
   "outputs": [
    {
     "data": {
      "text/plain": [
       "{'max_depth': 30, 'min_samples_leaf': 20}"
      ]
     },
     "execution_count": 49,
     "metadata": {},
     "output_type": "execute_result"
    }
   ],
   "source": [
    "gs.best_params_\n",
    "    "
   ]
  },
  {
   "cell_type": "markdown",
   "metadata": {},
   "source": [
    "####----------------------------------------------------------------\n",
    "# Final Evaluation\n",
    "####----------------------------------------------------------------"
   ]
  },
  {
   "cell_type": "code",
   "execution_count": 50,
   "metadata": {
    "pycharm": {
     "name": "#%%\n"
    }
   },
   "outputs": [
    {
     "data": {
      "text/html": [
       "<div>\n",
       "<style scoped>\n",
       "    .dataframe tbody tr th:only-of-type {\n",
       "        vertical-align: middle;\n",
       "    }\n",
       "\n",
       "    .dataframe tbody tr th {\n",
       "        vertical-align: top;\n",
       "    }\n",
       "\n",
       "    .dataframe thead th {\n",
       "        text-align: right;\n",
       "    }\n",
       "</style>\n",
       "<table border=\"1\" class=\"dataframe\">\n",
       "  <thead>\n",
       "    <tr style=\"text-align: right;\">\n",
       "      <th></th>\n",
       "      <th>leaves</th>\n",
       "      <th>depth</th>\n",
       "      <th>train_score</th>\n",
       "      <th>test_score</th>\n",
       "      <th>cv_score</th>\n",
       "    </tr>\n",
       "  </thead>\n",
       "  <tbody>\n",
       "    <tr>\n",
       "      <th>0</th>\n",
       "      <td>760</td>\n",
       "      <td>30</td>\n",
       "      <td>0.82662</td>\n",
       "      <td>0.791943</td>\n",
       "      <td>0.790409</td>\n",
       "    </tr>\n",
       "  </tbody>\n",
       "</table>\n",
       "</div>"
      ],
      "text/plain": [
       "   leaves  depth  train_score  test_score  cv_score\n",
       "0     760     30      0.82662    0.791943  0.790409"
      ]
     },
     "execution_count": 50,
     "metadata": {},
     "output_type": "execute_result"
    }
   ],
   "source": [
    "clf = DecisionTreeClassifier(random_state=0,max_depth=gs.best_params_['max_depth'],min_samples_leaf=gs.best_params_['min_samples_leaf'])\n",
    "#Original Data\n",
    "scores = myDT(clf,X_train,y_train,X_test,y_test,cv)\n",
    "scores\n"
   ]
  },
  {
   "cell_type": "markdown",
   "metadata": {},
   "source": [
    "<div class=\"alert alert-block alert-warning\">\n",
    "The accuracy of the model (PCA Data, 40 components): <b>0.791771</b> \n",
    "</div>\n",
    "\n"
   ]
  },
  {
   "cell_type": "markdown",
   "metadata": {},
   "source": [
    "####----------------------------------------------------------------\n",
    "# ROC Curve\n",
    "####----------------------------------------------------------------"
   ]
  },
  {
   "cell_type": "code",
   "execution_count": 51,
   "metadata": {
    "pycharm": {
     "is_executing": false,
     "name": "#%%\n"
    }
   },
   "outputs": [
    {
     "data": {
      "image/png": "[encoded data removed]",
      "text/plain": [
       "<Figure size 432x288 with 1 Axes>"
      ]
     },
     "metadata": {
      "needs_background": "light"
     },
     "output_type": "display_data"
    }
   ],
   "source": [
    "from sklearn.linear_model import LogisticRegression\n",
    "from sklearn.metrics import roc_curve,auc\n",
    "\n",
    "dt_lm = LogisticRegression(solver='lbfgs', max_iter=1000)\n",
    "clf.fit(X_train, y_train)\n",
    "dt_lm.fit(X_test, y_test)\n",
    "\n",
    "y_pred_dt = clf.predict_proba(X_test)[:, 1]\n",
    "fpr_dt, tpr_dt, _ = roc_curve(y_test, y_pred_dt)\n",
    "roc_auc = auc(fpr_dt, tpr_dt)\n",
    "\n",
    "plt.figure(1)\n",
    "plt.plot([0, 1], [0, 1], 'k--')\n",
    "plt.plot(fpr_dt, tpr_dt, label='ROC of DT (AUC = %0.2f)' % roc_auc)\n",
    "plt.xlabel('False positive rate')\n",
    "plt.ylabel('True positive rate')\n",
    "plt.title('ROC curve')\n",
    "plt.legend(loc='best')\n",
    "plt.show()\n",
    "\n",
    "\n"
   ]
  },
  {
   "cell_type": "markdown",
   "metadata": {},
   "source": [
    "####----------------------------------------------------------------\n",
    "# Export Model\n",
    "####----------------------------------------------------------------"
   ]
  },
  {
   "cell_type": "code",
   "execution_count": 52,
   "metadata": {
    "pycharm": {
     "name": "#%%\n"
    }
   },
   "outputs": [
    {
     "name": "stderr",
     "output_type": "stream",
     "text": [
      "/Users/tranngocbao/.conda/envs/Project01/lib/python3.7/site-packages/sklearn/externals/joblib/__init__.py:15: DeprecationWarning: sklearn.externals.joblib is deprecated in 0.21 and will be removed in 0.23. Please import this functionality directly from joblib, which can be installed with: pip install joblib. If this warning is raised when loading pickled models, you may need to re-serialize those models with scikit-learn 0.21+.\n",
      "  warnings.warn(msg, category=DeprecationWarning)\n"
     ]
    },
    {
     "data": {
      "text/plain": [
       "['my_dt_model.pkl']"
      ]
     },
     "execution_count": 52,
     "metadata": {},
     "output_type": "execute_result"
    }
   ],
   "source": [
    "\n",
    "from sklearn.externals import joblib\n",
    "joblib.dump(clf, 'my_dt_model.pkl', compress=9)\n"
   ]
  },
  {
   "cell_type": "code",
   "execution_count": 53,
   "metadata": {
    "pycharm": {
     "name": "#%%\n"
    }
   },
   "outputs": [
    {
     "data": {
      "text/plain": [
       "array([0.74193548, 0.96      , 0.86666667, ..., 0.4       , 0.3       ,\n",
       "       0.72      ])"
      ]
     },
     "execution_count": 53,
     "metadata": {},
     "output_type": "execute_result"
    }
   ],
   "source": [
    "from sklearn.externals import joblib\n",
    "model_clone = joblib.load('my_dt_model.pkl')\n",
    "y_pred_dt = model_clone.predict_proba(X_test)[:, 1]\n",
    "y_pred_dt\n",
    "\n"
   ]
  }
 ],
 "metadata": {
  "kernelspec": {
   "display_name": "Python 3",
   "language": "python",
   "name": "python3"
  },
  "language_info": {
   "codemirror_mode": {
    "name": "ipython",
    "version": 3
   },
   "file_extension": ".py",
   "mimetype": "text/x-python",
   "name": "python",
   "nbconvert_exporter": "python",
   "pygments_lexer": "ipython3",
   "version": "3.7.3"
  },
  "pycharm": {
   "stem_cell": {
    "cell_type": "raw",
    "metadata": {
     "collapsed": false
    },
    "source": []
   }
  }
 },
 "nbformat": 4,
 "nbformat_minor": 1
}
