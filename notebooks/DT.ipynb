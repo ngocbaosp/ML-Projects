{
 "cells": [
  {
   "cell_type": "markdown",
   "metadata": {
    "collapsed": true,
    "pycharm": {
     "name": "#%% md\n"
    }
   },
   "source": [
    "<div class=\"alert alert-block alert-info\">\n",
    "<ul>\n",
    "<li>Course: Machine Learning</li>\n",
    "<li>Project: 01</li>\n",
    "<li>Team members</li>\n",
    "<li>Mauro Travieso Pena</li>\n",
    "<li>Quoc Huy Luong</li>\n",
    "<li>Ngoc Bao Tran</li>\n",
    "<ul>\n",
    "</div>\n",
    "\n"
   ]
  },
  {
   "cell_type": "markdown",
   "metadata": {},
   "source": [
    "# Classification with Decision Tree"
   ]
  },
  {
   "cell_type": "markdown",
   "metadata": {},
   "source": [
    "<div class=\"alert alert-block alert-info\">\n",
    "In this experiment, we use decision tree to classify the anmie dataset.\n",
    "<ol>\n",
    "<li>Clean and Transform Data</li>\n",
    "<li>Split Training/Testing dataset</li>\n",
    "<li>Run the model with 3 kind of data: Original data, Normalized data and PCA data</li>\n",
    "<li>Turning the model based on the learning curve and validation curve\n",
    "<ol><b>Learning Curve</b>\n",
    "<li>Using scikit-learn method\n",
    "#https://scikit-learn.org/stable/modules/learning_curve.html</li>\n",
    "<li>Our method (we did it, because we want to know how learning curve method works)</li>\n",
    "</ol>\n",
    "<ol><b>Validation Curve</b>\n",
    "<li>Using scikit-learn method\n",
    "https://scikit-learn.org/stable/modules/generated/sklearn.model_selection.validation_curve.html#sklearn.model_selection.validation_curve\n",
    "<li>Our method (we did it, because we want to know how Validation curve method works)</li>\n",
    "</ol>\n",
    "</li>\n",
    "<li>Grid search CV</li>\n",
    "<li>Final Evaluation</li>\n",
    "</ol> \n",
    "</div>\n"
   ]
  },
  {
   "cell_type": "markdown",
   "metadata": {},
   "source": [
    "# Import Libraries "
   ]
  },
  {
   "cell_type": "code",
   "execution_count": 1,
   "metadata": {
    "pycharm": {
     "name": "#%%\n"
    }
   },
   "outputs": [
    {
     "name": "stdout",
     "output_type": "stream",
     "text": [
      "importing Jupyter notebook from functions.ipynb\n",
      "importing Jupyter notebook from myPlot.ipynb\n"
     ]
    }
   ],
   "source": [
    "import pandas as pd\n",
    "import numpy as np\n",
    "import random as rnd\n",
    "import seaborn as sns\n",
    "import matplotlib.pyplot as plt\n",
    "%matplotlib inline\n",
    "\n",
    "import import_ipynb \n",
    "import functions as myLib\n",
    "import myPlot as myPlotLib\n",
    "\n"
   ]
  },
  {
   "cell_type": "markdown",
   "metadata": {},
   "source": [
    "# Load data from files"
   ]
  },
  {
   "cell_type": "code",
   "execution_count": 2,
   "metadata": {
    "pycharm": {
     "name": "#%%\n"
    }
   },
   "outputs": [],
   "source": [
    "RawData = pd.read_csv('../data/anime.csv')\n"
   ]
  },
  {
   "cell_type": "markdown",
   "metadata": {},
   "source": [
    "#### Clean and Transform Data"
   ]
  },
  {
   "cell_type": "code",
   "execution_count": 3,
   "metadata": {
    "pycharm": {
     "name": "#%%\n"
    }
   },
   "outputs": [],
   "source": [
    "Cleaned_Data = myLib.myCleanAndTransformData(RawData)\n",
    "Y_Data = Cleaned_Data['Class']\n",
    "X_Data = Cleaned_Data.drop(columns=['Class'])\n"
   ]
  },
  {
   "cell_type": "markdown",
   "metadata": {},
   "source": [
    "#### Normalize  Data"
   ]
  },
  {
   "cell_type": "code",
   "execution_count": 4,
   "metadata": {
    "pycharm": {
     "name": "#%%\n"
    }
   },
   "outputs": [],
   "source": [
    "Normalized_Data = myLib.myNormalize(X_Data)"
   ]
  },
  {
   "cell_type": "markdown",
   "metadata": {},
   "source": [
    "#### PCA"
   ]
  },
  {
   "cell_type": "code",
   "execution_count": 5,
   "metadata": {
    "pycharm": {
     "name": "#%%\n"
    }
   },
   "outputs": [
    {
     "data": {
      "text/html": [
       "<div>\n",
       "<style scoped>\n",
       "    .dataframe tbody tr th:only-of-type {\n",
       "        vertical-align: middle;\n",
       "    }\n",
       "\n",
       "    .dataframe tbody tr th {\n",
       "        vertical-align: top;\n",
       "    }\n",
       "\n",
       "    .dataframe thead th {\n",
       "        text-align: right;\n",
       "    }\n",
       "</style>\n",
       "<table border=\"1\" class=\"dataframe\">\n",
       "  <thead>\n",
       "    <tr style=\"text-align: right;\">\n",
       "      <th></th>\n",
       "      <th>0</th>\n",
       "      <th>1</th>\n",
       "      <th>2</th>\n",
       "      <th>3</th>\n",
       "      <th>4</th>\n",
       "      <th>5</th>\n",
       "      <th>6</th>\n",
       "      <th>7</th>\n",
       "      <th>8</th>\n",
       "      <th>9</th>\n",
       "    </tr>\n",
       "  </thead>\n",
       "  <tbody>\n",
       "    <tr>\n",
       "      <th>0</th>\n",
       "      <td>-0.311566</td>\n",
       "      <td>0.786508</td>\n",
       "      <td>-0.420806</td>\n",
       "      <td>0.005440</td>\n",
       "      <td>-0.078774</td>\n",
       "      <td>-0.048740</td>\n",
       "      <td>-0.064109</td>\n",
       "      <td>0.008353</td>\n",
       "      <td>-0.078268</td>\n",
       "      <td>-0.042001</td>\n",
       "    </tr>\n",
       "    <tr>\n",
       "      <th>1</th>\n",
       "      <td>-0.284842</td>\n",
       "      <td>0.763991</td>\n",
       "      <td>-0.411997</td>\n",
       "      <td>-0.010681</td>\n",
       "      <td>-0.110146</td>\n",
       "      <td>-0.085825</td>\n",
       "      <td>-0.098700</td>\n",
       "      <td>0.056725</td>\n",
       "      <td>-0.186539</td>\n",
       "      <td>-0.096231</td>\n",
       "    </tr>\n",
       "    <tr>\n",
       "      <th>2</th>\n",
       "      <td>-0.284838</td>\n",
       "      <td>0.767910</td>\n",
       "      <td>-0.395561</td>\n",
       "      <td>-0.007486</td>\n",
       "      <td>-0.091963</td>\n",
       "      <td>-0.059119</td>\n",
       "      <td>-0.063471</td>\n",
       "      <td>0.037338</td>\n",
       "      <td>-0.089840</td>\n",
       "      <td>-0.035867</td>\n",
       "    </tr>\n",
       "    <tr>\n",
       "      <th>3</th>\n",
       "      <td>-0.291600</td>\n",
       "      <td>0.777175</td>\n",
       "      <td>-0.408301</td>\n",
       "      <td>0.000475</td>\n",
       "      <td>-0.080976</td>\n",
       "      <td>-0.048984</td>\n",
       "      <td>-0.059074</td>\n",
       "      <td>0.020726</td>\n",
       "      <td>-0.073854</td>\n",
       "      <td>-0.037172</td>\n",
       "    </tr>\n",
       "    <tr>\n",
       "      <th>4</th>\n",
       "      <td>0.732145</td>\n",
       "      <td>-0.153155</td>\n",
       "      <td>-0.102202</td>\n",
       "      <td>-0.458213</td>\n",
       "      <td>0.816882</td>\n",
       "      <td>0.046145</td>\n",
       "      <td>0.015500</td>\n",
       "      <td>-0.064777</td>\n",
       "      <td>0.014777</td>\n",
       "      <td>-0.004327</td>\n",
       "    </tr>\n",
       "  </tbody>\n",
       "</table>\n",
       "</div>"
      ],
      "text/plain": [
       "          0         1         2         3         4         5         6  \\\n",
       "0 -0.311566  0.786508 -0.420806  0.005440 -0.078774 -0.048740 -0.064109   \n",
       "1 -0.284842  0.763991 -0.411997 -0.010681 -0.110146 -0.085825 -0.098700   \n",
       "2 -0.284838  0.767910 -0.395561 -0.007486 -0.091963 -0.059119 -0.063471   \n",
       "3 -0.291600  0.777175 -0.408301  0.000475 -0.080976 -0.048984 -0.059074   \n",
       "4  0.732145 -0.153155 -0.102202 -0.458213  0.816882  0.046145  0.015500   \n",
       "\n",
       "          7         8         9  \n",
       "0  0.008353 -0.078268 -0.042001  \n",
       "1  0.056725 -0.186539 -0.096231  \n",
       "2  0.037338 -0.089840 -0.035867  \n",
       "3  0.020726 -0.073854 -0.037172  \n",
       "4 -0.064777  0.014777 -0.004327  "
      ]
     },
     "execution_count": 5,
     "metadata": {},
     "output_type": "execute_result"
    }
   ],
   "source": [
    "n_components=10\n",
    "PCA_Data = myLib.myPCA(Normalized_Data,n_components)\n",
    "PCA_Data.head()\n"
   ]
  },
  {
   "cell_type": "markdown",
   "metadata": {
    "pycharm": {
     "name": "#%% md\n"
    }
   },
   "source": [
    "####----------------------------------------------------------------\n",
    "# Decision Tree Classification \n",
    "####----------------------------------------------------------------"
   ]
  },
  {
   "cell_type": "code",
   "execution_count": 6,
   "metadata": {
    "pycharm": {
     "name": "#%%\n"
    }
   },
   "outputs": [
    {
     "data": {
      "text/plain": [
       "0    1\n",
       "1    1\n",
       "2    1\n",
       "3    1\n",
       "4    1\n",
       "Name: Class, dtype: int64"
      ]
     },
     "execution_count": 6,
     "metadata": {},
     "output_type": "execute_result"
    }
   ],
   "source": [
    "Y_Data.head()"
   ]
  },
  {
   "cell_type": "code",
   "execution_count": 7,
   "metadata": {
    "pycharm": {
     "name": "#%%\n"
    }
   },
   "outputs": [
    {
     "data": {
      "text/html": [
       "<div>\n",
       "<style scoped>\n",
       "    .dataframe tbody tr th:only-of-type {\n",
       "        vertical-align: middle;\n",
       "    }\n",
       "\n",
       "    .dataframe tbody tr th {\n",
       "        vertical-align: top;\n",
       "    }\n",
       "\n",
       "    .dataframe thead th {\n",
       "        text-align: right;\n",
       "    }\n",
       "</style>\n",
       "<table border=\"1\" class=\"dataframe\">\n",
       "  <thead>\n",
       "    <tr style=\"text-align: right;\">\n",
       "      <th></th>\n",
       "      <th>episodes</th>\n",
       "      <th>members</th>\n",
       "      <th>type_Movie</th>\n",
       "      <th>type_Music</th>\n",
       "      <th>type_ONA</th>\n",
       "      <th>type_OVA</th>\n",
       "      <th>type_Special</th>\n",
       "      <th>type_TV</th>\n",
       "      <th>genre_ Adventure</th>\n",
       "      <th>genre_ Cars</th>\n",
       "      <th>...</th>\n",
       "      <th>genre_Shoujo</th>\n",
       "      <th>genre_Shounen</th>\n",
       "      <th>genre_Slice of Life</th>\n",
       "      <th>genre_Space</th>\n",
       "      <th>genre_Sports</th>\n",
       "      <th>genre_Super Power</th>\n",
       "      <th>genre_Supernatural</th>\n",
       "      <th>genre_Thriller</th>\n",
       "      <th>genre_Vampire</th>\n",
       "      <th>genre_Yaoi</th>\n",
       "    </tr>\n",
       "  </thead>\n",
       "  <tbody>\n",
       "    <tr>\n",
       "      <th>0</th>\n",
       "      <td>1</td>\n",
       "      <td>200630</td>\n",
       "      <td>1</td>\n",
       "      <td>0</td>\n",
       "      <td>0</td>\n",
       "      <td>0</td>\n",
       "      <td>0</td>\n",
       "      <td>0</td>\n",
       "      <td>0</td>\n",
       "      <td>0</td>\n",
       "      <td>...</td>\n",
       "      <td>0</td>\n",
       "      <td>0</td>\n",
       "      <td>0</td>\n",
       "      <td>0</td>\n",
       "      <td>0</td>\n",
       "      <td>0</td>\n",
       "      <td>0</td>\n",
       "      <td>0</td>\n",
       "      <td>0</td>\n",
       "      <td>0</td>\n",
       "    </tr>\n",
       "    <tr>\n",
       "      <th>1</th>\n",
       "      <td>1</td>\n",
       "      <td>200630</td>\n",
       "      <td>1</td>\n",
       "      <td>0</td>\n",
       "      <td>0</td>\n",
       "      <td>0</td>\n",
       "      <td>0</td>\n",
       "      <td>0</td>\n",
       "      <td>0</td>\n",
       "      <td>0</td>\n",
       "      <td>...</td>\n",
       "      <td>0</td>\n",
       "      <td>0</td>\n",
       "      <td>0</td>\n",
       "      <td>0</td>\n",
       "      <td>0</td>\n",
       "      <td>0</td>\n",
       "      <td>0</td>\n",
       "      <td>0</td>\n",
       "      <td>0</td>\n",
       "      <td>0</td>\n",
       "    </tr>\n",
       "    <tr>\n",
       "      <th>2</th>\n",
       "      <td>1</td>\n",
       "      <td>200630</td>\n",
       "      <td>1</td>\n",
       "      <td>0</td>\n",
       "      <td>0</td>\n",
       "      <td>0</td>\n",
       "      <td>0</td>\n",
       "      <td>0</td>\n",
       "      <td>0</td>\n",
       "      <td>0</td>\n",
       "      <td>...</td>\n",
       "      <td>0</td>\n",
       "      <td>0</td>\n",
       "      <td>0</td>\n",
       "      <td>0</td>\n",
       "      <td>0</td>\n",
       "      <td>0</td>\n",
       "      <td>0</td>\n",
       "      <td>0</td>\n",
       "      <td>0</td>\n",
       "      <td>0</td>\n",
       "    </tr>\n",
       "    <tr>\n",
       "      <th>3</th>\n",
       "      <td>1</td>\n",
       "      <td>200630</td>\n",
       "      <td>1</td>\n",
       "      <td>0</td>\n",
       "      <td>0</td>\n",
       "      <td>0</td>\n",
       "      <td>0</td>\n",
       "      <td>0</td>\n",
       "      <td>0</td>\n",
       "      <td>0</td>\n",
       "      <td>...</td>\n",
       "      <td>0</td>\n",
       "      <td>0</td>\n",
       "      <td>0</td>\n",
       "      <td>0</td>\n",
       "      <td>0</td>\n",
       "      <td>0</td>\n",
       "      <td>0</td>\n",
       "      <td>0</td>\n",
       "      <td>0</td>\n",
       "      <td>0</td>\n",
       "    </tr>\n",
       "    <tr>\n",
       "      <th>4</th>\n",
       "      <td>64</td>\n",
       "      <td>793665</td>\n",
       "      <td>0</td>\n",
       "      <td>0</td>\n",
       "      <td>0</td>\n",
       "      <td>0</td>\n",
       "      <td>0</td>\n",
       "      <td>1</td>\n",
       "      <td>0</td>\n",
       "      <td>0</td>\n",
       "      <td>...</td>\n",
       "      <td>0</td>\n",
       "      <td>0</td>\n",
       "      <td>0</td>\n",
       "      <td>0</td>\n",
       "      <td>0</td>\n",
       "      <td>0</td>\n",
       "      <td>0</td>\n",
       "      <td>0</td>\n",
       "      <td>0</td>\n",
       "      <td>0</td>\n",
       "    </tr>\n",
       "  </tbody>\n",
       "</table>\n",
       "<p>5 rows × 90 columns</p>\n",
       "</div>"
      ],
      "text/plain": [
       "  episodes  members  type_Movie  type_Music  type_ONA  type_OVA  type_Special  \\\n",
       "0        1   200630           1           0         0         0             0   \n",
       "1        1   200630           1           0         0         0             0   \n",
       "2        1   200630           1           0         0         0             0   \n",
       "3        1   200630           1           0         0         0             0   \n",
       "4       64   793665           0           0         0         0             0   \n",
       "\n",
       "   type_TV  genre_ Adventure  genre_ Cars  ...  genre_Shoujo  genre_Shounen  \\\n",
       "0        0                 0            0  ...             0              0   \n",
       "1        0                 0            0  ...             0              0   \n",
       "2        0                 0            0  ...             0              0   \n",
       "3        0                 0            0  ...             0              0   \n",
       "4        1                 0            0  ...             0              0   \n",
       "\n",
       "   genre_Slice of Life  genre_Space  genre_Sports  genre_Super Power  \\\n",
       "0                    0            0             0                  0   \n",
       "1                    0            0             0                  0   \n",
       "2                    0            0             0                  0   \n",
       "3                    0            0             0                  0   \n",
       "4                    0            0             0                  0   \n",
       "\n",
       "   genre_Supernatural  genre_Thriller  genre_Vampire  genre_Yaoi  \n",
       "0                   0               0              0           0  \n",
       "1                   0               0              0           0  \n",
       "2                   0               0              0           0  \n",
       "3                   0               0              0           0  \n",
       "4                   0               0              0           0  \n",
       "\n",
       "[5 rows x 90 columns]"
      ]
     },
     "execution_count": 7,
     "metadata": {},
     "output_type": "execute_result"
    }
   ],
   "source": [
    "X_Data.head()"
   ]
  },
  {
   "cell_type": "code",
   "execution_count": 8,
   "metadata": {
    "pycharm": {
     "name": "#%%\n"
    }
   },
   "outputs": [
    {
     "data": {
      "text/html": [
       "<div>\n",
       "<style scoped>\n",
       "    .dataframe tbody tr th:only-of-type {\n",
       "        vertical-align: middle;\n",
       "    }\n",
       "\n",
       "    .dataframe tbody tr th {\n",
       "        vertical-align: top;\n",
       "    }\n",
       "\n",
       "    .dataframe thead th {\n",
       "        text-align: right;\n",
       "    }\n",
       "</style>\n",
       "<table border=\"1\" class=\"dataframe\">\n",
       "  <thead>\n",
       "    <tr style=\"text-align: right;\">\n",
       "      <th></th>\n",
       "      <th>0</th>\n",
       "      <th>1</th>\n",
       "      <th>2</th>\n",
       "      <th>3</th>\n",
       "      <th>4</th>\n",
       "      <th>5</th>\n",
       "      <th>6</th>\n",
       "      <th>7</th>\n",
       "      <th>8</th>\n",
       "      <th>9</th>\n",
       "      <th>...</th>\n",
       "      <th>80</th>\n",
       "      <th>81</th>\n",
       "      <th>82</th>\n",
       "      <th>83</th>\n",
       "      <th>84</th>\n",
       "      <th>85</th>\n",
       "      <th>86</th>\n",
       "      <th>87</th>\n",
       "      <th>88</th>\n",
       "      <th>89</th>\n",
       "    </tr>\n",
       "  </thead>\n",
       "  <tbody>\n",
       "    <tr>\n",
       "      <th>0</th>\n",
       "      <td>0.000000</td>\n",
       "      <td>0.197867</td>\n",
       "      <td>1.0</td>\n",
       "      <td>0.0</td>\n",
       "      <td>0.0</td>\n",
       "      <td>0.0</td>\n",
       "      <td>0.0</td>\n",
       "      <td>0.0</td>\n",
       "      <td>0.0</td>\n",
       "      <td>0.0</td>\n",
       "      <td>...</td>\n",
       "      <td>0.0</td>\n",
       "      <td>0.0</td>\n",
       "      <td>0.0</td>\n",
       "      <td>0.0</td>\n",
       "      <td>0.0</td>\n",
       "      <td>0.0</td>\n",
       "      <td>0.0</td>\n",
       "      <td>0.0</td>\n",
       "      <td>0.0</td>\n",
       "      <td>0.0</td>\n",
       "    </tr>\n",
       "    <tr>\n",
       "      <th>1</th>\n",
       "      <td>0.000000</td>\n",
       "      <td>0.197867</td>\n",
       "      <td>1.0</td>\n",
       "      <td>0.0</td>\n",
       "      <td>0.0</td>\n",
       "      <td>0.0</td>\n",
       "      <td>0.0</td>\n",
       "      <td>0.0</td>\n",
       "      <td>0.0</td>\n",
       "      <td>0.0</td>\n",
       "      <td>...</td>\n",
       "      <td>0.0</td>\n",
       "      <td>0.0</td>\n",
       "      <td>0.0</td>\n",
       "      <td>0.0</td>\n",
       "      <td>0.0</td>\n",
       "      <td>0.0</td>\n",
       "      <td>0.0</td>\n",
       "      <td>0.0</td>\n",
       "      <td>0.0</td>\n",
       "      <td>0.0</td>\n",
       "    </tr>\n",
       "    <tr>\n",
       "      <th>2</th>\n",
       "      <td>0.000000</td>\n",
       "      <td>0.197867</td>\n",
       "      <td>1.0</td>\n",
       "      <td>0.0</td>\n",
       "      <td>0.0</td>\n",
       "      <td>0.0</td>\n",
       "      <td>0.0</td>\n",
       "      <td>0.0</td>\n",
       "      <td>0.0</td>\n",
       "      <td>0.0</td>\n",
       "      <td>...</td>\n",
       "      <td>0.0</td>\n",
       "      <td>0.0</td>\n",
       "      <td>0.0</td>\n",
       "      <td>0.0</td>\n",
       "      <td>0.0</td>\n",
       "      <td>0.0</td>\n",
       "      <td>0.0</td>\n",
       "      <td>0.0</td>\n",
       "      <td>0.0</td>\n",
       "      <td>0.0</td>\n",
       "    </tr>\n",
       "    <tr>\n",
       "      <th>3</th>\n",
       "      <td>0.000000</td>\n",
       "      <td>0.197867</td>\n",
       "      <td>1.0</td>\n",
       "      <td>0.0</td>\n",
       "      <td>0.0</td>\n",
       "      <td>0.0</td>\n",
       "      <td>0.0</td>\n",
       "      <td>0.0</td>\n",
       "      <td>0.0</td>\n",
       "      <td>0.0</td>\n",
       "      <td>...</td>\n",
       "      <td>0.0</td>\n",
       "      <td>0.0</td>\n",
       "      <td>0.0</td>\n",
       "      <td>0.0</td>\n",
       "      <td>0.0</td>\n",
       "      <td>0.0</td>\n",
       "      <td>0.0</td>\n",
       "      <td>0.0</td>\n",
       "      <td>0.0</td>\n",
       "      <td>0.0</td>\n",
       "    </tr>\n",
       "    <tr>\n",
       "      <th>4</th>\n",
       "      <td>0.034673</td>\n",
       "      <td>0.782769</td>\n",
       "      <td>0.0</td>\n",
       "      <td>0.0</td>\n",
       "      <td>0.0</td>\n",
       "      <td>0.0</td>\n",
       "      <td>0.0</td>\n",
       "      <td>1.0</td>\n",
       "      <td>0.0</td>\n",
       "      <td>0.0</td>\n",
       "      <td>...</td>\n",
       "      <td>0.0</td>\n",
       "      <td>0.0</td>\n",
       "      <td>0.0</td>\n",
       "      <td>0.0</td>\n",
       "      <td>0.0</td>\n",
       "      <td>0.0</td>\n",
       "      <td>0.0</td>\n",
       "      <td>0.0</td>\n",
       "      <td>0.0</td>\n",
       "      <td>0.0</td>\n",
       "    </tr>\n",
       "  </tbody>\n",
       "</table>\n",
       "<p>5 rows × 90 columns</p>\n",
       "</div>"
      ],
      "text/plain": [
       "         0         1    2    3    4    5    6    7    8    9   ...   80   81  \\\n",
       "0  0.000000  0.197867  1.0  0.0  0.0  0.0  0.0  0.0  0.0  0.0  ...  0.0  0.0   \n",
       "1  0.000000  0.197867  1.0  0.0  0.0  0.0  0.0  0.0  0.0  0.0  ...  0.0  0.0   \n",
       "2  0.000000  0.197867  1.0  0.0  0.0  0.0  0.0  0.0  0.0  0.0  ...  0.0  0.0   \n",
       "3  0.000000  0.197867  1.0  0.0  0.0  0.0  0.0  0.0  0.0  0.0  ...  0.0  0.0   \n",
       "4  0.034673  0.782769  0.0  0.0  0.0  0.0  0.0  1.0  0.0  0.0  ...  0.0  0.0   \n",
       "\n",
       "    82   83   84   85   86   87   88   89  \n",
       "0  0.0  0.0  0.0  0.0  0.0  0.0  0.0  0.0  \n",
       "1  0.0  0.0  0.0  0.0  0.0  0.0  0.0  0.0  \n",
       "2  0.0  0.0  0.0  0.0  0.0  0.0  0.0  0.0  \n",
       "3  0.0  0.0  0.0  0.0  0.0  0.0  0.0  0.0  \n",
       "4  0.0  0.0  0.0  0.0  0.0  0.0  0.0  0.0  \n",
       "\n",
       "[5 rows x 90 columns]"
      ]
     },
     "execution_count": 8,
     "metadata": {},
     "output_type": "execute_result"
    }
   ],
   "source": [
    "Normalized_Data.head()"
   ]
  },
  {
   "cell_type": "code",
   "execution_count": 9,
   "metadata": {
    "pycharm": {
     "name": "#%%\n"
    }
   },
   "outputs": [
    {
     "data": {
      "text/html": [
       "<div>\n",
       "<style scoped>\n",
       "    .dataframe tbody tr th:only-of-type {\n",
       "        vertical-align: middle;\n",
       "    }\n",
       "\n",
       "    .dataframe tbody tr th {\n",
       "        vertical-align: top;\n",
       "    }\n",
       "\n",
       "    .dataframe thead th {\n",
       "        text-align: right;\n",
       "    }\n",
       "</style>\n",
       "<table border=\"1\" class=\"dataframe\">\n",
       "  <thead>\n",
       "    <tr style=\"text-align: right;\">\n",
       "      <th></th>\n",
       "      <th>0</th>\n",
       "      <th>1</th>\n",
       "      <th>2</th>\n",
       "      <th>3</th>\n",
       "      <th>4</th>\n",
       "      <th>5</th>\n",
       "      <th>6</th>\n",
       "      <th>7</th>\n",
       "      <th>8</th>\n",
       "      <th>9</th>\n",
       "    </tr>\n",
       "  </thead>\n",
       "  <tbody>\n",
       "    <tr>\n",
       "      <th>0</th>\n",
       "      <td>-0.311566</td>\n",
       "      <td>0.786508</td>\n",
       "      <td>-0.420806</td>\n",
       "      <td>0.005440</td>\n",
       "      <td>-0.078774</td>\n",
       "      <td>-0.048740</td>\n",
       "      <td>-0.064109</td>\n",
       "      <td>0.008353</td>\n",
       "      <td>-0.078268</td>\n",
       "      <td>-0.042001</td>\n",
       "    </tr>\n",
       "    <tr>\n",
       "      <th>1</th>\n",
       "      <td>-0.284842</td>\n",
       "      <td>0.763991</td>\n",
       "      <td>-0.411997</td>\n",
       "      <td>-0.010681</td>\n",
       "      <td>-0.110146</td>\n",
       "      <td>-0.085825</td>\n",
       "      <td>-0.098700</td>\n",
       "      <td>0.056725</td>\n",
       "      <td>-0.186539</td>\n",
       "      <td>-0.096231</td>\n",
       "    </tr>\n",
       "    <tr>\n",
       "      <th>2</th>\n",
       "      <td>-0.284838</td>\n",
       "      <td>0.767910</td>\n",
       "      <td>-0.395561</td>\n",
       "      <td>-0.007486</td>\n",
       "      <td>-0.091963</td>\n",
       "      <td>-0.059119</td>\n",
       "      <td>-0.063471</td>\n",
       "      <td>0.037338</td>\n",
       "      <td>-0.089840</td>\n",
       "      <td>-0.035867</td>\n",
       "    </tr>\n",
       "    <tr>\n",
       "      <th>3</th>\n",
       "      <td>-0.291600</td>\n",
       "      <td>0.777175</td>\n",
       "      <td>-0.408301</td>\n",
       "      <td>0.000475</td>\n",
       "      <td>-0.080976</td>\n",
       "      <td>-0.048984</td>\n",
       "      <td>-0.059074</td>\n",
       "      <td>0.020726</td>\n",
       "      <td>-0.073854</td>\n",
       "      <td>-0.037172</td>\n",
       "    </tr>\n",
       "    <tr>\n",
       "      <th>4</th>\n",
       "      <td>0.732145</td>\n",
       "      <td>-0.153155</td>\n",
       "      <td>-0.102202</td>\n",
       "      <td>-0.458213</td>\n",
       "      <td>0.816882</td>\n",
       "      <td>0.046145</td>\n",
       "      <td>0.015500</td>\n",
       "      <td>-0.064777</td>\n",
       "      <td>0.014777</td>\n",
       "      <td>-0.004327</td>\n",
       "    </tr>\n",
       "  </tbody>\n",
       "</table>\n",
       "</div>"
      ],
      "text/plain": [
       "          0         1         2         3         4         5         6  \\\n",
       "0 -0.311566  0.786508 -0.420806  0.005440 -0.078774 -0.048740 -0.064109   \n",
       "1 -0.284842  0.763991 -0.411997 -0.010681 -0.110146 -0.085825 -0.098700   \n",
       "2 -0.284838  0.767910 -0.395561 -0.007486 -0.091963 -0.059119 -0.063471   \n",
       "3 -0.291600  0.777175 -0.408301  0.000475 -0.080976 -0.048984 -0.059074   \n",
       "4  0.732145 -0.153155 -0.102202 -0.458213  0.816882  0.046145  0.015500   \n",
       "\n",
       "          7         8         9  \n",
       "0  0.008353 -0.078268 -0.042001  \n",
       "1  0.056725 -0.186539 -0.096231  \n",
       "2  0.037338 -0.089840 -0.035867  \n",
       "3  0.020726 -0.073854 -0.037172  \n",
       "4 -0.064777  0.014777 -0.004327  "
      ]
     },
     "execution_count": 9,
     "metadata": {},
     "output_type": "execute_result"
    }
   ],
   "source": [
    "PCA_Data.head()\n"
   ]
  },
  {
   "cell_type": "markdown",
   "metadata": {},
   "source": [
    "####----------------------------------------------------------------\n",
    "#### Split Original Data\n",
    "####----------------------------------------------------------------"
   ]
  },
  {
   "cell_type": "code",
   "execution_count": 10,
   "metadata": {
    "pycharm": {
     "name": "#%%\n"
    }
   },
   "outputs": [
    {
     "data": {
      "text/html": [
       "<div>\n",
       "<style scoped>\n",
       "    .dataframe tbody tr th:only-of-type {\n",
       "        vertical-align: middle;\n",
       "    }\n",
       "\n",
       "    .dataframe tbody tr th {\n",
       "        vertical-align: top;\n",
       "    }\n",
       "\n",
       "    .dataframe thead th {\n",
       "        text-align: right;\n",
       "    }\n",
       "</style>\n",
       "<table border=\"1\" class=\"dataframe\">\n",
       "  <thead>\n",
       "    <tr style=\"text-align: right;\">\n",
       "      <th></th>\n",
       "      <th>episodes</th>\n",
       "      <th>members</th>\n",
       "      <th>type_Movie</th>\n",
       "      <th>type_Music</th>\n",
       "      <th>type_ONA</th>\n",
       "      <th>type_OVA</th>\n",
       "      <th>type_Special</th>\n",
       "      <th>type_TV</th>\n",
       "      <th>genre_ Adventure</th>\n",
       "      <th>genre_ Cars</th>\n",
       "      <th>...</th>\n",
       "      <th>genre_Shoujo</th>\n",
       "      <th>genre_Shounen</th>\n",
       "      <th>genre_Slice of Life</th>\n",
       "      <th>genre_Space</th>\n",
       "      <th>genre_Sports</th>\n",
       "      <th>genre_Super Power</th>\n",
       "      <th>genre_Supernatural</th>\n",
       "      <th>genre_Thriller</th>\n",
       "      <th>genre_Vampire</th>\n",
       "      <th>genre_Yaoi</th>\n",
       "    </tr>\n",
       "  </thead>\n",
       "  <tbody>\n",
       "    <tr>\n",
       "      <th>32729</th>\n",
       "      <td>2</td>\n",
       "      <td>132</td>\n",
       "      <td>0</td>\n",
       "      <td>0</td>\n",
       "      <td>0</td>\n",
       "      <td>0</td>\n",
       "      <td>1</td>\n",
       "      <td>0</td>\n",
       "      <td>0</td>\n",
       "      <td>0</td>\n",
       "      <td>...</td>\n",
       "      <td>0</td>\n",
       "      <td>0</td>\n",
       "      <td>0</td>\n",
       "      <td>0</td>\n",
       "      <td>0</td>\n",
       "      <td>0</td>\n",
       "      <td>0</td>\n",
       "      <td>0</td>\n",
       "      <td>0</td>\n",
       "      <td>0</td>\n",
       "    </tr>\n",
       "    <tr>\n",
       "      <th>24946</th>\n",
       "      <td>2</td>\n",
       "      <td>7051</td>\n",
       "      <td>0</td>\n",
       "      <td>0</td>\n",
       "      <td>0</td>\n",
       "      <td>1</td>\n",
       "      <td>0</td>\n",
       "      <td>0</td>\n",
       "      <td>0</td>\n",
       "      <td>0</td>\n",
       "      <td>...</td>\n",
       "      <td>0</td>\n",
       "      <td>0</td>\n",
       "      <td>0</td>\n",
       "      <td>0</td>\n",
       "      <td>0</td>\n",
       "      <td>0</td>\n",
       "      <td>0</td>\n",
       "      <td>0</td>\n",
       "      <td>0</td>\n",
       "      <td>0</td>\n",
       "    </tr>\n",
       "    <tr>\n",
       "      <th>8676</th>\n",
       "      <td>50</td>\n",
       "      <td>65896</td>\n",
       "      <td>0</td>\n",
       "      <td>0</td>\n",
       "      <td>0</td>\n",
       "      <td>0</td>\n",
       "      <td>0</td>\n",
       "      <td>1</td>\n",
       "      <td>0</td>\n",
       "      <td>0</td>\n",
       "      <td>...</td>\n",
       "      <td>0</td>\n",
       "      <td>0</td>\n",
       "      <td>0</td>\n",
       "      <td>0</td>\n",
       "      <td>0</td>\n",
       "      <td>0</td>\n",
       "      <td>0</td>\n",
       "      <td>0</td>\n",
       "      <td>0</td>\n",
       "      <td>0</td>\n",
       "    </tr>\n",
       "    <tr>\n",
       "      <th>13244</th>\n",
       "      <td>52</td>\n",
       "      <td>67936</td>\n",
       "      <td>0</td>\n",
       "      <td>0</td>\n",
       "      <td>0</td>\n",
       "      <td>0</td>\n",
       "      <td>0</td>\n",
       "      <td>1</td>\n",
       "      <td>0</td>\n",
       "      <td>0</td>\n",
       "      <td>...</td>\n",
       "      <td>0</td>\n",
       "      <td>0</td>\n",
       "      <td>0</td>\n",
       "      <td>0</td>\n",
       "      <td>0</td>\n",
       "      <td>0</td>\n",
       "      <td>0</td>\n",
       "      <td>0</td>\n",
       "      <td>0</td>\n",
       "      <td>0</td>\n",
       "    </tr>\n",
       "    <tr>\n",
       "      <th>29384</th>\n",
       "      <td>15</td>\n",
       "      <td>49</td>\n",
       "      <td>0</td>\n",
       "      <td>0</td>\n",
       "      <td>0</td>\n",
       "      <td>0</td>\n",
       "      <td>0</td>\n",
       "      <td>1</td>\n",
       "      <td>0</td>\n",
       "      <td>0</td>\n",
       "      <td>...</td>\n",
       "      <td>0</td>\n",
       "      <td>0</td>\n",
       "      <td>0</td>\n",
       "      <td>0</td>\n",
       "      <td>0</td>\n",
       "      <td>0</td>\n",
       "      <td>0</td>\n",
       "      <td>0</td>\n",
       "      <td>0</td>\n",
       "      <td>0</td>\n",
       "    </tr>\n",
       "  </tbody>\n",
       "</table>\n",
       "<p>5 rows × 90 columns</p>\n",
       "</div>"
      ],
      "text/plain": [
       "      episodes  members  type_Movie  type_Music  type_ONA  type_OVA  \\\n",
       "32729        2      132           0           0         0         0   \n",
       "24946        2     7051           0           0         0         1   \n",
       "8676        50    65896           0           0         0         0   \n",
       "13244       52    67936           0           0         0         0   \n",
       "29384       15       49           0           0         0         0   \n",
       "\n",
       "       type_Special  type_TV  genre_ Adventure  genre_ Cars  ...  \\\n",
       "32729             1        0                 0            0  ...   \n",
       "24946             0        0                 0            0  ...   \n",
       "8676              0        1                 0            0  ...   \n",
       "13244             0        1                 0            0  ...   \n",
       "29384             0        1                 0            0  ...   \n",
       "\n",
       "       genre_Shoujo  genre_Shounen  genre_Slice of Life  genre_Space  \\\n",
       "32729             0              0                    0            0   \n",
       "24946             0              0                    0            0   \n",
       "8676              0              0                    0            0   \n",
       "13244             0              0                    0            0   \n",
       "29384             0              0                    0            0   \n",
       "\n",
       "       genre_Sports  genre_Super Power  genre_Supernatural  genre_Thriller  \\\n",
       "32729             0                  0                   0               0   \n",
       "24946             0                  0                   0               0   \n",
       "8676              0                  0                   0               0   \n",
       "13244             0                  0                   0               0   \n",
       "29384             0                  0                   0               0   \n",
       "\n",
       "       genre_Vampire  genre_Yaoi  \n",
       "32729              0           0  \n",
       "24946              0           0  \n",
       "8676               0           0  \n",
       "13244              0           0  \n",
       "29384              0           0  \n",
       "\n",
       "[5 rows x 90 columns]"
      ]
     },
     "execution_count": 10,
     "metadata": {},
     "output_type": "execute_result"
    }
   ],
   "source": [
    "X_train, X_test, y_train, y_test  = myLib.mySplitData(X_Data,Y_Data,0.33,42)\n",
    "\n",
    "X_train.head()"
   ]
  },
  {
   "cell_type": "code",
   "execution_count": 11,
   "metadata": {
    "pycharm": {
     "name": "#%%\n"
    }
   },
   "outputs": [
    {
     "data": {
      "text/html": [
       "<div>\n",
       "<style scoped>\n",
       "    .dataframe tbody tr th:only-of-type {\n",
       "        vertical-align: middle;\n",
       "    }\n",
       "\n",
       "    .dataframe tbody tr th {\n",
       "        vertical-align: top;\n",
       "    }\n",
       "\n",
       "    .dataframe thead th {\n",
       "        text-align: right;\n",
       "    }\n",
       "</style>\n",
       "<table border=\"1\" class=\"dataframe\">\n",
       "  <thead>\n",
       "    <tr style=\"text-align: right;\">\n",
       "      <th></th>\n",
       "      <th>episodes</th>\n",
       "      <th>members</th>\n",
       "      <th>type_Movie</th>\n",
       "      <th>type_Music</th>\n",
       "      <th>type_ONA</th>\n",
       "      <th>type_OVA</th>\n",
       "      <th>type_Special</th>\n",
       "      <th>type_TV</th>\n",
       "      <th>genre_ Adventure</th>\n",
       "      <th>genre_ Cars</th>\n",
       "      <th>...</th>\n",
       "      <th>genre_Shoujo</th>\n",
       "      <th>genre_Shounen</th>\n",
       "      <th>genre_Slice of Life</th>\n",
       "      <th>genre_Space</th>\n",
       "      <th>genre_Sports</th>\n",
       "      <th>genre_Super Power</th>\n",
       "      <th>genre_Supernatural</th>\n",
       "      <th>genre_Thriller</th>\n",
       "      <th>genre_Vampire</th>\n",
       "      <th>genre_Yaoi</th>\n",
       "    </tr>\n",
       "  </thead>\n",
       "  <tbody>\n",
       "    <tr>\n",
       "      <th>22373</th>\n",
       "      <td>10</td>\n",
       "      <td>3331</td>\n",
       "      <td>0</td>\n",
       "      <td>0</td>\n",
       "      <td>1</td>\n",
       "      <td>0</td>\n",
       "      <td>0</td>\n",
       "      <td>0</td>\n",
       "      <td>0</td>\n",
       "      <td>0</td>\n",
       "      <td>...</td>\n",
       "      <td>0</td>\n",
       "      <td>0</td>\n",
       "      <td>0</td>\n",
       "      <td>0</td>\n",
       "      <td>0</td>\n",
       "      <td>0</td>\n",
       "      <td>0</td>\n",
       "      <td>0</td>\n",
       "      <td>0</td>\n",
       "      <td>0</td>\n",
       "    </tr>\n",
       "    <tr>\n",
       "      <th>10508</th>\n",
       "      <td>12</td>\n",
       "      <td>28423</td>\n",
       "      <td>0</td>\n",
       "      <td>0</td>\n",
       "      <td>0</td>\n",
       "      <td>0</td>\n",
       "      <td>0</td>\n",
       "      <td>1</td>\n",
       "      <td>0</td>\n",
       "      <td>0</td>\n",
       "      <td>...</td>\n",
       "      <td>0</td>\n",
       "      <td>0</td>\n",
       "      <td>0</td>\n",
       "      <td>0</td>\n",
       "      <td>0</td>\n",
       "      <td>0</td>\n",
       "      <td>0</td>\n",
       "      <td>0</td>\n",
       "      <td>0</td>\n",
       "      <td>0</td>\n",
       "    </tr>\n",
       "    <tr>\n",
       "      <th>11570</th>\n",
       "      <td>1</td>\n",
       "      <td>5078</td>\n",
       "      <td>1</td>\n",
       "      <td>0</td>\n",
       "      <td>0</td>\n",
       "      <td>0</td>\n",
       "      <td>0</td>\n",
       "      <td>0</td>\n",
       "      <td>0</td>\n",
       "      <td>0</td>\n",
       "      <td>...</td>\n",
       "      <td>0</td>\n",
       "      <td>0</td>\n",
       "      <td>0</td>\n",
       "      <td>0</td>\n",
       "      <td>0</td>\n",
       "      <td>0</td>\n",
       "      <td>0</td>\n",
       "      <td>0</td>\n",
       "      <td>0</td>\n",
       "      <td>0</td>\n",
       "    </tr>\n",
       "    <tr>\n",
       "      <th>22262</th>\n",
       "      <td>1</td>\n",
       "      <td>390</td>\n",
       "      <td>1</td>\n",
       "      <td>0</td>\n",
       "      <td>0</td>\n",
       "      <td>0</td>\n",
       "      <td>0</td>\n",
       "      <td>0</td>\n",
       "      <td>0</td>\n",
       "      <td>0</td>\n",
       "      <td>...</td>\n",
       "      <td>0</td>\n",
       "      <td>0</td>\n",
       "      <td>0</td>\n",
       "      <td>0</td>\n",
       "      <td>0</td>\n",
       "      <td>0</td>\n",
       "      <td>0</td>\n",
       "      <td>0</td>\n",
       "      <td>0</td>\n",
       "      <td>0</td>\n",
       "    </tr>\n",
       "    <tr>\n",
       "      <th>734</th>\n",
       "      <td>15</td>\n",
       "      <td>482268</td>\n",
       "      <td>0</td>\n",
       "      <td>0</td>\n",
       "      <td>0</td>\n",
       "      <td>0</td>\n",
       "      <td>0</td>\n",
       "      <td>1</td>\n",
       "      <td>0</td>\n",
       "      <td>0</td>\n",
       "      <td>...</td>\n",
       "      <td>0</td>\n",
       "      <td>0</td>\n",
       "      <td>0</td>\n",
       "      <td>0</td>\n",
       "      <td>0</td>\n",
       "      <td>0</td>\n",
       "      <td>0</td>\n",
       "      <td>0</td>\n",
       "      <td>0</td>\n",
       "      <td>0</td>\n",
       "    </tr>\n",
       "  </tbody>\n",
       "</table>\n",
       "<p>5 rows × 90 columns</p>\n",
       "</div>"
      ],
      "text/plain": [
       "      episodes  members  type_Movie  type_Music  type_ONA  type_OVA  \\\n",
       "22373       10     3331           0           0         1         0   \n",
       "10508       12    28423           0           0         0         0   \n",
       "11570        1     5078           1           0         0         0   \n",
       "22262        1      390           1           0         0         0   \n",
       "734         15   482268           0           0         0         0   \n",
       "\n",
       "       type_Special  type_TV  genre_ Adventure  genre_ Cars  ...  \\\n",
       "22373             0        0                 0            0  ...   \n",
       "10508             0        1                 0            0  ...   \n",
       "11570             0        0                 0            0  ...   \n",
       "22262             0        0                 0            0  ...   \n",
       "734               0        1                 0            0  ...   \n",
       "\n",
       "       genre_Shoujo  genre_Shounen  genre_Slice of Life  genre_Space  \\\n",
       "22373             0              0                    0            0   \n",
       "10508             0              0                    0            0   \n",
       "11570             0              0                    0            0   \n",
       "22262             0              0                    0            0   \n",
       "734               0              0                    0            0   \n",
       "\n",
       "       genre_Sports  genre_Super Power  genre_Supernatural  genre_Thriller  \\\n",
       "22373             0                  0                   0               0   \n",
       "10508             0                  0                   0               0   \n",
       "11570             0                  0                   0               0   \n",
       "22262             0                  0                   0               0   \n",
       "734               0                  0                   0               0   \n",
       "\n",
       "       genre_Vampire  genre_Yaoi  \n",
       "22373              0           0  \n",
       "10508              0           0  \n",
       "11570              0           0  \n",
       "22262              0           0  \n",
       "734                0           0  \n",
       "\n",
       "[5 rows x 90 columns]"
      ]
     },
     "execution_count": 11,
     "metadata": {},
     "output_type": "execute_result"
    }
   ],
   "source": [
    "X_test.head()"
   ]
  },
  {
   "cell_type": "code",
   "execution_count": 12,
   "metadata": {
    "pycharm": {
     "name": "#%%\n"
    }
   },
   "outputs": [
    {
     "data": {
      "text/plain": [
       "32729    1\n",
       "24946    0\n",
       "8676     1\n",
       "13244    1\n",
       "29384    1\n",
       "Name: Class, dtype: int64"
      ]
     },
     "execution_count": 12,
     "metadata": {},
     "output_type": "execute_result"
    }
   ],
   "source": [
    "y_train.head()"
   ]
  },
  {
   "cell_type": "code",
   "execution_count": 13,
   "metadata": {
    "pycharm": {
     "name": "#%%\n"
    }
   },
   "outputs": [
    {
     "data": {
      "text/plain": [
       "22373    0\n",
       "10508    1\n",
       "11570    1\n",
       "22262    0\n",
       "734      1\n",
       "Name: Class, dtype: int64"
      ]
     },
     "execution_count": 13,
     "metadata": {},
     "output_type": "execute_result"
    }
   ],
   "source": [
    "y_test.head()\n"
   ]
  },
  {
   "cell_type": "markdown",
   "metadata": {},
   "source": [
    "####----------------------------------------------------------------\n",
    "#### Split Original Normalized_Data\n",
    "####----------------------------------------------------------------"
   ]
  },
  {
   "cell_type": "code",
   "execution_count": 14,
   "metadata": {
    "pycharm": {
     "name": "#%%\n"
    }
   },
   "outputs": [
    {
     "data": {
      "text/html": [
       "<div>\n",
       "<style scoped>\n",
       "    .dataframe tbody tr th:only-of-type {\n",
       "        vertical-align: middle;\n",
       "    }\n",
       "\n",
       "    .dataframe tbody tr th {\n",
       "        vertical-align: top;\n",
       "    }\n",
       "\n",
       "    .dataframe thead th {\n",
       "        text-align: right;\n",
       "    }\n",
       "</style>\n",
       "<table border=\"1\" class=\"dataframe\">\n",
       "  <thead>\n",
       "    <tr style=\"text-align: right;\">\n",
       "      <th></th>\n",
       "      <th>0</th>\n",
       "      <th>1</th>\n",
       "      <th>2</th>\n",
       "      <th>3</th>\n",
       "      <th>4</th>\n",
       "      <th>5</th>\n",
       "      <th>6</th>\n",
       "      <th>7</th>\n",
       "      <th>8</th>\n",
       "      <th>9</th>\n",
       "      <th>...</th>\n",
       "      <th>80</th>\n",
       "      <th>81</th>\n",
       "      <th>82</th>\n",
       "      <th>83</th>\n",
       "      <th>84</th>\n",
       "      <th>85</th>\n",
       "      <th>86</th>\n",
       "      <th>87</th>\n",
       "      <th>88</th>\n",
       "      <th>89</th>\n",
       "    </tr>\n",
       "  </thead>\n",
       "  <tbody>\n",
       "    <tr>\n",
       "      <th>32729</th>\n",
       "      <td>0.000550</td>\n",
       "      <td>0.000118</td>\n",
       "      <td>0.0</td>\n",
       "      <td>0.0</td>\n",
       "      <td>0.0</td>\n",
       "      <td>0.0</td>\n",
       "      <td>1.0</td>\n",
       "      <td>0.0</td>\n",
       "      <td>0.0</td>\n",
       "      <td>0.0</td>\n",
       "      <td>...</td>\n",
       "      <td>0.0</td>\n",
       "      <td>0.0</td>\n",
       "      <td>0.0</td>\n",
       "      <td>0.0</td>\n",
       "      <td>0.0</td>\n",
       "      <td>0.0</td>\n",
       "      <td>0.0</td>\n",
       "      <td>0.0</td>\n",
       "      <td>0.0</td>\n",
       "      <td>0.0</td>\n",
       "    </tr>\n",
       "    <tr>\n",
       "      <th>24946</th>\n",
       "      <td>0.000550</td>\n",
       "      <td>0.006942</td>\n",
       "      <td>0.0</td>\n",
       "      <td>0.0</td>\n",
       "      <td>0.0</td>\n",
       "      <td>1.0</td>\n",
       "      <td>0.0</td>\n",
       "      <td>0.0</td>\n",
       "      <td>0.0</td>\n",
       "      <td>0.0</td>\n",
       "      <td>...</td>\n",
       "      <td>0.0</td>\n",
       "      <td>0.0</td>\n",
       "      <td>0.0</td>\n",
       "      <td>0.0</td>\n",
       "      <td>0.0</td>\n",
       "      <td>0.0</td>\n",
       "      <td>0.0</td>\n",
       "      <td>0.0</td>\n",
       "      <td>0.0</td>\n",
       "      <td>0.0</td>\n",
       "    </tr>\n",
       "    <tr>\n",
       "      <th>8676</th>\n",
       "      <td>0.026968</td>\n",
       "      <td>0.064980</td>\n",
       "      <td>0.0</td>\n",
       "      <td>0.0</td>\n",
       "      <td>0.0</td>\n",
       "      <td>0.0</td>\n",
       "      <td>0.0</td>\n",
       "      <td>1.0</td>\n",
       "      <td>0.0</td>\n",
       "      <td>0.0</td>\n",
       "      <td>...</td>\n",
       "      <td>0.0</td>\n",
       "      <td>0.0</td>\n",
       "      <td>0.0</td>\n",
       "      <td>0.0</td>\n",
       "      <td>0.0</td>\n",
       "      <td>0.0</td>\n",
       "      <td>0.0</td>\n",
       "      <td>0.0</td>\n",
       "      <td>0.0</td>\n",
       "      <td>0.0</td>\n",
       "    </tr>\n",
       "    <tr>\n",
       "      <th>13244</th>\n",
       "      <td>0.028068</td>\n",
       "      <td>0.066992</td>\n",
       "      <td>0.0</td>\n",
       "      <td>0.0</td>\n",
       "      <td>0.0</td>\n",
       "      <td>0.0</td>\n",
       "      <td>0.0</td>\n",
       "      <td>1.0</td>\n",
       "      <td>0.0</td>\n",
       "      <td>0.0</td>\n",
       "      <td>...</td>\n",
       "      <td>0.0</td>\n",
       "      <td>0.0</td>\n",
       "      <td>0.0</td>\n",
       "      <td>0.0</td>\n",
       "      <td>0.0</td>\n",
       "      <td>0.0</td>\n",
       "      <td>0.0</td>\n",
       "      <td>0.0</td>\n",
       "      <td>0.0</td>\n",
       "      <td>0.0</td>\n",
       "    </tr>\n",
       "    <tr>\n",
       "      <th>29384</th>\n",
       "      <td>0.007705</td>\n",
       "      <td>0.000036</td>\n",
       "      <td>0.0</td>\n",
       "      <td>0.0</td>\n",
       "      <td>0.0</td>\n",
       "      <td>0.0</td>\n",
       "      <td>0.0</td>\n",
       "      <td>1.0</td>\n",
       "      <td>0.0</td>\n",
       "      <td>0.0</td>\n",
       "      <td>...</td>\n",
       "      <td>0.0</td>\n",
       "      <td>0.0</td>\n",
       "      <td>0.0</td>\n",
       "      <td>0.0</td>\n",
       "      <td>0.0</td>\n",
       "      <td>0.0</td>\n",
       "      <td>0.0</td>\n",
       "      <td>0.0</td>\n",
       "      <td>0.0</td>\n",
       "      <td>0.0</td>\n",
       "    </tr>\n",
       "  </tbody>\n",
       "</table>\n",
       "<p>5 rows × 90 columns</p>\n",
       "</div>"
      ],
      "text/plain": [
       "             0         1    2    3    4    5    6    7    8    9   ...   80  \\\n",
       "32729  0.000550  0.000118  0.0  0.0  0.0  0.0  1.0  0.0  0.0  0.0  ...  0.0   \n",
       "24946  0.000550  0.006942  0.0  0.0  0.0  1.0  0.0  0.0  0.0  0.0  ...  0.0   \n",
       "8676   0.026968  0.064980  0.0  0.0  0.0  0.0  0.0  1.0  0.0  0.0  ...  0.0   \n",
       "13244  0.028068  0.066992  0.0  0.0  0.0  0.0  0.0  1.0  0.0  0.0  ...  0.0   \n",
       "29384  0.007705  0.000036  0.0  0.0  0.0  0.0  0.0  1.0  0.0  0.0  ...  0.0   \n",
       "\n",
       "        81   82   83   84   85   86   87   88   89  \n",
       "32729  0.0  0.0  0.0  0.0  0.0  0.0  0.0  0.0  0.0  \n",
       "24946  0.0  0.0  0.0  0.0  0.0  0.0  0.0  0.0  0.0  \n",
       "8676   0.0  0.0  0.0  0.0  0.0  0.0  0.0  0.0  0.0  \n",
       "13244  0.0  0.0  0.0  0.0  0.0  0.0  0.0  0.0  0.0  \n",
       "29384  0.0  0.0  0.0  0.0  0.0  0.0  0.0  0.0  0.0  \n",
       "\n",
       "[5 rows x 90 columns]"
      ]
     },
     "execution_count": 14,
     "metadata": {},
     "output_type": "execute_result"
    }
   ],
   "source": [
    "Normalized_X_train, Normalized_X_test, Normalized_y_train, Normalized_y_test  = myLib.mySplitData(Normalized_Data,Y_Data,0.33,42)\n",
    "\n",
    "Normalized_X_train.head()"
   ]
  },
  {
   "cell_type": "code",
   "execution_count": 15,
   "metadata": {
    "pycharm": {
     "name": "#%%\n"
    }
   },
   "outputs": [
    {
     "data": {
      "text/html": [
       "<div>\n",
       "<style scoped>\n",
       "    .dataframe tbody tr th:only-of-type {\n",
       "        vertical-align: middle;\n",
       "    }\n",
       "\n",
       "    .dataframe tbody tr th {\n",
       "        vertical-align: top;\n",
       "    }\n",
       "\n",
       "    .dataframe thead th {\n",
       "        text-align: right;\n",
       "    }\n",
       "</style>\n",
       "<table border=\"1\" class=\"dataframe\">\n",
       "  <thead>\n",
       "    <tr style=\"text-align: right;\">\n",
       "      <th></th>\n",
       "      <th>0</th>\n",
       "      <th>1</th>\n",
       "      <th>2</th>\n",
       "      <th>3</th>\n",
       "      <th>4</th>\n",
       "      <th>5</th>\n",
       "      <th>6</th>\n",
       "      <th>7</th>\n",
       "      <th>8</th>\n",
       "      <th>9</th>\n",
       "      <th>...</th>\n",
       "      <th>80</th>\n",
       "      <th>81</th>\n",
       "      <th>82</th>\n",
       "      <th>83</th>\n",
       "      <th>84</th>\n",
       "      <th>85</th>\n",
       "      <th>86</th>\n",
       "      <th>87</th>\n",
       "      <th>88</th>\n",
       "      <th>89</th>\n",
       "    </tr>\n",
       "  </thead>\n",
       "  <tbody>\n",
       "    <tr>\n",
       "      <th>22373</th>\n",
       "      <td>0.004953</td>\n",
       "      <td>0.003273</td>\n",
       "      <td>0.0</td>\n",
       "      <td>0.0</td>\n",
       "      <td>1.0</td>\n",
       "      <td>0.0</td>\n",
       "      <td>0.0</td>\n",
       "      <td>0.0</td>\n",
       "      <td>0.0</td>\n",
       "      <td>0.0</td>\n",
       "      <td>...</td>\n",
       "      <td>0.0</td>\n",
       "      <td>0.0</td>\n",
       "      <td>0.0</td>\n",
       "      <td>0.0</td>\n",
       "      <td>0.0</td>\n",
       "      <td>0.0</td>\n",
       "      <td>0.0</td>\n",
       "      <td>0.0</td>\n",
       "      <td>0.0</td>\n",
       "      <td>0.0</td>\n",
       "    </tr>\n",
       "    <tr>\n",
       "      <th>10508</th>\n",
       "      <td>0.006054</td>\n",
       "      <td>0.028021</td>\n",
       "      <td>0.0</td>\n",
       "      <td>0.0</td>\n",
       "      <td>0.0</td>\n",
       "      <td>0.0</td>\n",
       "      <td>0.0</td>\n",
       "      <td>1.0</td>\n",
       "      <td>0.0</td>\n",
       "      <td>0.0</td>\n",
       "      <td>...</td>\n",
       "      <td>0.0</td>\n",
       "      <td>0.0</td>\n",
       "      <td>0.0</td>\n",
       "      <td>0.0</td>\n",
       "      <td>0.0</td>\n",
       "      <td>0.0</td>\n",
       "      <td>0.0</td>\n",
       "      <td>0.0</td>\n",
       "      <td>0.0</td>\n",
       "      <td>0.0</td>\n",
       "    </tr>\n",
       "    <tr>\n",
       "      <th>11570</th>\n",
       "      <td>0.000000</td>\n",
       "      <td>0.004997</td>\n",
       "      <td>1.0</td>\n",
       "      <td>0.0</td>\n",
       "      <td>0.0</td>\n",
       "      <td>0.0</td>\n",
       "      <td>0.0</td>\n",
       "      <td>0.0</td>\n",
       "      <td>0.0</td>\n",
       "      <td>0.0</td>\n",
       "      <td>...</td>\n",
       "      <td>0.0</td>\n",
       "      <td>0.0</td>\n",
       "      <td>0.0</td>\n",
       "      <td>0.0</td>\n",
       "      <td>0.0</td>\n",
       "      <td>0.0</td>\n",
       "      <td>0.0</td>\n",
       "      <td>0.0</td>\n",
       "      <td>0.0</td>\n",
       "      <td>0.0</td>\n",
       "    </tr>\n",
       "    <tr>\n",
       "      <th>22262</th>\n",
       "      <td>0.000000</td>\n",
       "      <td>0.000373</td>\n",
       "      <td>1.0</td>\n",
       "      <td>0.0</td>\n",
       "      <td>0.0</td>\n",
       "      <td>0.0</td>\n",
       "      <td>0.0</td>\n",
       "      <td>0.0</td>\n",
       "      <td>0.0</td>\n",
       "      <td>0.0</td>\n",
       "      <td>...</td>\n",
       "      <td>0.0</td>\n",
       "      <td>0.0</td>\n",
       "      <td>0.0</td>\n",
       "      <td>0.0</td>\n",
       "      <td>0.0</td>\n",
       "      <td>0.0</td>\n",
       "      <td>0.0</td>\n",
       "      <td>0.0</td>\n",
       "      <td>0.0</td>\n",
       "      <td>0.0</td>\n",
       "    </tr>\n",
       "    <tr>\n",
       "      <th>734</th>\n",
       "      <td>0.007705</td>\n",
       "      <td>0.475642</td>\n",
       "      <td>0.0</td>\n",
       "      <td>0.0</td>\n",
       "      <td>0.0</td>\n",
       "      <td>0.0</td>\n",
       "      <td>0.0</td>\n",
       "      <td>1.0</td>\n",
       "      <td>0.0</td>\n",
       "      <td>0.0</td>\n",
       "      <td>...</td>\n",
       "      <td>0.0</td>\n",
       "      <td>0.0</td>\n",
       "      <td>0.0</td>\n",
       "      <td>0.0</td>\n",
       "      <td>0.0</td>\n",
       "      <td>0.0</td>\n",
       "      <td>0.0</td>\n",
       "      <td>0.0</td>\n",
       "      <td>0.0</td>\n",
       "      <td>0.0</td>\n",
       "    </tr>\n",
       "  </tbody>\n",
       "</table>\n",
       "<p>5 rows × 90 columns</p>\n",
       "</div>"
      ],
      "text/plain": [
       "             0         1    2    3    4    5    6    7    8    9   ...   80  \\\n",
       "22373  0.004953  0.003273  0.0  0.0  1.0  0.0  0.0  0.0  0.0  0.0  ...  0.0   \n",
       "10508  0.006054  0.028021  0.0  0.0  0.0  0.0  0.0  1.0  0.0  0.0  ...  0.0   \n",
       "11570  0.000000  0.004997  1.0  0.0  0.0  0.0  0.0  0.0  0.0  0.0  ...  0.0   \n",
       "22262  0.000000  0.000373  1.0  0.0  0.0  0.0  0.0  0.0  0.0  0.0  ...  0.0   \n",
       "734    0.007705  0.475642  0.0  0.0  0.0  0.0  0.0  1.0  0.0  0.0  ...  0.0   \n",
       "\n",
       "        81   82   83   84   85   86   87   88   89  \n",
       "22373  0.0  0.0  0.0  0.0  0.0  0.0  0.0  0.0  0.0  \n",
       "10508  0.0  0.0  0.0  0.0  0.0  0.0  0.0  0.0  0.0  \n",
       "11570  0.0  0.0  0.0  0.0  0.0  0.0  0.0  0.0  0.0  \n",
       "22262  0.0  0.0  0.0  0.0  0.0  0.0  0.0  0.0  0.0  \n",
       "734    0.0  0.0  0.0  0.0  0.0  0.0  0.0  0.0  0.0  \n",
       "\n",
       "[5 rows x 90 columns]"
      ]
     },
     "execution_count": 15,
     "metadata": {},
     "output_type": "execute_result"
    }
   ],
   "source": [
    "Normalized_X_test.head()"
   ]
  },
  {
   "cell_type": "code",
   "execution_count": 16,
   "metadata": {
    "pycharm": {
     "name": "#%%\n"
    }
   },
   "outputs": [
    {
     "data": {
      "text/plain": [
       "32729    1\n",
       "24946    0\n",
       "8676     1\n",
       "13244    1\n",
       "29384    1\n",
       "Name: Class, dtype: int64"
      ]
     },
     "execution_count": 16,
     "metadata": {},
     "output_type": "execute_result"
    }
   ],
   "source": [
    "Normalized_y_train.head()"
   ]
  },
  {
   "cell_type": "code",
   "execution_count": 17,
   "metadata": {
    "pycharm": {
     "name": "#%%\n"
    }
   },
   "outputs": [
    {
     "data": {
      "text/plain": [
       "22373    0\n",
       "10508    1\n",
       "11570    1\n",
       "22262    0\n",
       "734      1\n",
       "Name: Class, dtype: int64"
      ]
     },
     "execution_count": 17,
     "metadata": {},
     "output_type": "execute_result"
    }
   ],
   "source": [
    "Normalized_y_test.head()\n"
   ]
  },
  {
   "cell_type": "markdown",
   "metadata": {},
   "source": [
    "####----------------------------------------------------------------\n",
    "#### Split  PCA_Data\n",
    "####----------------------------------------------------------------"
   ]
  },
  {
   "cell_type": "code",
   "execution_count": 18,
   "metadata": {
    "pycharm": {
     "name": "#%%\n"
    }
   },
   "outputs": [
    {
     "data": {
      "text/html": [
       "<div>\n",
       "<style scoped>\n",
       "    .dataframe tbody tr th:only-of-type {\n",
       "        vertical-align: middle;\n",
       "    }\n",
       "\n",
       "    .dataframe tbody tr th {\n",
       "        vertical-align: top;\n",
       "    }\n",
       "\n",
       "    .dataframe thead th {\n",
       "        text-align: right;\n",
       "    }\n",
       "</style>\n",
       "<table border=\"1\" class=\"dataframe\">\n",
       "  <thead>\n",
       "    <tr style=\"text-align: right;\">\n",
       "      <th></th>\n",
       "      <th>0</th>\n",
       "      <th>1</th>\n",
       "      <th>2</th>\n",
       "      <th>3</th>\n",
       "      <th>4</th>\n",
       "      <th>5</th>\n",
       "      <th>6</th>\n",
       "      <th>7</th>\n",
       "      <th>8</th>\n",
       "      <th>9</th>\n",
       "    </tr>\n",
       "  </thead>\n",
       "  <tbody>\n",
       "    <tr>\n",
       "      <th>32729</th>\n",
       "      <td>-0.222553</td>\n",
       "      <td>0.292973</td>\n",
       "      <td>0.905562</td>\n",
       "      <td>-0.156338</td>\n",
       "      <td>-0.108067</td>\n",
       "      <td>-0.031688</td>\n",
       "      <td>-0.019828</td>\n",
       "      <td>0.048377</td>\n",
       "      <td>-0.031357</td>\n",
       "      <td>0.006935</td>\n",
       "    </tr>\n",
       "    <tr>\n",
       "      <th>24946</th>\n",
       "      <td>-0.645160</td>\n",
       "      <td>-0.559037</td>\n",
       "      <td>-0.134425</td>\n",
       "      <td>-0.006432</td>\n",
       "      <td>-0.054657</td>\n",
       "      <td>-0.037022</td>\n",
       "      <td>-0.022677</td>\n",
       "      <td>-0.012328</td>\n",
       "      <td>-0.030273</td>\n",
       "      <td>0.001723</td>\n",
       "    </tr>\n",
       "    <tr>\n",
       "      <th>8676</th>\n",
       "      <td>0.697664</td>\n",
       "      <td>-0.148216</td>\n",
       "      <td>-0.076757</td>\n",
       "      <td>-0.039287</td>\n",
       "      <td>-0.073585</td>\n",
       "      <td>-0.033570</td>\n",
       "      <td>-0.019143</td>\n",
       "      <td>0.014873</td>\n",
       "      <td>-0.033390</td>\n",
       "      <td>-0.001212</td>\n",
       "    </tr>\n",
       "    <tr>\n",
       "      <th>13244</th>\n",
       "      <td>0.704243</td>\n",
       "      <td>-0.156340</td>\n",
       "      <td>-0.072737</td>\n",
       "      <td>-0.051130</td>\n",
       "      <td>-0.100128</td>\n",
       "      <td>-0.052591</td>\n",
       "      <td>-0.033179</td>\n",
       "      <td>0.053795</td>\n",
       "      <td>-0.060146</td>\n",
       "      <td>-0.014314</td>\n",
       "    </tr>\n",
       "    <tr>\n",
       "      <th>29384</th>\n",
       "      <td>0.702786</td>\n",
       "      <td>-0.119935</td>\n",
       "      <td>-0.090771</td>\n",
       "      <td>-0.060589</td>\n",
       "      <td>-0.137146</td>\n",
       "      <td>-0.101114</td>\n",
       "      <td>-0.122273</td>\n",
       "      <td>0.068479</td>\n",
       "      <td>-0.332385</td>\n",
       "      <td>0.742195</td>\n",
       "    </tr>\n",
       "  </tbody>\n",
       "</table>\n",
       "</div>"
      ],
      "text/plain": [
       "              0         1         2         3         4         5         6  \\\n",
       "32729 -0.222553  0.292973  0.905562 -0.156338 -0.108067 -0.031688 -0.019828   \n",
       "24946 -0.645160 -0.559037 -0.134425 -0.006432 -0.054657 -0.037022 -0.022677   \n",
       "8676   0.697664 -0.148216 -0.076757 -0.039287 -0.073585 -0.033570 -0.019143   \n",
       "13244  0.704243 -0.156340 -0.072737 -0.051130 -0.100128 -0.052591 -0.033179   \n",
       "29384  0.702786 -0.119935 -0.090771 -0.060589 -0.137146 -0.101114 -0.122273   \n",
       "\n",
       "              7         8         9  \n",
       "32729  0.048377 -0.031357  0.006935  \n",
       "24946 -0.012328 -0.030273  0.001723  \n",
       "8676   0.014873 -0.033390 -0.001212  \n",
       "13244  0.053795 -0.060146 -0.014314  \n",
       "29384  0.068479 -0.332385  0.742195  "
      ]
     },
     "execution_count": 18,
     "metadata": {},
     "output_type": "execute_result"
    }
   ],
   "source": [
    "PCA_X_train, PCA_X_test, PCA_y_train, PCA_y_test  = myLib.mySplitData(PCA_Data,Y_Data,0.33,42)\n",
    "\n",
    "PCA_X_train.head()"
   ]
  },
  {
   "cell_type": "code",
   "execution_count": 19,
   "metadata": {
    "pycharm": {
     "name": "#%%\n"
    }
   },
   "outputs": [
    {
     "data": {
      "text/html": [
       "<div>\n",
       "<style scoped>\n",
       "    .dataframe tbody tr th:only-of-type {\n",
       "        vertical-align: middle;\n",
       "    }\n",
       "\n",
       "    .dataframe tbody tr th {\n",
       "        vertical-align: top;\n",
       "    }\n",
       "\n",
       "    .dataframe thead th {\n",
       "        text-align: right;\n",
       "    }\n",
       "</style>\n",
       "<table border=\"1\" class=\"dataframe\">\n",
       "  <thead>\n",
       "    <tr style=\"text-align: right;\">\n",
       "      <th></th>\n",
       "      <th>0</th>\n",
       "      <th>1</th>\n",
       "      <th>2</th>\n",
       "      <th>3</th>\n",
       "      <th>4</th>\n",
       "      <th>5</th>\n",
       "      <th>6</th>\n",
       "      <th>7</th>\n",
       "      <th>8</th>\n",
       "      <th>9</th>\n",
       "    </tr>\n",
       "  </thead>\n",
       "  <tbody>\n",
       "    <tr>\n",
       "      <th>22373</th>\n",
       "      <td>-0.124244</td>\n",
       "      <td>0.125882</td>\n",
       "      <td>0.130222</td>\n",
       "      <td>0.040079</td>\n",
       "      <td>-0.038877</td>\n",
       "      <td>0.016521</td>\n",
       "      <td>0.276782</td>\n",
       "      <td>0.948745</td>\n",
       "      <td>0.311747</td>\n",
       "      <td>0.002317</td>\n",
       "    </tr>\n",
       "    <tr>\n",
       "      <th>10508</th>\n",
       "      <td>0.709170</td>\n",
       "      <td>-0.165195</td>\n",
       "      <td>-0.059522</td>\n",
       "      <td>-0.058725</td>\n",
       "      <td>-0.111193</td>\n",
       "      <td>-0.062395</td>\n",
       "      <td>-0.037417</td>\n",
       "      <td>0.071079</td>\n",
       "      <td>-0.076092</td>\n",
       "      <td>-0.012449</td>\n",
       "    </tr>\n",
       "    <tr>\n",
       "      <th>11570</th>\n",
       "      <td>-0.303163</td>\n",
       "      <td>0.781798</td>\n",
       "      <td>-0.421080</td>\n",
       "      <td>-0.036693</td>\n",
       "      <td>-0.226422</td>\n",
       "      <td>0.908944</td>\n",
       "      <td>0.063172</td>\n",
       "      <td>-0.181186</td>\n",
       "      <td>0.053465</td>\n",
       "      <td>-0.010587</td>\n",
       "    </tr>\n",
       "    <tr>\n",
       "      <th>22262</th>\n",
       "      <td>-0.292557</td>\n",
       "      <td>0.765531</td>\n",
       "      <td>-0.409837</td>\n",
       "      <td>-0.008726</td>\n",
       "      <td>-0.110591</td>\n",
       "      <td>-0.084242</td>\n",
       "      <td>-0.098004</td>\n",
       "      <td>0.059869</td>\n",
       "      <td>-0.186340</td>\n",
       "      <td>-0.093387</td>\n",
       "    </tr>\n",
       "    <tr>\n",
       "      <th>734</th>\n",
       "      <td>0.719919</td>\n",
       "      <td>-0.159428</td>\n",
       "      <td>-0.077162</td>\n",
       "      <td>-0.055194</td>\n",
       "      <td>-0.099199</td>\n",
       "      <td>-0.055851</td>\n",
       "      <td>-0.034601</td>\n",
       "      <td>0.047338</td>\n",
       "      <td>-0.060556</td>\n",
       "      <td>-0.020199</td>\n",
       "    </tr>\n",
       "  </tbody>\n",
       "</table>\n",
       "</div>"
      ],
      "text/plain": [
       "              0         1         2         3         4         5         6  \\\n",
       "22373 -0.124244  0.125882  0.130222  0.040079 -0.038877  0.016521  0.276782   \n",
       "10508  0.709170 -0.165195 -0.059522 -0.058725 -0.111193 -0.062395 -0.037417   \n",
       "11570 -0.303163  0.781798 -0.421080 -0.036693 -0.226422  0.908944  0.063172   \n",
       "22262 -0.292557  0.765531 -0.409837 -0.008726 -0.110591 -0.084242 -0.098004   \n",
       "734    0.719919 -0.159428 -0.077162 -0.055194 -0.099199 -0.055851 -0.034601   \n",
       "\n",
       "              7         8         9  \n",
       "22373  0.948745  0.311747  0.002317  \n",
       "10508  0.071079 -0.076092 -0.012449  \n",
       "11570 -0.181186  0.053465 -0.010587  \n",
       "22262  0.059869 -0.186340 -0.093387  \n",
       "734    0.047338 -0.060556 -0.020199  "
      ]
     },
     "execution_count": 19,
     "metadata": {},
     "output_type": "execute_result"
    }
   ],
   "source": [
    "PCA_X_test.head()"
   ]
  },
  {
   "cell_type": "code",
   "execution_count": 20,
   "metadata": {
    "pycharm": {
     "name": "#%%\n"
    }
   },
   "outputs": [
    {
     "data": {
      "text/plain": [
       "32729    1\n",
       "24946    0\n",
       "8676     1\n",
       "13244    1\n",
       "29384    1\n",
       "Name: Class, dtype: int64"
      ]
     },
     "execution_count": 20,
     "metadata": {},
     "output_type": "execute_result"
    }
   ],
   "source": [
    "PCA_y_train.head()"
   ]
  },
  {
   "cell_type": "code",
   "execution_count": 21,
   "metadata": {
    "pycharm": {
     "name": "#%%\n"
    }
   },
   "outputs": [
    {
     "data": {
      "text/plain": [
       "22373    0\n",
       "10508    1\n",
       "11570    1\n",
       "22262    0\n",
       "734      1\n",
       "Name: Class, dtype: int64"
      ]
     },
     "execution_count": 21,
     "metadata": {},
     "output_type": "execute_result"
    }
   ],
   "source": [
    "PCA_y_test.head()\n"
   ]
  },
  {
   "cell_type": "markdown",
   "metadata": {},
   "source": [
    "####----------------------------------------------------------------\n",
    "# Model Training \n",
    "####----------------------------------------------------------------"
   ]
  },
  {
   "cell_type": "code",
   "execution_count": 22,
   "metadata": {
    "pycharm": {
     "is_executing": false,
     "name": "#%%\n"
    }
   },
   "outputs": [],
   "source": [
    "from sklearn.model_selection import cross_val_score\n",
    "from sklearn.tree import DecisionTreeClassifier\n",
    "\n",
    "def myDT(clf,X_train,y_train,X_test,y_test,cv):\n",
    "    #Fit the model\n",
    "    #The maximum depth of the tree. \n",
    "    #If None, then nodes are expanded until all leaves are pure\n",
    "    # or until all leaves contain less than min_samples_split samples.\n",
    "    #min_samples_split: by default = 1\n",
    "    clf.fit(X_train, y_train)\n",
    "    #check accuracy of model on the train and test data\n",
    "    train_score = clf.score(X_train, y_train)\n",
    "    test_score = clf.score(X_test, y_test)\n",
    "    #Using CV\n",
    "    cv_scores = cross_val_score(clf, X_train, y_train, cv=cv)\n",
    "    return pd.DataFrame({\"leaves\":[clf.get_n_leaves()],\"depth\":[clf.get_depth()],\"train_score\":[train_score],\"test_score\":[test_score],\"cv_score\":[cv_scores.mean()]})\n"
   ]
  },
  {
   "cell_type": "code",
   "execution_count": 23,
   "metadata": {
    "pycharm": {
     "is_executing": false,
     "name": "#%%\n"
    }
   },
   "outputs": [],
   "source": [
    "def myDT_ModelTurning(clf,depths,X_train,y_train,X_test,y_test,cv):\n",
    "    df = pd.DataFrame({\"depth\":[],\"train_score\":[],\"cv_score\":[]})\n",
    "    for depth in depths:\n",
    "        clf1 = DecisionTreeClassifier(max_depth=depth,random_state=0)\n",
    "        score_df = myDT(clf1,X_train,y_train,X_test,y_test,cv)\n",
    "        df = df.append(pd.DataFrame({\"depth\":depth,\"train_score\":score_df.train_score,\"test_score\":score_df.test_score,\"cv_score\":score_df.cv_score}),ignore_index=True,sort=False)\n",
    "    \n",
    "    return df"
   ]
  },
  {
   "cell_type": "code",
   "execution_count": 24,
   "metadata": {
    "pycharm": {
     "name": "#%%\n"
    }
   },
   "outputs": [],
   "source": [
    "\n",
    "cv = 10\n",
    "clf = DecisionTreeClassifier(random_state=0)"
   ]
  },
  {
   "cell_type": "code",
   "execution_count": 25,
   "metadata": {
    "pycharm": {
     "name": "#%%\n"
    }
   },
   "outputs": [
    {
     "data": {
      "text/html": [
       "<div>\n",
       "<style scoped>\n",
       "    .dataframe tbody tr th:only-of-type {\n",
       "        vertical-align: middle;\n",
       "    }\n",
       "\n",
       "    .dataframe tbody tr th {\n",
       "        vertical-align: top;\n",
       "    }\n",
       "\n",
       "    .dataframe thead th {\n",
       "        text-align: right;\n",
       "    }\n",
       "</style>\n",
       "<table border=\"1\" class=\"dataframe\">\n",
       "  <thead>\n",
       "    <tr style=\"text-align: right;\">\n",
       "      <th></th>\n",
       "      <th>leaves</th>\n",
       "      <th>depth</th>\n",
       "      <th>train_score</th>\n",
       "      <th>test_score</th>\n",
       "      <th>cv_score</th>\n",
       "    </tr>\n",
       "  </thead>\n",
       "  <tbody>\n",
       "    <tr>\n",
       "      <th>0</th>\n",
       "      <td>3763</td>\n",
       "      <td>42</td>\n",
       "      <td>0.993513</td>\n",
       "      <td>0.847465</td>\n",
       "      <td>0.844004</td>\n",
       "    </tr>\n",
       "  </tbody>\n",
       "</table>\n",
       "</div>"
      ],
      "text/plain": [
       "   leaves  depth  train_score  test_score  cv_score\n",
       "0    3763     42     0.993513    0.847465  0.844004"
      ]
     },
     "execution_count": 25,
     "metadata": {},
     "output_type": "execute_result"
    }
   ],
   "source": [
    "#Original Data\n",
    "scores = myDT(clf,X_train,y_train,X_test,y_test,cv)\n",
    "scores"
   ]
  },
  {
   "cell_type": "code",
   "execution_count": 26,
   "metadata": {
    "pycharm": {
     "name": "#%%\n"
    }
   },
   "outputs": [
    {
     "data": {
      "text/html": [
       "<div>\n",
       "<style scoped>\n",
       "    .dataframe tbody tr th:only-of-type {\n",
       "        vertical-align: middle;\n",
       "    }\n",
       "\n",
       "    .dataframe tbody tr th {\n",
       "        vertical-align: top;\n",
       "    }\n",
       "\n",
       "    .dataframe thead th {\n",
       "        text-align: right;\n",
       "    }\n",
       "</style>\n",
       "<table border=\"1\" class=\"dataframe\">\n",
       "  <thead>\n",
       "    <tr style=\"text-align: right;\">\n",
       "      <th></th>\n",
       "      <th>leaves</th>\n",
       "      <th>depth</th>\n",
       "      <th>train_score</th>\n",
       "      <th>test_score</th>\n",
       "      <th>cv_score</th>\n",
       "    </tr>\n",
       "  </thead>\n",
       "  <tbody>\n",
       "    <tr>\n",
       "      <th>0</th>\n",
       "      <td>3763</td>\n",
       "      <td>42</td>\n",
       "      <td>0.993513</td>\n",
       "      <td>0.847551</td>\n",
       "      <td>0.843877</td>\n",
       "    </tr>\n",
       "  </tbody>\n",
       "</table>\n",
       "</div>"
      ],
      "text/plain": [
       "   leaves  depth  train_score  test_score  cv_score\n",
       "0    3763     42     0.993513    0.847551  0.843877"
      ]
     },
     "execution_count": 26,
     "metadata": {},
     "output_type": "execute_result"
    }
   ],
   "source": [
    "#Normalized Data\n",
    "scores = myDT(clf,Normalized_X_train,Normalized_y_train,Normalized_X_test,Normalized_y_test,cv)\n",
    "scores"
   ]
  },
  {
   "cell_type": "code",
   "execution_count": 27,
   "metadata": {
    "pycharm": {
     "name": "#%%\n"
    }
   },
   "outputs": [
    {
     "data": {
      "text/html": [
       "<div>\n",
       "<style scoped>\n",
       "    .dataframe tbody tr th:only-of-type {\n",
       "        vertical-align: middle;\n",
       "    }\n",
       "\n",
       "    .dataframe tbody tr th {\n",
       "        vertical-align: top;\n",
       "    }\n",
       "\n",
       "    .dataframe thead th {\n",
       "        text-align: right;\n",
       "    }\n",
       "</style>\n",
       "<table border=\"1\" class=\"dataframe\">\n",
       "  <thead>\n",
       "    <tr style=\"text-align: right;\">\n",
       "      <th></th>\n",
       "      <th>leaves</th>\n",
       "      <th>depth</th>\n",
       "      <th>train_score</th>\n",
       "      <th>test_score</th>\n",
       "      <th>cv_score</th>\n",
       "    </tr>\n",
       "  </thead>\n",
       "  <tbody>\n",
       "    <tr>\n",
       "      <th>0</th>\n",
       "      <td>4751</td>\n",
       "      <td>42</td>\n",
       "      <td>0.97846</td>\n",
       "      <td>0.755703</td>\n",
       "      <td>0.753647</td>\n",
       "    </tr>\n",
       "  </tbody>\n",
       "</table>\n",
       "</div>"
      ],
      "text/plain": [
       "   leaves  depth  train_score  test_score  cv_score\n",
       "0    4751     42      0.97846    0.755703  0.753647"
      ]
     },
     "execution_count": 27,
     "metadata": {},
     "output_type": "execute_result"
    }
   ],
   "source": [
    "#PCA Data\n",
    "scores = myDT(clf,PCA_X_train,PCA_y_train,PCA_X_test,PCA_y_test,cv)\n",
    "scores\n"
   ]
  },
  {
   "cell_type": "markdown",
   "metadata": {},
   "source": [
    "####----------------------------------------------------------------\n",
    "# Learning Curve\n",
    "####----------------------------------------------------------------\n",
    "#https://scikit-learn.org/stable/modules/learning_curve.html"
   ]
  },
  {
   "cell_type": "code",
   "execution_count": 28,
   "metadata": {
    "pycharm": {
     "name": "#%%\n"
    }
   },
   "outputs": [
    {
     "data": {
      "text/plain": [
       "array([0.04, 0.09, 0.14, 0.19, 0.24, 0.29, 0.34, 0.39, 0.44, 0.49, 0.54,\n",
       "       0.59, 0.64, 0.69, 0.74, 0.79, 0.84, 0.89, 0.94, 0.99])"
      ]
     },
     "execution_count": 28,
     "metadata": {},
     "output_type": "execute_result"
    }
   ],
   "source": [
    "from sklearn.model_selection import learning_curve\n",
    "splitsSize = np.linspace(0.04,0.99,20)\n",
    "splitsSize"
   ]
  },
  {
   "cell_type": "code",
   "execution_count": 29,
   "metadata": {
    "pycharm": {
     "name": "#%%\n"
    }
   },
   "outputs": [],
   "source": [
    "train_sizes, train_scores, test_scores = learning_curve(\n",
    "        clf, X_Data, Y_Data, cv=cv, n_jobs=1, train_sizes=splitsSize)"
   ]
  },
  {
   "cell_type": "code",
   "execution_count": 30,
   "metadata": {
    "pycharm": {
     "name": "#%%\n"
    }
   },
   "outputs": [
    {
     "data": {
      "text/plain": [
       "array([ 1267,  2851,  4435,  6019,  7603,  9187, 10771, 12355, 13939,\n",
       "       15523, 17107, 18691, 20275, 21859, 23443, 25027, 26611, 28195,\n",
       "       29779, 31363])"
      ]
     },
     "execution_count": 30,
     "metadata": {},
     "output_type": "execute_result"
    }
   ],
   "source": [
    "train_sizes"
   ]
  },
  {
   "cell_type": "code",
   "execution_count": 31,
   "metadata": {
    "pycharm": {
     "name": "#%%\n"
    }
   },
   "outputs": [
    {
     "data": {
      "text/plain": [
       "array([[1.        , 1.        , 1.        , 1.        , 1.        ,\n",
       "        1.        , 1.        , 1.        , 1.        , 1.        ],\n",
       "       [1.        , 1.        , 1.        , 1.        , 1.        ,\n",
       "        1.        , 1.        , 1.        , 1.        , 1.        ],\n",
       "       [1.        , 1.        , 1.        , 1.        , 1.        ,\n",
       "        1.        , 1.        , 1.        , 1.        , 1.        ],\n",
       "       [1.        , 1.        , 1.        , 1.        , 1.        ,\n",
       "        1.        , 1.        , 1.        , 1.        , 1.        ],\n",
       "       [1.        , 1.        , 1.        , 1.        , 1.        ,\n",
       "        1.        , 1.        , 1.        , 1.        , 1.        ],\n",
       "       [1.        , 1.        , 1.        , 1.        , 1.        ,\n",
       "        1.        , 1.        , 1.        , 1.        , 1.        ],\n",
       "       [1.        , 1.        , 1.        , 1.        , 1.        ,\n",
       "        1.        , 1.        , 1.        , 1.        , 1.        ],\n",
       "       [1.        , 1.        , 1.        , 1.        , 1.        ,\n",
       "        1.        , 1.        , 1.        , 1.        , 1.        ],\n",
       "       [1.        , 1.        , 1.        , 1.        , 1.        ,\n",
       "        1.        , 1.        , 1.        , 1.        , 1.        ],\n",
       "       [1.        , 1.        , 1.        , 1.        , 1.        ,\n",
       "        1.        , 1.        , 1.        , 1.        , 1.        ],\n",
       "       [1.        , 1.        , 1.        , 1.        , 1.        ,\n",
       "        1.        , 1.        , 1.        , 1.        , 1.        ],\n",
       "       [0.99967899, 1.        , 1.        , 1.        , 1.        ,\n",
       "        1.        , 1.        , 1.        , 1.        , 1.        ],\n",
       "       [0.99950678, 0.99960543, 0.99950678, 0.99950678, 0.9995561 ,\n",
       "        0.99950678, 0.99950678, 0.9995561 , 0.99990136, 1.        ],\n",
       "       [0.99917654, 0.99926804, 0.99922229, 0.99931378, 0.99935953,\n",
       "        0.99931378, 0.99945103, 0.99935953, 0.99977126, 0.99958827],\n",
       "       [0.9990189 , 0.99906155, 0.9990189 , 0.99910421, 0.99910421,\n",
       "        0.99906155, 0.99931749, 0.99923218, 0.99948812, 0.99944546],\n",
       "       [0.99864147, 0.99864147, 0.99860151, 0.99872138, 0.99872138,\n",
       "        0.99864147, 0.99920086, 0.99912095, 0.99940065, 0.99924082],\n",
       "       [0.996167  , 0.996167  , 0.99612942, 0.99624216, 0.99643005,\n",
       "        0.9965052 , 0.99782045, 0.99842171, 0.99872233, 0.99902296],\n",
       "       [0.99368682, 0.99361589, 0.99358042, 0.99368682, 0.99386416,\n",
       "        0.99393509, 0.99567299, 0.99517645, 0.99616953, 0.99900692],\n",
       "       [0.99069814, 0.99066456, 0.99063098, 0.99073172, 0.99086605,\n",
       "        0.99113469, 0.99284731, 0.99278015, 0.99294805, 0.99905974],\n",
       "       [0.99091286, 0.99088097, 0.99084909, 0.99094474, 0.99107228,\n",
       "        0.99132736, 0.99298536, 0.99288971, 0.99282594, 0.99910723]])"
      ]
     },
     "execution_count": 31,
     "metadata": {},
     "output_type": "execute_result"
    }
   ],
   "source": [
    "train_scores"
   ]
  },
  {
   "cell_type": "code",
   "execution_count": 32,
   "metadata": {
    "pycharm": {
     "name": "#%%\n"
    }
   },
   "outputs": [
    {
     "data": {
      "text/plain": [
       "array([[0.64385118, 0.64385118, 0.64385118, 0.64375   , 0.64375   ,\n",
       "        0.64375   , 0.64375   , 0.64375   , 0.64393294, 0.64393294],\n",
       "       [0.64385118, 0.64385118, 0.64385118, 0.64375   , 0.64375   ,\n",
       "        0.64375   , 0.64375   , 0.64375   , 0.64393294, 0.64393294],\n",
       "       [0.64385118, 0.64385118, 0.64385118, 0.64375   , 0.64375   ,\n",
       "        0.64375   , 0.64375   , 0.64375   , 0.64393294, 0.64393294],\n",
       "       [0.64385118, 0.64385118, 0.64385118, 0.64375   , 0.64375   ,\n",
       "        0.64375   , 0.64375   , 0.64375   , 0.64393294, 0.64393294],\n",
       "       [0.64385118, 0.64385118, 0.64385118, 0.64375   , 0.64375   ,\n",
       "        0.64375   , 0.64375   , 0.64375   , 0.64393294, 0.64393294],\n",
       "       [0.64385118, 0.64385118, 0.64385118, 0.64375   , 0.64375   ,\n",
       "        0.64375   , 0.64375   , 0.64375   , 0.64393294, 0.64393294],\n",
       "       [0.64385118, 0.64385118, 0.64385118, 0.64375   , 0.64375   ,\n",
       "        0.64375   , 0.64375   , 0.64375   , 0.64393294, 0.64393294],\n",
       "       [0.64385118, 0.64385118, 0.64385118, 0.64375   , 0.64375   ,\n",
       "        0.64375   , 0.64375   , 0.64375   , 0.64393294, 0.64393294],\n",
       "       [0.64385118, 0.64385118, 0.64385118, 0.64375   , 0.64375   ,\n",
       "        0.64375   , 0.64375   , 0.64375   , 0.64393294, 0.64393294],\n",
       "       [0.64385118, 0.64385118, 0.64385118, 0.64375   , 0.64375   ,\n",
       "        0.64375   , 0.64375   , 0.64375   , 0.64393294, 0.64393294],\n",
       "       [0.64385118, 0.64385118, 0.64385118, 0.64375   , 0.64375   ,\n",
       "        0.64375   , 0.64375   , 0.64375   , 0.64393294, 0.64393294],\n",
       "       [0.66827606, 0.65975575, 0.65719966, 0.66732955, 0.67017045,\n",
       "        0.68352273, 0.66960227, 0.64602273, 0.6342711 , 0.64393294],\n",
       "       [0.72848623, 0.71627379, 0.71343368, 0.73039773, 0.73778409,\n",
       "        0.69943182, 0.62556818, 0.63238636, 0.59107701, 0.64393294],\n",
       "       [0.75319512, 0.73445044, 0.7529111 , 0.75625   , 0.75255682,\n",
       "        0.69090909, 0.60539773, 0.72926136, 0.53537937, 0.47968173],\n",
       "       [0.76029537, 0.75944334, 0.76455552, 0.78579545, 0.79573864,\n",
       "        0.73267045, 0.71136364, 0.71363636, 0.72094345, 0.60727479],\n",
       "       [0.76995172, 0.76682761, 0.76767964, 0.78494318, 0.79829545,\n",
       "        0.75113636, 0.62215909, 0.70625   , 0.70531401, 0.571185  ],\n",
       "       [0.77193979, 0.75944334, 0.76427151, 0.77642045, 0.78380682,\n",
       "        0.75482955, 0.7       , 0.74829545, 0.68826371, 0.51548735],\n",
       "       [0.76796365, 0.76711162, 0.77137177, 0.77045455, 0.79204545,\n",
       "        0.76505682, 0.70056818, 0.703125  , 0.67490764, 0.37112816],\n",
       "       [0.77563192, 0.76341948, 0.7665436 , 0.77130682, 0.78948864,\n",
       "        0.75198864, 0.72017045, 0.71136364, 0.64620631, 0.3716965 ],\n",
       "       [0.77108776, 0.75717126, 0.77761999, 0.78607955, 0.79005682,\n",
       "        0.76221591, 0.71647727, 0.71903409, 0.64904803, 0.36544473]])"
      ]
     },
     "execution_count": 32,
     "metadata": {},
     "output_type": "execute_result"
    }
   ],
   "source": [
    "test_scores"
   ]
  },
  {
   "cell_type": "code",
   "execution_count": 33,
   "metadata": {
    "pycharm": {
     "name": "#%%\n"
    }
   },
   "outputs": [
    {
     "data": {
      "image/png": "[encoded data removed]",
      "text/plain": [
       "<Figure size 432x288 with 1 Axes>"
      ]
     },
     "metadata": {
      "needs_background": "light"
     },
     "output_type": "display_data"
    }
   ],
   "source": [
    "title = \"Learning Curves\"\n",
    "myPlotLib.plot_learning_curve(clf, title, X_Data, Y_Data, ylim=(0.1, 1.03),train_sizes=splitsSize, cv=cv, n_jobs=4)\n",
    "plt.show()\n"
   ]
  },
  {
   "cell_type": "code",
   "execution_count": 34,
   "metadata": {
    "pycharm": {
     "name": "#%%\n"
    }
   },
   "outputs": [],
   "source": [
    "def myDT_LearningCurve(clf,X_Data,Y_Data,splits,cv):\n",
    "    df = pd.DataFrame({\"percent\":[],\"train_score\":[],\"test_score\":[],\"cv_score\":[]})\n",
    "    for X in splits:\n",
    "        X_train, X_test, y_train, y_test  = myLib.mySplitDataByTrainSize(X_Data,Y_Data,X,42)\n",
    "        score_df = myDT(clf,X_train,y_train,X_test,y_test,cv)\n",
    "        df = df.append(pd.DataFrame({\"percent\":X,\"train_score\":score_df.train_score,\"test_score\":score_df.test_score,\"cv_score\":score_df.cv_score}),ignore_index=True,sort=False)\n",
    "    return df\n"
   ]
  },
  {
   "cell_type": "code",
   "execution_count": 35,
   "metadata": {
    "pycharm": {
     "name": "#%%    \n"
    }
   },
   "outputs": [
    {
     "data": {
      "text/html": [
       "<div>\n",
       "<style scoped>\n",
       "    .dataframe tbody tr th:only-of-type {\n",
       "        vertical-align: middle;\n",
       "    }\n",
       "\n",
       "    .dataframe tbody tr th {\n",
       "        vertical-align: top;\n",
       "    }\n",
       "\n",
       "    .dataframe thead th {\n",
       "        text-align: right;\n",
       "    }\n",
       "</style>\n",
       "<table border=\"1\" class=\"dataframe\">\n",
       "  <thead>\n",
       "    <tr style=\"text-align: right;\">\n",
       "      <th></th>\n",
       "      <th>percent</th>\n",
       "      <th>train_score</th>\n",
       "      <th>test_score</th>\n",
       "      <th>cv_score</th>\n",
       "    </tr>\n",
       "  </thead>\n",
       "  <tbody>\n",
       "    <tr>\n",
       "      <th>0</th>\n",
       "      <td>0.04</td>\n",
       "      <td>1.000000</td>\n",
       "      <td>0.724731</td>\n",
       "      <td>0.735879</td>\n",
       "    </tr>\n",
       "    <tr>\n",
       "      <th>1</th>\n",
       "      <td>0.09</td>\n",
       "      <td>1.000000</td>\n",
       "      <td>0.750478</td>\n",
       "      <td>0.752615</td>\n",
       "    </tr>\n",
       "    <tr>\n",
       "      <th>2</th>\n",
       "      <td>0.14</td>\n",
       "      <td>0.997576</td>\n",
       "      <td>0.755993</td>\n",
       "      <td>0.778256</td>\n",
       "    </tr>\n",
       "    <tr>\n",
       "      <th>3</th>\n",
       "      <td>0.19</td>\n",
       "      <td>0.999330</td>\n",
       "      <td>0.764493</td>\n",
       "      <td>0.777005</td>\n",
       "    </tr>\n",
       "    <tr>\n",
       "      <th>4</th>\n",
       "      <td>0.24</td>\n",
       "      <td>0.998057</td>\n",
       "      <td>0.785509</td>\n",
       "      <td>0.778453</td>\n",
       "    </tr>\n",
       "    <tr>\n",
       "      <th>5</th>\n",
       "      <td>0.29</td>\n",
       "      <td>0.997076</td>\n",
       "      <td>0.772930</td>\n",
       "      <td>0.783754</td>\n",
       "    </tr>\n",
       "    <tr>\n",
       "      <th>6</th>\n",
       "      <td>0.34</td>\n",
       "      <td>0.996633</td>\n",
       "      <td>0.796203</td>\n",
       "      <td>0.776758</td>\n",
       "    </tr>\n",
       "    <tr>\n",
       "      <th>7</th>\n",
       "      <td>0.39</td>\n",
       "      <td>0.996086</td>\n",
       "      <td>0.800044</td>\n",
       "      <td>0.789173</td>\n",
       "    </tr>\n",
       "    <tr>\n",
       "      <th>8</th>\n",
       "      <td>0.44</td>\n",
       "      <td>0.995663</td>\n",
       "      <td>0.796166</td>\n",
       "      <td>0.795974</td>\n",
       "    </tr>\n",
       "    <tr>\n",
       "      <th>9</th>\n",
       "      <td>0.49</td>\n",
       "      <td>0.995760</td>\n",
       "      <td>0.810436</td>\n",
       "      <td>0.796295</td>\n",
       "    </tr>\n",
       "    <tr>\n",
       "      <th>10</th>\n",
       "      <td>0.54</td>\n",
       "      <td>0.995289</td>\n",
       "      <td>0.808385</td>\n",
       "      <td>0.804944</td>\n",
       "    </tr>\n",
       "    <tr>\n",
       "      <th>11</th>\n",
       "      <td>0.59</td>\n",
       "      <td>0.995185</td>\n",
       "      <td>0.813248</td>\n",
       "      <td>0.799697</td>\n",
       "    </tr>\n",
       "    <tr>\n",
       "      <th>12</th>\n",
       "      <td>0.64</td>\n",
       "      <td>0.994567</td>\n",
       "      <td>0.816274</td>\n",
       "      <td>0.814751</td>\n",
       "    </tr>\n",
       "    <tr>\n",
       "      <th>13</th>\n",
       "      <td>0.69</td>\n",
       "      <td>0.994715</td>\n",
       "      <td>0.821981</td>\n",
       "      <td>0.816988</td>\n",
       "    </tr>\n",
       "    <tr>\n",
       "      <th>14</th>\n",
       "      <td>0.74</td>\n",
       "      <td>0.994958</td>\n",
       "      <td>0.827827</td>\n",
       "      <td>0.823287</td>\n",
       "    </tr>\n",
       "    <tr>\n",
       "      <th>15</th>\n",
       "      <td>0.79</td>\n",
       "      <td>0.994847</td>\n",
       "      <td>0.836766</td>\n",
       "      <td>0.829208</td>\n",
       "    </tr>\n",
       "    <tr>\n",
       "      <th>16</th>\n",
       "      <td>0.84</td>\n",
       "      <td>0.993589</td>\n",
       "      <td>0.835622</td>\n",
       "      <td>0.825542</td>\n",
       "    </tr>\n",
       "    <tr>\n",
       "      <th>17</th>\n",
       "      <td>0.89</td>\n",
       "      <td>0.994235</td>\n",
       "      <td>0.833349</td>\n",
       "      <td>0.831388</td>\n",
       "    </tr>\n",
       "    <tr>\n",
       "      <th>18</th>\n",
       "      <td>0.94</td>\n",
       "      <td>0.993910</td>\n",
       "      <td>0.844597</td>\n",
       "      <td>0.837063</td>\n",
       "    </tr>\n",
       "    <tr>\n",
       "      <th>19</th>\n",
       "      <td>0.99</td>\n",
       "      <td>0.993704</td>\n",
       "      <td>0.840609</td>\n",
       "      <td>0.841785</td>\n",
       "    </tr>\n",
       "  </tbody>\n",
       "</table>\n",
       "</div>"
      ],
      "text/plain": [
       "    percent  train_score  test_score  cv_score\n",
       "0      0.04     1.000000    0.724731  0.735879\n",
       "1      0.09     1.000000    0.750478  0.752615\n",
       "2      0.14     0.997576    0.755993  0.778256\n",
       "3      0.19     0.999330    0.764493  0.777005\n",
       "4      0.24     0.998057    0.785509  0.778453\n",
       "5      0.29     0.997076    0.772930  0.783754\n",
       "6      0.34     0.996633    0.796203  0.776758\n",
       "7      0.39     0.996086    0.800044  0.789173\n",
       "8      0.44     0.995663    0.796166  0.795974\n",
       "9      0.49     0.995760    0.810436  0.796295\n",
       "10     0.54     0.995289    0.808385  0.804944\n",
       "11     0.59     0.995185    0.813248  0.799697\n",
       "12     0.64     0.994567    0.816274  0.814751\n",
       "13     0.69     0.994715    0.821981  0.816988\n",
       "14     0.74     0.994958    0.827827  0.823287\n",
       "15     0.79     0.994847    0.836766  0.829208\n",
       "16     0.84     0.993589    0.835622  0.825542\n",
       "17     0.89     0.994235    0.833349  0.831388\n",
       "18     0.94     0.993910    0.844597  0.837063\n",
       "19     0.99     0.993704    0.840609  0.841785"
      ]
     },
     "execution_count": 35,
     "metadata": {},
     "output_type": "execute_result"
    }
   ],
   "source": [
    "learning_df= myDT_LearningCurve(clf,X_Data,Y_Data,splitsSize,cv)\n",
    "learning_df"
   ]
  },
  {
   "cell_type": "code",
   "execution_count": 36,
   "metadata": {
    "pycharm": {
     "name": "#%%\n"
    }
   },
   "outputs": [
    {
     "data": {
      "text/html": [
       "<div>\n",
       "<style scoped>\n",
       "    .dataframe tbody tr th:only-of-type {\n",
       "        vertical-align: middle;\n",
       "    }\n",
       "\n",
       "    .dataframe tbody tr th {\n",
       "        vertical-align: top;\n",
       "    }\n",
       "\n",
       "    .dataframe thead th {\n",
       "        text-align: right;\n",
       "    }\n",
       "</style>\n",
       "<table border=\"1\" class=\"dataframe\">\n",
       "  <thead>\n",
       "    <tr style=\"text-align: right;\">\n",
       "      <th></th>\n",
       "      <th>percent</th>\n",
       "      <th>train_score</th>\n",
       "      <th>test_score</th>\n",
       "      <th>cv_score</th>\n",
       "    </tr>\n",
       "  </thead>\n",
       "  <tbody>\n",
       "    <tr>\n",
       "      <th>count</th>\n",
       "      <td>20.000000</td>\n",
       "      <td>20.000000</td>\n",
       "      <td>20.000000</td>\n",
       "      <td>20.000000</td>\n",
       "    </tr>\n",
       "    <tr>\n",
       "      <th>mean</th>\n",
       "      <td>0.515000</td>\n",
       "      <td>0.996059</td>\n",
       "      <td>0.801782</td>\n",
       "      <td>0.799441</td>\n",
       "    </tr>\n",
       "    <tr>\n",
       "      <th>std</th>\n",
       "      <td>0.295804</td>\n",
       "      <td>0.002017</td>\n",
       "      <td>0.033617</td>\n",
       "      <td>0.028517</td>\n",
       "    </tr>\n",
       "    <tr>\n",
       "      <th>min</th>\n",
       "      <td>0.040000</td>\n",
       "      <td>0.993589</td>\n",
       "      <td>0.724731</td>\n",
       "      <td>0.735879</td>\n",
       "    </tr>\n",
       "    <tr>\n",
       "      <th>25%</th>\n",
       "      <td>0.277500</td>\n",
       "      <td>0.994678</td>\n",
       "      <td>0.782364</td>\n",
       "      <td>0.778404</td>\n",
       "    </tr>\n",
       "    <tr>\n",
       "      <th>50%</th>\n",
       "      <td>0.515000</td>\n",
       "      <td>0.995476</td>\n",
       "      <td>0.809410</td>\n",
       "      <td>0.797996</td>\n",
       "    </tr>\n",
       "    <tr>\n",
       "      <th>75%</th>\n",
       "      <td>0.752500</td>\n",
       "      <td>0.997201</td>\n",
       "      <td>0.829208</td>\n",
       "      <td>0.823851</td>\n",
       "    </tr>\n",
       "    <tr>\n",
       "      <th>max</th>\n",
       "      <td>0.990000</td>\n",
       "      <td>1.000000</td>\n",
       "      <td>0.844597</td>\n",
       "      <td>0.841785</td>\n",
       "    </tr>\n",
       "  </tbody>\n",
       "</table>\n",
       "</div>"
      ],
      "text/plain": [
       "         percent  train_score  test_score   cv_score\n",
       "count  20.000000    20.000000   20.000000  20.000000\n",
       "mean    0.515000     0.996059    0.801782   0.799441\n",
       "std     0.295804     0.002017    0.033617   0.028517\n",
       "min     0.040000     0.993589    0.724731   0.735879\n",
       "25%     0.277500     0.994678    0.782364   0.778404\n",
       "50%     0.515000     0.995476    0.809410   0.797996\n",
       "75%     0.752500     0.997201    0.829208   0.823851\n",
       "max     0.990000     1.000000    0.844597   0.841785"
      ]
     },
     "execution_count": 36,
     "metadata": {},
     "output_type": "execute_result"
    }
   ],
   "source": [
    "learning_df.describe()"
   ]
  },
  {
   "cell_type": "code",
   "execution_count": 37,
   "metadata": {
    "pycharm": {
     "name": "#%%\n"
    }
   },
   "outputs": [
    {
     "data": {
      "text/plain": [
       "Text(0.5, 1.0, 'Learning Curve of CV:10')"
      ]
     },
     "execution_count": 37,
     "metadata": {},
     "output_type": "execute_result"
    },
    {
     "data": {
      "image/png": "[encoded data removed]",
      "text/plain": [
       "<Figure size 432x288 with 1 Axes>"
      ]
     },
     "metadata": {
      "needs_background": "light"
     },
     "output_type": "display_data"
    }
   ],
   "source": [
    "\n",
    "fig, ax = plt.subplots()\n",
    "plt.plot(learning_df.percent, learning_df.train_score, color='blue', marker='o', markersize=5, label='training')\n",
    "\n",
    "plt.plot(learning_df.percent, learning_df.test_score, color='red', marker='o', markersize=5, label='testing')\n",
    "\n",
    "plt.plot(learning_df.percent, learning_df.cv_score, color='orange', marker='o', markersize=5, label='cross validation')\n",
    "\n",
    "ax.legend()\n",
    "ax.set_title(\"Learning Curve of CV:10\")\n"
   ]
  },
  {
   "cell_type": "markdown",
   "metadata": {},
   "source": [
    "<div class=\"alert alert-block alert-danger\">\n",
    "Based on the Learning Curve, we saw that \n",
    "<ul>\n",
    "<li>Very small samples dataset has high variance. It means the model perfomrs very well on training data (<b>min = 0.993589</b>), but has high erro rates on the test data (<b>min = 0.724731</b>)</li>\n",
    "<li>Adding more training samples (<b>>25K</b>) may not affect the accuracy of the model</li>\n",
    "</ul>\n",
    "\n",
    "That means, the best value of the depth < <b>50</b>, we will do grid search CV based on this range  \n",
    "</div>\n"
   ]
  },
  {
   "cell_type": "markdown",
   "metadata": {},
   "source": [
    "####----------------------------------------------------------------\n",
    "# Validation Curve\n",
    "####----------------------------------------------------------------"
   ]
  },
  {
   "cell_type": "code",
   "execution_count": 38,
   "metadata": {
    "pycharm": {
     "is_executing": false,
     "name": "#%%\n"
    }
   },
   "outputs": [],
   "source": [
    "depths = [1,2,4, 5, 8,10,15, 20,25,30,35,40,50,60,70,80,90,100,150,200]"
   ]
  },
  {
   "cell_type": "code",
   "execution_count": 39,
   "metadata": {
    "pycharm": {
     "name": "#%%\n"
    }
   },
   "outputs": [],
   "source": [
    "#https://scikit-learn.org/stable/modules/generated/sklearn.model_selection.validation_curve.html#sklearn.model_selection.validation_curve\n",
    "from sklearn.model_selection import validation_curve\n",
    "train_scores, valid_scores = validation_curve(DecisionTreeClassifier(),X_train, y_train, \n",
    "    param_name=\"max_depth\", param_range=depths,\n",
    "    cv=cv, n_jobs=1)\n"
   ]
  },
  {
   "cell_type": "code",
   "execution_count": 40,
   "metadata": {
    "pycharm": {
     "name": "#%%\n"
    }
   },
   "outputs": [
    {
     "data": {
      "text/plain": [
       "array([[0.76126084, 0.7623086 , 0.76122497, 0.76161312, 0.76095355,\n",
       "        0.76133044, 0.76151889, 0.76217846, 0.761566  , 0.75949307],\n",
       "       [0.78929514, 0.79005889, 0.79081272, 0.78945633, 0.78997456,\n",
       "        0.79021012, 0.79086969, 0.79105814, 0.79025723, 0.7881843 ],\n",
       "       [0.80785903, 0.80706714, 0.80805654, 0.80655799, 0.80599265,\n",
       "        0.80731179, 0.80495619, 0.80669933, 0.80594554, 0.80439084],\n",
       "       [0.81073313, 0.80881037, 0.80923439, 0.80924338, 0.80900782,\n",
       "        0.81027985, 0.80641666, 0.80919627, 0.80848959, 0.80759446],\n",
       "       [0.82755371, 0.82704358, 0.82657244, 0.82573259, 0.82625082,\n",
       "        0.82917177, 0.82215208, 0.82714595, 0.82450768, 0.82714595],\n",
       "       [0.84757821, 0.84579505, 0.84640754, 0.84547253, 0.84509564,\n",
       "        0.84971262, 0.83996043, 0.84514275, 0.84537831, 0.84580232],\n",
       "       [0.9030343 , 0.90030624, 0.90690224, 0.8997456 , 0.90313766,\n",
       "        0.9021012 , 0.89013474, 0.89753133, 0.89446905, 0.89922736],\n",
       "       [0.94591029, 0.95020024, 0.953404  , 0.94893056, 0.95029681,\n",
       "        0.95010836, 0.93776501, 0.95001413, 0.94549138, 0.94445491],\n",
       "       [0.97177723, 0.97743227, 0.97733804, 0.97743334, 0.97879959,\n",
       "        0.97795157, 0.96928295, 0.97498351, 0.97620842, 0.97465373],\n",
       "       [0.98595929, 0.98859835, 0.98883392, 0.98855178, 0.98972958,\n",
       "        0.98921134, 0.98685574, 0.98803354, 0.98949402, 0.9870913 ],\n",
       "       [0.99208443, 0.99279152, 0.99312132, 0.99260341, 0.99302742,\n",
       "        0.99302742, 0.99180251, 0.99307453, 0.99368699, 0.99199095],\n",
       "       [0.99363928, 0.99363958, 0.9937338 , 0.99363988, 0.99406388,\n",
       "        0.99415811, 0.99368699, 0.994111  , 0.99420522, 0.99345143],\n",
       "       [0.99373351, 0.99378092, 0.99425206, 0.99378121, 0.99406388,\n",
       "        0.99415811, 0.99368699, 0.99415811, 0.99420522, 0.99368699],\n",
       "       [0.99373351, 0.99378092, 0.99425206, 0.99378121, 0.99406388,\n",
       "        0.99415811, 0.99368699, 0.99415811, 0.99420522, 0.99368699],\n",
       "       [0.99373351, 0.99378092, 0.99425206, 0.99378121, 0.99406388,\n",
       "        0.99415811, 0.99368699, 0.99415811, 0.99420522, 0.99368699],\n",
       "       [0.99373351, 0.99378092, 0.99425206, 0.99378121, 0.99406388,\n",
       "        0.99415811, 0.99368699, 0.99415811, 0.99420522, 0.99368699],\n",
       "       [0.99373351, 0.99378092, 0.99425206, 0.99378121, 0.99406388,\n",
       "        0.99415811, 0.99368699, 0.99415811, 0.99420522, 0.99368699],\n",
       "       [0.99373351, 0.99378092, 0.99425206, 0.99378121, 0.99406388,\n",
       "        0.99415811, 0.99368699, 0.99415811, 0.99420522, 0.99368699],\n",
       "       [0.99373351, 0.99378092, 0.99425206, 0.99378121, 0.99406388,\n",
       "        0.99415811, 0.99368699, 0.99415811, 0.99420522, 0.99368699],\n",
       "       [0.99373351, 0.99378092, 0.99425206, 0.99378121, 0.99406388,\n",
       "        0.99415811, 0.99368699, 0.99415811, 0.99420522, 0.99368699]])"
      ]
     },
     "execution_count": 40,
     "metadata": {},
     "output_type": "execute_result"
    }
   ],
   "source": [
    "train_scores"
   ]
  },
  {
   "cell_type": "code",
   "execution_count": 41,
   "metadata": {
    "pycharm": {
     "name": "#%%\n"
    }
   },
   "outputs": [
    {
     "data": {
      "text/plain": [
       "array([[0.76016949, 0.75074184, 0.76049173, 0.75699746, 0.76293469,\n",
       "        0.75954198, 0.77184054, 0.7519084 , 0.75742154, 0.77608142],\n",
       "       [0.79237288, 0.78550233, 0.78126325, 0.79092451, 0.78880407,\n",
       "        0.7841391 , 0.79177269, 0.77905004, 0.78625954, 0.80322307],\n",
       "       [0.80550847, 0.7990674 , 0.80076304, 0.80322307, 0.80364716,\n",
       "        0.80237489, 0.81552163, 0.79728584, 0.80364716, 0.80746395],\n",
       "       [0.80847458, 0.80161085, 0.79991522, 0.80661578, 0.80407125,\n",
       "        0.80703986, 0.81509754, 0.80195081, 0.80958439, 0.80110263],\n",
       "       [0.82076271, 0.8041543 , 0.80796948, 0.81509754, 0.81212892,\n",
       "        0.81806616, 0.81933842, 0.80449534, 0.82061069, 0.81679389],\n",
       "       [0.8220339 , 0.80712166, 0.8041543 , 0.82315522, 0.81721798,\n",
       "        0.82315522, 0.82951654, 0.80873622, 0.82188295, 0.82442748],\n",
       "       [0.84237288, 0.83382789, 0.81305638, 0.84096692, 0.83206107,\n",
       "        0.84139101, 0.83757422, 0.81891433, 0.83206107, 0.83036472],\n",
       "       [0.84788136, 0.84103434, 0.83001272, 0.85453774, 0.83630195,\n",
       "        0.85284139, 0.84223919, 0.8346056 , 0.84435963, 0.83418151],\n",
       "       [0.85084746, 0.84781687, 0.83128444, 0.8562341 , 0.83502969,\n",
       "        0.85284139, 0.84011874, 0.83969466, 0.84139101, 0.84266327],\n",
       "       [0.85127119, 0.84357779, 0.83382789, 0.8596268 , 0.8379983 ,\n",
       "        0.85156913, 0.84690416, 0.83969466, 0.83884648, 0.84690416],\n",
       "       [0.85254237, 0.84272997, 0.82874099, 0.85665818, 0.83884648,\n",
       "        0.84605598, 0.84987277, 0.83884648, 0.83927057, 0.83884648],\n",
       "       [0.85      , 0.84739296, 0.82958881, 0.85835454, 0.84011874,\n",
       "        0.84732824, 0.84690416, 0.8418151 , 0.84308736, 0.83587786],\n",
       "       [0.84872881, 0.84739296, 0.82789318, 0.85708227, 0.83969466,\n",
       "        0.84563189, 0.84563189, 0.83969466, 0.83927057, 0.83715013],\n",
       "       [0.85211864, 0.84527342, 0.82831708, 0.85793045, 0.84011874,\n",
       "        0.84563189, 0.8452078 , 0.83884648, 0.83757422, 0.83842239],\n",
       "       [0.85      , 0.84569733, 0.82746927, 0.85496183, 0.8379983 ,\n",
       "        0.8490246 , 0.84648007, 0.84096692, 0.83969466, 0.83757422],\n",
       "       [0.85      , 0.84696905, 0.82831708, 0.85368957, 0.8418151 ,\n",
       "        0.84817642, 0.84648007, 0.83842239, 0.83969466, 0.84139101],\n",
       "       [0.84830508, 0.84484951, 0.8291649 , 0.86005089, 0.83969466,\n",
       "        0.84732824, 0.8452078 , 0.83927057, 0.8379983 , 0.8379983 ],\n",
       "       [0.84915254, 0.84654515, 0.83086053, 0.85538592, 0.84011874,\n",
       "        0.84605598, 0.84435963, 0.8418151 , 0.8379983 , 0.84096692],\n",
       "       [0.85169492, 0.84739296, 0.83298008, 0.85665818, 0.84011874,\n",
       "        0.8452078 , 0.8452078 , 0.83842239, 0.84054283, 0.8379983 ],\n",
       "       [0.84830508, 0.84612124, 0.83298008, 0.85750636, 0.83969466,\n",
       "        0.84987277, 0.84732824, 0.83715013, 0.84223919, 0.83884648]])"
      ]
     },
     "execution_count": 41,
     "metadata": {},
     "output_type": "execute_result"
    }
   ],
   "source": [
    "valid_scores\n"
   ]
  },
  {
   "cell_type": "code",
   "execution_count": 42,
   "metadata": {
    "pycharm": {
     "name": "#%%\n"
    }
   },
   "outputs": [
    {
     "data": {
      "image/png": "[encoded data removed]",
      "text/plain": [
       "<Figure size 432x288 with 1 Axes>"
      ]
     },
     "metadata": {
      "needs_background": "light"
     },
     "output_type": "display_data"
    }
   ],
   "source": [
    "train_scores_mean = np.mean(train_scores, axis=1)\n",
    "train_scores_std = np.std(train_scores, axis=1)\n",
    "valid_scores_mean = np.mean(valid_scores, axis=1)\n",
    "valid_scores_std = np.std(valid_scores, axis=1)\n",
    "\n",
    "plt.title(\"Validation Curve of CV:10\")\n",
    "plt.xlabel(\"Depth\")\n",
    "plt.ylabel(\"Score\")\n",
    "plt.ylim(0.0, 1.1)\n",
    "lw = 2\n",
    "plt.semilogx(depths, train_scores_mean, label=\"Training score\",\n",
    "             color=\"darkorange\", lw=lw)\n",
    "plt.fill_between(depths, train_scores_mean - train_scores_std,\n",
    "                 train_scores_mean + train_scores_std, alpha=0.2,\n",
    "                 color=\"darkorange\", lw=lw)\n",
    "plt.semilogx(depths, valid_scores_mean, label=\"Cross-validation score\",\n",
    "             color=\"navy\", lw=lw)\n",
    "plt.fill_between(depths, valid_scores_mean - valid_scores_std,\n",
    "                 valid_scores_mean + valid_scores_std, alpha=0.2,\n",
    "                 color=\"navy\", lw=lw)\n",
    "plt.legend(loc=\"best\")\n",
    "plt.show()\n"
   ]
  },
  {
   "cell_type": "markdown",
   "metadata": {},
   "source": [
    "####----------------------------------------------------------------\n",
    "# Model Turning\n",
    "####----------------------------------------------------------------"
   ]
  },
  {
   "cell_type": "code",
   "execution_count": null,
   "metadata": {
    "pycharm": {
     "name": "#%%\n"
    }
   },
   "outputs": [],
   "source": [
    "learnig_df= myDT_ModelTurning(clf,depths,X_train,y_train,X_test,y_test,cv)\n",
    "learnig_df"
   ]
  },
  {
   "cell_type": "code",
   "execution_count": null,
   "metadata": {
    "pycharm": {
     "name": "#%%\n"
    }
   },
   "outputs": [],
   "source": [
    "learnig_df.describe()"
   ]
  },
  {
   "cell_type": "code",
   "execution_count": null,
   "metadata": {
    "pycharm": {
     "name": "#%%\n"
    }
   },
   "outputs": [],
   "source": [
    "\n",
    "fig,ax = plt.subplots()\n",
    "plt.xlabel(\"Depth\")\n",
    "plt.plot(learnig_df.depth, learnig_df.train_score, color='blue', marker='o', markersize=5, label='training')\n",
    "plt.plot(learnig_df.depth, learnig_df.cv_score, color='orange', marker='o', markersize=5, label='cross validation')\n",
    "\n",
    "ax.legend()\n",
    "ax.set_title(\"Training and Cross validation scores of CV:10\")\n"
   ]
  },
  {
   "cell_type": "markdown",
   "metadata": {},
   "source": [
    "<div class=\"alert alert-block alert-danger\">\n",
    "Based on the Validation Curve, we saw that with the depth > <b>50</b>, \n",
    "<ul>\n",
    "<li>The training scores almost are the same: <b>0.993513</b> </li>\n",
    "<li>The cross validation scores almost are the same: <b>0.844004</b> </li>\n",
    "</ul>\n",
    "That means, the best parameter of the depth < <b>50</b>, we will do grid search CV based on this range  \n",
    "</div>\n"
   ]
  },
  {
   "cell_type": "markdown",
   "metadata": {},
   "source": [
    "####----------------------------------------------------------------\n",
    "# Grid Search CV\n",
    "####----------------------------------------------------------------"
   ]
  },
  {
   "cell_type": "code",
   "execution_count": null,
   "metadata": {
    "pycharm": {
     "name": "#%%\n"
    }
   },
   "outputs": [],
   "source": [
    "#GridSearchCV\n",
    "def myGS(X_train,y_train,depths,num_leafs):\n",
    "    from sklearn.model_selection import GridSearchCV\n",
    "    \n",
    "    param_grid = [{'max_depth':depths,\n",
    "                  'min_samples_leaf':num_leafs}]\n",
    "    clf2 = DecisionTreeClassifier(random_state=0)\n",
    "    gs = GridSearchCV(estimator=clf2, param_grid=param_grid, cv=10)\n",
    "    \n",
    "    gs = gs.fit(X_train, y_train)\n",
    "    return gs\n",
    "    "
   ]
  },
  {
   "cell_type": "code",
   "execution_count": null,
   "metadata": {
    "pycharm": {
     "name": "#%%\n"
    }
   },
   "outputs": [],
   "source": [
    "depths = range(10,50,20)\n",
    "num_leafs = [1,2,4, 5, 8, 10, 20]\n",
    "gs = myGS(X_train,y_train,depths,num_leafs)\n",
    "#Training Score\n",
    "gs.best_score_"
   ]
  },
  {
   "cell_type": "code",
   "execution_count": null,
   "metadata": {
    "pycharm": {
     "name": "#%%\n"
    }
   },
   "outputs": [],
   "source": [
    "gs.best_params_\n",
    "    "
   ]
  },
  {
   "cell_type": "markdown",
   "metadata": {},
   "source": [
    "####----------------------------------------------------------------\n",
    "# Final Evaluation\n",
    "####----------------------------------------------------------------"
   ]
  },
  {
   "cell_type": "code",
   "execution_count": null,
   "metadata": {
    "pycharm": {
     "name": "#%%\n"
    }
   },
   "outputs": [],
   "source": [
    "clf = DecisionTreeClassifier(random_state=0,max_depth=gs.best_params_['max_depth'],min_samples_leaf=gs.best_params_['min_samples_leaf'])\n",
    "#Original Data\n",
    "scores = myDT(clf,X_train,y_train,X_test,y_test,cv)\n",
    "scores\n"
   ]
  },
  {
   "cell_type": "markdown",
   "metadata": {},
   "source": [
    "<div class=\"alert alert-block alert-warning\">\n",
    "The accuracy of the model (Orignal Data): <b>0.86141</b> \n",
    "</div>"
   ]
  }
 ],
 "metadata": {
  "kernelspec": {
   "display_name": "Python 3",
   "language": "python",
   "name": "python3"
  },
  "language_info": {
   "codemirror_mode": {
    "name": "ipython",
    "version": 3
   },
   "file_extension": ".py",
   "mimetype": "text/x-python",
   "name": "python",
   "nbconvert_exporter": "python",
   "pygments_lexer": "ipython3",
   "version": "3.7.3"
  },
  "pycharm": {
   "stem_cell": {
    "cell_type": "raw",
    "metadata": {
     "collapsed": false
    },
    "source": []
   }
  }
 },
 "nbformat": 4,
 "nbformat_minor": 1
}
