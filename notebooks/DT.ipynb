{
 "cells": [
  {
   "cell_type": "markdown",
   "metadata": {
    "collapsed": true,
    "pycharm": {
     "name": "#%% md\n"
    }
   },
   "source": [
    "<div class=\"alert alert-block alert-info\">\n",
    "<ul>\n",
    "<li>Course: Machine Learning</li>\n",
    "<li>Project: 01</li>\n",
    "<li>Team members</li>\n",
    "<li>Mauro Travieso Pena</li>\n",
    "<li>Quoc Huy Luong</li>\n",
    "<li>Ngoc Bao Tran</li>\n",
    "<ul>\n",
    "</div>\n",
    "\n"
   ]
  },
  {
   "cell_type": "markdown",
   "metadata": {},
   "source": [
    "# Classification with Decision Tree"
   ]
  },
  {
   "cell_type": "markdown",
   "metadata": {},
   "source": [
    "<div class=\"alert alert-block alert-info\">\n",
    "Some comments here \n",
    "</div>\n"
   ]
  },
  {
   "cell_type": "markdown",
   "metadata": {},
   "source": [
    "# Import Libraries "
   ]
  },
  {
   "cell_type": "code",
   "execution_count": 1,
   "metadata": {
    "pycharm": {
     "name": "#%%\n"
    }
   },
   "outputs": [
    {
     "name": "stdout",
     "output_type": "stream",
     "text": [
      "importing Jupyter notebook from functions.ipynb\n",
      "importing Jupyter notebook from myPlot.ipynb\n"
     ]
    }
   ],
   "source": [
    "import pandas as pd\n",
    "import numpy as np\n",
    "import random as rnd\n",
    "import seaborn as sns\n",
    "import matplotlib.pyplot as plt\n",
    "%matplotlib inline\n",
    "\n",
    "import import_ipynb \n",
    "import functions as myLib\n",
    "import myPlot as myPlotLib\n",
    "\n"
   ]
  },
  {
   "cell_type": "markdown",
   "metadata": {},
   "source": [
    "# Load data from files"
   ]
  },
  {
   "cell_type": "code",
   "execution_count": 2,
   "metadata": {
    "pycharm": {
     "name": "#%%\n"
    }
   },
   "outputs": [],
   "source": [
    "RawData = pd.read_csv('../data/anime.csv')\n"
   ]
  },
  {
   "cell_type": "markdown",
   "metadata": {},
   "source": [
    "#### Clean and Transform Data"
   ]
  },
  {
   "cell_type": "code",
   "execution_count": 3,
   "metadata": {
    "pycharm": {
     "name": "#%%\n"
    }
   },
   "outputs": [],
   "source": [
    "Cleaned_Data = myLib.myCleanAndTransformData(RawData)\n",
    "Y_Data = Cleaned_Data['Class']\n",
    "X_Data = Cleaned_Data.drop(columns=['Class'])\n"
   ]
  },
  {
   "cell_type": "markdown",
   "metadata": {},
   "source": [
    "#### Normalize  Data"
   ]
  },
  {
   "cell_type": "code",
   "execution_count": 4,
   "metadata": {
    "pycharm": {
     "name": "#%%\n"
    }
   },
   "outputs": [],
   "source": [
    "Normalized_Data = myLib.myNormalize(X_Data)"
   ]
  },
  {
   "cell_type": "markdown",
   "metadata": {},
   "source": [
    "#### PCA"
   ]
  },
  {
   "cell_type": "code",
   "execution_count": 5,
   "metadata": {
    "pycharm": {
     "name": "#%%\n"
    }
   },
   "outputs": [
    {
     "data": {
      "text/html": [
       "<div>\n",
       "<style scoped>\n",
       "    .dataframe tbody tr th:only-of-type {\n",
       "        vertical-align: middle;\n",
       "    }\n",
       "\n",
       "    .dataframe tbody tr th {\n",
       "        vertical-align: top;\n",
       "    }\n",
       "\n",
       "    .dataframe thead th {\n",
       "        text-align: right;\n",
       "    }\n",
       "</style>\n",
       "<table border=\"1\" class=\"dataframe\">\n",
       "  <thead>\n",
       "    <tr style=\"text-align: right;\">\n",
       "      <th></th>\n",
       "      <th>0</th>\n",
       "      <th>1</th>\n",
       "      <th>2</th>\n",
       "      <th>3</th>\n",
       "      <th>4</th>\n",
       "      <th>5</th>\n",
       "      <th>6</th>\n",
       "      <th>7</th>\n",
       "      <th>8</th>\n",
       "      <th>9</th>\n",
       "    </tr>\n",
       "  </thead>\n",
       "  <tbody>\n",
       "    <tr>\n",
       "      <th>0</th>\n",
       "      <td>-0.311566</td>\n",
       "      <td>0.786508</td>\n",
       "      <td>-0.420820</td>\n",
       "      <td>0.005069</td>\n",
       "      <td>-0.078644</td>\n",
       "      <td>-0.051298</td>\n",
       "      <td>-0.064725</td>\n",
       "      <td>0.007015</td>\n",
       "      <td>-0.076092</td>\n",
       "      <td>-0.036744</td>\n",
       "    </tr>\n",
       "    <tr>\n",
       "      <th>1</th>\n",
       "      <td>-0.284842</td>\n",
       "      <td>0.763991</td>\n",
       "      <td>-0.412010</td>\n",
       "      <td>-0.010849</td>\n",
       "      <td>-0.110165</td>\n",
       "      <td>-0.086296</td>\n",
       "      <td>-0.095253</td>\n",
       "      <td>0.052738</td>\n",
       "      <td>-0.176001</td>\n",
       "      <td>-0.046898</td>\n",
       "    </tr>\n",
       "    <tr>\n",
       "      <th>2</th>\n",
       "      <td>-0.284838</td>\n",
       "      <td>0.767911</td>\n",
       "      <td>-0.395569</td>\n",
       "      <td>-0.007682</td>\n",
       "      <td>-0.092046</td>\n",
       "      <td>-0.060658</td>\n",
       "      <td>-0.063066</td>\n",
       "      <td>0.037255</td>\n",
       "      <td>-0.088641</td>\n",
       "      <td>-0.025742</td>\n",
       "    </tr>\n",
       "    <tr>\n",
       "      <th>3</th>\n",
       "      <td>-0.291600</td>\n",
       "      <td>0.777177</td>\n",
       "      <td>-0.408317</td>\n",
       "      <td>0.000560</td>\n",
       "      <td>-0.081345</td>\n",
       "      <td>-0.047292</td>\n",
       "      <td>-0.053515</td>\n",
       "      <td>0.019897</td>\n",
       "      <td>-0.072116</td>\n",
       "      <td>-0.016419</td>\n",
       "    </tr>\n",
       "    <tr>\n",
       "      <th>4</th>\n",
       "      <td>0.732145</td>\n",
       "      <td>-0.153154</td>\n",
       "      <td>-0.102203</td>\n",
       "      <td>-0.458234</td>\n",
       "      <td>0.816834</td>\n",
       "      <td>0.045984</td>\n",
       "      <td>0.015548</td>\n",
       "      <td>-0.064560</td>\n",
       "      <td>0.014127</td>\n",
       "      <td>-0.004931</td>\n",
       "    </tr>\n",
       "  </tbody>\n",
       "</table>\n",
       "</div>"
      ],
      "text/plain": [
       "          0         1         2         3         4         5         6  \\\n",
       "0 -0.311566  0.786508 -0.420820  0.005069 -0.078644 -0.051298 -0.064725   \n",
       "1 -0.284842  0.763991 -0.412010 -0.010849 -0.110165 -0.086296 -0.095253   \n",
       "2 -0.284838  0.767911 -0.395569 -0.007682 -0.092046 -0.060658 -0.063066   \n",
       "3 -0.291600  0.777177 -0.408317  0.000560 -0.081345 -0.047292 -0.053515   \n",
       "4  0.732145 -0.153154 -0.102203 -0.458234  0.816834  0.045984  0.015548   \n",
       "\n",
       "          7         8         9  \n",
       "0  0.007015 -0.076092 -0.036744  \n",
       "1  0.052738 -0.176001 -0.046898  \n",
       "2  0.037255 -0.088641 -0.025742  \n",
       "3  0.019897 -0.072116 -0.016419  \n",
       "4 -0.064560  0.014127 -0.004931  "
      ]
     },
     "execution_count": 5,
     "metadata": {},
     "output_type": "execute_result"
    }
   ],
   "source": [
    "n_components=10\n",
    "PCA_Data = myLib.myPCA(Normalized_Data,n_components)\n",
    "PCA_Data.head()\n"
   ]
  },
  {
   "cell_type": "markdown",
   "metadata": {
    "pycharm": {
     "name": "#%% md\n"
    }
   },
   "source": [
    "####----------------------------------------------------------------\n",
    "# Decision Tree Classification \n",
    "####----------------------------------------------------------------"
   ]
  },
  {
   "cell_type": "code",
   "execution_count": 6,
   "metadata": {
    "pycharm": {
     "name": "#%%\n"
    }
   },
   "outputs": [
    {
     "data": {
      "text/plain": [
       "0    1\n",
       "1    1\n",
       "2    1\n",
       "3    1\n",
       "4    1\n",
       "Name: Class, dtype: int64"
      ]
     },
     "execution_count": 6,
     "metadata": {},
     "output_type": "execute_result"
    }
   ],
   "source": [
    "Y_Data.head()"
   ]
  },
  {
   "cell_type": "code",
   "execution_count": 7,
   "metadata": {
    "pycharm": {
     "name": "#%%\n"
    }
   },
   "outputs": [
    {
     "data": {
      "text/html": [
       "<div>\n",
       "<style scoped>\n",
       "    .dataframe tbody tr th:only-of-type {\n",
       "        vertical-align: middle;\n",
       "    }\n",
       "\n",
       "    .dataframe tbody tr th {\n",
       "        vertical-align: top;\n",
       "    }\n",
       "\n",
       "    .dataframe thead th {\n",
       "        text-align: right;\n",
       "    }\n",
       "</style>\n",
       "<table border=\"1\" class=\"dataframe\">\n",
       "  <thead>\n",
       "    <tr style=\"text-align: right;\">\n",
       "      <th></th>\n",
       "      <th>episodes</th>\n",
       "      <th>members</th>\n",
       "      <th>type_Movie</th>\n",
       "      <th>type_Music</th>\n",
       "      <th>type_ONA</th>\n",
       "      <th>type_OVA</th>\n",
       "      <th>type_Special</th>\n",
       "      <th>type_TV</th>\n",
       "      <th>genre_ Adventure</th>\n",
       "      <th>genre_ Cars</th>\n",
       "      <th>...</th>\n",
       "      <th>genre_Shoujo</th>\n",
       "      <th>genre_Shounen</th>\n",
       "      <th>genre_Slice of Life</th>\n",
       "      <th>genre_Space</th>\n",
       "      <th>genre_Sports</th>\n",
       "      <th>genre_Super Power</th>\n",
       "      <th>genre_Supernatural</th>\n",
       "      <th>genre_Thriller</th>\n",
       "      <th>genre_Vampire</th>\n",
       "      <th>genre_Yaoi</th>\n",
       "    </tr>\n",
       "  </thead>\n",
       "  <tbody>\n",
       "    <tr>\n",
       "      <th>0</th>\n",
       "      <td>1</td>\n",
       "      <td>200630</td>\n",
       "      <td>1</td>\n",
       "      <td>0</td>\n",
       "      <td>0</td>\n",
       "      <td>0</td>\n",
       "      <td>0</td>\n",
       "      <td>0</td>\n",
       "      <td>0</td>\n",
       "      <td>0</td>\n",
       "      <td>...</td>\n",
       "      <td>0</td>\n",
       "      <td>0</td>\n",
       "      <td>0</td>\n",
       "      <td>0</td>\n",
       "      <td>0</td>\n",
       "      <td>0</td>\n",
       "      <td>0</td>\n",
       "      <td>0</td>\n",
       "      <td>0</td>\n",
       "      <td>0</td>\n",
       "    </tr>\n",
       "    <tr>\n",
       "      <th>1</th>\n",
       "      <td>1</td>\n",
       "      <td>200630</td>\n",
       "      <td>1</td>\n",
       "      <td>0</td>\n",
       "      <td>0</td>\n",
       "      <td>0</td>\n",
       "      <td>0</td>\n",
       "      <td>0</td>\n",
       "      <td>0</td>\n",
       "      <td>0</td>\n",
       "      <td>...</td>\n",
       "      <td>0</td>\n",
       "      <td>0</td>\n",
       "      <td>0</td>\n",
       "      <td>0</td>\n",
       "      <td>0</td>\n",
       "      <td>0</td>\n",
       "      <td>0</td>\n",
       "      <td>0</td>\n",
       "      <td>0</td>\n",
       "      <td>0</td>\n",
       "    </tr>\n",
       "    <tr>\n",
       "      <th>2</th>\n",
       "      <td>1</td>\n",
       "      <td>200630</td>\n",
       "      <td>1</td>\n",
       "      <td>0</td>\n",
       "      <td>0</td>\n",
       "      <td>0</td>\n",
       "      <td>0</td>\n",
       "      <td>0</td>\n",
       "      <td>0</td>\n",
       "      <td>0</td>\n",
       "      <td>...</td>\n",
       "      <td>0</td>\n",
       "      <td>0</td>\n",
       "      <td>0</td>\n",
       "      <td>0</td>\n",
       "      <td>0</td>\n",
       "      <td>0</td>\n",
       "      <td>0</td>\n",
       "      <td>0</td>\n",
       "      <td>0</td>\n",
       "      <td>0</td>\n",
       "    </tr>\n",
       "    <tr>\n",
       "      <th>3</th>\n",
       "      <td>1</td>\n",
       "      <td>200630</td>\n",
       "      <td>1</td>\n",
       "      <td>0</td>\n",
       "      <td>0</td>\n",
       "      <td>0</td>\n",
       "      <td>0</td>\n",
       "      <td>0</td>\n",
       "      <td>0</td>\n",
       "      <td>0</td>\n",
       "      <td>...</td>\n",
       "      <td>0</td>\n",
       "      <td>0</td>\n",
       "      <td>0</td>\n",
       "      <td>0</td>\n",
       "      <td>0</td>\n",
       "      <td>0</td>\n",
       "      <td>0</td>\n",
       "      <td>0</td>\n",
       "      <td>0</td>\n",
       "      <td>0</td>\n",
       "    </tr>\n",
       "    <tr>\n",
       "      <th>4</th>\n",
       "      <td>64</td>\n",
       "      <td>793665</td>\n",
       "      <td>0</td>\n",
       "      <td>0</td>\n",
       "      <td>0</td>\n",
       "      <td>0</td>\n",
       "      <td>0</td>\n",
       "      <td>1</td>\n",
       "      <td>0</td>\n",
       "      <td>0</td>\n",
       "      <td>...</td>\n",
       "      <td>0</td>\n",
       "      <td>0</td>\n",
       "      <td>0</td>\n",
       "      <td>0</td>\n",
       "      <td>0</td>\n",
       "      <td>0</td>\n",
       "      <td>0</td>\n",
       "      <td>0</td>\n",
       "      <td>0</td>\n",
       "      <td>0</td>\n",
       "    </tr>\n",
       "  </tbody>\n",
       "</table>\n",
       "<p>5 rows × 90 columns</p>\n",
       "</div>"
      ],
      "text/plain": [
       "  episodes  members  type_Movie  type_Music  type_ONA  type_OVA  type_Special  \\\n",
       "0        1   200630           1           0         0         0             0   \n",
       "1        1   200630           1           0         0         0             0   \n",
       "2        1   200630           1           0         0         0             0   \n",
       "3        1   200630           1           0         0         0             0   \n",
       "4       64   793665           0           0         0         0             0   \n",
       "\n",
       "   type_TV  genre_ Adventure  genre_ Cars  ...  genre_Shoujo  genre_Shounen  \\\n",
       "0        0                 0            0  ...             0              0   \n",
       "1        0                 0            0  ...             0              0   \n",
       "2        0                 0            0  ...             0              0   \n",
       "3        0                 0            0  ...             0              0   \n",
       "4        1                 0            0  ...             0              0   \n",
       "\n",
       "   genre_Slice of Life  genre_Space  genre_Sports  genre_Super Power  \\\n",
       "0                    0            0             0                  0   \n",
       "1                    0            0             0                  0   \n",
       "2                    0            0             0                  0   \n",
       "3                    0            0             0                  0   \n",
       "4                    0            0             0                  0   \n",
       "\n",
       "   genre_Supernatural  genre_Thriller  genre_Vampire  genre_Yaoi  \n",
       "0                   0               0              0           0  \n",
       "1                   0               0              0           0  \n",
       "2                   0               0              0           0  \n",
       "3                   0               0              0           0  \n",
       "4                   0               0              0           0  \n",
       "\n",
       "[5 rows x 90 columns]"
      ]
     },
     "execution_count": 7,
     "metadata": {},
     "output_type": "execute_result"
    }
   ],
   "source": [
    "X_Data.head()"
   ]
  },
  {
   "cell_type": "code",
   "execution_count": 8,
   "metadata": {
    "pycharm": {
     "name": "#%%\n"
    }
   },
   "outputs": [
    {
     "data": {
      "text/html": [
       "<div>\n",
       "<style scoped>\n",
       "    .dataframe tbody tr th:only-of-type {\n",
       "        vertical-align: middle;\n",
       "    }\n",
       "\n",
       "    .dataframe tbody tr th {\n",
       "        vertical-align: top;\n",
       "    }\n",
       "\n",
       "    .dataframe thead th {\n",
       "        text-align: right;\n",
       "    }\n",
       "</style>\n",
       "<table border=\"1\" class=\"dataframe\">\n",
       "  <thead>\n",
       "    <tr style=\"text-align: right;\">\n",
       "      <th></th>\n",
       "      <th>0</th>\n",
       "      <th>1</th>\n",
       "      <th>2</th>\n",
       "      <th>3</th>\n",
       "      <th>4</th>\n",
       "      <th>5</th>\n",
       "      <th>6</th>\n",
       "      <th>7</th>\n",
       "      <th>8</th>\n",
       "      <th>9</th>\n",
       "      <th>...</th>\n",
       "      <th>80</th>\n",
       "      <th>81</th>\n",
       "      <th>82</th>\n",
       "      <th>83</th>\n",
       "      <th>84</th>\n",
       "      <th>85</th>\n",
       "      <th>86</th>\n",
       "      <th>87</th>\n",
       "      <th>88</th>\n",
       "      <th>89</th>\n",
       "    </tr>\n",
       "  </thead>\n",
       "  <tbody>\n",
       "    <tr>\n",
       "      <th>0</th>\n",
       "      <td>0.000000</td>\n",
       "      <td>0.197867</td>\n",
       "      <td>1.0</td>\n",
       "      <td>0.0</td>\n",
       "      <td>0.0</td>\n",
       "      <td>0.0</td>\n",
       "      <td>0.0</td>\n",
       "      <td>0.0</td>\n",
       "      <td>0.0</td>\n",
       "      <td>0.0</td>\n",
       "      <td>...</td>\n",
       "      <td>0.0</td>\n",
       "      <td>0.0</td>\n",
       "      <td>0.0</td>\n",
       "      <td>0.0</td>\n",
       "      <td>0.0</td>\n",
       "      <td>0.0</td>\n",
       "      <td>0.0</td>\n",
       "      <td>0.0</td>\n",
       "      <td>0.0</td>\n",
       "      <td>0.0</td>\n",
       "    </tr>\n",
       "    <tr>\n",
       "      <th>1</th>\n",
       "      <td>0.000000</td>\n",
       "      <td>0.197867</td>\n",
       "      <td>1.0</td>\n",
       "      <td>0.0</td>\n",
       "      <td>0.0</td>\n",
       "      <td>0.0</td>\n",
       "      <td>0.0</td>\n",
       "      <td>0.0</td>\n",
       "      <td>0.0</td>\n",
       "      <td>0.0</td>\n",
       "      <td>...</td>\n",
       "      <td>0.0</td>\n",
       "      <td>0.0</td>\n",
       "      <td>0.0</td>\n",
       "      <td>0.0</td>\n",
       "      <td>0.0</td>\n",
       "      <td>0.0</td>\n",
       "      <td>0.0</td>\n",
       "      <td>0.0</td>\n",
       "      <td>0.0</td>\n",
       "      <td>0.0</td>\n",
       "    </tr>\n",
       "    <tr>\n",
       "      <th>2</th>\n",
       "      <td>0.000000</td>\n",
       "      <td>0.197867</td>\n",
       "      <td>1.0</td>\n",
       "      <td>0.0</td>\n",
       "      <td>0.0</td>\n",
       "      <td>0.0</td>\n",
       "      <td>0.0</td>\n",
       "      <td>0.0</td>\n",
       "      <td>0.0</td>\n",
       "      <td>0.0</td>\n",
       "      <td>...</td>\n",
       "      <td>0.0</td>\n",
       "      <td>0.0</td>\n",
       "      <td>0.0</td>\n",
       "      <td>0.0</td>\n",
       "      <td>0.0</td>\n",
       "      <td>0.0</td>\n",
       "      <td>0.0</td>\n",
       "      <td>0.0</td>\n",
       "      <td>0.0</td>\n",
       "      <td>0.0</td>\n",
       "    </tr>\n",
       "    <tr>\n",
       "      <th>3</th>\n",
       "      <td>0.000000</td>\n",
       "      <td>0.197867</td>\n",
       "      <td>1.0</td>\n",
       "      <td>0.0</td>\n",
       "      <td>0.0</td>\n",
       "      <td>0.0</td>\n",
       "      <td>0.0</td>\n",
       "      <td>0.0</td>\n",
       "      <td>0.0</td>\n",
       "      <td>0.0</td>\n",
       "      <td>...</td>\n",
       "      <td>0.0</td>\n",
       "      <td>0.0</td>\n",
       "      <td>0.0</td>\n",
       "      <td>0.0</td>\n",
       "      <td>0.0</td>\n",
       "      <td>0.0</td>\n",
       "      <td>0.0</td>\n",
       "      <td>0.0</td>\n",
       "      <td>0.0</td>\n",
       "      <td>0.0</td>\n",
       "    </tr>\n",
       "    <tr>\n",
       "      <th>4</th>\n",
       "      <td>0.034673</td>\n",
       "      <td>0.782769</td>\n",
       "      <td>0.0</td>\n",
       "      <td>0.0</td>\n",
       "      <td>0.0</td>\n",
       "      <td>0.0</td>\n",
       "      <td>0.0</td>\n",
       "      <td>1.0</td>\n",
       "      <td>0.0</td>\n",
       "      <td>0.0</td>\n",
       "      <td>...</td>\n",
       "      <td>0.0</td>\n",
       "      <td>0.0</td>\n",
       "      <td>0.0</td>\n",
       "      <td>0.0</td>\n",
       "      <td>0.0</td>\n",
       "      <td>0.0</td>\n",
       "      <td>0.0</td>\n",
       "      <td>0.0</td>\n",
       "      <td>0.0</td>\n",
       "      <td>0.0</td>\n",
       "    </tr>\n",
       "  </tbody>\n",
       "</table>\n",
       "<p>5 rows × 90 columns</p>\n",
       "</div>"
      ],
      "text/plain": [
       "         0         1    2    3    4    5    6    7    8    9   ...   80   81  \\\n",
       "0  0.000000  0.197867  1.0  0.0  0.0  0.0  0.0  0.0  0.0  0.0  ...  0.0  0.0   \n",
       "1  0.000000  0.197867  1.0  0.0  0.0  0.0  0.0  0.0  0.0  0.0  ...  0.0  0.0   \n",
       "2  0.000000  0.197867  1.0  0.0  0.0  0.0  0.0  0.0  0.0  0.0  ...  0.0  0.0   \n",
       "3  0.000000  0.197867  1.0  0.0  0.0  0.0  0.0  0.0  0.0  0.0  ...  0.0  0.0   \n",
       "4  0.034673  0.782769  0.0  0.0  0.0  0.0  0.0  1.0  0.0  0.0  ...  0.0  0.0   \n",
       "\n",
       "    82   83   84   85   86   87   88   89  \n",
       "0  0.0  0.0  0.0  0.0  0.0  0.0  0.0  0.0  \n",
       "1  0.0  0.0  0.0  0.0  0.0  0.0  0.0  0.0  \n",
       "2  0.0  0.0  0.0  0.0  0.0  0.0  0.0  0.0  \n",
       "3  0.0  0.0  0.0  0.0  0.0  0.0  0.0  0.0  \n",
       "4  0.0  0.0  0.0  0.0  0.0  0.0  0.0  0.0  \n",
       "\n",
       "[5 rows x 90 columns]"
      ]
     },
     "execution_count": 8,
     "metadata": {},
     "output_type": "execute_result"
    }
   ],
   "source": [
    "Normalized_Data.head()"
   ]
  },
  {
   "cell_type": "code",
   "execution_count": 9,
   "metadata": {
    "pycharm": {
     "name": "#%%\n"
    }
   },
   "outputs": [
    {
     "data": {
      "text/html": [
       "<div>\n",
       "<style scoped>\n",
       "    .dataframe tbody tr th:only-of-type {\n",
       "        vertical-align: middle;\n",
       "    }\n",
       "\n",
       "    .dataframe tbody tr th {\n",
       "        vertical-align: top;\n",
       "    }\n",
       "\n",
       "    .dataframe thead th {\n",
       "        text-align: right;\n",
       "    }\n",
       "</style>\n",
       "<table border=\"1\" class=\"dataframe\">\n",
       "  <thead>\n",
       "    <tr style=\"text-align: right;\">\n",
       "      <th></th>\n",
       "      <th>0</th>\n",
       "      <th>1</th>\n",
       "      <th>2</th>\n",
       "      <th>3</th>\n",
       "      <th>4</th>\n",
       "      <th>5</th>\n",
       "      <th>6</th>\n",
       "      <th>7</th>\n",
       "      <th>8</th>\n",
       "      <th>9</th>\n",
       "    </tr>\n",
       "  </thead>\n",
       "  <tbody>\n",
       "    <tr>\n",
       "      <th>0</th>\n",
       "      <td>-0.311566</td>\n",
       "      <td>0.786508</td>\n",
       "      <td>-0.420820</td>\n",
       "      <td>0.005069</td>\n",
       "      <td>-0.078644</td>\n",
       "      <td>-0.051298</td>\n",
       "      <td>-0.064725</td>\n",
       "      <td>0.007015</td>\n",
       "      <td>-0.076092</td>\n",
       "      <td>-0.036744</td>\n",
       "    </tr>\n",
       "    <tr>\n",
       "      <th>1</th>\n",
       "      <td>-0.284842</td>\n",
       "      <td>0.763991</td>\n",
       "      <td>-0.412010</td>\n",
       "      <td>-0.010849</td>\n",
       "      <td>-0.110165</td>\n",
       "      <td>-0.086296</td>\n",
       "      <td>-0.095253</td>\n",
       "      <td>0.052738</td>\n",
       "      <td>-0.176001</td>\n",
       "      <td>-0.046898</td>\n",
       "    </tr>\n",
       "    <tr>\n",
       "      <th>2</th>\n",
       "      <td>-0.284838</td>\n",
       "      <td>0.767911</td>\n",
       "      <td>-0.395569</td>\n",
       "      <td>-0.007682</td>\n",
       "      <td>-0.092046</td>\n",
       "      <td>-0.060658</td>\n",
       "      <td>-0.063066</td>\n",
       "      <td>0.037255</td>\n",
       "      <td>-0.088641</td>\n",
       "      <td>-0.025742</td>\n",
       "    </tr>\n",
       "    <tr>\n",
       "      <th>3</th>\n",
       "      <td>-0.291600</td>\n",
       "      <td>0.777177</td>\n",
       "      <td>-0.408317</td>\n",
       "      <td>0.000560</td>\n",
       "      <td>-0.081345</td>\n",
       "      <td>-0.047292</td>\n",
       "      <td>-0.053515</td>\n",
       "      <td>0.019897</td>\n",
       "      <td>-0.072116</td>\n",
       "      <td>-0.016419</td>\n",
       "    </tr>\n",
       "    <tr>\n",
       "      <th>4</th>\n",
       "      <td>0.732145</td>\n",
       "      <td>-0.153154</td>\n",
       "      <td>-0.102203</td>\n",
       "      <td>-0.458234</td>\n",
       "      <td>0.816834</td>\n",
       "      <td>0.045984</td>\n",
       "      <td>0.015548</td>\n",
       "      <td>-0.064560</td>\n",
       "      <td>0.014127</td>\n",
       "      <td>-0.004931</td>\n",
       "    </tr>\n",
       "  </tbody>\n",
       "</table>\n",
       "</div>"
      ],
      "text/plain": [
       "          0         1         2         3         4         5         6  \\\n",
       "0 -0.311566  0.786508 -0.420820  0.005069 -0.078644 -0.051298 -0.064725   \n",
       "1 -0.284842  0.763991 -0.412010 -0.010849 -0.110165 -0.086296 -0.095253   \n",
       "2 -0.284838  0.767911 -0.395569 -0.007682 -0.092046 -0.060658 -0.063066   \n",
       "3 -0.291600  0.777177 -0.408317  0.000560 -0.081345 -0.047292 -0.053515   \n",
       "4  0.732145 -0.153154 -0.102203 -0.458234  0.816834  0.045984  0.015548   \n",
       "\n",
       "          7         8         9  \n",
       "0  0.007015 -0.076092 -0.036744  \n",
       "1  0.052738 -0.176001 -0.046898  \n",
       "2  0.037255 -0.088641 -0.025742  \n",
       "3  0.019897 -0.072116 -0.016419  \n",
       "4 -0.064560  0.014127 -0.004931  "
      ]
     },
     "execution_count": 9,
     "metadata": {},
     "output_type": "execute_result"
    }
   ],
   "source": [
    "PCA_Data.head()\n"
   ]
  },
  {
   "cell_type": "markdown",
   "metadata": {},
   "source": [
    "####----------------------------------------------------------------\n",
    "#### Split Original Data\n",
    "####----------------------------------------------------------------"
   ]
  },
  {
   "cell_type": "code",
   "execution_count": 10,
   "metadata": {
    "pycharm": {
     "name": "#%%\n"
    }
   },
   "outputs": [
    {
     "data": {
      "text/html": [
       "<div>\n",
       "<style scoped>\n",
       "    .dataframe tbody tr th:only-of-type {\n",
       "        vertical-align: middle;\n",
       "    }\n",
       "\n",
       "    .dataframe tbody tr th {\n",
       "        vertical-align: top;\n",
       "    }\n",
       "\n",
       "    .dataframe thead th {\n",
       "        text-align: right;\n",
       "    }\n",
       "</style>\n",
       "<table border=\"1\" class=\"dataframe\">\n",
       "  <thead>\n",
       "    <tr style=\"text-align: right;\">\n",
       "      <th></th>\n",
       "      <th>episodes</th>\n",
       "      <th>members</th>\n",
       "      <th>type_Movie</th>\n",
       "      <th>type_Music</th>\n",
       "      <th>type_ONA</th>\n",
       "      <th>type_OVA</th>\n",
       "      <th>type_Special</th>\n",
       "      <th>type_TV</th>\n",
       "      <th>genre_ Adventure</th>\n",
       "      <th>genre_ Cars</th>\n",
       "      <th>...</th>\n",
       "      <th>genre_Shoujo</th>\n",
       "      <th>genre_Shounen</th>\n",
       "      <th>genre_Slice of Life</th>\n",
       "      <th>genre_Space</th>\n",
       "      <th>genre_Sports</th>\n",
       "      <th>genre_Super Power</th>\n",
       "      <th>genre_Supernatural</th>\n",
       "      <th>genre_Thriller</th>\n",
       "      <th>genre_Vampire</th>\n",
       "      <th>genre_Yaoi</th>\n",
       "    </tr>\n",
       "  </thead>\n",
       "  <tbody>\n",
       "    <tr>\n",
       "      <th>32729</th>\n",
       "      <td>2</td>\n",
       "      <td>132</td>\n",
       "      <td>0</td>\n",
       "      <td>0</td>\n",
       "      <td>0</td>\n",
       "      <td>0</td>\n",
       "      <td>1</td>\n",
       "      <td>0</td>\n",
       "      <td>0</td>\n",
       "      <td>0</td>\n",
       "      <td>...</td>\n",
       "      <td>0</td>\n",
       "      <td>0</td>\n",
       "      <td>0</td>\n",
       "      <td>0</td>\n",
       "      <td>0</td>\n",
       "      <td>0</td>\n",
       "      <td>0</td>\n",
       "      <td>0</td>\n",
       "      <td>0</td>\n",
       "      <td>0</td>\n",
       "    </tr>\n",
       "    <tr>\n",
       "      <th>24946</th>\n",
       "      <td>2</td>\n",
       "      <td>7051</td>\n",
       "      <td>0</td>\n",
       "      <td>0</td>\n",
       "      <td>0</td>\n",
       "      <td>1</td>\n",
       "      <td>0</td>\n",
       "      <td>0</td>\n",
       "      <td>0</td>\n",
       "      <td>0</td>\n",
       "      <td>...</td>\n",
       "      <td>0</td>\n",
       "      <td>0</td>\n",
       "      <td>0</td>\n",
       "      <td>0</td>\n",
       "      <td>0</td>\n",
       "      <td>0</td>\n",
       "      <td>0</td>\n",
       "      <td>0</td>\n",
       "      <td>0</td>\n",
       "      <td>0</td>\n",
       "    </tr>\n",
       "    <tr>\n",
       "      <th>8676</th>\n",
       "      <td>50</td>\n",
       "      <td>65896</td>\n",
       "      <td>0</td>\n",
       "      <td>0</td>\n",
       "      <td>0</td>\n",
       "      <td>0</td>\n",
       "      <td>0</td>\n",
       "      <td>1</td>\n",
       "      <td>0</td>\n",
       "      <td>0</td>\n",
       "      <td>...</td>\n",
       "      <td>0</td>\n",
       "      <td>0</td>\n",
       "      <td>0</td>\n",
       "      <td>0</td>\n",
       "      <td>0</td>\n",
       "      <td>0</td>\n",
       "      <td>0</td>\n",
       "      <td>0</td>\n",
       "      <td>0</td>\n",
       "      <td>0</td>\n",
       "    </tr>\n",
       "    <tr>\n",
       "      <th>13244</th>\n",
       "      <td>52</td>\n",
       "      <td>67936</td>\n",
       "      <td>0</td>\n",
       "      <td>0</td>\n",
       "      <td>0</td>\n",
       "      <td>0</td>\n",
       "      <td>0</td>\n",
       "      <td>1</td>\n",
       "      <td>0</td>\n",
       "      <td>0</td>\n",
       "      <td>...</td>\n",
       "      <td>0</td>\n",
       "      <td>0</td>\n",
       "      <td>0</td>\n",
       "      <td>0</td>\n",
       "      <td>0</td>\n",
       "      <td>0</td>\n",
       "      <td>0</td>\n",
       "      <td>0</td>\n",
       "      <td>0</td>\n",
       "      <td>0</td>\n",
       "    </tr>\n",
       "    <tr>\n",
       "      <th>29384</th>\n",
       "      <td>15</td>\n",
       "      <td>49</td>\n",
       "      <td>0</td>\n",
       "      <td>0</td>\n",
       "      <td>0</td>\n",
       "      <td>0</td>\n",
       "      <td>0</td>\n",
       "      <td>1</td>\n",
       "      <td>0</td>\n",
       "      <td>0</td>\n",
       "      <td>...</td>\n",
       "      <td>0</td>\n",
       "      <td>0</td>\n",
       "      <td>0</td>\n",
       "      <td>0</td>\n",
       "      <td>0</td>\n",
       "      <td>0</td>\n",
       "      <td>0</td>\n",
       "      <td>0</td>\n",
       "      <td>0</td>\n",
       "      <td>0</td>\n",
       "    </tr>\n",
       "  </tbody>\n",
       "</table>\n",
       "<p>5 rows × 90 columns</p>\n",
       "</div>"
      ],
      "text/plain": [
       "      episodes  members  type_Movie  type_Music  type_ONA  type_OVA  \\\n",
       "32729        2      132           0           0         0         0   \n",
       "24946        2     7051           0           0         0         1   \n",
       "8676        50    65896           0           0         0         0   \n",
       "13244       52    67936           0           0         0         0   \n",
       "29384       15       49           0           0         0         0   \n",
       "\n",
       "       type_Special  type_TV  genre_ Adventure  genre_ Cars  ...  \\\n",
       "32729             1        0                 0            0  ...   \n",
       "24946             0        0                 0            0  ...   \n",
       "8676              0        1                 0            0  ...   \n",
       "13244             0        1                 0            0  ...   \n",
       "29384             0        1                 0            0  ...   \n",
       "\n",
       "       genre_Shoujo  genre_Shounen  genre_Slice of Life  genre_Space  \\\n",
       "32729             0              0                    0            0   \n",
       "24946             0              0                    0            0   \n",
       "8676              0              0                    0            0   \n",
       "13244             0              0                    0            0   \n",
       "29384             0              0                    0            0   \n",
       "\n",
       "       genre_Sports  genre_Super Power  genre_Supernatural  genre_Thriller  \\\n",
       "32729             0                  0                   0               0   \n",
       "24946             0                  0                   0               0   \n",
       "8676              0                  0                   0               0   \n",
       "13244             0                  0                   0               0   \n",
       "29384             0                  0                   0               0   \n",
       "\n",
       "       genre_Vampire  genre_Yaoi  \n",
       "32729              0           0  \n",
       "24946              0           0  \n",
       "8676               0           0  \n",
       "13244              0           0  \n",
       "29384              0           0  \n",
       "\n",
       "[5 rows x 90 columns]"
      ]
     },
     "execution_count": 10,
     "metadata": {},
     "output_type": "execute_result"
    }
   ],
   "source": [
    "X_train, X_test, y_train, y_test  = myLib.mySplitData(X_Data,Y_Data,0.33,42)\n",
    "\n",
    "X_train.head()"
   ]
  },
  {
   "cell_type": "code",
   "execution_count": 11,
   "metadata": {
    "pycharm": {
     "name": "#%%\n"
    }
   },
   "outputs": [
    {
     "data": {
      "text/html": [
       "<div>\n",
       "<style scoped>\n",
       "    .dataframe tbody tr th:only-of-type {\n",
       "        vertical-align: middle;\n",
       "    }\n",
       "\n",
       "    .dataframe tbody tr th {\n",
       "        vertical-align: top;\n",
       "    }\n",
       "\n",
       "    .dataframe thead th {\n",
       "        text-align: right;\n",
       "    }\n",
       "</style>\n",
       "<table border=\"1\" class=\"dataframe\">\n",
       "  <thead>\n",
       "    <tr style=\"text-align: right;\">\n",
       "      <th></th>\n",
       "      <th>episodes</th>\n",
       "      <th>members</th>\n",
       "      <th>type_Movie</th>\n",
       "      <th>type_Music</th>\n",
       "      <th>type_ONA</th>\n",
       "      <th>type_OVA</th>\n",
       "      <th>type_Special</th>\n",
       "      <th>type_TV</th>\n",
       "      <th>genre_ Adventure</th>\n",
       "      <th>genre_ Cars</th>\n",
       "      <th>...</th>\n",
       "      <th>genre_Shoujo</th>\n",
       "      <th>genre_Shounen</th>\n",
       "      <th>genre_Slice of Life</th>\n",
       "      <th>genre_Space</th>\n",
       "      <th>genre_Sports</th>\n",
       "      <th>genre_Super Power</th>\n",
       "      <th>genre_Supernatural</th>\n",
       "      <th>genre_Thriller</th>\n",
       "      <th>genre_Vampire</th>\n",
       "      <th>genre_Yaoi</th>\n",
       "    </tr>\n",
       "  </thead>\n",
       "  <tbody>\n",
       "    <tr>\n",
       "      <th>22373</th>\n",
       "      <td>10</td>\n",
       "      <td>3331</td>\n",
       "      <td>0</td>\n",
       "      <td>0</td>\n",
       "      <td>1</td>\n",
       "      <td>0</td>\n",
       "      <td>0</td>\n",
       "      <td>0</td>\n",
       "      <td>0</td>\n",
       "      <td>0</td>\n",
       "      <td>...</td>\n",
       "      <td>0</td>\n",
       "      <td>0</td>\n",
       "      <td>0</td>\n",
       "      <td>0</td>\n",
       "      <td>0</td>\n",
       "      <td>0</td>\n",
       "      <td>0</td>\n",
       "      <td>0</td>\n",
       "      <td>0</td>\n",
       "      <td>0</td>\n",
       "    </tr>\n",
       "    <tr>\n",
       "      <th>10508</th>\n",
       "      <td>12</td>\n",
       "      <td>28423</td>\n",
       "      <td>0</td>\n",
       "      <td>0</td>\n",
       "      <td>0</td>\n",
       "      <td>0</td>\n",
       "      <td>0</td>\n",
       "      <td>1</td>\n",
       "      <td>0</td>\n",
       "      <td>0</td>\n",
       "      <td>...</td>\n",
       "      <td>0</td>\n",
       "      <td>0</td>\n",
       "      <td>0</td>\n",
       "      <td>0</td>\n",
       "      <td>0</td>\n",
       "      <td>0</td>\n",
       "      <td>0</td>\n",
       "      <td>0</td>\n",
       "      <td>0</td>\n",
       "      <td>0</td>\n",
       "    </tr>\n",
       "    <tr>\n",
       "      <th>11570</th>\n",
       "      <td>1</td>\n",
       "      <td>5078</td>\n",
       "      <td>1</td>\n",
       "      <td>0</td>\n",
       "      <td>0</td>\n",
       "      <td>0</td>\n",
       "      <td>0</td>\n",
       "      <td>0</td>\n",
       "      <td>0</td>\n",
       "      <td>0</td>\n",
       "      <td>...</td>\n",
       "      <td>0</td>\n",
       "      <td>0</td>\n",
       "      <td>0</td>\n",
       "      <td>0</td>\n",
       "      <td>0</td>\n",
       "      <td>0</td>\n",
       "      <td>0</td>\n",
       "      <td>0</td>\n",
       "      <td>0</td>\n",
       "      <td>0</td>\n",
       "    </tr>\n",
       "    <tr>\n",
       "      <th>22262</th>\n",
       "      <td>1</td>\n",
       "      <td>390</td>\n",
       "      <td>1</td>\n",
       "      <td>0</td>\n",
       "      <td>0</td>\n",
       "      <td>0</td>\n",
       "      <td>0</td>\n",
       "      <td>0</td>\n",
       "      <td>0</td>\n",
       "      <td>0</td>\n",
       "      <td>...</td>\n",
       "      <td>0</td>\n",
       "      <td>0</td>\n",
       "      <td>0</td>\n",
       "      <td>0</td>\n",
       "      <td>0</td>\n",
       "      <td>0</td>\n",
       "      <td>0</td>\n",
       "      <td>0</td>\n",
       "      <td>0</td>\n",
       "      <td>0</td>\n",
       "    </tr>\n",
       "    <tr>\n",
       "      <th>734</th>\n",
       "      <td>15</td>\n",
       "      <td>482268</td>\n",
       "      <td>0</td>\n",
       "      <td>0</td>\n",
       "      <td>0</td>\n",
       "      <td>0</td>\n",
       "      <td>0</td>\n",
       "      <td>1</td>\n",
       "      <td>0</td>\n",
       "      <td>0</td>\n",
       "      <td>...</td>\n",
       "      <td>0</td>\n",
       "      <td>0</td>\n",
       "      <td>0</td>\n",
       "      <td>0</td>\n",
       "      <td>0</td>\n",
       "      <td>0</td>\n",
       "      <td>0</td>\n",
       "      <td>0</td>\n",
       "      <td>0</td>\n",
       "      <td>0</td>\n",
       "    </tr>\n",
       "  </tbody>\n",
       "</table>\n",
       "<p>5 rows × 90 columns</p>\n",
       "</div>"
      ],
      "text/plain": [
       "      episodes  members  type_Movie  type_Music  type_ONA  type_OVA  \\\n",
       "22373       10     3331           0           0         1         0   \n",
       "10508       12    28423           0           0         0         0   \n",
       "11570        1     5078           1           0         0         0   \n",
       "22262        1      390           1           0         0         0   \n",
       "734         15   482268           0           0         0         0   \n",
       "\n",
       "       type_Special  type_TV  genre_ Adventure  genre_ Cars  ...  \\\n",
       "22373             0        0                 0            0  ...   \n",
       "10508             0        1                 0            0  ...   \n",
       "11570             0        0                 0            0  ...   \n",
       "22262             0        0                 0            0  ...   \n",
       "734               0        1                 0            0  ...   \n",
       "\n",
       "       genre_Shoujo  genre_Shounen  genre_Slice of Life  genre_Space  \\\n",
       "22373             0              0                    0            0   \n",
       "10508             0              0                    0            0   \n",
       "11570             0              0                    0            0   \n",
       "22262             0              0                    0            0   \n",
       "734               0              0                    0            0   \n",
       "\n",
       "       genre_Sports  genre_Super Power  genre_Supernatural  genre_Thriller  \\\n",
       "22373             0                  0                   0               0   \n",
       "10508             0                  0                   0               0   \n",
       "11570             0                  0                   0               0   \n",
       "22262             0                  0                   0               0   \n",
       "734               0                  0                   0               0   \n",
       "\n",
       "       genre_Vampire  genre_Yaoi  \n",
       "22373              0           0  \n",
       "10508              0           0  \n",
       "11570              0           0  \n",
       "22262              0           0  \n",
       "734                0           0  \n",
       "\n",
       "[5 rows x 90 columns]"
      ]
     },
     "execution_count": 11,
     "metadata": {},
     "output_type": "execute_result"
    }
   ],
   "source": [
    "X_test.head()"
   ]
  },
  {
   "cell_type": "code",
   "execution_count": 12,
   "metadata": {
    "pycharm": {
     "name": "#%%\n"
    }
   },
   "outputs": [
    {
     "data": {
      "text/plain": [
       "32729    1\n",
       "24946    0\n",
       "8676     1\n",
       "13244    1\n",
       "29384    1\n",
       "Name: Class, dtype: int64"
      ]
     },
     "execution_count": 12,
     "metadata": {},
     "output_type": "execute_result"
    }
   ],
   "source": [
    "y_train.head()"
   ]
  },
  {
   "cell_type": "code",
   "execution_count": 13,
   "metadata": {
    "pycharm": {
     "name": "#%%\n"
    }
   },
   "outputs": [
    {
     "data": {
      "text/plain": [
       "22373    0\n",
       "10508    1\n",
       "11570    1\n",
       "22262    0\n",
       "734      1\n",
       "Name: Class, dtype: int64"
      ]
     },
     "execution_count": 13,
     "metadata": {},
     "output_type": "execute_result"
    }
   ],
   "source": [
    "y_test.head()\n"
   ]
  },
  {
   "cell_type": "markdown",
   "metadata": {},
   "source": [
    "####----------------------------------------------------------------\n",
    "#### Split Original Normalized_Data\n",
    "####----------------------------------------------------------------"
   ]
  },
  {
   "cell_type": "code",
   "execution_count": 14,
   "metadata": {
    "pycharm": {
     "name": "#%%\n"
    }
   },
   "outputs": [
    {
     "data": {
      "text/html": [
       "<div>\n",
       "<style scoped>\n",
       "    .dataframe tbody tr th:only-of-type {\n",
       "        vertical-align: middle;\n",
       "    }\n",
       "\n",
       "    .dataframe tbody tr th {\n",
       "        vertical-align: top;\n",
       "    }\n",
       "\n",
       "    .dataframe thead th {\n",
       "        text-align: right;\n",
       "    }\n",
       "</style>\n",
       "<table border=\"1\" class=\"dataframe\">\n",
       "  <thead>\n",
       "    <tr style=\"text-align: right;\">\n",
       "      <th></th>\n",
       "      <th>0</th>\n",
       "      <th>1</th>\n",
       "      <th>2</th>\n",
       "      <th>3</th>\n",
       "      <th>4</th>\n",
       "      <th>5</th>\n",
       "      <th>6</th>\n",
       "      <th>7</th>\n",
       "      <th>8</th>\n",
       "      <th>9</th>\n",
       "      <th>...</th>\n",
       "      <th>80</th>\n",
       "      <th>81</th>\n",
       "      <th>82</th>\n",
       "      <th>83</th>\n",
       "      <th>84</th>\n",
       "      <th>85</th>\n",
       "      <th>86</th>\n",
       "      <th>87</th>\n",
       "      <th>88</th>\n",
       "      <th>89</th>\n",
       "    </tr>\n",
       "  </thead>\n",
       "  <tbody>\n",
       "    <tr>\n",
       "      <th>32729</th>\n",
       "      <td>0.000550</td>\n",
       "      <td>0.000118</td>\n",
       "      <td>0.0</td>\n",
       "      <td>0.0</td>\n",
       "      <td>0.0</td>\n",
       "      <td>0.0</td>\n",
       "      <td>1.0</td>\n",
       "      <td>0.0</td>\n",
       "      <td>0.0</td>\n",
       "      <td>0.0</td>\n",
       "      <td>...</td>\n",
       "      <td>0.0</td>\n",
       "      <td>0.0</td>\n",
       "      <td>0.0</td>\n",
       "      <td>0.0</td>\n",
       "      <td>0.0</td>\n",
       "      <td>0.0</td>\n",
       "      <td>0.0</td>\n",
       "      <td>0.0</td>\n",
       "      <td>0.0</td>\n",
       "      <td>0.0</td>\n",
       "    </tr>\n",
       "    <tr>\n",
       "      <th>24946</th>\n",
       "      <td>0.000550</td>\n",
       "      <td>0.006942</td>\n",
       "      <td>0.0</td>\n",
       "      <td>0.0</td>\n",
       "      <td>0.0</td>\n",
       "      <td>1.0</td>\n",
       "      <td>0.0</td>\n",
       "      <td>0.0</td>\n",
       "      <td>0.0</td>\n",
       "      <td>0.0</td>\n",
       "      <td>...</td>\n",
       "      <td>0.0</td>\n",
       "      <td>0.0</td>\n",
       "      <td>0.0</td>\n",
       "      <td>0.0</td>\n",
       "      <td>0.0</td>\n",
       "      <td>0.0</td>\n",
       "      <td>0.0</td>\n",
       "      <td>0.0</td>\n",
       "      <td>0.0</td>\n",
       "      <td>0.0</td>\n",
       "    </tr>\n",
       "    <tr>\n",
       "      <th>8676</th>\n",
       "      <td>0.026968</td>\n",
       "      <td>0.064980</td>\n",
       "      <td>0.0</td>\n",
       "      <td>0.0</td>\n",
       "      <td>0.0</td>\n",
       "      <td>0.0</td>\n",
       "      <td>0.0</td>\n",
       "      <td>1.0</td>\n",
       "      <td>0.0</td>\n",
       "      <td>0.0</td>\n",
       "      <td>...</td>\n",
       "      <td>0.0</td>\n",
       "      <td>0.0</td>\n",
       "      <td>0.0</td>\n",
       "      <td>0.0</td>\n",
       "      <td>0.0</td>\n",
       "      <td>0.0</td>\n",
       "      <td>0.0</td>\n",
       "      <td>0.0</td>\n",
       "      <td>0.0</td>\n",
       "      <td>0.0</td>\n",
       "    </tr>\n",
       "    <tr>\n",
       "      <th>13244</th>\n",
       "      <td>0.028068</td>\n",
       "      <td>0.066992</td>\n",
       "      <td>0.0</td>\n",
       "      <td>0.0</td>\n",
       "      <td>0.0</td>\n",
       "      <td>0.0</td>\n",
       "      <td>0.0</td>\n",
       "      <td>1.0</td>\n",
       "      <td>0.0</td>\n",
       "      <td>0.0</td>\n",
       "      <td>...</td>\n",
       "      <td>0.0</td>\n",
       "      <td>0.0</td>\n",
       "      <td>0.0</td>\n",
       "      <td>0.0</td>\n",
       "      <td>0.0</td>\n",
       "      <td>0.0</td>\n",
       "      <td>0.0</td>\n",
       "      <td>0.0</td>\n",
       "      <td>0.0</td>\n",
       "      <td>0.0</td>\n",
       "    </tr>\n",
       "    <tr>\n",
       "      <th>29384</th>\n",
       "      <td>0.007705</td>\n",
       "      <td>0.000036</td>\n",
       "      <td>0.0</td>\n",
       "      <td>0.0</td>\n",
       "      <td>0.0</td>\n",
       "      <td>0.0</td>\n",
       "      <td>0.0</td>\n",
       "      <td>1.0</td>\n",
       "      <td>0.0</td>\n",
       "      <td>0.0</td>\n",
       "      <td>...</td>\n",
       "      <td>0.0</td>\n",
       "      <td>0.0</td>\n",
       "      <td>0.0</td>\n",
       "      <td>0.0</td>\n",
       "      <td>0.0</td>\n",
       "      <td>0.0</td>\n",
       "      <td>0.0</td>\n",
       "      <td>0.0</td>\n",
       "      <td>0.0</td>\n",
       "      <td>0.0</td>\n",
       "    </tr>\n",
       "  </tbody>\n",
       "</table>\n",
       "<p>5 rows × 90 columns</p>\n",
       "</div>"
      ],
      "text/plain": [
       "             0         1    2    3    4    5    6    7    8    9   ...   80  \\\n",
       "32729  0.000550  0.000118  0.0  0.0  0.0  0.0  1.0  0.0  0.0  0.0  ...  0.0   \n",
       "24946  0.000550  0.006942  0.0  0.0  0.0  1.0  0.0  0.0  0.0  0.0  ...  0.0   \n",
       "8676   0.026968  0.064980  0.0  0.0  0.0  0.0  0.0  1.0  0.0  0.0  ...  0.0   \n",
       "13244  0.028068  0.066992  0.0  0.0  0.0  0.0  0.0  1.0  0.0  0.0  ...  0.0   \n",
       "29384  0.007705  0.000036  0.0  0.0  0.0  0.0  0.0  1.0  0.0  0.0  ...  0.0   \n",
       "\n",
       "        81   82   83   84   85   86   87   88   89  \n",
       "32729  0.0  0.0  0.0  0.0  0.0  0.0  0.0  0.0  0.0  \n",
       "24946  0.0  0.0  0.0  0.0  0.0  0.0  0.0  0.0  0.0  \n",
       "8676   0.0  0.0  0.0  0.0  0.0  0.0  0.0  0.0  0.0  \n",
       "13244  0.0  0.0  0.0  0.0  0.0  0.0  0.0  0.0  0.0  \n",
       "29384  0.0  0.0  0.0  0.0  0.0  0.0  0.0  0.0  0.0  \n",
       "\n",
       "[5 rows x 90 columns]"
      ]
     },
     "execution_count": 14,
     "metadata": {},
     "output_type": "execute_result"
    }
   ],
   "source": [
    "Normalized_X_train, Normalized_X_test, Normalized_y_train, Normalized_y_test  = myLib.mySplitData(Normalized_Data,Y_Data,0.33,42)\n",
    "\n",
    "Normalized_X_train.head()"
   ]
  },
  {
   "cell_type": "code",
   "execution_count": 15,
   "metadata": {
    "pycharm": {
     "name": "#%%\n"
    }
   },
   "outputs": [
    {
     "data": {
      "text/html": [
       "<div>\n",
       "<style scoped>\n",
       "    .dataframe tbody tr th:only-of-type {\n",
       "        vertical-align: middle;\n",
       "    }\n",
       "\n",
       "    .dataframe tbody tr th {\n",
       "        vertical-align: top;\n",
       "    }\n",
       "\n",
       "    .dataframe thead th {\n",
       "        text-align: right;\n",
       "    }\n",
       "</style>\n",
       "<table border=\"1\" class=\"dataframe\">\n",
       "  <thead>\n",
       "    <tr style=\"text-align: right;\">\n",
       "      <th></th>\n",
       "      <th>0</th>\n",
       "      <th>1</th>\n",
       "      <th>2</th>\n",
       "      <th>3</th>\n",
       "      <th>4</th>\n",
       "      <th>5</th>\n",
       "      <th>6</th>\n",
       "      <th>7</th>\n",
       "      <th>8</th>\n",
       "      <th>9</th>\n",
       "      <th>...</th>\n",
       "      <th>80</th>\n",
       "      <th>81</th>\n",
       "      <th>82</th>\n",
       "      <th>83</th>\n",
       "      <th>84</th>\n",
       "      <th>85</th>\n",
       "      <th>86</th>\n",
       "      <th>87</th>\n",
       "      <th>88</th>\n",
       "      <th>89</th>\n",
       "    </tr>\n",
       "  </thead>\n",
       "  <tbody>\n",
       "    <tr>\n",
       "      <th>22373</th>\n",
       "      <td>0.004953</td>\n",
       "      <td>0.003273</td>\n",
       "      <td>0.0</td>\n",
       "      <td>0.0</td>\n",
       "      <td>1.0</td>\n",
       "      <td>0.0</td>\n",
       "      <td>0.0</td>\n",
       "      <td>0.0</td>\n",
       "      <td>0.0</td>\n",
       "      <td>0.0</td>\n",
       "      <td>...</td>\n",
       "      <td>0.0</td>\n",
       "      <td>0.0</td>\n",
       "      <td>0.0</td>\n",
       "      <td>0.0</td>\n",
       "      <td>0.0</td>\n",
       "      <td>0.0</td>\n",
       "      <td>0.0</td>\n",
       "      <td>0.0</td>\n",
       "      <td>0.0</td>\n",
       "      <td>0.0</td>\n",
       "    </tr>\n",
       "    <tr>\n",
       "      <th>10508</th>\n",
       "      <td>0.006054</td>\n",
       "      <td>0.028021</td>\n",
       "      <td>0.0</td>\n",
       "      <td>0.0</td>\n",
       "      <td>0.0</td>\n",
       "      <td>0.0</td>\n",
       "      <td>0.0</td>\n",
       "      <td>1.0</td>\n",
       "      <td>0.0</td>\n",
       "      <td>0.0</td>\n",
       "      <td>...</td>\n",
       "      <td>0.0</td>\n",
       "      <td>0.0</td>\n",
       "      <td>0.0</td>\n",
       "      <td>0.0</td>\n",
       "      <td>0.0</td>\n",
       "      <td>0.0</td>\n",
       "      <td>0.0</td>\n",
       "      <td>0.0</td>\n",
       "      <td>0.0</td>\n",
       "      <td>0.0</td>\n",
       "    </tr>\n",
       "    <tr>\n",
       "      <th>11570</th>\n",
       "      <td>0.000000</td>\n",
       "      <td>0.004997</td>\n",
       "      <td>1.0</td>\n",
       "      <td>0.0</td>\n",
       "      <td>0.0</td>\n",
       "      <td>0.0</td>\n",
       "      <td>0.0</td>\n",
       "      <td>0.0</td>\n",
       "      <td>0.0</td>\n",
       "      <td>0.0</td>\n",
       "      <td>...</td>\n",
       "      <td>0.0</td>\n",
       "      <td>0.0</td>\n",
       "      <td>0.0</td>\n",
       "      <td>0.0</td>\n",
       "      <td>0.0</td>\n",
       "      <td>0.0</td>\n",
       "      <td>0.0</td>\n",
       "      <td>0.0</td>\n",
       "      <td>0.0</td>\n",
       "      <td>0.0</td>\n",
       "    </tr>\n",
       "    <tr>\n",
       "      <th>22262</th>\n",
       "      <td>0.000000</td>\n",
       "      <td>0.000373</td>\n",
       "      <td>1.0</td>\n",
       "      <td>0.0</td>\n",
       "      <td>0.0</td>\n",
       "      <td>0.0</td>\n",
       "      <td>0.0</td>\n",
       "      <td>0.0</td>\n",
       "      <td>0.0</td>\n",
       "      <td>0.0</td>\n",
       "      <td>...</td>\n",
       "      <td>0.0</td>\n",
       "      <td>0.0</td>\n",
       "      <td>0.0</td>\n",
       "      <td>0.0</td>\n",
       "      <td>0.0</td>\n",
       "      <td>0.0</td>\n",
       "      <td>0.0</td>\n",
       "      <td>0.0</td>\n",
       "      <td>0.0</td>\n",
       "      <td>0.0</td>\n",
       "    </tr>\n",
       "    <tr>\n",
       "      <th>734</th>\n",
       "      <td>0.007705</td>\n",
       "      <td>0.475642</td>\n",
       "      <td>0.0</td>\n",
       "      <td>0.0</td>\n",
       "      <td>0.0</td>\n",
       "      <td>0.0</td>\n",
       "      <td>0.0</td>\n",
       "      <td>1.0</td>\n",
       "      <td>0.0</td>\n",
       "      <td>0.0</td>\n",
       "      <td>...</td>\n",
       "      <td>0.0</td>\n",
       "      <td>0.0</td>\n",
       "      <td>0.0</td>\n",
       "      <td>0.0</td>\n",
       "      <td>0.0</td>\n",
       "      <td>0.0</td>\n",
       "      <td>0.0</td>\n",
       "      <td>0.0</td>\n",
       "      <td>0.0</td>\n",
       "      <td>0.0</td>\n",
       "    </tr>\n",
       "  </tbody>\n",
       "</table>\n",
       "<p>5 rows × 90 columns</p>\n",
       "</div>"
      ],
      "text/plain": [
       "             0         1    2    3    4    5    6    7    8    9   ...   80  \\\n",
       "22373  0.004953  0.003273  0.0  0.0  1.0  0.0  0.0  0.0  0.0  0.0  ...  0.0   \n",
       "10508  0.006054  0.028021  0.0  0.0  0.0  0.0  0.0  1.0  0.0  0.0  ...  0.0   \n",
       "11570  0.000000  0.004997  1.0  0.0  0.0  0.0  0.0  0.0  0.0  0.0  ...  0.0   \n",
       "22262  0.000000  0.000373  1.0  0.0  0.0  0.0  0.0  0.0  0.0  0.0  ...  0.0   \n",
       "734    0.007705  0.475642  0.0  0.0  0.0  0.0  0.0  1.0  0.0  0.0  ...  0.0   \n",
       "\n",
       "        81   82   83   84   85   86   87   88   89  \n",
       "22373  0.0  0.0  0.0  0.0  0.0  0.0  0.0  0.0  0.0  \n",
       "10508  0.0  0.0  0.0  0.0  0.0  0.0  0.0  0.0  0.0  \n",
       "11570  0.0  0.0  0.0  0.0  0.0  0.0  0.0  0.0  0.0  \n",
       "22262  0.0  0.0  0.0  0.0  0.0  0.0  0.0  0.0  0.0  \n",
       "734    0.0  0.0  0.0  0.0  0.0  0.0  0.0  0.0  0.0  \n",
       "\n",
       "[5 rows x 90 columns]"
      ]
     },
     "execution_count": 15,
     "metadata": {},
     "output_type": "execute_result"
    }
   ],
   "source": [
    "Normalized_X_test.head()"
   ]
  },
  {
   "cell_type": "code",
   "execution_count": 16,
   "metadata": {
    "pycharm": {
     "name": "#%%\n"
    }
   },
   "outputs": [
    {
     "data": {
      "text/plain": [
       "32729    1\n",
       "24946    0\n",
       "8676     1\n",
       "13244    1\n",
       "29384    1\n",
       "Name: Class, dtype: int64"
      ]
     },
     "execution_count": 16,
     "metadata": {},
     "output_type": "execute_result"
    }
   ],
   "source": [
    "Normalized_y_train.head()"
   ]
  },
  {
   "cell_type": "code",
   "execution_count": 17,
   "metadata": {
    "pycharm": {
     "name": "#%%\n"
    }
   },
   "outputs": [
    {
     "data": {
      "text/plain": [
       "22373    0\n",
       "10508    1\n",
       "11570    1\n",
       "22262    0\n",
       "734      1\n",
       "Name: Class, dtype: int64"
      ]
     },
     "execution_count": 17,
     "metadata": {},
     "output_type": "execute_result"
    }
   ],
   "source": [
    "Normalized_y_test.head()\n"
   ]
  },
  {
   "cell_type": "markdown",
   "metadata": {},
   "source": [
    "####----------------------------------------------------------------\n",
    "#### Split  PCA_Data\n",
    "####----------------------------------------------------------------"
   ]
  },
  {
   "cell_type": "code",
   "execution_count": 18,
   "metadata": {
    "pycharm": {
     "name": "#%%\n"
    }
   },
   "outputs": [
    {
     "data": {
      "text/html": [
       "<div>\n",
       "<style scoped>\n",
       "    .dataframe tbody tr th:only-of-type {\n",
       "        vertical-align: middle;\n",
       "    }\n",
       "\n",
       "    .dataframe tbody tr th {\n",
       "        vertical-align: top;\n",
       "    }\n",
       "\n",
       "    .dataframe thead th {\n",
       "        text-align: right;\n",
       "    }\n",
       "</style>\n",
       "<table border=\"1\" class=\"dataframe\">\n",
       "  <thead>\n",
       "    <tr style=\"text-align: right;\">\n",
       "      <th></th>\n",
       "      <th>0</th>\n",
       "      <th>1</th>\n",
       "      <th>2</th>\n",
       "      <th>3</th>\n",
       "      <th>4</th>\n",
       "      <th>5</th>\n",
       "      <th>6</th>\n",
       "      <th>7</th>\n",
       "      <th>8</th>\n",
       "      <th>9</th>\n",
       "    </tr>\n",
       "  </thead>\n",
       "  <tbody>\n",
       "    <tr>\n",
       "      <th>32729</th>\n",
       "      <td>-0.222553</td>\n",
       "      <td>0.292973</td>\n",
       "      <td>0.905562</td>\n",
       "      <td>-0.156134</td>\n",
       "      <td>-0.108088</td>\n",
       "      <td>-0.030746</td>\n",
       "      <td>-0.019405</td>\n",
       "      <td>0.048372</td>\n",
       "      <td>-0.030187</td>\n",
       "      <td>0.008734</td>\n",
       "    </tr>\n",
       "    <tr>\n",
       "      <th>24946</th>\n",
       "      <td>-0.645160</td>\n",
       "      <td>-0.559037</td>\n",
       "      <td>-0.134429</td>\n",
       "      <td>-0.006415</td>\n",
       "      <td>-0.054582</td>\n",
       "      <td>-0.036701</td>\n",
       "      <td>-0.022438</td>\n",
       "      <td>-0.012427</td>\n",
       "      <td>-0.028949</td>\n",
       "      <td>0.005483</td>\n",
       "    </tr>\n",
       "    <tr>\n",
       "      <th>8676</th>\n",
       "      <td>0.697664</td>\n",
       "      <td>-0.148217</td>\n",
       "      <td>-0.076750</td>\n",
       "      <td>-0.039184</td>\n",
       "      <td>-0.073359</td>\n",
       "      <td>-0.033135</td>\n",
       "      <td>-0.020737</td>\n",
       "      <td>0.015272</td>\n",
       "      <td>-0.033867</td>\n",
       "      <td>-0.003763</td>\n",
       "    </tr>\n",
       "    <tr>\n",
       "      <th>13244</th>\n",
       "      <td>0.704242</td>\n",
       "      <td>-0.156337</td>\n",
       "      <td>-0.072756</td>\n",
       "      <td>-0.051090</td>\n",
       "      <td>-0.100514</td>\n",
       "      <td>-0.051267</td>\n",
       "      <td>-0.027619</td>\n",
       "      <td>0.053063</td>\n",
       "      <td>-0.058144</td>\n",
       "      <td>0.005584</td>\n",
       "    </tr>\n",
       "    <tr>\n",
       "      <th>29384</th>\n",
       "      <td>0.702786</td>\n",
       "      <td>-0.119935</td>\n",
       "      <td>-0.090779</td>\n",
       "      <td>-0.060761</td>\n",
       "      <td>-0.137082</td>\n",
       "      <td>-0.102363</td>\n",
       "      <td>-0.123897</td>\n",
       "      <td>0.066191</td>\n",
       "      <td>-0.325752</td>\n",
       "      <td>0.727561</td>\n",
       "    </tr>\n",
       "  </tbody>\n",
       "</table>\n",
       "</div>"
      ],
      "text/plain": [
       "              0         1         2         3         4         5         6  \\\n",
       "32729 -0.222553  0.292973  0.905562 -0.156134 -0.108088 -0.030746 -0.019405   \n",
       "24946 -0.645160 -0.559037 -0.134429 -0.006415 -0.054582 -0.036701 -0.022438   \n",
       "8676   0.697664 -0.148217 -0.076750 -0.039184 -0.073359 -0.033135 -0.020737   \n",
       "13244  0.704242 -0.156337 -0.072756 -0.051090 -0.100514 -0.051267 -0.027619   \n",
       "29384  0.702786 -0.119935 -0.090779 -0.060761 -0.137082 -0.102363 -0.123897   \n",
       "\n",
       "              7         8         9  \n",
       "32729  0.048372 -0.030187  0.008734  \n",
       "24946 -0.012427 -0.028949  0.005483  \n",
       "8676   0.015272 -0.033867 -0.003763  \n",
       "13244  0.053063 -0.058144  0.005584  \n",
       "29384  0.066191 -0.325752  0.727561  "
      ]
     },
     "execution_count": 18,
     "metadata": {},
     "output_type": "execute_result"
    }
   ],
   "source": [
    "PCA_X_train, PCA_X_test, PCA_y_train, PCA_y_test  = myLib.mySplitData(PCA_Data,Y_Data,0.33,42)\n",
    "\n",
    "PCA_X_train.head()"
   ]
  },
  {
   "cell_type": "code",
   "execution_count": 19,
   "metadata": {
    "pycharm": {
     "name": "#%%\n"
    }
   },
   "outputs": [
    {
     "data": {
      "text/html": [
       "<div>\n",
       "<style scoped>\n",
       "    .dataframe tbody tr th:only-of-type {\n",
       "        vertical-align: middle;\n",
       "    }\n",
       "\n",
       "    .dataframe tbody tr th {\n",
       "        vertical-align: top;\n",
       "    }\n",
       "\n",
       "    .dataframe thead th {\n",
       "        text-align: right;\n",
       "    }\n",
       "</style>\n",
       "<table border=\"1\" class=\"dataframe\">\n",
       "  <thead>\n",
       "    <tr style=\"text-align: right;\">\n",
       "      <th></th>\n",
       "      <th>0</th>\n",
       "      <th>1</th>\n",
       "      <th>2</th>\n",
       "      <th>3</th>\n",
       "      <th>4</th>\n",
       "      <th>5</th>\n",
       "      <th>6</th>\n",
       "      <th>7</th>\n",
       "      <th>8</th>\n",
       "      <th>9</th>\n",
       "    </tr>\n",
       "  </thead>\n",
       "  <tbody>\n",
       "    <tr>\n",
       "      <th>22373</th>\n",
       "      <td>-0.124244</td>\n",
       "      <td>0.125883</td>\n",
       "      <td>0.130234</td>\n",
       "      <td>0.040121</td>\n",
       "      <td>-0.039411</td>\n",
       "      <td>0.016677</td>\n",
       "      <td>0.270507</td>\n",
       "      <td>0.951804</td>\n",
       "      <td>0.300876</td>\n",
       "      <td>-0.023985</td>\n",
       "    </tr>\n",
       "    <tr>\n",
       "      <th>10508</th>\n",
       "      <td>0.709170</td>\n",
       "      <td>-0.165193</td>\n",
       "      <td>-0.059532</td>\n",
       "      <td>-0.058966</td>\n",
       "      <td>-0.111293</td>\n",
       "      <td>-0.064304</td>\n",
       "      <td>-0.037014</td>\n",
       "      <td>0.071082</td>\n",
       "      <td>-0.074609</td>\n",
       "      <td>-0.003243</td>\n",
       "    </tr>\n",
       "    <tr>\n",
       "      <th>11570</th>\n",
       "      <td>-0.303163</td>\n",
       "      <td>0.781798</td>\n",
       "      <td>-0.421074</td>\n",
       "      <td>-0.036656</td>\n",
       "      <td>-0.226480</td>\n",
       "      <td>0.908559</td>\n",
       "      <td>0.065667</td>\n",
       "      <td>-0.181822</td>\n",
       "      <td>0.054358</td>\n",
       "      <td>-0.011555</td>\n",
       "    </tr>\n",
       "    <tr>\n",
       "      <th>22262</th>\n",
       "      <td>-0.292557</td>\n",
       "      <td>0.765531</td>\n",
       "      <td>-0.409850</td>\n",
       "      <td>-0.008896</td>\n",
       "      <td>-0.110608</td>\n",
       "      <td>-0.084727</td>\n",
       "      <td>-0.094568</td>\n",
       "      <td>0.055834</td>\n",
       "      <td>-0.175697</td>\n",
       "      <td>-0.044386</td>\n",
       "    </tr>\n",
       "    <tr>\n",
       "      <th>734</th>\n",
       "      <td>0.719919</td>\n",
       "      <td>-0.159425</td>\n",
       "      <td>-0.077180</td>\n",
       "      <td>-0.055151</td>\n",
       "      <td>-0.099590</td>\n",
       "      <td>-0.054495</td>\n",
       "      <td>-0.029017</td>\n",
       "      <td>0.046703</td>\n",
       "      <td>-0.058775</td>\n",
       "      <td>0.000388</td>\n",
       "    </tr>\n",
       "  </tbody>\n",
       "</table>\n",
       "</div>"
      ],
      "text/plain": [
       "              0         1         2         3         4         5         6  \\\n",
       "22373 -0.124244  0.125883  0.130234  0.040121 -0.039411  0.016677  0.270507   \n",
       "10508  0.709170 -0.165193 -0.059532 -0.058966 -0.111293 -0.064304 -0.037014   \n",
       "11570 -0.303163  0.781798 -0.421074 -0.036656 -0.226480  0.908559  0.065667   \n",
       "22262 -0.292557  0.765531 -0.409850 -0.008896 -0.110608 -0.084727 -0.094568   \n",
       "734    0.719919 -0.159425 -0.077180 -0.055151 -0.099590 -0.054495 -0.029017   \n",
       "\n",
       "              7         8         9  \n",
       "22373  0.951804  0.300876 -0.023985  \n",
       "10508  0.071082 -0.074609 -0.003243  \n",
       "11570 -0.181822  0.054358 -0.011555  \n",
       "22262  0.055834 -0.175697 -0.044386  \n",
       "734    0.046703 -0.058775  0.000388  "
      ]
     },
     "execution_count": 19,
     "metadata": {},
     "output_type": "execute_result"
    }
   ],
   "source": [
    "PCA_X_test.head()"
   ]
  },
  {
   "cell_type": "code",
   "execution_count": 20,
   "metadata": {
    "pycharm": {
     "name": "#%%\n"
    }
   },
   "outputs": [
    {
     "data": {
      "text/plain": [
       "32729    1\n",
       "24946    0\n",
       "8676     1\n",
       "13244    1\n",
       "29384    1\n",
       "Name: Class, dtype: int64"
      ]
     },
     "execution_count": 20,
     "metadata": {},
     "output_type": "execute_result"
    }
   ],
   "source": [
    "PCA_y_train.head()"
   ]
  },
  {
   "cell_type": "code",
   "execution_count": 21,
   "metadata": {
    "pycharm": {
     "name": "#%%\n"
    }
   },
   "outputs": [
    {
     "data": {
      "text/plain": [
       "22373    0\n",
       "10508    1\n",
       "11570    1\n",
       "22262    0\n",
       "734      1\n",
       "Name: Class, dtype: int64"
      ]
     },
     "execution_count": 21,
     "metadata": {},
     "output_type": "execute_result"
    }
   ],
   "source": [
    "PCA_y_test.head()\n"
   ]
  },
  {
   "cell_type": "markdown",
   "metadata": {},
   "source": [
    "####----------------------------------------------------------------\n",
    "# Model Training \n",
    "####----------------------------------------------------------------"
   ]
  },
  {
   "cell_type": "code",
   "execution_count": 22,
   "metadata": {
    "pycharm": {
     "is_executing": false,
     "name": "#%%\n"
    }
   },
   "outputs": [],
   "source": [
    "from sklearn.model_selection import cross_val_score\n",
    "from sklearn.tree import DecisionTreeClassifier\n",
    "\n",
    "def myDT(clf,X_train,y_train,X_test,y_test,cv):\n",
    "    #Fit the model\n",
    "    #The maximum depth of the tree. \n",
    "    #If None, then nodes are expanded until all leaves are pure\n",
    "    # or until all leaves contain less than min_samples_split samples.\n",
    "    #min_samples_split: by default = 1\n",
    "    clf.fit(X_train, y_train)\n",
    "    #check accuracy of model on the test data\n",
    "    score = clf.score(X_test, y_test)\n",
    "    #Using CV\n",
    "    cv_scores = cross_val_score(clf, X_train, y_train, cv=cv)\n",
    "    return score,cv_scores,[clf.get_n_leaves(),clf.get_depth()]\n"
   ]
  },
  {
   "cell_type": "code",
   "execution_count": 23,
   "metadata": {
    "pycharm": {
     "is_executing": false,
     "name": "#%%\n"
    }
   },
   "outputs": [],
   "source": [
    "def myDT_ModelTurning(clf,depths,X_train,y_train,X_test,y_test,cv):\n",
    "    df = pd.DataFrame({\"depth\":[],\"training_score\":[],\"cv_score\":[]})\n",
    "    for depth in depths:\n",
    "        clf1 = DecisionTreeClassifier(max_depth=depth,random_state=0)\n",
    "        score,cv_scores,params = myDT(clf1,X_train,y_train,X_test,y_test,cv)\n",
    "        df = df.append(pd.DataFrame({\"depth\":depth,\"training_score\":[score],\"cv_score\":[cv_scores.mean()]}),ignore_index=True)\n",
    "    return df"
   ]
  },
  {
   "cell_type": "code",
   "execution_count": 24,
   "metadata": {
    "pycharm": {
     "name": "#%%\n"
    }
   },
   "outputs": [
    {
     "data": {
      "text/plain": [
       "0.8474649220969269"
      ]
     },
     "execution_count": 24,
     "metadata": {},
     "output_type": "execute_result"
    }
   ],
   "source": [
    "\n",
    "cv = 10\n",
    "clf = DecisionTreeClassifier(random_state=0)\n",
    "\n",
    "#Original Data\n",
    "score,cv_scores,params = myDT(clf,X_train,y_train,X_test,y_test,cv)\n",
    "score"
   ]
  },
  {
   "cell_type": "code",
   "execution_count": 25,
   "metadata": {
    "pycharm": {
     "name": "#%%\n"
    }
   },
   "outputs": [
    {
     "data": {
      "text/plain": [
       "0.8440044407457197"
      ]
     },
     "execution_count": 25,
     "metadata": {},
     "output_type": "execute_result"
    }
   ],
   "source": [
    "cv_scores.mean()"
   ]
  },
  {
   "cell_type": "code",
   "execution_count": 26,
   "metadata": {
    "pycharm": {
     "name": "#%%\n"
    }
   },
   "outputs": [
    {
     "data": {
      "text/plain": [
       "[3763, 42]"
      ]
     },
     "execution_count": 26,
     "metadata": {},
     "output_type": "execute_result"
    }
   ],
   "source": [
    "params"
   ]
  },
  {
   "cell_type": "code",
   "execution_count": 27,
   "metadata": {
    "pycharm": {
     "name": "#%%\n"
    }
   },
   "outputs": [
    {
     "data": {
      "text/plain": [
       "0.8475510028406645"
      ]
     },
     "execution_count": 27,
     "metadata": {},
     "output_type": "execute_result"
    }
   ],
   "source": [
    "#Normalized Data\n",
    "score,cv_scores,params = myDT(clf,Normalized_X_train,Normalized_y_train,Normalized_X_test,Normalized_y_test,cv)\n",
    "score"
   ]
  },
  {
   "cell_type": "code",
   "execution_count": 28,
   "metadata": {
    "pycharm": {
     "name": "#%%\n"
    }
   },
   "outputs": [
    {
     "data": {
      "text/plain": [
       "0.8438772681997513"
      ]
     },
     "execution_count": 28,
     "metadata": {},
     "output_type": "execute_result"
    }
   ],
   "source": [
    "cv_scores.mean()"
   ]
  },
  {
   "cell_type": "code",
   "execution_count": 29,
   "metadata": {
    "pycharm": {
     "name": "#%%\n"
    }
   },
   "outputs": [
    {
     "data": {
      "text/plain": [
       "[3763, 42]"
      ]
     },
     "execution_count": 29,
     "metadata": {},
     "output_type": "execute_result"
    }
   ],
   "source": [
    "params\n"
   ]
  },
  {
   "cell_type": "code",
   "execution_count": 30,
   "metadata": {
    "pycharm": {
     "name": "#%%\n"
    }
   },
   "outputs": [
    {
     "data": {
      "text/plain": [
       "0.7619006628217267"
      ]
     },
     "execution_count": 30,
     "metadata": {},
     "output_type": "execute_result"
    }
   ],
   "source": [
    "#PCA Data\n",
    "score,cv_scores,params = myDT(clf,PCA_X_train,PCA_y_train,PCA_X_test,PCA_y_test,cv)\n",
    "score"
   ]
  },
  {
   "cell_type": "code",
   "execution_count": 31,
   "metadata": {
    "pycharm": {
     "name": "#%%\n"
    }
   },
   "outputs": [
    {
     "data": {
      "text/plain": [
       "0.7547921159697839"
      ]
     },
     "execution_count": 31,
     "metadata": {},
     "output_type": "execute_result"
    }
   ],
   "source": [
    "cv_scores.mean()"
   ]
  },
  {
   "cell_type": "code",
   "execution_count": 32,
   "metadata": {
    "pycharm": {
     "name": "#%%\n"
    }
   },
   "outputs": [
    {
     "data": {
      "text/plain": [
       "[4766, 49]"
      ]
     },
     "execution_count": 32,
     "metadata": {},
     "output_type": "execute_result"
    }
   ],
   "source": [
    "params\n",
    "\n"
   ]
  },
  {
   "cell_type": "markdown",
   "metadata": {},
   "source": [
    "####----------------------------------------------------------------\n",
    "# Learning Curve\n",
    "####----------------------------------------------------------------\n",
    "#https://scikit-learn.org/stable/modules/learning_curve.html"
   ]
  },
  {
   "cell_type": "code",
   "execution_count": 33,
   "metadata": {
    "pycharm": {
     "name": "#%%\n"
    }
   },
   "outputs": [
    {
     "data": {
      "text/plain": [
       "array([0.04, 0.09, 0.14, 0.19, 0.24, 0.29, 0.34, 0.39, 0.44, 0.49, 0.54,\n",
       "       0.59, 0.64, 0.69, 0.74, 0.79, 0.84, 0.89, 0.94, 0.99])"
      ]
     },
     "execution_count": 33,
     "metadata": {},
     "output_type": "execute_result"
    }
   ],
   "source": [
    "from sklearn.model_selection import learning_curve\n",
    "splitsSize = np.linspace(0.04,0.99,20)\n",
    "splitsSize"
   ]
  },
  {
   "cell_type": "code",
   "execution_count": 34,
   "metadata": {
    "pycharm": {
     "name": "#%%\n"
    }
   },
   "outputs": [],
   "source": [
    "train_sizes, train_scores, test_scores = learning_curve(\n",
    "        clf, X_Data, Y_Data, cv=cv, n_jobs=1, train_sizes=splitsSize)"
   ]
  },
  {
   "cell_type": "code",
   "execution_count": 35,
   "metadata": {
    "pycharm": {
     "name": "#%%\n"
    }
   },
   "outputs": [
    {
     "data": {
      "text/plain": [
       "array([ 1267,  2851,  4435,  6019,  7603,  9187, 10771, 12355, 13939,\n",
       "       15523, 17107, 18691, 20275, 21859, 23443, 25027, 26611, 28195,\n",
       "       29779, 31363])"
      ]
     },
     "execution_count": 35,
     "metadata": {},
     "output_type": "execute_result"
    }
   ],
   "source": [
    "train_sizes"
   ]
  },
  {
   "cell_type": "code",
   "execution_count": 36,
   "metadata": {
    "pycharm": {
     "name": "#%%\n"
    }
   },
   "outputs": [
    {
     "data": {
      "text/plain": [
       "array([[1.        , 1.        , 1.        , 1.        , 1.        ,\n",
       "        1.        , 1.        , 1.        , 1.        , 1.        ],\n",
       "       [1.        , 1.        , 1.        , 1.        , 1.        ,\n",
       "        1.        , 1.        , 1.        , 1.        , 1.        ],\n",
       "       [1.        , 1.        , 1.        , 1.        , 1.        ,\n",
       "        1.        , 1.        , 1.        , 1.        , 1.        ],\n",
       "       [1.        , 1.        , 1.        , 1.        , 1.        ,\n",
       "        1.        , 1.        , 1.        , 1.        , 1.        ],\n",
       "       [1.        , 1.        , 1.        , 1.        , 1.        ,\n",
       "        1.        , 1.        , 1.        , 1.        , 1.        ],\n",
       "       [1.        , 1.        , 1.        , 1.        , 1.        ,\n",
       "        1.        , 1.        , 1.        , 1.        , 1.        ],\n",
       "       [1.        , 1.        , 1.        , 1.        , 1.        ,\n",
       "        1.        , 1.        , 1.        , 1.        , 1.        ],\n",
       "       [1.        , 1.        , 1.        , 1.        , 1.        ,\n",
       "        1.        , 1.        , 1.        , 1.        , 1.        ],\n",
       "       [1.        , 1.        , 1.        , 1.        , 1.        ,\n",
       "        1.        , 1.        , 1.        , 1.        , 1.        ],\n",
       "       [1.        , 1.        , 1.        , 1.        , 1.        ,\n",
       "        1.        , 1.        , 1.        , 1.        , 1.        ],\n",
       "       [1.        , 1.        , 1.        , 1.        , 1.        ,\n",
       "        1.        , 1.        , 1.        , 1.        , 1.        ],\n",
       "       [0.99967899, 1.        , 1.        , 1.        , 1.        ,\n",
       "        1.        , 1.        , 1.        , 1.        , 1.        ],\n",
       "       [0.99950678, 0.99960543, 0.99950678, 0.99950678, 0.9995561 ,\n",
       "        0.99950678, 0.99950678, 0.9995561 , 0.99990136, 1.        ],\n",
       "       [0.99917654, 0.99926804, 0.99922229, 0.99931378, 0.99935953,\n",
       "        0.99931378, 0.99945103, 0.99935953, 0.99977126, 0.99958827],\n",
       "       [0.9990189 , 0.99906155, 0.9990189 , 0.99910421, 0.99910421,\n",
       "        0.99906155, 0.99931749, 0.99923218, 0.99948812, 0.99944546],\n",
       "       [0.99864147, 0.99864147, 0.99860151, 0.99872138, 0.99872138,\n",
       "        0.99864147, 0.99920086, 0.99912095, 0.99940065, 0.99924082],\n",
       "       [0.996167  , 0.996167  , 0.99612942, 0.99624216, 0.99643005,\n",
       "        0.9965052 , 0.99782045, 0.99842171, 0.99872233, 0.99902296],\n",
       "       [0.99368682, 0.99361589, 0.99358042, 0.99368682, 0.99386416,\n",
       "        0.99393509, 0.99567299, 0.99517645, 0.99616953, 0.99900692],\n",
       "       [0.99069814, 0.99066456, 0.99063098, 0.99073172, 0.99086605,\n",
       "        0.99113469, 0.99284731, 0.99278015, 0.99294805, 0.99905974],\n",
       "       [0.99091286, 0.99088097, 0.99084909, 0.99094474, 0.99107228,\n",
       "        0.99132736, 0.99298536, 0.99288971, 0.99282594, 0.99910723]])"
      ]
     },
     "execution_count": 36,
     "metadata": {},
     "output_type": "execute_result"
    }
   ],
   "source": [
    "train_scores"
   ]
  },
  {
   "cell_type": "code",
   "execution_count": 37,
   "metadata": {
    "pycharm": {
     "name": "#%%\n"
    }
   },
   "outputs": [
    {
     "data": {
      "text/plain": [
       "array([[0.64385118, 0.64385118, 0.64385118, 0.64375   , 0.64375   ,\n",
       "        0.64375   , 0.64375   , 0.64375   , 0.64393294, 0.64393294],\n",
       "       [0.64385118, 0.64385118, 0.64385118, 0.64375   , 0.64375   ,\n",
       "        0.64375   , 0.64375   , 0.64375   , 0.64393294, 0.64393294],\n",
       "       [0.64385118, 0.64385118, 0.64385118, 0.64375   , 0.64375   ,\n",
       "        0.64375   , 0.64375   , 0.64375   , 0.64393294, 0.64393294],\n",
       "       [0.64385118, 0.64385118, 0.64385118, 0.64375   , 0.64375   ,\n",
       "        0.64375   , 0.64375   , 0.64375   , 0.64393294, 0.64393294],\n",
       "       [0.64385118, 0.64385118, 0.64385118, 0.64375   , 0.64375   ,\n",
       "        0.64375   , 0.64375   , 0.64375   , 0.64393294, 0.64393294],\n",
       "       [0.64385118, 0.64385118, 0.64385118, 0.64375   , 0.64375   ,\n",
       "        0.64375   , 0.64375   , 0.64375   , 0.64393294, 0.64393294],\n",
       "       [0.64385118, 0.64385118, 0.64385118, 0.64375   , 0.64375   ,\n",
       "        0.64375   , 0.64375   , 0.64375   , 0.64393294, 0.64393294],\n",
       "       [0.64385118, 0.64385118, 0.64385118, 0.64375   , 0.64375   ,\n",
       "        0.64375   , 0.64375   , 0.64375   , 0.64393294, 0.64393294],\n",
       "       [0.64385118, 0.64385118, 0.64385118, 0.64375   , 0.64375   ,\n",
       "        0.64375   , 0.64375   , 0.64375   , 0.64393294, 0.64393294],\n",
       "       [0.64385118, 0.64385118, 0.64385118, 0.64375   , 0.64375   ,\n",
       "        0.64375   , 0.64375   , 0.64375   , 0.64393294, 0.64393294],\n",
       "       [0.64385118, 0.64385118, 0.64385118, 0.64375   , 0.64375   ,\n",
       "        0.64375   , 0.64375   , 0.64375   , 0.64393294, 0.64393294],\n",
       "       [0.66827606, 0.65975575, 0.65719966, 0.66732955, 0.67017045,\n",
       "        0.68352273, 0.66960227, 0.64602273, 0.6342711 , 0.64393294],\n",
       "       [0.72848623, 0.71627379, 0.71343368, 0.73039773, 0.73778409,\n",
       "        0.69943182, 0.62556818, 0.63238636, 0.59107701, 0.64393294],\n",
       "       [0.75319512, 0.73445044, 0.7529111 , 0.75625   , 0.75255682,\n",
       "        0.69090909, 0.60539773, 0.72926136, 0.53537937, 0.47968173],\n",
       "       [0.76029537, 0.75944334, 0.76455552, 0.78579545, 0.79573864,\n",
       "        0.73267045, 0.71136364, 0.71363636, 0.72094345, 0.60727479],\n",
       "       [0.76995172, 0.76682761, 0.76767964, 0.78494318, 0.79829545,\n",
       "        0.75113636, 0.62215909, 0.70625   , 0.70531401, 0.571185  ],\n",
       "       [0.77193979, 0.75944334, 0.76427151, 0.77642045, 0.78380682,\n",
       "        0.75482955, 0.7       , 0.74829545, 0.68826371, 0.51548735],\n",
       "       [0.76796365, 0.76711162, 0.77137177, 0.77045455, 0.79204545,\n",
       "        0.76505682, 0.70056818, 0.703125  , 0.67490764, 0.37112816],\n",
       "       [0.77563192, 0.76341948, 0.7665436 , 0.77130682, 0.78948864,\n",
       "        0.75198864, 0.72017045, 0.71136364, 0.64620631, 0.3716965 ],\n",
       "       [0.77108776, 0.75717126, 0.77761999, 0.78607955, 0.79005682,\n",
       "        0.76221591, 0.71647727, 0.71903409, 0.64904803, 0.36544473]])"
      ]
     },
     "execution_count": 37,
     "metadata": {},
     "output_type": "execute_result"
    }
   ],
   "source": [
    "test_scores"
   ]
  },
  {
   "cell_type": "code",
   "execution_count": 38,
   "metadata": {
    "pycharm": {
     "name": "#%%\n"
    }
   },
   "outputs": [
    {
     "data": {
      "image/png": "[encoded data removed]",
      "text/plain": [
       "<Figure size 432x288 with 1 Axes>"
      ]
     },
     "metadata": {
      "needs_background": "light"
     },
     "output_type": "display_data"
    }
   ],
   "source": [
    "title = \"Learning Curves\"\n",
    "myPlotLib.plot_learning_curve(clf, title, X_Data, Y_Data, ylim=(0.1, 1.5),train_sizes=splitsSize, cv=cv, n_jobs=4)\n",
    "plt.show()\n"
   ]
  },
  {
   "cell_type": "code",
   "execution_count": 39,
   "metadata": {
    "pycharm": {
     "name": "#%%\n"
    }
   },
   "outputs": [],
   "source": [
    "def myDT_LearningCurve(clf,X_Data,Y_Data,splits,cv):\n",
    "    df = pd.DataFrame({\"percent\":[],\"training_score\":[],\"cv_score\":[]})\n",
    "    for X in splits:\n",
    "        X_train, X_test, y_train, y_test  = myLib.mySplitDataByTrainSize(X_Data,Y_Data,X,42)\n",
    "        score,cv_scores,params = myDT(clf,X_train,y_train,X_test,y_test,cv)\n",
    "        df = df.append(pd.DataFrame({\"percent\":X,\"training_score\":[score],\"cv_score\":[cv_scores.mean()]}),ignore_index=True)\n",
    "    return df\n"
   ]
  },
  {
   "cell_type": "code",
   "execution_count": 40,
   "metadata": {
    "pycharm": {
     "name": "#%%    \n"
    }
   },
   "outputs": [
    {
     "data": {
      "text/html": [
       "<div>\n",
       "<style scoped>\n",
       "    .dataframe tbody tr th:only-of-type {\n",
       "        vertical-align: middle;\n",
       "    }\n",
       "\n",
       "    .dataframe tbody tr th {\n",
       "        vertical-align: top;\n",
       "    }\n",
       "\n",
       "    .dataframe thead th {\n",
       "        text-align: right;\n",
       "    }\n",
       "</style>\n",
       "<table border=\"1\" class=\"dataframe\">\n",
       "  <thead>\n",
       "    <tr style=\"text-align: right;\">\n",
       "      <th></th>\n",
       "      <th>percent</th>\n",
       "      <th>training_score</th>\n",
       "      <th>cv_score</th>\n",
       "    </tr>\n",
       "  </thead>\n",
       "  <tbody>\n",
       "    <tr>\n",
       "      <th>0</th>\n",
       "      <td>0.04</td>\n",
       "      <td>0.751546</td>\n",
       "      <td>0.751413</td>\n",
       "    </tr>\n",
       "    <tr>\n",
       "      <th>1</th>\n",
       "      <td>0.09</td>\n",
       "      <td>0.763400</td>\n",
       "      <td>0.759796</td>\n",
       "    </tr>\n",
       "    <tr>\n",
       "      <th>2</th>\n",
       "      <td>0.14</td>\n",
       "      <td>0.767648</td>\n",
       "      <td>0.766431</td>\n",
       "    </tr>\n",
       "    <tr>\n",
       "      <th>3</th>\n",
       "      <td>0.19</td>\n",
       "      <td>0.780907</td>\n",
       "      <td>0.783784</td>\n",
       "    </tr>\n",
       "    <tr>\n",
       "      <th>4</th>\n",
       "      <td>0.24</td>\n",
       "      <td>0.793892</td>\n",
       "      <td>0.792489</td>\n",
       "    </tr>\n",
       "    <tr>\n",
       "      <th>5</th>\n",
       "      <td>0.29</td>\n",
       "      <td>0.798624</td>\n",
       "      <td>0.799766</td>\n",
       "    </tr>\n",
       "    <tr>\n",
       "      <th>6</th>\n",
       "      <td>0.34</td>\n",
       "      <td>0.809581</td>\n",
       "      <td>0.803476</td>\n",
       "    </tr>\n",
       "    <tr>\n",
       "      <th>7</th>\n",
       "      <td>0.39</td>\n",
       "      <td>0.808783</td>\n",
       "      <td>0.806090</td>\n",
       "    </tr>\n",
       "    <tr>\n",
       "      <th>8</th>\n",
       "      <td>0.44</td>\n",
       "      <td>0.816213</td>\n",
       "      <td>0.814115</td>\n",
       "    </tr>\n",
       "    <tr>\n",
       "      <th>9</th>\n",
       "      <td>0.49</td>\n",
       "      <td>0.830558</td>\n",
       "      <td>0.820676</td>\n",
       "    </tr>\n",
       "    <tr>\n",
       "      <th>10</th>\n",
       "      <td>0.54</td>\n",
       "      <td>0.836473</td>\n",
       "      <td>0.825918</td>\n",
       "    </tr>\n",
       "    <tr>\n",
       "      <th>11</th>\n",
       "      <td>0.59</td>\n",
       "      <td>0.836070</td>\n",
       "      <td>0.829016</td>\n",
       "    </tr>\n",
       "    <tr>\n",
       "      <th>12</th>\n",
       "      <td>0.64</td>\n",
       "      <td>0.842973</td>\n",
       "      <td>0.840554</td>\n",
       "    </tr>\n",
       "    <tr>\n",
       "      <th>13</th>\n",
       "      <td>0.69</td>\n",
       "      <td>0.847705</td>\n",
       "      <td>0.844121</td>\n",
       "    </tr>\n",
       "    <tr>\n",
       "      <th>14</th>\n",
       "      <td>0.74</td>\n",
       "      <td>0.860701</td>\n",
       "      <td>0.848396</td>\n",
       "    </tr>\n",
       "    <tr>\n",
       "      <th>15</th>\n",
       "      <td>0.79</td>\n",
       "      <td>0.863790</td>\n",
       "      <td>0.854036</td>\n",
       "    </tr>\n",
       "    <tr>\n",
       "      <th>16</th>\n",
       "      <td>0.84</td>\n",
       "      <td>0.873247</td>\n",
       "      <td>0.860018</td>\n",
       "    </tr>\n",
       "    <tr>\n",
       "      <th>17</th>\n",
       "      <td>0.89</td>\n",
       "      <td>0.878389</td>\n",
       "      <td>0.862678</td>\n",
       "    </tr>\n",
       "    <tr>\n",
       "      <th>18</th>\n",
       "      <td>0.94</td>\n",
       "      <td>0.872693</td>\n",
       "      <td>0.863273</td>\n",
       "    </tr>\n",
       "    <tr>\n",
       "      <th>19</th>\n",
       "      <td>0.99</td>\n",
       "      <td>0.903683</td>\n",
       "      <td>0.869347</td>\n",
       "    </tr>\n",
       "  </tbody>\n",
       "</table>\n",
       "</div>"
      ],
      "text/plain": [
       "    percent  training_score  cv_score\n",
       "0      0.04        0.751546  0.751413\n",
       "1      0.09        0.763400  0.759796\n",
       "2      0.14        0.767648  0.766431\n",
       "3      0.19        0.780907  0.783784\n",
       "4      0.24        0.793892  0.792489\n",
       "5      0.29        0.798624  0.799766\n",
       "6      0.34        0.809581  0.803476\n",
       "7      0.39        0.808783  0.806090\n",
       "8      0.44        0.816213  0.814115\n",
       "9      0.49        0.830558  0.820676\n",
       "10     0.54        0.836473  0.825918\n",
       "11     0.59        0.836070  0.829016\n",
       "12     0.64        0.842973  0.840554\n",
       "13     0.69        0.847705  0.844121\n",
       "14     0.74        0.860701  0.848396\n",
       "15     0.79        0.863790  0.854036\n",
       "16     0.84        0.873247  0.860018\n",
       "17     0.89        0.878389  0.862678\n",
       "18     0.94        0.872693  0.863273\n",
       "19     0.99        0.903683  0.869347"
      ]
     },
     "execution_count": 40,
     "metadata": {},
     "output_type": "execute_result"
    }
   ],
   "source": [
    "learning_df= myDT_LearningCurve(clf,X_Data,Y_Data,splitsSize,cv)\n",
    "learning_df"
   ]
  },
  {
   "cell_type": "code",
   "execution_count": 41,
   "metadata": {
    "pycharm": {
     "name": "#%%\n"
    }
   },
   "outputs": [
    {
     "data": {
      "text/html": [
       "<div>\n",
       "<style scoped>\n",
       "    .dataframe tbody tr th:only-of-type {\n",
       "        vertical-align: middle;\n",
       "    }\n",
       "\n",
       "    .dataframe tbody tr th {\n",
       "        vertical-align: top;\n",
       "    }\n",
       "\n",
       "    .dataframe thead th {\n",
       "        text-align: right;\n",
       "    }\n",
       "</style>\n",
       "<table border=\"1\" class=\"dataframe\">\n",
       "  <thead>\n",
       "    <tr style=\"text-align: right;\">\n",
       "      <th></th>\n",
       "      <th>percent</th>\n",
       "      <th>training_score</th>\n",
       "      <th>cv_score</th>\n",
       "    </tr>\n",
       "  </thead>\n",
       "  <tbody>\n",
       "    <tr>\n",
       "      <th>count</th>\n",
       "      <td>20.000000</td>\n",
       "      <td>20.000000</td>\n",
       "      <td>20.000000</td>\n",
       "    </tr>\n",
       "    <tr>\n",
       "      <th>mean</th>\n",
       "      <td>0.515000</td>\n",
       "      <td>0.826844</td>\n",
       "      <td>0.819770</td>\n",
       "    </tr>\n",
       "    <tr>\n",
       "      <th>std</th>\n",
       "      <td>0.295804</td>\n",
       "      <td>0.042391</td>\n",
       "      <td>0.036268</td>\n",
       "    </tr>\n",
       "    <tr>\n",
       "      <th>min</th>\n",
       "      <td>0.040000</td>\n",
       "      <td>0.751546</td>\n",
       "      <td>0.751413</td>\n",
       "    </tr>\n",
       "    <tr>\n",
       "      <th>25%</th>\n",
       "      <td>0.277500</td>\n",
       "      <td>0.797441</td>\n",
       "      <td>0.797947</td>\n",
       "    </tr>\n",
       "    <tr>\n",
       "      <th>50%</th>\n",
       "      <td>0.515000</td>\n",
       "      <td>0.833314</td>\n",
       "      <td>0.823297</td>\n",
       "    </tr>\n",
       "    <tr>\n",
       "      <th>75%</th>\n",
       "      <td>0.752500</td>\n",
       "      <td>0.861474</td>\n",
       "      <td>0.849806</td>\n",
       "    </tr>\n",
       "    <tr>\n",
       "      <th>max</th>\n",
       "      <td>0.990000</td>\n",
       "      <td>0.903683</td>\n",
       "      <td>0.869347</td>\n",
       "    </tr>\n",
       "  </tbody>\n",
       "</table>\n",
       "</div>"
      ],
      "text/plain": [
       "         percent  training_score   cv_score\n",
       "count  20.000000       20.000000  20.000000\n",
       "mean    0.515000        0.826844   0.819770\n",
       "std     0.295804        0.042391   0.036268\n",
       "min     0.040000        0.751546   0.751413\n",
       "25%     0.277500        0.797441   0.797947\n",
       "50%     0.515000        0.833314   0.823297\n",
       "75%     0.752500        0.861474   0.849806\n",
       "max     0.990000        0.903683   0.869347"
      ]
     },
     "execution_count": 41,
     "metadata": {},
     "output_type": "execute_result"
    }
   ],
   "source": [
    "learning_df.describe()"
   ]
  },
  {
   "cell_type": "code",
   "execution_count": 42,
   "metadata": {
    "pycharm": {
     "name": "#%%\n"
    }
   },
   "outputs": [
    {
     "data": {
      "text/plain": [
       "Text(0.5, 1.0, 'Learning Curve of CV:10')"
      ]
     },
     "execution_count": 42,
     "metadata": {},
     "output_type": "execute_result"
    },
    {
     "data": {
      "image/png": "[encoded data removed]",
      "text/plain": [
       "<Figure size 432x288 with 1 Axes>"
      ]
     },
     "metadata": {
      "needs_background": "light"
     },
     "output_type": "display_data"
    }
   ],
   "source": [
    "\n",
    "fig, ax = plt.subplots()\n",
    "plt.plot(learning_df.percent, learning_df.training_score, color='blue', marker='o', markersize=5, label='training')\n",
    "\n",
    "plt.plot(learning_df.percent, learning_df.cv_score, color='orange', marker='o', markersize=5, label='cross validation')\n",
    "\n",
    "ax.legend()\n",
    "ax.set_title(\"Learning Curve of CV:10\")\n",
    "\n"
   ]
  },
  {
   "cell_type": "markdown",
   "metadata": {},
   "source": [
    "####----------------------------------------------------------------\n",
    "# Validation Curve\n",
    "####----------------------------------------------------------------"
   ]
  },
  {
   "cell_type": "code",
   "execution_count": 43,
   "metadata": {
    "pycharm": {
     "is_executing": false,
     "name": "#%%\n"
    }
   },
   "outputs": [],
   "source": [
    "depths = [1,2,4, 5, 8,10,15, 20,25,30,35,40,50,60,70,80,90,100,150,200]"
   ]
  },
  {
   "cell_type": "code",
   "execution_count": 44,
   "metadata": {
    "pycharm": {
     "name": "#%%\n"
    }
   },
   "outputs": [],
   "source": [
    "#https://scikit-learn.org/stable/modules/generated/sklearn.model_selection.validation_curve.html#sklearn.model_selection.validation_curve\n",
    "from sklearn.model_selection import validation_curve\n",
    "train_scores, valid_scores = validation_curve(DecisionTreeClassifier(),X_train, y_train, \n",
    "    param_name=\"max_depth\", param_range=depths,\n",
    "    cv=cv, n_jobs=1)\n"
   ]
  },
  {
   "cell_type": "code",
   "execution_count": 45,
   "metadata": {
    "pycharm": {
     "name": "#%%\n"
    }
   },
   "outputs": [
    {
     "data": {
      "text/plain": [
       "array([[0.76126084, 0.7623086 , 0.76122497, 0.76161312, 0.76095355,\n",
       "        0.76133044, 0.76151889, 0.76217846, 0.761566  , 0.75949307],\n",
       "       [0.78929514, 0.79005889, 0.79081272, 0.78945633, 0.78997456,\n",
       "        0.79021012, 0.79086969, 0.79105814, 0.79025723, 0.7881843 ],\n",
       "       [0.80785903, 0.80706714, 0.80805654, 0.80655799, 0.80599265,\n",
       "        0.80731179, 0.80495619, 0.80669933, 0.80594554, 0.80439084],\n",
       "       [0.81073313, 0.80881037, 0.80923439, 0.80924338, 0.80900782,\n",
       "        0.81027985, 0.80641666, 0.80919627, 0.80848959, 0.80759446],\n",
       "       [0.82755371, 0.82704358, 0.82723204, 0.82573259, 0.8261566 ,\n",
       "        0.82917177, 0.82215208, 0.82719307, 0.82450768, 0.82714595],\n",
       "       [0.84757821, 0.84584217, 0.84753828, 0.84551965, 0.84509564,\n",
       "        0.84938283, 0.83991331, 0.84500141, 0.84551965, 0.84575521],\n",
       "       [0.90345835, 0.9004947 , 0.9067609 , 0.89969848, 0.90313766,\n",
       "        0.90177141, 0.89065297, 0.89795534, 0.8942806 , 0.89979271],\n",
       "       [0.9465228 , 0.95001178, 0.95297998, 0.94916612, 0.95029681,\n",
       "        0.95006125, 0.93833035, 0.94996702, 0.9459625 , 0.9447847 ],\n",
       "       [0.97187147, 0.97743227, 0.97667845, 0.977292  , 0.97908226,\n",
       "        0.9780929 , 0.96933007, 0.9745595 , 0.97616131, 0.97554886],\n",
       "       [0.98586506, 0.98869258, 0.98869258, 0.98883445, 0.98963535,\n",
       "        0.9894469 , 0.98482993, 0.98760954, 0.98968246, 0.98765665],\n",
       "       [0.99213155, 0.99279152, 0.99297998, 0.99246207, 0.9929332 ,\n",
       "        0.99321587, 0.9921794 , 0.99288608, 0.9937341 , 0.99170828],\n",
       "       [0.99363928, 0.99368669, 0.9937338 , 0.99363988, 0.99406388,\n",
       "        0.99415811, 0.99368699, 0.994111  , 0.99420522, 0.99340432],\n",
       "       [0.99373351, 0.99378092, 0.99425206, 0.99378121, 0.99406388,\n",
       "        0.99415811, 0.99368699, 0.99415811, 0.99420522, 0.99368699],\n",
       "       [0.99373351, 0.99378092, 0.99425206, 0.99378121, 0.99406388,\n",
       "        0.99415811, 0.99368699, 0.99415811, 0.99420522, 0.99368699],\n",
       "       [0.99373351, 0.99378092, 0.99425206, 0.99378121, 0.99406388,\n",
       "        0.99415811, 0.99368699, 0.99415811, 0.99420522, 0.99368699],\n",
       "       [0.99373351, 0.99378092, 0.99425206, 0.99378121, 0.99406388,\n",
       "        0.99415811, 0.99368699, 0.99415811, 0.99420522, 0.99368699],\n",
       "       [0.99373351, 0.99378092, 0.99425206, 0.99378121, 0.99406388,\n",
       "        0.99415811, 0.99368699, 0.99415811, 0.99420522, 0.99368699],\n",
       "       [0.99373351, 0.99378092, 0.99425206, 0.99378121, 0.99406388,\n",
       "        0.99415811, 0.99368699, 0.99415811, 0.99420522, 0.99368699],\n",
       "       [0.99373351, 0.99378092, 0.99425206, 0.99378121, 0.99406388,\n",
       "        0.99415811, 0.99368699, 0.99415811, 0.99420522, 0.99368699],\n",
       "       [0.99373351, 0.99378092, 0.99425206, 0.99378121, 0.99406388,\n",
       "        0.99415811, 0.99368699, 0.99415811, 0.99420522, 0.99368699]])"
      ]
     },
     "execution_count": 45,
     "metadata": {},
     "output_type": "execute_result"
    }
   ],
   "source": [
    "train_scores"
   ]
  },
  {
   "cell_type": "code",
   "execution_count": 46,
   "metadata": {
    "pycharm": {
     "name": "#%%\n"
    }
   },
   "outputs": [
    {
     "data": {
      "text/plain": [
       "array([[0.76016949, 0.75074184, 0.76049173, 0.75699746, 0.76293469,\n",
       "        0.75954198, 0.77184054, 0.7519084 , 0.75742154, 0.77608142],\n",
       "       [0.79237288, 0.78550233, 0.78126325, 0.79092451, 0.78880407,\n",
       "        0.7841391 , 0.79177269, 0.77905004, 0.78625954, 0.80322307],\n",
       "       [0.80550847, 0.7990674 , 0.80076304, 0.80322307, 0.80364716,\n",
       "        0.80237489, 0.81552163, 0.79728584, 0.80364716, 0.80746395],\n",
       "       [0.80847458, 0.80161085, 0.79991522, 0.80661578, 0.80407125,\n",
       "        0.80703986, 0.81509754, 0.80195081, 0.80958439, 0.80110263],\n",
       "       [0.82033898, 0.8041543 , 0.80839339, 0.81424936, 0.81212892,\n",
       "        0.81933842, 0.81933842, 0.80491942, 0.82103478, 0.81552163],\n",
       "       [0.82161017, 0.80669775, 0.80457821, 0.82400339, 0.81679389,\n",
       "        0.82400339, 0.82994063, 0.80916031, 0.8235793 , 0.82527566],\n",
       "       [0.84491525, 0.83467571, 0.81559983, 0.8418151 , 0.83206107,\n",
       "        0.84139101, 0.84096692, 0.8201866 , 0.83121289, 0.82866836],\n",
       "       [0.84915254, 0.84272997, 0.83086053, 0.85453774, 0.83587786,\n",
       "        0.85411366, 0.84096692, 0.83290925, 0.84054283, 0.83206107],\n",
       "       [0.84872881, 0.84612124, 0.83213226, 0.85665818, 0.83587786,\n",
       "        0.85411366, 0.83927057, 0.83969466, 0.84435963, 0.8418151 ],\n",
       "       [0.85084746, 0.84654515, 0.83001272, 0.85835454, 0.83842239,\n",
       "        0.85199321, 0.84435963, 0.83757422, 0.83545377, 0.84393554],\n",
       "       [0.84915254, 0.84272997, 0.82746927, 0.85665818, 0.83969466,\n",
       "        0.84732824, 0.84605598, 0.83672604, 0.84223919, 0.8379983 ],\n",
       "       [0.85254237, 0.84612124, 0.83001272, 0.85665818, 0.83927057,\n",
       "        0.8452078 , 0.84478372, 0.83842239, 0.83884648, 0.84011874],\n",
       "       [0.85211864, 0.84951251, 0.82704536, 0.85411366, 0.83757422,\n",
       "        0.84605598, 0.84648007, 0.83884648, 0.84308736, 0.83630195],\n",
       "       [0.84915254, 0.84484951, 0.82958881, 0.85750636, 0.84011874,\n",
       "        0.84775233, 0.84732824, 0.83757422, 0.83969466, 0.83927057],\n",
       "       [0.84872881, 0.8444256 , 0.83213226, 0.85368957, 0.83969466,\n",
       "        0.84648007, 0.84478372, 0.83842239, 0.83969466, 0.83757422],\n",
       "       [0.85042373, 0.8440017 , 0.82746927, 0.85453774, 0.83969466,\n",
       "        0.84987277, 0.84648007, 0.8418151 , 0.84308736, 0.83672604],\n",
       "       [0.84872881, 0.84357779, 0.83043663, 0.85538592, 0.83842239,\n",
       "        0.84690416, 0.84775233, 0.84011874, 0.83884648, 0.84054283],\n",
       "       [0.8529661 , 0.84612124, 0.82492582, 0.85708227, 0.83969466,\n",
       "        0.8452078 , 0.84732824, 0.84054283, 0.84096692, 0.83927057],\n",
       "       [0.84957627, 0.84612124, 0.82534972, 0.85496183, 0.83757422,\n",
       "        0.84563189, 0.84690416, 0.83884648, 0.84011874, 0.83630195],\n",
       "       [0.84788136, 0.84612124, 0.82619754, 0.85750636, 0.83969466,\n",
       "        0.84817642, 0.84775233, 0.83757422, 0.84054283, 0.83969466]])"
      ]
     },
     "execution_count": 46,
     "metadata": {},
     "output_type": "execute_result"
    }
   ],
   "source": [
    "valid_scores\n"
   ]
  },
  {
   "cell_type": "code",
   "execution_count": 47,
   "metadata": {
    "pycharm": {
     "name": "#%%\n"
    }
   },
   "outputs": [
    {
     "data": {
      "image/png": "[encoded data removed]",
      "text/plain": [
       "<Figure size 432x288 with 1 Axes>"
      ]
     },
     "metadata": {
      "needs_background": "light"
     },
     "output_type": "display_data"
    }
   ],
   "source": [
    "train_scores_mean = np.mean(train_scores, axis=1)\n",
    "train_scores_std = np.std(train_scores, axis=1)\n",
    "valid_scores_mean = np.mean(valid_scores, axis=1)\n",
    "valid_scores_std = np.std(valid_scores, axis=1)\n",
    "\n",
    "plt.title(\"Validation Curve of CV:10\")\n",
    "plt.xlabel(\"Depth\")\n",
    "plt.ylabel(\"Score\")\n",
    "plt.ylim(0.0, 1.1)\n",
    "lw = 2\n",
    "plt.semilogx(depths, train_scores_mean, label=\"Training score\",\n",
    "             color=\"darkorange\", lw=lw)\n",
    "plt.fill_between(depths, train_scores_mean - train_scores_std,\n",
    "                 train_scores_mean + train_scores_std, alpha=0.2,\n",
    "                 color=\"darkorange\", lw=lw)\n",
    "plt.semilogx(depths, valid_scores_mean, label=\"Cross-validation score\",\n",
    "             color=\"navy\", lw=lw)\n",
    "plt.fill_between(depths, valid_scores_mean - valid_scores_std,\n",
    "                 valid_scores_mean + valid_scores_std, alpha=0.2,\n",
    "                 color=\"navy\", lw=lw)\n",
    "plt.legend(loc=\"best\")\n",
    "plt.show()\n"
   ]
  },
  {
   "cell_type": "markdown",
   "metadata": {},
   "source": [
    "####----------------------------------------------------------------\n",
    "# Model Turning\n",
    "####----------------------------------------------------------------"
   ]
  },
  {
   "cell_type": "code",
   "execution_count": 48,
   "metadata": {
    "pycharm": {
     "name": "#%%\n"
    }
   },
   "outputs": [
    {
     "data": {
      "text/html": [
       "<div>\n",
       "<style scoped>\n",
       "    .dataframe tbody tr th:only-of-type {\n",
       "        vertical-align: middle;\n",
       "    }\n",
       "\n",
       "    .dataframe tbody tr th {\n",
       "        vertical-align: top;\n",
       "    }\n",
       "\n",
       "    .dataframe thead th {\n",
       "        text-align: right;\n",
       "    }\n",
       "</style>\n",
       "<table border=\"1\" class=\"dataframe\">\n",
       "  <thead>\n",
       "    <tr style=\"text-align: right;\">\n",
       "      <th></th>\n",
       "      <th>depth</th>\n",
       "      <th>training_score</th>\n",
       "      <th>cv_score</th>\n",
       "    </tr>\n",
       "  </thead>\n",
       "  <tbody>\n",
       "    <tr>\n",
       "      <th>0</th>\n",
       "      <td>1.0</td>\n",
       "      <td>0.771197</td>\n",
       "      <td>0.760813</td>\n",
       "    </tr>\n",
       "    <tr>\n",
       "      <th>1</th>\n",
       "      <td>2.0</td>\n",
       "      <td>0.788414</td>\n",
       "      <td>0.788331</td>\n",
       "    </tr>\n",
       "    <tr>\n",
       "      <th>2</th>\n",
       "      <td>4.0</td>\n",
       "      <td>0.808212</td>\n",
       "      <td>0.803850</td>\n",
       "    </tr>\n",
       "    <tr>\n",
       "      <th>3</th>\n",
       "      <td>5.0</td>\n",
       "      <td>0.810106</td>\n",
       "      <td>0.805546</td>\n",
       "    </tr>\n",
       "    <tr>\n",
       "      <th>4</th>\n",
       "      <td>8.0</td>\n",
       "      <td>0.815959</td>\n",
       "      <td>0.813815</td>\n",
       "    </tr>\n",
       "    <tr>\n",
       "      <th>5</th>\n",
       "      <td>10.0</td>\n",
       "      <td>0.818714</td>\n",
       "      <td>0.818522</td>\n",
       "    </tr>\n",
       "    <tr>\n",
       "      <th>6</th>\n",
       "      <td>15.0</td>\n",
       "      <td>0.833950</td>\n",
       "      <td>0.832047</td>\n",
       "    </tr>\n",
       "    <tr>\n",
       "      <th>7</th>\n",
       "      <td>20.0</td>\n",
       "      <td>0.843075</td>\n",
       "      <td>0.840782</td>\n",
       "    </tr>\n",
       "    <tr>\n",
       "      <th>8</th>\n",
       "      <td>25.0</td>\n",
       "      <td>0.847723</td>\n",
       "      <td>0.843368</td>\n",
       "    </tr>\n",
       "    <tr>\n",
       "      <th>9</th>\n",
       "      <td>30.0</td>\n",
       "      <td>0.848067</td>\n",
       "      <td>0.843580</td>\n",
       "    </tr>\n",
       "    <tr>\n",
       "      <th>10</th>\n",
       "      <td>35.0</td>\n",
       "      <td>0.845485</td>\n",
       "      <td>0.843665</td>\n",
       "    </tr>\n",
       "    <tr>\n",
       "      <th>11</th>\n",
       "      <td>40.0</td>\n",
       "      <td>0.846432</td>\n",
       "      <td>0.844640</td>\n",
       "    </tr>\n",
       "    <tr>\n",
       "      <th>12</th>\n",
       "      <td>50.0</td>\n",
       "      <td>0.847465</td>\n",
       "      <td>0.844004</td>\n",
       "    </tr>\n",
       "    <tr>\n",
       "      <th>13</th>\n",
       "      <td>60.0</td>\n",
       "      <td>0.847465</td>\n",
       "      <td>0.844004</td>\n",
       "    </tr>\n",
       "    <tr>\n",
       "      <th>14</th>\n",
       "      <td>70.0</td>\n",
       "      <td>0.847465</td>\n",
       "      <td>0.844004</td>\n",
       "    </tr>\n",
       "    <tr>\n",
       "      <th>15</th>\n",
       "      <td>80.0</td>\n",
       "      <td>0.847465</td>\n",
       "      <td>0.844004</td>\n",
       "    </tr>\n",
       "    <tr>\n",
       "      <th>16</th>\n",
       "      <td>90.0</td>\n",
       "      <td>0.847465</td>\n",
       "      <td>0.844004</td>\n",
       "    </tr>\n",
       "    <tr>\n",
       "      <th>17</th>\n",
       "      <td>100.0</td>\n",
       "      <td>0.847465</td>\n",
       "      <td>0.844004</td>\n",
       "    </tr>\n",
       "    <tr>\n",
       "      <th>18</th>\n",
       "      <td>150.0</td>\n",
       "      <td>0.847465</td>\n",
       "      <td>0.844004</td>\n",
       "    </tr>\n",
       "    <tr>\n",
       "      <th>19</th>\n",
       "      <td>200.0</td>\n",
       "      <td>0.847465</td>\n",
       "      <td>0.844004</td>\n",
       "    </tr>\n",
       "  </tbody>\n",
       "</table>\n",
       "</div>"
      ],
      "text/plain": [
       "    depth  training_score  cv_score\n",
       "0     1.0        0.771197  0.760813\n",
       "1     2.0        0.788414  0.788331\n",
       "2     4.0        0.808212  0.803850\n",
       "3     5.0        0.810106  0.805546\n",
       "4     8.0        0.815959  0.813815\n",
       "5    10.0        0.818714  0.818522\n",
       "6    15.0        0.833950  0.832047\n",
       "7    20.0        0.843075  0.840782\n",
       "8    25.0        0.847723  0.843368\n",
       "9    30.0        0.848067  0.843580\n",
       "10   35.0        0.845485  0.843665\n",
       "11   40.0        0.846432  0.844640\n",
       "12   50.0        0.847465  0.844004\n",
       "13   60.0        0.847465  0.844004\n",
       "14   70.0        0.847465  0.844004\n",
       "15   80.0        0.847465  0.844004\n",
       "16   90.0        0.847465  0.844004\n",
       "17  100.0        0.847465  0.844004\n",
       "18  150.0        0.847465  0.844004\n",
       "19  200.0        0.847465  0.844004"
      ]
     },
     "execution_count": 48,
     "metadata": {},
     "output_type": "execute_result"
    }
   ],
   "source": [
    "learnig_df= myDT_ModelTurning(clf,depths,X_train,y_train,X_test,y_test,cv)\n",
    "learnig_df"
   ]
  },
  {
   "cell_type": "code",
   "execution_count": 49,
   "metadata": {
    "pycharm": {
     "name": "#%%\n"
    }
   },
   "outputs": [
    {
     "data": {
      "text/html": [
       "<div>\n",
       "<style scoped>\n",
       "    .dataframe tbody tr th:only-of-type {\n",
       "        vertical-align: middle;\n",
       "    }\n",
       "\n",
       "    .dataframe tbody tr th {\n",
       "        vertical-align: top;\n",
       "    }\n",
       "\n",
       "    .dataframe thead th {\n",
       "        text-align: right;\n",
       "    }\n",
       "</style>\n",
       "<table border=\"1\" class=\"dataframe\">\n",
       "  <thead>\n",
       "    <tr style=\"text-align: right;\">\n",
       "      <th></th>\n",
       "      <th>depth</th>\n",
       "      <th>training_score</th>\n",
       "      <th>cv_score</th>\n",
       "    </tr>\n",
       "  </thead>\n",
       "  <tbody>\n",
       "    <tr>\n",
       "      <th>count</th>\n",
       "      <td>20.000000</td>\n",
       "      <td>20.000000</td>\n",
       "      <td>20.000000</td>\n",
       "    </tr>\n",
       "    <tr>\n",
       "      <th>mean</th>\n",
       "      <td>49.750000</td>\n",
       "      <td>0.832853</td>\n",
       "      <td>0.829550</td>\n",
       "    </tr>\n",
       "    <tr>\n",
       "      <th>std</th>\n",
       "      <td>53.155061</td>\n",
       "      <td>0.022938</td>\n",
       "      <td>0.023673</td>\n",
       "    </tr>\n",
       "    <tr>\n",
       "      <th>min</th>\n",
       "      <td>1.000000</td>\n",
       "      <td>0.771197</td>\n",
       "      <td>0.760813</td>\n",
       "    </tr>\n",
       "    <tr>\n",
       "      <th>25%</th>\n",
       "      <td>9.500000</td>\n",
       "      <td>0.818025</td>\n",
       "      <td>0.817345</td>\n",
       "    </tr>\n",
       "    <tr>\n",
       "      <th>50%</th>\n",
       "      <td>32.500000</td>\n",
       "      <td>0.846948</td>\n",
       "      <td>0.843623</td>\n",
       "    </tr>\n",
       "    <tr>\n",
       "      <th>75%</th>\n",
       "      <td>72.500000</td>\n",
       "      <td>0.847465</td>\n",
       "      <td>0.844004</td>\n",
       "    </tr>\n",
       "    <tr>\n",
       "      <th>max</th>\n",
       "      <td>200.000000</td>\n",
       "      <td>0.848067</td>\n",
       "      <td>0.844640</td>\n",
       "    </tr>\n",
       "  </tbody>\n",
       "</table>\n",
       "</div>"
      ],
      "text/plain": [
       "            depth  training_score   cv_score\n",
       "count   20.000000       20.000000  20.000000\n",
       "mean    49.750000        0.832853   0.829550\n",
       "std     53.155061        0.022938   0.023673\n",
       "min      1.000000        0.771197   0.760813\n",
       "25%      9.500000        0.818025   0.817345\n",
       "50%     32.500000        0.846948   0.843623\n",
       "75%     72.500000        0.847465   0.844004\n",
       "max    200.000000        0.848067   0.844640"
      ]
     },
     "execution_count": 49,
     "metadata": {},
     "output_type": "execute_result"
    }
   ],
   "source": [
    "learnig_df.describe()"
   ]
  },
  {
   "cell_type": "code",
   "execution_count": 50,
   "metadata": {
    "pycharm": {
     "name": "#%%\n"
    }
   },
   "outputs": [
    {
     "data": {
      "text/plain": [
       "Text(0.5, 1.0, 'Training and Cross validation scores of CV:10')"
      ]
     },
     "execution_count": 50,
     "metadata": {},
     "output_type": "execute_result"
    },
    {
     "data": {
      "image/png": "[encoded data removed]",
      "text/plain": [
       "<Figure size 432x288 with 1 Axes>"
      ]
     },
     "metadata": {
      "needs_background": "light"
     },
     "output_type": "display_data"
    }
   ],
   "source": [
    "\n",
    "fig, ax = plt.subplots()\n",
    "plt.plot(learnig_df.depth, learnig_df.training_score, color='blue', marker='o', markersize=5, label='training')\n",
    "\n",
    "plt.plot(learnig_df.depth, learnig_df.cv_score, color='orange', marker='o', markersize=5, label='cross validation')\n",
    "\n",
    "ax.legend()\n",
    "ax.set_title(\"Training and Cross validation scores of CV:10\")\n"
   ]
  },
  {
   "cell_type": "markdown",
   "metadata": {},
   "source": [
    "<div class=\"alert alert-block alert-info\">\n",
    "Based on the plot, we saw that \n",
    "</div>\n"
   ]
  },
  {
   "cell_type": "markdown",
   "metadata": {},
   "source": [
    "####----------------------------------------------------------------\n",
    "# Grid Search CV\n",
    "####----------------------------------------------------------------"
   ]
  },
  {
   "cell_type": "code",
   "execution_count": 51,
   "metadata": {
    "pycharm": {
     "name": "#%%\n"
    }
   },
   "outputs": [],
   "source": [
    "#GridSearchCV\n",
    "def myGS(X_train,y_train,depths,num_leafs):\n",
    "    from sklearn.model_selection import GridSearchCV\n",
    "    \n",
    "    param_grid = [{'max_depth':depths,\n",
    "                  'min_samples_leaf':num_leafs}]\n",
    "    clf2 = DecisionTreeClassifier(random_state=0)\n",
    "    gs = GridSearchCV(estimator=clf2, param_grid=param_grid, cv=10)\n",
    "    \n",
    "    gs = gs.fit(X_train, y_train)\n",
    "    return gs\n",
    "    "
   ]
  },
  {
   "cell_type": "code",
   "execution_count": 52,
   "metadata": {
    "pycharm": {
     "name": "#%%\n"
    }
   },
   "outputs": [
    {
     "data": {
      "text/plain": [
       "0.8589721845318861"
      ]
     },
     "execution_count": 52,
     "metadata": {},
     "output_type": "execute_result"
    }
   ],
   "source": [
    "depths = [1,2,4, 5, 8, 10,15, 20,25,30,35,40]\n",
    "num_leafs = [1,2,4, 5, 8, 10, 20]\n",
    "gs = myGS(X_train,y_train,depths,num_leafs)\n",
    "#Training Score\n",
    "gs.best_score_"
   ]
  },
  {
   "cell_type": "code",
   "execution_count": 53,
   "metadata": {
    "pycharm": {
     "name": "#%%\n"
    }
   },
   "outputs": [
    {
     "data": {
      "text/plain": [
       "{'max_depth': 30, 'min_samples_leaf': 2}"
      ]
     },
     "execution_count": 53,
     "metadata": {},
     "output_type": "execute_result"
    }
   ],
   "source": [
    "gs.best_params_\n",
    "    "
   ]
  },
  {
   "cell_type": "markdown",
   "metadata": {},
   "source": [
    "####----------------------------------------------------------------\n",
    "# Final Evaluation\n",
    "####----------------------------------------------------------------"
   ]
  },
  {
   "cell_type": "code",
   "execution_count": 54,
   "metadata": {
    "pycharm": {
     "name": "#%%\n"
    }
   },
   "outputs": [
    {
     "data": {
      "text/plain": [
       "0.8614100025824223"
      ]
     },
     "execution_count": 54,
     "metadata": {},
     "output_type": "execute_result"
    }
   ],
   "source": [
    "clf = DecisionTreeClassifier(random_state=0,max_depth=gs.best_params_['max_depth'],min_samples_leaf=gs.best_params_['min_samples_leaf'])\n",
    "#Original Data\n",
    "score,cv_scores,params = myDT(clf,X_train,y_train,X_test,y_test,cv)\n",
    "score"
   ]
  },
  {
   "cell_type": "code",
   "execution_count": 55,
   "metadata": {
    "pycharm": {
     "name": "#%%\n"
    }
   },
   "outputs": [
    {
     "data": {
      "text/plain": [
       "0.8589715733381004"
      ]
     },
     "execution_count": 55,
     "metadata": {},
     "output_type": "execute_result"
    }
   ],
   "source": [
    "cv_scores.mean()"
   ]
  },
  {
   "cell_type": "code",
   "execution_count": 56,
   "metadata": {
    "pycharm": {
     "name": "#%%\n"
    }
   },
   "outputs": [
    {
     "data": {
      "text/plain": [
       "[2876, 30]"
      ]
     },
     "execution_count": 56,
     "metadata": {},
     "output_type": "execute_result"
    }
   ],
   "source": [
    "params\n"
   ]
  }
 ],
 "metadata": {
  "kernelspec": {
   "display_name": "Python 3",
   "language": "python",
   "name": "python3"
  },
  "language_info": {
   "codemirror_mode": {
    "name": "ipython",
    "version": 3
   },
   "file_extension": ".py",
   "mimetype": "text/x-python",
   "name": "python",
   "nbconvert_exporter": "python",
   "pygments_lexer": "ipython3",
   "version": "3.7.3"
  },
  "pycharm": {
   "stem_cell": {
    "cell_type": "raw",
    "metadata": {
     "collapsed": false
    },
    "source": []
   }
  }
 },
 "nbformat": 4,
 "nbformat_minor": 1
}
