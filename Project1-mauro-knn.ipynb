{
 "cells": [
  {
   "cell_type": "markdown",
   "metadata": {},
   "source": [
    "# Project 1 - kNN\n"
   ]
  },
  {
   "cell_type": "markdown",
   "metadata": {},
   "source": [
    "## Exploratory Data Analysis\n"
   ]
  },
  {
   "cell_type": "markdown",
   "metadata": {},
   "source": [
    "\n",
    "##### Dataset reference: https://www.kaggle.com/CooperUnion/anime-recommendations-database?fbclid=IwAR3sXr48_xQHp8NgF9AyXuVf0RGwTkFw8bfkRoXda6zix9rQsevpya8JDOM#rating.csv\n"
   ]
  },
  {
   "cell_type": "markdown",
   "metadata": {},
   "source": [
    "### Context\n",
    "This data set contains information on user preference data from 73,516 users on 12,294 anime. Each user is able to add anime to their completed list and give it a rating and this data set is a compilation of those ratings.\n"
   ]
  },
  {
   "cell_type": "markdown",
   "metadata": {},
   "source": [
    "### Content\n",
    "\n",
    "#### Anime.csv\n",
    "\n",
    "**anime_id** - myanimelist.net's unique id identifying an anime.\n",
    "\n",
    "**name** - full name of anime.\n",
    "\n",
    "**genre** - comma separated list of genres for this anime.\n",
    "\n",
    "**type** - movie, TV, OVA, etc.\n",
    "\n",
    "**episodes** - how many episodes in this show. (1 if movie).\n",
    "\n",
    "**rating** - average rating out of 10 for this anime.\n",
    "\n",
    "**members** - number of community members that are in this anime's \"group\".\n",
    "\n",
    "#### Rating.csv\n",
    "\n",
    "**user_id** - non identifiable randomly generated user id.\n",
    "\n",
    "**anime_id** - the anime that this user has rated.\n",
    "\n",
    "**rating** - rating out of 10 this user has assigned (-1 if the user watched it but didn't assign a rating).\n",
    "\n"
   ]
  },
  {
   "cell_type": "markdown",
   "metadata": {},
   "source": [
    "## Step 1 - Importing the DataFrame (CSV to DataFrame)"
   ]
  },
  {
   "cell_type": "markdown",
   "metadata": {},
   "source": [
    "### Libraries"
   ]
  },
  {
   "cell_type": "code",
   "execution_count": 417,
   "metadata": {
    "pycharm": {
     "is_executing": false,
     "name": "#%%\n"
    }
   },
   "outputs": [],
   "source": [
    "import numpy as np\n",
    "import pandas as pd\n",
    "import matplotlib.pyplot as plt\n",
    "import seaborn as sns\n",
    "#import plotly.tools as tls\n",
    "#tls.embed('https://plot.ly/~cufflinks/8')\n",
    "%matplotlib inline\n",
    "#import cufflinks as cf\n",
    "#print(cf.__version)"
   ]
  },
  {
   "cell_type": "markdown",
   "metadata": {},
   "source": [
    "### Datasets\n"
   ]
  },
  {
   "cell_type": "code",
   "execution_count": 418,
   "metadata": {
    "pycharm": {
     "is_executing": false,
     "name": "#%%\n"
    }
   },
   "outputs": [],
   "source": [
    "df = pd.read_csv('../data/anime.csv')\n",
    "#test = pd.read_csv('../data/rating.csv')"
   ]
  },
  {
   "cell_type": "markdown",
   "metadata": {},
   "source": [
    "### Checking the structure of the colums\n",
    "#### Visualizing the number of colums and features' names associated to the dataset"
   ]
  },
  {
   "cell_type": "code",
   "execution_count": 419,
   "metadata": {
    "pycharm": {
     "is_executing": false,
     "name": "#%%\n"
    }
   },
   "outputs": [
    {
     "data": {
      "text/plain": "Index(['anime_id', 'name', 'genre', 'type', 'episodes', 'rating', 'members'], dtype='object')"
     },
     "metadata": {},
     "output_type": "execute_result",
     "execution_count": 419
    }
   ],
   "source": [
    "df.columns"
   ]
  },
  {
   "cell_type": "code",
   "execution_count": 420,
   "metadata": {
    "pycharm": {
     "is_executing": false,
     "name": "#%%\n"
    }
   },
   "outputs": [
    {
     "name": "stdout",
     "text": [
      "Dimensions of DataFrame: (12294, 7)\n"
     ],
     "output_type": "stream"
    }
   ],
   "source": [
    "print(\"Dimensions of DataFrame: {}\".format(df.shape))"
   ]
  },
  {
   "cell_type": "code",
   "execution_count": 421,
   "metadata": {
    "pycharm": {
     "is_executing": false,
     "name": "#%%\n"
    }
   },
   "outputs": [],
   "source": [
    "#test.columns"
   ]
  },
  {
   "cell_type": "code",
   "execution_count": 422,
   "metadata": {
    "pycharm": {
     "is_executing": false,
     "name": "#%%\n"
    }
   },
   "outputs": [],
   "source": [
    "#print(\"Dimensions of test: {}\".format(test.shape))"
   ]
  },
  {
   "cell_type": "markdown",
   "metadata": {},
   "source": [
    "#### Obtaining a sample of the associated data "
   ]
  },
  {
   "cell_type": "code",
   "execution_count": 423,
   "metadata": {
    "pycharm": {
     "is_executing": false,
     "name": "#%%\n"
    }
   },
   "outputs": [
    {
     "data": {
      "text/plain": "      anime_id                       name  \\\n4196       637             Iketeru Futari   \n8321     11733    Chi-Sui Maru 2nd Season   \n9094     17403  Kaitou Lupin: 813 no Nazo   \n6083     28251   Uribyeol ilhowa ulrookso   \n4579       744          Trouble Chocolate   \n\n                                       genre     type episodes  rating  \\\n4196  Comedy, Ecchi, Romance, School, Seinen       TV       16    6.78   \n8321                                  Comedy       TV       34    5.08   \n9094                                 Mystery  Special        1    6.73   \n6083            Comedy, Kids, Magic, Romance    Movie        1    6.22   \n4579        Comedy, Romance, Sci-Fi, Shounen       TV       20    6.69   \n\n      members  \n4196    11933  \n8321      114  \n9094      301  \n6083      283  \n4579     2747  ",
      "text/html": "<div>\n<style scoped>\n    .dataframe tbody tr th:only-of-type {\n        vertical-align: middle;\n    }\n\n    .dataframe tbody tr th {\n        vertical-align: top;\n    }\n\n    .dataframe thead th {\n        text-align: right;\n    }\n</style>\n<table border=\"1\" class=\"dataframe\">\n  <thead>\n    <tr style=\"text-align: right;\">\n      <th></th>\n      <th>anime_id</th>\n      <th>name</th>\n      <th>genre</th>\n      <th>type</th>\n      <th>episodes</th>\n      <th>rating</th>\n      <th>members</th>\n    </tr>\n  </thead>\n  <tbody>\n    <tr>\n      <th>4196</th>\n      <td>637</td>\n      <td>Iketeru Futari</td>\n      <td>Comedy, Ecchi, Romance, School, Seinen</td>\n      <td>TV</td>\n      <td>16</td>\n      <td>6.78</td>\n      <td>11933</td>\n    </tr>\n    <tr>\n      <th>8321</th>\n      <td>11733</td>\n      <td>Chi-Sui Maru 2nd Season</td>\n      <td>Comedy</td>\n      <td>TV</td>\n      <td>34</td>\n      <td>5.08</td>\n      <td>114</td>\n    </tr>\n    <tr>\n      <th>9094</th>\n      <td>17403</td>\n      <td>Kaitou Lupin: 813 no Nazo</td>\n      <td>Mystery</td>\n      <td>Special</td>\n      <td>1</td>\n      <td>6.73</td>\n      <td>301</td>\n    </tr>\n    <tr>\n      <th>6083</th>\n      <td>28251</td>\n      <td>Uribyeol ilhowa ulrookso</td>\n      <td>Comedy, Kids, Magic, Romance</td>\n      <td>Movie</td>\n      <td>1</td>\n      <td>6.22</td>\n      <td>283</td>\n    </tr>\n    <tr>\n      <th>4579</th>\n      <td>744</td>\n      <td>Trouble Chocolate</td>\n      <td>Comedy, Romance, Sci-Fi, Shounen</td>\n      <td>TV</td>\n      <td>20</td>\n      <td>6.69</td>\n      <td>2747</td>\n    </tr>\n  </tbody>\n</table>\n</div>"
     },
     "metadata": {},
     "output_type": "execute_result",
     "execution_count": 423
    }
   ],
   "source": [
    "df.sample(5)"
   ]
  },
  {
   "cell_type": "markdown",
   "metadata": {},
   "source": [
    "#### It is appreciated the nature of the columns (Categorical and Numerical)"
   ]
  },
  {
   "cell_type": "markdown",
   "metadata": {},
   "source": [
    "### Descriptive statistics summary of the variable of the dataset features "
   ]
  },
  {
   "cell_type": "code",
   "execution_count": 424,
   "metadata": {
    "pycharm": {
     "is_executing": false,
     "name": "#%%\n"
    }
   },
   "outputs": [
    {
     "name": "stdout",
     "text": [
      "anime_id      int64\nname         object\ngenre        object\ntype         object\nepisodes     object\nrating      float64\nmembers       int64\ndtype: object\n"
     ],
     "output_type": "stream"
    }
   ],
   "source": [
    "print(df.dtypes)"
   ]
  },
  {
   "cell_type": "markdown",
   "metadata": {},
   "source": [
    "### Number of total values per feature "
   ]
  },
  {
   "cell_type": "code",
   "execution_count": 425,
   "metadata": {
    "pycharm": {
     "is_executing": false,
     "name": "#%%\n"
    }
   },
   "outputs": [
    {
     "name": "stdout",
     "text": [
      "<class 'pandas.core.frame.DataFrame'>\nRangeIndex: 12294 entries, 0 to 12293\nData columns (total 7 columns):\nanime_id    12294 non-null int64\nname        12294 non-null object\ngenre       12232 non-null object\ntype        12269 non-null object\nepisodes    12294 non-null object\nrating      12064 non-null float64\nmembers     12294 non-null int64\ndtypes: float64(1), int64(2), object(4)\nmemory usage: 672.4+ KB\n"
     ],
     "output_type": "stream"
    }
   ],
   "source": [
    "df.info()"
   ]
  },
  {
   "cell_type": "markdown",
   "metadata": {},
   "source": [
    "### Number of unique values per feature"
   ]
  },
  {
   "cell_type": "code",
   "execution_count": 426,
   "metadata": {
    "pycharm": {
     "is_executing": false,
     "name": "#%%\n"
    }
   },
   "outputs": [
    {
     "data": {
      "text/plain": "anime_id    12294\nname        12292\ngenre        3264\ntype            6\nepisodes      187\nrating        598\nmembers      6706\ndtype: int64"
     },
     "metadata": {},
     "output_type": "execute_result",
     "execution_count": 426
    }
   ],
   "source": [
    "df.nunique()"
   ]
  },
  {
   "cell_type": "markdown",
   "metadata": {},
   "source": [
    "### Exploring the missing values"
   ]
  },
  {
   "cell_type": "code",
   "execution_count": 427,
   "metadata": {
    "pycharm": {
     "is_executing": false,
     "name": "#%%\n"
    }
   },
   "outputs": [
    {
     "data": {
      "text/plain": "type       25\ngenre      62\nrating    230\ndtype: int64"
     },
     "metadata": {},
     "output_type": "execute_result",
     "execution_count": 427
    },
    {
     "data": {
      "text/plain": "<Figure size 432x288 with 1 Axes>",
      "image/png": "[encoded data removed]"
     },
     "metadata": {
      "needs_background": "light"
     },
     "output_type": "display_data"
    }
   ],
   "source": [
    "missing = df.isnull().sum()\n",
    "missing = missing[missing > 0]\n",
    "missing.sort_values(inplace=True)\n",
    "missing.plot.bar().set_title(\"Missing Values by Feature\")\n",
    "missing.plot.bar().set_xlabel('Dataset Features')\n",
    "missing.plot.bar().set_ylabel('Missing Values')\n",
    "missing.head()"
   ]
  },
  {
   "cell_type": "markdown",
   "metadata": {},
   "source": [
    "#### The category with most missing values is found in 'rating' followed by 'gender' and 'type' respectively."
   ]
  },
  {
   "cell_type": "code",
   "execution_count": 428,
   "outputs": [
    {
     "data": {
      "text/plain": "           anime_id        rating       members\ncount  12294.000000  12064.000000  1.229400e+04\nmean   14058.221653      6.473902  1.807134e+04\nstd    11455.294701      1.026746  5.482068e+04\nmin        1.000000      1.670000  5.000000e+00\n25%     3484.250000      5.880000  2.250000e+02\n50%    10260.500000      6.570000  1.550000e+03\n75%    24794.500000      7.180000  9.437000e+03\nmax    34527.000000     10.000000  1.013917e+06",
      "text/html": "<div>\n<style scoped>\n    .dataframe tbody tr th:only-of-type {\n        vertical-align: middle;\n    }\n\n    .dataframe tbody tr th {\n        vertical-align: top;\n    }\n\n    .dataframe thead th {\n        text-align: right;\n    }\n</style>\n<table border=\"1\" class=\"dataframe\">\n  <thead>\n    <tr style=\"text-align: right;\">\n      <th></th>\n      <th>anime_id</th>\n      <th>rating</th>\n      <th>members</th>\n    </tr>\n  </thead>\n  <tbody>\n    <tr>\n      <th>count</th>\n      <td>12294.000000</td>\n      <td>12064.000000</td>\n      <td>1.229400e+04</td>\n    </tr>\n    <tr>\n      <th>mean</th>\n      <td>14058.221653</td>\n      <td>6.473902</td>\n      <td>1.807134e+04</td>\n    </tr>\n    <tr>\n      <th>std</th>\n      <td>11455.294701</td>\n      <td>1.026746</td>\n      <td>5.482068e+04</td>\n    </tr>\n    <tr>\n      <th>min</th>\n      <td>1.000000</td>\n      <td>1.670000</td>\n      <td>5.000000e+00</td>\n    </tr>\n    <tr>\n      <th>25%</th>\n      <td>3484.250000</td>\n      <td>5.880000</td>\n      <td>2.250000e+02</td>\n    </tr>\n    <tr>\n      <th>50%</th>\n      <td>10260.500000</td>\n      <td>6.570000</td>\n      <td>1.550000e+03</td>\n    </tr>\n    <tr>\n      <th>75%</th>\n      <td>24794.500000</td>\n      <td>7.180000</td>\n      <td>9.437000e+03</td>\n    </tr>\n    <tr>\n      <th>max</th>\n      <td>34527.000000</td>\n      <td>10.000000</td>\n      <td>1.013917e+06</td>\n    </tr>\n  </tbody>\n</table>\n</div>"
     },
     "metadata": {},
     "output_type": "execute_result",
     "execution_count": 428
    }
   ],
   "source": [
    "df.describe()"
   ],
   "metadata": {
    "collapsed": false,
    "pycharm": {
     "name": "#%%\n",
     "is_executing": false
    }
   }
  },
  {
   "cell_type": "code",
   "execution_count": 429,
   "metadata": {
    "pycharm": {
     "is_executing": false,
     "name": "#%%\n"
    }
   },
   "outputs": [
    {
     "data": {
      "text/plain": "count    12294.000000\nmean     14058.221653\nstd      11455.294701\nmin          1.000000\n25%       3484.250000\n50%      10260.500000\n75%      24794.500000\nmax      34527.000000\nName: anime_id, dtype: float64"
     },
     "metadata": {},
     "output_type": "execute_result",
     "execution_count": 429
    }
   ],
   "source": [
    "df['anime_id'].describe()"
   ]
  },
  {
   "cell_type": "code",
   "execution_count": 430,
   "metadata": {
    "pycharm": {
     "is_executing": false,
     "name": "#%%\n"
    }
   },
   "outputs": [
    {
     "data": {
      "text/plain": "count                       12294\nunique                      12292\ntop       Shi Wan Ge Leng Xiaohua\nfreq                            2\nName: name, dtype: object"
     },
     "metadata": {},
     "output_type": "execute_result",
     "execution_count": 430
    }
   ],
   "source": [
    "df['name'].describe()"
   ]
  },
  {
   "cell_type": "code",
   "execution_count": 431,
   "metadata": {
    "pycharm": {
     "is_executing": false,
     "name": "#%%\n"
    }
   },
   "outputs": [
    {
     "data": {
      "text/plain": "count      12232\nunique      3264\ntop       Hentai\nfreq         823\nName: genre, dtype: object"
     },
     "metadata": {},
     "output_type": "execute_result",
     "execution_count": 431
    }
   ],
   "source": [
    "df['genre'].describe()"
   ]
  },
  {
   "cell_type": "code",
   "execution_count": 432,
   "metadata": {
    "pycharm": {
     "is_executing": false,
     "name": "#%%\n"
    }
   },
   "outputs": [
    {
     "data": {
      "text/plain": "count     12269\nunique        6\ntop          TV\nfreq       3787\nName: type, dtype: object"
     },
     "metadata": {},
     "output_type": "execute_result",
     "execution_count": 432
    }
   ],
   "source": [
    "df['type'].describe()"
   ]
  },
  {
   "cell_type": "code",
   "execution_count": 433,
   "metadata": {
    "pycharm": {
     "is_executing": false,
     "name": "#%%\n"
    }
   },
   "outputs": [
    {
     "data": {
      "text/plain": "count     12294\nunique      187\ntop           1\nfreq       5677\nName: episodes, dtype: object"
     },
     "metadata": {},
     "output_type": "execute_result",
     "execution_count": 433
    }
   ],
   "source": [
    "df['episodes'].describe()"
   ]
  },
  {
   "cell_type": "code",
   "execution_count": 434,
   "metadata": {
    "pycharm": {
     "is_executing": false,
     "name": "#%%\n"
    }
   },
   "outputs": [
    {
     "data": {
      "text/plain": "count    12064.000000\nmean         6.473902\nstd          1.026746\nmin          1.670000\n25%          5.880000\n50%          6.570000\n75%          7.180000\nmax         10.000000\nName: rating, dtype: float64"
     },
     "metadata": {},
     "output_type": "execute_result",
     "execution_count": 434
    }
   ],
   "source": [
    "df['rating'].describe()"
   ]
  },
  {
   "cell_type": "code",
   "execution_count": 435,
   "metadata": {
    "pycharm": {
     "is_executing": false,
     "name": "#%%\n"
    }
   },
   "outputs": [
    {
     "data": {
      "text/plain": "count    1.229400e+04\nmean     1.807134e+04\nstd      5.482068e+04\nmin      5.000000e+00\n25%      2.250000e+02\n50%      1.550000e+03\n75%      9.437000e+03\nmax      1.013917e+06\nName: members, dtype: float64"
     },
     "metadata": {},
     "output_type": "execute_result",
     "execution_count": 435
    }
   ],
   "source": [
    "df['members'].describe()"
   ]
  },
  {
   "cell_type": "markdown",
   "metadata": {},
   "source": [
    "# Box plot"
   ]
  },
  {
   "cell_type": "code",
   "execution_count": 436,
   "metadata": {
    "pycharm": {
     "is_executing": false,
     "name": "#%%\n"
    }
   },
   "outputs": [
    {
     "data": {
      "text/plain": "<Figure size 432x288 with 1 Axes>",
      "image/png": "[encoded data removed]"
     },
     "metadata": {
      "needs_background": "light"
     },
     "output_type": "display_data"
    }
   ],
   "source": [
    "bplot = sns.boxplot(x='rating', \n",
    "                 data=df, \n",
    "                 width=0.5,\n",
    "                 palette=\"colorblind\")\n"
   ]
  },
  {
   "cell_type": "markdown",
   "metadata": {},
   "source": [
    "### Dropping the rows with missing data ('na')"
   ]
  },
  {
   "cell_type": "code",
   "execution_count": 437,
   "metadata": {
    "pycharm": {
     "is_executing": false,
     "name": "#%%\n"
    }
   },
   "outputs": [],
   "source": [
    "df = df.dropna()"
   ]
  },
  {
   "cell_type": "code",
   "execution_count": 438,
   "metadata": {
    "pycharm": {
     "is_executing": false,
     "name": "#%%\n"
    }
   },
   "outputs": [
    {
     "data": {
      "text/plain": "count    12017.000000\nmean         6.478264\nstd          1.023857\nmin          1.670000\n25%          5.890000\n50%          6.570000\n75%          7.180000\nmax         10.000000\nName: rating, dtype: float64"
     },
     "metadata": {},
     "output_type": "execute_result",
     "execution_count": 438
    }
   ],
   "source": [
    "df['rating'].describe()"
   ]
  },
  {
   "cell_type": "markdown",
   "metadata": {},
   "source": [
    "#### Histogram"
   ]
  },
  {
   "cell_type": "code",
   "execution_count": 439,
   "metadata": {
    "pycharm": {
     "is_executing": false,
     "name": "#%%\n"
    }
   },
   "outputs": [
    {
     "data": {
      "text/plain": "count    12017.000000\nmean         6.478264\nstd          1.023857\nmin          1.670000\n25%          5.890000\n50%          6.570000\n75%          7.180000\nmax         10.000000\nName: rating, dtype: float64"
     },
     "metadata": {},
     "output_type": "execute_result",
     "execution_count": 439
    }
   ],
   "source": [
    "df['rating'].describe()"
   ]
  },
  {
   "cell_type": "code",
   "execution_count": 440,
   "metadata": {
    "pycharm": {
     "is_executing": false,
     "name": "#%%\n"
    }
   },
   "outputs": [
    {
     "data": {
      "text/plain": "array([ 9.37,  9.26,  9.25,  9.17,  9.16,  9.15,  9.13,  9.11,  9.1 ,\n        9.06,  9.05,  9.04,  8.98,  8.93,  8.92,  8.88,  8.84,  8.83,\n        8.82,  8.81,  8.8 ,  8.78,  8.77,  8.76,  8.75,  8.74,  8.73,\n        8.72,  8.71,  8.69,  8.68,  8.67,  8.66,  8.65,  8.64,  8.62,\n        8.61,  8.6 ,  8.59,  8.58,  8.57,  8.56,  8.55,  8.54,  8.53,\n        8.52,  8.51,  8.5 ,  8.49,  8.48,  8.47,  8.46,  8.45,  8.44,\n        8.43,  8.42,  8.41,  8.4 ,  8.39,  8.38,  8.37,  8.36,  8.35,\n        8.34,  8.33,  8.32,  8.31,  8.3 ,  8.29,  8.28,  8.27,  8.26,\n        8.25,  8.24,  8.23,  8.22,  8.21,  8.2 ,  8.19,  8.18,  8.17,\n        8.16,  8.15,  8.14,  8.13,  8.12,  8.11,  8.1 ,  8.09,  8.08,\n        8.07,  8.06,  8.05,  8.04,  8.03,  8.02,  8.01,  8.  ,  7.99,\n        7.98,  7.97,  7.96,  7.95,  7.94,  7.93,  7.92,  7.91,  7.9 ,\n        7.89,  7.88,  7.87,  7.86,  7.85,  7.84,  7.83,  7.82,  7.81,\n        7.8 ,  7.79,  7.78,  7.77,  7.76,  7.75,  7.74,  7.73,  7.72,\n        7.71,  7.7 ,  7.69,  7.68,  7.67,  7.66,  7.65,  7.64,  7.63,\n        7.62,  7.61,  7.6 ,  7.59,  7.58,  7.57,  7.56,  7.55,  7.54,\n        7.53,  7.52,  7.51,  7.5 ,  7.49,  7.48,  7.47,  7.46,  7.45,\n        7.44,  7.43,  7.42,  7.41,  7.4 ,  7.39,  7.38,  7.37,  7.36,\n        7.35,  7.34,  7.33,  7.32,  7.31,  7.3 ,  7.29,  7.28,  7.27,\n        7.25,  7.26,  7.24,  7.23,  7.22,  7.21,  7.2 ,  7.19,  7.18,\n        7.17,  7.16,  7.14,  7.15,  7.13,  7.12,  7.11,  7.1 ,  7.09,\n        7.08,  7.07,  7.06,  7.05,  7.04,  7.03,  7.02,  7.01,  7.  ,\n        6.99,  6.98,  6.97,  6.96,  6.95,  6.94,  6.93,  6.92,  6.91,\n        6.9 ,  6.89,  6.88,  6.87,  6.86,  6.85,  6.84,  6.83,  6.82,\n        6.81,  6.8 ,  6.79,  6.78,  6.75,  6.77,  6.76,  6.74,  6.73,\n        6.72,  6.71,  6.7 ,  6.69,  6.68,  6.67,  6.66,  6.65,  6.64,\n        6.63,  6.62,  6.61,  6.6 ,  6.59,  6.58,  6.57,  6.56,  6.55,\n        6.54,  6.53,  6.52,  6.51,  6.47,  6.5 ,  6.49,  6.48,  6.46,\n        6.45,  6.42,  6.44,  6.43,  6.39,  6.41,  6.4 ,  6.38,  6.37,\n        6.35,  6.36,  6.34,  6.33,  6.32,  6.31,  6.3 ,  6.29,  6.28,\n        6.27,  6.26,  6.25,  6.22,  6.24,  6.23,  6.21,  6.2 ,  6.19,\n        6.18,  6.17,  6.16,  6.15,  6.14,  6.13,  6.12,  6.1 ,  6.11,\n        6.09,  6.08,  6.06,  6.07,  6.05,  6.04,  6.03,  6.01,  6.02,\n        6.  ,  5.99,  5.98,  5.97,  5.96,  5.95,  5.94,  5.93,  5.92,\n        5.91,  5.89,  5.9 ,  5.88,  5.87,  5.86,  5.85,  5.84,  5.83,\n        5.82,  5.81,  5.8 ,  5.79,  5.78,  5.77,  5.76,  5.75,  5.74,\n        5.73,  5.72,  5.7 ,  5.71,  5.69,  5.68,  5.67,  5.66,  5.65,\n        5.64,  5.63,  5.62,  5.61,  5.6 ,  5.59,  5.58,  5.57,  5.56,\n        5.55,  5.53,  5.54,  5.52,  5.51,  5.5 ,  5.49,  5.48,  5.46,\n        5.47,  5.45,  5.44,  5.43,  5.42,  5.41,  5.4 ,  5.39,  5.38,\n        5.37,  5.36,  5.35,  5.34,  5.33,  5.32,  5.31,  5.3 ,  5.29,\n        5.28,  5.27,  5.26,  5.24,  5.25,  5.23,  5.22,  5.21,  5.2 ,\n        5.19,  5.14,  5.18,  5.17,  5.16,  5.15,  5.13,  5.11,  5.12,\n        5.1 ,  5.09,  5.07,  5.08,  5.06,  5.04,  5.05,  5.03,  5.02,\n        5.01,  5.  ,  4.99,  4.98,  4.97,  4.96,  4.95,  4.94,  4.93,\n        4.92,  4.91,  4.9 ,  4.89,  4.88,  4.84,  4.87,  4.86,  4.85,\n        4.83,  4.82,  4.81,  4.8 ,  4.79,  4.78,  4.77,  4.76,  4.75,\n        4.74,  4.73,  4.72,  4.71,  4.7 ,  4.69,  4.68,  4.66,  4.67,\n        4.65,  4.64,  4.63,  4.62,  4.6 ,  4.59,  4.58,  4.57,  4.56,\n        4.55,  4.54,  4.53,  4.52,  4.49,  4.5 ,  4.48,  4.46,  4.45,\n        4.44,  4.43,  4.42,  4.4 ,  4.39,  4.38,  4.36,  4.35,  4.34,\n        4.32,  4.31,  4.3 ,  4.28,  4.27,  4.26,  4.25,  4.24,  4.23,\n        4.22,  4.21,  4.19,  4.17,  4.16,  4.15,  4.11,  4.08,  4.04,\n        4.03,  4.02,  4.  ,  3.99,  3.98,  3.96,  3.91,  3.9 ,  3.88,\n        3.87,  3.86,  3.84,  3.83,  3.82,  3.8 ,  3.78,  3.76,  3.75,\n        3.74,  3.73,  3.71,  3.7 ,  3.68,  3.65,  3.63,  3.62,  3.6 ,\n        3.58,  3.59,  3.56,  3.47,  3.46,  3.41,  3.36,  3.33,  3.32,\n        3.27,  2.95,  2.93,  2.78,  2.67,  2.37,  2.14,  2.  ,  4.06,\n        4.18,  4.09,  3.67,  3.  ,  4.33,  3.89,  4.2 ,  3.61,  4.13,\n        3.11,  2.58,  4.29,  3.43,  3.57,  4.05,  4.51,  3.4 ,  3.79,\n        3.81,  3.92,  3.48,  3.38,  3.95,  4.61,  3.34,  3.02,  2.69,\n        3.5 ,  3.97,  3.85,  3.77,  3.53,  9.33,  4.14,  4.12,  3.2 ,\n        3.93,  3.52,  2.55,  9.  ,  2.97,  4.1 ,  3.39,  3.17,  9.5 ,\n        3.25,  2.8 ,  2.91,  2.75,  4.41,  3.72,  3.94,  1.67,  4.37,\n        3.69,  3.26,  3.49,  2.49,  2.84,  4.07,  3.35,  3.54,  3.21,\n        3.42,  9.6 ,  3.28, 10.  ,  3.51,  3.29,  3.64,  2.72,  2.98,\n        3.44,  1.92,  2.86,  3.14])"
     },
     "metadata": {},
     "output_type": "execute_result",
     "execution_count": 440
    }
   ],
   "source": [
    "df['rating'].unique()"
   ]
  },
  {
   "cell_type": "code",
   "execution_count": 441,
   "metadata": {
    "pycharm": {
     "is_executing": false,
     "name": "#%%\n"
    }
   },
   "outputs": [
    {
     "data": {
      "text/plain": "<Figure size 432x288 with 1 Axes>",
      "image/png": "[encoded data removed]"
     },
     "metadata": {
      "needs_background": "light"
     },
     "output_type": "display_data"
    }
   ],
   "source": [
    "sns.distplot(df['rating']);"
   ]
  },
  {
   "cell_type": "code",
   "execution_count": 442,
   "metadata": {
    "pycharm": {
     "is_executing": false,
     "name": "#%%\n"
    }
   },
   "outputs": [
    {
     "data": {
      "text/plain": "<Figure size 432x288 with 1 Axes>",
      "image/png": "[encoded data removed]"
     },
     "metadata": {
      "needs_background": "light"
     },
     "output_type": "display_data"
    }
   ],
   "source": [
    "bplot = sns.boxplot(x='rating', \n",
    "                 data=df, \n",
    "                 width=0.5,\n",
    "                 palette=\"colorblind\")"
   ]
  },
  {
   "cell_type": "code",
   "execution_count": 443,
   "metadata": {
    "pycharm": {
     "is_executing": false,
     "name": "#%%\n"
    }
   },
   "outputs": [
    {
     "data": {
      "text/plain": "count    1.201700e+04\nmean     1.834888e+04\nstd      5.537250e+04\nmin      1.200000e+01\n25%      2.250000e+02\n50%      1.552000e+03\n75%      9.588000e+03\nmax      1.013917e+06\nName: members, dtype: float64"
     },
     "metadata": {},
     "output_type": "execute_result",
     "execution_count": 443
    }
   ],
   "source": [
    "df['members'].describe()"
   ]
  },
  {
   "cell_type": "code",
   "execution_count": 444,
   "metadata": {
    "pycharm": {
     "is_executing": false,
     "name": "#%%\n"
    }
   },
   "outputs": [
    {
     "data": {
      "text/plain": "array([200630, 793665, 114262, ...,  27411,  57355,    652])"
     },
     "metadata": {},
     "output_type": "execute_result",
     "execution_count": 444
    }
   ],
   "source": [
    "df['members'].unique()"
   ]
  },
  {
   "cell_type": "code",
   "execution_count": 445,
   "metadata": {
    "pycharm": {
     "is_executing": false,
     "name": "#%%\n"
    }
   },
   "outputs": [
    {
     "data": {
      "text/plain": "<Figure size 432x288 with 1 Axes>",
      "image/png": "[encoded data removed]"
     },
     "metadata": {
      "needs_background": "light"
     },
     "output_type": "display_data"
    }
   ],
   "source": [
    "sns.distplot(df['members']);"
   ]
  },
  {
   "cell_type": "code",
   "execution_count": 446,
   "metadata": {
    "pycharm": {
     "is_executing": false,
     "name": "#%%\n"
    }
   },
   "outputs": [
    {
     "data": {
      "text/plain": "<Figure size 432x288 with 1 Axes>",
      "image/png": "[encoded data removed]"
     },
     "metadata": {
      "needs_background": "light"
     },
     "output_type": "display_data"
    }
   ],
   "source": [
    "bplot = sns.boxplot(x='members', \n",
    "                 data=df, \n",
    "                 width=0.5,\n",
    "                 palette=\"colorblind\")"
   ]
  },
  {
   "cell_type": "code",
   "execution_count": 447,
   "metadata": {
    "pycharm": {
     "is_executing": false,
     "name": "#%%\n"
    }
   },
   "outputs": [
    {
     "data": {
      "text/plain": "count     12017\nunique      187\ntop           1\nfreq       5571\nName: episodes, dtype: object"
     },
     "metadata": {},
     "output_type": "execute_result",
     "execution_count": 447
    }
   ],
   "source": [
    "df['episodes'].describe()"
   ]
  },
  {
   "cell_type": "code",
   "execution_count": 448,
   "metadata": {
    "pycharm": {
     "is_executing": false,
     "name": "#%%\n"
    }
   },
   "outputs": [
    {
     "data": {
      "text/plain": "array(['1', '64', '51', '24', '10', '148', '110', '13', '201', '25', '22',\n       '75', '4', '26', '12', '27', '43', '74', '37', '2', '11', '99',\n       'Unknown', '39', '101', '47', '50', '62', '33', '112', '23', '3',\n       '94', '6', '8', '14', '7', '40', '15', '203', '77', '291', '120',\n       '102', '96', '38', '79', '175', '103', '70', '153', '45', '5',\n       '21', '63', '52', '28', '145', '36', '69', '60', '178', '114',\n       '35', '61', '34', '109', '20', '9', '49', '366', '97', '48', '78',\n       '358', '155', '104', '113', '54', '167', '161', '42', '142', '31',\n       '373', '220', '46', '195', '17', '1787', '73', '147', '127', '16',\n       '19', '98', '150', '76', '53', '124', '29', '115', '224', '44',\n       '58', '93', '154', '92', '67', '172', '86', '30', '276', '59',\n       '72', '330', '41', '105', '128', '137', '56', '55', '65', '243',\n       '193', '18', '191', '180', '91', '192', '66', '182', '32', '164',\n       '100', '296', '694', '95', '68', '117', '151', '130', '87', '170',\n       '119', '84', '108', '156', '140', '331', '305', '300', '510',\n       '200', '88', '1471', '526', '143', '726', '136', '1818', '237',\n       '1428', '365', '163', '283', '71', '260', '199', '225', '312',\n       '240', '1306', '1565', '773', '1274', '90', '475', '263', '83',\n       '85', '1006', '80', '162', '132', '141', '125'], dtype=object)"
     },
     "metadata": {},
     "output_type": "execute_result",
     "execution_count": 448
    }
   ],
   "source": [
    "df['episodes'].unique()"
   ]
  },
  {
   "cell_type": "code",
   "execution_count": 449,
   "metadata": {
    "pycharm": {
     "is_executing": false,
     "name": "#%%\n"
    }
   },
   "outputs": [],
   "source": [
    "df = df[df['episodes']!='Unknown']"
   ]
  },
  {
   "cell_type": "code",
   "execution_count": 450,
   "metadata": {
    "pycharm": {
     "is_executing": false,
     "name": "#%%\n"
    }
   },
   "outputs": [
    {
     "data": {
      "text/plain": "array(['1', '64', '51', '24', '10', '148', '110', '13', '201', '25', '22',\n       '75', '4', '26', '12', '27', '43', '74', '37', '2', '11', '99',\n       '39', '101', '47', '50', '62', '33', '112', '23', '3', '94', '6',\n       '8', '14', '7', '40', '15', '203', '77', '291', '120', '102', '96',\n       '38', '79', '175', '103', '70', '153', '45', '5', '21', '63', '52',\n       '28', '145', '36', '69', '60', '178', '114', '35', '61', '34',\n       '109', '20', '9', '49', '366', '97', '48', '78', '358', '155',\n       '104', '113', '54', '167', '161', '42', '142', '31', '373', '220',\n       '46', '195', '17', '1787', '73', '147', '127', '16', '19', '98',\n       '150', '76', '53', '124', '29', '115', '224', '44', '58', '93',\n       '154', '92', '67', '172', '86', '30', '276', '59', '72', '330',\n       '41', '105', '128', '137', '56', '55', '65', '243', '193', '18',\n       '191', '180', '91', '192', '66', '182', '32', '164', '100', '296',\n       '694', '95', '68', '117', '151', '130', '87', '170', '119', '84',\n       '108', '156', '140', '331', '305', '300', '510', '200', '88',\n       '1471', '526', '143', '726', '136', '1818', '237', '1428', '365',\n       '163', '283', '71', '260', '199', '225', '312', '240', '1306',\n       '1565', '773', '1274', '90', '475', '263', '83', '85', '1006',\n       '80', '162', '132', '141', '125'], dtype=object)"
     },
     "metadata": {},
     "output_type": "execute_result",
     "execution_count": 450
    }
   ],
   "source": [
    "df['episodes'].unique()"
   ]
  },
  {
   "cell_type": "markdown",
   "metadata": {
    "pycharm": {
     "name": "#%% md\n"
    }
   },
   "source": [
    "Convert From object (Categorical) to Int\n",
    "https://stackoverflow.com/questions/48094854/python-convert-object-to-float"
   ]
  },
  {
   "cell_type": "code",
   "execution_count": 451,
   "metadata": {
    "pycharm": {
     "is_executing": false,
     "name": "#%%\n"
    }
   },
   "outputs": [],
   "source": [
    "df['episodes'] = df.episodes.astype(int)"
   ]
  },
  {
   "cell_type": "code",
   "execution_count": 452,
   "metadata": {
    "pycharm": {
     "is_executing": false,
     "name": "#%%\n"
    }
   },
   "outputs": [
    {
     "data": {
      "text/plain": "<Figure size 432x288 with 1 Axes>",
      "image/png": "[encoded data removed]"
     },
     "metadata": {
      "needs_background": "light"
     },
     "output_type": "display_data"
    }
   ],
   "source": [
    "sns.distplot(df['episodes']);"
   ]
  },
  {
   "cell_type": "code",
   "execution_count": 453,
   "metadata": {
    "pycharm": {
     "is_executing": false,
     "name": "#%%\n"
    }
   },
   "outputs": [
    {
     "data": {
      "text/plain": "<Figure size 432x288 with 1 Axes>",
      "image/png": "[encoded data removed]"
     },
     "metadata": {
      "needs_background": "light"
     },
     "output_type": "display_data"
    }
   ],
   "source": [
    "bplot = sns.boxplot(x='episodes', \n",
    "                 data=df, \n",
    "                 width=0.5,\n",
    "                 palette=\"colorblind\")"
   ]
  },
  {
   "cell_type": "code",
   "execution_count": 454,
   "metadata": {
    "pycharm": {
     "is_executing": false,
     "name": "#%%\n"
    }
   },
   "outputs": [
    {
     "name": "stdout",
     "text": [
      "Skewness Episodes: 23.277143\n"
     ],
     "output_type": "stream"
    }
   ],
   "source": [
    "print(\"Skewness Episodes: %f\" % df['episodes'].skew())"
   ]
  },
  {
   "cell_type": "code",
   "execution_count": 455,
   "metadata": {
    "pycharm": {
     "is_executing": false,
     "name": "#%%\n"
    }
   },
   "outputs": [
    {
     "name": "stdout",
     "text": [
      "Skewness Rating: -0.538142\n"
     ],
     "output_type": "stream"
    }
   ],
   "source": [
    "print(\"Skewness Rating: %f\" % df['rating'].skew())"
   ]
  },
  {
   "cell_type": "code",
   "execution_count": 456,
   "metadata": {
    "pycharm": {
     "is_executing": false,
     "name": "#%%\n"
    }
   },
   "outputs": [
    {
     "name": "stdout",
     "text": [
      "Skewness Members: 6.588423\n"
     ],
     "output_type": "stream"
    }
   ],
   "source": [
    "print(\"Skewness Members: %f\" % df['members'].skew())"
   ]
  },
  {
   "cell_type": "markdown",
   "metadata": {
    "pycharm": {
     "name": "#%% md\n"
    }
   },
   "source": [
    "Negative values for the skewness indicate data that are skewed left. By skewed left, we mean that the left tail is long relative to the right tail. \n",
    "However, because the value is relatively close to zero, the distribution is almost symetrical ( < 0.5)."
   ]
  },
  {
   "cell_type": "code",
   "execution_count": 457,
   "metadata": {
    "pycharm": {
     "is_executing": false,
     "name": "#%%\n"
    }
   },
   "outputs": [
    {
     "name": "stdout",
     "text": [
      "Kurtosis Episodes: 726.254496\n"
     ],
     "output_type": "stream"
    }
   ],
   "source": [
    "print(\"Kurtosis Episodes: %f\" % df['episodes'].kurt())"
   ]
  },
  {
   "cell_type": "code",
   "execution_count": 458,
   "metadata": {
    "pycharm": {
     "is_executing": false,
     "name": "#%%\n"
    }
   },
   "outputs": [
    {
     "name": "stdout",
     "text": [
      "Kurtosis Rating: 0.505835\n"
     ],
     "output_type": "stream"
    }
   ],
   "source": [
    "print(\"Kurtosis Rating: %f\" % df['rating'].kurt())"
   ]
  },
  {
   "cell_type": "code",
   "execution_count": 459,
   "metadata": {
    "pycharm": {
     "is_executing": false,
     "name": "#%%\n"
    }
   },
   "outputs": [
    {
     "name": "stdout",
     "text": [
      "Kurtosis Members: 61.400628\n"
     ],
     "output_type": "stream"
    }
   ],
   "source": [
    "print(\"Kurtosis Members: %f\" % df['members'].kurt())"
   ]
  },
  {
   "cell_type": "markdown",
   "metadata": {
    "pycharm": {
     "name": "#%% md\n"
    }
   },
   "source": [
    "Kurtosis is a measure of whether the distribution is too peaked (a very narrow distribution with most of the responses in the center.\n",
    "It means the effect of the tails on the distribution contribution. ()"
   ]
  },
  {
   "cell_type": "code",
   "execution_count": 460,
   "outputs": [
    {
     "name": "stdout",
     "text": [
      "Dimensions of DataFrame: (11830, 7)\n"
     ],
     "output_type": "stream"
    }
   ],
   "source": [
    "print(\"Dimensions of DataFrame: {}\".format(df.shape))"
   ],
   "metadata": {
    "collapsed": false,
    "pycharm": {
     "name": "#%%\n",
     "is_executing": false
    }
   }
  },
  {
   "cell_type": "code",
   "execution_count": 461,
   "outputs": [],
   "source": [
    "#ndf = df.drop(columns=['anime_id','name','genre','type'])\n",
    "#ndf = ndf.pivot(\"episodes\",\"rating\",\"members\")\n",
    "#ax = sns.heatmap(ndf)\n",
    "\n",
    "#flights = sns.load_dataset(\"flights\")\n",
    "#flights = flights.pivot(\"month\", \"year\", \"passengers\")\n",
    "#ax = sns.heatmap(flights)"
   ],
   "metadata": {
    "collapsed": false,
    "pycharm": {
     "name": "#%% \n",
     "is_executing": false
    }
   }
  },
  {
   "cell_type": "code",
   "execution_count": 462,
   "outputs": [
    {
     "name": "stdout",
     "text": [
      "[[ 0.24390475  2.83130101  3.28918118]\n [ 1.09381288  2.7233631  13.99975827]\n [ 0.81777591  2.71355056  1.72932194]\n ...\n [ 0.18020391  1.57452817  0.33036483]\n [ 0.24390475  1.4764028   0.3311595 ]\n [ 0.24390475  1.00540102  0.3317555 ]]\n"
     ],
     "output_type": "stream"
    }
   ],
   "source": [
    "#Outliers\n",
    "#We will use Z-score function defined in scipy library to detect the outliers.\n",
    "#https://towardsdatascience.com/ways-to-detect-and-remove-the-outliers-404d16608dba\n",
    "from scipy import stats\n",
    "import numpy as np\n",
    "df = df.drop(columns=['anime_id','name','genre','type'])\n",
    "z = np.abs(stats.zscore(df))\n",
    "print(z)"
   ],
   "metadata": {
    "collapsed": false,
    "pycharm": {
     "name": "#%%\n",
     "is_executing": false
    }
   }
  },
  {
   "cell_type": "code",
   "execution_count": 463,
   "outputs": [
    {
     "data": {
      "text/plain": "   episodes  rating  members\n2        51    9.25   114262\n4        51    9.16   151266\n5        10    9.15    93351\n7       110    9.11    80679\n8         1    9.10    72534",
      "text/html": "<div>\n<style scoped>\n    .dataframe tbody tr th:only-of-type {\n        vertical-align: middle;\n    }\n\n    .dataframe tbody tr th {\n        vertical-align: top;\n    }\n\n    .dataframe thead th {\n        text-align: right;\n    }\n</style>\n<table border=\"1\" class=\"dataframe\">\n  <thead>\n    <tr style=\"text-align: right;\">\n      <th></th>\n      <th>episodes</th>\n      <th>rating</th>\n      <th>members</th>\n    </tr>\n  </thead>\n  <tbody>\n    <tr>\n      <th>2</th>\n      <td>51</td>\n      <td>9.25</td>\n      <td>114262</td>\n    </tr>\n    <tr>\n      <th>4</th>\n      <td>51</td>\n      <td>9.16</td>\n      <td>151266</td>\n    </tr>\n    <tr>\n      <th>5</th>\n      <td>10</td>\n      <td>9.15</td>\n      <td>93351</td>\n    </tr>\n    <tr>\n      <th>7</th>\n      <td>110</td>\n      <td>9.11</td>\n      <td>80679</td>\n    </tr>\n    <tr>\n      <th>8</th>\n      <td>1</td>\n      <td>9.10</td>\n      <td>72534</td>\n    </tr>\n  </tbody>\n</table>\n</div>"
     },
     "metadata": {},
     "output_type": "execute_result",
     "execution_count": 463
    }
   ],
   "source": [
    "df = df[(z < 3).all(axis=1)]\n",
    "df.head()"
   ],
   "metadata": {
    "collapsed": false,
    "pycharm": {
     "name": "#%%\n",
     "is_executing": false
    }
   }
  },
  {
   "cell_type": "code",
   "execution_count": 464,
   "outputs": [
    {
     "name": "stdout",
     "text": [
      "Dimensions of DataFrame: (11446, 3)\n"
     ],
     "output_type": "stream"
    }
   ],
   "source": [
    "print(\"Dimensions of DataFrame: {}\".format(df.shape))\n"
   ],
   "metadata": {
    "collapsed": false,
    "pycharm": {
     "name": "#%%\n",
     "is_executing": false
    }
   }
  },
  {
   "cell_type": "markdown",
   "source": [
    "Scatter plots - Relationships between the numerical varibles."
   ],
   "metadata": {
    "collapsed": false,
    "pycharm": {
     "name": "#%% md\n"
    }
   }
  },
  {
   "cell_type": "code",
   "execution_count": 465,
   "outputs": [
    {
     "data": {
      "text/plain": "<Figure size 432x288 with 1 Axes>",
      "image/png": "[encoded data removed]"
     },
     "metadata": {
      "needs_background": "light"
     },
     "output_type": "display_data"
    }
   ],
   "source": [
    "plt.scatter( df['episodes'], df['rating'], marker='o');"
   ],
   "metadata": {
    "collapsed": false,
    "pycharm": {
     "name": "#%%\n",
     "is_executing": false
    }
   }
  },
  {
   "cell_type": "code",
   "execution_count": 466,
   "outputs": [
    {
     "data": {
      "text/plain": "<Figure size 432x288 with 1 Axes>",
      "image/png": "[encoded data removed]"
     },
     "metadata": {
      "needs_background": "light"
     },
     "output_type": "display_data"
    }
   ],
   "source": [
    "plt.scatter(df['members'], df['rating'],marker='o');"
   ],
   "metadata": {
    "collapsed": false,
    "pycharm": {
     "name": "#%%\n",
     "is_executing": false
    }
   }
  },
  {
   "cell_type": "code",
   "metadata": {
    "pycharm": {
     "name": "#%% \n",
     "is_executing": false
    }
   },
   "source": [
    "#ndf = df.pivot(\"episodes\", \"members\",\"rating\")\n",
    "#ax = sns.heatmap(ndf,annot=True)"
   ],
   "execution_count": 467,
   "outputs": []
  },
  {
   "cell_type": "markdown",
   "source": [
    "## BarPlot\n",
    "##%%\n",
    "#sns.barplot(x=\"genre\", y=\"rating\", data=df).set_title(\"Rating according to genre\");\n",
    "##%% md\n",
    "## PointPlot\n",
    "##%%\n",
    "#pp = sns.pointplot(x=\"genre\", y=\"rating\", data=df, palette = {\"male\":\"blue\", \"female\":\"orange\"}, markers=[\"x\",\"o\"], linestyles=[\"-\",\"--\"])\n",
    "#pp.set_title(\"Survived Rate of Passenger Class\")\n",
    "#pp.set_xlabel(\"Passenger Class\")\n",
    "#pp.set_ylabel(\"Survived Rate\");"
   ],
   "metadata": {
    "collapsed": false,
    "pycharm": {
     "name": "#%% md\n"
    }
   }
  },
  {
   "cell_type": "code",
   "execution_count": 468,
   "metadata": {
    "pycharm": {
     "is_executing": false,
     "name": "#%%\n"
    }
   },
   "outputs": [],
   "source": [
    "#np.random.seed(1234)\n",
    "#df = pd.DataFrame(np.random.randn(10,4),columns=['rating'])\n",
    "#boxplot = df.boxplot(column=['rating'])\n"
   ]
  },
  {
   "cell_type": "code",
   "execution_count": 469,
   "metadata": {
    "pycharm": {
     "is_executing": false,
     "name": "#%% \n"
    }
   },
   "outputs": [],
   "source": [
    "#cf.set_config_file(offline=False, world_readable=True, theme='ggplot')\n",
    "#df = pd.DataFrame(np.random.rand(10, 5), columns=['A', 'B', 'C', 'D', 'E'])\n",
    "#df.iplot(kind='box', filename='cufflinks/box-plots')\n"
   ]
  },
  {
   "cell_type": "markdown",
   "metadata": {},
   "source": [
    "# Separate a column into its values Features: genre , type\n"
   ]
  },
  {
   "cell_type": "code",
   "execution_count": 470,
   "metadata": {
    "pycharm": {
     "is_executing": false,
     "name": "#%%\n"
    }
   },
   "outputs": [],
   "source": [
    "#df = pd.DataFrame(df.genre.str.split(',').tolist(), index=[df.anime_id,df.type,df.episodes,df.rating,df.members]).stack()\n",
    "#df.head()\n",
    "#df = df.reset_index([0,'anime_id','type','episodes','rating','members'])\n",
    "#df.columns=['anime_id','type','episodes','rating','members','genre']\n",
    "#df.head()\n"
   ]
  },
  {
   "cell_type": "code",
   "execution_count": 471,
   "metadata": {
    "pycharm": {
     "is_executing": false,
     "name": "#%%\n"
    }
   },
   "outputs": [],
   "source": [
    "#df = pd.DataFrame(df.type.str.split(',').tolist(), \n",
    "          #           index=[df.anime_id,df.type,df.episodes,df.rating,df.members]).stack()\n",
    "#df.head()\n",
    "\n",
    "#df = df.reset_index([0,'anime_id','type','episodes','rating','members'])\n",
    "#df.columns=['anime_id','type','episodes','rating','members','genre']\n",
    "#df.head()\n",
    "\n",
    "\n"
   ]
  },
  {
   "cell_type": "markdown",
   "metadata": {},
   "source": [
    "# Hot Encoding\n"
   ]
  },
  {
   "cell_type": "markdown",
   "metadata": {},
   "source": [
    "# get_dummies"
   ]
  },
  {
   "cell_type": "code",
   "execution_count": 472,
   "metadata": {
    "pycharm": {
     "is_executing": false,
     "name": "#%% md \n"
    }
   },
   "outputs": [],
   "source": [
    "#### https://towardsdatascience.com/building-a-k-nearest-neighbors-k-nn-model-with-scikit-learn-51209555453a"
   ]
  },
  {
   "cell_type": "code",
   "execution_count": 473,
   "metadata": {
    "pycharm": {
     "is_executing": false,
     "name": "#%% md \n"
    }
   },
   "outputs": [],
   "source": [
    "### Split up the dataset into inputs (X) and target (y)\n",
    "\n",
    "#### Drop the Categorical features as well as the class label (rating)"
   ]
  },
  {
   "cell_type": "code",
   "execution_count": 474,
   "metadata": {
    "pycharm": {
     "is_executing": false,
     "name": "#%%\n"
    }
   },
   "outputs": [
    {
     "data": {
      "text/plain": "      episodes  rating  members  Class\n7142        12    5.69    19246      1\n7636         5    5.21      955      1\n2388        13    7.28     3038      1\n4936        78    6.59     1452      1\n5653        39    6.39     5541      1",
      "text/html": "<div>\n<style scoped>\n    .dataframe tbody tr th:only-of-type {\n        vertical-align: middle;\n    }\n\n    .dataframe tbody tr th {\n        vertical-align: top;\n    }\n\n    .dataframe thead th {\n        text-align: right;\n    }\n</style>\n<table border=\"1\" class=\"dataframe\">\n  <thead>\n    <tr style=\"text-align: right;\">\n      <th></th>\n      <th>episodes</th>\n      <th>rating</th>\n      <th>members</th>\n      <th>Class</th>\n    </tr>\n  </thead>\n  <tbody>\n    <tr>\n      <th>7142</th>\n      <td>12</td>\n      <td>5.69</td>\n      <td>19246</td>\n      <td>1</td>\n    </tr>\n    <tr>\n      <th>7636</th>\n      <td>5</td>\n      <td>5.21</td>\n      <td>955</td>\n      <td>1</td>\n    </tr>\n    <tr>\n      <th>2388</th>\n      <td>13</td>\n      <td>7.28</td>\n      <td>3038</td>\n      <td>1</td>\n    </tr>\n    <tr>\n      <th>4936</th>\n      <td>78</td>\n      <td>6.59</td>\n      <td>1452</td>\n      <td>1</td>\n    </tr>\n    <tr>\n      <th>5653</th>\n      <td>39</td>\n      <td>6.39</td>\n      <td>5541</td>\n      <td>1</td>\n    </tr>\n  </tbody>\n</table>\n</div>"
     },
     "metadata": {},
     "output_type": "execute_result",
     "execution_count": 474
    }
   ],
   "source": [
    "# Add a new column rating class \n",
    "df['Class']=1 #df['rating']\n",
    "df.sample(5)"
   ]
  },
  {
   "cell_type": "code",
   "execution_count": 475,
   "metadata": {
    "pycharm": {
     "is_executing": false,
     "name": "#%%\n"
    }
   },
   "outputs": [],
   "source": [
    "# 1: High\n",
    "# or 0: Low based on rating\n",
    "df.loc[df['rating'] >= df['rating'].mean(), 'Class'] = 1\n",
    "df.loc[df['rating'] < df['rating'].mean(), 'Class'] = 0"
   ]
  },
  {
   "cell_type": "code",
   "execution_count": 476,
   "metadata": {
    "pycharm": {
     "is_executing": false,
     "name": "#%%\n"
    }
   },
   "outputs": [
    {
     "data": {
      "text/plain": "       episodes  rating  members  Class\n7320          2    5.56     2021      0\n3775         12    6.89    14465      1\n6379          1    6.14       82      0\n11738         1    6.18     1394      0\n4863          2    6.62     2667      1",
      "text/html": "<div>\n<style scoped>\n    .dataframe tbody tr th:only-of-type {\n        vertical-align: middle;\n    }\n\n    .dataframe tbody tr th {\n        vertical-align: top;\n    }\n\n    .dataframe thead th {\n        text-align: right;\n    }\n</style>\n<table border=\"1\" class=\"dataframe\">\n  <thead>\n    <tr style=\"text-align: right;\">\n      <th></th>\n      <th>episodes</th>\n      <th>rating</th>\n      <th>members</th>\n      <th>Class</th>\n    </tr>\n  </thead>\n  <tbody>\n    <tr>\n      <th>7320</th>\n      <td>2</td>\n      <td>5.56</td>\n      <td>2021</td>\n      <td>0</td>\n    </tr>\n    <tr>\n      <th>3775</th>\n      <td>12</td>\n      <td>6.89</td>\n      <td>14465</td>\n      <td>1</td>\n    </tr>\n    <tr>\n      <th>6379</th>\n      <td>1</td>\n      <td>6.14</td>\n      <td>82</td>\n      <td>0</td>\n    </tr>\n    <tr>\n      <th>11738</th>\n      <td>1</td>\n      <td>6.18</td>\n      <td>1394</td>\n      <td>0</td>\n    </tr>\n    <tr>\n      <th>4863</th>\n      <td>2</td>\n      <td>6.62</td>\n      <td>2667</td>\n      <td>1</td>\n    </tr>\n  </tbody>\n</table>\n</div>"
     },
     "metadata": {},
     "output_type": "execute_result",
     "execution_count": 476
    }
   ],
   "source": [
    "df.sample(5)"
   ]
  },
  {
   "cell_type": "code",
   "execution_count": 477,
   "metadata": {
    "pycharm": {
     "is_executing": false,
     "name": "#%%\n"
    }
   },
   "outputs": [
    {
     "name": "stdout",
     "text": [
      "episodes      int64\nrating      float64\nmembers       int64\nClass         int64\ndtype: object\n"
     ],
     "output_type": "stream"
    }
   ],
   "source": [
    "print(df.dtypes)"
   ]
  },
  {
   "cell_type": "code",
   "execution_count": 478,
   "metadata": {
    "pycharm": {
     "is_executing": false,
     "name": "#%% \n"
    }
   },
   "outputs": [],
   "source": [
    "#X = df.drop(columns=['anime_id','name','genre','type','rating','Class'])\n",
    "X = df.drop(columns=['rating','Class'])"
   ]
  },
  {
   "cell_type": "code",
   "execution_count": 479,
   "metadata": {
    "pycharm": {
     "is_executing": false,
     "name": "#%%\n"
    }
   },
   "outputs": [
    {
     "data": {
      "text/plain": "   episodes  members\n2        51   114262\n4        51   151266\n5        10    93351\n7       110    80679\n8         1    72534",
      "text/html": "<div>\n<style scoped>\n    .dataframe tbody tr th:only-of-type {\n        vertical-align: middle;\n    }\n\n    .dataframe tbody tr th {\n        vertical-align: top;\n    }\n\n    .dataframe thead th {\n        text-align: right;\n    }\n</style>\n<table border=\"1\" class=\"dataframe\">\n  <thead>\n    <tr style=\"text-align: right;\">\n      <th></th>\n      <th>episodes</th>\n      <th>members</th>\n    </tr>\n  </thead>\n  <tbody>\n    <tr>\n      <th>2</th>\n      <td>51</td>\n      <td>114262</td>\n    </tr>\n    <tr>\n      <th>4</th>\n      <td>51</td>\n      <td>151266</td>\n    </tr>\n    <tr>\n      <th>5</th>\n      <td>10</td>\n      <td>93351</td>\n    </tr>\n    <tr>\n      <th>7</th>\n      <td>110</td>\n      <td>80679</td>\n    </tr>\n    <tr>\n      <th>8</th>\n      <td>1</td>\n      <td>72534</td>\n    </tr>\n  </tbody>\n</table>\n</div>"
     },
     "metadata": {},
     "output_type": "execute_result",
     "execution_count": 479
    }
   ],
   "source": [
    "X.head()"
   ]
  },
  {
   "cell_type": "code",
   "execution_count": 480,
   "metadata": {
    "pycharm": {
     "is_executing": false,
     "name": "#%%\n"
    }
   },
   "outputs": [
    {
     "data": {
      "text/plain": "   episodes   members\n2  0.328947  0.619187\n4  0.328947  0.819742\n5  0.059211  0.505853\n7  0.717105  0.437173\n8  0.000000  0.393029",
      "text/html": "<div>\n<style scoped>\n    .dataframe tbody tr th:only-of-type {\n        vertical-align: middle;\n    }\n\n    .dataframe tbody tr th {\n        vertical-align: top;\n    }\n\n    .dataframe thead th {\n        text-align: right;\n    }\n</style>\n<table border=\"1\" class=\"dataframe\">\n  <thead>\n    <tr style=\"text-align: right;\">\n      <th></th>\n      <th>episodes</th>\n      <th>members</th>\n    </tr>\n  </thead>\n  <tbody>\n    <tr>\n      <th>2</th>\n      <td>0.328947</td>\n      <td>0.619187</td>\n    </tr>\n    <tr>\n      <th>4</th>\n      <td>0.328947</td>\n      <td>0.819742</td>\n    </tr>\n    <tr>\n      <th>5</th>\n      <td>0.059211</td>\n      <td>0.505853</td>\n    </tr>\n    <tr>\n      <th>7</th>\n      <td>0.717105</td>\n      <td>0.437173</td>\n    </tr>\n    <tr>\n      <th>8</th>\n      <td>0.000000</td>\n      <td>0.393029</td>\n    </tr>\n  </tbody>\n</table>\n</div>"
     },
     "metadata": {},
     "output_type": "execute_result",
     "execution_count": 480
    }
   ],
   "source": [
    "#Normalization\n",
    "#from sklearn import preprocessing\n",
    "\n",
    "#x = df.values #returns a numpy array\n",
    "#min_max_scaler = preprocessing.MinMaxScaler()\n",
    "#x_scaled = min_max_scaler.fit_transform(x)\n",
    "#df = pandas.DataFrame(x_scaled)\n",
    "\n",
    "#https://stackoverflow.com/questions/26414913/normalize-columns-of-pandas-data-frame\n",
    "#X=(X-X.mean())/X.std()\n",
    "X=(X-X.min())/(X.max()-X.min())\n",
    "X.head()"
   ]
  },
  {
   "cell_type": "code",
   "execution_count": 481,
   "metadata": {
    "pycharm": {
     "is_executing": false,
     "name": "#%%\n"
    }
   },
   "outputs": [],
   "source": [
    "# Separate the target values\n",
    "y = df['Class']"
   ]
  },
  {
   "cell_type": "code",
   "execution_count": 482,
   "metadata": {
    "pycharm": {
     "is_executing": false,
     "name": "#%%\n"
    }
   },
   "outputs": [
    {
     "data": {
      "text/plain": "<matplotlib.axes._subplots.AxesSubplot at 0x7fda9e718eb8>"
     },
     "metadata": {},
     "output_type": "execute_result",
     "execution_count": 482
    },
    {
     "data": {
      "text/plain": "<Figure size 648x504 with 1 Axes>",
      "image/png": "[encoded data removed]"
     },
     "metadata": {
      "needs_background": "light"
     },
     "output_type": "display_data"
    }
   ],
   "source": [
    "df['Class'].hist(bins=3,figsize=(9,7),grid=False)"
   ]
  },
  {
   "cell_type": "code",
   "execution_count": 483,
   "metadata": {
    "pycharm": {
     "is_executing": false,
     "name": "#%%\n"
    }
   },
   "outputs": [
    {
     "data": {
      "text/plain": "3071     1\n7709     0\n8531     0\n11797    0\n11255    1\nName: Class, dtype: int64"
     },
     "metadata": {},
     "output_type": "execute_result",
     "execution_count": 483
    }
   ],
   "source": [
    "# view target values\n",
    "y.sample(5)"
   ]
  },
  {
   "cell_type": "code",
   "execution_count": 484,
   "metadata": {
    "pycharm": {
     "is_executing": false,
     "name": "#%%\n"
    }
   },
   "outputs": [
    {
     "data": {
      "text/plain": "count    11446.000000\nmean         0.540538\nstd          0.498376\nmin          0.000000\n25%          0.000000\n50%          1.000000\n75%          1.000000\nmax          1.000000\nName: Class, dtype: float64"
     },
     "metadata": {},
     "output_type": "execute_result",
     "execution_count": 484
    }
   ],
   "source": [
    "y.describe()"
   ]
  },
  {
   "cell_type": "markdown",
   "metadata": {
    "pycharm": {
     "name": "#%% md\n"
    }
   },
   "source": [
    "Split the dataset into train and test data"
   ]
  },
  {
   "cell_type": "code",
   "execution_count": 485,
   "metadata": {
    "pycharm": {
     "is_executing": false,
     "name": "#%%\n"
    }
   },
   "outputs": [],
   "source": [
    "from sklearn.model_selection import train_test_split"
   ]
  },
  {
   "cell_type": "code",
   "execution_count": 486,
   "metadata": {
    "pycharm": {
     "is_executing": false,
     "name": "#%%\n"
    }
   },
   "outputs": [],
   "source": [
    "#split dataset into train and test data\n",
    "X_train, X_test, y_train, y_test = train_test_split(X, y, test_size=0.2, random_state=1, stratify=y)"
   ]
  },
  {
   "cell_type": "markdown",
   "metadata": {
    "pycharm": {
     "name": "#%% md\n"
    }
   },
   "source": [
    "Building and training the model"
   ]
  },
  {
   "cell_type": "code",
   "execution_count": 487,
   "metadata": {
    "pycharm": {
     "is_executing": false,
     "name": "#%%\n"
    }
   },
   "outputs": [],
   "source": [
    "from sklearn.neighbors import KNeighborsClassifier# Create KNN classifier"
   ]
  },
  {
   "cell_type": "code",
   "execution_count": 488,
   "metadata": {
    "pycharm": {
     "is_executing": false,
     "name": "#%%\n"
    }
   },
   "outputs": [
    {
     "data": {
      "text/plain": "KNeighborsClassifier(algorithm='auto', leaf_size=30, metric='minkowski',\n                     metric_params=None, n_jobs=None, n_neighbors=3, p=2,\n                     weights='uniform')"
     },
     "metadata": {},
     "output_type": "execute_result",
     "execution_count": 488
    }
   ],
   "source": [
    "knn = KNeighborsClassifier(n_neighbors = 3)# Fit the classifier to the data\n",
    "knn.fit(X_train,y_train)"
   ]
  },
  {
   "cell_type": "markdown",
   "metadata": {
    "pycharm": {
     "name": "#%% md\n"
    }
   },
   "source": [
    "Testing the model"
   ]
  },
  {
   "cell_type": "code",
   "execution_count": 489,
   "metadata": {
    "pycharm": {
     "is_executing": false,
     "name": "#%%\n"
    }
   },
   "outputs": [
    {
     "data": {
      "text/plain": "array([1, 1, 0, 0, 1])"
     },
     "metadata": {},
     "output_type": "execute_result",
     "execution_count": 489
    }
   ],
   "source": [
    "#show first 5 model predictions on the test data\n",
    "knn.predict(X_test)[0:5]"
   ]
  },
  {
   "cell_type": "code",
   "execution_count": 490,
   "metadata": {
    "pycharm": {
     "is_executing": false,
     "name": "#%%\n"
    }
   },
   "outputs": [
    {
     "data": {
      "text/plain": "0.7410480349344978"
     },
     "metadata": {},
     "output_type": "execute_result",
     "execution_count": 490
    }
   ],
   "source": [
    "#check accuracy of our model on the test data\n",
    "knn.score(X_test, y_test)"
   ]
  },
  {
   "cell_type": "markdown",
   "metadata": {
    "pycharm": {
     "name": "#%% md\n"
    }
   },
   "source": [
    "k-Fold Cross-Validation"
   ]
  },
  {
   "cell_type": "code",
   "execution_count": 491,
   "metadata": {
    "pycharm": {
     "is_executing": false,
     "name": "#%%\n"
    }
   },
   "outputs": [],
   "source": [
    "from sklearn.model_selection import cross_val_score\n",
    "import numpy as np#create a new KNN model"
   ]
  },
  {
   "cell_type": "code",
   "execution_count": 492,
   "metadata": {
    "pycharm": {
     "is_executing": false,
     "name": "#%%\n"
    }
   },
   "outputs": [],
   "source": [
    "knn_cv = KNeighborsClassifier(n_neighbors=3)#train model with cv of 5 "
   ]
  },
  {
   "cell_type": "code",
   "execution_count": 493,
   "metadata": {
    "pycharm": {
     "is_executing": false,
     "name": "#%%\n"
    }
   },
   "outputs": [
    {
     "name": "stdout",
     "text": [
      "[0.72358079 0.77816594 0.76059415 0.6286588  0.52272727]\ncv_scores mean:0.6827453893008159\n"
     ],
     "output_type": "stream"
    }
   ],
   "source": [
    "cv_scores = cross_val_score(knn_cv, X, y, cv=5)#print each cv score (accuracy) and average them\n",
    "print(cv_scores)\n",
    "print('cv_scores mean:{}'.format(np.mean(cv_scores)))"
   ]
  },
  {
   "cell_type": "markdown",
   "metadata": {
    "pycharm": {
     "name": "#%% md\n"
    }
   },
   "source": [
    "Hypertuning model parameters using GridSearchCV"
   ]
  },
  {
   "cell_type": "code",
   "execution_count": 494,
   "metadata": {
    "pycharm": {
     "is_executing": false,
     "name": "#%%\n"
    }
   },
   "outputs": [],
   "source": [
    "from sklearn.model_selection import GridSearchCV"
   ]
  },
  {
   "cell_type": "code",
   "execution_count": 495,
   "metadata": {
    "pycharm": {
     "is_executing": false,
     "name": "#%%\n"
    }
   },
   "outputs": [],
   "source": [
    "#create new a knn model\n",
    "knn2 = KNeighborsClassifier()"
   ]
  },
  {
   "cell_type": "code",
   "execution_count": 496,
   "metadata": {
    "pycharm": {
     "is_executing": false,
     "name": "#%%\n"
    }
   },
   "outputs": [],
   "source": [
    "#create a dictionary of all values we want to test for n_neighbors\n",
    "param_grid = {'n_neighbors': np.arange(1, 25)}"
   ]
  },
  {
   "cell_type": "code",
   "execution_count": 497,
   "metadata": {
    "pycharm": {
     "is_executing": false,
     "name": "#%%\n"
    }
   },
   "outputs": [],
   "source": [
    "#use gridsearch to test all values for n_neighbors\n",
    "knn_gscv = GridSearchCV(knn2, param_grid, cv=5)"
   ]
  },
  {
   "cell_type": "code",
   "execution_count": 498,
   "metadata": {
    "pycharm": {
     "is_executing": false,
     "name": "#%%\n"
    }
   },
   "outputs": [
    {
     "data": {
      "text/plain": "GridSearchCV(cv=5, error_score='raise-deprecating',\n             estimator=KNeighborsClassifier(algorithm='auto', leaf_size=30,\n                                            metric='minkowski',\n                                            metric_params=None, n_jobs=None,\n                                            n_neighbors=5, p=2,\n                                            weights='uniform'),\n             iid='warn', n_jobs=None,\n             param_grid={'n_neighbors': array([ 1,  2,  3,  4,  5,  6,  7,  8,  9, 10, 11, 12, 13, 14, 15, 16, 17,\n       18, 19, 20, 21, 22, 23, 24])},\n             pre_dispatch='2*n_jobs', refit=True, return_train_score=False,\n             scoring=None, verbose=0)"
     },
     "metadata": {},
     "output_type": "execute_result",
     "execution_count": 498
    }
   ],
   "source": [
    "#fit model to data\n",
    "knn_gscv.fit(X, y)"
   ]
  },
  {
   "cell_type": "code",
   "execution_count": 499,
   "metadata": {
    "pycharm": {
     "is_executing": false,
     "name": "#%%\n"
    }
   },
   "outputs": [
    {
     "data": {
      "text/plain": "{'n_neighbors': 24}"
     },
     "metadata": {},
     "output_type": "execute_result",
     "execution_count": 499
    }
   ],
   "source": [
    "#check top performing n_neighbors value\n",
    "knn_gscv.best_params_"
   ]
  },
  {
   "cell_type": "code",
   "execution_count": 500,
   "metadata": {
    "pycharm": {
     "is_executing": false,
     "name": "#%%\n"
    }
   },
   "outputs": [
    {
     "data": {
      "text/plain": "0.7292503931504456"
     },
     "metadata": {},
     "output_type": "execute_result",
     "execution_count": 500
    }
   ],
   "source": [
    "#check mean score for the top performing value of n_neighbors\n",
    "knn_gscv.best_score_\n"
   ]
  },
  {
   "cell_type": "markdown",
   "source": [
    "Confussion Matrix"
   ],
   "metadata": {
    "collapsed": false,
    "pycharm": {
     "name": "#%% md\n"
    }
   }
  },
  {
   "cell_type": "code",
   "execution_count": 501,
   "outputs": [
    {
     "data": {
      "text/plain": "Predicted     0     1   All\nTrue                       \n0           769   283  1052\n1           310   928  1238\nAll        1079  1211  2290",
      "text/html": "<div>\n<style scoped>\n    .dataframe tbody tr th:only-of-type {\n        vertical-align: middle;\n    }\n\n    .dataframe tbody tr th {\n        vertical-align: top;\n    }\n\n    .dataframe thead th {\n        text-align: right;\n    }\n</style>\n<table border=\"1\" class=\"dataframe\">\n  <thead>\n    <tr style=\"text-align: right;\">\n      <th>Predicted</th>\n      <th>0</th>\n      <th>1</th>\n      <th>All</th>\n    </tr>\n    <tr>\n      <th>True</th>\n      <th></th>\n      <th></th>\n      <th></th>\n    </tr>\n  </thead>\n  <tbody>\n    <tr>\n      <th>0</th>\n      <td>769</td>\n      <td>283</td>\n      <td>1052</td>\n    </tr>\n    <tr>\n      <th>1</th>\n      <td>310</td>\n      <td>928</td>\n      <td>1238</td>\n    </tr>\n    <tr>\n      <th>All</th>\n      <td>1079</td>\n      <td>1211</td>\n      <td>2290</td>\n    </tr>\n  </tbody>\n</table>\n</div>"
     },
     "metadata": {},
     "output_type": "execute_result",
     "execution_count": 501
    }
   ],
   "source": [
    "#https://www.kaggle.com/amolbhivarkar/knn-for-classification-using-scikit-learn\n",
    "\n",
    "#import confusion_matrix\n",
    "from sklearn.metrics import confusion_matrix\n",
    "#let us get the predictions using the classifier we had fit above\n",
    "y_pred = knn.predict(X_test)\n",
    "pd.crosstab(y_test, y_pred, rownames=['True'], colnames=['Predicted'], margins=True)"
   ],
   "metadata": {
    "collapsed": false,
    "pycharm": {
     "name": "#%%\n",
     "is_executing": false
    }
   }
  },
  {
   "cell_type": "markdown",
   "source": [
    "Classification report"
   ],
   "metadata": {
    "collapsed": false,
    "pycharm": {
     "name": "#%% md\n"
    }
   }
  },
  {
   "cell_type": "code",
   "execution_count": 502,
   "outputs": [
    {
     "name": "stdout",
     "text": [
      "              precision    recall  f1-score   support\n\n           0       0.71      0.73      0.72      1052\n           1       0.77      0.75      0.76      1238\n\n    accuracy                           0.74      2290\n   macro avg       0.74      0.74      0.74      2290\nweighted avg       0.74      0.74      0.74      2290\n\n"
     ],
     "output_type": "stream"
    }
   ],
   "source": [
    "#import classification_report\n",
    "from sklearn.metrics import classification_report\n",
    "print(classification_report(y_test,y_pred))\n"
   ],
   "metadata": {
    "collapsed": false,
    "pycharm": {
     "name": "#%%\n",
     "is_executing": false
    }
   }
  },
  {
   "cell_type": "markdown",
   "source": [
    "https://www.kaggle.com/amolbhivarkar/knn-for-classification-using-scikit-learn\n",
    "ROC (Receiver Operating Characteristic) curve"
   ],
   "metadata": {
    "collapsed": false,
    "pycharm": {
     "name": "#%% md\n"
    }
   }
  },
  {
   "cell_type": "code",
   "execution_count": 503,
   "outputs": [
    {
     "data": {
      "text/plain": "<Figure size 432x288 with 1 Axes>",
      "image/png": "[encoded data removed]"
     },
     "metadata": {
      "needs_background": "light"
     },
     "output_type": "display_data"
    }
   ],
   "source": [
    "y_pred_proba = knn.predict_proba(X_test)[:,1]\n",
    "from sklearn.metrics import roc_curve\n",
    "fpr, tpr, thresholds = roc_curve(y_test, y_pred_proba)\n",
    "plt.plot([0,1],[0,1],'r--')\n",
    "plt.plot(fpr,tpr, label='Knn')\n",
    "plt.xlabel('fpr')\n",
    "plt.ylabel('tpr')\n",
    "plt.title('Knn(n_neighbors=24) ROC curve')\n",
    "plt.show()"
   ],
   "metadata": {
    "collapsed": false,
    "pycharm": {
     "name": "#%%\n",
     "is_executing": false
    }
   }
  },
  {
   "cell_type": "code",
   "execution_count": 504,
   "outputs": [
    {
     "data": {
      "text/plain": "0.7846643365663987"
     },
     "metadata": {},
     "output_type": "execute_result",
     "execution_count": 504
    }
   ],
   "source": [
    "#Area under ROC curve\n",
    "from sklearn.metrics import roc_auc_score\n",
    "roc_auc_score(y_test,y_pred_proba)"
   ],
   "metadata": {
    "collapsed": false,
    "pycharm": {
     "name": "#%%\n",
     "is_executing": false
    }
   }
  },
  {
   "cell_type": "code",
   "execution_count": 505,
   "outputs": [],
   "source": [
    "#import KNeighborsClassifier\n",
    "from sklearn.neighbors import KNeighborsClassifier\n",
    "\n",
    "#Setup arrays to store training and test accuracies\n",
    "neighbors = np.arange(1,30)\n",
    "train_accuracy =np.empty(len(neighbors))\n",
    "test_accuracy = np.empty(len(neighbors))\n",
    "\n",
    "for i,k in enumerate(neighbors):\n",
    "    #Setup a knn classifier with k neighbors\n",
    "    knn = KNeighborsClassifier(n_neighbors=k)\n",
    "    \n",
    "    #Fit the model\n",
    "    knn.fit(X_train, y_train)\n",
    "    \n",
    "    #Compute accuracy on the training set\n",
    "    train_accuracy[i] = knn.score(X_train, y_train)\n",
    "    \n",
    "    #Compute accuracy on the test set\n",
    "    test_accuracy[i] = knn.score(X_test, y_test) "
   ],
   "metadata": {
    "collapsed": false,
    "pycharm": {
     "name": "#%%\n",
     "is_executing": false
    }
   }
  },
  {
   "cell_type": "code",
   "execution_count": 506,
   "outputs": [
    {
     "data": {
      "text/plain": "<Figure size 432x288 with 1 Axes>",
      "image/png": "[encoded data removed]"
     },
     "metadata": {
      "needs_background": "light"
     },
     "output_type": "display_data"
    }
   ],
   "source": [
    "#Generate plot\n",
    "plt.title('k-NN Varying number of neighbors/Complexity Curve/Validation Curve')\n",
    "plt.plot(neighbors, test_accuracy, label='Testing Accuracy/Cross-validation score')\n",
    "plt.plot(neighbors, train_accuracy, label='Training accuracy/Training score')\n",
    "plt.legend()\n",
    "plt.xlabel('Number of neighbors')\n",
    "plt.ylabel('Accuracy')\n",
    "plt.show()"
   ],
   "metadata": {
    "collapsed": false,
    "pycharm": {
     "name": "#%%\n",
     "is_executing": false
    }
   }
  },
  {
   "cell_type": "markdown",
   "source": [
    "Learning Curve"
   ],
   "metadata": {
    "collapsed": false,
    "pycharm": {
     "name": "#%% md\n"
    }
   }
  },
  {
   "cell_type": "code",
   "execution_count": null,
   "outputs": [],
   "source": [
    "#https://chrisalbon.com/machine_learning/model_evaluation/plot_the_learning_curve/\n",
    "# Create CV training and test scores for various training set sizes\n",
    "from sklearn.model_selection import learning_curve\n",
    "train_sizes, train_scores, test_scores = learning_curve(KNeighborsClassifier(), \n",
    "                                                        X, \n",
    "                                                        y,\n",
    "                                                        # Number of folds in cross-validation\n",
    "                                                        cv=10,\n",
    "                                                        # Evaluation metric\n",
    "                                                        scoring='accuracy',\n",
    "                                                        # Use all computer cores\n",
    "                                                        n_jobs=-1, \n",
    "                                                        # 50 different sizes of the training set\n",
    "                                                        train_sizes=np.linspace(0.01, 1.0, 50))\n",
    "\n",
    "# Create means and standard deviations of training set scores\n",
    "train_mean = np.mean(train_scores, axis=1)\n",
    "train_std = np.std(train_scores, axis=1)\n",
    "\n",
    "# Create means and standard deviations of test set scores\n",
    "test_mean = np.mean(test_scores, axis=1)\n",
    "test_std = np.std(test_scores, axis=1)\n",
    "\n",
    "# Draw lines\n",
    "plt.plot(train_sizes, train_mean, '--', color=\"#111111\",  label=\"Training score\")\n",
    "plt.plot(train_sizes, test_mean, color=\"#111111\", label=\"Cross-validation score\")\n",
    "\n",
    "# Draw bands\n",
    "plt.fill_between(train_sizes, train_mean - train_std, train_mean + train_std, color=\"#DDDDDD\")\n",
    "plt.fill_between(train_sizes, test_mean - test_std, test_mean + test_std, color=\"#DDDDDD\")\n",
    "\n",
    "# Create plot\n",
    "plt.title(\"Learning Curve\")\n",
    "plt.xlabel(\"Training Set Size\"), plt.ylabel(\"Accuracy Score\"), plt.legend(loc=\"best\")\n",
    "plt.tight_layout()\n",
    "plt.show()"
   ],
   "metadata": {
    "collapsed": false,
    "pycharm": {
     "name": "#%%\n",
     "is_executing": true
    }
   }
  },
  {
   "cell_type": "markdown",
   "source": [
    "Complexity Curve/Validation Curve"
   ],
   "metadata": {
    "collapsed": false
   }
  },
  {
   "cell_type": "code",
   "execution_count": null,
   "outputs": [],
   "source": [
    "from sklearn.model_selection import validation_curve\n",
    "from sklearn.linear_model import Ridge\n",
    "np.random.seed(0)\n",
    "\n",
    "#indices = np.arange(y.shape[0])\n",
    "#np.random.shuffle(indices)\n",
    "#X, y = X[indices], y[indices]\n",
    "\n",
    "train_scores, test_scores = validation_curve(Ridge(), X, y, \"alpha\",\n",
    "                                               np.logspace(-7, 3, 3),\n",
    "                                               cv=5)"
   ],
   "metadata": {
    "collapsed": false,
    "pycharm": {
     "name": "#%%\n",
     "is_executing": true
    }
   }
  },
  {
   "cell_type": "code",
   "execution_count": null,
   "outputs": [],
   "source": [
    "train_scores"
   ],
   "metadata": {
    "collapsed": false,
    "pycharm": {
     "name": "#%%\n",
     "is_executing": true
    }
   }
  },
  {
   "cell_type": "code",
   "execution_count": null,
   "outputs": [],
   "source": [
    "test_scores"
   ],
   "metadata": {
    "collapsed": false,
    "pycharm": {
     "name": "#%%\n",
     "is_executing": true
    }
   }
  },
  {
   "cell_type": "code",
   "execution_count": null,
   "outputs": [],
   "source": [
    "param_range = np.arange(1, 41, 2)"
   ],
   "metadata": {
    "collapsed": false,
    "pycharm": {
     "name": "#%%\n",
     "is_executing": true
    }
   }
  },
  {
   "cell_type": "code",
   "execution_count": null,
   "outputs": [],
   "source": [
    "train_scores_mean = np.mean(train_scores, axis=1)\n",
    "train_scores_std = np.std(train_scores, axis=1)\n",
    "test_scores_mean = np.mean(test_scores, axis=1)\n",
    "test_scores_std = np.std(test_scores, axis=1)"
   ],
   "metadata": {
    "collapsed": false,
    "pycharm": {
     "name": "#%%\n",
     "is_executing": true
    }
   }
  },
  {
   "cell_type": "code",
   "execution_count": null,
   "outputs": [],
   "source": [
    "plt.figure(figsize=(10,10))\n",
    "plt.title(\"Validation Curve with kNN\")\n",
    "plt.xlabel(\"max_depth\")\n",
    "plt.ylabel(\"Score\")\n",
    "plt.ylim(0.0, 1.1)"
   ],
   "metadata": {
    "collapsed": false,
    "pycharm": {
     "name": "#%%\n",
     "is_executing": true
    }
   }
  },
  {
   "cell_type": "code",
   "execution_count": null,
   "outputs": [],
   "source": [
    "#plt.fill_between(param_range, train_scores_mean - train_scores_std, train_scores_mean + train_scores_std, alpha=0.2, color=\"r\")\n",
    "plt.plot(param_range, train_scores_mean, label=\"Training score\",\n",
    "             color=\"r\")\n",
    "#plt.fill_between(param_range, test_scores_mean - test_scores_std, test_scores_mean + test_scores_std, alpha=0.2, color=\"g\")\n",
    "plt.plot(param_range, test_scores_mean, label=\"Cross-validation score\",\n",
    "             color=\"g\")"
   ],
   "metadata": {
    "collapsed": false,
    "pycharm": {
     "name": "#%%\n",
     "is_executing": true
    }
   }
  },
  {
   "cell_type": "code",
   "execution_count": null,
   "outputs": [],
   "source": [
    "plt.legend(loc=\"best\")\n",
    "plt.xticks(param_range)\n",
    "plt.savefig('DSSE.jpg')\n",
    "plt.show()"
   ],
   "metadata": {
    "collapsed": false,
    "pycharm": {
     "name": "#%%\n",
     "is_executing": true
    }
   }
  },
  {
   "cell_type": "code",
   "execution_count": null,
   "outputs": [],
   "source": [
    "# plot misclassification error vs k\n",
    "#plt.plot(neighbors, MSE)\n",
    "#plt.xlabel('Number of Neighbors K')\n",
    "#plt.ylabel('Misclassification Error')\n",
    "#plt.show()\n",
    "\n",
    "#from sklearn.neighbors import KNeighborsClassifier\n",
    "#from yellowbrick.model_selection import ValidationCurve\n",
    "#from sklearn.model_selection import StratifiedKFold\n",
    "\n",
    "#cv = StratifiedKFold(4)\n",
    "#param_range = np.arange(3, 20, 2)\n",
    "\n",
    "#oz = ValidationCurve(\n",
    "#    KNeighborsClassifier(), param_name=\"n_neighbors\",\n",
    "#    param_range=param_range, cv=cv, scoring=\"f1_weighted\", n_jobs=4,\n",
    "#)\n",
    "\n",
    "# Using the same game dataset as in the SVC example\n",
    "#oz.fit(X, y)\n",
    "#oz.poof()"
   ],
   "metadata": {
    "collapsed": false,
    "pycharm": {
     "name": "#%%\n",
     "is_executing": true
    }
   }
  }
 ],
 "metadata": {
  "kernelspec": {
   "display_name": "Python 3",
   "language": "python",
   "name": "python3"
  },
  "language_info": {
   "codemirror_mode": {
    "name": "ipython",
    "version": 3
   },
   "file_extension": ".py",
   "mimetype": "text/x-python",
   "name": "python",
   "nbconvert_exporter": "python",
   "pygments_lexer": "ipython3",
   "version": "3.7.3"
  },
  "pycharm": {
   "stem_cell": {
    "cell_type": "raw",
    "source": [],
    "metadata": {
     "collapsed": false
    }
   }
  }
 },
 "nbformat": 4,
 "nbformat_minor": 1
}