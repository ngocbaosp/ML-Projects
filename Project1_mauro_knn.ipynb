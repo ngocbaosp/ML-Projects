{
  "nbformat": 4,
  "nbformat_minor": 0,
  "metadata": {
    "kernelspec": {
      "name": "python3",
      "display_name": "Python 3"
    },
    "language_info": {
      "codemirror_mode": {
        "name": "ipython",
        "version": 3
      },
      "file_extension": ".py",
      "mimetype": "text/x-python",
      "name": "python",
      "nbconvert_exporter": "python",
      "pygments_lexer": "ipython3",
      "version": "3.7.3"
    },
    "pycharm": {
      "stem_cell": {
        "cell_type": "raw",
        "source": [],
        "metadata": {
          "collapsed": false
        }
      }
    },
    "colab": {
      "name": "Project1-mauro-knn.ipynb",
      "version": "0.3.2",
      "provenance": [],
      "collapsed_sections": [
        "gLH72SWmloNl"
      ],
      "toc_visible": true,
      "include_colab_link": true
    },
    "accelerator": "TPU"
  },
  "cells": [
    {
      "cell_type": "markdown",
      "metadata": {
        "id": "view-in-github",
        "colab_type": "text"
      },
      "source": [
        "<a href=\"https://colab.research.google.com/github/ngocbaosp/ML-Projects/blob/master/Project1_mauro_knn.ipynb\" target=\"_parent\"><img src=\"https://colab.research.google.com/assets/colab-badge.svg\" alt=\"Open In Colab\"/></a>"
      ]
    },
    {
      "cell_type": "markdown",
      "metadata": {
        "id": "j6Op6hGPloMR",
        "colab_type": "text"
      },
      "source": [
        "# Project 1 - kNN\n"
      ]
    },
    {
      "cell_type": "markdown",
      "metadata": {
        "id": "ljzw-Q_zloMW",
        "colab_type": "text"
      },
      "source": [
        "## Exploratory Data Analysis\n"
      ]
    },
    {
      "cell_type": "markdown",
      "metadata": {
        "id": "bJpTu4p_loMY",
        "colab_type": "text"
      },
      "source": [
        "\n",
        "##### Dataset reference: https://www.kaggle.com/CooperUnion/anime-recommendations-database?fbclid=IwAR3sXr48_xQHp8NgF9AyXuVf0RGwTkFw8bfkRoXda6zix9rQsevpya8JDOM#rating.csv\n"
      ]
    },
    {
      "cell_type": "markdown",
      "metadata": {
        "id": "aFmA7EF4loMb",
        "colab_type": "text"
      },
      "source": [
        "### Context\n",
        "This data set contains information on user preference data from 73,516 users on 12,294 anime. Each user is able to add anime to their completed list and give it a rating and this data set is a compilation of those ratings.\n"
      ]
    },
    {
      "cell_type": "markdown",
      "metadata": {
        "id": "kcTUL-i0loMg",
        "colab_type": "text"
      },
      "source": [
        "### Content\n",
        "\n",
        "#### Anime.csv\n",
        "\n",
        "**anime_id** - myanimelist.net's unique id identifying an anime.\n",
        "\n",
        "**name** - full name of anime.\n",
        "\n",
        "**genre** - comma separated list of genres for this anime.\n",
        "\n",
        "**type** - movie, TV, OVA, etc.\n",
        "\n",
        "**episodes** - how many episodes in this show. (1 if movie).\n",
        "\n",
        "**rating** - average rating out of 10 for this anime.\n",
        "\n",
        "**members** - number of community members that are in this anime's \"group\".\n",
        "\n",
        "#### Rating.csv\n",
        "\n",
        "**user_id** - non identifiable randomly generated user id.\n",
        "\n",
        "**anime_id** - the anime that this user has rated.\n",
        "\n",
        "**rating** - rating out of 10 this user has assigned (-1 if the user watched it but didn't assign a rating).\n",
        "\n"
      ]
    },
    {
      "cell_type": "markdown",
      "metadata": {
        "id": "Vzxkle-KloMi",
        "colab_type": "text"
      },
      "source": [
        "## Step 1 - Importing the DataFrame (CSV to DataFrame)"
      ]
    },
    {
      "cell_type": "markdown",
      "metadata": {
        "id": "Lh5qOmnuloMl",
        "colab_type": "text"
      },
      "source": [
        "### Libraries"
      ]
    },
    {
      "cell_type": "code",
      "metadata": {
        "pycharm": {
          "is_executing": false,
          "name": "#%%\n"
        },
        "id": "X3YJQZzTloMo",
        "colab_type": "code",
        "colab": {}
      },
      "source": [
        "import numpy as np\n",
        "import pandas as pd\n",
        "import matplotlib.pyplot as plt\n",
        "import seaborn as sns\n",
        "#import plotly.tools as tls\n",
        "#tls.embed('https://plot.ly/~cufflinks/8')\n",
        "%matplotlib inline\n",
        "#import cufflinks as cf\n",
        "#print(cf.__version)"
      ],
      "execution_count": 0,
      "outputs": []
    },
    {
      "cell_type": "markdown",
      "metadata": {
        "id": "vxnQcHGGloMv",
        "colab_type": "text"
      },
      "source": [
        "### Datasets\n"
      ]
    },
    {
      "cell_type": "code",
      "metadata": {
        "pycharm": {
          "is_executing": false,
          "name": "#%%\n"
        },
        "id": "4o-G_nF_loMy",
        "colab_type": "code",
        "colab": {
          "base_uri": "https://localhost:8080/",
          "height": 206
        },
        "outputId": "135132b8-85a8-4eb4-f133-75f9c89a1b03"
      },
      "source": [
        "df = pd.read_csv('anime.csv')\n",
        "df.head()"
      ],
      "execution_count": 5,
      "outputs": [
        {
          "output_type": "execute_result",
          "data": {
            "text/html": [
              "<div>\n",
              "<style scoped>\n",
              "    .dataframe tbody tr th:only-of-type {\n",
              "        vertical-align: middle;\n",
              "    }\n",
              "\n",
              "    .dataframe tbody tr th {\n",
              "        vertical-align: top;\n",
              "    }\n",
              "\n",
              "    .dataframe thead th {\n",
              "        text-align: right;\n",
              "    }\n",
              "</style>\n",
              "<table border=\"1\" class=\"dataframe\">\n",
              "  <thead>\n",
              "    <tr style=\"text-align: right;\">\n",
              "      <th></th>\n",
              "      <th>anime_id</th>\n",
              "      <th>name</th>\n",
              "      <th>genre</th>\n",
              "      <th>type</th>\n",
              "      <th>episodes</th>\n",
              "      <th>rating</th>\n",
              "      <th>members</th>\n",
              "    </tr>\n",
              "  </thead>\n",
              "  <tbody>\n",
              "    <tr>\n",
              "      <th>0</th>\n",
              "      <td>32281</td>\n",
              "      <td>Kimi no Na wa.</td>\n",
              "      <td>Drama, Romance, School, Supernatural</td>\n",
              "      <td>Movie</td>\n",
              "      <td>1</td>\n",
              "      <td>9.37</td>\n",
              "      <td>200630</td>\n",
              "    </tr>\n",
              "    <tr>\n",
              "      <th>1</th>\n",
              "      <td>5114</td>\n",
              "      <td>Fullmetal Alchemist: Brotherhood</td>\n",
              "      <td>Action, Adventure, Drama, Fantasy, Magic, Mili...</td>\n",
              "      <td>TV</td>\n",
              "      <td>64</td>\n",
              "      <td>9.26</td>\n",
              "      <td>793665</td>\n",
              "    </tr>\n",
              "    <tr>\n",
              "      <th>2</th>\n",
              "      <td>28977</td>\n",
              "      <td>Gintama°</td>\n",
              "      <td>Action, Comedy, Historical, Parody, Samurai, S...</td>\n",
              "      <td>TV</td>\n",
              "      <td>51</td>\n",
              "      <td>9.25</td>\n",
              "      <td>114262</td>\n",
              "    </tr>\n",
              "    <tr>\n",
              "      <th>3</th>\n",
              "      <td>9253</td>\n",
              "      <td>Steins;Gate</td>\n",
              "      <td>Sci-Fi, Thriller</td>\n",
              "      <td>TV</td>\n",
              "      <td>24</td>\n",
              "      <td>9.17</td>\n",
              "      <td>673572</td>\n",
              "    </tr>\n",
              "    <tr>\n",
              "      <th>4</th>\n",
              "      <td>9969</td>\n",
              "      <td>Gintama&amp;#039;</td>\n",
              "      <td>Action, Comedy, Historical, Parody, Samurai, S...</td>\n",
              "      <td>TV</td>\n",
              "      <td>51</td>\n",
              "      <td>9.16</td>\n",
              "      <td>151266</td>\n",
              "    </tr>\n",
              "  </tbody>\n",
              "</table>\n",
              "</div>"
            ],
            "text/plain": [
              "   anime_id                              name  ... rating members\n",
              "0     32281                    Kimi no Na wa.  ...   9.37  200630\n",
              "1      5114  Fullmetal Alchemist: Brotherhood  ...   9.26  793665\n",
              "2     28977                          Gintama°  ...   9.25  114262\n",
              "3      9253                       Steins;Gate  ...   9.17  673572\n",
              "4      9969                     Gintama&#039;  ...   9.16  151266\n",
              "\n",
              "[5 rows x 7 columns]"
            ]
          },
          "metadata": {
            "tags": []
          },
          "execution_count": 5
        }
      ]
    },
    {
      "cell_type": "code",
      "metadata": {
        "id": "AatCQ7mzeXIB",
        "colab_type": "code",
        "colab": {}
      },
      "source": [
        ""
      ],
      "execution_count": 0,
      "outputs": []
    },
    {
      "cell_type": "markdown",
      "metadata": {
        "id": "q2EwDh0FloM5",
        "colab_type": "text"
      },
      "source": [
        "## Checking the structure of the columns\n"
      ]
    },
    {
      "cell_type": "markdown",
      "metadata": {
        "id": "lctZ41Tz-qq-",
        "colab_type": "text"
      },
      "source": [
        "#### Visualizing the number of colums and features' names associated to the dataset"
      ]
    },
    {
      "cell_type": "code",
      "metadata": {
        "pycharm": {
          "is_executing": false,
          "name": "#%%\n"
        },
        "id": "5F9r_p8mloM8",
        "colab_type": "code",
        "colab": {
          "base_uri": "https://localhost:8080/",
          "height": 34
        },
        "outputId": "d117fadc-3b62-48b5-82ea-4c65a933d030"
      },
      "source": [
        "df.columns"
      ],
      "execution_count": 6,
      "outputs": [
        {
          "output_type": "execute_result",
          "data": {
            "text/plain": [
              "Index(['anime_id', 'name', 'genre', 'type', 'episodes', 'rating', 'members'], dtype='object')"
            ]
          },
          "metadata": {
            "tags": []
          },
          "execution_count": 6
        }
      ]
    },
    {
      "cell_type": "code",
      "metadata": {
        "pycharm": {
          "is_executing": false,
          "name": "#%%\n"
        },
        "id": "phUmAqTUloNE",
        "colab_type": "code",
        "colab": {
          "base_uri": "https://localhost:8080/",
          "height": 34
        },
        "outputId": "53a70e1d-82ec-418d-c21b-a7c5a982f485"
      },
      "source": [
        "print(\"Dimensions of DataFrame: {}\".format(df.shape))"
      ],
      "execution_count": 7,
      "outputs": [
        {
          "output_type": "stream",
          "text": [
            "Dimensions of DataFrame: (12294, 7)\n"
          ],
          "name": "stdout"
        }
      ]
    },
    {
      "cell_type": "markdown",
      "metadata": {
        "id": "Zocnu03q-7p6",
        "colab_type": "text"
      },
      "source": [
        "The Dataset counts on 12'294 rows, grouped in 7 columns."
      ]
    },
    {
      "cell_type": "markdown",
      "metadata": {
        "id": "fge-ba-DloNZ",
        "colab_type": "text"
      },
      "source": [
        "#### Obtaining a sample of the associated data "
      ]
    },
    {
      "cell_type": "code",
      "metadata": {
        "pycharm": {
          "is_executing": false,
          "name": "#%%\n"
        },
        "id": "BoVlIVeSloNb",
        "colab_type": "code",
        "colab": {
          "base_uri": "https://localhost:8080/",
          "height": 206
        },
        "outputId": "ae0e1dad-5212-4535-e60e-53f52e919c27"
      },
      "source": [
        "df.sample(5)"
      ],
      "execution_count": 8,
      "outputs": [
        {
          "output_type": "execute_result",
          "data": {
            "text/html": [
              "<div>\n",
              "<style scoped>\n",
              "    .dataframe tbody tr th:only-of-type {\n",
              "        vertical-align: middle;\n",
              "    }\n",
              "\n",
              "    .dataframe tbody tr th {\n",
              "        vertical-align: top;\n",
              "    }\n",
              "\n",
              "    .dataframe thead th {\n",
              "        text-align: right;\n",
              "    }\n",
              "</style>\n",
              "<table border=\"1\" class=\"dataframe\">\n",
              "  <thead>\n",
              "    <tr style=\"text-align: right;\">\n",
              "      <th></th>\n",
              "      <th>anime_id</th>\n",
              "      <th>name</th>\n",
              "      <th>genre</th>\n",
              "      <th>type</th>\n",
              "      <th>episodes</th>\n",
              "      <th>rating</th>\n",
              "      <th>members</th>\n",
              "    </tr>\n",
              "  </thead>\n",
              "  <tbody>\n",
              "    <tr>\n",
              "      <th>856</th>\n",
              "      <td>182</td>\n",
              "      <td>Tenkuu no Escaflowne</td>\n",
              "      <td>Adventure, Fantasy, Mecha, Romance, Shoujo</td>\n",
              "      <td>TV</td>\n",
              "      <td>26</td>\n",
              "      <td>7.80</td>\n",
              "      <td>83437</td>\n",
              "    </tr>\n",
              "    <tr>\n",
              "      <th>9155</th>\n",
              "      <td>32623</td>\n",
              "      <td>Kasa Jizou</td>\n",
              "      <td>Fantasy, Historical</td>\n",
              "      <td>Movie</td>\n",
              "      <td>1</td>\n",
              "      <td>4.43</td>\n",
              "      <td>40</td>\n",
              "    </tr>\n",
              "    <tr>\n",
              "      <th>7938</th>\n",
              "      <td>33282</td>\n",
              "      <td>Arakure Junichi no Namida</td>\n",
              "      <td>Comedy</td>\n",
              "      <td>ONA</td>\n",
              "      <td>1</td>\n",
              "      <td>4.55</td>\n",
              "      <td>169</td>\n",
              "    </tr>\n",
              "    <tr>\n",
              "      <th>11147</th>\n",
              "      <td>18655</td>\n",
              "      <td>Koikishi Purely☆Kiss The Animation</td>\n",
              "      <td>Hentai</td>\n",
              "      <td>OVA</td>\n",
              "      <td>2</td>\n",
              "      <td>7.32</td>\n",
              "      <td>5320</td>\n",
              "    </tr>\n",
              "    <tr>\n",
              "      <th>9070</th>\n",
              "      <td>29677</td>\n",
              "      <td>Kage</td>\n",
              "      <td>Drama, Historical</td>\n",
              "      <td>Movie</td>\n",
              "      <td>1</td>\n",
              "      <td>4.22</td>\n",
              "      <td>109</td>\n",
              "    </tr>\n",
              "  </tbody>\n",
              "</table>\n",
              "</div>"
            ],
            "text/plain": [
              "       anime_id                                name  ... rating members\n",
              "856         182                Tenkuu no Escaflowne  ...   7.80   83437\n",
              "9155      32623                          Kasa Jizou  ...   4.43      40\n",
              "7938      33282           Arakure Junichi no Namida  ...   4.55     169\n",
              "11147     18655  Koikishi Purely☆Kiss The Animation  ...   7.32    5320\n",
              "9070      29677                                Kage  ...   4.22     109\n",
              "\n",
              "[5 rows x 7 columns]"
            ]
          },
          "metadata": {
            "tags": []
          },
          "execution_count": 8
        }
      ]
    },
    {
      "cell_type": "markdown",
      "metadata": {
        "id": "gLH72SWmloNl",
        "colab_type": "text"
      },
      "source": [
        "#### It is appreciated the nature of the columns (Categorical and Numerical)."
      ]
    },
    {
      "cell_type": "markdown",
      "metadata": {
        "id": "DFK6_MPJloNn",
        "colab_type": "text"
      },
      "source": [
        "##Descriptive statistics summary of the variable of the dataset features "
      ]
    },
    {
      "cell_type": "code",
      "metadata": {
        "pycharm": {
          "is_executing": false,
          "name": "#%%\n"
        },
        "id": "2NyqHvKfloNp",
        "colab_type": "code",
        "colab": {
          "base_uri": "https://localhost:8080/",
          "height": 156
        },
        "outputId": "e890ac05-6faf-4a6d-de29-1d7def1f8323"
      },
      "source": [
        "print(df.dtypes)"
      ],
      "execution_count": 9,
      "outputs": [
        {
          "output_type": "stream",
          "text": [
            "anime_id      int64\n",
            "name         object\n",
            "genre        object\n",
            "type         object\n",
            "episodes     object\n",
            "rating      float64\n",
            "members       int64\n",
            "dtype: object\n"
          ],
          "name": "stdout"
        }
      ]
    },
    {
      "cell_type": "markdown",
      "metadata": {
        "id": "y6xTg8y0loN8",
        "colab_type": "text"
      },
      "source": [
        "### Number of unique values per feature"
      ]
    },
    {
      "cell_type": "code",
      "metadata": {
        "pycharm": {
          "is_executing": false,
          "name": "#%%\n"
        },
        "id": "Bo1Z6CphloN-",
        "colab_type": "code",
        "colab": {
          "base_uri": "https://localhost:8080/",
          "height": 156
        },
        "outputId": "ced5a314-215e-4754-ed6d-72c4c6fcbc4e"
      },
      "source": [
        "df.nunique()"
      ],
      "execution_count": 10,
      "outputs": [
        {
          "output_type": "execute_result",
          "data": {
            "text/plain": [
              "anime_id    12294\n",
              "name        12292\n",
              "genre        3264\n",
              "type            6\n",
              "episodes      187\n",
              "rating        598\n",
              "members      6706\n",
              "dtype: int64"
            ]
          },
          "metadata": {
            "tags": []
          },
          "execution_count": 10
        }
      ]
    },
    {
      "cell_type": "markdown",
      "metadata": {
        "id": "27qnnE-TloNy",
        "colab_type": "text"
      },
      "source": [
        "### Number of total values per feature "
      ]
    },
    {
      "cell_type": "code",
      "metadata": {
        "pycharm": {
          "is_executing": false,
          "name": "#%%\n"
        },
        "id": "zAqayAemloN0",
        "colab_type": "code",
        "colab": {
          "base_uri": "https://localhost:8080/",
          "height": 225
        },
        "outputId": "e4fda568-c75c-4670-ae9b-656949acf782"
      },
      "source": [
        "df.info()"
      ],
      "execution_count": 11,
      "outputs": [
        {
          "output_type": "stream",
          "text": [
            "<class 'pandas.core.frame.DataFrame'>\n",
            "RangeIndex: 12294 entries, 0 to 12293\n",
            "Data columns (total 7 columns):\n",
            "anime_id    12294 non-null int64\n",
            "name        12294 non-null object\n",
            "genre       12232 non-null object\n",
            "type        12269 non-null object\n",
            "episodes    12294 non-null object\n",
            "rating      12064 non-null float64\n",
            "members     12294 non-null int64\n",
            "dtypes: float64(1), int64(2), object(4)\n",
            "memory usage: 672.4+ KB\n"
          ],
          "name": "stdout"
        }
      ]
    },
    {
      "cell_type": "markdown",
      "metadata": {
        "id": "amJtCUMl_z0o",
        "colab_type": "text"
      },
      "source": [
        "####When complete, every feature should contain a maximum of 12'294 of data. However, it can be seeing that some features doesn't reach that value. It indicates the pressence of missing values."
      ]
    },
    {
      "cell_type": "markdown",
      "metadata": {
        "id": "4YGdCn71loOF",
        "colab_type": "text"
      },
      "source": [
        "## Exploring the missing values"
      ]
    },
    {
      "cell_type": "code",
      "metadata": {
        "pycharm": {
          "is_executing": false,
          "name": "#%%\n"
        },
        "id": "HF2UydLCloOI",
        "colab_type": "code",
        "colab": {
          "base_uri": "https://localhost:8080/",
          "height": 384
        },
        "outputId": "b1199401-3d65-4006-b168-cd3c2c2b45e3"
      },
      "source": [
        "missing = df.isnull().sum()\n",
        "missing = missing[missing > 0]\n",
        "missing.sort_values(inplace=True)\n",
        "missing.plot.bar().set_title(\"Missing Values by Feature\")\n",
        "missing.plot.bar().set_xlabel('Dataset Features')\n",
        "missing.plot.bar().set_ylabel('Missing Values')\n",
        "missing.head()"
      ],
      "execution_count": 12,
      "outputs": [
        {
          "output_type": "execute_result",
          "data": {
            "text/plain": [
              "type       25\n",
              "genre      62\n",
              "rating    230\n",
              "dtype: int64"
            ]
          },
          "metadata": {
            "tags": []
          },
          "execution_count": 12
        },
        {
          "output_type": "display_data",
          "data": {
            "image/png": "[encoded data removed]",
            "text/plain": [
              "<Figure size 432x288 with 1 Axes>"
            ]
          },
          "metadata": {
            "tags": []
          }
        }
      ]
    },
    {
      "cell_type": "markdown",
      "metadata": {
        "id": "RwCn0Be7Abeb",
        "colab_type": "text"
      },
      "source": [
        "\n",
        "####The category with most missing values is found in 'rating' followed by 'gender' and 'type' respectively."
      ]
    },
    {
      "cell_type": "markdown",
      "metadata": {
        "id": "wxM8ZtEKBMdf",
        "colab_type": "text"
      },
      "source": [
        "##Exploring the whole dataset statistically."
      ]
    },
    {
      "cell_type": "code",
      "metadata": {
        "pycharm": {
          "name": "#%%\n",
          "is_executing": false
        },
        "id": "7clKXTyBloOR",
        "colab_type": "code",
        "colab": {
          "base_uri": "https://localhost:8080/",
          "height": 300
        },
        "outputId": "d121f289-2dcc-435a-c9b6-0b5a0018f68a"
      },
      "source": [
        "df.describe()"
      ],
      "execution_count": 13,
      "outputs": [
        {
          "output_type": "execute_result",
          "data": {
            "text/html": [
              "<div>\n",
              "<style scoped>\n",
              "    .dataframe tbody tr th:only-of-type {\n",
              "        vertical-align: middle;\n",
              "    }\n",
              "\n",
              "    .dataframe tbody tr th {\n",
              "        vertical-align: top;\n",
              "    }\n",
              "\n",
              "    .dataframe thead th {\n",
              "        text-align: right;\n",
              "    }\n",
              "</style>\n",
              "<table border=\"1\" class=\"dataframe\">\n",
              "  <thead>\n",
              "    <tr style=\"text-align: right;\">\n",
              "      <th></th>\n",
              "      <th>anime_id</th>\n",
              "      <th>rating</th>\n",
              "      <th>members</th>\n",
              "    </tr>\n",
              "  </thead>\n",
              "  <tbody>\n",
              "    <tr>\n",
              "      <th>count</th>\n",
              "      <td>12294.000000</td>\n",
              "      <td>12064.000000</td>\n",
              "      <td>1.229400e+04</td>\n",
              "    </tr>\n",
              "    <tr>\n",
              "      <th>mean</th>\n",
              "      <td>14058.221653</td>\n",
              "      <td>6.473902</td>\n",
              "      <td>1.807134e+04</td>\n",
              "    </tr>\n",
              "    <tr>\n",
              "      <th>std</th>\n",
              "      <td>11455.294701</td>\n",
              "      <td>1.026746</td>\n",
              "      <td>5.482068e+04</td>\n",
              "    </tr>\n",
              "    <tr>\n",
              "      <th>min</th>\n",
              "      <td>1.000000</td>\n",
              "      <td>1.670000</td>\n",
              "      <td>5.000000e+00</td>\n",
              "    </tr>\n",
              "    <tr>\n",
              "      <th>25%</th>\n",
              "      <td>3484.250000</td>\n",
              "      <td>5.880000</td>\n",
              "      <td>2.250000e+02</td>\n",
              "    </tr>\n",
              "    <tr>\n",
              "      <th>50%</th>\n",
              "      <td>10260.500000</td>\n",
              "      <td>6.570000</td>\n",
              "      <td>1.550000e+03</td>\n",
              "    </tr>\n",
              "    <tr>\n",
              "      <th>75%</th>\n",
              "      <td>24794.500000</td>\n",
              "      <td>7.180000</td>\n",
              "      <td>9.437000e+03</td>\n",
              "    </tr>\n",
              "    <tr>\n",
              "      <th>max</th>\n",
              "      <td>34527.000000</td>\n",
              "      <td>10.000000</td>\n",
              "      <td>1.013917e+06</td>\n",
              "    </tr>\n",
              "  </tbody>\n",
              "</table>\n",
              "</div>"
            ],
            "text/plain": [
              "           anime_id        rating       members\n",
              "count  12294.000000  12064.000000  1.229400e+04\n",
              "mean   14058.221653      6.473902  1.807134e+04\n",
              "std    11455.294701      1.026746  5.482068e+04\n",
              "min        1.000000      1.670000  5.000000e+00\n",
              "25%     3484.250000      5.880000  2.250000e+02\n",
              "50%    10260.500000      6.570000  1.550000e+03\n",
              "75%    24794.500000      7.180000  9.437000e+03\n",
              "max    34527.000000     10.000000  1.013917e+06"
            ]
          },
          "metadata": {
            "tags": []
          },
          "execution_count": 13
        }
      ]
    },
    {
      "cell_type": "code",
      "metadata": {
        "pycharm": {
          "is_executing": false,
          "name": "#%%\n"
        },
        "id": "2cBJxfxHloOY",
        "colab_type": "code",
        "colab": {
          "base_uri": "https://localhost:8080/",
          "height": 173
        },
        "outputId": "9d4325b6-ba3d-46c2-db01-b97500456443"
      },
      "source": [
        "df['anime_id'].describe()"
      ],
      "execution_count": 14,
      "outputs": [
        {
          "output_type": "execute_result",
          "data": {
            "text/plain": [
              "count    12294.000000\n",
              "mean     14058.221653\n",
              "std      11455.294701\n",
              "min          1.000000\n",
              "25%       3484.250000\n",
              "50%      10260.500000\n",
              "75%      24794.500000\n",
              "max      34527.000000\n",
              "Name: anime_id, dtype: float64"
            ]
          },
          "metadata": {
            "tags": []
          },
          "execution_count": 14
        }
      ]
    },
    {
      "cell_type": "code",
      "metadata": {
        "pycharm": {
          "is_executing": false,
          "name": "#%%\n"
        },
        "id": "UExM2aFsloOh",
        "colab_type": "code",
        "colab": {
          "base_uri": "https://localhost:8080/",
          "height": 104
        },
        "outputId": "736a3227-7297-438e-a837-4fbd2f49e761"
      },
      "source": [
        "df['name'].describe()"
      ],
      "execution_count": 15,
      "outputs": [
        {
          "output_type": "execute_result",
          "data": {
            "text/plain": [
              "count                       12294\n",
              "unique                      12292\n",
              "top       Shi Wan Ge Leng Xiaohua\n",
              "freq                            2\n",
              "Name: name, dtype: object"
            ]
          },
          "metadata": {
            "tags": []
          },
          "execution_count": 15
        }
      ]
    },
    {
      "cell_type": "code",
      "metadata": {
        "pycharm": {
          "is_executing": false,
          "name": "#%%\n"
        },
        "id": "rfehZzyNloOp",
        "colab_type": "code",
        "colab": {
          "base_uri": "https://localhost:8080/",
          "height": 104
        },
        "outputId": "36441ab4-8393-4e11-9266-b1cb09d56f69"
      },
      "source": [
        "df['genre'].describe()"
      ],
      "execution_count": 16,
      "outputs": [
        {
          "output_type": "execute_result",
          "data": {
            "text/plain": [
              "count      12232\n",
              "unique      3264\n",
              "top       Hentai\n",
              "freq         823\n",
              "Name: genre, dtype: object"
            ]
          },
          "metadata": {
            "tags": []
          },
          "execution_count": 16
        }
      ]
    },
    {
      "cell_type": "code",
      "metadata": {
        "pycharm": {
          "is_executing": false,
          "name": "#%%\n"
        },
        "id": "Ux5UQrgOloOw",
        "colab_type": "code",
        "colab": {
          "base_uri": "https://localhost:8080/",
          "height": 104
        },
        "outputId": "d65e795d-1bbc-4035-b864-4db0630d339f"
      },
      "source": [
        "df['type'].describe()"
      ],
      "execution_count": 17,
      "outputs": [
        {
          "output_type": "execute_result",
          "data": {
            "text/plain": [
              "count     12269\n",
              "unique        6\n",
              "top          TV\n",
              "freq       3787\n",
              "Name: type, dtype: object"
            ]
          },
          "metadata": {
            "tags": []
          },
          "execution_count": 17
        }
      ]
    },
    {
      "cell_type": "code",
      "metadata": {
        "pycharm": {
          "is_executing": false,
          "name": "#%%\n"
        },
        "id": "xBnnVysjloO6",
        "colab_type": "code",
        "colab": {
          "base_uri": "https://localhost:8080/",
          "height": 104
        },
        "outputId": "93ae2b90-39a5-4ae9-9352-008ed223505e"
      },
      "source": [
        "df['episodes'].describe()"
      ],
      "execution_count": 18,
      "outputs": [
        {
          "output_type": "execute_result",
          "data": {
            "text/plain": [
              "count     12294\n",
              "unique      187\n",
              "top           1\n",
              "freq       5677\n",
              "Name: episodes, dtype: object"
            ]
          },
          "metadata": {
            "tags": []
          },
          "execution_count": 18
        }
      ]
    },
    {
      "cell_type": "code",
      "metadata": {
        "pycharm": {
          "is_executing": false,
          "name": "#%%\n"
        },
        "id": "gUm34AKBloPA",
        "colab_type": "code",
        "colab": {
          "base_uri": "https://localhost:8080/",
          "height": 173
        },
        "outputId": "536aad0e-214b-46ba-e2e0-039ec23c2f54"
      },
      "source": [
        "df['rating'].describe()"
      ],
      "execution_count": 19,
      "outputs": [
        {
          "output_type": "execute_result",
          "data": {
            "text/plain": [
              "count    12064.000000\n",
              "mean         6.473902\n",
              "std          1.026746\n",
              "min          1.670000\n",
              "25%          5.880000\n",
              "50%          6.570000\n",
              "75%          7.180000\n",
              "max         10.000000\n",
              "Name: rating, dtype: float64"
            ]
          },
          "metadata": {
            "tags": []
          },
          "execution_count": 19
        }
      ]
    },
    {
      "cell_type": "code",
      "metadata": {
        "pycharm": {
          "is_executing": false,
          "name": "#%%\n"
        },
        "id": "beLSokmNloPI",
        "colab_type": "code",
        "colab": {
          "base_uri": "https://localhost:8080/",
          "height": 173
        },
        "outputId": "4e1a740a-6fb1-4d84-8811-5ec5b66d5e09"
      },
      "source": [
        "df['members'].describe()"
      ],
      "execution_count": 20,
      "outputs": [
        {
          "output_type": "execute_result",
          "data": {
            "text/plain": [
              "count    1.229400e+04\n",
              "mean     1.807134e+04\n",
              "std      5.482068e+04\n",
              "min      5.000000e+00\n",
              "25%      2.250000e+02\n",
              "50%      1.550000e+03\n",
              "75%      9.437000e+03\n",
              "max      1.013917e+06\n",
              "Name: members, dtype: float64"
            ]
          },
          "metadata": {
            "tags": []
          },
          "execution_count": 20
        }
      ]
    },
    {
      "cell_type": "markdown",
      "metadata": {
        "id": "LRaaKmPFloPX",
        "colab_type": "text"
      },
      "source": [
        "## Dropping the rows with missing data ('Na')"
      ]
    },
    {
      "cell_type": "code",
      "metadata": {
        "pycharm": {
          "is_executing": false,
          "name": "#%%\n"
        },
        "id": "I67OMV5-loPZ",
        "colab_type": "code",
        "colab": {}
      },
      "source": [
        "df = df.dropna()"
      ],
      "execution_count": 0,
      "outputs": []
    },
    {
      "cell_type": "code",
      "metadata": {
        "pycharm": {
          "is_executing": false,
          "name": "#%%\n"
        },
        "id": "xZVfO2UnloPh",
        "colab_type": "code",
        "colab": {
          "base_uri": "https://localhost:8080/",
          "height": 173
        },
        "outputId": "6dbbe057-24ea-4334-943d-2c8a895dc61f"
      },
      "source": [
        "df['rating'].describe()"
      ],
      "execution_count": 22,
      "outputs": [
        {
          "output_type": "execute_result",
          "data": {
            "text/plain": [
              "count    12017.000000\n",
              "mean         6.478264\n",
              "std          1.023857\n",
              "min          1.670000\n",
              "25%          5.890000\n",
              "50%          6.570000\n",
              "75%          7.180000\n",
              "max         10.000000\n",
              "Name: rating, dtype: float64"
            ]
          },
          "metadata": {
            "tags": []
          },
          "execution_count": 22
        }
      ]
    },
    {
      "cell_type": "markdown",
      "metadata": {
        "id": "k-fy-O1oloPn",
        "colab_type": "text"
      },
      "source": [
        "## Exploring the Numerical Features"
      ]
    },
    {
      "cell_type": "markdown",
      "metadata": {
        "id": "kpFVeuSuKN2d",
        "colab_type": "text"
      },
      "source": [
        "###Feature: **rating**"
      ]
    },
    {
      "cell_type": "code",
      "metadata": {
        "pycharm": {
          "is_executing": false,
          "name": "#%%\n"
        },
        "id": "8HYUc7y7loPn",
        "colab_type": "code",
        "colab": {
          "base_uri": "https://localhost:8080/",
          "height": 173
        },
        "outputId": "698c96b8-d745-4cb4-cc8b-e2a036dd50d6"
      },
      "source": [
        "df['rating'].describe()"
      ],
      "execution_count": 23,
      "outputs": [
        {
          "output_type": "execute_result",
          "data": {
            "text/plain": [
              "count    12017.000000\n",
              "mean         6.478264\n",
              "std          1.023857\n",
              "min          1.670000\n",
              "25%          5.890000\n",
              "50%          6.570000\n",
              "75%          7.180000\n",
              "max         10.000000\n",
              "Name: rating, dtype: float64"
            ]
          },
          "metadata": {
            "tags": []
          },
          "execution_count": 23
        }
      ]
    },
    {
      "cell_type": "code",
      "metadata": {
        "pycharm": {
          "is_executing": false,
          "name": "#%%\n"
        },
        "id": "beeQQhblloPs",
        "colab_type": "code",
        "colab": {
          "base_uri": "https://localhost:8080/",
          "height": 1000
        },
        "outputId": "e5df8e52-e5b9-4d96-d027-d9ed0f32ee73"
      },
      "source": [
        "df['rating'].unique()"
      ],
      "execution_count": 24,
      "outputs": [
        {
          "output_type": "execute_result",
          "data": {
            "text/plain": [
              "array([ 9.37,  9.26,  9.25,  9.17,  9.16,  9.15,  9.13,  9.11,  9.1 ,\n",
              "        9.06,  9.05,  9.04,  8.98,  8.93,  8.92,  8.88,  8.84,  8.83,\n",
              "        8.82,  8.81,  8.8 ,  8.78,  8.77,  8.76,  8.75,  8.74,  8.73,\n",
              "        8.72,  8.71,  8.69,  8.68,  8.67,  8.66,  8.65,  8.64,  8.62,\n",
              "        8.61,  8.6 ,  8.59,  8.58,  8.57,  8.56,  8.55,  8.54,  8.53,\n",
              "        8.52,  8.51,  8.5 ,  8.49,  8.48,  8.47,  8.46,  8.45,  8.44,\n",
              "        8.43,  8.42,  8.41,  8.4 ,  8.39,  8.38,  8.37,  8.36,  8.35,\n",
              "        8.34,  8.33,  8.32,  8.31,  8.3 ,  8.29,  8.28,  8.27,  8.26,\n",
              "        8.25,  8.24,  8.23,  8.22,  8.21,  8.2 ,  8.19,  8.18,  8.17,\n",
              "        8.16,  8.15,  8.14,  8.13,  8.12,  8.11,  8.1 ,  8.09,  8.08,\n",
              "        8.07,  8.06,  8.05,  8.04,  8.03,  8.02,  8.01,  8.  ,  7.99,\n",
              "        7.98,  7.97,  7.96,  7.95,  7.94,  7.93,  7.92,  7.91,  7.9 ,\n",
              "        7.89,  7.88,  7.87,  7.86,  7.85,  7.84,  7.83,  7.82,  7.81,\n",
              "        7.8 ,  7.79,  7.78,  7.77,  7.76,  7.75,  7.74,  7.73,  7.72,\n",
              "        7.71,  7.7 ,  7.69,  7.68,  7.67,  7.66,  7.65,  7.64,  7.63,\n",
              "        7.62,  7.61,  7.6 ,  7.59,  7.58,  7.57,  7.56,  7.55,  7.54,\n",
              "        7.53,  7.52,  7.51,  7.5 ,  7.49,  7.48,  7.47,  7.46,  7.45,\n",
              "        7.44,  7.43,  7.42,  7.41,  7.4 ,  7.39,  7.38,  7.37,  7.36,\n",
              "        7.35,  7.34,  7.33,  7.32,  7.31,  7.3 ,  7.29,  7.28,  7.27,\n",
              "        7.25,  7.26,  7.24,  7.23,  7.22,  7.21,  7.2 ,  7.19,  7.18,\n",
              "        7.17,  7.16,  7.14,  7.15,  7.13,  7.12,  7.11,  7.1 ,  7.09,\n",
              "        7.08,  7.07,  7.06,  7.05,  7.04,  7.03,  7.02,  7.01,  7.  ,\n",
              "        6.99,  6.98,  6.97,  6.96,  6.95,  6.94,  6.93,  6.92,  6.91,\n",
              "        6.9 ,  6.89,  6.88,  6.87,  6.86,  6.85,  6.84,  6.83,  6.82,\n",
              "        6.81,  6.8 ,  6.79,  6.78,  6.75,  6.77,  6.76,  6.74,  6.73,\n",
              "        6.72,  6.71,  6.7 ,  6.69,  6.68,  6.67,  6.66,  6.65,  6.64,\n",
              "        6.63,  6.62,  6.61,  6.6 ,  6.59,  6.58,  6.57,  6.56,  6.55,\n",
              "        6.54,  6.53,  6.52,  6.51,  6.47,  6.5 ,  6.49,  6.48,  6.46,\n",
              "        6.45,  6.42,  6.44,  6.43,  6.39,  6.41,  6.4 ,  6.38,  6.37,\n",
              "        6.35,  6.36,  6.34,  6.33,  6.32,  6.31,  6.3 ,  6.29,  6.28,\n",
              "        6.27,  6.26,  6.25,  6.22,  6.24,  6.23,  6.21,  6.2 ,  6.19,\n",
              "        6.18,  6.17,  6.16,  6.15,  6.14,  6.13,  6.12,  6.1 ,  6.11,\n",
              "        6.09,  6.08,  6.06,  6.07,  6.05,  6.04,  6.03,  6.01,  6.02,\n",
              "        6.  ,  5.99,  5.98,  5.97,  5.96,  5.95,  5.94,  5.93,  5.92,\n",
              "        5.91,  5.89,  5.9 ,  5.88,  5.87,  5.86,  5.85,  5.84,  5.83,\n",
              "        5.82,  5.81,  5.8 ,  5.79,  5.78,  5.77,  5.76,  5.75,  5.74,\n",
              "        5.73,  5.72,  5.7 ,  5.71,  5.69,  5.68,  5.67,  5.66,  5.65,\n",
              "        5.64,  5.63,  5.62,  5.61,  5.6 ,  5.59,  5.58,  5.57,  5.56,\n",
              "        5.55,  5.53,  5.54,  5.52,  5.51,  5.5 ,  5.49,  5.48,  5.46,\n",
              "        5.47,  5.45,  5.44,  5.43,  5.42,  5.41,  5.4 ,  5.39,  5.38,\n",
              "        5.37,  5.36,  5.35,  5.34,  5.33,  5.32,  5.31,  5.3 ,  5.29,\n",
              "        5.28,  5.27,  5.26,  5.24,  5.25,  5.23,  5.22,  5.21,  5.2 ,\n",
              "        5.19,  5.14,  5.18,  5.17,  5.16,  5.15,  5.13,  5.11,  5.12,\n",
              "        5.1 ,  5.09,  5.07,  5.08,  5.06,  5.04,  5.05,  5.03,  5.02,\n",
              "        5.01,  5.  ,  4.99,  4.98,  4.97,  4.96,  4.95,  4.94,  4.93,\n",
              "        4.92,  4.91,  4.9 ,  4.89,  4.88,  4.84,  4.87,  4.86,  4.85,\n",
              "        4.83,  4.82,  4.81,  4.8 ,  4.79,  4.78,  4.77,  4.76,  4.75,\n",
              "        4.74,  4.73,  4.72,  4.71,  4.7 ,  4.69,  4.68,  4.66,  4.67,\n",
              "        4.65,  4.64,  4.63,  4.62,  4.6 ,  4.59,  4.58,  4.57,  4.56,\n",
              "        4.55,  4.54,  4.53,  4.52,  4.49,  4.5 ,  4.48,  4.46,  4.45,\n",
              "        4.44,  4.43,  4.42,  4.4 ,  4.39,  4.38,  4.36,  4.35,  4.34,\n",
              "        4.32,  4.31,  4.3 ,  4.28,  4.27,  4.26,  4.25,  4.24,  4.23,\n",
              "        4.22,  4.21,  4.19,  4.17,  4.16,  4.15,  4.11,  4.08,  4.04,\n",
              "        4.03,  4.02,  4.  ,  3.99,  3.98,  3.96,  3.91,  3.9 ,  3.88,\n",
              "        3.87,  3.86,  3.84,  3.83,  3.82,  3.8 ,  3.78,  3.76,  3.75,\n",
              "        3.74,  3.73,  3.71,  3.7 ,  3.68,  3.65,  3.63,  3.62,  3.6 ,\n",
              "        3.58,  3.59,  3.56,  3.47,  3.46,  3.41,  3.36,  3.33,  3.32,\n",
              "        3.27,  2.95,  2.93,  2.78,  2.67,  2.37,  2.14,  2.  ,  4.06,\n",
              "        4.18,  4.09,  3.67,  3.  ,  4.33,  3.89,  4.2 ,  3.61,  4.13,\n",
              "        3.11,  2.58,  4.29,  3.43,  3.57,  4.05,  4.51,  3.4 ,  3.79,\n",
              "        3.81,  3.92,  3.48,  3.38,  3.95,  4.61,  3.34,  3.02,  2.69,\n",
              "        3.5 ,  3.97,  3.85,  3.77,  3.53,  9.33,  4.14,  4.12,  3.2 ,\n",
              "        3.93,  3.52,  2.55,  9.  ,  2.97,  4.1 ,  3.39,  3.17,  9.5 ,\n",
              "        3.25,  2.8 ,  2.91,  2.75,  4.41,  3.72,  3.94,  1.67,  4.37,\n",
              "        3.69,  3.26,  3.49,  2.49,  2.84,  4.07,  3.35,  3.54,  3.21,\n",
              "        3.42,  9.6 ,  3.28, 10.  ,  3.51,  3.29,  3.64,  2.72,  2.98,\n",
              "        3.44,  1.92,  2.86,  3.14])"
            ]
          },
          "metadata": {
            "tags": []
          },
          "execution_count": 24
        }
      ]
    },
    {
      "cell_type": "code",
      "metadata": {
        "pycharm": {
          "is_executing": false,
          "name": "#%%\n"
        },
        "id": "gK2zMdtmloP3",
        "colab_type": "code",
        "colab": {
          "base_uri": "https://localhost:8080/",
          "height": 283
        },
        "outputId": "467b12d4-ed3b-4258-e5c6-8b17f934523b"
      },
      "source": [
        "sns.distplot(df['rating']);"
      ],
      "execution_count": 25,
      "outputs": [
        {
          "output_type": "display_data",
          "data": {
            "image/png": "[encoded data removed]",
            "text/plain": [
              "<Figure size 432x288 with 1 Axes>"
            ]
          },
          "metadata": {
            "tags": []
          }
        }
      ]
    },
    {
      "cell_type": "code",
      "metadata": {
        "pycharm": {
          "is_executing": false,
          "name": "#%%\n"
        },
        "id": "UQeCx96ploP-",
        "colab_type": "code",
        "colab": {
          "base_uri": "https://localhost:8080/",
          "height": 283
        },
        "outputId": "d2243578-c617-4062-a2d8-5705ae04d24b"
      },
      "source": [
        "bplot = sns.boxplot(x='rating', \n",
        "                 data=df, \n",
        "                 width=0.5,\n",
        "                 palette=\"colorblind\")"
      ],
      "execution_count": 26,
      "outputs": [
        {
          "output_type": "display_data",
          "data": {
            "image/png": "[encoded data removed]",
            "text/plain": [
              "<Figure size 432x288 with 1 Axes>"
            ]
          },
          "metadata": {
            "tags": []
          }
        }
      ]
    },
    {
      "cell_type": "markdown",
      "metadata": {
        "id": "xndtO90VKaBV",
        "colab_type": "text"
      },
      "source": [
        "###Feature: **members**"
      ]
    },
    {
      "cell_type": "code",
      "metadata": {
        "pycharm": {
          "is_executing": false,
          "name": "#%%\n"
        },
        "id": "guzTqNymloQH",
        "colab_type": "code",
        "colab": {
          "base_uri": "https://localhost:8080/",
          "height": 173
        },
        "outputId": "0382db91-7106-44db-f089-9cce10c61f8a"
      },
      "source": [
        "df['members'].describe()"
      ],
      "execution_count": 27,
      "outputs": [
        {
          "output_type": "execute_result",
          "data": {
            "text/plain": [
              "count    1.201700e+04\n",
              "mean     1.834888e+04\n",
              "std      5.537250e+04\n",
              "min      1.200000e+01\n",
              "25%      2.250000e+02\n",
              "50%      1.552000e+03\n",
              "75%      9.588000e+03\n",
              "max      1.013917e+06\n",
              "Name: members, dtype: float64"
            ]
          },
          "metadata": {
            "tags": []
          },
          "execution_count": 27
        }
      ]
    },
    {
      "cell_type": "code",
      "metadata": {
        "pycharm": {
          "is_executing": false,
          "name": "#%%\n"
        },
        "id": "oAcyp3yAloQM",
        "colab_type": "code",
        "colab": {
          "base_uri": "https://localhost:8080/",
          "height": 34
        },
        "outputId": "89241df8-1ae8-4ed6-9ce8-2f5bf0acb06c"
      },
      "source": [
        "df['members'].unique()"
      ],
      "execution_count": 28,
      "outputs": [
        {
          "output_type": "execute_result",
          "data": {
            "text/plain": [
              "array([200630, 793665, 114262, ...,  27411,  57355,    652])"
            ]
          },
          "metadata": {
            "tags": []
          },
          "execution_count": 28
        }
      ]
    },
    {
      "cell_type": "code",
      "metadata": {
        "pycharm": {
          "is_executing": false,
          "name": "#%%\n"
        },
        "id": "YDmxgShEloQW",
        "colab_type": "code",
        "colab": {
          "base_uri": "https://localhost:8080/",
          "height": 283
        },
        "outputId": "913d628c-a023-4ff0-fc55-c887cea05e21"
      },
      "source": [
        "sns.distplot(df['members']);"
      ],
      "execution_count": 29,
      "outputs": [
        {
          "output_type": "display_data",
          "data": {
            "image/png": "[encoded data removed]",
            "text/plain": [
              "<Figure size 432x288 with 1 Axes>"
            ]
          },
          "metadata": {
            "tags": []
          }
        }
      ]
    },
    {
      "cell_type": "code",
      "metadata": {
        "pycharm": {
          "is_executing": false,
          "name": "#%%\n"
        },
        "id": "vRh8pcPYloQb",
        "colab_type": "code",
        "colab": {
          "base_uri": "https://localhost:8080/",
          "height": 283
        },
        "outputId": "dc441366-b661-4c15-b938-57ed81fe8ec0"
      },
      "source": [
        "bplot = sns.boxplot(x='members', \n",
        "                 data=df, \n",
        "                 width=0.5,\n",
        "                 palette=\"colorblind\")"
      ],
      "execution_count": 30,
      "outputs": [
        {
          "output_type": "display_data",
          "data": {
            "image/png": "[encoded data removed]",
            "text/plain": [
              "<Figure size 432x288 with 1 Axes>"
            ]
          },
          "metadata": {
            "tags": []
          }
        }
      ]
    },
    {
      "cell_type": "markdown",
      "metadata": {
        "id": "SNtdzfHxLBA4",
        "colab_type": "text"
      },
      "source": [
        "###Feature: **episodes**"
      ]
    },
    {
      "cell_type": "code",
      "metadata": {
        "pycharm": {
          "is_executing": false,
          "name": "#%%\n"
        },
        "id": "khUezx6LloQf",
        "colab_type": "code",
        "colab": {
          "base_uri": "https://localhost:8080/",
          "height": 104
        },
        "outputId": "73708a21-3d4d-4f38-dd78-d34d5e20f337"
      },
      "source": [
        "df['episodes'].describe()"
      ],
      "execution_count": 31,
      "outputs": [
        {
          "output_type": "execute_result",
          "data": {
            "text/plain": [
              "count     12017\n",
              "unique      187\n",
              "top           1\n",
              "freq       5571\n",
              "Name: episodes, dtype: object"
            ]
          },
          "metadata": {
            "tags": []
          },
          "execution_count": 31
        }
      ]
    },
    {
      "cell_type": "code",
      "metadata": {
        "pycharm": {
          "is_executing": false,
          "name": "#%%\n"
        },
        "id": "fYepgJkfloQm",
        "colab_type": "code",
        "colab": {
          "base_uri": "https://localhost:8080/",
          "height": 347
        },
        "outputId": "f22a46ab-815a-4a4c-e756-95b3a08aef63"
      },
      "source": [
        "df['episodes'].unique()"
      ],
      "execution_count": 32,
      "outputs": [
        {
          "output_type": "execute_result",
          "data": {
            "text/plain": [
              "array(['1', '64', '51', '24', '10', '148', '110', '13', '201', '25', '22',\n",
              "       '75', '4', '26', '12', '27', '43', '74', '37', '2', '11', '99',\n",
              "       'Unknown', '39', '101', '47', '50', '62', '33', '112', '23', '3',\n",
              "       '94', '6', '8', '14', '7', '40', '15', '203', '77', '291', '120',\n",
              "       '102', '96', '38', '79', '175', '103', '70', '153', '45', '5',\n",
              "       '21', '63', '52', '28', '145', '36', '69', '60', '178', '114',\n",
              "       '35', '61', '34', '109', '20', '9', '49', '366', '97', '48', '78',\n",
              "       '358', '155', '104', '113', '54', '167', '161', '42', '142', '31',\n",
              "       '373', '220', '46', '195', '17', '1787', '73', '147', '127', '16',\n",
              "       '19', '98', '150', '76', '53', '124', '29', '115', '224', '44',\n",
              "       '58', '93', '154', '92', '67', '172', '86', '30', '276', '59',\n",
              "       '72', '330', '41', '105', '128', '137', '56', '55', '65', '243',\n",
              "       '193', '18', '191', '180', '91', '192', '66', '182', '32', '164',\n",
              "       '100', '296', '694', '95', '68', '117', '151', '130', '87', '170',\n",
              "       '119', '84', '108', '156', '140', '331', '305', '300', '510',\n",
              "       '200', '88', '1471', '526', '143', '726', '136', '1818', '237',\n",
              "       '1428', '365', '163', '283', '71', '260', '199', '225', '312',\n",
              "       '240', '1306', '1565', '773', '1274', '90', '475', '263', '83',\n",
              "       '85', '1006', '80', '162', '132', '141', '125'], dtype=object)"
            ]
          },
          "metadata": {
            "tags": []
          },
          "execution_count": 32
        }
      ]
    },
    {
      "cell_type": "markdown",
      "metadata": {
        "id": "qPAW03DTCwsc",
        "colab_type": "text"
      },
      "source": [
        "The Numerical feature 'episodes' is declared as an object and also, contains Categorical data which is required to  be removed from the rows in the dataset."
      ]
    },
    {
      "cell_type": "code",
      "metadata": {
        "pycharm": {
          "is_executing": false,
          "name": "#%%\n"
        },
        "id": "KpX9aoL3loQp",
        "colab_type": "code",
        "colab": {}
      },
      "source": [
        "df = df[df['episodes']!='Unknown']"
      ],
      "execution_count": 0,
      "outputs": []
    },
    {
      "cell_type": "code",
      "metadata": {
        "pycharm": {
          "is_executing": false,
          "name": "#%%\n"
        },
        "id": "6QL-GFhOloQu",
        "colab_type": "code",
        "colab": {
          "base_uri": "https://localhost:8080/",
          "height": 347
        },
        "outputId": "4c6653ba-d4d5-4123-9bec-8950cc6c9ded"
      },
      "source": [
        "df['episodes'].unique()"
      ],
      "execution_count": 34,
      "outputs": [
        {
          "output_type": "execute_result",
          "data": {
            "text/plain": [
              "array(['1', '64', '51', '24', '10', '148', '110', '13', '201', '25', '22',\n",
              "       '75', '4', '26', '12', '27', '43', '74', '37', '2', '11', '99',\n",
              "       '39', '101', '47', '50', '62', '33', '112', '23', '3', '94', '6',\n",
              "       '8', '14', '7', '40', '15', '203', '77', '291', '120', '102', '96',\n",
              "       '38', '79', '175', '103', '70', '153', '45', '5', '21', '63', '52',\n",
              "       '28', '145', '36', '69', '60', '178', '114', '35', '61', '34',\n",
              "       '109', '20', '9', '49', '366', '97', '48', '78', '358', '155',\n",
              "       '104', '113', '54', '167', '161', '42', '142', '31', '373', '220',\n",
              "       '46', '195', '17', '1787', '73', '147', '127', '16', '19', '98',\n",
              "       '150', '76', '53', '124', '29', '115', '224', '44', '58', '93',\n",
              "       '154', '92', '67', '172', '86', '30', '276', '59', '72', '330',\n",
              "       '41', '105', '128', '137', '56', '55', '65', '243', '193', '18',\n",
              "       '191', '180', '91', '192', '66', '182', '32', '164', '100', '296',\n",
              "       '694', '95', '68', '117', '151', '130', '87', '170', '119', '84',\n",
              "       '108', '156', '140', '331', '305', '300', '510', '200', '88',\n",
              "       '1471', '526', '143', '726', '136', '1818', '237', '1428', '365',\n",
              "       '163', '283', '71', '260', '199', '225', '312', '240', '1306',\n",
              "       '1565', '773', '1274', '90', '475', '263', '83', '85', '1006',\n",
              "       '80', '162', '132', '141', '125'], dtype=object)"
            ]
          },
          "metadata": {
            "tags": []
          },
          "execution_count": 34
        }
      ]
    },
    {
      "cell_type": "markdown",
      "metadata": {
        "pycharm": {
          "name": "#%% md\n"
        },
        "id": "KqCW-PK2loQz",
        "colab_type": "text"
      },
      "source": [
        "Now, the feature can be converted from object (Categorical) to int (Numerical), and explored.\n",
        "\n",
        "https://stackoverflow.com/questions/48094854/python-convert-object-to-float"
      ]
    },
    {
      "cell_type": "code",
      "metadata": {
        "pycharm": {
          "is_executing": false,
          "name": "#%%\n"
        },
        "id": "i-b8HLMgloQ0",
        "colab_type": "code",
        "colab": {}
      },
      "source": [
        "df['episodes'] = df.episodes.astype(int)"
      ],
      "execution_count": 0,
      "outputs": []
    },
    {
      "cell_type": "code",
      "metadata": {
        "pycharm": {
          "is_executing": false,
          "name": "#%%\n"
        },
        "id": "Ty6p-AP8loQ3",
        "colab_type": "code",
        "colab": {
          "base_uri": "https://localhost:8080/",
          "height": 283
        },
        "outputId": "be789e28-2fbb-43c3-d7cd-722262d68981"
      },
      "source": [
        "sns.distplot(df['episodes']);"
      ],
      "execution_count": 36,
      "outputs": [
        {
          "output_type": "display_data",
          "data": {
            "image/png": "[encoded data removed]",
            "text/plain": [
              "<Figure size 432x288 with 1 Axes>"
            ]
          },
          "metadata": {
            "tags": []
          }
        }
      ]
    },
    {
      "cell_type": "code",
      "metadata": {
        "pycharm": {
          "is_executing": false,
          "name": "#%%\n"
        },
        "id": "87V97XhqloQ9",
        "colab_type": "code",
        "colab": {
          "base_uri": "https://localhost:8080/",
          "height": 283
        },
        "outputId": "788bc63c-d853-4461-8bd7-6ca738dadc14"
      },
      "source": [
        "bplot = sns.boxplot(x='episodes', \n",
        "                 data=df, \n",
        "                 width=0.5,\n",
        "                 palette=\"colorblind\")"
      ],
      "execution_count": 37,
      "outputs": [
        {
          "output_type": "display_data",
          "data": {
            "image/png": "[encoded data removed]",
            "text/plain": [
              "<Figure size 432x288 with 1 Axes>"
            ]
          },
          "metadata": {
            "tags": []
          }
        }
      ]
    },
    {
      "cell_type": "markdown",
      "metadata": {
        "id": "nnkKgCIUEAUU",
        "colab_type": "text"
      },
      "source": [
        "Besides, the Numerical Features statistical behavior is observed."
      ]
    },
    {
      "cell_type": "code",
      "metadata": {
        "pycharm": {
          "is_executing": false,
          "name": "#%%\n"
        },
        "id": "JCv6SZghloRB",
        "colab_type": "code",
        "colab": {
          "base_uri": "https://localhost:8080/",
          "height": 34
        },
        "outputId": "389f6673-18bb-4ef1-c651-f174e3663d01"
      },
      "source": [
        "print(\"Skewness Episodes: %f\" % df['episodes'].skew())"
      ],
      "execution_count": 38,
      "outputs": [
        {
          "output_type": "stream",
          "text": [
            "Skewness Episodes: 23.277143\n"
          ],
          "name": "stdout"
        }
      ]
    },
    {
      "cell_type": "code",
      "metadata": {
        "pycharm": {
          "is_executing": false,
          "name": "#%%\n"
        },
        "id": "CjAJZ-5wloRF",
        "colab_type": "code",
        "colab": {
          "base_uri": "https://localhost:8080/",
          "height": 34
        },
        "outputId": "b1e511c9-7e62-4372-f0be-ce9af335ef67"
      },
      "source": [
        "print(\"Skewness Rating: %f\" % df['rating'].skew())"
      ],
      "execution_count": 39,
      "outputs": [
        {
          "output_type": "stream",
          "text": [
            "Skewness Rating: -0.538142\n"
          ],
          "name": "stdout"
        }
      ]
    },
    {
      "cell_type": "code",
      "metadata": {
        "pycharm": {
          "is_executing": false,
          "name": "#%%\n"
        },
        "id": "Fu5fC-mfloRK",
        "colab_type": "code",
        "colab": {
          "base_uri": "https://localhost:8080/",
          "height": 34
        },
        "outputId": "33759ba4-4038-4d3b-a406-32db152ce45d"
      },
      "source": [
        "print(\"Skewness Members: %f\" % df['members'].skew())"
      ],
      "execution_count": 40,
      "outputs": [
        {
          "output_type": "stream",
          "text": [
            "Skewness Members: 6.588423\n"
          ],
          "name": "stdout"
        }
      ]
    },
    {
      "cell_type": "markdown",
      "metadata": {
        "pycharm": {
          "name": "#%% md\n"
        },
        "id": "Mnxp6AS1loRP",
        "colab_type": "text"
      },
      "source": [
        "Negative values for the skewness indicate data that are skewed left. Possitive values mean the opposite. By skewed left, we mean that the left tail is long relative to the right tail. \n",
        "\n",
        "When exploring rating, the value is relatively close to zero, the distribution is almost symetrical ( < |0.5|).\n",
        "\n",
        "Features: episodes and members show an important amount of positive skewness."
      ]
    },
    {
      "cell_type": "code",
      "metadata": {
        "pycharm": {
          "is_executing": false,
          "name": "#%%\n"
        },
        "id": "4f33qT0sloRQ",
        "colab_type": "code",
        "colab": {
          "base_uri": "https://localhost:8080/",
          "height": 34
        },
        "outputId": "e0ed428b-742e-4748-d00e-90009dc18879"
      },
      "source": [
        "print(\"Kurtosis Episodes: %f\" % df['episodes'].kurt())"
      ],
      "execution_count": 41,
      "outputs": [
        {
          "output_type": "stream",
          "text": [
            "Kurtosis Episodes: 726.254496\n"
          ],
          "name": "stdout"
        }
      ]
    },
    {
      "cell_type": "code",
      "metadata": {
        "pycharm": {
          "is_executing": false,
          "name": "#%%\n"
        },
        "id": "Wa88Y4LfloRV",
        "colab_type": "code",
        "colab": {
          "base_uri": "https://localhost:8080/",
          "height": 34
        },
        "outputId": "2d640040-7d1f-4ae8-d024-e86a7eebef0c"
      },
      "source": [
        "print(\"Kurtosis Rating: %f\" % df['rating'].kurt())"
      ],
      "execution_count": 42,
      "outputs": [
        {
          "output_type": "stream",
          "text": [
            "Kurtosis Rating: 0.505835\n"
          ],
          "name": "stdout"
        }
      ]
    },
    {
      "cell_type": "code",
      "metadata": {
        "pycharm": {
          "is_executing": false,
          "name": "#%%\n"
        },
        "id": "0J15XehRloRZ",
        "colab_type": "code",
        "colab": {
          "base_uri": "https://localhost:8080/",
          "height": 34
        },
        "outputId": "d0978ead-6906-4eca-83f8-534ecb819756"
      },
      "source": [
        "print(\"Kurtosis Members: %f\" % df['members'].kurt())"
      ],
      "execution_count": 43,
      "outputs": [
        {
          "output_type": "stream",
          "text": [
            "Kurtosis Members: 61.400628\n"
          ],
          "name": "stdout"
        }
      ]
    },
    {
      "cell_type": "markdown",
      "metadata": {
        "pycharm": {
          "name": "#%% md\n"
        },
        "id": "q6NKnqmKloRd",
        "colab_type": "text"
      },
      "source": [
        "Kurtosis is a measure of whether the distribution is too peaked (a very narrow distribution with most of the responses in the center.\n",
        "It means the effect of the tails on the whole distribution contribution.\n",
        "\n",
        "Again, rating shows a value relatively close to zero, which means that the statistical behavior of this feture seems a balanced Gauss bell.\n",
        "\n",
        "Features: episodes and members show a significative amount of kurtosis. "
      ]
    },
    {
      "cell_type": "code",
      "metadata": {
        "pycharm": {
          "name": "#%%\n",
          "is_executing": false
        },
        "id": "PqW7fY2floRe",
        "colab_type": "code",
        "colab": {
          "base_uri": "https://localhost:8080/",
          "height": 34
        },
        "outputId": "68736d7d-c2c5-4e22-fd81-34f60f7f7844"
      },
      "source": [
        "print(\"Dimensions of DataFrame: {}\".format(df.shape))"
      ],
      "execution_count": 44,
      "outputs": [
        {
          "output_type": "stream",
          "text": [
            "Dimensions of DataFrame: (11830, 7)\n"
          ],
          "name": "stdout"
        }
      ]
    },
    {
      "cell_type": "code",
      "metadata": {
        "pycharm": {
          "name": "#%% \n",
          "is_executing": false
        },
        "id": "U2mxaqRQloRo",
        "colab_type": "code",
        "colab": {}
      },
      "source": [
        "#ndf = df.drop(columns=['anime_id','name','genre','type'])\n",
        "#ndf = ndf.pivot(\"episodes\",\"rating\",\"members\")\n",
        "#ax = sns.heatmap(ndf)\n",
        "\n",
        "#flights = sns.load_dataset(\"flights\")\n",
        "#flights = flights.pivot(\"month\", \"year\", \"passengers\")\n",
        "#ax = sns.heatmap(flights)"
      ],
      "execution_count": 0,
      "outputs": []
    },
    {
      "cell_type": "markdown",
      "metadata": {
        "id": "eJjADEtZF8h8",
        "colab_type": "text"
      },
      "source": [
        "###Removing the Outliers."
      ]
    },
    {
      "cell_type": "markdown",
      "metadata": {
        "id": "QI3yWiiUGIji",
        "colab_type": "text"
      },
      "source": [
        "Due to the previous observation of the respective boxplots, it can be seen the pressence of outliers on every Numerical feature. In the following lines of codes, they can be count to decide its effects in the distribution."
      ]
    },
    {
      "cell_type": "markdown",
      "metadata": {
        "id": "a4CmZtBEGy_f",
        "colab_type": "text"
      },
      "source": [
        "We will use Z-score function defined in scipy library to detect the outliers.The Z-score states that the dataset is transformed in a matrix which values more than three standard deviations represent outliers. \n",
        "\n",
        "https://towardsdatascience.com/ways-to-detect-and-remove-the-outliers-404d16608dba"
      ]
    },
    {
      "cell_type": "code",
      "metadata": {
        "pycharm": {
          "name": "#%%\n",
          "is_executing": false
        },
        "id": "S6Pghd9MloRu",
        "colab_type": "code",
        "colab": {
          "base_uri": "https://localhost:8080/",
          "height": 139
        },
        "outputId": "0cf2d7f1-3b93-4650-c366-9cb8cda4544a"
      },
      "source": [
        "from scipy import stats\n",
        "import numpy as np\n",
        "df = df.drop(columns=['anime_id','name','genre','type'])\n",
        "z = np.abs(stats.zscore(df))\n",
        "print(z)"
      ],
      "execution_count": 46,
      "outputs": [
        {
          "output_type": "stream",
          "text": [
            "[[ 0.24390475  2.83130101  3.28918118]\n",
            " [ 1.09381288  2.7233631  13.99975827]\n",
            " [ 0.81777591  2.71355056  1.72932194]\n",
            " ...\n",
            " [ 0.18020391  1.57452817  0.33036483]\n",
            " [ 0.24390475  1.4764028   0.3311595 ]\n",
            " [ 0.24390475  1.00540102  0.3317555 ]]\n"
          ],
          "name": "stdout"
        }
      ]
    },
    {
      "cell_type": "markdown",
      "metadata": {
        "id": "nhliZgmvHOrn",
        "colab_type": "text"
      },
      "source": [
        "Using this line of code, the outliers of the whole dataset are removed as a whole (taking into account every Numerical feature in respect to the others)."
      ]
    },
    {
      "cell_type": "code",
      "metadata": {
        "pycharm": {
          "name": "#%%\n",
          "is_executing": false
        },
        "id": "LWB8wHqeloRy",
        "colab_type": "code",
        "colab": {
          "base_uri": "https://localhost:8080/",
          "height": 206
        },
        "outputId": "3d95746b-23d4-4012-8b28-4fdc34eb8291"
      },
      "source": [
        "df = df[(z < 3).all(axis=1)]\n",
        "df.head()"
      ],
      "execution_count": 47,
      "outputs": [
        {
          "output_type": "execute_result",
          "data": {
            "text/html": [
              "<div>\n",
              "<style scoped>\n",
              "    .dataframe tbody tr th:only-of-type {\n",
              "        vertical-align: middle;\n",
              "    }\n",
              "\n",
              "    .dataframe tbody tr th {\n",
              "        vertical-align: top;\n",
              "    }\n",
              "\n",
              "    .dataframe thead th {\n",
              "        text-align: right;\n",
              "    }\n",
              "</style>\n",
              "<table border=\"1\" class=\"dataframe\">\n",
              "  <thead>\n",
              "    <tr style=\"text-align: right;\">\n",
              "      <th></th>\n",
              "      <th>episodes</th>\n",
              "      <th>rating</th>\n",
              "      <th>members</th>\n",
              "    </tr>\n",
              "  </thead>\n",
              "  <tbody>\n",
              "    <tr>\n",
              "      <th>2</th>\n",
              "      <td>51</td>\n",
              "      <td>9.25</td>\n",
              "      <td>114262</td>\n",
              "    </tr>\n",
              "    <tr>\n",
              "      <th>4</th>\n",
              "      <td>51</td>\n",
              "      <td>9.16</td>\n",
              "      <td>151266</td>\n",
              "    </tr>\n",
              "    <tr>\n",
              "      <th>5</th>\n",
              "      <td>10</td>\n",
              "      <td>9.15</td>\n",
              "      <td>93351</td>\n",
              "    </tr>\n",
              "    <tr>\n",
              "      <th>7</th>\n",
              "      <td>110</td>\n",
              "      <td>9.11</td>\n",
              "      <td>80679</td>\n",
              "    </tr>\n",
              "    <tr>\n",
              "      <th>8</th>\n",
              "      <td>1</td>\n",
              "      <td>9.10</td>\n",
              "      <td>72534</td>\n",
              "    </tr>\n",
              "  </tbody>\n",
              "</table>\n",
              "</div>"
            ],
            "text/plain": [
              "   episodes  rating  members\n",
              "2        51    9.25   114262\n",
              "4        51    9.16   151266\n",
              "5        10    9.15    93351\n",
              "7       110    9.11    80679\n",
              "8         1    9.10    72534"
            ]
          },
          "metadata": {
            "tags": []
          },
          "execution_count": 47
        }
      ]
    },
    {
      "cell_type": "markdown",
      "metadata": {
        "id": "oYYPKnTjHnw3",
        "colab_type": "text"
      },
      "source": [
        "As a result, the new Dataset only loses few rows since the previous operation performed (-3.25%)"
      ]
    },
    {
      "cell_type": "code",
      "metadata": {
        "pycharm": {
          "name": "#%%\n",
          "is_executing": false
        },
        "id": "WhNcYAR3loR2",
        "colab_type": "code",
        "colab": {
          "base_uri": "https://localhost:8080/",
          "height": 34
        },
        "outputId": "90ed3dd9-e1d5-4161-ecaf-d833f57d7e87"
      },
      "source": [
        "print(\"Dimensions of DataFrame: {}\".format(df.shape))\n"
      ],
      "execution_count": 48,
      "outputs": [
        {
          "output_type": "stream",
          "text": [
            "Dimensions of DataFrame: (11446, 3)\n"
          ],
          "name": "stdout"
        }
      ]
    },
    {
      "cell_type": "markdown",
      "metadata": {
        "collapsed": false,
        "pycharm": {
          "name": "#%% md\n"
        },
        "id": "5WB-B3TAloR8",
        "colab_type": "text"
      },
      "source": [
        "###Scatter plots - Relationships between the numerical varibles."
      ]
    },
    {
      "cell_type": "code",
      "metadata": {
        "pycharm": {
          "name": "#%%\n",
          "is_executing": false
        },
        "id": "QfyVqwGAloR-",
        "colab_type": "code",
        "colab": {
          "base_uri": "https://localhost:8080/",
          "height": 312
        },
        "outputId": "92166057-4306-4a73-8d58-85e92c18d760"
      },
      "source": [
        "plt.scatter( df['episodes'], df['rating'], marker='o')\n",
        "plt.title('Rating Vs. Number of Episodes')\n",
        "plt.xlabel('Number of Episodes')\n",
        "plt.ylabel('Rating')"
      ],
      "execution_count": 49,
      "outputs": [
        {
          "output_type": "execute_result",
          "data": {
            "text/plain": [
              "Text(0, 0.5, 'Rating')"
            ]
          },
          "metadata": {
            "tags": []
          },
          "execution_count": 49
        },
        {
          "output_type": "display_data",
          "data": {
            "image/png": "[encoded data removed]",
            "text/plain": [
              "<Figure size 432x288 with 1 Axes>"
            ]
          },
          "metadata": {
            "tags": []
          }
        }
      ]
    },
    {
      "cell_type": "code",
      "metadata": {
        "pycharm": {
          "name": "#%%\n",
          "is_executing": false
        },
        "id": "gKfcIucjloSC",
        "colab_type": "code",
        "colab": {
          "base_uri": "https://localhost:8080/",
          "height": 312
        },
        "outputId": "c0c2c66d-01be-48bc-89f8-e41c494e0aab"
      },
      "source": [
        "plt.scatter(df['members'], df['rating'],marker='o')\n",
        "plt.title('Rating Vs. Number of Members')\n",
        "plt.xlabel('Number of Members')\n",
        "plt.ylabel('Rating')"
      ],
      "execution_count": 50,
      "outputs": [
        {
          "output_type": "execute_result",
          "data": {
            "text/plain": [
              "Text(0, 0.5, 'Rating')"
            ]
          },
          "metadata": {
            "tags": []
          },
          "execution_count": 50
        },
        {
          "output_type": "display_data",
          "data": {
            "image/png": "[encoded data removed]",
            "text/plain": [
              "<Figure size 432x288 with 1 Axes>"
            ]
          },
          "metadata": {
            "tags": []
          }
        }
      ]
    },
    {
      "cell_type": "code",
      "metadata": {
        "pycharm": {
          "name": "#%% \n",
          "is_executing": false
        },
        "id": "CjR18r8PloSJ",
        "colab_type": "code",
        "colab": {}
      },
      "source": [
        "#ndf = df.pivot(\"episodes\", \"members\",\"rating\")\n",
        "#ax = sns.heatmap(ndf,annot=True)\n",
        "\n"
      ],
      "execution_count": 0,
      "outputs": []
    },
    {
      "cell_type": "markdown",
      "metadata": {
        "id": "r9Ao-uoefJlT",
        "colab_type": "text"
      },
      "source": [
        "## kNN algorithm application to modeling the Dataset."
      ]
    },
    {
      "cell_type": "markdown",
      "metadata": {
        "id": "mKcVxzyWfa0o",
        "colab_type": "text"
      },
      "source": [
        "#### https://towardsdatascience.com/building-a-k-nearest-neighbors-k-nn-model-with-scikit-learn-51209555453a"
      ]
    },
    {
      "cell_type": "markdown",
      "metadata": {
        "id": "5XuO9K7Lg153",
        "colab_type": "text"
      },
      "source": [
        "###To apply k-Nearest Neighborg Classification Algorithm to the dataset, it is required to refer to a class label due to its Supervised Learning nature.\n",
        "\n",
        "###\"A supervised learning model takes in a set of input objects and output values. The model then trains on that data to learn how to map the inputs to the desired output so it can learn to make predictions on unseen data.\""
      ]
    },
    {
      "cell_type": "markdown",
      "metadata": {
        "id": "lpMXJezZh7Jz",
        "colab_type": "text"
      },
      "source": [
        "###Because of its nature, the feature selected to make predictions in our dataset is the variable 'rating', so, it is going to be trated as the class label for the model."
      ]
    },
    {
      "cell_type": "code",
      "metadata": {
        "pycharm": {
          "is_executing": false,
          "name": "#%%\n"
        },
        "id": "IuTHt1oXloSV",
        "colab_type": "code",
        "colab": {
          "base_uri": "https://localhost:8080/",
          "height": 206
        },
        "outputId": "3f2d1d44-c8d6-4685-e935-6ac6291ca608"
      },
      "source": [
        "# Add a new column rating class \n",
        "df['Class']=1 #df['rating']\n",
        "df.sample(5)"
      ],
      "execution_count": 53,
      "outputs": [
        {
          "output_type": "execute_result",
          "data": {
            "text/html": [
              "<div>\n",
              "<style scoped>\n",
              "    .dataframe tbody tr th:only-of-type {\n",
              "        vertical-align: middle;\n",
              "    }\n",
              "\n",
              "    .dataframe tbody tr th {\n",
              "        vertical-align: top;\n",
              "    }\n",
              "\n",
              "    .dataframe thead th {\n",
              "        text-align: right;\n",
              "    }\n",
              "</style>\n",
              "<table border=\"1\" class=\"dataframe\">\n",
              "  <thead>\n",
              "    <tr style=\"text-align: right;\">\n",
              "      <th></th>\n",
              "      <th>episodes</th>\n",
              "      <th>rating</th>\n",
              "      <th>members</th>\n",
              "      <th>Class</th>\n",
              "    </tr>\n",
              "  </thead>\n",
              "  <tbody>\n",
              "    <tr>\n",
              "      <th>9836</th>\n",
              "      <td>1</td>\n",
              "      <td>5.31</td>\n",
              "      <td>92</td>\n",
              "      <td>1</td>\n",
              "    </tr>\n",
              "    <tr>\n",
              "      <th>165</th>\n",
              "      <td>1</td>\n",
              "      <td>8.38</td>\n",
              "      <td>21798</td>\n",
              "      <td>1</td>\n",
              "    </tr>\n",
              "    <tr>\n",
              "      <th>8745</th>\n",
              "      <td>1</td>\n",
              "      <td>5.30</td>\n",
              "      <td>112</td>\n",
              "      <td>1</td>\n",
              "    </tr>\n",
              "    <tr>\n",
              "      <th>11175</th>\n",
              "      <td>2</td>\n",
              "      <td>7.22</td>\n",
              "      <td>9633</td>\n",
              "      <td>1</td>\n",
              "    </tr>\n",
              "    <tr>\n",
              "      <th>2053</th>\n",
              "      <td>1</td>\n",
              "      <td>7.37</td>\n",
              "      <td>5705</td>\n",
              "      <td>1</td>\n",
              "    </tr>\n",
              "  </tbody>\n",
              "</table>\n",
              "</div>"
            ],
            "text/plain": [
              "       episodes  rating  members  Class\n",
              "9836          1    5.31       92      1\n",
              "165           1    8.38    21798      1\n",
              "8745          1    5.30      112      1\n",
              "11175         2    7.22     9633      1\n",
              "2053          1    7.37     5705      1"
            ]
          },
          "metadata": {
            "tags": []
          },
          "execution_count": 53
        }
      ]
    },
    {
      "cell_type": "code",
      "metadata": {
        "pycharm": {
          "is_executing": false,
          "name": "#%%\n"
        },
        "id": "x5iF0MQZloSa",
        "colab_type": "code",
        "colab": {}
      },
      "source": [
        "# 1: High\n",
        "# or 0: Low based on rating\n",
        "df.loc[df['rating'] >= df['rating'].mean(), 'Class'] = 1\n",
        "df.loc[df['rating'] < df['rating'].mean(), 'Class'] = 0"
      ],
      "execution_count": 0,
      "outputs": []
    },
    {
      "cell_type": "code",
      "metadata": {
        "pycharm": {
          "is_executing": false,
          "name": "#%%\n"
        },
        "id": "eI1vhcv9loSe",
        "colab_type": "code",
        "colab": {
          "base_uri": "https://localhost:8080/",
          "height": 206
        },
        "outputId": "ea4eeb36-3ce5-49ae-8ad2-c8a263f65318"
      },
      "source": [
        "df.sample(5)"
      ],
      "execution_count": 55,
      "outputs": [
        {
          "output_type": "execute_result",
          "data": {
            "text/html": [
              "<div>\n",
              "<style scoped>\n",
              "    .dataframe tbody tr th:only-of-type {\n",
              "        vertical-align: middle;\n",
              "    }\n",
              "\n",
              "    .dataframe tbody tr th {\n",
              "        vertical-align: top;\n",
              "    }\n",
              "\n",
              "    .dataframe thead th {\n",
              "        text-align: right;\n",
              "    }\n",
              "</style>\n",
              "<table border=\"1\" class=\"dataframe\">\n",
              "  <thead>\n",
              "    <tr style=\"text-align: right;\">\n",
              "      <th></th>\n",
              "      <th>episodes</th>\n",
              "      <th>rating</th>\n",
              "      <th>members</th>\n",
              "      <th>Class</th>\n",
              "    </tr>\n",
              "  </thead>\n",
              "  <tbody>\n",
              "    <tr>\n",
              "      <th>7730</th>\n",
              "      <td>1</td>\n",
              "      <td>5.09</td>\n",
              "      <td>444</td>\n",
              "      <td>0</td>\n",
              "    </tr>\n",
              "    <tr>\n",
              "      <th>5395</th>\n",
              "      <td>12</td>\n",
              "      <td>6.47</td>\n",
              "      <td>51323</td>\n",
              "      <td>1</td>\n",
              "    </tr>\n",
              "    <tr>\n",
              "      <th>10323</th>\n",
              "      <td>1</td>\n",
              "      <td>4.73</td>\n",
              "      <td>64</td>\n",
              "      <td>0</td>\n",
              "    </tr>\n",
              "    <tr>\n",
              "      <th>1621</th>\n",
              "      <td>1</td>\n",
              "      <td>7.48</td>\n",
              "      <td>6442</td>\n",
              "      <td>1</td>\n",
              "    </tr>\n",
              "    <tr>\n",
              "      <th>9046</th>\n",
              "      <td>1</td>\n",
              "      <td>5.70</td>\n",
              "      <td>286</td>\n",
              "      <td>0</td>\n",
              "    </tr>\n",
              "  </tbody>\n",
              "</table>\n",
              "</div>"
            ],
            "text/plain": [
              "       episodes  rating  members  Class\n",
              "7730          1    5.09      444      0\n",
              "5395         12    6.47    51323      1\n",
              "10323         1    4.73       64      0\n",
              "1621          1    7.48     6442      1\n",
              "9046          1    5.70      286      0"
            ]
          },
          "metadata": {
            "tags": []
          },
          "execution_count": 55
        }
      ]
    },
    {
      "cell_type": "code",
      "metadata": {
        "pycharm": {
          "is_executing": false,
          "name": "#%%\n"
        },
        "id": "4NKeG2n3loSi",
        "colab_type": "code",
        "colab": {
          "base_uri": "https://localhost:8080/",
          "height": 104
        },
        "outputId": "eb7b2638-cdab-4cd0-a320-ba730cdfc3da"
      },
      "source": [
        "print(df.dtypes)"
      ],
      "execution_count": 56,
      "outputs": [
        {
          "output_type": "stream",
          "text": [
            "episodes      int64\n",
            "rating      float64\n",
            "members       int64\n",
            "Class         int64\n",
            "dtype: object\n"
          ],
          "name": "stdout"
        }
      ]
    },
    {
      "cell_type": "markdown",
      "metadata": {
        "id": "kxvoq1w_ffN3",
        "colab_type": "text"
      },
      "source": [
        "### Split up the dataset into inputs (X) and target (y)\n",
        "\n",
        "### Drop the Categorical features as well as the class label (rating)"
      ]
    },
    {
      "cell_type": "code",
      "metadata": {
        "pycharm": {
          "is_executing": false,
          "name": "#%% \n"
        },
        "id": "TkzqjsDuloSn",
        "colab_type": "code",
        "colab": {}
      },
      "source": [
        "#X = df.drop(columns=['anime_id','name','genre','type','rating','Class'])\n",
        "X = df.drop(columns=['rating','Class'])"
      ],
      "execution_count": 0,
      "outputs": []
    },
    {
      "cell_type": "code",
      "metadata": {
        "pycharm": {
          "is_executing": false,
          "name": "#%%\n"
        },
        "id": "_qX49w_JloSq",
        "colab_type": "code",
        "colab": {
          "base_uri": "https://localhost:8080/",
          "height": 206
        },
        "outputId": "d19dec0f-de8b-46d4-cde5-01436e3d3dc4"
      },
      "source": [
        "X.head()"
      ],
      "execution_count": 58,
      "outputs": [
        {
          "output_type": "execute_result",
          "data": {
            "text/html": [
              "<div>\n",
              "<style scoped>\n",
              "    .dataframe tbody tr th:only-of-type {\n",
              "        vertical-align: middle;\n",
              "    }\n",
              "\n",
              "    .dataframe tbody tr th {\n",
              "        vertical-align: top;\n",
              "    }\n",
              "\n",
              "    .dataframe thead th {\n",
              "        text-align: right;\n",
              "    }\n",
              "</style>\n",
              "<table border=\"1\" class=\"dataframe\">\n",
              "  <thead>\n",
              "    <tr style=\"text-align: right;\">\n",
              "      <th></th>\n",
              "      <th>episodes</th>\n",
              "      <th>members</th>\n",
              "    </tr>\n",
              "  </thead>\n",
              "  <tbody>\n",
              "    <tr>\n",
              "      <th>2</th>\n",
              "      <td>51</td>\n",
              "      <td>114262</td>\n",
              "    </tr>\n",
              "    <tr>\n",
              "      <th>4</th>\n",
              "      <td>51</td>\n",
              "      <td>151266</td>\n",
              "    </tr>\n",
              "    <tr>\n",
              "      <th>5</th>\n",
              "      <td>10</td>\n",
              "      <td>93351</td>\n",
              "    </tr>\n",
              "    <tr>\n",
              "      <th>7</th>\n",
              "      <td>110</td>\n",
              "      <td>80679</td>\n",
              "    </tr>\n",
              "    <tr>\n",
              "      <th>8</th>\n",
              "      <td>1</td>\n",
              "      <td>72534</td>\n",
              "    </tr>\n",
              "  </tbody>\n",
              "</table>\n",
              "</div>"
            ],
            "text/plain": [
              "   episodes  members\n",
              "2        51   114262\n",
              "4        51   151266\n",
              "5        10    93351\n",
              "7       110    80679\n",
              "8         1    72534"
            ]
          },
          "metadata": {
            "tags": []
          },
          "execution_count": 58
        }
      ]
    },
    {
      "cell_type": "markdown",
      "metadata": {
        "id": "mfXNCWdPfwvp",
        "colab_type": "text"
      },
      "source": [
        "##Normalization"
      ]
    },
    {
      "cell_type": "markdown",
      "metadata": {
        "id": "Sk3KoOx2il3P",
        "colab_type": "text"
      },
      "source": [
        "###kNN and almost any classification algorithm is very sensitive to values ranges due to the distance based, so it is required to normalize the numerical features. "
      ]
    },
    {
      "cell_type": "markdown",
      "metadata": {
        "id": "4PX4s_g0jAxJ",
        "colab_type": "text"
      },
      "source": [
        "For the possitive nature of the values related to the features in real life, it makes sense to use mim-max normalization. "
      ]
    },
    {
      "cell_type": "code",
      "metadata": {
        "pycharm": {
          "is_executing": false,
          "name": "#%%\n"
        },
        "id": "tirnWOUkloSv",
        "colab_type": "code",
        "colab": {
          "base_uri": "https://localhost:8080/",
          "height": 206
        },
        "outputId": "45cfb71d-f40c-4473-e1a1-b3cf00ff420d"
      },
      "source": [
        "#from sklearn import preprocessing\n",
        "\n",
        "#x = df.values #returns a numpy array\n",
        "#min_max_scaler = preprocessing.MinMaxScaler()\n",
        "#x_scaled = min_max_scaler.fit_transform(x)\n",
        "#df = pandas.DataFrame(x_scaled)\n",
        "\n",
        "#https://stackoverflow.com/questions/26414913/normalize-columns-of-pandas-data-frame\n",
        "#X=(X-X.mean())/X.std()\n",
        "X=(X-X.min())/(X.max()-X.min())\n",
        "X.head()"
      ],
      "execution_count": 59,
      "outputs": [
        {
          "output_type": "execute_result",
          "data": {
            "text/html": [
              "<div>\n",
              "<style scoped>\n",
              "    .dataframe tbody tr th:only-of-type {\n",
              "        vertical-align: middle;\n",
              "    }\n",
              "\n",
              "    .dataframe tbody tr th {\n",
              "        vertical-align: top;\n",
              "    }\n",
              "\n",
              "    .dataframe thead th {\n",
              "        text-align: right;\n",
              "    }\n",
              "</style>\n",
              "<table border=\"1\" class=\"dataframe\">\n",
              "  <thead>\n",
              "    <tr style=\"text-align: right;\">\n",
              "      <th></th>\n",
              "      <th>episodes</th>\n",
              "      <th>members</th>\n",
              "    </tr>\n",
              "  </thead>\n",
              "  <tbody>\n",
              "    <tr>\n",
              "      <th>2</th>\n",
              "      <td>0.328947</td>\n",
              "      <td>0.619187</td>\n",
              "    </tr>\n",
              "    <tr>\n",
              "      <th>4</th>\n",
              "      <td>0.328947</td>\n",
              "      <td>0.819742</td>\n",
              "    </tr>\n",
              "    <tr>\n",
              "      <th>5</th>\n",
              "      <td>0.059211</td>\n",
              "      <td>0.505853</td>\n",
              "    </tr>\n",
              "    <tr>\n",
              "      <th>7</th>\n",
              "      <td>0.717105</td>\n",
              "      <td>0.437173</td>\n",
              "    </tr>\n",
              "    <tr>\n",
              "      <th>8</th>\n",
              "      <td>0.000000</td>\n",
              "      <td>0.393029</td>\n",
              "    </tr>\n",
              "  </tbody>\n",
              "</table>\n",
              "</div>"
            ],
            "text/plain": [
              "   episodes   members\n",
              "2  0.328947  0.619187\n",
              "4  0.328947  0.819742\n",
              "5  0.059211  0.505853\n",
              "7  0.717105  0.437173\n",
              "8  0.000000  0.393029"
            ]
          },
          "metadata": {
            "tags": []
          },
          "execution_count": 59
        }
      ]
    },
    {
      "cell_type": "markdown",
      "metadata": {
        "id": "y0RRJHsejhTQ",
        "colab_type": "text"
      },
      "source": [
        "###Separate the target values (class associated)"
      ]
    },
    {
      "cell_type": "code",
      "metadata": {
        "pycharm": {
          "is_executing": false,
          "name": "#%%\n"
        },
        "id": "y1kYK8cJloSz",
        "colab_type": "code",
        "colab": {}
      },
      "source": [
        "y = df['Class']"
      ],
      "execution_count": 0,
      "outputs": []
    },
    {
      "cell_type": "markdown",
      "metadata": {
        "id": "5je1TlQCjxxi",
        "colab_type": "text"
      },
      "source": [
        "### Inspect the target values nature"
      ]
    },
    {
      "cell_type": "code",
      "metadata": {
        "pycharm": {
          "is_executing": false,
          "name": "#%%\n"
        },
        "id": "gVOpV5iHloS0",
        "colab_type": "code",
        "colab": {
          "base_uri": "https://localhost:8080/",
          "height": 449
        },
        "outputId": "3710cf25-bea7-48d4-ffc8-390c888f955c"
      },
      "source": [
        "df['Class'].hist(bins=3,figsize=(9,7),grid=False)"
      ],
      "execution_count": 88,
      "outputs": [
        {
          "output_type": "execute_result",
          "data": {
            "text/plain": [
              "<matplotlib.axes._subplots.AxesSubplot at 0x7fda7070bda0>"
            ]
          },
          "metadata": {
            "tags": []
          },
          "execution_count": 88
        },
        {
          "output_type": "display_data",
          "data": {
            "image/png": "[encoded data removed]",
            "text/plain": [
              "<Figure size 648x504 with 1 Axes>"
            ]
          },
          "metadata": {
            "tags": []
          }
        }
      ]
    },
    {
      "cell_type": "code",
      "metadata": {
        "pycharm": {
          "is_executing": false,
          "name": "#%%\n"
        },
        "id": "XoGOW0ccloS2",
        "colab_type": "code",
        "colab": {
          "base_uri": "https://localhost:8080/",
          "height": 121
        },
        "outputId": "4eea89c1-e061-4c75-bb3a-d8b93eece760"
      },
      "source": [
        "y.sample(5)"
      ],
      "execution_count": 62,
      "outputs": [
        {
          "output_type": "execute_result",
          "data": {
            "text/plain": [
              "9070     0\n",
              "9649     1\n",
              "10378    1\n",
              "4978     1\n",
              "3468     1\n",
              "Name: Class, dtype: int64"
            ]
          },
          "metadata": {
            "tags": []
          },
          "execution_count": 62
        }
      ]
    },
    {
      "cell_type": "code",
      "metadata": {
        "pycharm": {
          "is_executing": false,
          "name": "#%%\n"
        },
        "id": "5s8GOLkDloS6",
        "colab_type": "code",
        "colab": {
          "base_uri": "https://localhost:8080/",
          "height": 173
        },
        "outputId": "b10b6d08-0f92-484f-b606-e80d3e308456"
      },
      "source": [
        "y.describe()"
      ],
      "execution_count": 63,
      "outputs": [
        {
          "output_type": "execute_result",
          "data": {
            "text/plain": [
              "count    11446.000000\n",
              "mean         0.540538\n",
              "std          0.498376\n",
              "min          0.000000\n",
              "25%          0.000000\n",
              "50%          1.000000\n",
              "75%          1.000000\n",
              "max          1.000000\n",
              "Name: Class, dtype: float64"
            ]
          },
          "metadata": {
            "tags": []
          },
          "execution_count": 63
        }
      ]
    },
    {
      "cell_type": "markdown",
      "metadata": {
        "pycharm": {
          "name": "#%% md\n"
        },
        "id": "djmbd_FrloS9",
        "colab_type": "text"
      },
      "source": [
        "##Split the dataset into train and test data"
      ]
    },
    {
      "cell_type": "code",
      "metadata": {
        "pycharm": {
          "is_executing": false,
          "name": "#%%\n"
        },
        "id": "qnfO6bjmloS9",
        "colab_type": "code",
        "colab": {}
      },
      "source": [
        "from sklearn.model_selection import train_test_split"
      ],
      "execution_count": 0,
      "outputs": []
    },
    {
      "cell_type": "code",
      "metadata": {
        "pycharm": {
          "is_executing": false,
          "name": "#%%\n"
        },
        "id": "Q3hkFpVFloS_",
        "colab_type": "code",
        "colab": {}
      },
      "source": [
        "#split dataset into train and test data\n",
        "X_train, X_test, y_train, y_test = train_test_split(X, y, test_size=0.2, random_state=1, stratify=y)"
      ],
      "execution_count": 0,
      "outputs": []
    },
    {
      "cell_type": "markdown",
      "metadata": {
        "id": "-qrFDxOpnhch",
        "colab_type": "text"
      },
      "source": [
        "####This means that 20% of all the data will be used for testing, which leaves 80% of the data as training data for the model to learn from. Setting ‘random_state’ to 1 ensures that we get the same split each time so we can reproduce our results.\n",
        "\n",
        "####Setting ‘stratify’ to y makes our training split represent the proportion of each value in the y variable. For example, in our dataset, if 25% of ratings are high and 75% are low, setting ‘stratify’ to y will ensure that the random split has 25% of ratings will be high and 75% will be low. But in or case, the split point (mean of y) is close to 50%."
      ]
    },
    {
      "cell_type": "markdown",
      "metadata": {
        "pycharm": {
          "name": "#%% md\n"
        },
        "id": "bLdwFdG7loTM",
        "colab_type": "text"
      },
      "source": [
        "##Building and training the model"
      ]
    },
    {
      "cell_type": "code",
      "metadata": {
        "pycharm": {
          "is_executing": false,
          "name": "#%%\n"
        },
        "id": "M_p4rJ0lloTO",
        "colab_type": "code",
        "colab": {}
      },
      "source": [
        "from sklearn.neighbors import KNeighborsClassifier# Create KNN classifier"
      ],
      "execution_count": 0,
      "outputs": []
    },
    {
      "cell_type": "code",
      "metadata": {
        "pycharm": {
          "is_executing": false,
          "name": "#%%\n"
        },
        "id": "wowUz1RDloTQ",
        "colab_type": "code",
        "colab": {
          "base_uri": "https://localhost:8080/",
          "height": 69
        },
        "outputId": "b36af737-4fda-4d33-8925-d595c8909dd4"
      },
      "source": [
        "knn = KNeighborsClassifier(n_neighbors = 3)# Fit the classifier to the data\n",
        "knn.fit(X_train,y_train)"
      ],
      "execution_count": 67,
      "outputs": [
        {
          "output_type": "execute_result",
          "data": {
            "text/plain": [
              "KNeighborsClassifier(algorithm='auto', leaf_size=30, metric='minkowski',\n",
              "                     metric_params=None, n_jobs=None, n_neighbors=3, p=2,\n",
              "                     weights='uniform')"
            ]
          },
          "metadata": {
            "tags": []
          },
          "execution_count": 67
        }
      ]
    },
    {
      "cell_type": "markdown",
      "metadata": {
        "pycharm": {
          "name": "#%% md\n"
        },
        "id": "0Enmpq0GloTU",
        "colab_type": "text"
      },
      "source": [
        "##Testing the model"
      ]
    },
    {
      "cell_type": "code",
      "metadata": {
        "pycharm": {
          "is_executing": false,
          "name": "#%%\n"
        },
        "id": "yySrT7uhloTU",
        "colab_type": "code",
        "colab": {
          "base_uri": "https://localhost:8080/",
          "height": 34
        },
        "outputId": "0b56b690-84c2-4c99-8323-814157998fb3"
      },
      "source": [
        "#show first 5 model predictions on the test data\n",
        "knn.predict(X_test)[0:5]"
      ],
      "execution_count": 68,
      "outputs": [
        {
          "output_type": "execute_result",
          "data": {
            "text/plain": [
              "array([1, 1, 0, 0, 1])"
            ]
          },
          "metadata": {
            "tags": []
          },
          "execution_count": 68
        }
      ]
    },
    {
      "cell_type": "markdown",
      "metadata": {
        "id": "pffBJu3foqiQ",
        "colab_type": "text"
      },
      "source": [
        "###We can see that the model predicted ‘high rating’ for the first 2 and 5th animes in the test set and ‘low rating' for the 3rd and 4th anime."
      ]
    },
    {
      "cell_type": "markdown",
      "metadata": {
        "id": "yENg6-JXkbFW",
        "colab_type": "text"
      },
      "source": [
        "##Check accuracy of our model on the test data"
      ]
    },
    {
      "cell_type": "code",
      "metadata": {
        "pycharm": {
          "is_executing": false,
          "name": "#%%\n"
        },
        "id": "os3cGfMsloTX",
        "colab_type": "code",
        "colab": {
          "base_uri": "https://localhost:8080/",
          "height": 34
        },
        "outputId": "88f16386-0644-42ae-ad5d-291d951556ab"
      },
      "source": [
        "knn.score(X_test, y_test)"
      ],
      "execution_count": 69,
      "outputs": [
        {
          "output_type": "execute_result",
          "data": {
            "text/plain": [
              "0.7410480349344978"
            ]
          },
          "metadata": {
            "tags": []
          },
          "execution_count": 69
        }
      ]
    },
    {
      "cell_type": "markdown",
      "metadata": {
        "id": "qnhKq9XApTUt",
        "colab_type": "text"
      },
      "source": [
        "### Our model has an accuracy of approximately 74.10%. Which gives us a good start, but we will see how we can increase model performance following the steps below."
      ]
    },
    {
      "cell_type": "markdown",
      "metadata": {
        "pycharm": {
          "name": "#%% md\n"
        },
        "id": "Z5phSMdDloTZ",
        "colab_type": "text"
      },
      "source": [
        "##k-Fold Cross-Validation"
      ]
    },
    {
      "cell_type": "code",
      "metadata": {
        "pycharm": {
          "is_executing": false,
          "name": "#%%\n"
        },
        "id": "Mr2AORsXloTa",
        "colab_type": "code",
        "colab": {}
      },
      "source": [
        "from sklearn.model_selection import cross_val_score\n",
        "import numpy as np #create a new KNN model"
      ],
      "execution_count": 0,
      "outputs": []
    },
    {
      "cell_type": "code",
      "metadata": {
        "pycharm": {
          "is_executing": false,
          "name": "#%%\n"
        },
        "id": "LYco_i5bloTf",
        "colab_type": "code",
        "colab": {}
      },
      "source": [
        "knn_cv = KNeighborsClassifier(n_neighbors=3) #train model with cv of 5 "
      ],
      "execution_count": 0,
      "outputs": []
    },
    {
      "cell_type": "markdown",
      "metadata": {
        "id": "7xgdAwKtkwMK",
        "colab_type": "text"
      },
      "source": [
        "## CV score (accuracy) and the average of them"
      ]
    },
    {
      "cell_type": "code",
      "metadata": {
        "pycharm": {
          "is_executing": false,
          "name": "#%%\n"
        },
        "id": "X9sCz4P7loTg",
        "colab_type": "code",
        "colab": {
          "base_uri": "https://localhost:8080/",
          "height": 52
        },
        "outputId": "baaa71ca-e133-4485-d5ce-9f5be1c42e06"
      },
      "source": [
        "cv_scores = cross_val_score(knn_cv, X, y, cv=5) #print each cv score (accuracy) and average them\n",
        "print(cv_scores)\n",
        "print('cv_scores mean:{}'.format(np.mean(cv_scores)))"
      ],
      "execution_count": 72,
      "outputs": [
        {
          "output_type": "stream",
          "text": [
            "[0.72358079 0.77816594 0.76059415 0.6286588  0.52272727]\n",
            "cv_scores mean:0.6827453893008159\n"
          ],
          "name": "stdout"
        }
      ]
    },
    {
      "cell_type": "markdown",
      "metadata": {
        "id": "1Hs2ifptqBwM",
        "colab_type": "text"
      },
      "source": [
        "###Using cross-validation, our mean score is about 68.27%. This is a more accurate representation of how our model will perform on **unseen data** than our earlier testing using the holdout method."
      ]
    },
    {
      "cell_type": "markdown",
      "metadata": {
        "pycharm": {
          "name": "#%% md\n"
        },
        "id": "RiT7caxQloTj",
        "colab_type": "text"
      },
      "source": [
        "##Hypertuning model parameters using GridSearchCV"
      ]
    },
    {
      "cell_type": "markdown",
      "metadata": {
        "id": "qVwzGgmmqbvj",
        "colab_type": "text"
      },
      "source": [
        "### Hypertuning parameters is when you go through a process to find the optimal parameters for your model to improve accuracy. In our case, we will use GridSearchCV to find the optimal value for ‘n_neighbors’."
      ]
    },
    {
      "cell_type": "code",
      "metadata": {
        "pycharm": {
          "is_executing": false,
          "name": "#%%\n"
        },
        "id": "hXqUEi7mloTk",
        "colab_type": "code",
        "colab": {}
      },
      "source": [
        "from sklearn.model_selection import GridSearchCV"
      ],
      "execution_count": 0,
      "outputs": []
    },
    {
      "cell_type": "code",
      "metadata": {
        "pycharm": {
          "is_executing": false,
          "name": "#%%\n"
        },
        "id": "NaNLTa4-loTm",
        "colab_type": "code",
        "colab": {}
      },
      "source": [
        "#create new a knn model\n",
        "knn2 = KNeighborsClassifier()"
      ],
      "execution_count": 0,
      "outputs": []
    },
    {
      "cell_type": "code",
      "metadata": {
        "pycharm": {
          "is_executing": false,
          "name": "#%%\n"
        },
        "id": "ZUQmpNb6loTo",
        "colab_type": "code",
        "colab": {}
      },
      "source": [
        "#create a dictionary of all values we want to test for n_neighbors\n",
        "param_grid = {'n_neighbors': np.arange(1, 40)}"
      ],
      "execution_count": 0,
      "outputs": []
    },
    {
      "cell_type": "code",
      "metadata": {
        "pycharm": {
          "is_executing": false,
          "name": "#%%\n"
        },
        "id": "kiNp4Y4tloTp",
        "colab_type": "code",
        "colab": {}
      },
      "source": [
        "#use gridsearch to test all values for n_neighbors\n",
        "knn_gscv = GridSearchCV(knn2, param_grid, cv=5)"
      ],
      "execution_count": 0,
      "outputs": []
    },
    {
      "cell_type": "code",
      "metadata": {
        "pycharm": {
          "is_executing": false,
          "name": "#%%\n"
        },
        "id": "wQXZsxc6loTr",
        "colab_type": "code",
        "colab": {
          "base_uri": "https://localhost:8080/",
          "height": 225
        },
        "outputId": "c492ae59-b143-498c-9935-5bd27bc159a0"
      },
      "source": [
        "#fit model to data\n",
        "knn_gscv.fit(X, y)"
      ],
      "execution_count": 77,
      "outputs": [
        {
          "output_type": "execute_result",
          "data": {
            "text/plain": [
              "GridSearchCV(cv=5, error_score='raise-deprecating',\n",
              "             estimator=KNeighborsClassifier(algorithm='auto', leaf_size=30,\n",
              "                                            metric='minkowski',\n",
              "                                            metric_params=None, n_jobs=None,\n",
              "                                            n_neighbors=5, p=2,\n",
              "                                            weights='uniform'),\n",
              "             iid='warn', n_jobs=None,\n",
              "             param_grid={'n_neighbors': array([ 1,  2,  3,  4,  5,  6,  7,  8,  9, 10, 11, 12, 13, 14, 15, 16, 17,\n",
              "       18, 19, 20, 21, 22, 23, 24, 25, 26, 27, 28, 29, 30, 31, 32, 33, 34,\n",
              "       35, 36, 37, 38, 39])},\n",
              "             pre_dispatch='2*n_jobs', refit=True, return_train_score=False,\n",
              "             scoring=None, verbose=0)"
            ]
          },
          "metadata": {
            "tags": []
          },
          "execution_count": 77
        }
      ]
    },
    {
      "cell_type": "markdown",
      "metadata": {
        "id": "Rah2Fdy_lEkw",
        "colab_type": "text"
      },
      "source": [
        "##Check top performing n_neighbors value"
      ]
    },
    {
      "cell_type": "markdown",
      "metadata": {
        "id": "Uf8LPts9qujM",
        "colab_type": "text"
      },
      "source": [
        "###After training, we can check which of our values for ‘n_neighbors’ that we tested performed the best. To do this, we will call ‘best_params_’ on our model."
      ]
    },
    {
      "cell_type": "code",
      "metadata": {
        "pycharm": {
          "is_executing": false,
          "name": "#%%\n"
        },
        "id": "79DQ_u98loTu",
        "colab_type": "code",
        "colab": {
          "base_uri": "https://localhost:8080/",
          "height": 34
        },
        "outputId": "7d2d77df-a983-4890-879f-98a117eaa393"
      },
      "source": [
        "knn_gscv.best_params_"
      ],
      "execution_count": 78,
      "outputs": [
        {
          "output_type": "execute_result",
          "data": {
            "text/plain": [
              "{'n_neighbors': 30}"
            ]
          },
          "metadata": {
            "tags": []
          },
          "execution_count": 78
        }
      ]
    },
    {
      "cell_type": "markdown",
      "metadata": {
        "id": "5w5Cs8DcrCnP",
        "colab_type": "text"
      },
      "source": [
        "### As we can see, 30 is the optimal value for ‘n_neighbors’. \n",
        "\n",
        "### We can use the ‘best_score_’ function to check the accuracy of our model when ‘n_neighbors’ is 30.\n",
        "\n",
        "### ‘best_score_’ outputs the mean accuracy of the scores obtained through cross-validation."
      ]
    },
    {
      "cell_type": "markdown",
      "metadata": {
        "id": "_SbVw-7IlMVb",
        "colab_type": "text"
      },
      "source": [
        "## Check mean score for the top performing value of n_neighbors"
      ]
    },
    {
      "cell_type": "code",
      "metadata": {
        "pycharm": {
          "is_executing": false,
          "name": "#%%\n"
        },
        "id": "UTYvz5nGloTw",
        "colab_type": "code",
        "colab": {
          "base_uri": "https://localhost:8080/",
          "height": 34
        },
        "outputId": "89ae80d7-d516-46a0-bf17-4ea3c8150f3d"
      },
      "source": [
        "knn_gscv.best_score_\n"
      ],
      "execution_count": 79,
      "outputs": [
        {
          "output_type": "execute_result",
          "data": {
            "text/plain": [
              "0.7349292329197973"
            ]
          },
          "metadata": {
            "tags": []
          },
          "execution_count": 79
        }
      ]
    },
    {
      "cell_type": "markdown",
      "metadata": {
        "id": "tIiWmpzZrvOC",
        "colab_type": "text"
      },
      "source": [
        "###Our model now, gives us an accuracy of 73.50% to be able to predict when new data is used."
      ]
    },
    {
      "cell_type": "markdown",
      "metadata": {
        "collapsed": false,
        "pycharm": {
          "name": "#%% md\n"
        },
        "id": "EGimAYknloTz",
        "colab_type": "text"
      },
      "source": [
        "## Confusion Matrix (get the predictions using the classifier which was fitted above)"
      ]
    },
    {
      "cell_type": "code",
      "metadata": {
        "pycharm": {
          "name": "#%%\n",
          "is_executing": false
        },
        "id": "V1ljBRL8loT0",
        "colab_type": "code",
        "colab": {
          "base_uri": "https://localhost:8080/",
          "height": 175
        },
        "outputId": "a25e07d8-ed93-4640-8094-f8fcfa5bf2be"
      },
      "source": [
        "#https://www.kaggle.com/amolbhivarkar/knn-for-classification-using-scikit-learn\n",
        "\n",
        "#import confusion_matrix\n",
        "from sklearn.metrics import confusion_matrix\n",
        "#let us get the predictions using the classifier we had fit above\n",
        "y_pred = knn.predict(X_test)\n",
        "pd.crosstab(y_test, y_pred, rownames=['True'], colnames=['Predicted'], margins=True)"
      ],
      "execution_count": 80,
      "outputs": [
        {
          "output_type": "execute_result",
          "data": {
            "text/html": [
              "<div>\n",
              "<style scoped>\n",
              "    .dataframe tbody tr th:only-of-type {\n",
              "        vertical-align: middle;\n",
              "    }\n",
              "\n",
              "    .dataframe tbody tr th {\n",
              "        vertical-align: top;\n",
              "    }\n",
              "\n",
              "    .dataframe thead th {\n",
              "        text-align: right;\n",
              "    }\n",
              "</style>\n",
              "<table border=\"1\" class=\"dataframe\">\n",
              "  <thead>\n",
              "    <tr style=\"text-align: right;\">\n",
              "      <th>Predicted</th>\n",
              "      <th>0</th>\n",
              "      <th>1</th>\n",
              "      <th>All</th>\n",
              "    </tr>\n",
              "    <tr>\n",
              "      <th>True</th>\n",
              "      <th></th>\n",
              "      <th></th>\n",
              "      <th></th>\n",
              "    </tr>\n",
              "  </thead>\n",
              "  <tbody>\n",
              "    <tr>\n",
              "      <th>0</th>\n",
              "      <td>769</td>\n",
              "      <td>283</td>\n",
              "      <td>1052</td>\n",
              "    </tr>\n",
              "    <tr>\n",
              "      <th>1</th>\n",
              "      <td>310</td>\n",
              "      <td>928</td>\n",
              "      <td>1238</td>\n",
              "    </tr>\n",
              "    <tr>\n",
              "      <th>All</th>\n",
              "      <td>1079</td>\n",
              "      <td>1211</td>\n",
              "      <td>2290</td>\n",
              "    </tr>\n",
              "  </tbody>\n",
              "</table>\n",
              "</div>"
            ],
            "text/plain": [
              "Predicted     0     1   All\n",
              "True                       \n",
              "0           769   283  1052\n",
              "1           310   928  1238\n",
              "All        1079  1211  2290"
            ]
          },
          "metadata": {
            "tags": []
          },
          "execution_count": 80
        }
      ]
    },
    {
      "cell_type": "markdown",
      "metadata": {
        "id": "_M71CPWfslos",
        "colab_type": "text"
      },
      "source": [
        "### The confusion matrix describes the performance of a classification model (or \"classifier\") on a set of test data for which the true values are known.\n",
        "\n",
        "### For, it can be appreciated that the rate of True Positives is 75%. It means, that the porbability of classifying a False Positive (missclassify) is about 25%"
      ]
    },
    {
      "cell_type": "markdown",
      "metadata": {
        "collapsed": false,
        "pycharm": {
          "name": "#%% md\n"
        },
        "id": "LSX4KWM5loT2",
        "colab_type": "text"
      },
      "source": [
        "## Classification report"
      ]
    },
    {
      "cell_type": "code",
      "metadata": {
        "pycharm": {
          "name": "#%%\n",
          "is_executing": false
        },
        "id": "4OwoLbLMloT3",
        "colab_type": "code",
        "colab": {
          "base_uri": "https://localhost:8080/",
          "height": 173
        },
        "outputId": "7480f2b1-860a-414a-e52f-4c90a2865711"
      },
      "source": [
        "#import classification_report\n",
        "from sklearn.metrics import classification_report\n",
        "print(classification_report(y_test,y_pred))\n"
      ],
      "execution_count": 81,
      "outputs": [
        {
          "output_type": "stream",
          "text": [
            "              precision    recall  f1-score   support\n",
            "\n",
            "           0       0.71      0.73      0.72      1052\n",
            "           1       0.77      0.75      0.76      1238\n",
            "\n",
            "    accuracy                           0.74      2290\n",
            "   macro avg       0.74      0.74      0.74      2290\n",
            "weighted avg       0.74      0.74      0.74      2290\n",
            "\n"
          ],
          "name": "stdout"
        }
      ]
    },
    {
      "cell_type": "markdown",
      "metadata": {
        "id": "wXyMVfrKmQOH",
        "colab_type": "text"
      },
      "source": [
        "### The classification report shows a representation of the main classification metrics (precision, recall, f1-score, support) on a per-class basis. \n",
        "\n",
        "### This gives a deeper intuition of the classifier behavior over global accuracy which can mask functional weaknesses in one class of a multiclass problem. \n",
        "\n",
        "### For the model, the visual classification reports that it has stronger classification metrics which are balanced.\n",
        "\n"
      ]
    },
    {
      "cell_type": "markdown",
      "metadata": {
        "collapsed": false,
        "pycharm": {
          "name": "#%% md\n"
        },
        "id": "nlJ2kBV4loT5",
        "colab_type": "text"
      },
      "source": [
        "## ROC (Receiver Operating Characteristic) curve"
      ]
    },
    {
      "cell_type": "markdown",
      "metadata": {
        "collapsed": false,
        "pycharm": {
          "name": "#%% md\n"
        },
        "id": "1v7m7IiKloT6",
        "colab_type": "text"
      },
      "source": [
        "https://www.kaggle.com/amolbhivarkar/knn-for-classification-using-scikit-learn\n"
      ]
    },
    {
      "cell_type": "code",
      "metadata": {
        "pycharm": {
          "name": "#%%\n",
          "is_executing": false
        },
        "id": "Hrw0GhIvloT7",
        "colab_type": "code",
        "colab": {
          "base_uri": "https://localhost:8080/",
          "height": 295
        },
        "outputId": "3f5a1b93-5f89-4a5d-8aa1-37071270f820"
      },
      "source": [
        "y_pred_proba = knn.predict_proba(X_test)[:,1]\n",
        "from sklearn.metrics import roc_curve\n",
        "fpr, tpr, thresholds = roc_curve(y_test, y_pred_proba)\n",
        "plt.plot([0,1],[0,1],'r--')\n",
        "plt.plot(fpr,tpr, label='Knn, AUC: 0.78')\n",
        "plt.legend()\n",
        "plt.xlabel('False Positive Rate')\n",
        "plt.ylabel('True Positive Rate')\n",
        "plt.title('Knn(n_neighbors=30) ROC curve')\n",
        "plt.show()"
      ],
      "execution_count": 82,
      "outputs": [
        {
          "output_type": "display_data",
          "data": {
            "image/png": "[encoded data removed]",
            "text/plain": [
              "<Figure size 432x288 with 1 Axes>"
            ]
          },
          "metadata": {
            "tags": []
          }
        }
      ]
    },
    {
      "cell_type": "code",
      "metadata": {
        "pycharm": {
          "name": "#%%\n",
          "is_executing": false
        },
        "id": "kRlWfqfUloT9",
        "colab_type": "code",
        "colab": {
          "base_uri": "https://localhost:8080/",
          "height": 34
        },
        "outputId": "80494753-3b82-4e8b-8894-6e040f6cc8b2"
      },
      "source": [
        "#Area under ROC curve\n",
        "from sklearn.metrics import roc_auc_score\n",
        "roc_auc_score(y_test,y_pred_proba)"
      ],
      "execution_count": 83,
      "outputs": [
        {
          "output_type": "execute_result",
          "data": {
            "text/plain": [
              "0.7846643365663987"
            ]
          },
          "metadata": {
            "tags": []
          },
          "execution_count": 83
        }
      ]
    },
    {
      "cell_type": "markdown",
      "metadata": {
        "id": "YxXto5yHt1Qb",
        "colab_type": "text"
      },
      "source": [
        "### The ROC curve demonstrates several things:\n",
        "\n",
        "### 1) It shows the tradeoff between sensitivity and specificity (any increase in sensitivity will be accompanied by a decrease in specificity).\n",
        "\n",
        "### 2) The closer the curve follows the left-hand border and then the top border of the ROC space, the more accurate the test.\n",
        "\n",
        "### 3)The closer the curve comes to the 45-degree diagonal of the ROC space, the less accurate the test.\n",
        "\n",
        "### 4) The area under the curve is a measure of test accuracy. For our model, it represents 78.47%"
      ]
    },
    {
      "cell_type": "markdown",
      "metadata": {
        "id": "rM6_zpAjum7k",
        "colab_type": "text"
      },
      "source": [
        "## Complexity Curve / Validation Curve"
      ]
    },
    {
      "cell_type": "code",
      "metadata": {
        "pycharm": {
          "name": "#%%\n",
          "is_executing": false
        },
        "id": "Vt3wshnGloUA",
        "colab_type": "code",
        "colab": {}
      },
      "source": [
        "#import KNeighborsClassifier\n",
        "from sklearn.neighbors import KNeighborsClassifier\n",
        "\n",
        "#Setup arrays to store training and test accuracies\n",
        "neighbors = np.arange(1,40)\n",
        "train_accuracy =np.empty(len(neighbors))\n",
        "test_accuracy = np.empty(len(neighbors))\n",
        "\n",
        "for i,k in enumerate(neighbors):\n",
        "    #Setup a knn classifier with k neighbors\n",
        "    knn = KNeighborsClassifier(n_neighbors=k)\n",
        "    \n",
        "    #Fit the model\n",
        "    knn.fit(X_train, y_train)\n",
        "    \n",
        "    #Compute accuracy on the training set\n",
        "    train_accuracy[i] = knn.score(X_train, y_train)\n",
        "    \n",
        "    #Compute accuracy on the test set\n",
        "    test_accuracy[i] = knn.score(X_test, y_test) "
      ],
      "execution_count": 0,
      "outputs": []
    },
    {
      "cell_type": "code",
      "metadata": {
        "pycharm": {
          "name": "#%%\n",
          "is_executing": false
        },
        "id": "1KgVZh5aloUB",
        "colab_type": "code",
        "colab": {
          "base_uri": "https://localhost:8080/",
          "height": 295
        },
        "outputId": "877cdd86-4358-464e-c375-68c4d0dacba9"
      },
      "source": [
        "#Generate plot\n",
        "plt.title('k-NN Varying number of neighbors/Complexity Curve/Validation Curve')\n",
        "plt.plot(neighbors, test_accuracy, label='Testing Accuracy/Cross-validation score')\n",
        "plt.plot(neighbors, train_accuracy, label='Training accuracy/Training score')\n",
        "plt.legend()\n",
        "plt.xlabel('Number of neighbors')\n",
        "plt.ylabel('Accuracy')\n",
        "plt.show()"
      ],
      "execution_count": 85,
      "outputs": [
        {
          "output_type": "display_data",
          "data": {
            "image/png": "[encoded data removed]",
            "text/plain": [
              "<Figure size 432x288 with 1 Axes>"
            ]
          },
          "metadata": {
            "tags": []
          }
        }
      ]
    },
    {
      "cell_type": "markdown",
      "metadata": {
        "id": "Is3H7FgkvPwZ",
        "colab_type": "text"
      },
      "source": [
        "\n",
        "### We can observe above that we get maximum testing accuracy for k=30. \n",
        "\n",
        "### So, the KNeighborsClassifier with number of neighbors as 30, offers the best tunning for the model to generate accuracy predictions.\n",
        "\n",
        "### We can see in the resulting visualization that a with number of neighbors less than 10 severely underfits the model on this data set because the training score and testing score climb together in this parameter range, and because of the high variability of cross validation on the test scores.\n",
        "\n",
        "###  After k=30, the training and test scores converge, this is because from this value on, the model is beginning to overfit the training data, providing no generalizability to the model. \n",
        "\n",
        "### However, because the cross validation score does not necessarily decrease, the model is not suffering from high error due to variance."
      ]
    },
    {
      "cell_type": "markdown",
      "metadata": {
        "collapsed": false,
        "pycharm": {
          "name": "#%% md\n"
        },
        "id": "F-4U0e6IloUE",
        "colab_type": "text"
      },
      "source": [
        "## Learning Curve"
      ]
    },
    {
      "cell_type": "code",
      "metadata": {
        "pycharm": {
          "name": "#%%\n",
          "is_executing": false
        },
        "id": "Z9g9f0f_loUF",
        "colab_type": "code",
        "colab": {
          "base_uri": "https://localhost:8080/",
          "height": 297
        },
        "outputId": "861b2a3d-15d4-491c-e528-21b2ee51a00e"
      },
      "source": [
        "#https://chrisalbon.com/machine_learning/model_evaluation/plot_the_learning_curve/\n",
        "# Create CV training and test scores for various training set sizes\n",
        "from sklearn.model_selection import learning_curve\n",
        "train_sizes, train_scores, test_scores = learning_curve(KNeighborsClassifier(), \n",
        "                                                        X, \n",
        "                                                        y,\n",
        "                                                        # Number of folds in cross-validation\n",
        "                                                        cv=10,\n",
        "                                                        # Evaluation metric\n",
        "                                                        scoring='accuracy',\n",
        "                                                        # Use all computer cores\n",
        "                                                        n_jobs=-1, \n",
        "                                                        # 50 different sizes of the training set\n",
        "                                                        train_sizes=np.linspace(0.01, 1.0, 50))\n",
        "\n",
        "# Create means and standard deviations of training set scores\n",
        "train_mean = np.mean(train_scores, axis=1)\n",
        "train_std = np.std(train_scores, axis=1)\n",
        "\n",
        "# Create means and standard deviations of test set scores\n",
        "test_mean = np.mean(test_scores, axis=1)\n",
        "test_std = np.std(test_scores, axis=1)\n",
        "\n",
        "# Draw lines\n",
        "plt.plot(train_sizes, train_mean, '--', color=\"blue\",  label=\"Training score\")\n",
        "plt.plot(train_sizes, test_mean, color=\"red\", label=\"Cross-validation score\")\n",
        "\n",
        "# Draw bands\n",
        "plt.fill_between(train_sizes, train_mean - train_std, train_mean + train_std, color=\"#7fbfbf\")\n",
        "plt.fill_between(train_sizes, test_mean - test_std, test_mean + test_std, color=\"#DDDDDD\")\n",
        "\n",
        "# Create plot\n",
        "plt.title(\"Learning Curve\")\n",
        "plt.xlabel(\"Training Set Size\"), plt.ylabel(\"Accuracy Score\"), plt.legend(loc=\"best\")\n",
        "plt.tight_layout()\n",
        "plt.show()"
      ],
      "execution_count": 89,
      "outputs": [
        {
          "output_type": "display_data",
          "data": {
            "image/png": "[encoded data removed]",
            "text/plain": [
              "<Figure size 432x288 with 1 Axes>"
            ]
          },
          "metadata": {
            "tags": []
          }
        }
      ]
    },
    {
      "cell_type": "markdown",
      "metadata": {
        "id": "vUlKb8iyxiVh",
        "colab_type": "text"
      },
      "source": [
        "### A learning curve shows the relationship of the training score vs the cross validated test score for an estimator with a varying number of training samples. This visualization is typically used two show two things:\n",
        "\n",
        "### - How much the estimator benefits from more data (e.g. do we have “enough data” or will the estimator get better if used in an online fashion).\n",
        "\n",
        "### - If the estimator is more sensitive to error due to variance vs. error due to bias.\n",
        "\n",
        "### Due to the training and cross validation scores converge together as more data is added, then the model will probably not benefit from more data addition. It means that is can produce the same predictions only with a dataset with dimensions of 6'000 rows of data. \n",
        "\n",
        "### It is important to mention that, the curves are plotted with the mean scores, however variability during cross-validation is shown with the shaded areas that represent a standard deviation above and below the mean for all cross-validations. \n",
        "\n",
        "### Moreover, if the model suffers from error due to bias, then there will likely be more variability around the training score curve. If the model suffers from error due to variance, then there will be more variability around the cross validated score."
      ]
    }
  ]
}